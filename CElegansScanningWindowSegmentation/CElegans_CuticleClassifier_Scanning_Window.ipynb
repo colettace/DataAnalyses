{
 "cells": [
  {
   "cell_type": "markdown",
   "metadata": {},
   "source": [
    "# Part 0.1: Software Versions Used"
   ]
  },
  {
   "cell_type": "code",
   "execution_count": 1,
   "metadata": {
    "collapsed": false
   },
   "outputs": [
    {
     "data": {
      "text/plain": [
       "'1.9.3'"
      ]
     },
     "execution_count": 1,
     "metadata": {},
     "output_type": "execute_result"
    }
   ],
   "source": [
    "import numpy as np; np.__version__"
   ]
  },
  {
   "cell_type": "code",
   "execution_count": 2,
   "metadata": {
    "collapsed": false
   },
   "outputs": [
    {
     "name": "stdout",
     "output_type": "stream",
     "text": [
      "0.16.0\n"
     ]
    }
   ],
   "source": [
    "import scipy; print scipy.__version__"
   ]
  },
  {
   "cell_type": "code",
   "execution_count": 3,
   "metadata": {
    "collapsed": true
   },
   "outputs": [],
   "source": [
    "%matplotlib inline"
   ]
  },
  {
   "cell_type": "code",
   "execution_count": 4,
   "metadata": {
    "collapsed": false
   },
   "outputs": [
    {
     "name": "stdout",
     "output_type": "stream",
     "text": [
      "1.4.3\n"
     ]
    }
   ],
   "source": [
    "import matplotlib; print matplotlib.__version__"
   ]
  },
  {
   "cell_type": "code",
   "execution_count": 5,
   "metadata": {
    "collapsed": false
   },
   "outputs": [
    {
     "name": "stdout",
     "output_type": "stream",
     "text": [
      "0.16.1\n"
     ]
    }
   ],
   "source": [
    "import sklearn; print sklearn.__version__"
   ]
  },
  {
   "cell_type": "code",
   "execution_count": 6,
   "metadata": {
    "collapsed": false
   },
   "outputs": [
    {
     "name": "stdout",
     "output_type": "stream",
     "text": [
      "4.0.0\n"
     ]
    }
   ],
   "source": [
    "import IPython; print IPython.__version__"
   ]
  },
  {
   "cell_type": "code",
   "execution_count": 7,
   "metadata": {
    "collapsed": false
   },
   "outputs": [
    {
     "name": "stdout",
     "output_type": "stream",
     "text": [
      "1.0.0\n"
     ]
    }
   ],
   "source": [
    "import jupyter; print jupyter.__version__"
   ]
  },
  {
   "cell_type": "markdown",
   "metadata": {},
   "source": [
    "## WND-CHARM version used"
   ]
  },
  {
   "cell_type": "code",
   "execution_count": 8,
   "metadata": {
    "collapsed": false
   },
   "outputs": [
    {
     "name": "stdout",
     "output_type": "stream",
     "text": [
      "0.9.10\n"
     ]
    }
   ],
   "source": [
    "import wndcharm; print wndcharm.__version__"
   ]
  },
  {
   "cell_type": "markdown",
   "metadata": {},
   "source": [
    "# Part 0.2: Current data"
   ]
  },
  {
   "cell_type": "code",
   "execution_count": 9,
   "metadata": {
    "collapsed": false
   },
   "outputs": [
    {
     "data": {
      "text/plain": [
       "u'/Users/colettace/projects/new_worm_bodypart_heatmap/cuticle_classifier'"
      ]
     },
     "execution_count": 9,
     "metadata": {},
     "output_type": "execute_result"
    }
   ],
   "source": [
    "pwd"
   ]
  },
  {
   "cell_type": "code",
   "execution_count": 10,
   "metadata": {
    "collapsed": false
   },
   "outputs": [
    {
     "name": "stdout",
     "output_type": "stream",
     "text": [
      "CElegans_CuticleClassifier_Scanning_Window.ipynb  TrainAllTestSubsetN25.txt                         out.fit\r\n",
      "CuticleTrainedClassifier.fit                      generate_sliding_window_features.py               \u001b[34mtrainingset1\u001b[m\u001b[m/\r\n",
      "\u001b[31mParseHTML.pl\u001b[m\u001b[m*                                     \u001b[34mold_analyses\u001b[m\u001b[m/                                     \u001b[34mtrainingset2\u001b[m\u001b[m/\r\n"
     ]
    }
   ],
   "source": [
    "ls"
   ]
  },
  {
   "cell_type": "code",
   "execution_count": 11,
   "metadata": {
    "collapsed": false
   },
   "outputs": [
    {
     "name": "stdout",
     "output_type": "stream",
     "text": [
      "/Users/colettace/projects/new_worm_bodypart_heatmap/cuticle_classifier/trainingset2\n"
     ]
    }
   ],
   "source": [
    "cd trainingset2/"
   ]
  },
  {
   "cell_type": "code",
   "execution_count": 12,
   "metadata": {
    "collapsed": true
   },
   "outputs": [],
   "source": [
    "import matplotlib.pyplot as plt\n",
    "import matplotlib.cm as cm"
   ]
  },
  {
   "cell_type": "code",
   "execution_count": 13,
   "metadata": {
    "collapsed": true
   },
   "outputs": [],
   "source": [
    "num_example_imgs_per_class = 3"
   ]
  },
  {
   "cell_type": "code",
   "execution_count": 14,
   "metadata": {
    "collapsed": false
   },
   "outputs": [],
   "source": [
    "from os import walk\n",
    "from os.path import sep\n",
    "root, dirs, files = walk('.').next()\n",
    "example_files = []\n",
    "for _dir in dirs:\n",
    "    if _dir.startswith( '.'):\n",
    "        continue\n",
    "    sub_root, sub_dirs, sub_files = walk( _dir ).next()\n",
    "    sub_files = [ _ for _ in sub_files if _.endswith( (\".tif\", \".tiff\", \".TIF\", \".TIFF\" ) ) ]\n",
    "    for i in xrange( num_example_imgs_per_class ):\n",
    "        img_path = sub_root + sep + sub_files[i]\n",
    "        example_files.append( img_path )"
   ]
  },
  {
   "cell_type": "code",
   "execution_count": 15,
   "metadata": {
    "collapsed": true
   },
   "outputs": [],
   "source": [
    "i = 0"
   ]
  },
  {
   "cell_type": "code",
   "execution_count": 24,
   "metadata": {
    "collapsed": false
   },
   "outputs": [
    {
     "name": "stdout",
     "output_type": "stream",
     "text": [
      "moreGray/Day1_070000-1_003.tif\n"
     ]
    },
    {
     "data": {
      "image/png": "[encoded data removed]",
      "text/plain": [
       "<matplotlib.figure.Figure at 0x10f99fcd0>"
      ]
     },
     "metadata": {},
     "output_type": "display_data"
    }
   ],
   "source": [
    "img_path = example_files[i]\n",
    "print img_path\n",
    "img = plt.imread( img_path )\n",
    "plt.imshow( img, cmap=cm.Greys_r, interpolation='none')\n",
    "i += 1"
   ]
  },
  {
   "cell_type": "markdown",
   "metadata": {},
   "source": [
    "# Section 1: Standard WND-CHARM Analysis"
   ]
  },
  {
   "cell_type": "code",
   "execution_count": 25,
   "metadata": {
    "collapsed": true
   },
   "outputs": [],
   "source": [
    "from wndcharm.FeatureSpace import FeatureSpace"
   ]
  },
  {
   "cell_type": "code",
   "execution_count": 26,
   "metadata": {
    "collapsed": false
   },
   "outputs": [
    {
     "name": "stdout",
     "output_type": "stream",
     "text": [
      "LOADED FEATURE SPACE FROM WND-CHARM .fit FILE out.fit: <FeatureSpace \"out.fit\" n_features=2919 n_total_samples=1502 n_samples_per_group=1 n_classes=3 samples_per_class=(\"moreBody\": 533, \"moreCuticle\": 580, \"moreGray\": 389)>\n"
     ]
    }
   ],
   "source": [
    "#fs = FeatureSpace.NewFromDirectory( '.', long=True, quiet=True )\n",
    "#fs = FeatureSpace.NewFromFileOfFiles( 'fof.tsv', long=True, quiet=True )\n",
    "fs = FeatureSpace.NewFromFitFile( 'out.fit')"
   ]
  },
  {
   "cell_type": "markdown",
   "metadata": {},
   "source": [
    "## Section 1.1: Training accuracy (\"fit-on-fit\")"
   ]
  },
  {
   "cell_type": "code",
   "execution_count": 27,
   "metadata": {
    "collapsed": false
   },
   "outputs": [],
   "source": [
    "from wndcharm.FeatureWeights import FisherFeatureWeights"
   ]
  },
  {
   "cell_type": "code",
   "execution_count": 28,
   "metadata": {
    "collapsed": false
   },
   "outputs": [
    {
     "name": "stdout",
     "output_type": "stream",
     "text": [
      "NORMALIZED FEATURES AGAINST SELF FOR FEATURE SPACE: <FeatureSpace \"out.fit\" n_features=2919 n_total_samples=1502 n_samples_per_group=1 n_classes=3 samples_per_class=(\"moreBody\": 533, \"moreCuticle\": 580, \"moreGray\": 389)>\n"
     ]
    }
   ],
   "source": [
    "fs_norm = fs.Normalize( inplace=False )"
   ]
  },
  {
   "cell_type": "code",
   "execution_count": 29,
   "metadata": {
    "collapsed": false
   },
   "outputs": [],
   "source": [
    "fw = FisherFeatureWeights.NewFromFeatureSpace( fs_norm).Threshold( _all=True )"
   ]
  },
  {
   "cell_type": "code",
   "execution_count": 30,
   "metadata": {
    "collapsed": false
   },
   "outputs": [
    {
     "name": "stdout",
     "output_type": "stream",
     "text": [
      "FisherFeatureWeights (2919 features)\n",
      "Rank\tValue\tName\n",
      "====\t=====\t====\n",
      "1\t38.704486\tZernike Coefficients (Fourier ()) [20]\n",
      "2\t32.278101\tHaralick Textures (Fourier ()) [8]\n",
      "3\t30.962991\tZernike Coefficients (Fourier ()) [49]\n",
      "4\t30.573888\tHaralick Textures (Fourier ()) [22]\n",
      "5\t30.128843\tHaralick Textures (Chebyshev (Fourier ())) [10]\n",
      "6\t29.315145\tZernike Coefficients (Fourier ()) [12]\n",
      "7\t28.112983\tHaralick Textures (Fourier ()) [10]\n",
      "8\t26.542998\tHaralick Textures (Chebyshev (Fourier ())) [0]\n",
      "9\t24.849628\tZernike Coefficients (Fourier ()) [64]\n",
      "10\t23.427565\tHaralick Textures (Fourier ()) [18]\n",
      "<output truncated by user via \"display\" arg, 2909 more feature weights>\n"
     ]
    }
   ],
   "source": [
    "fw.Print(10)"
   ]
  },
  {
   "cell_type": "code",
   "execution_count": 31,
   "metadata": {
    "collapsed": false,
    "scrolled": true
   },
   "outputs": [
    {
     "name": "stdout",
     "output_type": "stream",
     "text": [
      "FisherFeatureWeights (2919 features)\n",
      "Rank\tValue\tName\n",
      "====\t=====\t====\n",
      "1\t38.704486\tZernike Coefficients (Fourier ()) [20]\n",
      "2\t32.278101\tHaralick Textures (Fourier ()) [8]\n",
      "3\t30.962991\tZernike Coefficients (Fourier ()) [49]\n",
      "4\t30.573888\tHaralick Textures (Fourier ()) [22]\n",
      "5\t30.128843\tHaralick Textures (Chebyshev (Fourier ())) [10]\n",
      "6\t29.315145\tZernike Coefficients (Fourier ()) [12]\n",
      "7\t28.112983\tHaralick Textures (Fourier ()) [10]\n",
      "8\t26.542998\tHaralick Textures (Chebyshev (Fourier ())) [0]\n",
      "9\t24.849628\tZernike Coefficients (Fourier ()) [64]\n",
      "10\t23.427565\tHaralick Textures (Fourier ()) [18]\n",
      "11\t22.497717\tZernike Coefficients (Fourier ()) [30]\n",
      "12\t20.983096\tZernike Coefficients (Fourier ()) [26]\n",
      "13\t17.885480\tZernike Coefficients (Fourier ()) [37]\n",
      "14\t16.946825\tZernike Coefficients (Fourier ()) [58]\n",
      "15\t16.642873\tZernike Coefficients (Fourier ()) [13]\n",
      "16\t15.679896\tZernike Coefficients (Fourier ()) [6]\n",
      "17\t14.889053\tHaralick Textures (Chebyshev (Fourier ())) [22]\n",
      "18\t14.812823\tZernike Coefficients (Fourier ()) [7]\n",
      "19\t14.204818\tZernike Coefficients (Fourier ()) [0]\n",
      "20\t13.674066\tHaralick Textures (Fourier ()) [20]\n",
      "21\t13.297668\tHaralick Textures (Chebyshev (Fourier ())) [8]\n",
      "22\t12.975059\tHaralick Textures (Edge ()) [12]\n",
      "23\t12.923016\tZernike Coefficients (Fourier ()) [66]\n",
      "24\t12.455916\tHaralick Textures (Fourier ()) [12]\n",
      "25\t12.324021\tEdge Features () [24]\n",
      "26\t12.140616\tHaralick Textures (Fourier (Chebyshev ())) [10]\n",
      "27\t11.732547\tZernike Coefficients (Fourier ()) [42]\n",
      "28\t11.438361\tHaralick Textures (Edge ()) [22]\n",
      "29\t11.295002\tZernike Coefficients (Fourier ()) [17]\n",
      "30\t11.270972\tHaralick Textures (Wavelet ()) [18]\n",
      "31\t10.930536\tZernike Coefficients (Fourier ()) [2]\n",
      "32\t10.880387\tZernike Coefficients (Fourier ()) [36]\n",
      "33\t10.660420\tHaralick Textures (Chebyshev (Fourier ())) [18]\n",
      "34\t10.263039\tHaralick Textures (Chebyshev (Fourier ())) [20]\n",
      "35\t10.223675\tZernike Coefficients (Fourier ()) [44]\n",
      "36\t10.155735\tHaralick Textures (Wavelet (Fourier ())) [8]\n",
      "37\t9.912439\tHaralick Textures () [4]\n",
      "38\t9.445953\tHaralick Textures (Chebyshev (Fourier ())) [14]\n",
      "39\t9.442032\tHaralick Textures (Wavelet ()) [27]\n",
      "40\t9.286481\tHaralick Textures (Chebyshev (Fourier ())) [1]\n",
      "41\t9.168355\tHaralick Textures (Fourier ()) [14]\n",
      "42\t9.089645\tHaralick Textures () [9]\n",
      "43\t8.974368\tHaralick Textures (Wavelet ()) [24]\n",
      "44\t8.974177\tHaralick Textures (Wavelet ()) [26]\n",
      "45\t8.922331\tZernike Coefficients (Fourier ()) [32]\n",
      "46\t8.808809\tHaralick Textures (Fourier (Chebyshev ())) [0]\n",
      "47\t8.783104\tHaralick Textures (Chebyshev ()) [18]\n",
      "48\t8.719922\tHaralick Textures () [12]\n",
      "49\t8.700544\tHaralick Textures (Chebyshev (Fourier ())) [15]\n",
      "50\t8.693242\tHaralick Textures (Wavelet (Fourier ())) [12]\n",
      "<output truncated by user via \"display\" arg, 2869 more feature weights>\n"
     ]
    }
   ],
   "source": [
    "fw.Print(50)"
   ]
  },
  {
   "cell_type": "code",
   "execution_count": 32,
   "metadata": {
    "collapsed": true
   },
   "outputs": [],
   "source": [
    "reduced_fw = fw.Threshold()"
   ]
  },
  {
   "cell_type": "code",
   "execution_count": 33,
   "metadata": {
    "collapsed": false
   },
   "outputs": [
    {
     "data": {
      "text/plain": [
       "<FisherFeatureWeights n_features=437 feat0=\"Zernike Coefficients (Fourier ()) [20]\" val0=38.7044858121>"
      ]
     },
     "execution_count": 33,
     "metadata": {},
     "output_type": "execute_result"
    }
   ],
   "source": [
    "reduced_fw"
   ]
  },
  {
   "cell_type": "code",
   "execution_count": 34,
   "metadata": {
    "collapsed": false
   },
   "outputs": [
    {
     "name": "stdout",
     "output_type": "stream",
     "text": [
      "FEATURE-REDUCED FEATURE SPACE (orig len 2919) <FeatureSpace \"out.fit (feature reduced)\" n_features=437 n_total_samples=1502 n_samples_per_group=1 n_classes=3 samples_per_class=(\"moreBody\": 533, \"moreCuticle\": 580, \"moreGray\": 389)>:'\n"
     ]
    }
   ],
   "source": [
    "reduced_fs = fs_norm.FeatureReduce( reduced_fw, inplace=False )"
   ]
  },
  {
   "cell_type": "code",
   "execution_count": 35,
   "metadata": {
    "collapsed": true
   },
   "outputs": [],
   "source": [
    "from wndcharm.FeatureSpacePrediction import FeatureSpaceClassification"
   ]
  },
  {
   "cell_type": "code",
   "execution_count": 36,
   "metadata": {
    "collapsed": false
   },
   "outputs": [],
   "source": [
    "table1_1 = FeatureSpaceClassification.NewWND5( reduced_fs, reduced_fs, reduced_fw, quiet=True, name=\"Table 1-1: Fit on Fit\" )"
   ]
  },
  {
   "cell_type": "code",
   "execution_count": 37,
   "metadata": {
    "collapsed": false
   },
   "outputs": [
    {
     "name": "stdout",
     "output_type": "stream",
     "text": [
      "==================================================\n",
      "FeatureSpaceClassification \"Table 1-1: Fit on Fit\" (1502 classifications)\n",
      "1485/1502 correct = 98.87%\n",
      "\n",
      "\n",
      "Confusion Matrix:\n",
      "           \tmoreBody\tmoreCuticle\tmoreGray\t|\ttotal\tacc.\n",
      "           \t--------\t-----------\t--------\t|\t-----\t----\n",
      "moreBody\t519\t13\t1\t|\t533\t97.37%\n",
      "moreCuticle\t3\t577\t0\t|\t580\t99.48%\n",
      "moreGray\t0\t0\t389\t|\t389\t100.00%\n",
      "\n",
      "Similarity Matrix:\n",
      "           \tmoreBody\tmoreCuticle\tmoreGray\n",
      "           \t--------\t-----------\t--------\n",
      "moreBody\t1.00\t0.10\t0.00\t\n",
      "moreCuticle\t0.04\t1.00\t0.00\t\n",
      "moreGray\t0.00\t0.00\t1.00\t\n",
      "\n",
      "Average Class Probability Matrix:\n",
      "           \tmoreBody\tmoreCuticle\tmoreGray\n",
      "           \t--------\t-----------\t--------\n",
      "moreBody\t0.9068\t0.0913\t0.0019\t\n",
      "moreCuticle\t0.0362\t0.9638\t0.0000\t\n",
      "moreGray\t0.0012\t0.0000\t0.9988\t\n",
      "\n"
     ]
    }
   ],
   "source": [
    "table1_1.Print()"
   ]
  },
  {
   "cell_type": "markdown",
   "metadata": {},
   "source": [
    "## Section 1.2: Cross-validation WITHOUT LDA"
   ]
  },
  {
   "cell_type": "code",
   "execution_count": 38,
   "metadata": {
    "collapsed": true
   },
   "outputs": [],
   "source": [
    "from wndcharm.FeatureSpacePredictionExperiment import FeatureSpaceClassificationExperiment"
   ]
  },
  {
   "cell_type": "code",
   "execution_count": 39,
   "metadata": {
    "collapsed": false
   },
   "outputs": [
    {
     "name": "stdout",
     "output_type": "stream",
     "text": [
      "iter\tsplit class acc.\n",
      "0\t1.0\n",
      "1\t0.989795918367\n",
      "2\t0.989795918367\n",
      "3\t0.986394557823\n",
      "4\t0.986394557823\n",
      "5\t0.986394557823\n",
      "6\t0.996598639456\n",
      "7\t0.986394557823\n",
      "8\t0.989795918367\n",
      "9\t0.982993197279\n",
      "10\t0.97619047619\n",
      "11\t0.993197278912\n",
      "12\t0.989795918367\n",
      "13\t0.989795918367\n",
      "14\t0.993197278912\n",
      "15\t0.986394557823\n",
      "16\t0.993197278912\n",
      "17\t0.996598639456\n",
      "18\t0.982993197279\n",
      "19\t0.986394557823\n",
      "20\t0.993197278912\n",
      "21\t0.986394557823\n",
      "22\t0.993197278912\n",
      "23\t0.989795918367\n",
      "24\t0.996598639456\n",
      "25\t0.989795918367\n",
      "26\t0.993197278912\n",
      "27\t0.989795918367\n",
      "28\t0.996598639456\n",
      "29\t0.982993197279\n",
      "30\t0.986394557823\n",
      "31\t0.986394557823\n",
      "32\t0.993197278912\n",
      "33\t0.996598639456\n",
      "34\t0.996598639456\n",
      "35\t0.986394557823\n",
      "36\t0.979591836735\n",
      "37\t0.986394557823\n",
      "38\t0.993197278912\n",
      "39\t0.996598639456\n",
      "40\t0.97619047619\n",
      "41\t0.996598639456\n",
      "42\t0.989795918367\n",
      "43\t0.993197278912\n",
      "44\t0.969387755102\n",
      "45\t0.982993197279\n",
      "46\t0.982993197279\n",
      "47\t0.986394557823\n",
      "48\t0.986394557823\n",
      "49\t0.993197278912\n",
      "50\t0.993197278912\n",
      "51\t0.993197278912\n",
      "52\t0.986394557823\n",
      "53\t0.989795918367\n",
      "54\t0.989795918367\n",
      "55\t0.986394557823\n",
      "56\t0.97619047619\n",
      "57\t0.986394557823\n",
      "58\t0.993197278912\n",
      "59\t0.993197278912\n",
      "60\t0.986394557823\n",
      "61\t0.993197278912\n",
      "62\t0.996598639456\n",
      "63\t0.996598639456\n",
      "64\t0.993197278912\n",
      "65\t0.993197278912\n",
      "66\t0.993197278912\n",
      "67\t0.989795918367\n",
      "68\t0.996598639456\n",
      "69\t0.982993197279\n",
      "70\t0.979591836735\n",
      "71\t0.986394557823\n",
      "72\t0.979591836735\n",
      "73\t0.986394557823\n",
      "74\t0.986394557823\n",
      "75\t0.989795918367\n",
      "76\t1.0\n",
      "77\t0.993197278912\n",
      "78\t0.986394557823\n",
      "79\t0.989795918367\n",
      "80\t0.993197278912\n",
      "81\t0.993197278912\n",
      "82\t0.982993197279\n",
      "83\t0.993197278912\n",
      "84\t0.982993197279\n",
      "85\t0.986394557823\n",
      "86\t1.0\n",
      "87\t0.989795918367\n",
      "88\t0.989795918367\n",
      "89\t0.986394557823\n",
      "90\t0.993197278912\n",
      "91\t0.97619047619\n",
      "92\t0.989795918367\n",
      "93\t1.0\n",
      "94\t0.979591836735\n",
      "95\t0.986394557823\n",
      "96\t0.996598639456\n",
      "97\t0.989795918367\n",
      "98\t0.982993197279\n",
      "99\t0.982993197279\n"
     ]
    }
   ],
   "source": [
    "exp = FeatureSpaceClassificationExperiment.NewShuffleSplit( fs, n_iter=100, random_state=42 )"
   ]
  },
  {
   "cell_type": "code",
   "execution_count": 40,
   "metadata": {
    "collapsed": false
   },
   "outputs": [
    {
     "name": "stdout",
     "output_type": "stream",
     "text": [
      "==================================================\n",
      "FeatureSpaceClassificationExperiment \"out.fit (sorted)\" (100 iterations)\n",
      "29081/29400 correct = 98.91 +/- 0.12% w/ 95% conf. (normal approx. interval)\n",
      "\n",
      "\n",
      "Confusion Matrix:\n",
      "           \tmoreBody\tmoreCuticle\tmoreGray\t|\ttotal\tacc.\n",
      "           \t--------\t-----------\t--------\t|\t-----\t----\n",
      "moreBody\t9544\t227\t29\t|\t9800\t97.39%\n",
      "moreCuticle\t55\t9745\t0\t|\t9800\t99.44%\n",
      "moreGray\t8\t0\t9792\t|\t9800\t99.92%\n",
      "\n",
      "\n",
      "Similarity Matrix:\n",
      "           \tmoreBody\tmoreCuticle\tmoreGray\n",
      "           \t--------\t-----------\t--------\n",
      "moreBody\t1.00\t0.10\t0.00\t\n",
      "moreCuticle\t0.04\t1.00\t0.00\t\n",
      "moreGray\t0.00\t0.00\t1.00\t\n",
      "\n",
      "\n",
      "Average Class Probability Matrix:\n",
      "           \tmoreBody\tmoreCuticle\tmoreGray\n",
      "           \t--------\t-----------\t--------\n",
      "moreBody\t0.9101\t0.0869\t0.0030\t\n",
      "moreCuticle\t0.0374\t0.9626\t0.0000\t\n",
      "moreGray\t0.0017\t0.0000\t0.9983\t\n",
      "\n",
      "\n",
      "Feature Weight Analysis (top 20 features):\n",
      "Rank\tmean\tcount\tStdDev\tMin\tMax\tName\n",
      "----\t----\t-----\t------\t---\t---\t----\n",
      "1\t39.514\t100\t2.691\t35.297\t52.552\tZernike Coefficients (Fourier ()) [20]\n",
      "2\t31.431\t100\t1.599\t28.494\t35.103\tHaralick Textures (Fourier ()) [8]\n",
      "3\t29.903\t100\t2.075\t26.272\t38.407\tZernike Coefficients (Fourier ()) [49]\n",
      "4\t29.723\t100\t1.593\t27.308\t34.315\tHaralick Textures (Fourier ()) [22]\n",
      "5\t29.257\t100\t1.815\t24.973\t34.499\tHaralick Textures (Chebyshev (Fourier ())) [10]\n",
      "6\t28.893\t100\t1.407\t26.058\t34.022\tZernike Coefficients (Fourier ()) [12]\n",
      "7\t27.573\t100\t1.418\t25.293\t31.493\tHaralick Textures (Fourier ()) [10]\n",
      "8\t25.979\t100\t1.751\t22.041\t31.793\tHaralick Textures (Chebyshev (Fourier ())) [0]\n",
      "9\t24.545\t100\t1.085\t22.632\t28.650\tZernike Coefficients (Fourier ()) [64]\n",
      "10\t22.237\t100\t1.794\t19.368\t27.308\tHaralick Textures (Fourier ()) [18]\n",
      "11\t21.954\t100\t1.391\t19.592\t26.154\tZernike Coefficients (Fourier ()) [30]\n",
      "12\t21.143\t100\t0.882\t19.624\t23.766\tZernike Coefficients (Fourier ()) [26]\n",
      "13\t16.720\t100\t0.784\t15.340\t18.892\tZernike Coefficients (Fourier ()) [58]\n",
      "14\t16.542\t100\t0.539\t15.651\t18.442\tZernike Coefficients (Fourier ()) [13]\n",
      "15\t16.199\t100\t0.683\t14.880\t18.190\tZernike Coefficients (Fourier ()) [37]\n",
      "16\t16.189\t100\t0.554\t15.142\t17.767\tZernike Coefficients (Fourier ()) [7]\n",
      "17\t15.219\t100\t0.502\t14.266\t16.898\tZernike Coefficients (Fourier ()) [6]\n",
      "18\t14.917\t100\t0.916\t13.082\t17.651\tHaralick Textures (Chebyshev (Fourier ())) [22]\n",
      "19\t14.736\t100\t0.465\t13.940\t16.587\tZernike Coefficients (Fourier ()) [0]\n",
      "20\t13.786\t100\t0.531\t12.514\t15.341\tHaralick Textures (Fourier ()) [20]\n"
     ]
    }
   ],
   "source": [
    "exp.Print()"
   ]
  },
  {
   "cell_type": "markdown",
   "metadata": {},
   "source": [
    "# Section 1.2: X-val WITH LDA"
   ]
  },
  {
   "cell_type": "code",
   "execution_count": 41,
   "metadata": {
    "collapsed": false
   },
   "outputs": [
    {
     "name": "stdout",
     "output_type": "stream",
     "text": [
      "iter\tsplit class acc.\n",
      "0\t0.996598639456\n",
      "1\t1.0\n",
      "2\t0.989795918367\n",
      "3\t0.986394557823\n",
      "4\t0.996598639456\n",
      "5\t0.996598639456\n",
      "6\t0.996598639456\n",
      "7\t0.989795918367\n",
      "8\t0.989795918367\n",
      "9\t0.989795918367\n",
      "10\t0.993197278912\n",
      "11\t0.986394557823\n",
      "12\t0.996598639456\n",
      "13\t0.989795918367\n",
      "14\t0.996598639456\n",
      "15\t0.989795918367\n",
      "16\t0.996598639456\n",
      "17\t0.993197278912\n",
      "18\t0.993197278912\n",
      "19\t0.989795918367\n",
      "20\t0.996598639456\n",
      "21\t1.0\n",
      "22\t0.993197278912\n",
      "23\t0.996598639456\n",
      "24\t0.996598639456\n",
      "25\t0.996598639456\n",
      "26\t0.996598639456\n",
      "27\t0.993197278912\n",
      "28\t0.989795918367\n",
      "29\t0.996598639456\n",
      "30\t0.982993197279\n",
      "31\t1.0\n",
      "32\t1.0\n",
      "33\t0.996598639456\n",
      "34\t0.996598639456\n",
      "35\t0.993197278912\n",
      "36\t0.989795918367\n",
      "37\t0.993197278912\n",
      "38\t1.0\n",
      "39\t1.0\n",
      "40\t0.993197278912\n",
      "41\t0.989795918367\n",
      "42\t0.996598639456\n",
      "43\t1.0\n",
      "44\t0.982993197279\n",
      "45\t0.989795918367\n",
      "46\t0.993197278912\n",
      "47\t0.993197278912\n",
      "48\t0.996598639456\n",
      "49\t0.996598639456\n",
      "50\t1.0\n",
      "51\t0.996598639456\n",
      "52\t0.996598639456\n",
      "53\t1.0\n",
      "54\t0.989795918367\n",
      "55\t0.996598639456\n",
      "56\t0.996598639456\n",
      "57\t1.0\n",
      "58\t0.993197278912\n",
      "59\t0.989795918367\n",
      "60\t0.989795918367\n",
      "61\t0.996598639456\n",
      "62\t0.996598639456\n",
      "63\t0.986394557823\n",
      "64\t0.993197278912\n",
      "65\t0.996598639456\n",
      "66\t0.996598639456\n",
      "67\t0.993197278912\n",
      "68\t0.989795918367\n",
      "69\t0.993197278912\n",
      "70\t0.993197278912\n",
      "71\t0.993197278912\n",
      "72\t0.986394557823\n",
      "73\t0.993197278912\n",
      "74\t0.989795918367\n",
      "75\t0.993197278912\n",
      "76\t1.0\n",
      "77\t0.993197278912\n",
      "78\t0.993197278912\n",
      "79\t0.996598639456\n",
      "80\t0.982993197279\n",
      "81\t0.986394557823\n",
      "82\t0.996598639456\n",
      "83\t0.989795918367\n",
      "84\t0.986394557823\n",
      "85\t0.993197278912\n",
      "86\t1.0\n",
      "87\t0.993197278912\n",
      "88\t0.993197278912\n",
      "89\t0.993197278912\n",
      "90\t0.993197278912\n",
      "91\t0.993197278912\n",
      "92\t0.989795918367\n",
      "93\t1.0\n",
      "94\t1.0\n",
      "95\t0.996598639456\n",
      "96\t0.993197278912\n",
      "97\t0.993197278912\n",
      "98\t0.993197278912\n",
      "99\t0.989795918367\n"
     ]
    }
   ],
   "source": [
    "exp = FeatureSpaceClassificationExperiment.NewShuffleSplit( fs, n_iter=100, lda=True, random_state=42 )"
   ]
  },
  {
   "cell_type": "code",
   "execution_count": 42,
   "metadata": {
    "collapsed": false
   },
   "outputs": [
    {
     "name": "stdout",
     "output_type": "stream",
     "text": [
      "Displaying feature weight statistics for all 2 features\n",
      "==================================================\n",
      "FeatureSpaceClassificationExperiment \"out.fit (sorted)\" (100 iterations)\n",
      "29217/29400 correct = 99.38 +/- 0.09% w/ 95% conf. (normal approx. interval)\n",
      "\n",
      "\n",
      "Confusion Matrix:\n",
      "           \tmoreBody\tmoreCuticle\tmoreGray\t|\ttotal\tacc.\n",
      "           \t--------\t-----------\t--------\t|\t-----\t----\n",
      "moreBody\t9703\t68\t29\t|\t9800\t99.01%\n",
      "moreCuticle\t45\t9755\t0\t|\t9800\t99.54%\n",
      "moreGray\t41\t0\t9759\t|\t9800\t99.58%\n",
      "\n",
      "\n",
      "Similarity Matrix:\n",
      "           \tmoreBody\tmoreCuticle\tmoreGray\n",
      "           \t--------\t-----------\t--------\n",
      "moreBody\t1.00\t0.01\t0.00\t\n",
      "moreCuticle\t0.01\t1.00\t0.00\t\n",
      "moreGray\t0.00\t0.00\t1.00\t\n",
      "\n",
      "\n",
      "Average Class Probability Matrix:\n",
      "           \tmoreBody\tmoreCuticle\tmoreGray\n",
      "           \t--------\t-----------\t--------\n",
      "moreBody\t0.9896\t0.0074\t0.0030\t\n",
      "moreCuticle\t0.0053\t0.9947\t0.0000\t\n",
      "moreGray\t0.0042\t0.0000\t0.9957\t\n",
      "\n",
      "\n",
      "Feature Weight Analysis (top 2 features):\n",
      "Rank\tmean\tcount\tStdDev\tMin\tMax\tName\n",
      "----\t----\t-----\t------\t---\t---\t----\n",
      "1\t1.000\t100\t0.000\t1.000\t1.000\tLDAcomponent2\n",
      "2\t1.000\t100\t0.000\t1.000\t1.000\tLDAcomponent1\n"
     ]
    }
   ],
   "source": [
    "exp.Print()"
   ]
  },
  {
   "cell_type": "markdown",
   "metadata": {},
   "source": [
    "## Section 1.3: Num samples classifier saturation grid search\n",
    "\n",
    "Using top 15% of features by default"
   ]
  },
  {
   "cell_type": "code",
   "execution_count": 44,
   "metadata": {
    "collapsed": true
   },
   "outputs": [],
   "source": [
    "params = {}\n",
    "params['feature_space'] = fs\n",
    "params['quiet'] = False\n",
    "params['n_iter'] = 100\n",
    "params['param_space'] = 20\n",
    "params['random_state'] = 42"
   ]
  },
  {
   "cell_type": "code",
   "execution_count": 45,
   "metadata": {
    "collapsed": false
   },
   "outputs": [
    {
     "name": "stdout",
     "output_type": "stream",
     "text": [
      "Using num samples per class param space of : [3, 4, 6, 8, 11, 15, 20, 27, 36, 48, 65, 88, 118, 159, 214, 289, 388]\n",
      "===================================================\n",
      "NUM TRAINING SET SAMPLES GRID SEARCH RESULTS:\n",
      "n samples\t figure of merit\n",
      "3\t0.77\n",
      "4\t0.856666666667\n",
      "6\t0.93\n",
      "8\t0.933333333333\n",
      "11\t0.956666666667\n",
      "15\t0.956666666667\n",
      "20\t0.976666666667\n",
      "27\t0.976666666667\n",
      "36\t0.98\n",
      "48\t0.973333333333\n",
      "65\t0.983333333333\n",
      "88\t0.986666666667\n",
      "118\t0.983333333333\n",
      "159\t0.993333333333\n",
      "214\t0.983333333333\n",
      "289\t0.99\n",
      "388\t0.993333333333\n"
     ]
    }
   ],
   "source": [
    "exp = FeatureSpaceClassificationExperiment.NumSamplesGridSearch( **params )"
   ]
  },
  {
   "cell_type": "code",
   "execution_count": 46,
   "metadata": {
    "collapsed": false
   },
   "outputs": [
    {
     "name": "stdout",
     "output_type": "stream",
     "text": [
      "Using num samples per class param space of : [3, 4, 6, 8, 11, 15, 20, 27, 36, 48, 65, 88, 118, 159, 214, 289, 388]\n",
      "===================================================\n",
      "NUM TRAINING SET SAMPLES GRID SEARCH RESULTS:\n",
      "n samples\t figure of merit\n",
      "3\t0.223333333333\n",
      "4\t0.813333333333\n",
      "6\t0.85\n",
      "8\t0.483333333333\n",
      "11\t0.63\n",
      "15\t0.833333333333\n",
      "20\t0.91\n",
      "27\t0.983333333333\n",
      "36\t0.98\n",
      "48\t0.983333333333\n",
      "65\t0.996666666667\n",
      "88\t0.986666666667\n",
      "118\t0.946666666667\n",
      "159\t0.943333333333\n",
      "214\t0.983333333333\n",
      "289\t0.98\n",
      "388\t0.996666666667\n"
     ]
    },
    {
     "name": "stderr",
     "output_type": "stream",
     "text": [
      "/usr/local/lib/python2.7/site-packages/sklearn/lda.py:371: UserWarning: Variables are collinear.\n",
      "  warnings.warn(\"Variables are collinear.\")\n",
      "/usr/local/lib/python2.7/site-packages/numpy/core/_methods.py:59: RuntimeWarning: Mean of empty slice.\n",
      "  warnings.warn(\"Mean of empty slice.\", RuntimeWarning)\n"
     ]
    }
   ],
   "source": [
    "params['lda']=True\n",
    "exp = FeatureSpaceClassificationExperiment.NumSamplesGridSearch( **params )"
   ]
  },
  {
   "cell_type": "markdown",
   "metadata": {},
   "source": [
    "## Section 1.4: Num features classifier saturation grid search w/ optimized # samples\n",
    "\n",
    "150 samples/class gets you to 99% classification accuracy"
   ]
  },
  {
   "cell_type": "code",
   "execution_count": 47,
   "metadata": {
    "collapsed": false
   },
   "outputs": [
    {
     "name": "stdout",
     "output_type": "stream",
     "text": [
      "SPLIT FEATURE SPACE INTO TRAINING SET:  <FeatureSpace \"out.fit (subset) (sorted)\" n_features=2919 n_total_samples=450 n_samples_per_group=1 n_classes=3 samples_per_class=(\"moreBody\": 150, \"moreCuticle\": 150, \"moreGray\": 150)>\n"
     ]
    }
   ],
   "source": [
    "train_set = fs.Split(train_size=150, test_size=0, random_state=42)"
   ]
  },
  {
   "cell_type": "code",
   "execution_count": 48,
   "metadata": {
    "collapsed": true
   },
   "outputs": [],
   "source": [
    "params = {}\n",
    "params['feature_space'] = train_set\n",
    "params['quiet'] = False\n",
    "params['n_iter'] = 100\n",
    "params['param_space'] = 20\n",
    "params['random_state'] = 42"
   ]
  },
  {
   "cell_type": "code",
   "execution_count": 49,
   "metadata": {
    "collapsed": false
   },
   "outputs": [
    {
     "name": "stdout",
     "output_type": "stream",
     "text": [
      "Using num features param space of : [1, 2, 3, 5, 7, 11, 16, 24, 36, 54, 81, 120, 179, 266, 397, 592, 882, 1314, 1959, 2919]\n",
      "===================================================\n",
      "FEATURE WEIGHT GRID SEARCH RESULTS:\n",
      "n features\t figure of merit\n",
      "1\t0.749473684211\n",
      "2\t0.791666666667\n",
      "3\t0.808947368421\n",
      "5\t0.834122807018\n",
      "7\t0.835526315789\n",
      "11\t0.832192982456\n",
      "16\t0.877807017544\n",
      "24\t0.921666666667\n",
      "36\t0.97701754386\n",
      "54\t0.977543859649\n",
      "81\t0.977894736842\n",
      "120\t0.985877192982\n",
      "179\t0.985789473684\n",
      "266\t0.985964912281\n",
      "397\t0.985877192982\n",
      "592\t0.985877192982\n",
      "882\t0.985964912281\n",
      "1314\t0.985964912281\n",
      "1959\t0.985964912281\n",
      "Skipping n_features=2919 and above due to feature reduction error\n"
     ]
    },
    {
     "data": {
      "text/plain": [
       "[(1, 0.7494736842105263),\n",
       " (2, 0.7916666666666666),\n",
       " (3, 0.8089473684210526),\n",
       " (5, 0.8341228070175438),\n",
       " (7, 0.8355263157894737),\n",
       " (11, 0.8321929824561404),\n",
       " (16, 0.8778070175438597),\n",
       " (24, 0.9216666666666666),\n",
       " (36, 0.9770175438596491),\n",
       " (54, 0.9775438596491228),\n",
       " (81, 0.9778947368421053),\n",
       " (120, 0.9858771929824561),\n",
       " (179, 0.9857894736842105),\n",
       " (266, 0.9859649122807017),\n",
       " (397, 0.9858771929824561),\n",
       " (592, 0.9858771929824561),\n",
       " (882, 0.9859649122807017),\n",
       " (1314, 0.9859649122807017),\n",
       " (1959, 0.9859649122807017)]"
      ]
     },
     "execution_count": 49,
     "metadata": {},
     "output_type": "execute_result"
    }
   ],
   "source": [
    "FeatureSpaceClassificationExperiment.NumFeaturesGridSearch( **params )"
   ]
  },
  {
   "cell_type": "markdown",
   "metadata": {},
   "source": [
    "## Section 1.5: Num samples classifier saturation grid search w/ optimized # features\n",
    "\n",
    "120 features gets you to 98% classification accuracy"
   ]
  },
  {
   "cell_type": "code",
   "execution_count": 50,
   "metadata": {
    "collapsed": false
   },
   "outputs": [],
   "source": [
    "params = {}\n",
    "params['feature_space'] = fs\n",
    "params['quiet'] = False\n",
    "params['n_iter'] = 100\n",
    "params['param_space'] = 20\n",
    "params['random_state'] = 42\n",
    "params['features_size'] = 120"
   ]
  },
  {
   "cell_type": "code",
   "execution_count": 51,
   "metadata": {
    "collapsed": false
   },
   "outputs": [
    {
     "name": "stdout",
     "output_type": "stream",
     "text": [
      "Using num samples per class param space of : [3, 4, 6, 8, 11, 15, 20, 27, 36, 48, 65, 88, 118, 159, 214, 289, 388]\n",
      "===================================================\n",
      "NUM TRAINING SET SAMPLES GRID SEARCH RESULTS:\n",
      "n samples\t figure of merit\n",
      "3\t0.763333333333\n",
      "4\t0.84\n",
      "6\t0.926666666667\n",
      "8\t0.926666666667\n",
      "11\t0.946666666667\n",
      "15\t0.95\n",
      "20\t0.97\n",
      "27\t0.973333333333\n",
      "36\t0.976666666667\n",
      "48\t0.976666666667\n",
      "65\t0.983333333333\n",
      "88\t0.983333333333\n",
      "118\t0.986666666667\n",
      "159\t0.993333333333\n",
      "214\t0.983333333333\n",
      "289\t0.983333333333\n",
      "388\t0.996666666667\n"
     ]
    }
   ],
   "source": [
    "exp = FeatureSpaceClassificationExperiment.NumSamplesGridSearch( **params )"
   ]
  },
  {
   "cell_type": "markdown",
   "metadata": {},
   "source": [
    "Conclusion: 50 samples/class result is stable when reducing num_features to 30 from default 438. Save Training set to file.\n",
    "\n",
    "Question are the features that are top ranked the same during cross validation as well as straight fit on fit?"
   ]
  },
  {
   "cell_type": "code",
   "execution_count": 52,
   "metadata": {
    "collapsed": false,
    "scrolled": true
   },
   "outputs": [
    {
     "name": "stdout",
     "output_type": "stream",
     "text": [
      "iter\tsplit class acc.\n",
      "0\t0.964912280702\n",
      "1\t0.982456140351\n",
      "2\t0.991228070175\n",
      "3\t0.973684210526\n",
      "4\t0.973684210526\n",
      "5\t0.982456140351\n",
      "6\t0.991228070175\n",
      "7\t1.0\n",
      "8\t0.973684210526\n",
      "9\t0.991228070175\n",
      "10\t0.991228070175\n",
      "11\t0.982456140351\n",
      "12\t0.991228070175\n",
      "13\t0.982456140351\n",
      "14\t0.982456140351\n",
      "15\t0.982456140351\n",
      "16\t0.991228070175\n",
      "17\t0.991228070175\n",
      "18\t0.956140350877\n",
      "19\t0.982456140351\n",
      "20\t0.991228070175\n",
      "21\t0.982456140351\n",
      "22\t0.982456140351\n",
      "23\t0.973684210526\n",
      "24\t0.991228070175\n",
      "25\t0.991228070175\n",
      "26\t0.982456140351\n",
      "27\t0.982456140351\n",
      "28\t0.991228070175\n",
      "29\t1.0\n",
      "30\t0.991228070175\n",
      "31\t0.973684210526\n",
      "32\t0.991228070175\n",
      "33\t0.991228070175\n",
      "34\t0.982456140351\n",
      "35\t1.0\n",
      "36\t0.982456140351\n",
      "37\t0.991228070175\n",
      "38\t1.0\n",
      "39\t0.982456140351\n",
      "40\t0.991228070175\n",
      "41\t0.964912280702\n",
      "42\t0.991228070175\n",
      "43\t0.982456140351\n",
      "44\t0.991228070175\n",
      "45\t0.991228070175\n",
      "46\t0.982456140351\n",
      "47\t0.973684210526\n",
      "48\t1.0\n",
      "49\t0.973684210526\n",
      "50\t0.964912280702\n",
      "51\t0.982456140351\n",
      "52\t0.991228070175\n",
      "53\t0.973684210526\n",
      "54\t0.982456140351\n",
      "55\t0.991228070175\n",
      "56\t0.991228070175\n",
      "57\t0.982456140351\n",
      "58\t0.973684210526\n",
      "59\t0.991228070175\n",
      "60\t1.0\n",
      "61\t0.982456140351\n",
      "62\t0.991228070175\n",
      "63\t0.991228070175\n",
      "64\t0.982456140351\n",
      "65\t0.991228070175\n",
      "66\t0.973684210526\n",
      "67\t0.991228070175\n",
      "68\t1.0\n",
      "69\t0.991228070175\n",
      "70\t1.0\n",
      "71\t1.0\n",
      "72\t0.982456140351\n",
      "73\t0.991228070175\n",
      "74\t0.991228070175\n",
      "75\t1.0\n",
      "76\t0.982456140351\n",
      "77\t0.991228070175\n",
      "78\t0.991228070175\n",
      "79\t0.982456140351\n",
      "80\t0.991228070175\n",
      "81\t0.991228070175\n",
      "82\t0.973684210526\n",
      "83\t0.964912280702\n",
      "84\t0.973684210526\n",
      "85\t0.991228070175\n",
      "86\t0.991228070175\n",
      "87\t0.973684210526\n",
      "88\t0.991228070175\n",
      "89\t0.991228070175\n",
      "90\t0.982456140351\n",
      "91\t0.991228070175\n",
      "92\t0.982456140351\n",
      "93\t0.982456140351\n",
      "94\t0.973684210526\n",
      "95\t1.0\n",
      "96\t0.991228070175\n",
      "97\t0.991228070175\n",
      "98\t0.982456140351\n",
      "99\t0.991228070175\n"
     ]
    }
   ],
   "source": [
    "exp = FeatureSpaceClassificationExperiment.NewShuffleSplit( train_set, features_size=120, n_iter=100, random_state=42)"
   ]
  },
  {
   "cell_type": "code",
   "execution_count": 53,
   "metadata": {
    "collapsed": false
   },
   "outputs": [
    {
     "name": "stdout",
     "output_type": "stream",
     "text": [
      "==================================================\n",
      "FeatureSpaceClassificationExperiment \"out.fit (subset) (sorted) (sorted)\" (100 iterations)\n",
      "11239/11400 correct = 98.59 +/- 0.22% w/ 95% conf. (normal approx. interval)\n",
      "\n",
      "\n",
      "Confusion Matrix:\n",
      "           \tmoreBody\tmoreCuticle\tmoreGray\t|\ttotal\tacc.\n",
      "           \t--------\t-----------\t--------\t|\t-----\t----\n",
      "moreBody\t3680\t89\t31\t|\t3800\t96.84%\n",
      "moreCuticle\t12\t3788\t0\t|\t3800\t99.68%\n",
      "moreGray\t29\t0\t3771\t|\t3800\t99.24%\n",
      "\n",
      "\n",
      "Similarity Matrix:\n",
      "           \tmoreBody\tmoreCuticle\tmoreGray\n",
      "           \t--------\t-----------\t--------\n",
      "moreBody\t1.00\t0.08\t0.01\t\n",
      "moreCuticle\t0.04\t1.00\t0.00\t\n",
      "moreGray\t0.01\t0.00\t1.00\t\n",
      "\n",
      "\n",
      "Average Class Probability Matrix:\n",
      "           \tmoreBody\tmoreCuticle\tmoreGray\n",
      "           \t--------\t-----------\t--------\n",
      "moreBody\t0.9158\t0.0759\t0.0083\t\n",
      "moreCuticle\t0.0382\t0.9618\t0.0000\t\n",
      "moreGray\t0.0065\t0.0000\t0.9935\t\n",
      "\n",
      "\n",
      "Feature Weight Analysis (top 40 features):\n",
      "Rank\tmean\tcount\tStdDev\tMin\tMax\tName\n",
      "----\t----\t-----\t------\t---\t---\t----\n",
      "1\t35.344\t100\t4.956\t29.279\t53.418\tZernike Coefficients (Fourier ()) [20]\n",
      "2\t29.281\t100\t3.256\t24.623\t39.323\tHaralick Textures (Fourier ()) [8]\n",
      "3\t27.931\t100\t3.194\t23.377\t38.323\tHaralick Textures (Fourier ()) [22]\n",
      "4\t26.965\t100\t3.129\t22.956\t37.306\tHaralick Textures (Fourier ()) [10]\n",
      "5\t26.731\t100\t2.827\t22.089\t37.847\tHaralick Textures (Chebyshev (Fourier ())) [10]\n",
      "6\t26.727\t100\t2.940\t22.149\t36.590\tZernike Coefficients (Fourier ()) [12]\n",
      "7\t26.079\t100\t4.007\t20.653\t39.092\tZernike Coefficients (Fourier ()) [49]\n",
      "8\t24.720\t100\t3.181\t20.121\t32.813\tHaralick Textures (Fourier ()) [18]\n",
      "9\t24.089\t100\t2.892\t19.644\t34.689\tHaralick Textures (Chebyshev (Fourier ())) [0]\n",
      "10\t21.611\t100\t3.144\t18.229\t30.255\tZernike Coefficients (Fourier ()) [30]\n",
      "11\t21.382\t100\t1.986\t18.616\t27.693\tZernike Coefficients (Fourier ()) [64]\n",
      "12\t20.059\t100\t1.852\t17.310\t25.894\tZernike Coefficients (Fourier ()) [26]\n",
      "13\t15.749\t100\t1.318\t13.175\t19.311\tZernike Coefficients (Fourier ()) [58]\n",
      "14\t14.999\t100\t1.056\t13.461\t18.267\tZernike Coefficients (Fourier ()) [7]\n",
      "15\t14.994\t100\t1.093\t12.578\t18.144\tZernike Coefficients (Fourier ()) [37]\n",
      "16\t14.875\t100\t0.978\t13.081\t17.594\tZernike Coefficients (Fourier ()) [13]\n",
      "17\t14.447\t100\t1.722\t11.569\t19.946\tHaralick Textures (Fourier ()) [12]\n",
      "18\t13.886\t100\t0.868\t12.441\t16.402\tZernike Coefficients (Fourier ()) [6]\n",
      "19\t13.522\t100\t0.793\t11.796\t16.604\tHaralick Textures (Fourier ()) [20]\n",
      "20\t13.366\t100\t0.778\t11.846\t15.739\tZernike Coefficients (Fourier ()) [0]\n",
      "21\t13.251\t100\t1.361\t10.902\t18.055\tHaralick Textures (Chebyshev (Fourier ())) [22]\n",
      "22\t12.641\t100\t1.080\t10.612\t16.989\tHaralick Textures (Chebyshev (Fourier ())) [8]\n",
      "23\t12.571\t100\t0.733\t11.141\t14.342\tHaralick Textures (Fourier (Chebyshev ())) [10]\n",
      "24\t12.492\t100\t0.859\t11.002\t14.792\tHaralick Textures () [4]\n",
      "25\t12.373\t100\t0.956\t10.692\t15.950\tZernike Coefficients (Fourier ()) [66]\n",
      "26\t12.045\t100\t0.798\t10.575\t14.793\tHaralick Textures () [9]\n",
      "27\t11.897\t100\t0.706\t10.550\t14.212\tHaralick Textures (Edge ()) [12]\n",
      "28\t11.629\t100\t1.254\t9.757\t15.527\tEdge Features () [24]\n",
      "29\t11.235\t100\t0.991\t9.977\t13.438\tZernike Coefficients (Fourier ()) [42]\n",
      "30\t10.723\t100\t0.553\t9.522\t12.282\tZernike Coefficients (Fourier ()) [2]\n",
      "31\t10.632\t100\t0.581\t9.495\t12.493\tZernike Coefficients (Fourier ()) [17]\n",
      "32\t10.384\t100\t1.074\t8.753\t14.525\tZernike Coefficients (Fourier ()) [36]\n",
      "33\t10.297\t100\t0.643\t9.129\t12.295\tHaralick Textures (Wavelet ()) [18]\n",
      "34\t10.111\t100\t0.630\t8.900\t12.300\tHaralick Textures (Edge ()) [22]\n",
      "35\t9.748\t100\t1.894\t7.461\t15.407\tHaralick Textures (Fourier ()) [14]\n",
      "36\t9.591\t100\t0.599\t8.352\t11.509\tZernike Coefficients (Fourier ()) [44]\n",
      "37\t9.359\t100\t0.512\t8.395\t10.707\tHaralick Textures () [12]\n",
      "38\t9.184\t100\t0.561\t8.165\t10.639\tHaralick Textures (Chebyshev (Fourier ())) [15]\n",
      "39\t9.144\t100\t0.583\t8.077\t10.523\tHaralick Textures (Fourier (Chebyshev ())) [0]\n",
      "40\t9.002\t100\t0.532\t7.962\t10.513\tHaralick Textures () [22]\n"
     ]
    }
   ],
   "source": [
    "exp.Print(40)"
   ]
  },
  {
   "cell_type": "code",
   "execution_count": 54,
   "metadata": {
    "collapsed": false
   },
   "outputs": [
    {
     "name": "stdout",
     "output_type": "stream",
     "text": [
      "FisherFeatureWeights \"aggregated:\" (148 features)\n",
      "Rank\tValue\tName\n",
      "====\t=====\t====\n",
      "1\t35.343577\tZernike Coefficients (Fourier ()) [20]\n",
      "2\t29.280928\tHaralick Textures (Fourier ()) [8]\n",
      "3\t27.931119\tHaralick Textures (Fourier ()) [22]\n",
      "4\t26.965056\tHaralick Textures (Fourier ()) [10]\n",
      "5\t26.730957\tHaralick Textures (Chebyshev (Fourier ())) [10]\n",
      "6\t26.726832\tZernike Coefficients (Fourier ()) [12]\n",
      "7\t26.079359\tZernike Coefficients (Fourier ()) [49]\n",
      "8\t24.719874\tHaralick Textures (Fourier ()) [18]\n",
      "9\t24.088690\tHaralick Textures (Chebyshev (Fourier ())) [0]\n",
      "10\t21.611092\tZernike Coefficients (Fourier ()) [30]\n",
      "11\t21.382389\tZernike Coefficients (Fourier ()) [64]\n",
      "12\t20.059493\tZernike Coefficients (Fourier ()) [26]\n",
      "13\t15.748877\tZernike Coefficients (Fourier ()) [58]\n",
      "14\t14.998550\tZernike Coefficients (Fourier ()) [7]\n",
      "15\t14.993522\tZernike Coefficients (Fourier ()) [37]\n",
      "16\t14.875350\tZernike Coefficients (Fourier ()) [13]\n",
      "17\t14.446752\tHaralick Textures (Fourier ()) [12]\n",
      "18\t13.885632\tZernike Coefficients (Fourier ()) [6]\n",
      "19\t13.521763\tHaralick Textures (Fourier ()) [20]\n",
      "20\t13.365763\tZernike Coefficients (Fourier ()) [0]\n",
      "21\t13.250585\tHaralick Textures (Chebyshev (Fourier ())) [22]\n",
      "22\t12.641419\tHaralick Textures (Chebyshev (Fourier ())) [8]\n",
      "23\t12.571190\tHaralick Textures (Fourier (Chebyshev ())) [10]\n",
      "24\t12.492190\tHaralick Textures () [4]\n",
      "25\t12.373324\tZernike Coefficients (Fourier ()) [66]\n",
      "26\t12.045075\tHaralick Textures () [9]\n",
      "27\t11.896616\tHaralick Textures (Edge ()) [12]\n",
      "28\t11.629124\tEdge Features () [24]\n",
      "29\t11.234931\tZernike Coefficients (Fourier ()) [42]\n",
      "30\t10.722508\tZernike Coefficients (Fourier ()) [2]\n",
      "31\t10.631633\tZernike Coefficients (Fourier ()) [17]\n",
      "32\t10.384293\tZernike Coefficients (Fourier ()) [36]\n",
      "33\t10.297076\tHaralick Textures (Wavelet ()) [18]\n",
      "34\t10.110664\tHaralick Textures (Edge ()) [22]\n",
      "35\t9.748363\tHaralick Textures (Fourier ()) [14]\n",
      "36\t9.590909\tZernike Coefficients (Fourier ()) [44]\n",
      "37\t9.358963\tHaralick Textures () [12]\n",
      "38\t9.183503\tHaralick Textures (Chebyshev (Fourier ())) [15]\n",
      "39\t9.143956\tHaralick Textures (Fourier (Chebyshev ())) [0]\n",
      "40\t9.002227\tHaralick Textures () [22]\n",
      "<output truncated by user via \"display\" arg, 108 more feature weights>\n"
     ]
    }
   ],
   "source": [
    "exp.aggregated_feature_weights.Print(40)"
   ]
  },
  {
   "cell_type": "code",
   "execution_count": 55,
   "metadata": {
    "collapsed": true
   },
   "outputs": [],
   "source": [
    "from wndcharm.FeatureWeights import FisherFeatureWeights"
   ]
  },
  {
   "cell_type": "code",
   "execution_count": 56,
   "metadata": {
    "collapsed": false
   },
   "outputs": [
    {
     "name": "stdout",
     "output_type": "stream",
     "text": [
      "NORMALIZED FEATURES AGAINST SELF FOR FEATURE SPACE: <FeatureSpace \"out.fit (subset) (sorted)\" n_features=2919 n_total_samples=450 n_samples_per_group=1 n_classes=3 samples_per_class=(\"moreBody\": 150, \"moreCuticle\": 150, \"moreGray\": 150)>\n"
     ]
    },
    {
     "data": {
      "text/plain": [
       "<FeatureSpace \"out.fit (subset) (sorted)\" n_features=2919 n_total_samples=450 n_samples_per_group=1 n_classes=3 samples_per_class=(\"moreBody\": 150, \"moreCuticle\": 150, \"moreGray\": 150)>"
      ]
     },
     "execution_count": 56,
     "metadata": {},
     "output_type": "execute_result"
    }
   ],
   "source": [
    "train_set.Normalize(inplace=True)"
   ]
  },
  {
   "cell_type": "code",
   "execution_count": 57,
   "metadata": {
    "collapsed": false
   },
   "outputs": [],
   "source": [
    "fw = FisherFeatureWeights.NewFromFeatureSpace( train_set ).Threshold(_all=True)"
   ]
  },
  {
   "cell_type": "code",
   "execution_count": 58,
   "metadata": {
    "collapsed": false
   },
   "outputs": [
    {
     "name": "stdout",
     "output_type": "stream",
     "text": [
      "FisherFeatureWeights (2919 features)\n",
      "Rank\tValue\tName\n",
      "====\t=====\t====\n",
      "1\t33.983119\tZernike Coefficients (Fourier ()) [20]\n",
      "2\t28.625381\tHaralick Textures (Fourier ()) [8]\n",
      "3\t27.278257\tHaralick Textures (Fourier ()) [22]\n",
      "4\t26.425633\tHaralick Textures (Chebyshev (Fourier ())) [10]\n",
      "5\t26.247541\tHaralick Textures (Fourier ()) [10]\n",
      "6\t26.048635\tZernike Coefficients (Fourier ()) [12]\n",
      "7\t24.984287\tZernike Coefficients (Fourier ()) [49]\n",
      "8\t24.004636\tHaralick Textures (Fourier ()) [18]\n",
      "9\t23.844488\tHaralick Textures (Chebyshev (Fourier ())) [0]\n",
      "10\t20.895848\tZernike Coefficients (Fourier ()) [64]\n",
      "11\t20.809862\tZernike Coefficients (Fourier ()) [30]\n",
      "12\t19.617175\tZernike Coefficients (Fourier ()) [26]\n",
      "13\t15.388155\tZernike Coefficients (Fourier ()) [58]\n",
      "14\t14.810531\tZernike Coefficients (Fourier ()) [7]\n",
      "15\t14.761193\tZernike Coefficients (Fourier ()) [13]\n",
      "16\t14.709823\tZernike Coefficients (Fourier ()) [37]\n",
      "17\t14.071296\tHaralick Textures (Fourier ()) [12]\n",
      "18\t13.772958\tZernike Coefficients (Fourier ()) [6]\n",
      "19\t13.445705\tHaralick Textures (Fourier ()) [20]\n",
      "20\t13.278401\tZernike Coefficients (Fourier ()) [0]\n",
      "21\t13.173943\tHaralick Textures (Chebyshev (Fourier ())) [22]\n",
      "22\t12.577373\tHaralick Textures (Chebyshev (Fourier ())) [8]\n",
      "23\t12.478278\tHaralick Textures (Fourier (Chebyshev ())) [10]\n",
      "24\t12.396644\tHaralick Textures () [4]\n",
      "25\t12.168757\tZernike Coefficients (Fourier ()) [66]\n",
      "26\t12.027182\tHaralick Textures () [9]\n",
      "27\t11.788742\tHaralick Textures (Edge ()) [12]\n",
      "28\t11.332842\tEdge Features () [24]\n",
      "29\t11.078653\tZernike Coefficients (Fourier ()) [42]\n",
      "30\t10.680155\tZernike Coefficients (Fourier ()) [2]\n",
      "31\t10.577719\tZernike Coefficients (Fourier ()) [17]\n",
      "32\t10.228243\tHaralick Textures (Wavelet ()) [18]\n",
      "33\t10.162830\tZernike Coefficients (Fourier ()) [36]\n",
      "34\t10.012751\tHaralick Textures (Edge ()) [22]\n",
      "35\t9.526611\tZernike Coefficients (Fourier ()) [44]\n",
      "36\t9.327136\tHaralick Textures () [12]\n",
      "37\t9.277162\tHaralick Textures (Fourier ()) [14]\n",
      "38\t9.071916\tHaralick Textures (Fourier (Chebyshev ())) [0]\n",
      "39\t9.021825\tHaralick Textures (Chebyshev (Fourier ())) [15]\n",
      "40\t8.972069\tHaralick Textures () [22]\n",
      "<output truncated by user via \"display\" arg, 2879 more feature weights>\n"
     ]
    }
   ],
   "source": [
    "fw.Print(40)"
   ]
  },
  {
   "cell_type": "code",
   "execution_count": 59,
   "metadata": {
    "collapsed": false
   },
   "outputs": [],
   "source": [
    "fit_weights = set( fw[:30].feature_names )"
   ]
  },
  {
   "cell_type": "code",
   "execution_count": 60,
   "metadata": {
    "collapsed": true
   },
   "outputs": [],
   "source": [
    "xval_weights = set( exp.aggregated_feature_weights[:30].feature_names )"
   ]
  },
  {
   "cell_type": "code",
   "execution_count": 61,
   "metadata": {
    "collapsed": false
   },
   "outputs": [
    {
     "data": {
      "text/plain": [
       "True"
      ]
     },
     "execution_count": 61,
     "metadata": {},
     "output_type": "execute_result"
    }
   ],
   "source": [
    "fit_weights == xval_weights"
   ]
  },
  {
   "cell_type": "markdown",
   "metadata": {},
   "source": [
    "There you have it! Save trained classifier to file. Use raw features so mins and maxes will be preserved."
   ]
  },
  {
   "cell_type": "code",
   "execution_count": 62,
   "metadata": {
    "collapsed": false
   },
   "outputs": [
    {
     "name": "stdout",
     "output_type": "stream",
     "text": [
      "SPLIT FEATURE SPACE INTO TRAINING SET:  <FeatureSpace \"out.fit (subset) (sorted)\" n_features=2919 n_total_samples=450 n_samples_per_group=1 n_classes=3 samples_per_class=(\"moreBody\": 150, \"moreCuticle\": 150, \"moreGray\": 150)>\n"
     ]
    }
   ],
   "source": [
    "train_set = fs.Split(train_size=150, test_size=0, random_state=42)"
   ]
  },
  {
   "cell_type": "code",
   "execution_count": 63,
   "metadata": {
    "collapsed": false
   },
   "outputs": [
    {
     "name": "stdout",
     "output_type": "stream",
     "text": [
      "FEATURE-REDUCED FEATURE SPACE (orig len 2919) <FeatureSpace \"out.fit (subset) (sorted) (feature reduced)\" n_features=120 n_total_samples=450 n_samples_per_group=1 n_classes=3 samples_per_class=(\"moreBody\": 150, \"moreCuticle\": 150, \"moreGray\": 150)>:'\n"
     ]
    },
    {
     "data": {
      "text/plain": [
       "<FeatureSpace \"out.fit (subset) (sorted) (feature reduced)\" n_features=120 n_total_samples=450 n_samples_per_group=1 n_classes=3 samples_per_class=(\"moreBody\": 150, \"moreCuticle\": 150, \"moreGray\": 150)>"
      ]
     },
     "execution_count": 63,
     "metadata": {},
     "output_type": "execute_result"
    }
   ],
   "source": [
    "train_set.FeatureReduce( fw[:120], inplace=True)"
   ]
  },
  {
   "cell_type": "code",
   "execution_count": 64,
   "metadata": {
    "collapsed": true
   },
   "outputs": [],
   "source": [
    "train_set.ToFitFile( './CuticleTrainedClassifier_s150_f120.fit')"
   ]
  },
  {
   "cell_type": "code",
   "execution_count": 65,
   "metadata": {
    "collapsed": false
   },
   "outputs": [
    {
     "data": {
      "text/plain": [
       "u'/Users/colettace/projects/new_worm_bodypart_heatmap/cuticle_classifier/trainingset2'"
      ]
     },
     "execution_count": 65,
     "metadata": {},
     "output_type": "execute_result"
    }
   ],
   "source": [
    "pwd"
   ]
  },
  {
   "cell_type": "code",
   "execution_count": 67,
   "metadata": {
    "collapsed": false
   },
   "outputs": [
    {
     "name": "stdout",
     "output_type": "stream",
     "text": [
      "-rw-r--r--  1 colettace  staff   558K Sep 28 13:24 CuticleTrainedClassifier_s150_f120.fit\r\n"
     ]
    }
   ],
   "source": [
    "!ls -lh CuticleTrainedClassifier_s150_f120.fit"
   ]
  },
  {
   "cell_type": "markdown",
   "metadata": {
    "collapsed": true
   },
   "source": [
    "# Generate features"
   ]
  },
  {
   "cell_type": "code",
   "execution_count": 1,
   "metadata": {
    "collapsed": false
   },
   "outputs": [
    {
     "data": {
      "text/plain": [
       "u'/Users/colettace/projects/new_worm_bodypart_heatmap/cuticle_classifier'"
      ]
     },
     "execution_count": 1,
     "metadata": {},
     "output_type": "execute_result"
    }
   ],
   "source": [
    "pwd"
   ]
  },
  {
   "cell_type": "code",
   "execution_count": 2,
   "metadata": {
    "collapsed": false
   },
   "outputs": [
    {
     "name": "stdout",
     "output_type": "stream",
     "text": [
      "/Users/colettace/projects/new_worm_bodypart_heatmap/2015_analysis\n"
     ]
    }
   ],
   "source": [
    "cd /Users/colettace/projects/new_worm_bodypart_heatmap/2015_analysis/"
   ]
  },
  {
   "cell_type": "code",
   "execution_count": 3,
   "metadata": {
    "collapsed": false
   },
   "outputs": [
    {
     "name": "stdout",
     "output_type": "stream",
     "text": [
      "\u001b[31mE16fld53.tif\u001b[m\u001b[m* \u001b[31mG9fld09.tif\u001b[m\u001b[m*  \u001b[31mG9fld37.tif\u001b[m\u001b[m*  \u001b[31mG9fld44.tif\u001b[m\u001b[m*  \u001b[31mG9fld51.tif\u001b[m\u001b[m*  test.tif      test0.tif\r\n"
     ]
    }
   ],
   "source": [
    "ls *.tif"
   ]
  },
  {
   "cell_type": "code",
   "execution_count": 4,
   "metadata": {
    "collapsed": true
   },
   "outputs": [],
   "source": [
    "from wndcharm.FeatureSpace import FeatureSpace"
   ]
  },
  {
   "cell_type": "code",
   "execution_count": 5,
   "metadata": {
    "collapsed": false
   },
   "outputs": [
    {
     "name": "stdout",
     "output_type": "stream",
     "text": [
      "LOADED FEATURE SPACE FROM WND-CHARM .fit FILE CuticleTrainedClassifier_s150_f120.fit: <FeatureSpace \"CuticleTrainedClassifier_s150_f120.fit\" n_features=120 n_total_samples=450 n_samples_per_group=1 n_classes=3 samples_per_class=(\"moreBody\": 150, \"moreCuticle\": 150, \"moreGray\": 150)>\n"
     ]
    }
   ],
   "source": [
    "fs = FeatureSpace.NewFromFitFile( 'CuticleTrainedClassifier_s150_f120.fit')"
   ]
  },
  {
   "cell_type": "code",
   "execution_count": 6,
   "metadata": {
    "collapsed": true
   },
   "outputs": [],
   "source": [
    "from wndcharm.FeatureVector import SlidingWindow"
   ]
  },
  {
   "cell_type": "code",
   "execution_count": 7,
   "metadata": {
    "collapsed": true
   },
   "outputs": [],
   "source": [
    "import time"
   ]
  },
  {
   "cell_type": "code",
   "execution_count": 8,
   "metadata": {
    "collapsed": false
   },
   "outputs": [],
   "source": [
    "import matplotlib.pyplot as plt\n",
    "import matplotlib.cm as cm"
   ]
  },
  {
   "cell_type": "code",
   "execution_count": 9,
   "metadata": {
    "collapsed": true
   },
   "outputs": [],
   "source": [
    "%matplotlib inline"
   ]
  },
  {
   "cell_type": "code",
   "execution_count": 10,
   "metadata": {
    "collapsed": true
   },
   "outputs": [],
   "source": [
    "im = plt.imread( 'E16fld53.tif')"
   ]
  },
  {
   "cell_type": "code",
   "execution_count": 11,
   "metadata": {
    "collapsed": false
   },
   "outputs": [
    {
     "data": {
      "text/plain": [
       "<matplotlib.image.AxesImage at 0x1110293d0>"
      ]
     },
     "execution_count": 11,
     "metadata": {},
     "output_type": "execute_result"
    },
    {
     "data": {
      "image/png": "[encoded data removed]",
      "text/plain": [
       "<matplotlib.figure.Figure at 0x112c14d50>"
      ]
     },
     "metadata": {},
     "output_type": "display_data"
    }
   ],
   "source": [
    "plt.imshow(im, cmap=cm.Greys_r, interpolation='none')"
   ]
  },
  {
   "cell_type": "code",
   "execution_count": 12,
   "metadata": {
    "collapsed": true
   },
   "outputs": [],
   "source": [
    "window = SlidingWindow( source_filepath='E16fld53.tif', w=90, h=90, deltax=30, deltay=30, feature_names=fs.feature_names)"
   ]
  },
  {
   "cell_type": "code",
   "execution_count": null,
   "metadata": {
    "collapsed": false,
    "scrolled": true
   },
   "outputs": [],
   "source": [
    "t1 = time.time()\n",
    "test_img = FeatureSpace.NewFromSlidingWindow( window, n_jobs=True, quiet=False)\n",
    "t2 = time.time()\n",
    "print \"Feature calculation for {} features in {} positions took {} minutes.\".format( fs.num_features, window.num_positions, (t2-t1)/60 )"
   ]
  },
  {
   "cell_type": "code",
   "execution_count": 16,
   "metadata": {
    "collapsed": false
   },
   "outputs": [
    {
     "data": {
      "text/plain": [
       "<FeatureSpace n_features=120 n_total_samples=1333 n_samples_per_group=1 n_classes=1 samples_per_class=(\"UNKNOWN\": 1333)>"
      ]
     },
     "execution_count": 16,
     "metadata": {},
     "output_type": "execute_result"
    }
   ],
   "source": [
    "test_img"
   ]
  },
  {
   "cell_type": "code",
   "execution_count": 17,
   "metadata": {
    "collapsed": false
   },
   "outputs": [
    {
     "name": "stdout",
     "output_type": "stream",
     "text": [
      "Feature calculation for 120 features in 1333 positions took 11.1050894817 minutes.\n"
     ]
    }
   ],
   "source": [
    "print \"Feature calculation for {} features in {} positions took {} minutes.\".format( fs.num_features, window.num_positions, (t2-t1)/60 )"
   ]
  },
  {
   "cell_type": "code",
   "execution_count": null,
   "metadata": {
    "collapsed": true
   },
   "outputs": [],
   "source": []
  }
 ],
 "metadata": {
  "kernelspec": {
   "display_name": "Python 2",
   "language": "python",
   "name": "python2"
  },
  "language_info": {
   "codemirror_mode": {
    "name": "ipython",
    "version": 2
   },
   "file_extension": ".py",
   "mimetype": "text/x-python",
   "name": "python",
   "nbconvert_exporter": "python",
   "pygments_lexer": "ipython2",
   "version": "2.7.10"
  }
 },
 "nbformat": 4,
 "nbformat_minor": 0
}
