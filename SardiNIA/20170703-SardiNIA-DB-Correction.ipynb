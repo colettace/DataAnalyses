{
 "cells": [
  {
   "cell_type": "markdown",
   "metadata": {},
   "source": [
    "# Correct Wave III\n",
    "\n",
    "We have to update (overwrite) some rows in the database, based on a new .mbd file that the Sardinians sent us.\n",
    "\n",
    "```\n",
    "Marco Masala <marco.masala@gmail.com>\n",
    "Monday, July 3, 2017 at 12:55 PM\n",
    "Dear Christopher,\n",
    "I updated the third wave database with the data provided by Angelo Scuteri. The only table that has been modified is VASCULAR where new records have been added. New records contain information only on the diam_S, diam_D, and IMT fields.\n",
    "```"
   ]
  },
  {
   "cell_type": "markdown",
   "metadata": {},
   "source": [
    "# Initial declarations"
   ]
  },
  {
   "cell_type": "code",
   "execution_count": 1,
   "metadata": {},
   "outputs": [
    {
     "data": {
      "text/plain": [
       "'/Users/colettace/projects/david/sardiNIA_database/latest/20170703_IMT_update'"
      ]
     },
     "execution_count": 1,
     "metadata": {},
     "output_type": "execute_result"
    }
   ],
   "source": [
    "pwd"
   ]
  },
  {
   "cell_type": "code",
   "execution_count": 2,
   "metadata": {
    "collapsed": true
   },
   "outputs": [],
   "source": [
    "import pandas as pd\n",
    "from subprocess import check_output\n",
    "from io import BytesIO"
   ]
  },
  {
   "cell_type": "code",
   "execution_count": 3,
   "metadata": {},
   "outputs": [
    {
     "data": {
      "text/plain": [
       "'0.20.2'"
      ]
     },
     "execution_count": 3,
     "metadata": {},
     "output_type": "execute_result"
    }
   ],
   "source": [
    "pd.__version__"
   ]
  },
  {
   "cell_type": "code",
   "execution_count": 5,
   "metadata": {},
   "outputs": [
    {
     "name": "stderr",
     "output_type": "stream",
     "text": [
      "/usr/local/lib/python3.6/site-packages/IPython/core/interactiveshell.py:2698: DtypeWarning: Columns (20,21,22,23,24,30,72,73,76,77,80,81,101,105,106,114,166,203,340,750) have mixed types. Specify dtype option on import or set low_memory=False.\n",
      "  interactivity=interactivity, compiler=compiler, result=result)\n"
     ]
    }
   ],
   "source": [
    "prf = pd.read_csv( '../TSV_release/2017-02-24-Sardinia-Data-TAB.txt', sep='\\t')"
   ]
  },
  {
   "cell_type": "markdown",
   "metadata": {},
   "source": [
    "# Load Sardinia's Microsoft Access Files that contains the correction"
   ]
  },
  {
   "cell_type": "code",
   "execution_count": 6,
   "metadata": {
    "collapsed": true
   },
   "outputs": [],
   "source": [
    "new_db_path = 'dbSardiniaIII_2017_vascular_update.mdb'"
   ]
  },
  {
   "cell_type": "markdown",
   "metadata": {},
   "source": [
    "## Get Names of tables in mdb file"
   ]
  },
  {
   "cell_type": "code",
   "execution_count": 7,
   "metadata": {
    "collapsed": true
   },
   "outputs": [],
   "source": [
    "table_names = check_output( ['mdb-tables', new_db_path]).decode().strip().split()"
   ]
  },
  {
   "cell_type": "code",
   "execution_count": 8,
   "metadata": {},
   "outputs": [
    {
     "data": {
      "text/plain": [
       "31"
      ]
     },
     "execution_count": 8,
     "metadata": {},
     "output_type": "execute_result"
    }
   ],
   "source": [
    "len(table_names)"
   ]
  },
  {
   "cell_type": "code",
   "execution_count": 9,
   "metadata": {},
   "outputs": [
    {
     "data": {
      "text/plain": [
       "['BLOOD',\n",
       " 'DISEASES',\n",
       " 'DISEASESCHECKLIST_n',\n",
       " 'ECG',\n",
       " 'ECOCARDIO_ANAMNESI',\n",
       " 'ECOCARDIO_Aortic_Valve',\n",
       " 'ECOCARDIO_AVsuLA',\n",
       " 'ECOCARDIO_common',\n",
       " 'ECOCARDIO_Mitral_Valve',\n",
       " 'ECOCARDIO_Tricuspid_Valve',\n",
       " 'EXAMINATION_BIS',\n",
       " 'HOLTER',\n",
       " 'INDIVIDUAL',\n",
       " 'MEDHISTORY',\n",
       " 'MMSE',\n",
       " 'OTHERMEDICATIONS_2',\n",
       " 'OTHERMEDICATIONS1',\n",
       " 'PHYSICAL_ACTIVITY',\n",
       " 'PHYSICAL_TEST',\n",
       " 'SPHIGMOCOR',\n",
       " 'SPIROMETER',\n",
       " 'URINE',\n",
       " 'VASCULAR',\n",
       " 'DISEASECHECKLIST',\n",
       " 'ECOCARDIO_LV_Teichholz_M',\n",
       " 'MEDICATIONS',\n",
       " 'PQCT',\n",
       " 'CESD',\n",
       " 'EXAMINATION',\n",
       " 'NEO',\n",
       " 'PVW']"
      ]
     },
     "execution_count": 9,
     "metadata": {},
     "output_type": "execute_result"
    }
   ],
   "source": [
    "table_names"
   ]
  },
  {
   "cell_type": "markdown",
   "metadata": {},
   "source": [
    "# Load Italian Data\n",
    "\n",
    "Take only the table that contains the corrected fields, i.e., the \"VASCULAR\" table. (I'm reusing this code from a notebook that usually loads all data from all tables, thus the seemingly unnecesary <code>for</code> loop)"
   ]
  },
  {
   "cell_type": "code",
   "execution_count": 10,
   "metadata": {},
   "outputs": [
    {
     "name": "stdout",
     "output_type": "stream",
     "text": [
      "Nrows\tNindivs\tNfields\tTableName\n",
      "4842\t4842\t13\tVASCULAR\n"
     ]
    }
   ],
   "source": [
    "print ('\\t'.join( [\"Nrows\", \"Nindivs\", \"Nfields\", \"TableName\" ] ))\n",
    "\n",
    "all_tables = {}\n",
    "\n",
    "for table_name in table_names:\n",
    "    \n",
    "    if table_name != 'VASCULAR':\n",
    "        continue\n",
    "    # Pull the table\n",
    "    df = pd.read_csv( BytesIO( check_output( ['mdb-export', new_db_path, table_name ] ) ) )\n",
    "    \n",
    "    # how many unique individual ids in this table?\n",
    "    try:\n",
    "        individual_id_set = set( df.ID_INDIVIDUAL )\n",
    "    except AttributeError:\n",
    "        individual_id_set = set( df.id_individual )\n",
    "    \n",
    "    # Get table shape\n",
    "    rows, cols = df.shape\n",
    "\n",
    "    print (\"{}\\t{}\\t{}\\t{}\".format( rows, len( individual_id_set ), cols, table_name ))\n",
    "\n",
    "    all_tables[ table_name ] = df"
   ]
  },
  {
   "cell_type": "code",
   "execution_count": 11,
   "metadata": {},
   "outputs": [
    {
     "data": {
      "text/plain": [
       "1"
      ]
     },
     "execution_count": 11,
     "metadata": {},
     "output_type": "execute_result"
    }
   ],
   "source": [
    "len(all_tables)"
   ]
  },
  {
   "cell_type": "markdown",
   "metadata": {},
   "source": [
    "# Get statistics from new data\n",
    "\n",
    "We know from Marco's email reprinted above that there are only three fields that we care about, namely, 'diam_D', 'diam_S', 'IMT'.\n",
    "\n",
    "The <code>.count()</code> function counts the number of non-empty cells."
   ]
  },
  {
   "cell_type": "code",
   "execution_count": 12,
   "metadata": {
    "collapsed": true
   },
   "outputs": [],
   "source": [
    "incoming_vascular = all_tables['VASCULAR'].loc[ :, ['ID_INDIVIDUAL', 'diam_D', 'diam_S', 'IMT'] ]"
   ]
  },
  {
   "cell_type": "code",
   "execution_count": 13,
   "metadata": {
    "collapsed": true
   },
   "outputs": [],
   "source": [
    "incoming_vascular.columns = ['id_individual', 'diam_D', 'diam_S', 'IMT']"
   ]
  },
  {
   "cell_type": "code",
   "execution_count": 14,
   "metadata": {},
   "outputs": [
    {
     "data": {
      "text/plain": [
       "id_individual    4842\n",
       "diam_D           2337\n",
       "diam_S           2270\n",
       "IMT              4404\n",
       "dtype: int64"
      ]
     },
     "execution_count": 14,
     "metadata": {},
     "output_type": "execute_result"
    }
   ],
   "source": [
    "incoming_vascular.count()"
   ]
  },
  {
   "cell_type": "markdown",
   "metadata": {},
   "source": [
    "# Get statistics from old data\n",
    "\n",
    "Note that the field names from the Italian and US databases for the same variable are different. There is an Excel spreadsheet in the FTP that shows the correspondance between the two."
   ]
  },
  {
   "cell_type": "code",
   "execution_count": 15,
   "metadata": {
    "collapsed": true
   },
   "outputs": [],
   "source": [
    "existing_vascular = prf.loc[ prf.Wave == 3, ['Wave', 'id_individual', 'vasDiaDiam', 'vasSysDiam', 'vasIMT' ] ]"
   ]
  },
  {
   "cell_type": "code",
   "execution_count": 16,
   "metadata": {},
   "outputs": [
    {
     "data": {
      "text/html": [
       "<div>\n",
       "<style>\n",
       "    .dataframe thead tr:only-child th {\n",
       "        text-align: right;\n",
       "    }\n",
       "\n",
       "    .dataframe thead th {\n",
       "        text-align: left;\n",
       "    }\n",
       "\n",
       "    .dataframe tbody tr th {\n",
       "        vertical-align: top;\n",
       "    }\n",
       "</style>\n",
       "<table border=\"1\" class=\"dataframe\">\n",
       "  <thead>\n",
       "    <tr style=\"text-align: right;\">\n",
       "      <th></th>\n",
       "      <th>Wave</th>\n",
       "      <th>id_individual</th>\n",
       "      <th>vasDiaDiam</th>\n",
       "      <th>vasSysDiam</th>\n",
       "      <th>vasIMT</th>\n",
       "    </tr>\n",
       "  </thead>\n",
       "  <tbody>\n",
       "    <tr>\n",
       "      <th>5</th>\n",
       "      <td>3</td>\n",
       "      <td>7</td>\n",
       "      <td>6.1</td>\n",
       "      <td>6.5</td>\n",
       "      <td>0.61</td>\n",
       "    </tr>\n",
       "    <tr>\n",
       "      <th>12</th>\n",
       "      <td>3</td>\n",
       "      <td>9</td>\n",
       "      <td>NaN</td>\n",
       "      <td>NaN</td>\n",
       "      <td>NaN</td>\n",
       "    </tr>\n",
       "    <tr>\n",
       "      <th>19</th>\n",
       "      <td>3</td>\n",
       "      <td>13</td>\n",
       "      <td>NaN</td>\n",
       "      <td>NaN</td>\n",
       "      <td>NaN</td>\n",
       "    </tr>\n",
       "    <tr>\n",
       "      <th>23</th>\n",
       "      <td>3</td>\n",
       "      <td>14</td>\n",
       "      <td>NaN</td>\n",
       "      <td>NaN</td>\n",
       "      <td>0.62</td>\n",
       "    </tr>\n",
       "    <tr>\n",
       "      <th>25</th>\n",
       "      <td>3</td>\n",
       "      <td>17</td>\n",
       "      <td>NaN</td>\n",
       "      <td>NaN</td>\n",
       "      <td>NaN</td>\n",
       "    </tr>\n",
       "  </tbody>\n",
       "</table>\n",
       "</div>"
      ],
      "text/plain": [
       "    Wave  id_individual  vasDiaDiam  vasSysDiam  vasIMT\n",
       "5      3              7         6.1         6.5    0.61\n",
       "12     3              9         NaN         NaN     NaN\n",
       "19     3             13         NaN         NaN     NaN\n",
       "23     3             14         NaN         NaN    0.62\n",
       "25     3             17         NaN         NaN     NaN"
      ]
     },
     "execution_count": 16,
     "metadata": {},
     "output_type": "execute_result"
    }
   ],
   "source": [
    "existing_vascular.head()"
   ]
  },
  {
   "cell_type": "code",
   "execution_count": 17,
   "metadata": {},
   "outputs": [
    {
     "data": {
      "text/plain": [
       "Wave             4842\n",
       "id_individual    4842\n",
       "vasDiaDiam        634\n",
       "vasSysDiam        614\n",
       "vasIMT           2219\n",
       "dtype: int64"
      ]
     },
     "execution_count": 17,
     "metadata": {},
     "output_type": "execute_result"
    }
   ],
   "source": [
    "existing_vascular.count()"
   ]
  },
  {
   "cell_type": "markdown",
   "metadata": {},
   "source": [
    "As you can see there are vastly  more empty cells in our public release version than the ones that Marco sent."
   ]
  },
  {
   "cell_type": "markdown",
   "metadata": {},
   "source": [
    "# Are we talking about the same people?"
   ]
  },
  {
   "cell_type": "code",
   "execution_count": 18,
   "metadata": {},
   "outputs": [
    {
     "data": {
      "text/plain": [
       "True"
      ]
     },
     "execution_count": 18,
     "metadata": {},
     "output_type": "execute_result"
    }
   ],
   "source": [
    "set( existing_vascular.id_individual ) == set( incoming_vascular.id_individual )"
   ]
  },
  {
   "cell_type": "markdown",
   "metadata": {},
   "source": [
    "# Segregate database into wave 3/non wave 3"
   ]
  },
  {
   "cell_type": "code",
   "execution_count": 19,
   "metadata": {
    "collapsed": true
   },
   "outputs": [],
   "source": [
    "wave3prf = prf.loc[ prf.Wave == 3 ]"
   ]
  },
  {
   "cell_type": "code",
   "execution_count": 20,
   "metadata": {
    "collapsed": true
   },
   "outputs": [],
   "source": [
    "nonwave3prf = prf.loc[ prf.Wave != 3 ]"
   ]
  },
  {
   "cell_type": "markdown",
   "metadata": {},
   "source": [
    "# Check to see there aren't multiple records for participant"
   ]
  },
  {
   "cell_type": "code",
   "execution_count": 21,
   "metadata": {
    "collapsed": true
   },
   "outputs": [],
   "source": [
    "from collections import Counter"
   ]
  },
  {
   "cell_type": "code",
   "execution_count": 22,
   "metadata": {
    "scrolled": true
   },
   "outputs": [
    {
     "data": {
      "text/plain": [
       "[]"
      ]
     },
     "execution_count": 22,
     "metadata": {},
     "output_type": "execute_result"
    }
   ],
   "source": [
    "[ _id for _id, count in Counter( list(wave3prf.id_individual)).items() if count > 1]"
   ]
  },
  {
   "cell_type": "code",
   "execution_count": 23,
   "metadata": {},
   "outputs": [
    {
     "data": {
      "text/plain": [
       "[]"
      ]
     },
     "execution_count": 23,
     "metadata": {},
     "output_type": "execute_result"
    }
   ],
   "source": [
    "[ _id for _id, count in Counter( list(incoming_vascular.id_individual)).items() if count > 1]"
   ]
  },
  {
   "cell_type": "markdown",
   "metadata": {},
   "source": [
    "They are unique individuals!"
   ]
  },
  {
   "cell_type": "markdown",
   "metadata": {},
   "source": [
    "# Make row indices be the value in id_individual\n",
    "\n",
    "I learned this the hard way: if you're going to update/overwrite some cells, they *MUST* have the same index and column headers. Before, in the NIH public release database, the row index was an arbitrary integer. We'll temporarily assign the value of the <code>id_individual</code> field to be the new index, so that we can do the update operation. Then when we're done, we'll reassign the old index back to the rows and rejoin then with the data from the other waves.\n",
    "\n",
    "Warning: the <code>set_index()</code> function by default yields a new object, so use the <code>inplace=True</code> argument.\n",
    "\n",
    "It is shown that the destination cells are already sorted by id_individual. Sort the incoming rows by index to match (although technically I think it's unnecessary to do that, pretty sure PANDAS will do the update operation correctly as long as the row indices are correct, they can be out of order.)"
   ]
  },
  {
   "cell_type": "code",
   "execution_count": 24,
   "metadata": {
    "collapsed": true
   },
   "outputs": [],
   "source": [
    "original_index = wave3prf.id_individual"
   ]
  },
  {
   "cell_type": "code",
   "execution_count": 25,
   "metadata": {
    "collapsed": true
   },
   "outputs": [],
   "source": [
    "wave3prf.set_index( 'id_individual', inplace=True, drop=False )"
   ]
  },
  {
   "cell_type": "code",
   "execution_count": 26,
   "metadata": {
    "collapsed": true
   },
   "outputs": [],
   "source": [
    "incoming_vascular.set_index( 'id_individual', inplace=True, drop=True )"
   ]
  },
  {
   "cell_type": "code",
   "execution_count": 27,
   "metadata": {
    "collapsed": true
   },
   "outputs": [],
   "source": [
    "incoming_vascular.sort_index(inplace=True)"
   ]
  },
  {
   "cell_type": "code",
   "execution_count": 28,
   "metadata": {},
   "outputs": [
    {
     "data": {
      "text/plain": [
       "True"
      ]
     },
     "execution_count": 28,
     "metadata": {},
     "output_type": "execute_result"
    }
   ],
   "source": [
    "all(wave3prf.index == incoming_vascular.index)"
   ]
  },
  {
   "cell_type": "markdown",
   "metadata": {},
   "source": [
    "# Check the target cells before asignment"
   ]
  },
  {
   "cell_type": "code",
   "execution_count": 29,
   "metadata": {},
   "outputs": [
    {
     "data": {
      "text/plain": [
       "vasDiaDiam     634\n",
       "vasSysDiam     614\n",
       "vasIMT        2219\n",
       "dtype: int64"
      ]
     },
     "execution_count": 29,
     "metadata": {},
     "output_type": "execute_result"
    }
   ],
   "source": [
    "wave3prf.loc[ :, ['vasDiaDiam', 'vasSysDiam', 'vasIMT' ] ].count()"
   ]
  },
  {
   "cell_type": "markdown",
   "metadata": {},
   "source": [
    "# Make the assignment\n",
    "\n",
    "For some reason, the update operation works using the syntax in the following cell, but does *NOT* work using the <code>.loc[]</code> syntax like they keep telling everyone to use:"
   ]
  },
  {
   "cell_type": "code",
   "execution_count": 30,
   "metadata": {},
   "outputs": [
    {
     "name": "stderr",
     "output_type": "stream",
     "text": [
      "/usr/local/lib/python3.6/site-packages/pandas/core/frame.py:2352: SettingWithCopyWarning: \n",
      "A value is trying to be set on a copy of a slice from a DataFrame.\n",
      "Try using .loc[row_indexer,col_indexer] = value instead\n",
      "\n",
      "See the caveats in the documentation: http://pandas.pydata.org/pandas-docs/stable/indexing.html#indexing-view-versus-copy\n",
      "  self[k1] = value[k2]\n"
     ]
    }
   ],
   "source": [
    "wave3prf[ ['vasDiaDiam', 'vasSysDiam', 'vasIMT' ] ] = \\\n",
    "    incoming_vascular[ ['diam_D', 'diam_S', 'IMT'] ]"
   ]
  },
  {
   "cell_type": "markdown",
   "metadata": {},
   "source": [
    "# Check to see it worked"
   ]
  },
  {
   "cell_type": "code",
   "execution_count": 31,
   "metadata": {},
   "outputs": [
    {
     "data": {
      "text/plain": [
       "vasDiaDiam    2337\n",
       "vasSysDiam    2270\n",
       "vasIMT        4404\n",
       "dtype: int64"
      ]
     },
     "execution_count": 31,
     "metadata": {},
     "output_type": "execute_result"
    }
   ],
   "source": [
    "wave3prf[ ['vasDiaDiam', 'vasSysDiam', 'vasIMT' ] ].count()"
   ]
  },
  {
   "cell_type": "code",
   "execution_count": 32,
   "metadata": {
    "collapsed": true
   },
   "outputs": [],
   "source": [
    "wave3prf.index = original_index.index"
   ]
  },
  {
   "cell_type": "markdown",
   "metadata": {},
   "source": [
    "# Merge back with the rest of the waves"
   ]
  },
  {
   "cell_type": "code",
   "execution_count": 34,
   "metadata": {},
   "outputs": [
    {
     "data": {
      "text/plain": [
       "vasDiaDiam     634\n",
       "vasSysDiam     614\n",
       "vasIMT        2219\n",
       "dtype: int64"
      ]
     },
     "execution_count": 34,
     "metadata": {},
     "output_type": "execute_result"
    }
   ],
   "source": [
    "prf.loc[ prf.Wave == 3, ['vasDiaDiam', 'vasSysDiam', 'vasIMT' ] ].count()"
   ]
  },
  {
   "cell_type": "code",
   "execution_count": 35,
   "metadata": {
    "collapsed": true
   },
   "outputs": [],
   "source": [
    "prf = pd.concat( [nonwave3prf, wave3prf] ).sort_index()"
   ]
  },
  {
   "cell_type": "code",
   "execution_count": 36,
   "metadata": {},
   "outputs": [
    {
     "data": {
      "text/plain": [
       "vasDiaDiam    2337\n",
       "vasSysDiam    2270\n",
       "vasIMT        4404\n",
       "dtype: int64"
      ]
     },
     "execution_count": 36,
     "metadata": {},
     "output_type": "execute_result"
    }
   ],
   "source": [
    "prf.loc[ prf.Wave == 3, ['vasDiaDiam', 'vasSysDiam', 'vasIMT' ] ].count()"
   ]
  },
  {
   "cell_type": "markdown",
   "metadata": {},
   "source": [
    "# Database cleanup item 2:\n",
    "\n",
    "This never got done in this release. Save it for next time:\n",
    "\n",
    "```\n",
    "From: \"Qian, Yong (NIH/NIA/IRP) [C]\" <QianY@grc.nia.nih.gov>\n",
    "Date: Friday, April 28, 2017 at 12:08 PM\n",
    "To: \"Coletta, Christopher (NIH/NIA/IRP) [E]\" <christopher.coletta@nih.gov>\n",
    "Cc: \"Ding, Jun (NIH/NIA/IRP) [E]\" <jun.ding@nih.gov>, \"Schlessinger, David (NIH/NIA/IRP) [E]\" <SchlessingerD@grc.nia.nih.gov>\n",
    "Subject: repeated records in 2017-02-24-Sardinia-Data-TAB.txt\n",
    " \n",
    "Hi Chris,\n",
    "\n",
    "There were a few wave2 pwv records that are repeated in 2017-02-24-Sardinia-Data-TAB.txt.  Can you correct the database file?\n",
    "I understand that the you didn’t process the wave2 data so it was not your fault.\n",
    " \n",
    "Here are those:\n",
    "id_individual   Wave    pwvDate pwvQual pwv\n",
    "3528    2       2006-01-27      3       509\n",
    "4285    2       2005-06-10      3       754.8   \n",
    "11633   2       2006-12-06      3       590.5   \n",
    "27393   2       2006-09-13      3       957.5   \n",
    "30245   2       2006-01-31      2       771.7   \n",
    " \n",
    "Yong\n",
    "```\n",
    "\n",
    "======\n",
    "\n",
    "```\n",
    "From: Coletta, Christopher (NIH/NIA/IRP) [E]\n",
    "Sent: Friday, April 28, 2017 12:12:24 PM\n",
    "To: Qian, Yong (NIH/NIA/IRP) [C]\n",
    "Cc: Ding, Jun (NIH/NIA/IRP) [E]; Schlessinger, David (NIH/NIA/IRP) [E]\n",
    "Subject: Re: repeated records in 2017-02-24-Sardinia-Data-TAB.txt\n",
    " \n",
    "I understand.\n",
    " \n",
    "When the same thing happened in the Wave IV data (duplicate PWV readings), I looked at the date and selected the ones the fell within the Wave IV date range. I’ll try to do the same in this case.\n",
    " \n",
    "Is there a table somewhere available showing the dates that correspond to the waves?\n",
    " \n",
    "-Chris\n",
    " ```\n",
    " \n",
    "======\n",
    "\n",
    " ```\n",
    " I don't think there is a date table for waves.  \n",
    "\n",
    "I think in general, waves are defined as:\n",
    "wave1:  12/2001 to 5/2004\n",
    "wave2:    5/2004 to 7/2008\n",
    "wave3:    7/2008 to 1/2012\n",
    "wave4:    2/2012 to 5/2016 ?\n",
    "\n",
    "correct me if I am wrong.\n",
    "\n",
    "Yong\n",
    "```"
   ]
  },
  {
   "cell_type": "markdown",
   "metadata": {},
   "source": [
    "# Format the database for text/TSV format and write to file\n",
    "\n",
    "Convert all numeric values to strings and lop off .0's, etc"
   ]
  },
  {
   "cell_type": "code",
   "execution_count": 38,
   "metadata": {
    "collapsed": true
   },
   "outputs": [],
   "source": [
    "for name in list(prf.columns):\n",
    "    prf[name] = prf[name].astype(str)\n",
    "prf.replace( to_replace='nan', value='', inplace=True, regex=False )\n",
    "prf.replace( to_replace='NaT', value='', inplace=True, regex=False )\n",
    "prf.replace( regex=True, inplace=True, to_replace=r'\\.0$', value='')\n",
    "prf.replace( regex=True, inplace=True, to_replace=r'00000+\\d$', value='')\n",
    "prf.replace( regex=True, inplace=True, to_replace=r'999999+\\d$', value='')"
   ]
  },
  {
   "cell_type": "code",
   "execution_count": 39,
   "metadata": {
    "collapsed": true
   },
   "outputs": [],
   "source": [
    "prf.to_csv( '2017-07-07-Sardinia-Data-TAB.txt', sep='\\t', encoding='utf-8', index=False)"
   ]
  },
  {
   "cell_type": "code",
   "execution_count": 41,
   "metadata": {},
   "outputs": [
    {
     "name": "stdout",
     "output_type": "stream",
     "text": [
      "-rw-r--r--@ 1 colettace  NIH\\Domain Users  41187887 Jul  3 16:22 2017-07-03-Sardinia-TAB.txt\r\n",
      "-rw-r--r--  1 colettace  NIH\\Domain Users  41217915 Jul  7 16:54 2017-07-07-Sardinia-Data-TAB.txt\r\n",
      "-rw-r--r--  1 colettace  NIH\\Domain Users  41217915 Jul  7 18:00 2017-07-07-Sardinia-TAB-NEW.txt\r\n"
     ]
    }
   ],
   "source": [
    "ls -l *TAB*.txt"
   ]
  },
  {
   "cell_type": "code",
   "execution_count": 40,
   "metadata": {},
   "outputs": [
    {
     "data": {
      "text/plain": [
       "20968"
      ]
     },
     "execution_count": 40,
     "metadata": {},
     "output_type": "execute_result"
    }
   ],
   "source": [
    "len(prf)"
   ]
  },
  {
   "cell_type": "markdown",
   "metadata": {},
   "source": [
    "# Final Check to make sure everything is converted\n",
    "\n",
    "Remember, everything is a string now, so look for wave '3' not wave 3."
   ]
  },
  {
   "cell_type": "code",
   "execution_count": 43,
   "metadata": {},
   "outputs": [
    {
     "data": {
      "text/html": [
       "<div>\n",
       "<style>\n",
       "    .dataframe thead tr:only-child th {\n",
       "        text-align: right;\n",
       "    }\n",
       "\n",
       "    .dataframe thead th {\n",
       "        text-align: left;\n",
       "    }\n",
       "\n",
       "    .dataframe tbody tr th {\n",
       "        vertical-align: top;\n",
       "    }\n",
       "</style>\n",
       "<table border=\"1\" class=\"dataframe\">\n",
       "  <thead>\n",
       "    <tr style=\"text-align: right;\">\n",
       "      <th></th>\n",
       "      <th>Wave</th>\n",
       "      <th>id_individual</th>\n",
       "      <th>vasDiaDiam</th>\n",
       "      <th>vasSysDiam</th>\n",
       "      <th>vasIMT</th>\n",
       "    </tr>\n",
       "  </thead>\n",
       "  <tbody>\n",
       "    <tr>\n",
       "      <th>5</th>\n",
       "      <td>3</td>\n",
       "      <td>7</td>\n",
       "      <td>6.1</td>\n",
       "      <td>6.5</td>\n",
       "      <td>0.61</td>\n",
       "    </tr>\n",
       "    <tr>\n",
       "      <th>12</th>\n",
       "      <td>3</td>\n",
       "      <td>9</td>\n",
       "      <td></td>\n",
       "      <td></td>\n",
       "      <td>0.44</td>\n",
       "    </tr>\n",
       "    <tr>\n",
       "      <th>19</th>\n",
       "      <td>3</td>\n",
       "      <td>13</td>\n",
       "      <td>7.2</td>\n",
       "      <td>7.7</td>\n",
       "      <td>0.84</td>\n",
       "    </tr>\n",
       "    <tr>\n",
       "      <th>23</th>\n",
       "      <td>3</td>\n",
       "      <td>14</td>\n",
       "      <td></td>\n",
       "      <td></td>\n",
       "      <td>0.62</td>\n",
       "    </tr>\n",
       "    <tr>\n",
       "      <th>25</th>\n",
       "      <td>3</td>\n",
       "      <td>17</td>\n",
       "      <td>4.9</td>\n",
       "      <td>5.5</td>\n",
       "      <td>0.59</td>\n",
       "    </tr>\n",
       "  </tbody>\n",
       "</table>\n",
       "</div>"
      ],
      "text/plain": [
       "   Wave id_individual vasDiaDiam vasSysDiam vasIMT\n",
       "5     3             7        6.1        6.5   0.61\n",
       "12    3             9                         0.44\n",
       "19    3            13        7.2        7.7   0.84\n",
       "23    3            14                         0.62\n",
       "25    3            17        4.9        5.5   0.59"
      ]
     },
     "execution_count": 43,
     "metadata": {},
     "output_type": "execute_result"
    }
   ],
   "source": [
    "prf.loc[ prf.Wave == '3', ['Wave', 'id_individual', 'vasDiaDiam', 'vasSysDiam', 'vasIMT' ] ].head()"
   ]
  },
  {
   "cell_type": "markdown",
   "metadata": {},
   "source": [
    "# External checking\n",
    "\n",
    "```diff <(cut -d$'\\t' -f474 2017-07-07-Sardinia-TAB.txt ) <(cut -d$'\\t' -f474 ../2017-02-24-Sardinia-TAB.txt)```"
   ]
  },
  {
   "cell_type": "code",
   "execution_count": 44,
   "metadata": {},
   "outputs": [
    {
     "data": {
      "text/html": [
       "<div>\n",
       "<style>\n",
       "    .dataframe thead tr:only-child th {\n",
       "        text-align: right;\n",
       "    }\n",
       "\n",
       "    .dataframe thead th {\n",
       "        text-align: left;\n",
       "    }\n",
       "\n",
       "    .dataframe tbody tr th {\n",
       "        vertical-align: top;\n",
       "    }\n",
       "</style>\n",
       "<table border=\"1\" class=\"dataframe\">\n",
       "  <thead>\n",
       "    <tr style=\"text-align: right;\">\n",
       "      <th></th>\n",
       "      <th>diam_D</th>\n",
       "      <th>diam_S</th>\n",
       "      <th>IMT</th>\n",
       "    </tr>\n",
       "    <tr>\n",
       "      <th>id_individual</th>\n",
       "      <th></th>\n",
       "      <th></th>\n",
       "      <th></th>\n",
       "    </tr>\n",
       "  </thead>\n",
       "  <tbody>\n",
       "    <tr>\n",
       "      <th>7</th>\n",
       "      <td>6.1</td>\n",
       "      <td>6.5</td>\n",
       "      <td>0.61</td>\n",
       "    </tr>\n",
       "    <tr>\n",
       "      <th>9</th>\n",
       "      <td>NaN</td>\n",
       "      <td>NaN</td>\n",
       "      <td>0.44</td>\n",
       "    </tr>\n",
       "    <tr>\n",
       "      <th>13</th>\n",
       "      <td>7.2</td>\n",
       "      <td>7.7</td>\n",
       "      <td>0.84</td>\n",
       "    </tr>\n",
       "    <tr>\n",
       "      <th>14</th>\n",
       "      <td>NaN</td>\n",
       "      <td>NaN</td>\n",
       "      <td>0.62</td>\n",
       "    </tr>\n",
       "    <tr>\n",
       "      <th>17</th>\n",
       "      <td>4.9</td>\n",
       "      <td>5.5</td>\n",
       "      <td>0.59</td>\n",
       "    </tr>\n",
       "  </tbody>\n",
       "</table>\n",
       "</div>"
      ],
      "text/plain": [
       "               diam_D  diam_S   IMT\n",
       "id_individual                      \n",
       "7                 6.1     6.5  0.61\n",
       "9                 NaN     NaN  0.44\n",
       "13                7.2     7.7  0.84\n",
       "14                NaN     NaN  0.62\n",
       "17                4.9     5.5  0.59"
      ]
     },
     "execution_count": 44,
     "metadata": {},
     "output_type": "execute_result"
    }
   ],
   "source": [
    "incoming_vascular.head()"
   ]
  },
  {
   "cell_type": "code",
   "execution_count": 45,
   "metadata": {},
   "outputs": [
    {
     "data": {
      "text/html": [
       "<div>\n",
       "<style>\n",
       "    .dataframe thead tr:only-child th {\n",
       "        text-align: right;\n",
       "    }\n",
       "\n",
       "    .dataframe thead th {\n",
       "        text-align: left;\n",
       "    }\n",
       "\n",
       "    .dataframe tbody tr th {\n",
       "        vertical-align: top;\n",
       "    }\n",
       "</style>\n",
       "<table border=\"1\" class=\"dataframe\">\n",
       "  <thead>\n",
       "    <tr style=\"text-align: right;\">\n",
       "      <th></th>\n",
       "      <th>Wave</th>\n",
       "      <th>id_individual</th>\n",
       "      <th>vasDiaDiam</th>\n",
       "      <th>vasSysDiam</th>\n",
       "      <th>vasIMT</th>\n",
       "    </tr>\n",
       "  </thead>\n",
       "  <tbody>\n",
       "    <tr>\n",
       "      <th>20886</th>\n",
       "      <td>3</td>\n",
       "      <td>92084</td>\n",
       "      <td></td>\n",
       "      <td></td>\n",
       "      <td>0.42</td>\n",
       "    </tr>\n",
       "    <tr>\n",
       "      <th>20888</th>\n",
       "      <td>3</td>\n",
       "      <td>92085</td>\n",
       "      <td></td>\n",
       "      <td></td>\n",
       "      <td>0.47</td>\n",
       "    </tr>\n",
       "    <tr>\n",
       "      <th>20890</th>\n",
       "      <td>3</td>\n",
       "      <td>92086</td>\n",
       "      <td></td>\n",
       "      <td></td>\n",
       "      <td>0.46</td>\n",
       "    </tr>\n",
       "    <tr>\n",
       "      <th>20892</th>\n",
       "      <td>3</td>\n",
       "      <td>92093</td>\n",
       "      <td></td>\n",
       "      <td></td>\n",
       "      <td>0.55</td>\n",
       "    </tr>\n",
       "    <tr>\n",
       "      <th>20893</th>\n",
       "      <td>3</td>\n",
       "      <td>92119</td>\n",
       "      <td></td>\n",
       "      <td></td>\n",
       "      <td>0.55</td>\n",
       "    </tr>\n",
       "    <tr>\n",
       "      <th>20895</th>\n",
       "      <td>3</td>\n",
       "      <td>92205</td>\n",
       "      <td></td>\n",
       "      <td></td>\n",
       "      <td>0.67</td>\n",
       "    </tr>\n",
       "    <tr>\n",
       "      <th>20897</th>\n",
       "      <td>3</td>\n",
       "      <td>92253</td>\n",
       "      <td></td>\n",
       "      <td></td>\n",
       "      <td>0.43</td>\n",
       "    </tr>\n",
       "    <tr>\n",
       "      <th>20899</th>\n",
       "      <td>3</td>\n",
       "      <td>92281</td>\n",
       "      <td></td>\n",
       "      <td></td>\n",
       "      <td>0.56</td>\n",
       "    </tr>\n",
       "    <tr>\n",
       "      <th>20901</th>\n",
       "      <td>3</td>\n",
       "      <td>92318</td>\n",
       "      <td>5.9</td>\n",
       "      <td>6.2</td>\n",
       "      <td>0.68</td>\n",
       "    </tr>\n",
       "    <tr>\n",
       "      <th>20903</th>\n",
       "      <td>3</td>\n",
       "      <td>92320</td>\n",
       "      <td>5.3</td>\n",
       "      <td>5.9</td>\n",
       "      <td>0.65</td>\n",
       "    </tr>\n",
       "    <tr>\n",
       "      <th>20904</th>\n",
       "      <td>3</td>\n",
       "      <td>92404</td>\n",
       "      <td>5.2</td>\n",
       "      <td>5.7</td>\n",
       "      <td>0.48</td>\n",
       "    </tr>\n",
       "    <tr>\n",
       "      <th>20906</th>\n",
       "      <td>3</td>\n",
       "      <td>92418</td>\n",
       "      <td>4.5</td>\n",
       "      <td>5.1</td>\n",
       "      <td>0.56</td>\n",
       "    </tr>\n",
       "    <tr>\n",
       "      <th>20907</th>\n",
       "      <td>3</td>\n",
       "      <td>92420</td>\n",
       "      <td>4.7</td>\n",
       "      <td>5.1</td>\n",
       "      <td>0.4</td>\n",
       "    </tr>\n",
       "    <tr>\n",
       "      <th>20909</th>\n",
       "      <td>3</td>\n",
       "      <td>92450</td>\n",
       "      <td>4.9</td>\n",
       "      <td>5.2</td>\n",
       "      <td>0.57</td>\n",
       "    </tr>\n",
       "    <tr>\n",
       "      <th>20911</th>\n",
       "      <td>3</td>\n",
       "      <td>92473</td>\n",
       "      <td>4.7</td>\n",
       "      <td>5.5</td>\n",
       "      <td>0.56</td>\n",
       "    </tr>\n",
       "    <tr>\n",
       "      <th>20913</th>\n",
       "      <td>3</td>\n",
       "      <td>92474</td>\n",
       "      <td>6.4</td>\n",
       "      <td>6.9</td>\n",
       "      <td>0.6</td>\n",
       "    </tr>\n",
       "    <tr>\n",
       "      <th>20915</th>\n",
       "      <td>3</td>\n",
       "      <td>92475</td>\n",
       "      <td>4.5</td>\n",
       "      <td>5.1</td>\n",
       "      <td>0.46</td>\n",
       "    </tr>\n",
       "    <tr>\n",
       "      <th>20916</th>\n",
       "      <td>3</td>\n",
       "      <td>92516</td>\n",
       "      <td>5.9</td>\n",
       "      <td>6.1</td>\n",
       "      <td>0.43</td>\n",
       "    </tr>\n",
       "    <tr>\n",
       "      <th>20919</th>\n",
       "      <td>3</td>\n",
       "      <td>92864</td>\n",
       "      <td>5.4</td>\n",
       "      <td>5.9</td>\n",
       "      <td>0.48</td>\n",
       "    </tr>\n",
       "    <tr>\n",
       "      <th>20921</th>\n",
       "      <td>3</td>\n",
       "      <td>92912</td>\n",
       "      <td>5.3</td>\n",
       "      <td>5.9</td>\n",
       "      <td>0.46</td>\n",
       "    </tr>\n",
       "  </tbody>\n",
       "</table>\n",
       "</div>"
      ],
      "text/plain": [
       "      Wave id_individual vasDiaDiam vasSysDiam vasIMT\n",
       "20886    3         92084                         0.42\n",
       "20888    3         92085                         0.47\n",
       "20890    3         92086                         0.46\n",
       "20892    3         92093                         0.55\n",
       "20893    3         92119                         0.55\n",
       "20895    3         92205                         0.67\n",
       "20897    3         92253                         0.43\n",
       "20899    3         92281                         0.56\n",
       "20901    3         92318        5.9        6.2   0.68\n",
       "20903    3         92320        5.3        5.9   0.65\n",
       "20904    3         92404        5.2        5.7   0.48\n",
       "20906    3         92418        4.5        5.1   0.56\n",
       "20907    3         92420        4.7        5.1    0.4\n",
       "20909    3         92450        4.9        5.2   0.57\n",
       "20911    3         92473        4.7        5.5   0.56\n",
       "20913    3         92474        6.4        6.9    0.6\n",
       "20915    3         92475        4.5        5.1   0.46\n",
       "20916    3         92516        5.9        6.1   0.43\n",
       "20919    3         92864        5.4        5.9   0.48\n",
       "20921    3         92912        5.3        5.9   0.46"
      ]
     },
     "execution_count": 45,
     "metadata": {},
     "output_type": "execute_result"
    }
   ],
   "source": [
    "prf.loc[ prf.Wave == '3', ['Wave', 'id_individual', 'vasDiaDiam', 'vasSysDiam', 'vasIMT' ] ].tail(20)"
   ]
  },
  {
   "cell_type": "code",
   "execution_count": 46,
   "metadata": {},
   "outputs": [
    {
     "data": {
      "text/html": [
       "<div>\n",
       "<style>\n",
       "    .dataframe thead tr:only-child th {\n",
       "        text-align: right;\n",
       "    }\n",
       "\n",
       "    .dataframe thead th {\n",
       "        text-align: left;\n",
       "    }\n",
       "\n",
       "    .dataframe tbody tr th {\n",
       "        vertical-align: top;\n",
       "    }\n",
       "</style>\n",
       "<table border=\"1\" class=\"dataframe\">\n",
       "  <thead>\n",
       "    <tr style=\"text-align: right;\">\n",
       "      <th></th>\n",
       "      <th>diam_D</th>\n",
       "      <th>diam_S</th>\n",
       "      <th>IMT</th>\n",
       "    </tr>\n",
       "    <tr>\n",
       "      <th>id_individual</th>\n",
       "      <th></th>\n",
       "      <th></th>\n",
       "      <th></th>\n",
       "    </tr>\n",
       "  </thead>\n",
       "  <tbody>\n",
       "    <tr>\n",
       "      <th>92084</th>\n",
       "      <td>NaN</td>\n",
       "      <td>NaN</td>\n",
       "      <td>0.42</td>\n",
       "    </tr>\n",
       "    <tr>\n",
       "      <th>92085</th>\n",
       "      <td>NaN</td>\n",
       "      <td>NaN</td>\n",
       "      <td>0.47</td>\n",
       "    </tr>\n",
       "    <tr>\n",
       "      <th>92086</th>\n",
       "      <td>NaN</td>\n",
       "      <td>NaN</td>\n",
       "      <td>0.46</td>\n",
       "    </tr>\n",
       "    <tr>\n",
       "      <th>92093</th>\n",
       "      <td>NaN</td>\n",
       "      <td>NaN</td>\n",
       "      <td>0.55</td>\n",
       "    </tr>\n",
       "    <tr>\n",
       "      <th>92119</th>\n",
       "      <td>NaN</td>\n",
       "      <td>NaN</td>\n",
       "      <td>0.55</td>\n",
       "    </tr>\n",
       "    <tr>\n",
       "      <th>92205</th>\n",
       "      <td>NaN</td>\n",
       "      <td>NaN</td>\n",
       "      <td>0.67</td>\n",
       "    </tr>\n",
       "    <tr>\n",
       "      <th>92253</th>\n",
       "      <td>NaN</td>\n",
       "      <td>NaN</td>\n",
       "      <td>0.43</td>\n",
       "    </tr>\n",
       "    <tr>\n",
       "      <th>92281</th>\n",
       "      <td>NaN</td>\n",
       "      <td>NaN</td>\n",
       "      <td>0.56</td>\n",
       "    </tr>\n",
       "    <tr>\n",
       "      <th>92318</th>\n",
       "      <td>5.9</td>\n",
       "      <td>6.2</td>\n",
       "      <td>0.68</td>\n",
       "    </tr>\n",
       "    <tr>\n",
       "      <th>92320</th>\n",
       "      <td>5.3</td>\n",
       "      <td>5.9</td>\n",
       "      <td>0.65</td>\n",
       "    </tr>\n",
       "    <tr>\n",
       "      <th>92404</th>\n",
       "      <td>5.2</td>\n",
       "      <td>5.7</td>\n",
       "      <td>0.48</td>\n",
       "    </tr>\n",
       "    <tr>\n",
       "      <th>92418</th>\n",
       "      <td>4.5</td>\n",
       "      <td>5.1</td>\n",
       "      <td>0.56</td>\n",
       "    </tr>\n",
       "    <tr>\n",
       "      <th>92420</th>\n",
       "      <td>4.7</td>\n",
       "      <td>5.1</td>\n",
       "      <td>0.40</td>\n",
       "    </tr>\n",
       "    <tr>\n",
       "      <th>92450</th>\n",
       "      <td>4.9</td>\n",
       "      <td>5.2</td>\n",
       "      <td>0.57</td>\n",
       "    </tr>\n",
       "    <tr>\n",
       "      <th>92473</th>\n",
       "      <td>4.7</td>\n",
       "      <td>5.5</td>\n",
       "      <td>0.56</td>\n",
       "    </tr>\n",
       "    <tr>\n",
       "      <th>92474</th>\n",
       "      <td>6.4</td>\n",
       "      <td>6.9</td>\n",
       "      <td>0.60</td>\n",
       "    </tr>\n",
       "    <tr>\n",
       "      <th>92475</th>\n",
       "      <td>4.5</td>\n",
       "      <td>5.1</td>\n",
       "      <td>0.46</td>\n",
       "    </tr>\n",
       "    <tr>\n",
       "      <th>92516</th>\n",
       "      <td>5.9</td>\n",
       "      <td>6.1</td>\n",
       "      <td>0.43</td>\n",
       "    </tr>\n",
       "    <tr>\n",
       "      <th>92864</th>\n",
       "      <td>5.4</td>\n",
       "      <td>5.9</td>\n",
       "      <td>0.48</td>\n",
       "    </tr>\n",
       "    <tr>\n",
       "      <th>92912</th>\n",
       "      <td>5.3</td>\n",
       "      <td>5.9</td>\n",
       "      <td>0.46</td>\n",
       "    </tr>\n",
       "  </tbody>\n",
       "</table>\n",
       "</div>"
      ],
      "text/plain": [
       "               diam_D  diam_S   IMT\n",
       "id_individual                      \n",
       "92084             NaN     NaN  0.42\n",
       "92085             NaN     NaN  0.47\n",
       "92086             NaN     NaN  0.46\n",
       "92093             NaN     NaN  0.55\n",
       "92119             NaN     NaN  0.55\n",
       "92205             NaN     NaN  0.67\n",
       "92253             NaN     NaN  0.43\n",
       "92281             NaN     NaN  0.56\n",
       "92318             5.9     6.2  0.68\n",
       "92320             5.3     5.9  0.65\n",
       "92404             5.2     5.7  0.48\n",
       "92418             4.5     5.1  0.56\n",
       "92420             4.7     5.1  0.40\n",
       "92450             4.9     5.2  0.57\n",
       "92473             4.7     5.5  0.56\n",
       "92474             6.4     6.9  0.60\n",
       "92475             4.5     5.1  0.46\n",
       "92516             5.9     6.1  0.43\n",
       "92864             5.4     5.9  0.48\n",
       "92912             5.3     5.9  0.46"
      ]
     },
     "execution_count": 46,
     "metadata": {},
     "output_type": "execute_result"
    }
   ],
   "source": [
    "incoming_vascular.tail(20)"
   ]
  }
 ],
 "metadata": {
  "kernelspec": {
   "display_name": "Python 3",
   "language": "python",
   "name": "python3"
  },
  "language_info": {
   "codemirror_mode": {
    "name": "ipython",
    "version": 3
   },
   "file_extension": ".py",
   "mimetype": "text/x-python",
   "name": "python",
   "nbconvert_exporter": "python",
   "pygments_lexer": "ipython3",
   "version": "3.6.1"
  }
 },
 "nbformat": 4,
 "nbformat_minor": 1
}
