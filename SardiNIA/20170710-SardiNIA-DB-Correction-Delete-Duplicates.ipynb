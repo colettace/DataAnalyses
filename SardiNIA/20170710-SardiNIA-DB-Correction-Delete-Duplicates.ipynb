{
 "cells": [
  {
   "cell_type": "markdown",
   "metadata": {},
   "source": [
    "# Database cleanup item 2:\n",
    "\n",
    "```\n",
    "From: \"Qian, Yong (NIH/NIA/IRP) [C]\" <QianY@grc.nia.nih.gov>\n",
    "Date: Friday, April 28, 2017 at 12:08 PM\n",
    "To: \"Coletta, Christopher (NIH/NIA/IRP) [E]\" <christopher.coletta@nih.gov>\n",
    "Cc: \"Ding, Jun (NIH/NIA/IRP) [E]\" <jun.ding@nih.gov>, \"Schlessinger, David (NIH/NIA/IRP) [E]\" <SchlessingerD@grc.nia.nih.gov>\n",
    "Subject: repeated records in 2017-02-24-Sardinia-Data-TAB.txt\n",
    " \n",
    "Hi Chris,\n",
    "\n",
    "There were a few wave2 pwv records that are repeated in 2017-02-24-Sardinia-Data-TAB.txt.  Can you correct the database file?\n",
    "I understand that the you didn’t process the wave2 data so it was not your fault.\n",
    " \n",
    "Here are those:\n",
    "id_individual   Wave    pwvDate pwvQual pwv\n",
    "3528    2       2006-01-27      3       509\n",
    "4285    2       2005-06-10      3       754.8   \n",
    "11633   2       2006-12-06      3       590.5   \n",
    "27393   2       2006-09-13      3       957.5   \n",
    "30245   2       2006-01-31      2       771.7   \n",
    " \n",
    "Yong\n",
    "```\n",
    "\n",
    "======\n",
    "\n",
    "```\n",
    "From: Coletta, Christopher (NIH/NIA/IRP) [E]\n",
    "Sent: Friday, April 28, 2017 12:12:24 PM\n",
    "To: Qian, Yong (NIH/NIA/IRP) [C]\n",
    "Cc: Ding, Jun (NIH/NIA/IRP) [E]; Schlessinger, David (NIH/NIA/IRP) [E]\n",
    "Subject: Re: repeated records in 2017-02-24-Sardinia-Data-TAB.txt\n",
    " \n",
    "I understand.\n",
    " \n",
    "When the same thing happened in the Wave IV data (duplicate PWV readings), I looked at the date and selected the ones the fell within the Wave IV date range. I’ll try to do the same in this case.\n",
    " \n",
    "Is there a table somewhere available showing the dates that correspond to the waves?\n",
    " \n",
    "-Chris\n",
    " ```\n",
    " \n",
    "======\n",
    "\n",
    " ```\n",
    " I don't think there is a date table for waves.  \n",
    "\n",
    "I think in general, waves are defined as:\n",
    "wave1:  12/2001 to 5/2004\n",
    "wave2:    5/2004 to 7/2008\n",
    "wave3:    7/2008 to 1/2012\n",
    "wave4:    2/2012 to 5/2016 ?\n",
    "\n",
    "correct me if I am wrong.\n",
    "\n",
    "Yong\n",
    "```"
   ]
  },
  {
   "cell_type": "markdown",
   "metadata": {},
   "source": [
    "# Initial declarations"
   ]
  },
  {
   "cell_type": "code",
   "execution_count": 1,
   "metadata": {},
   "outputs": [
    {
     "data": {
      "text/plain": [
       "'/Users/colettace/projects/david/sardiNIA_database/latest/20170703_IMT_update'"
      ]
     },
     "execution_count": 1,
     "metadata": {},
     "output_type": "execute_result"
    }
   ],
   "source": [
    "pwd"
   ]
  },
  {
   "cell_type": "code",
   "execution_count": 2,
   "metadata": {
    "collapsed": true
   },
   "outputs": [],
   "source": [
    "import pandas as pd"
   ]
  },
  {
   "cell_type": "code",
   "execution_count": 3,
   "metadata": {},
   "outputs": [
    {
     "data": {
      "text/plain": [
       "'0.20.2'"
      ]
     },
     "execution_count": 3,
     "metadata": {},
     "output_type": "execute_result"
    }
   ],
   "source": [
    "pd.__version__"
   ]
  },
  {
   "cell_type": "code",
   "execution_count": 4,
   "metadata": {},
   "outputs": [
    {
     "name": "stderr",
     "output_type": "stream",
     "text": [
      "/usr/local/lib/python3.6/site-packages/IPython/core/interactiveshell.py:2698: DtypeWarning: Columns (20,21,22,23,24,30,72,73,76,77,80,81,101,105,106,114,166,203,340,750) have mixed types. Specify dtype option on import or set low_memory=False.\n",
      "  interactivity=interactivity, compiler=compiler, result=result)\n"
     ]
    }
   ],
   "source": [
    "prf = pd.read_csv( '2017-07-07-Sardinia-Data-TAB.txt', sep='\\t')"
   ]
  },
  {
   "cell_type": "markdown",
   "metadata": {},
   "source": [
    "# Wave II: multiple records for participant"
   ]
  },
  {
   "cell_type": "code",
   "execution_count": 5,
   "metadata": {
    "collapsed": true
   },
   "outputs": [],
   "source": [
    "wave2 = prf.loc[ prf.Wave == 2 ]"
   ]
  },
  {
   "cell_type": "code",
   "execution_count": 6,
   "metadata": {},
   "outputs": [
    {
     "data": {
      "text/plain": [
       "5256"
      ]
     },
     "execution_count": 6,
     "metadata": {},
     "output_type": "execute_result"
    }
   ],
   "source": [
    "len( wave2)"
   ]
  },
  {
   "cell_type": "code",
   "execution_count": 7,
   "metadata": {},
   "outputs": [
    {
     "data": {
      "text/plain": [
       "5251"
      ]
     },
     "execution_count": 7,
     "metadata": {},
     "output_type": "execute_result"
    }
   ],
   "source": [
    "len( set( wave2.id_individual ) )"
   ]
  },
  {
   "cell_type": "code",
   "execution_count": 8,
   "metadata": {
    "collapsed": true
   },
   "outputs": [],
   "source": [
    "from collections import Counter"
   ]
  },
  {
   "cell_type": "code",
   "execution_count": 9,
   "metadata": {
    "scrolled": true
   },
   "outputs": [],
   "source": [
    "trouble_ids = [ _id for _id, count in Counter( list(wave2.id_individual)).items() if count > 1]"
   ]
  },
  {
   "cell_type": "code",
   "execution_count": 10,
   "metadata": {},
   "outputs": [
    {
     "name": "stderr",
     "output_type": "stream",
     "text": [
      "/usr/local/lib/python3.6/site-packages/ipykernel_launcher.py:1: UserWarning: Boolean Series key will be reindexed to match DataFrame index.\n",
      "  \"\"\"Entry point for launching an IPython kernel.\n"
     ]
    }
   ],
   "source": [
    "trouble_rows = wave2[ prf.id_individual.isin(trouble_ids  )]"
   ]
  },
  {
   "cell_type": "code",
   "execution_count": 11,
   "metadata": {},
   "outputs": [
    {
     "data": {
      "text/html": [
       "<div>\n",
       "<style>\n",
       "    .dataframe thead tr:only-child th {\n",
       "        text-align: right;\n",
       "    }\n",
       "\n",
       "    .dataframe thead th {\n",
       "        text-align: left;\n",
       "    }\n",
       "\n",
       "    .dataframe tbody tr th {\n",
       "        vertical-align: top;\n",
       "    }\n",
       "</style>\n",
       "<table border=\"1\" class=\"dataframe\">\n",
       "  <thead>\n",
       "    <tr style=\"text-align: right;\">\n",
       "      <th></th>\n",
       "      <th>id_individual</th>\n",
       "      <th>id_sir</th>\n",
       "      <th>id_mad</th>\n",
       "      <th>Wave</th>\n",
       "      <th>Visit</th>\n",
       "      <th>Age</th>\n",
       "      <th>Sex</th>\n",
       "      <th>Education</th>\n",
       "      <th>Occupation</th>\n",
       "      <th>MaritalStatus</th>\n",
       "      <th>...</th>\n",
       "      <th>audioR4000</th>\n",
       "      <th>audioR6000</th>\n",
       "      <th>audioR8000</th>\n",
       "      <th>audioL250</th>\n",
       "      <th>audioL500</th>\n",
       "      <th>audioL1000</th>\n",
       "      <th>audioL2000</th>\n",
       "      <th>audioL4000</th>\n",
       "      <th>audioL6000</th>\n",
       "      <th>audioL8000</th>\n",
       "    </tr>\n",
       "  </thead>\n",
       "  <tbody>\n",
       "    <tr>\n",
       "      <th>5204</th>\n",
       "      <td>3528</td>\n",
       "      <td>NaN</td>\n",
       "      <td>NaN</td>\n",
       "      <td>2</td>\n",
       "      <td>NaN</td>\n",
       "      <td>29.2</td>\n",
       "      <td>NaN</td>\n",
       "      <td>NaN</td>\n",
       "      <td>NaN</td>\n",
       "      <td>NaN</td>\n",
       "      <td>...</td>\n",
       "      <td>NaN</td>\n",
       "      <td>NaN</td>\n",
       "      <td>NaN</td>\n",
       "      <td>NaN</td>\n",
       "      <td>NaN</td>\n",
       "      <td>NaN</td>\n",
       "      <td>NaN</td>\n",
       "      <td>NaN</td>\n",
       "      <td>NaN</td>\n",
       "      <td>NaN</td>\n",
       "    </tr>\n",
       "    <tr>\n",
       "      <th>5205</th>\n",
       "      <td>3528</td>\n",
       "      <td>NaN</td>\n",
       "      <td>NaN</td>\n",
       "      <td>2</td>\n",
       "      <td>NaN</td>\n",
       "      <td>29.2</td>\n",
       "      <td>NaN</td>\n",
       "      <td>NaN</td>\n",
       "      <td>NaN</td>\n",
       "      <td>NaN</td>\n",
       "      <td>...</td>\n",
       "      <td>NaN</td>\n",
       "      <td>NaN</td>\n",
       "      <td>NaN</td>\n",
       "      <td>NaN</td>\n",
       "      <td>NaN</td>\n",
       "      <td>NaN</td>\n",
       "      <td>NaN</td>\n",
       "      <td>NaN</td>\n",
       "      <td>NaN</td>\n",
       "      <td>NaN</td>\n",
       "    </tr>\n",
       "    <tr>\n",
       "      <th>6206</th>\n",
       "      <td>4285</td>\n",
       "      <td>NaN</td>\n",
       "      <td>NaN</td>\n",
       "      <td>2</td>\n",
       "      <td>NaN</td>\n",
       "      <td>64.9</td>\n",
       "      <td>NaN</td>\n",
       "      <td>NaN</td>\n",
       "      <td>NaN</td>\n",
       "      <td>NaN</td>\n",
       "      <td>...</td>\n",
       "      <td>NaN</td>\n",
       "      <td>NaN</td>\n",
       "      <td>NaN</td>\n",
       "      <td>NaN</td>\n",
       "      <td>NaN</td>\n",
       "      <td>NaN</td>\n",
       "      <td>NaN</td>\n",
       "      <td>NaN</td>\n",
       "      <td>NaN</td>\n",
       "      <td>NaN</td>\n",
       "    </tr>\n",
       "    <tr>\n",
       "      <th>6207</th>\n",
       "      <td>4285</td>\n",
       "      <td>NaN</td>\n",
       "      <td>NaN</td>\n",
       "      <td>2</td>\n",
       "      <td>NaN</td>\n",
       "      <td>64.9</td>\n",
       "      <td>NaN</td>\n",
       "      <td>NaN</td>\n",
       "      <td>NaN</td>\n",
       "      <td>NaN</td>\n",
       "      <td>...</td>\n",
       "      <td>NaN</td>\n",
       "      <td>NaN</td>\n",
       "      <td>NaN</td>\n",
       "      <td>NaN</td>\n",
       "      <td>NaN</td>\n",
       "      <td>NaN</td>\n",
       "      <td>NaN</td>\n",
       "      <td>NaN</td>\n",
       "      <td>NaN</td>\n",
       "      <td>NaN</td>\n",
       "    </tr>\n",
       "    <tr>\n",
       "      <th>9695</th>\n",
       "      <td>11633</td>\n",
       "      <td>NaN</td>\n",
       "      <td>NaN</td>\n",
       "      <td>2</td>\n",
       "      <td>NaN</td>\n",
       "      <td>41.0</td>\n",
       "      <td>NaN</td>\n",
       "      <td>NaN</td>\n",
       "      <td>NaN</td>\n",
       "      <td>NaN</td>\n",
       "      <td>...</td>\n",
       "      <td>NaN</td>\n",
       "      <td>NaN</td>\n",
       "      <td>NaN</td>\n",
       "      <td>NaN</td>\n",
       "      <td>NaN</td>\n",
       "      <td>NaN</td>\n",
       "      <td>NaN</td>\n",
       "      <td>NaN</td>\n",
       "      <td>NaN</td>\n",
       "      <td>NaN</td>\n",
       "    </tr>\n",
       "    <tr>\n",
       "      <th>9696</th>\n",
       "      <td>11633</td>\n",
       "      <td>NaN</td>\n",
       "      <td>NaN</td>\n",
       "      <td>2</td>\n",
       "      <td>NaN</td>\n",
       "      <td>41.0</td>\n",
       "      <td>NaN</td>\n",
       "      <td>NaN</td>\n",
       "      <td>NaN</td>\n",
       "      <td>NaN</td>\n",
       "      <td>...</td>\n",
       "      <td>NaN</td>\n",
       "      <td>NaN</td>\n",
       "      <td>NaN</td>\n",
       "      <td>NaN</td>\n",
       "      <td>NaN</td>\n",
       "      <td>NaN</td>\n",
       "      <td>NaN</td>\n",
       "      <td>NaN</td>\n",
       "      <td>NaN</td>\n",
       "      <td>NaN</td>\n",
       "    </tr>\n",
       "    <tr>\n",
       "      <th>15437</th>\n",
       "      <td>27393</td>\n",
       "      <td>NaN</td>\n",
       "      <td>NaN</td>\n",
       "      <td>2</td>\n",
       "      <td>NaN</td>\n",
       "      <td>66.4</td>\n",
       "      <td>NaN</td>\n",
       "      <td>NaN</td>\n",
       "      <td>NaN</td>\n",
       "      <td>NaN</td>\n",
       "      <td>...</td>\n",
       "      <td>NaN</td>\n",
       "      <td>NaN</td>\n",
       "      <td>NaN</td>\n",
       "      <td>NaN</td>\n",
       "      <td>NaN</td>\n",
       "      <td>NaN</td>\n",
       "      <td>NaN</td>\n",
       "      <td>NaN</td>\n",
       "      <td>NaN</td>\n",
       "      <td>NaN</td>\n",
       "    </tr>\n",
       "    <tr>\n",
       "      <th>15438</th>\n",
       "      <td>27393</td>\n",
       "      <td>NaN</td>\n",
       "      <td>NaN</td>\n",
       "      <td>2</td>\n",
       "      <td>NaN</td>\n",
       "      <td>66.4</td>\n",
       "      <td>NaN</td>\n",
       "      <td>NaN</td>\n",
       "      <td>NaN</td>\n",
       "      <td>NaN</td>\n",
       "      <td>...</td>\n",
       "      <td>NaN</td>\n",
       "      <td>NaN</td>\n",
       "      <td>NaN</td>\n",
       "      <td>NaN</td>\n",
       "      <td>NaN</td>\n",
       "      <td>NaN</td>\n",
       "      <td>NaN</td>\n",
       "      <td>NaN</td>\n",
       "      <td>NaN</td>\n",
       "      <td>NaN</td>\n",
       "    </tr>\n",
       "    <tr>\n",
       "      <th>16617</th>\n",
       "      <td>30245</td>\n",
       "      <td>NaN</td>\n",
       "      <td>NaN</td>\n",
       "      <td>2</td>\n",
       "      <td>NaN</td>\n",
       "      <td>44.5</td>\n",
       "      <td>NaN</td>\n",
       "      <td>NaN</td>\n",
       "      <td>NaN</td>\n",
       "      <td>NaN</td>\n",
       "      <td>...</td>\n",
       "      <td>NaN</td>\n",
       "      <td>NaN</td>\n",
       "      <td>NaN</td>\n",
       "      <td>NaN</td>\n",
       "      <td>NaN</td>\n",
       "      <td>NaN</td>\n",
       "      <td>NaN</td>\n",
       "      <td>NaN</td>\n",
       "      <td>NaN</td>\n",
       "      <td>NaN</td>\n",
       "    </tr>\n",
       "    <tr>\n",
       "      <th>16618</th>\n",
       "      <td>30245</td>\n",
       "      <td>NaN</td>\n",
       "      <td>NaN</td>\n",
       "      <td>2</td>\n",
       "      <td>NaN</td>\n",
       "      <td>44.5</td>\n",
       "      <td>NaN</td>\n",
       "      <td>NaN</td>\n",
       "      <td>NaN</td>\n",
       "      <td>NaN</td>\n",
       "      <td>...</td>\n",
       "      <td>NaN</td>\n",
       "      <td>NaN</td>\n",
       "      <td>NaN</td>\n",
       "      <td>NaN</td>\n",
       "      <td>NaN</td>\n",
       "      <td>NaN</td>\n",
       "      <td>NaN</td>\n",
       "      <td>NaN</td>\n",
       "      <td>NaN</td>\n",
       "      <td>NaN</td>\n",
       "    </tr>\n",
       "  </tbody>\n",
       "</table>\n",
       "<p>10 rows × 1058 columns</p>\n",
       "</div>"
      ],
      "text/plain": [
       "       id_individual  id_sir  id_mad  Wave  Visit   Age  Sex  Education  \\\n",
       "5204            3528     NaN     NaN     2    NaN  29.2  NaN        NaN   \n",
       "5205            3528     NaN     NaN     2    NaN  29.2  NaN        NaN   \n",
       "6206            4285     NaN     NaN     2    NaN  64.9  NaN        NaN   \n",
       "6207            4285     NaN     NaN     2    NaN  64.9  NaN        NaN   \n",
       "9695           11633     NaN     NaN     2    NaN  41.0  NaN        NaN   \n",
       "9696           11633     NaN     NaN     2    NaN  41.0  NaN        NaN   \n",
       "15437          27393     NaN     NaN     2    NaN  66.4  NaN        NaN   \n",
       "15438          27393     NaN     NaN     2    NaN  66.4  NaN        NaN   \n",
       "16617          30245     NaN     NaN     2    NaN  44.5  NaN        NaN   \n",
       "16618          30245     NaN     NaN     2    NaN  44.5  NaN        NaN   \n",
       "\n",
       "       Occupation  MaritalStatus     ...      audioR4000 audioR6000  \\\n",
       "5204          NaN            NaN     ...             NaN        NaN   \n",
       "5205          NaN            NaN     ...             NaN        NaN   \n",
       "6206          NaN            NaN     ...             NaN        NaN   \n",
       "6207          NaN            NaN     ...             NaN        NaN   \n",
       "9695          NaN            NaN     ...             NaN        NaN   \n",
       "9696          NaN            NaN     ...             NaN        NaN   \n",
       "15437         NaN            NaN     ...             NaN        NaN   \n",
       "15438         NaN            NaN     ...             NaN        NaN   \n",
       "16617         NaN            NaN     ...             NaN        NaN   \n",
       "16618         NaN            NaN     ...             NaN        NaN   \n",
       "\n",
       "      audioR8000 audioL250 audioL500  audioL1000  audioL2000  audioL4000  \\\n",
       "5204         NaN       NaN       NaN         NaN         NaN         NaN   \n",
       "5205         NaN       NaN       NaN         NaN         NaN         NaN   \n",
       "6206         NaN       NaN       NaN         NaN         NaN         NaN   \n",
       "6207         NaN       NaN       NaN         NaN         NaN         NaN   \n",
       "9695         NaN       NaN       NaN         NaN         NaN         NaN   \n",
       "9696         NaN       NaN       NaN         NaN         NaN         NaN   \n",
       "15437        NaN       NaN       NaN         NaN         NaN         NaN   \n",
       "15438        NaN       NaN       NaN         NaN         NaN         NaN   \n",
       "16617        NaN       NaN       NaN         NaN         NaN         NaN   \n",
       "16618        NaN       NaN       NaN         NaN         NaN         NaN   \n",
       "\n",
       "       audioL6000  audioL8000  \n",
       "5204          NaN         NaN  \n",
       "5205          NaN         NaN  \n",
       "6206          NaN         NaN  \n",
       "6207          NaN         NaN  \n",
       "9695          NaN         NaN  \n",
       "9696          NaN         NaN  \n",
       "15437         NaN         NaN  \n",
       "15438         NaN         NaN  \n",
       "16617         NaN         NaN  \n",
       "16618         NaN         NaN  \n",
       "\n",
       "[10 rows x 1058 columns]"
      ]
     },
     "execution_count": 11,
     "metadata": {},
     "output_type": "execute_result"
    }
   ],
   "source": [
    "trouble_rows"
   ]
  },
  {
   "cell_type": "markdown",
   "metadata": {},
   "source": [
    "# Check that they are perfect duplicates that do not need to be merged"
   ]
  },
  {
   "cell_type": "code",
   "execution_count": 12,
   "metadata": {
    "collapsed": true
   },
   "outputs": [],
   "source": [
    "trouble_rows_copy = trouble_rows.copy()"
   ]
  },
  {
   "cell_type": "code",
   "execution_count": 13,
   "metadata": {},
   "outputs": [],
   "source": [
    "trouble_rows_copy.fillna(0, inplace=True)"
   ]
  },
  {
   "cell_type": "code",
   "execution_count": 14,
   "metadata": {},
   "outputs": [
    {
     "data": {
      "text/plain": [
       "True"
      ]
     },
     "execution_count": 14,
     "metadata": {},
     "output_type": "execute_result"
    }
   ],
   "source": [
    "all( trouble_rows_copy.loc[ 5204] == trouble_rows_copy.loc[ 5205] )"
   ]
  },
  {
   "cell_type": "code",
   "execution_count": 15,
   "metadata": {},
   "outputs": [
    {
     "data": {
      "text/plain": [
       "True"
      ]
     },
     "execution_count": 15,
     "metadata": {},
     "output_type": "execute_result"
    }
   ],
   "source": [
    "all( trouble_rows_copy.loc[ 6206] == trouble_rows_copy.loc[ 6207] )"
   ]
  },
  {
   "cell_type": "code",
   "execution_count": 16,
   "metadata": {},
   "outputs": [
    {
     "data": {
      "text/plain": [
       "True"
      ]
     },
     "execution_count": 16,
     "metadata": {},
     "output_type": "execute_result"
    }
   ],
   "source": [
    "all( trouble_rows_copy.loc[ 9695 ] == trouble_rows_copy.loc[ 9696] )"
   ]
  },
  {
   "cell_type": "code",
   "execution_count": 17,
   "metadata": {},
   "outputs": [
    {
     "data": {
      "text/plain": [
       "True"
      ]
     },
     "execution_count": 17,
     "metadata": {},
     "output_type": "execute_result"
    }
   ],
   "source": [
    "all( trouble_rows_copy.loc[ 15437 ] == trouble_rows_copy.loc[ 15438 ] )"
   ]
  },
  {
   "cell_type": "code",
   "execution_count": 18,
   "metadata": {},
   "outputs": [
    {
     "data": {
      "text/plain": [
       "True"
      ]
     },
     "execution_count": 18,
     "metadata": {},
     "output_type": "execute_result"
    }
   ],
   "source": [
    "all( trouble_rows_copy.loc[ 16617 ] == trouble_rows_copy.loc[ 16618 ] )"
   ]
  },
  {
   "cell_type": "markdown",
   "metadata": {},
   "source": [
    "# Drop the duplicate rows"
   ]
  },
  {
   "cell_type": "code",
   "execution_count": 19,
   "metadata": {},
   "outputs": [],
   "source": [
    "prf.drop( [5204, 6206, 9695, 15437 , 16617], inplace=True )"
   ]
  },
  {
   "cell_type": "markdown",
   "metadata": {},
   "source": [
    "# Check to see it worked"
   ]
  },
  {
   "cell_type": "code",
   "execution_count": 20,
   "metadata": {},
   "outputs": [],
   "source": [
    "wave2 = prf.loc[ prf.Wave == 2 ]"
   ]
  },
  {
   "cell_type": "code",
   "execution_count": 21,
   "metadata": {},
   "outputs": [
    {
     "data": {
      "text/plain": [
       "5251"
      ]
     },
     "execution_count": 21,
     "metadata": {},
     "output_type": "execute_result"
    }
   ],
   "source": [
    "len( wave2)"
   ]
  },
  {
   "cell_type": "code",
   "execution_count": 22,
   "metadata": {},
   "outputs": [
    {
     "data": {
      "text/plain": [
       "5251"
      ]
     },
     "execution_count": 22,
     "metadata": {},
     "output_type": "execute_result"
    }
   ],
   "source": [
    "len( set( wave2.id_individual ) )"
   ]
  },
  {
   "cell_type": "code",
   "execution_count": 23,
   "metadata": {
    "collapsed": true
   },
   "outputs": [],
   "source": [
    "trouble_ids = [ _id for _id, count in Counter( list(wave2.id_individual)).items() if count > 1]"
   ]
  },
  {
   "cell_type": "code",
   "execution_count": 24,
   "metadata": {},
   "outputs": [
    {
     "data": {
      "text/plain": [
       "[]"
      ]
     },
     "execution_count": 24,
     "metadata": {},
     "output_type": "execute_result"
    }
   ],
   "source": [
    "trouble_ids"
   ]
  },
  {
   "cell_type": "markdown",
   "metadata": {},
   "source": [
    "# Format the database for text/TSV format and write to file\n",
    "\n",
    "Convert all numeric values to strings and lop off .0's, etc"
   ]
  },
  {
   "cell_type": "code",
   "execution_count": 39,
   "metadata": {
    "collapsed": true
   },
   "outputs": [],
   "source": [
    "for name in list(prf.columns):\n",
    "    prf[name] = prf[name].astype(str)\n",
    "prf.replace( to_replace='nan', value='', inplace=True, regex=False )\n",
    "prf.replace( to_replace='NaT', value='', inplace=True, regex=False )\n",
    "prf.replace( regex=True, inplace=True, to_replace=r'\\.0$', value='')\n",
    "prf.replace( regex=True, inplace=True, to_replace=r'00000+\\d$', value='')\n",
    "prf.replace( regex=True, inplace=True, to_replace=r'999999+\\d$', value='')"
   ]
  },
  {
   "cell_type": "code",
   "execution_count": 40,
   "metadata": {
    "collapsed": true
   },
   "outputs": [],
   "source": [
    "prf.to_csv( '2017-07-10-Sardinia-Data-TAB.txt', sep='\\t', encoding='utf-8', index=False)"
   ]
  },
  {
   "cell_type": "code",
   "execution_count": 41,
   "metadata": {},
   "outputs": [
    {
     "name": "stdout",
     "output_type": "stream",
     "text": [
      "-rw-r--r--@ 1 colettace  NIH\\Domain Users  41187887 Jul  3 16:22 2017-07-03-Sardinia-TAB.txt\r\n",
      "-rw-r--r--  1 colettace  NIH\\Domain Users  41217915 Jul  7 16:54 2017-07-07-Sardinia-Data-TAB.txt\r\n",
      "-rw-r--r--  1 colettace  NIH\\Domain Users  41217915 Jul  7 18:00 2017-07-07-Sardinia-TAB-NEW.txt\r\n",
      "-rw-r--r--  1 colettace  NIH\\Domain Users  41212401 Jul 10 11:52 2017-07-10-Sardinia-Data-TAB.txt\r\n"
     ]
    }
   ],
   "source": [
    "ls -l *TAB*.txt"
   ]
  },
  {
   "cell_type": "code",
   "execution_count": 42,
   "metadata": {},
   "outputs": [
    {
     "data": {
      "text/plain": [
       "20963"
      ]
     },
     "execution_count": 42,
     "metadata": {},
     "output_type": "execute_result"
    }
   ],
   "source": [
    "len(prf)"
   ]
  }
 ],
 "metadata": {
  "kernelspec": {
   "display_name": "Python 3",
   "language": "python",
   "name": "python3"
  },
  "language_info": {
   "codemirror_mode": {
    "name": "ipython",
    "version": 3
   },
   "file_extension": ".py",
   "mimetype": "text/x-python",
   "name": "python",
   "nbconvert_exporter": "python",
   "pygments_lexer": "ipython3",
   "version": "3.6.1"
  }
 },
 "nbformat": 4,
 "nbformat_minor": 1
}
