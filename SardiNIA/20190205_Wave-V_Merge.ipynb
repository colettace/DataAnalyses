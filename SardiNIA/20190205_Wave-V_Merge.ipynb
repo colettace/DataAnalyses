{
 "cells": [
  {
   "cell_type": "markdown",
   "metadata": {},
   "source": [
    "# SardiNIA Wave 5 - January 2019 release\n",
    "\n",
    "\n",
    "```\n",
    "From: Marco Masala <marco.masala@irgb.cnr.it>\n",
    "Date: Wednesday, November 14, 2018 at 11:45 AM\n",
    "To: \"Coletta, Christopher (NIH/NIA/IRP) [E]\" <chris.coletta@nih.gov>\n",
    "Cc: \"Schlessinger, David (NIH/NIA/IRP) [V]\" <schlessingerd@grc.nia.nih.gov>, \n",
    "\"Nagaraja, Ramaiah (NIH/NIA/IRP) [E]\" <nagarajar@grc.nia.nih.gov>, \n",
    "Edoardo Fiorillo <edoardo.fiorillo@irgb.cnr.it>, Francesco Cucca <francesco.cucca@irgb.cnr.it>,\n",
    "Michele Marongiu <michele.marongiu@irgb.cnr.it>\n",
    "Subject: database uploaded\n",
    " \n",
    "Dear Christopher,  \n",
    " \n",
    "I uploaded a new version of the db in the usual folder of the ftp server: \n",
    "/home/sardinia/incoming/DbSardinia/20181108_dbSardinia5.zip \n",
    " \n",
    "We had problems exporting the HOLTER data, for this reason the HOLTER table is missing\n",
    "in the database. We hope to solve the problem in the next few days and make an update \n",
    "of this release\n",
    " \n",
    "I have not yet relived the CAROTID table from the doctor in charge and therefore it\n",
    "is not present in the database.\n",
    " \n",
    "I have not received any updates from the doctor responsible for the VASCULAR data. \n",
    "The table is present but has not been updated.\n",
    " \n",
    "the tables SPHIGMOCOR_HRV, SPHIGMOCOR_PWA and SPHIGMOCOR_PWV were exported using the \n",
    "method you requested. Their structure does not coincide with those sent previously \n",
    "that were extracted directly from the database.\n",
    " \n",
    "I have not yet received the ECOCARDIO data. ECOCARDIO visits, however, are not made \n",
    "at 5 wave visits, and follow a completely different calendar.  \n",
    " \n",
    "The data of all the tables of this version replace those of the previous versions, \n",
    "in particular the tables BLOOD and BLOOD_2 have been checked again and some errors \n",
    "present in the old versions have been corrected.\n",
    " \n",
    "Do not hesitate to contact me if you find any error or lack\n",
    " \n",
    "best\n",
    "Marco\n",
    "```"
   ]
  },
  {
   "cell_type": "markdown",
   "metadata": {},
   "source": [
    "# Load libraries and check versions\n",
    "\n",
    "## Required external libraries\n",
    "* mdbtools must be installed and on your %PATH% or \\$PATH\n",
    "    * https://github.com/brianb/mdbtools/\n",
    "    * ```brew install mdbtools```\n",
    "* Additional required Python libraries\n",
    "    * PANDAS and NumPy, of course\n",
    "    * PANDAS requires ```xlrd``` and ```xlwt``` for their ```read_excel``` functions\n",
    "        * ```!pip3 install xlrd```\n",
    "        * ```!pip3 install xlwt```"
   ]
  },
  {
   "cell_type": "code",
   "execution_count": 1,
   "metadata": {},
   "outputs": [
    {
     "name": "stdout",
     "output_type": "stream",
     "text": [
      "Python version 3.7.0 (default, Aug 22 2018, 15:22:56) \n",
      "[Clang 9.0.0 (clang-900.0.39.2)]\n"
     ]
    }
   ],
   "source": [
    "# Python version used\n",
    "import sys\n",
    "print( 'Python version', sys.version )"
   ]
  },
  {
   "cell_type": "code",
   "execution_count": 2,
   "metadata": {},
   "outputs": [],
   "source": [
    "# Load from Python standard library\n",
    "from subprocess import check_output\n",
    "from io import BytesIO\n",
    "from collections import Counter\n",
    "import time\n",
    "t00 = time.time()\n",
    "from pathlib import Path\n",
    "# Make a pretty printer\n",
    "from pprint import PrettyPrinter\n",
    "pp = PrettyPrinter( width=100, compact=True )"
   ]
  },
  {
   "cell_type": "code",
   "execution_count": 3,
   "metadata": {
    "ExecuteTime": {
     "end_time": "2017-12-07T19:56:21.600153Z",
     "start_time": "2017-12-07T19:56:21.368127Z"
    }
   },
   "outputs": [
    {
     "name": "stdout",
     "output_type": "stream",
     "text": [
      "PANDAS version 0.23.4\n"
     ]
    }
   ],
   "source": [
    "# PANDAS\n",
    "import pandas as pd\n",
    "print( 'PANDAS version', pd.__version__ )"
   ]
  },
  {
   "cell_type": "code",
   "execution_count": 4,
   "metadata": {
    "ExecuteTime": {
     "end_time": "2017-12-07T19:56:21.600153Z",
     "start_time": "2017-12-07T19:56:21.368127Z"
    }
   },
   "outputs": [
    {
     "name": "stdout",
     "output_type": "stream",
     "text": [
      "NumPy version 1.15.4\n"
     ]
    }
   ],
   "source": [
    "# NumPy\n",
    "import numpy as np\n",
    "print( 'NumPy version', np.__version__ )"
   ]
  },
  {
   "cell_type": "code",
   "execution_count": 5,
   "metadata": {},
   "outputs": [],
   "source": [
    "%matplotlib inline\n",
    "import matplotlib.pyplot as plt\n",
    "def full_frame(width=None, height=None):\n",
    "    import matplotlib as mpl\n",
    "    mpl.rcParams['savefig.pad_inches'] = 0\n",
    "    figsize = None if width is None else (width, height)\n",
    "    fig = plt.figure(figsize=figsize)\n",
    "    ax = plt.axes([0,0,1,1], frameon=False)\n",
    "    ax.get_xaxis().set_visible(False)\n",
    "    ax.get_yaxis().set_visible(False)\n",
    "    plt.autoscale(tight=True)"
   ]
  },
  {
   "cell_type": "markdown",
   "metadata": {},
   "source": [
    "# Input files\n",
    "\n",
    "* ```ita_db``` - Sardinian database file (Microsoft Access .mdb format)\n",
    "* ```ita_db_desc``` - Sardinian database description file (Microsoft Excel .xlsx format)\n",
    "* ```us_db``` - NIA database, most recent \"Public Release File\" (PRF) (tab-separated test file)\n",
    "* ```us_db_desc``` - NIA database description file (Microsoft Excel .xlsx format)\n",
    "* ```name_map``` - Column name mapping spreadsheet (Microsoft Excel .xlsx format)\n",
    "    * Like a phonebook mapping ITA column names to US column names\n",
    "    * Only names mapped in this file will end up in the output merged database\n",
    "    * The code later on will complain about missing columns unless the corresponding row has value of \"yes\" in the \"ignore\" column within the mapping file.\n",
    "\n",
    "## Paths"
   ]
  },
  {
   "cell_type": "code",
   "execution_count": 6,
   "metadata": {
    "ExecuteTime": {
     "end_time": "2017-12-07T19:56:21.366520Z",
     "start_time": "2017-12-07T19:56:21.355847Z"
    }
   },
   "outputs": [
    {
     "data": {
      "text/plain": [
       "'/Users/colettace/projects/david/sardiNIA_database/latest/January2019_Wave5_Update'"
      ]
     },
     "execution_count": 6,
     "metadata": {},
     "output_type": "execute_result"
    }
   ],
   "source": [
    "pwd"
   ]
  },
  {
   "cell_type": "code",
   "execution_count": 7,
   "metadata": {},
   "outputs": [],
   "source": [
    "paths = {}"
   ]
  },
  {
   "cell_type": "code",
   "execution_count": 8,
   "metadata": {
    "ExecuteTime": {
     "end_time": "2017-12-07T19:56:25.131136Z",
     "start_time": "2017-12-07T19:56:25.128364Z"
    }
   },
   "outputs": [],
   "source": [
    "paths['ita_db'] = Path('DbSardinia_20181108.mdb')"
   ]
  },
  {
   "cell_type": "code",
   "execution_count": 9,
   "metadata": {},
   "outputs": [],
   "source": [
    "paths['ita_db_desc'] = Path( 'DbDescription5.xlsx' )"
   ]
  },
  {
   "cell_type": "code",
   "execution_count": 10,
   "metadata": {},
   "outputs": [],
   "source": [
    "paths['us_db'] = Path( '20180801_SardiNIA_WaveI-V.txt' )"
   ]
  },
  {
   "cell_type": "code",
   "execution_count": 11,
   "metadata": {},
   "outputs": [],
   "source": [
    "paths['us_db_desc'] = Path( '20190111-Sardinia-Data-Description.xls' )"
   ]
  },
  {
   "cell_type": "code",
   "execution_count": 12,
   "metadata": {},
   "outputs": [],
   "source": [
    "paths['name_map'] = Path( '20190111-Sardinia-ITA2ENG-Trait-Dictionary.xlsx' )"
   ]
  },
  {
   "cell_type": "code",
   "execution_count": 13,
   "metadata": {},
   "outputs": [
    {
     "data": {
      "text/plain": [
       "True"
      ]
     },
     "execution_count": 13,
     "metadata": {},
     "output_type": "execute_result"
    }
   ],
   "source": [
    "all( [ _.exists() for _ in paths.values() ] )"
   ]
  },
  {
   "cell_type": "code",
   "execution_count": 14,
   "metadata": {},
   "outputs": [],
   "source": [
    "paths = { n: str(p) for n, p in paths.items() }"
   ]
  },
  {
   "cell_type": "markdown",
   "metadata": {},
   "source": [
    "## Load Sardinian database\n",
    "\n",
    "### Get names of tables"
   ]
  },
  {
   "cell_type": "code",
   "execution_count": 21,
   "metadata": {},
   "outputs": [],
   "source": [
    "cmd = [ 'mdb-tables', paths['ita_db'] ]"
   ]
  },
  {
   "cell_type": "code",
   "execution_count": 22,
   "metadata": {
    "ExecuteTime": {
     "end_time": "2017-12-07T19:56:25.165686Z",
     "start_time": "2017-12-07T19:56:25.133107Z"
    }
   },
   "outputs": [],
   "source": [
    "table_names = check_output( cmd ).decode().strip().split()"
   ]
  },
  {
   "cell_type": "code",
   "execution_count": 23,
   "metadata": {},
   "outputs": [],
   "source": [
    "table_names = sorted( table_names )"
   ]
  },
  {
   "cell_type": "code",
   "execution_count": 24,
   "metadata": {
    "ExecuteTime": {
     "end_time": "2017-12-07T19:56:25.171748Z",
     "start_time": "2017-12-07T19:56:25.167790Z"
    }
   },
   "outputs": [
    {
     "data": {
      "text/plain": [
       "22"
      ]
     },
     "execution_count": 24,
     "metadata": {},
     "output_type": "execute_result"
    }
   ],
   "source": [
    "len(table_names)"
   ]
  },
  {
   "cell_type": "code",
   "execution_count": 25,
   "metadata": {},
   "outputs": [
    {
     "name": "stdout",
     "output_type": "stream",
     "text": [
      "['AUDIOMETRY', 'BLOOD', 'BLOOD_2', 'DISEASES', 'DISEASESCHECKLIST_n', 'ECG', 'EXAMINATION',\n",
      " 'EXAMINATION_BIS', 'INDIVIDUAL', 'MEDHISTORY', 'MEDICATIONS', 'MMSE', 'OTHERMEDICATION2_NEW',\n",
      " 'OTHERMEDICATIONS', 'PHYSICAL_ACTIVITY', 'PHYSICAL_TEST', 'SPHIGMOCOR_HRV', 'SPHIGMOCOR_PWA',\n",
      " 'SPHIGMOCOR_PWV', 'SPIROMETER', 'URINE', 'VASCULAR']\n"
     ]
    }
   ],
   "source": [
    "pp.pprint( table_names )"
   ]
  },
  {
   "cell_type": "code",
   "execution_count": 26,
   "metadata": {},
   "outputs": [],
   "source": [
    "table_names.remove( \"OTHERMEDICATIONS\")\n",
    "table_names.remove('SPHIGMOCOR_PWV' )\n",
    "table_names.remove('SPHIGMOCOR_HRV')\n",
    "table_names.remove('SPHIGMOCOR_PWA')"
   ]
  },
  {
   "cell_type": "markdown",
   "metadata": {},
   "source": [
    "### Read tables, dropping any empty columns "
   ]
  },
  {
   "cell_type": "code",
   "execution_count": 27,
   "metadata": {},
   "outputs": [],
   "source": [
    "def pull_table( table_name, path=None ):\n",
    "    if path is None:\n",
    "        path = paths['ita_db']\n",
    "    cmd = [ 'mdb-export', path, table_name ]\n",
    "    raw_output = check_output( cmd )\n",
    "    return pd.read_csv( BytesIO( raw_output ) )"
   ]
  },
  {
   "cell_type": "code",
   "execution_count": 28,
   "metadata": {},
   "outputs": [],
   "source": [
    "tables = { n: pull_table(n).dropna( axis=1, how='all') for n in table_names }"
   ]
  },
  {
   "cell_type": "markdown",
   "metadata": {},
   "source": [
    "### Special tables"
   ]
  },
  {
   "cell_type": "code",
   "execution_count": 31,
   "metadata": {},
   "outputs": [],
   "source": [
    "for n in ['SPHIGMOCOR_PWV', 'SPHIGMOCOR_HRV', 'SPHIGMOCOR_PWA']:\n",
    "    tables[n] = pd.read_csv( f\"20190123_{n}_merged.csv\" )"
   ]
  },
  {
   "cell_type": "code",
   "execution_count": 43,
   "metadata": {},
   "outputs": [],
   "source": [
    "tables['HOLTER'] = pull_table( 'HOLTER', '20180406_dbSardinia5.mdb')"
   ]
  },
  {
   "cell_type": "markdown",
   "metadata": {},
   "source": [
    "### Drop empty rows, i.e., ones with ID_INDIVIDUAL filled, but that's it"
   ]
  },
  {
   "cell_type": "code",
   "execution_count": 45,
   "metadata": {},
   "outputs": [
    {
     "name": "stdout",
     "output_type": "stream",
     "text": [
      "AUDIOMETRY: dropped 270 rows.\n",
      "BLOOD: dropped 21 rows.\n",
      "BLOOD_2: dropped 74 rows.\n",
      "DISEASES: dropped 15 rows.\n",
      "DISEASESCHECKLIST_n: dropped 15 rows.\n",
      "ECG: dropped 0 rows.\n",
      "EXAMINATION: dropped 7 rows.\n",
      "EXAMINATION_BIS: dropped 4 rows.\n",
      "INDIVIDUAL: dropped 0 rows.\n",
      "MEDHISTORY: dropped 15 rows.\n",
      "MEDICATIONS: dropped 15 rows.\n",
      "MMSE: dropped 2446 rows.\n",
      "OTHERMEDICATION2_NEW: dropped 0 rows.\n",
      "PHYSICAL_ACTIVITY: dropped 15 rows.\n",
      "PHYSICAL_TEST: dropped 9 rows.\n",
      "SPIROMETER: dropped 1975 rows.\n",
      "URINE: dropped 192 rows.\n",
      "VASCULAR: dropped 744 rows.\n",
      "SPHIGMOCOR_PWV: dropped 0 rows.\n",
      "SPHIGMOCOR_HRV: dropped 0 rows.\n",
      "SPHIGMOCOR_PWA: dropped 0 rows.\n",
      "HOLTER: dropped 1673 rows.\n"
     ]
    }
   ],
   "source": [
    "empty_row_counts = {}\n",
    "for n, df in tables.items():\n",
    "    empty_row_indices = df[df.count(axis=1) == 1].index\n",
    "    df.drop( index=empty_row_indices, inplace=True )\n",
    "    print( f\"{n}: dropped {len(empty_row_indices)} rows.\")\n",
    "    empty_row_counts[n] = len(empty_row_indices)"
   ]
  },
  {
   "cell_type": "markdown",
   "metadata": {},
   "source": [
    "## Load Sardinian database description file"
   ]
  },
  {
   "cell_type": "code",
   "execution_count": 46,
   "metadata": {},
   "outputs": [],
   "source": [
    "ita_db_description = pd.read_excel( paths['ita_db_desc'] )"
   ]
  },
  {
   "cell_type": "code",
   "execution_count": 47,
   "metadata": {},
   "outputs": [
    {
     "data": {
      "text/plain": [
       "(861, 5)"
      ]
     },
     "execution_count": 47,
     "metadata": {},
     "output_type": "execute_result"
    }
   ],
   "source": [
    "ita_db_description.shape"
   ]
  },
  {
   "cell_type": "markdown",
   "metadata": {},
   "source": [
    "## Load NIA database"
   ]
  },
  {
   "cell_type": "code",
   "execution_count": 48,
   "metadata": {
    "ExecuteTime": {
     "end_time": "2017-12-07T19:56:25.060677Z",
     "start_time": "2017-12-07T19:56:21.794992Z"
    }
   },
   "outputs": [
    {
     "name": "stderr",
     "output_type": "stream",
     "text": [
      "/usr/local/lib/python3.7/site-packages/IPython/core/interactiveshell.py:3020: DtypeWarning: Columns (21,22,23,24,25,30,31,73,74,77,78,81,82,98,102,106,107,115,341,395,396,926) have mixed types. Specify dtype option on import or set low_memory=False.\n",
      "  interactivity=interactivity, compiler=compiler, result=result)\n"
     ]
    }
   ],
   "source": [
    "old_prf = pd.read_csv( paths['us_db'] , sep='\\t' )"
   ]
  },
  {
   "cell_type": "code",
   "execution_count": 49,
   "metadata": {},
   "outputs": [
    {
     "data": {
      "text/plain": [
       "(23232, 1337)"
      ]
     },
     "execution_count": 49,
     "metadata": {},
     "output_type": "execute_result"
    }
   ],
   "source": [
    "old_prf.shape"
   ]
  },
  {
   "cell_type": "markdown",
   "metadata": {},
   "source": [
    "## Load NIA database description file"
   ]
  },
  {
   "cell_type": "code",
   "execution_count": 50,
   "metadata": {
    "ExecuteTime": {
     "end_time": "2017-12-07T19:56:25.118845Z",
     "start_time": "2017-12-07T19:56:25.062518Z"
    }
   },
   "outputs": [],
   "source": [
    "us_db_description = pd.read_excel( paths['us_db_desc'] )"
   ]
  },
  {
   "cell_type": "code",
   "execution_count": 51,
   "metadata": {
    "ExecuteTime": {
     "end_time": "2017-12-07T19:56:25.125955Z",
     "start_time": "2017-12-07T19:56:25.120797Z"
    }
   },
   "outputs": [
    {
     "data": {
      "text/plain": [
       "(1373, 6)"
      ]
     },
     "execution_count": 51,
     "metadata": {},
     "output_type": "execute_result"
    }
   ],
   "source": [
    "us_db_description.shape"
   ]
  },
  {
   "cell_type": "markdown",
   "metadata": {},
   "source": [
    "## Load column name mapping spreadsheet"
   ]
  },
  {
   "cell_type": "code",
   "execution_count": 52,
   "metadata": {
    "ExecuteTime": {
     "end_time": "2017-12-07T19:56:21.719116Z",
     "start_time": "2017-12-07T19:56:21.610866Z"
    }
   },
   "outputs": [],
   "source": [
    "field_name_map = pd.read_excel( paths['name_map'] )"
   ]
  },
  {
   "cell_type": "code",
   "execution_count": 53,
   "metadata": {
    "ExecuteTime": {
     "end_time": "2017-12-07T19:56:21.724746Z",
     "start_time": "2017-12-07T19:56:21.720905Z"
    }
   },
   "outputs": [
    {
     "data": {
      "text/plain": [
       "(1470, 6)"
      ]
     },
     "execution_count": 53,
     "metadata": {},
     "output_type": "execute_result"
    }
   ],
   "source": [
    "field_name_map.shape"
   ]
  },
  {
   "cell_type": "code",
   "execution_count": 54,
   "metadata": {
    "ExecuteTime": {
     "end_time": "2017-12-07T19:56:21.730175Z",
     "start_time": "2017-12-07T19:56:21.726212Z"
    }
   },
   "outputs": [],
   "source": [
    "field_name_map = field_name_map[ field_name_map.ignore == 'no'].copy()"
   ]
  },
  {
   "cell_type": "code",
   "execution_count": 55,
   "metadata": {
    "ExecuteTime": {
     "end_time": "2017-12-07T19:56:21.769145Z",
     "start_time": "2017-12-07T19:56:21.737013Z"
    }
   },
   "outputs": [],
   "source": [
    "# drop ignore column\n",
    "field_name_map.drop( 'ignore', axis=1, inplace=True )"
   ]
  },
  {
   "cell_type": "code",
   "execution_count": 56,
   "metadata": {},
   "outputs": [],
   "source": [
    "field_name_map.drop( 'Unnamed: 5', axis=1, inplace=True )"
   ]
  },
  {
   "cell_type": "code",
   "execution_count": 57,
   "metadata": {},
   "outputs": [
    {
     "data": {
      "text/plain": [
       "(1314, 4)"
      ]
     },
     "execution_count": 57,
     "metadata": {},
     "output_type": "execute_result"
    }
   ],
   "source": [
    "field_name_map.shape"
   ]
  },
  {
   "cell_type": "code",
   "execution_count": 58,
   "metadata": {},
   "outputs": [],
   "source": [
    "#pprint(ita2us_field_name_map)"
   ]
  },
  {
   "cell_type": "markdown",
   "metadata": {},
   "source": [
    "# Input file audit\n",
    "\n",
    "Across all 5 input files, look for:\n",
    "* Missing tables\n",
    "* Missing columns\n",
    "* Column name mismatches, i.e., sometimes the columns names change\n",
    "\n",
    "Based on output of the following section you can:\n",
    "* Drop certain columns in certain circumstances after making sure they're not important\n",
    "* If columns ARE important, add them to the name mapping excel sheet and rerun this entire notebook\n",
    "\n",
    "## Any missing tables?"
   ]
  },
  {
   "cell_type": "code",
   "execution_count": 59,
   "metadata": {},
   "outputs": [],
   "source": [
    "expected_ita_tables = sorted( field_name_map['ita_prefix'].unique() )"
   ]
  },
  {
   "cell_type": "code",
   "execution_count": 61,
   "metadata": {},
   "outputs": [
    {
     "data": {
      "text/plain": [
       "{'CAROTID', 'ECARDIO'}"
      ]
     },
     "execution_count": 61,
     "metadata": {},
     "output_type": "execute_result"
    }
   ],
   "source": [
    "set( expected_ita_tables ) - set( tables.keys() )"
   ]
  },
  {
   "cell_type": "markdown",
   "metadata": {},
   "source": [
    "## Column comparison 1: Sardinian DB <-> NIA DB"
   ]
  },
  {
   "cell_type": "code",
   "execution_count": 62,
   "metadata": {},
   "outputs": [],
   "source": [
    "table_shapes = { n: t.shape for n, t in tables.items() }"
   ]
  },
  {
   "cell_type": "code",
   "execution_count": 63,
   "metadata": {},
   "outputs": [],
   "source": [
    "unique_IDindivs = { n: len( t['ID_INDIVIDUAL'].unique() ) \n",
    "                        for n, t in tables.items() }"
   ]
  },
  {
   "cell_type": "code",
   "execution_count": 70,
   "metadata": {},
   "outputs": [],
   "source": [
    "ita_fields = { n: list( t.columns ) for n, t in tables.items() }"
   ]
  },
  {
   "cell_type": "code",
   "execution_count": 71,
   "metadata": {},
   "outputs": [],
   "source": [
    "conversion_tables = dict(list( field_name_map.groupby( 'ita_prefix' ) ) )\n",
    "# Reorder and filter\n",
    "conversion_tables = { n: conversion_tables[ n ] for n in tables.keys() }"
   ]
  },
  {
   "cell_type": "code",
   "execution_count": 72,
   "metadata": {},
   "outputs": [],
   "source": [
    "ita2us_table_name_map = { n: df['eng_prefix'].iloc[0] \n",
    "                         for n, df in conversion_tables.items() }"
   ]
  },
  {
   "cell_type": "code",
   "execution_count": 73,
   "metadata": {},
   "outputs": [],
   "source": [
    "itaDB_fields_matched2_engDB = { n: set(l) & set( conversion_tables[n]['ita'] ) \n",
    "                                  for n, l in ita_fields.items() }"
   ]
  },
  {
   "cell_type": "code",
   "execution_count": 74,
   "metadata": {},
   "outputs": [],
   "source": [
    "itaDB_fields_not_matched2_engDB = { n: set(l) - set( conversion_tables[n]['ita']) \n",
    "                              for n, l in ita_fields.items() }"
   ]
  },
  {
   "cell_type": "code",
   "execution_count": 75,
   "metadata": {},
   "outputs": [],
   "source": [
    "ita2us_field_name_map = { n: dict( list( conversion_tables[n][['ita', 'eng']].itertuples(index=None,name=None) ) )\n",
    "                              for n, df in conversion_tables.items() }"
   ]
  },
  {
   "cell_type": "code",
   "execution_count": 76,
   "metadata": {},
   "outputs": [],
   "source": [
    "def ENG2ITA_set_diff( table_name, name_list ):\n",
    "    return set( conversion_tables[ table_name ]['eng'] ) - \\\n",
    "        set( [ ita2us_field_name_map[ table_name ].get( _, None ) for _ in name_list ] )"
   ]
  },
  {
   "cell_type": "code",
   "execution_count": 77,
   "metadata": {},
   "outputs": [],
   "source": [
    "engDB_fields_not_matched2_itaDB = { n: ENG2ITA_set_diff(n, l) for n, l in ita_fields.items() }"
   ]
  },
  {
   "cell_type": "code",
   "execution_count": 78,
   "metadata": {},
   "outputs": [],
   "source": [
    "# pp.pprint( engDB_fields_not_matched2_itaDB )"
   ]
  },
  {
   "cell_type": "code",
   "execution_count": 79,
   "metadata": {},
   "outputs": [],
   "source": [
    "for s in itaDB_fields_not_matched2_engDB.values():\n",
    "    s.discard( 'ID_INDIVIDUAL' )"
   ]
  },
  {
   "cell_type": "markdown",
   "metadata": {},
   "source": [
    "## Column comparison 2: Sardinian DB <-> Sardinian DB Description"
   ]
  },
  {
   "cell_type": "code",
   "execution_count": 80,
   "metadata": {},
   "outputs": [],
   "source": [
    "itaDB_fields_matched2_itaDB_DESC = { \n",
    "    n: set(l) & set( ita_db_description.loc[ ita_db_description['TABLE'] == n, 'FIELD'] ) \n",
    "        for n, l in ita_fields.items() }"
   ]
  },
  {
   "cell_type": "code",
   "execution_count": 81,
   "metadata": {},
   "outputs": [],
   "source": [
    "#pprint(itaDB_fields_matched2_itaDB_DESC, width=160, compact=True)"
   ]
  },
  {
   "cell_type": "code",
   "execution_count": 82,
   "metadata": {},
   "outputs": [],
   "source": [
    "itaDB_fields_not_matched2_itaDB_DESC = { \n",
    "    n: set(l) - set( ita_db_description.loc[ ita_db_description['TABLE'] == n, 'FIELD'] ) \n",
    "        for n, l in ita_fields.items() }"
   ]
  },
  {
   "cell_type": "markdown",
   "metadata": {},
   "source": [
    "## Column Mismatch Report: general stats"
   ]
  },
  {
   "cell_type": "code",
   "execution_count": 83,
   "metadata": {},
   "outputs": [],
   "source": [
    "stat_data = { 'eng_table_name': ita2us_table_name_map,\n",
    "             'size': table_shapes,\n",
    "             'unique_indivs': unique_IDindivs, \n",
    "             'itaDB_matched_engDB': {n: len(l) for n, l in itaDB_fields_matched2_engDB.items()},\n",
    "             'itaDB_unmatched_engDB': {n: len(l) for n, l in itaDB_fields_not_matched2_engDB.items()},\n",
    "             'engDB_unmatched_itaDB': {n: len(l) for n, l in engDB_fields_not_matched2_itaDB.items()},\n",
    "             'itaDB_unmatched_itaDB_DESC': {n: len(l) for n, l in itaDB_fields_not_matched2_itaDB_DESC.items()},\n",
    "            }"
   ]
  },
  {
   "cell_type": "code",
   "execution_count": 84,
   "metadata": {},
   "outputs": [],
   "source": [
    "stat_data = pd.DataFrame.from_dict( stat_data )"
   ]
  },
  {
   "cell_type": "code",
   "execution_count": 85,
   "metadata": {},
   "outputs": [],
   "source": [
    "stat_data[['rows', 'cols']] = stat_data['size'].apply(pd.Series)"
   ]
  },
  {
   "cell_type": "code",
   "execution_count": 86,
   "metadata": {},
   "outputs": [],
   "source": [
    "stat_data['DB_discrepancy'] = (stat_data['itaDB_unmatched_engDB'] + stat_data['engDB_unmatched_itaDB']).astype(bool)"
   ]
  },
  {
   "cell_type": "code",
   "execution_count": 87,
   "metadata": {},
   "outputs": [],
   "source": [
    "stat_data = stat_data.reindex( \n",
    "    index=expected_ita_tables,\n",
    "    columns=['eng_table_name', 'rows', \"unique_indivs\", \"cols\",\n",
    "            \"itaDB_matched_engDB\", 'itaDB_unmatched_engDB', \n",
    "            'engDB_unmatched_itaDB', 'DB_discrepancy', \n",
    "           \"itaDB_unmatched_itaDB_DESC\"] )"
   ]
  },
  {
   "cell_type": "code",
   "execution_count": 88,
   "metadata": {},
   "outputs": [
    {
     "data": {
      "text/html": [
       "<div>\n",
       "<style scoped>\n",
       "    .dataframe tbody tr th:only-of-type {\n",
       "        vertical-align: middle;\n",
       "    }\n",
       "\n",
       "    .dataframe tbody tr th {\n",
       "        vertical-align: top;\n",
       "    }\n",
       "\n",
       "    .dataframe thead th {\n",
       "        text-align: right;\n",
       "    }\n",
       "</style>\n",
       "<table border=\"1\" class=\"dataframe\">\n",
       "  <thead>\n",
       "    <tr style=\"text-align: right;\">\n",
       "      <th></th>\n",
       "      <th>eng_table_name</th>\n",
       "      <th>rows</th>\n",
       "      <th>unique_indivs</th>\n",
       "      <th>cols</th>\n",
       "      <th>itaDB_matched_engDB</th>\n",
       "      <th>itaDB_unmatched_engDB</th>\n",
       "      <th>engDB_unmatched_itaDB</th>\n",
       "      <th>DB_discrepancy</th>\n",
       "      <th>itaDB_unmatched_itaDB_DESC</th>\n",
       "    </tr>\n",
       "  </thead>\n",
       "  <tbody>\n",
       "    <tr>\n",
       "      <th>AUDIOMETRY</th>\n",
       "      <td>audio</td>\n",
       "      <td>2857.0</td>\n",
       "      <td>2857.0</td>\n",
       "      <td>15.0</td>\n",
       "      <td>14.0</td>\n",
       "      <td>0.0</td>\n",
       "      <td>0.0</td>\n",
       "      <td>False</td>\n",
       "      <td>15.0</td>\n",
       "    </tr>\n",
       "    <tr>\n",
       "      <th>BLOOD</th>\n",
       "      <td>labs</td>\n",
       "      <td>3106.0</td>\n",
       "      <td>3106.0</td>\n",
       "      <td>40.0</td>\n",
       "      <td>39.0</td>\n",
       "      <td>0.0</td>\n",
       "      <td>14.0</td>\n",
       "      <td>True</td>\n",
       "      <td>2.0</td>\n",
       "    </tr>\n",
       "    <tr>\n",
       "      <th>BLOOD_2</th>\n",
       "      <td>labs2_</td>\n",
       "      <td>3053.0</td>\n",
       "      <td>3053.0</td>\n",
       "      <td>37.0</td>\n",
       "      <td>36.0</td>\n",
       "      <td>0.0</td>\n",
       "      <td>0.0</td>\n",
       "      <td>False</td>\n",
       "      <td>0.0</td>\n",
       "    </tr>\n",
       "    <tr>\n",
       "      <th>CAROTID</th>\n",
       "      <td>NaN</td>\n",
       "      <td>NaN</td>\n",
       "      <td>NaN</td>\n",
       "      <td>NaN</td>\n",
       "      <td>NaN</td>\n",
       "      <td>NaN</td>\n",
       "      <td>NaN</td>\n",
       "      <td>NaN</td>\n",
       "      <td>NaN</td>\n",
       "    </tr>\n",
       "    <tr>\n",
       "      <th>DISEASES</th>\n",
       "      <td>dis</td>\n",
       "      <td>3112.0</td>\n",
       "      <td>3112.0</td>\n",
       "      <td>171.0</td>\n",
       "      <td>170.0</td>\n",
       "      <td>0.0</td>\n",
       "      <td>4.0</td>\n",
       "      <td>True</td>\n",
       "      <td>171.0</td>\n",
       "    </tr>\n",
       "    <tr>\n",
       "      <th>DISEASESCHECKLIST_n</th>\n",
       "      <td>disChk</td>\n",
       "      <td>3112.0</td>\n",
       "      <td>3112.0</td>\n",
       "      <td>94.0</td>\n",
       "      <td>93.0</td>\n",
       "      <td>0.0</td>\n",
       "      <td>44.0</td>\n",
       "      <td>True</td>\n",
       "      <td>94.0</td>\n",
       "    </tr>\n",
       "    <tr>\n",
       "      <th>ECARDIO</th>\n",
       "      <td>NaN</td>\n",
       "      <td>NaN</td>\n",
       "      <td>NaN</td>\n",
       "      <td>NaN</td>\n",
       "      <td>NaN</td>\n",
       "      <td>NaN</td>\n",
       "      <td>NaN</td>\n",
       "      <td>NaN</td>\n",
       "      <td>NaN</td>\n",
       "    </tr>\n",
       "    <tr>\n",
       "      <th>ECG</th>\n",
       "      <td>ecg</td>\n",
       "      <td>3127.0</td>\n",
       "      <td>3127.0</td>\n",
       "      <td>21.0</td>\n",
       "      <td>20.0</td>\n",
       "      <td>0.0</td>\n",
       "      <td>0.0</td>\n",
       "      <td>False</td>\n",
       "      <td>1.0</td>\n",
       "    </tr>\n",
       "    <tr>\n",
       "      <th>EXAMINATION</th>\n",
       "      <td>exm</td>\n",
       "      <td>3120.0</td>\n",
       "      <td>3120.0</td>\n",
       "      <td>29.0</td>\n",
       "      <td>28.0</td>\n",
       "      <td>0.0</td>\n",
       "      <td>0.0</td>\n",
       "      <td>False</td>\n",
       "      <td>2.0</td>\n",
       "    </tr>\n",
       "    <tr>\n",
       "      <th>EXAMINATION_BIS</th>\n",
       "      <td>examBis</td>\n",
       "      <td>3123.0</td>\n",
       "      <td>3123.0</td>\n",
       "      <td>37.0</td>\n",
       "      <td>34.0</td>\n",
       "      <td>2.0</td>\n",
       "      <td>5.0</td>\n",
       "      <td>True</td>\n",
       "      <td>4.0</td>\n",
       "    </tr>\n",
       "    <tr>\n",
       "      <th>HOLTER</th>\n",
       "      <td>holt</td>\n",
       "      <td>591.0</td>\n",
       "      <td>591.0</td>\n",
       "      <td>34.0</td>\n",
       "      <td>33.0</td>\n",
       "      <td>0.0</td>\n",
       "      <td>0.0</td>\n",
       "      <td>False</td>\n",
       "      <td>0.0</td>\n",
       "    </tr>\n",
       "    <tr>\n",
       "      <th>INDIVIDUAL</th>\n",
       "      <td>NaN</td>\n",
       "      <td>3127.0</td>\n",
       "      <td>3127.0</td>\n",
       "      <td>20.0</td>\n",
       "      <td>20.0</td>\n",
       "      <td>0.0</td>\n",
       "      <td>1.0</td>\n",
       "      <td>True</td>\n",
       "      <td>7.0</td>\n",
       "    </tr>\n",
       "    <tr>\n",
       "      <th>MEDHISTORY</th>\n",
       "      <td>hx</td>\n",
       "      <td>3112.0</td>\n",
       "      <td>3112.0</td>\n",
       "      <td>36.0</td>\n",
       "      <td>35.0</td>\n",
       "      <td>0.0</td>\n",
       "      <td>0.0</td>\n",
       "      <td>False</td>\n",
       "      <td>0.0</td>\n",
       "    </tr>\n",
       "    <tr>\n",
       "      <th>MEDICATIONS</th>\n",
       "      <td>rx</td>\n",
       "      <td>3112.0</td>\n",
       "      <td>3112.0</td>\n",
       "      <td>9.0</td>\n",
       "      <td>8.0</td>\n",
       "      <td>0.0</td>\n",
       "      <td>0.0</td>\n",
       "      <td>False</td>\n",
       "      <td>9.0</td>\n",
       "    </tr>\n",
       "    <tr>\n",
       "      <th>MMSE</th>\n",
       "      <td>Mmse</td>\n",
       "      <td>681.0</td>\n",
       "      <td>681.0</td>\n",
       "      <td>23.0</td>\n",
       "      <td>22.0</td>\n",
       "      <td>0.0</td>\n",
       "      <td>0.0</td>\n",
       "      <td>False</td>\n",
       "      <td>1.0</td>\n",
       "    </tr>\n",
       "    <tr>\n",
       "      <th>OTHERMEDICATION2_NEW</th>\n",
       "      <td>rxCat</td>\n",
       "      <td>3127.0</td>\n",
       "      <td>3127.0</td>\n",
       "      <td>36.0</td>\n",
       "      <td>35.0</td>\n",
       "      <td>0.0</td>\n",
       "      <td>4.0</td>\n",
       "      <td>True</td>\n",
       "      <td>36.0</td>\n",
       "    </tr>\n",
       "    <tr>\n",
       "      <th>PHYSICAL_ACTIVITY</th>\n",
       "      <td>physAct</td>\n",
       "      <td>3112.0</td>\n",
       "      <td>3112.0</td>\n",
       "      <td>28.0</td>\n",
       "      <td>27.0</td>\n",
       "      <td>0.0</td>\n",
       "      <td>0.0</td>\n",
       "      <td>False</td>\n",
       "      <td>0.0</td>\n",
       "    </tr>\n",
       "    <tr>\n",
       "      <th>PHYSICAL_TEST</th>\n",
       "      <td>physTst</td>\n",
       "      <td>3118.0</td>\n",
       "      <td>3118.0</td>\n",
       "      <td>22.0</td>\n",
       "      <td>21.0</td>\n",
       "      <td>0.0</td>\n",
       "      <td>0.0</td>\n",
       "      <td>False</td>\n",
       "      <td>0.0</td>\n",
       "    </tr>\n",
       "    <tr>\n",
       "      <th>SPHIGMOCOR_HRV</th>\n",
       "      <td>SphHRVFirstM_</td>\n",
       "      <td>2319.0</td>\n",
       "      <td>2281.0</td>\n",
       "      <td>60.0</td>\n",
       "      <td>25.0</td>\n",
       "      <td>34.0</td>\n",
       "      <td>29.0</td>\n",
       "      <td>True</td>\n",
       "      <td>34.0</td>\n",
       "    </tr>\n",
       "    <tr>\n",
       "      <th>SPHIGMOCOR_PWA</th>\n",
       "      <td>SphPWAFirstM_</td>\n",
       "      <td>4837.0</td>\n",
       "      <td>2244.0</td>\n",
       "      <td>83.0</td>\n",
       "      <td>62.0</td>\n",
       "      <td>20.0</td>\n",
       "      <td>66.0</td>\n",
       "      <td>True</td>\n",
       "      <td>29.0</td>\n",
       "    </tr>\n",
       "    <tr>\n",
       "      <th>SPHIGMOCOR_PWV</th>\n",
       "      <td>SphPWVFirstM_</td>\n",
       "      <td>7355.0</td>\n",
       "      <td>2260.0</td>\n",
       "      <td>41.0</td>\n",
       "      <td>33.0</td>\n",
       "      <td>7.0</td>\n",
       "      <td>37.0</td>\n",
       "      <td>True</td>\n",
       "      <td>6.0</td>\n",
       "    </tr>\n",
       "    <tr>\n",
       "      <th>SPIROMETER</th>\n",
       "      <td>Spirometer</td>\n",
       "      <td>1152.0</td>\n",
       "      <td>1152.0</td>\n",
       "      <td>42.0</td>\n",
       "      <td>41.0</td>\n",
       "      <td>0.0</td>\n",
       "      <td>1.0</td>\n",
       "      <td>True</td>\n",
       "      <td>0.0</td>\n",
       "    </tr>\n",
       "    <tr>\n",
       "      <th>URINE</th>\n",
       "      <td>Uri</td>\n",
       "      <td>2935.0</td>\n",
       "      <td>2935.0</td>\n",
       "      <td>11.0</td>\n",
       "      <td>10.0</td>\n",
       "      <td>0.0</td>\n",
       "      <td>0.0</td>\n",
       "      <td>False</td>\n",
       "      <td>1.0</td>\n",
       "    </tr>\n",
       "    <tr>\n",
       "      <th>VASCULAR</th>\n",
       "      <td>vas</td>\n",
       "      <td>1520.0</td>\n",
       "      <td>1520.0</td>\n",
       "      <td>5.0</td>\n",
       "      <td>4.0</td>\n",
       "      <td>0.0</td>\n",
       "      <td>8.0</td>\n",
       "      <td>True</td>\n",
       "      <td>0.0</td>\n",
       "    </tr>\n",
       "  </tbody>\n",
       "</table>\n",
       "</div>"
      ],
      "text/plain": [
       "                     eng_table_name    rows  unique_indivs   cols  \\\n",
       "AUDIOMETRY                    audio  2857.0         2857.0   15.0   \n",
       "BLOOD                          labs  3106.0         3106.0   40.0   \n",
       "BLOOD_2                      labs2_  3053.0         3053.0   37.0   \n",
       "CAROTID                         NaN     NaN            NaN    NaN   \n",
       "DISEASES                        dis  3112.0         3112.0  171.0   \n",
       "DISEASESCHECKLIST_n          disChk  3112.0         3112.0   94.0   \n",
       "ECARDIO                         NaN     NaN            NaN    NaN   \n",
       "ECG                             ecg  3127.0         3127.0   21.0   \n",
       "EXAMINATION                     exm  3120.0         3120.0   29.0   \n",
       "EXAMINATION_BIS             examBis  3123.0         3123.0   37.0   \n",
       "HOLTER                         holt   591.0          591.0   34.0   \n",
       "INDIVIDUAL                      NaN  3127.0         3127.0   20.0   \n",
       "MEDHISTORY                       hx  3112.0         3112.0   36.0   \n",
       "MEDICATIONS                      rx  3112.0         3112.0    9.0   \n",
       "MMSE                           Mmse   681.0          681.0   23.0   \n",
       "OTHERMEDICATION2_NEW          rxCat  3127.0         3127.0   36.0   \n",
       "PHYSICAL_ACTIVITY           physAct  3112.0         3112.0   28.0   \n",
       "PHYSICAL_TEST               physTst  3118.0         3118.0   22.0   \n",
       "SPHIGMOCOR_HRV        SphHRVFirstM_  2319.0         2281.0   60.0   \n",
       "SPHIGMOCOR_PWA        SphPWAFirstM_  4837.0         2244.0   83.0   \n",
       "SPHIGMOCOR_PWV        SphPWVFirstM_  7355.0         2260.0   41.0   \n",
       "SPIROMETER               Spirometer  1152.0         1152.0   42.0   \n",
       "URINE                           Uri  2935.0         2935.0   11.0   \n",
       "VASCULAR                        vas  1520.0         1520.0    5.0   \n",
       "\n",
       "                      itaDB_matched_engDB  itaDB_unmatched_engDB  \\\n",
       "AUDIOMETRY                           14.0                    0.0   \n",
       "BLOOD                                39.0                    0.0   \n",
       "BLOOD_2                              36.0                    0.0   \n",
       "CAROTID                               NaN                    NaN   \n",
       "DISEASES                            170.0                    0.0   \n",
       "DISEASESCHECKLIST_n                  93.0                    0.0   \n",
       "ECARDIO                               NaN                    NaN   \n",
       "ECG                                  20.0                    0.0   \n",
       "EXAMINATION                          28.0                    0.0   \n",
       "EXAMINATION_BIS                      34.0                    2.0   \n",
       "HOLTER                               33.0                    0.0   \n",
       "INDIVIDUAL                           20.0                    0.0   \n",
       "MEDHISTORY                           35.0                    0.0   \n",
       "MEDICATIONS                           8.0                    0.0   \n",
       "MMSE                                 22.0                    0.0   \n",
       "OTHERMEDICATION2_NEW                 35.0                    0.0   \n",
       "PHYSICAL_ACTIVITY                    27.0                    0.0   \n",
       "PHYSICAL_TEST                        21.0                    0.0   \n",
       "SPHIGMOCOR_HRV                       25.0                   34.0   \n",
       "SPHIGMOCOR_PWA                       62.0                   20.0   \n",
       "SPHIGMOCOR_PWV                       33.0                    7.0   \n",
       "SPIROMETER                           41.0                    0.0   \n",
       "URINE                                10.0                    0.0   \n",
       "VASCULAR                              4.0                    0.0   \n",
       "\n",
       "                      engDB_unmatched_itaDB DB_discrepancy  \\\n",
       "AUDIOMETRY                              0.0          False   \n",
       "BLOOD                                  14.0           True   \n",
       "BLOOD_2                                 0.0          False   \n",
       "CAROTID                                 NaN            NaN   \n",
       "DISEASES                                4.0           True   \n",
       "DISEASESCHECKLIST_n                    44.0           True   \n",
       "ECARDIO                                 NaN            NaN   \n",
       "ECG                                     0.0          False   \n",
       "EXAMINATION                             0.0          False   \n",
       "EXAMINATION_BIS                         5.0           True   \n",
       "HOLTER                                  0.0          False   \n",
       "INDIVIDUAL                              1.0           True   \n",
       "MEDHISTORY                              0.0          False   \n",
       "MEDICATIONS                             0.0          False   \n",
       "MMSE                                    0.0          False   \n",
       "OTHERMEDICATION2_NEW                    4.0           True   \n",
       "PHYSICAL_ACTIVITY                       0.0          False   \n",
       "PHYSICAL_TEST                           0.0          False   \n",
       "SPHIGMOCOR_HRV                         29.0           True   \n",
       "SPHIGMOCOR_PWA                         66.0           True   \n",
       "SPHIGMOCOR_PWV                         37.0           True   \n",
       "SPIROMETER                              1.0           True   \n",
       "URINE                                   0.0          False   \n",
       "VASCULAR                                8.0           True   \n",
       "\n",
       "                      itaDB_unmatched_itaDB_DESC  \n",
       "AUDIOMETRY                                  15.0  \n",
       "BLOOD                                        2.0  \n",
       "BLOOD_2                                      0.0  \n",
       "CAROTID                                      NaN  \n",
       "DISEASES                                   171.0  \n",
       "DISEASESCHECKLIST_n                         94.0  \n",
       "ECARDIO                                      NaN  \n",
       "ECG                                          1.0  \n",
       "EXAMINATION                                  2.0  \n",
       "EXAMINATION_BIS                              4.0  \n",
       "HOLTER                                       0.0  \n",
       "INDIVIDUAL                                   7.0  \n",
       "MEDHISTORY                                   0.0  \n",
       "MEDICATIONS                                  9.0  \n",
       "MMSE                                         1.0  \n",
       "OTHERMEDICATION2_NEW                        36.0  \n",
       "PHYSICAL_ACTIVITY                            0.0  \n",
       "PHYSICAL_TEST                                0.0  \n",
       "SPHIGMOCOR_HRV                              34.0  \n",
       "SPHIGMOCOR_PWA                              29.0  \n",
       "SPHIGMOCOR_PWV                               6.0  \n",
       "SPIROMETER                                   0.0  \n",
       "URINE                                        1.0  \n",
       "VASCULAR                                     0.0  "
      ]
     },
     "execution_count": 88,
     "metadata": {},
     "output_type": "execute_result"
    }
   ],
   "source": [
    "stat_data"
   ]
  },
  {
   "cell_type": "markdown",
   "metadata": {},
   "source": [
    "## Column Mismatch Report: list unmatched fields"
   ]
  },
  {
   "cell_type": "code",
   "execution_count": 90,
   "metadata": {},
   "outputs": [
    {
     "name": "stdout",
     "output_type": "stream",
     "text": [
      "{'BLOOD': {'NIA DB': {'labsAta', 'labsAtg', 'labsBilirubinad', 'labsBilirubinat', 'labsG6PD',\n",
      "                      'labsHBA2', 'labsHBF', 'labsHbA1C', 'labsHbA1Cdx', 'labsPCR',\n",
      "                      'labsPotassiemia', 'labsSodiemia', 'labsTie', 'labsZnPP'},\n",
      "           'Sard DB': set(),\n",
      "           'Sard DBdesc': {'CALCIO', 'ALBUMINA'}}}\n",
      "{'DISEASES': {'NIA DB': {'disCancerBones', 'disExpr1079', 'disMooddisorders', 'disExpr1080'},\n",
      "              'Sard DB': set(),\n",
      "              'Sard DBdesc': {'ACROMEGALY', 'ALPHA', 'ALZHEIMER', 'ANGINA_PECTORIS_1',\n",
      "                              'ANGINA_PECTORIS_2', 'ANGINA_PECTORIS_3', 'ANGINA_PECTORIS_4',\n",
      "                              'ANKYLOSING', 'ARTHRITIS', 'ASTHMA', 'ASTIGMATISM', 'BIPOLAR',\n",
      "                              'BRONCHITIS', 'B_HETEROZIGOTE', 'B_HOMOZIGOTE', 'CATARACT',\n",
      "                              'CIRRHOSIS', 'COLITIS', 'COLORBLIND', 'CROHN', 'DEMENTIAS',\n",
      "                              'DEPRESSIVE', 'DIABETES', 'DIABETES_1', 'DIABETES_2', 'DIALISIS',\n",
      "                              'DYSTROPHY', 'ECZEMA', 'EMPHYSEMA', 'EPILEPSY_1', 'EPILEPSY_2',\n",
      "                              'EPILEPSY_3', 'GLAUCOMA', 'GOUT', 'HASHIMOTO', 'HEALTH_CONDITONS',\n",
      "                              'HEART', 'HEART_FAILURE_1', 'HEART_FAILURE_2', 'HEART_FAILURE_3',\n",
      "                              'HEART_FAILURE_4', 'HEMOPHILIA', 'HIGH_CHOLESTEROL', 'HIGH_PRESSURE',\n",
      "                              'HYPERTHYROIDISM', 'HYPOTHYROIDISM', 'ID_INDIVIDUAL', 'INFARCTION_1',\n",
      "                              'INFARCTION_2', 'INFARCTION_3', 'INFARCTION_4', 'INTESTINAL_INF',\n",
      "                              'KERATOCONUS', 'LES', 'MACULAR', 'MYASTHENIA', 'MYPIA', 'M_SCLEROSIS',\n",
      "                              'OSTEOPOROSIS', 'PANCREATITIS', 'PARKINSON', 'POLMONAR_EMB',\n",
      "                              'PSORIASIS', 'RETINITIS', 'STONES', 'STROKE_1', 'STROKE_2',\n",
      "                              'STROKE_3', 'STROKE_4', 'SUBST_ABUSE', 'TROMBOSI_VEN', 'ULCER',\n",
      "                              'VALVULAR_DISEASE', 'aritmie', 'aritmie_t', 'asthmadiagn',\n",
      "                              'asthmains', 'b_1', 'b_10', 'b_11', 'b_12', 'b_13', 'b_14', 'b_15',\n",
      "                              'b_16', 'b_17', 'b_18', 'b_19', 'b_2', 'b_3', 'b_4', 'b_5', 'b_6',\n",
      "                              'b_7', 'b_8', 'b_9', 'b_data_diagnosi', 'b_note',\n",
      "                              'b_terapia_chirurgica', 'benign_tumors', 'c_1', 'c_10', 'c_11',\n",
      "                              'c_12', 'c_13', 'c_14', 'c_15', 'c_16', 'c_17', 'c_19', 'c_2', 'c_3',\n",
      "                              'c_4', 'c_5', 'c_6', 'c_7', 'c_8', 'c_9', 'c_adjuvant',\n",
      "                              'c_chemotherapy', 'c_date_diagnosis', 'c_farmaci', 'c_metastasis',\n",
      "                              'c_radiotherapy', 'c_ricoveri', 'c_stable', 'c_surgical_therapy',\n",
      "                              'cancer', 'cancer_treat', 'carcinomatiroid', 'carcinomatiroid_1',\n",
      "                              'carcinomatiroid_2', 'carcinomatiroid_3', 'carcinomatiroid_4',\n",
      "                              'carcinomatiroid_5', 'carcinomatiroid_6', 'card_congenite',\n",
      "                              'card_congenite_t', 'card_ipertensiva', 'card_ipertrofica',\n",
      "                              'card_restrittiva', 'card_restrittiva_t', 'cardio_altre', 'celiac',\n",
      "                              'crisi_emolitica', 'dispnea', 'dispneacl', 'endo_others',\n",
      "                              'endometriosis', 'g6pd', 'gallstone', 'gozzo', 'gozzo_1', 'gozzo_2',\n",
      "                              'gozzo_3', 'gozzo_4', 'hemolytic_crisis', 'high_tricerids',\n",
      "                              'lactose_intolerance', 'noduli', 'pcos', 'peso_nascita', 'valvular_1',\n",
      "                              'valvular_2', 'valvular_3', 'valvular_4', 'valvular_5', 'valvular_6',\n",
      "                              'valvular_7', 'valvular_8', 'valvular_9'}}}\n",
      "{'DISEASESCHECKLIST_n': {'NIA DB': {'disChkAcromegaly', 'disChkAlzheimer', 'disChkArthritis',\n",
      "                                    'disChkAsthma', 'disChkAstigmatism', 'disChkBipolar',\n",
      "                                    'disChkBronchitis', 'disChkCataract', 'disChkCirrhosis',\n",
      "                                    'disChkColitis', 'disChkColorblind', 'disChkCrohn',\n",
      "                                    'disChkDementias', 'disChkDepressive', 'disChkDialisis',\n",
      "                                    'disChkDuchennedyst', 'disChkEczema', 'disChkEmphysema',\n",
      "                                    'disChkEpilepsy05', 'disChkEpilepsy06', 'disChkEpilepsy07',\n",
      "                                    'disChkGlaucoma', 'disChkGout', 'disChkHashimoto',\n",
      "                                    'disChkHemophilia', 'disChkHyperthyroidism',\n",
      "                                    'disChkHypothyroidism', 'disChkLes', 'disChkMaculardegen',\n",
      "                                    'disChkMoodDisorder', 'disChkMultiplescler', 'disChkMyasthenia',\n",
      "                                    'disChkMypia', 'disChkOsteoporosis', 'disChkPancreatitis',\n",
      "                                    'disChkParkinson', 'disChkPsoriasis', 'disChkRetinitis',\n",
      "                                    'disChkSpondylitis', 'disChkStones', 'disChkSubAbuse',\n",
      "                                    'disChkThalassemia1', 'disChkThalassemia2',\n",
      "                                    'disChkThalassemia3'},\n",
      "                         'Sard DB': set(),\n",
      "                         'Sard DBdesc': {'ADDISON', 'AMINOACIDMETABOL', 'ANXIETY', 'ATAXIC',\n",
      "                                         'AUTONOMIC', 'BEHCET', 'BONEANDMINERALCHECK',\n",
      "                                         'CEREBROVASCULAR', 'CONDUCTIVE', 'CONNECTISSUE', 'CRANIAL',\n",
      "                                         'CUSHING', 'DEAFNESS', 'DERMATOMYOSITIS', 'DISORDERSCHECK',\n",
      "                                         'DOWN', 'EARNOSETHRCHECK', 'ENDOCRINECHECK',\n",
      "                                         'EPILEPSYCHECK', 'EPILEPSY_1', 'EPILEPSY_10',\n",
      "                                         'EPILEPSY_11', 'EPILEPSY_12', 'EPILEPSY_13', 'EPILEPSY_2',\n",
      "                                         'EPILEPSY_3', 'EPILEPSY_4', 'EPILEPSY_8', 'EPILEPSY_9',\n",
      "                                         'EYECHECK', 'FIBROSIS', 'GALACTOSEMIA',\n",
      "                                         'GASTROINTESTINALCHECK', 'GLOMERULOPATHIES', 'GLYCOGEN',\n",
      "                                         'GOODPASTURES', 'HEMATOLOGICALCHECK', 'HEMOCHROMATOSIS',\n",
      "                                         'HEPATITIS', 'HYPEROSTOSIS', 'ID_INDIVIDUAL',\n",
      "                                         'IMMUNOLOGICALCHECK', 'KERATOCONUS', 'LIPODYSTROPHIES',\n",
      "                                         'LIVERCHECK', 'LYSOSOMAL', 'MAGNESIUM', 'MEMBRANETRANSP',\n",
      "                                         'MENTALCHECK', 'METABOLICBONE', 'METABOLICCHECK',\n",
      "                                         'MIGRAINE', 'MYOPATHIES', 'MYOTONICDYST', 'NANISM',\n",
      "                                         'NEUROLOGICCHECK', 'NEUROMUSCULARCHECK', 'NEURON',\n",
      "                                         'OSTEOARTHRITIS', 'OSTEOMALICIA', 'PAGET', 'PARATHYROID',\n",
      "                                         'PHOSPHORUS', 'PORPHYRIAS', 'PSORIATIC',\n",
      "                                         'RESPIRATORYCHECK', 'RETARDATIONCHECK', 'RHEUMATICFEVER',\n",
      "                                         'RICKETS', 'SARCOIDOSIS', 'SCHIZOPHRENIA', 'SCLERODERMIA',\n",
      "                                         'SENSORY', 'SJOGREN', 'SPINAL', 'TUBULOINTERSTITIAL',\n",
      "                                         'ULCER', 'URINARYCHECK', 'UVEITIS', 'VASCULITIS',\n",
      "                                         'VITILIGO', 'WILSON', 'adr', 'allergologichecheck',\n",
      "                                         'congiuntivite', 'dac', 'derm_atopica_inf', 'derm_seborr',\n",
      "                                         'dic', 'orticaria', 'orticaria_t', 'parassitosi', 'shock',\n",
      "                                         'soa'}}}\n",
      "{'EXAMINATION_BIS': {'NIA DB': {'examBisKidneydxCort', 'examBisKidneydxVolume',\n",
      "                                'examBisKidneysxCort', 'examBisKidneysxVolume',\n",
      "                                'examBisThyroidNodules2'},\n",
      "                     'Sard DB': {'Ultrasound', 'notes_a'},\n",
      "                     'Sard DBdesc': {'Ultrasound', 'Ml_dl', 'LD_sl', 'Ml_tr'}}}\n",
      "{'INDIVIDUAL': {'NIA DB': {'ID_INDIVIDUAL'},\n",
      "                'Sard DB': set(),\n",
      "                'Sard DBdesc': {'AGE_1', 'AGE_2', 'AGE_3', 'AGE_4', 'AGE_5', 'birth_date',\n",
      "                                'visita'}}}\n",
      "{'OTHERMEDICATION2_NEW': {'NIA DB': {'rxCatAlfa_blockers1', 'rxCatAng CEI', 'rxCatAt1_blockers1',\n",
      "                                     'rxCatGlitazoni'},\n",
      "                          'Sard DB': set(),\n",
      "                          'Sard DBdesc': {'AchEinhib', 'Alfa_blockers', 'Anti_diabetic',\n",
      "                                          'Anti_inflamatory_analgesic_FANS_etc',\n",
      "                                          'Antibiotics_antiviralt_antimicotic',\n",
      "                                          'Antidepress_mood_stabilizer', 'Antigout',\n",
      "                                          'Antihipertensive', 'Antihistaminics',\n",
      "                                          'Antiplatelet_anticoagulants', 'Aspirin', 'At1_blockers',\n",
      "                                          'Benzodiazepine_ipnotici', 'Beta_blockers', 'Biguanidi',\n",
      "                                          'CCB', 'CV_drugs', 'Diuretics', 'Drugs_for_eyes',\n",
      "                                          'Drugs_for_osteoporosis', 'Hormones', 'ID_INDIVIDUAL',\n",
      "                                          'Insulin', 'Lipid_lowering', 'Neurolettici', 'Nitrates',\n",
      "                                          'Other', 'Parkinson', 'Plavix', 'Sulf_Hypoglicemic',\n",
      "                                          'Sulf_biguanidi', 'Vitamins', 'acting_nervous_system',\n",
      "                                          'gastrointestinal_disease_drugs',\n",
      "                                          'modulating_immune_system', 'pulmonary_disease_drugs'}}}\n",
      "{'SPIROMETER': {'NIA DB': {'SpirometerPEFF'}, 'Sard DB': set(), 'Sard DBdesc': set()}}\n",
      "{'VASCULAR': {'NIA DB': {'vasAT', 'vasDiaDiam', 'vasEDV', 'vasIP', 'vasPSV', 'vasSDratio',\n",
      "                         'vasSysDiam', 'vasvti'},\n",
      "              'Sard DB': set(),\n",
      "              'Sard DBdesc': set()}}\n",
      "{'SPHIGMOCOR_PWV': {'NIA DB': {'SphPWVFirstM_A_DEVIATION_DT', 'SphPWVFirstM_A_ECG_QC_BLV',\n",
      "                               'SphPWVFirstM_A_ECG_QC_PH', 'SphPWVFirstM_A_ECG_QC_PHV',\n",
      "                               'SphPWVFirstM_A_ECG_QC_PLV', 'SphPWVFirstM_A_HR',\n",
      "                               'SphPWVFirstM_A_MDT', 'SphPWVFirstM_A_SUBTYPE',\n",
      "                               'SphPWVFirstM_A_TON_QC_BLV', 'SphPWVFirstM_A_TON_QC_PH',\n",
      "                               'SphPWVFirstM_A_TON_QC_PHV', 'SphPWVFirstM_A_TON_QC_PLV',\n",
      "                               'SphPWVFirstM_B_DEVIATION_DT', 'SphPWVFirstM_B_ECG_QC_BLV',\n",
      "                               'SphPWVFirstM_B_ECG_QC_PH', 'SphPWVFirstM_B_ECG_QC_PHV',\n",
      "                               'SphPWVFirstM_B_ECG_QC_PLV', 'SphPWVFirstM_B_HR',\n",
      "                               'SphPWVFirstM_B_MDT', 'SphPWVFirstM_B_SUBTYPE',\n",
      "                               'SphPWVFirstM_B_TON_QC_BLV', 'SphPWVFirstM_B_TON_QC_PH',\n",
      "                               'SphPWVFirstM_B_TON_QC_PHV', 'SphPWVFirstM_B_TON_QC_PLV',\n",
      "                               'SphPWVFirstM_DP', 'SphPWVFirstM_DT_DIST',\n",
      "                               'SphPWVFirstM_N_Measurements', 'SphPWVFirstM_PP_DEVIATION',\n",
      "                               'SphPWVFirstM_PP_MDT', 'SphPWVFirstM_PWV', 'SphPWVFirstM_PWVERR',\n",
      "                               'SphPWVFirstM_PWV_DIST', 'SphPWVFirstM_PX_DIST', 'SphPWVFirstM_SP',\n",
      "                               'SphPWVFirstM_date', 'SphPWVSecondM_N_Measurements',\n",
      "                               'SphPWVSecondM_date'},\n",
      "                    'Sard DB': {'A_NOF_10_SETS', 'B_NOF_10_SETS', 'DATETIME', 'PTT SD',\n",
      "                                'data visita 5', 'diff', 'version'},\n",
      "                    'Sard DBdesc': {'A_NOF_10_SETS', 'B_NOF_10_SETS', 'PTT SD', 'data visita 5',\n",
      "                                    'diff', 'version'}}}\n",
      "{'SPHIGMOCOR_HRV': {'NIA DB': {'SphHRVFirstM_DP', 'SphHRVFirstM_END_PULSE',\n",
      "                               'SphHRVFirstM_HF_MAXIMUM', 'SphHRVFirstM_HF_POWER',\n",
      "                               'SphHRVFirstM_HF_POWER_NORMALISED', 'SphHRVFirstM_LF_HF_RATIO',\n",
      "                               'SphHRVFirstM_LF_MAXIMUM', 'SphHRVFirstM_LF_POWER',\n",
      "                               'SphHRVFirstM_LF_POWER_NORMALISED', 'SphHRVFirstM_MAX/MIN',\n",
      "                               'SphHRVFirstM_MAXIMUM', 'SphHRVFirstM_MEAN', 'SphHRVFirstM_MINIMUM',\n",
      "                               'SphHRVFirstM_MODE', 'SphHRVFirstM_NN50',\n",
      "                               'SphHRVFirstM_NUMBER_PULSES', 'SphHRVFirstM_N_Measurements',\n",
      "                               'SphHRVFirstM_PNN50', 'SphHRVFirstM_RANGE', 'SphHRVFirstM_RMS_SDD',\n",
      "                               'SphHRVFirstM_SP', 'SphHRVFirstM_SPECTRUM_MAXIMUM',\n",
      "                               'SphHRVFirstM_STANDARD_DEVIATION', 'SphHRVFirstM_START_PULSE',\n",
      "                               'SphHRVFirstM_TOTAL_POWER', 'SphHRVFirstM_TRIANGULAR_INDEX',\n",
      "                               'SphHRVFirstM_date', 'SphHRVSecondM_N_Measurements',\n",
      "                               'SphHRVSecondM_date'},\n",
      "                    'Sard DB': {'AGE', 'BODY_MASS_INDEX', 'DATA_REV', 'DATETIME', 'Database ID',\n",
      "                                'HEIGHT', 'HRV_INDEX', 'HRV_TRIANGULAR_INDEX', 'METHOD', 'MP',\n",
      "                                'NUMBER_SEGMENTS', 'Patient Notes', 'Patient Number', 'RMSSD',\n",
      "                                'SAMPLE_RATE', 'SDANN', 'SDNN', 'SDNN Index', 'SEGMENT_LENGTH',\n",
      "                                'SIMULATION MODE', 'SPECTRUM_POINTS', 'STAND_HIGH', 'STAND_LOW',\n",
      "                                'STAND_RATIO', 'START_TIME', 'System ID', 'TINN', 'VALSALVA_HIGH',\n",
      "                                'VALSALVA_LOW', 'VALSALVA_RATIO', 'WEIGHT', 'data visita 5', 'diff',\n",
      "                                'version'},\n",
      "                    'Sard DBdesc': {'AGE', 'BODY_MASS_INDEX', 'DATA_REV', 'Database ID', 'HEIGHT',\n",
      "                                    'HRV_INDEX', 'HRV_TRIANGULAR_INDEX', 'METHOD', 'MP',\n",
      "                                    'NUMBER_SEGMENTS', 'Patient Notes', 'Patient Number', 'RMSSD',\n",
      "                                    'SAMPLE_RATE', 'SDANN', 'SDNN', 'SDNN Index', 'SEGMENT_LENGTH',\n",
      "                                    'SIMULATION MODE', 'SPECTRUM_POINTS', 'STAND_HIGH', 'STAND_LOW',\n",
      "                                    'STAND_RATIO', 'START_TIME', 'System ID', 'TINN',\n",
      "                                    'TRIANGULAR_INDEX', 'VALSALVA_HIGH', 'VALSALVA_LOW',\n",
      "                                    'VALSALVA_RATIO', 'WEIGHT', 'data visita 5', 'diff',\n",
      "                                    'version'}}}\n",
      "{'SPHIGMOCOR_PWA': {'NIA DB': {'SphPWAFirstM_BODY_MASS_INDEX', 'SphPWAFirstM_C_AGPH',\n",
      "                               'SphPWAFirstM_C_AGPH_HR75', 'SphPWAFirstM_C_AI', 'SphPWAFirstM_C_AL',\n",
      "                               'SphPWAFirstM_C_AP', 'SphPWAFirstM_C_AP_HR75', 'SphPWAFirstM_C_ATI',\n",
      "                               'SphPWAFirstM_C_CalcT1', 'SphPWAFirstM_C_CalcT2',\n",
      "                               'SphPWAFirstM_C_DD', 'SphPWAFirstM_C_DD_PERIOD', 'SphPWAFirstM_C_DP',\n",
      "                               'SphPWAFirstM_C_DTI', 'SphPWAFirstM_C_ED_PERIOD',\n",
      "                               'SphPWAFirstM_C_ESP', 'SphPWAFirstM_C_MEANP', 'SphPWAFirstM_C_MPD',\n",
      "                               'SphPWAFirstM_C_MPS', 'SphPWAFirstM_C_P1',\n",
      "                               'SphPWAFirstM_C_P1_HEIGHT', 'SphPWAFirstM_C_P2',\n",
      "                               'SphPWAFirstM_C_PERIOD', 'SphPWAFirstM_C_PH',\n",
      "                               'SphPWAFirstM_C_QUALITY_T1', 'SphPWAFirstM_C_QUALITY_T2',\n",
      "                               'SphPWAFirstM_C_SP', 'SphPWAFirstM_C_SVI', 'SphPWAFirstM_C_T1',\n",
      "                               'SphPWAFirstM_C_T1ED', 'SphPWAFirstM_C_T1R ', 'SphPWAFirstM_C_T2',\n",
      "                               'SphPWAFirstM_C_T2ED', 'SphPWAFirstM_C_TTI', 'SphPWAFirstM_CalcED',\n",
      "                               'SphPWAFirstM_DP', 'SphPWAFirstM_ED', 'SphPWAFirstM_HR',\n",
      "                               'SphPWAFirstM_N_Measurements', 'SphPWAFirstM_Operator Index',\n",
      "                               'SphPWAFirstM_PPAmpRatio  ', 'SphPWAFirstM_P_AI',\n",
      "                               'SphPWAFirstM_P_CalcT1', 'SphPWAFirstM_P_CalcT2',\n",
      "                               'SphPWAFirstM_P_DP', 'SphPWAFirstM_P_ESP', 'SphPWAFirstM_P_MAX_DPDT',\n",
      "                               'SphPWAFirstM_P_MEANP', 'SphPWAFirstM_P_P1', 'SphPWAFirstM_P_P2',\n",
      "                               'SphPWAFirstM_P_QC_DV', 'SphPWAFirstM_P_QC_PH',\n",
      "                               'SphPWAFirstM_P_QC_PHV', 'SphPWAFirstM_P_QC_PLV',\n",
      "                               'SphPWAFirstM_P_QUALITY_T1', 'SphPWAFirstM_P_QUALITY_T2',\n",
      "                               'SphPWAFirstM_P_SP', 'SphPWAFirstM_P_T1', 'SphPWAFirstM_P_T1ED',\n",
      "                               'SphPWAFirstM_P_T2', 'SphPWAFirstM_P_T2ED',\n",
      "                               'SphPWAFirstM_QUALITY_ED', 'SphPWAFirstM_SP', 'SphPWAFirstM_date',\n",
      "                               'SphPWASecondM_N_Measurements', 'SphPWASecondM_date'},\n",
      "                    'Sard DB': {'AGE', 'DATA_REV', 'DATETIME', 'Database ID', 'HEIGHT',\n",
      "                                'Inconclusive', 'MP', 'P_QC_SDEV', 'Patient Notes',\n",
      "                                'Patient Number', 'Reference Age', 'SAMPLE_RATE', 'SIMULATION MODE',\n",
      "                                'SUB_TYPE', 'System ID', 'Tonometer Serial Number', 'WEIGHT',\n",
      "                                'data visita 5', 'diff', 'version'},\n",
      "                    'Sard DBdesc': {'AGE', 'BODY_MASS_INDEX', 'C_AGPH_HR75', 'C_AP_HR75',\n",
      "                                    'C_CalcT1', 'C_CalcT2', 'C_T1R', 'DATA_REV', 'Database ID',\n",
      "                                    'HEIGHT', 'Inconclusive', 'MP', 'Operator Index', 'PPAmpRatio',\n",
      "                                    'P_CalcT1', 'P_CalcT2', 'P_QC_SDEV', 'Patient Notes',\n",
      "                                    'Patient Number', 'Reference Age', 'SAMPLE_RATE',\n",
      "                                    'SIMULATION MODE', 'SUB_TYPE', 'System ID',\n",
      "                                    'Tonometer Serial Number', 'WEIGHT', 'data visita 5', 'diff',\n",
      "                                    'version'}}}\n"
     ]
    }
   ],
   "source": [
    "for n in tables.keys():\n",
    "    if not stat_data.loc[ n, 'DB_discrepancy']:\n",
    "        continue\n",
    "\n",
    "    pp.pprint({ n : { \n",
    "        \"Sard DB\": itaDB_fields_not_matched2_engDB[n],\n",
    "        \"NIA DB\": engDB_fields_not_matched2_itaDB[n],\n",
    "        \"Sard DBdesc\": itaDB_fields_not_matched2_itaDB_DESC[n],\n",
    "        #\"Sard DB counts\": \"\\n\"+str(tables[n].count()[ itaDB_fields_not_matched2_engDB[n] ])\n",
    "    }})"
   ]
  },
  {
   "cell_type": "markdown",
   "metadata": {},
   "source": [
    "## Drop columns in certain circumstances"
   ]
  },
  {
   "cell_type": "code",
   "execution_count": 91,
   "metadata": {},
   "outputs": [],
   "source": [
    "for n in table_names:\n",
    "    if any( n == _ for _ in ['SPHIGMOCOR_PWV', 'SPHIGMOCOR_HRV', 'SPHIGMOCOR_PWA'] ):\n",
    "        # I've checked, and the leftover columns don't matter\n",
    "        drop_these = itaDB_fields_not_matched2_engDB[n]-set(['DATETIME'])\n",
    "        print( f\"{n}: dropping these: {drop_these}\" )\n",
    "        tables[n].drop( columns=, inplace=True )"
   ]
  },
  {
   "cell_type": "markdown",
   "metadata": {},
   "source": [
    "## OPTIONAL: Import individual IDs from another notebook for comparison"
   ]
  },
  {
   "cell_type": "code",
   "execution_count": null,
   "metadata": {},
   "outputs": [],
   "source": [
    "new_indivs = { n: set( t['ID_INDIVIDUAL'] ) for n, t in tables.items() }"
   ]
  },
  {
   "cell_type": "code",
   "execution_count": null,
   "metadata": {},
   "outputs": [],
   "source": [
    "%store -r old_indivs"
   ]
  },
  {
   "cell_type": "code",
   "execution_count": null,
   "metadata": {},
   "outputs": [],
   "source": [
    "for n in sorted( list( set(new_indivs.keys()) | set(old_indivs.keys()) )):\n",
    "    old = old_indivs.get( n, set() )\n",
    "    new = new_indivs.get( n, set() )\n",
    "\n",
    "    print( f\"{len( old - new)}\\t{len( new - old)}\\t{len( new & old )}\\t{n}\")"
   ]
  },
  {
   "cell_type": "code",
   "execution_count": null,
   "metadata": {},
   "outputs": [],
   "source": [
    "pp.pprint( old_indivs[\"SPHIGMOCOR_HRV\"] - new_indivs[\"SPHIGMOCOR_HRV\"] )"
   ]
  },
  {
   "cell_type": "code",
   "execution_count": null,
   "metadata": {},
   "outputs": [],
   "source": [
    "tables['VASCULAR'].count()"
   ]
  },
  {
   "cell_type": "markdown",
   "metadata": {},
   "source": [
    "# Handle SphygmoCor Tables\n",
    "## Pre-merge quality control\n",
    "\n",
    "* compare these SphigmoCor tables to tables from last upload"
   ]
  },
  {
   "cell_type": "code",
   "execution_count": 92,
   "metadata": {},
   "outputs": [
    {
     "name": "stdout",
     "output_type": "stream",
     "text": [
      "-rw-r--r--  1 colettace  1360859114  10747904 Jan 22 15:19 20180406_dbSardinia5.mdb\n",
      "-rw-r--r--  1 colettace  1360859114  21254144 Nov 14 16:56 DbSardinia_20181108.mdb\n"
     ]
    }
   ],
   "source": [
    "ls -l *.mdb"
   ]
  },
  {
   "cell_type": "code",
   "execution_count": 93,
   "metadata": {},
   "outputs": [
    {
     "data": {
      "text/plain": [
       "(2319, 60)"
      ]
     },
     "execution_count": 93,
     "metadata": {},
     "output_type": "execute_result"
    }
   ],
   "source": [
    "tables['SPHIGMOCOR_HRV'].shape"
   ]
  },
  {
   "cell_type": "markdown",
   "metadata": {},
   "source": [
    "## SphygmoCor PWA Quality Control\n",
    "\n",
    "* Drop certain readings based on QC metrics given to us by SphygmoCor technicians"
   ]
  },
  {
   "cell_type": "code",
   "execution_count": 94,
   "metadata": {
    "ExecuteTime": {
     "end_time": "2017-12-07T19:56:28.467019Z",
     "start_time": "2017-12-07T19:56:27.593530Z"
    }
   },
   "outputs": [],
   "source": [
    "pwa_qc_cols = ['ID_INDIVIDUAL', 'DATETIME', 'P_QC_PH', 'P_QC_PHV', 'P_QC_DV', 'P_MAX_DPDT' ]"
   ]
  },
  {
   "cell_type": "code",
   "execution_count": 95,
   "metadata": {},
   "outputs": [],
   "source": [
    "sph_df = tables[\"SPHIGMOCOR_PWA\"]"
   ]
  },
  {
   "cell_type": "code",
   "execution_count": 96,
   "metadata": {},
   "outputs": [
    {
     "data": {
      "text/plain": [
       "(4837, 83)"
      ]
     },
     "execution_count": 96,
     "metadata": {},
     "output_type": "execute_result"
    }
   ],
   "source": [
    "sph_df.shape"
   ]
  },
  {
   "cell_type": "code",
   "execution_count": 97,
   "metadata": {},
   "outputs": [
    {
     "data": {
      "text/plain": [
       "Index(['ID_INDIVIDUAL', 'data visita 5', 'diff', 'DATETIME', 'SP', 'DP', 'HR',\n",
       "       'ED', 'CalcED', 'QUALITY_ED', 'P_SP', 'P_DP', 'P_MEANP', 'P_T1', 'P_T2',\n",
       "       'P_QUALITY_T1', 'P_QUALITY_T2', 'P_P1', 'P_P2', 'P_T1ED', 'P_T2ED',\n",
       "       'P_AI', 'P_ESP', 'P_MAX_DPDT', 'P_QC_PH', 'P_QC_PHV', 'P_QC_PLV',\n",
       "       'P_QC_DV', 'C_SP', 'C_DP', 'C_MEANP', 'C_T1', 'C_T2', 'C_QUALITY_T1',\n",
       "       'C_QUALITY_T2', 'C_P1', 'C_P2', 'C_T1ED', 'C_T2ED', 'C_AI', 'C_ESP',\n",
       "       'C_AP', 'C_MPS', 'C_MPD', 'C_TTI', 'C_DTI', 'C_SVI', 'C_PERIOD', 'C_DD',\n",
       "       'C_ED_PERIOD', 'C_DD_PERIOD', 'C_PH', 'C_P1_HEIGHT', 'C_AGPH', 'C_AL',\n",
       "       'C_ATI', 'version', 'System ID', 'Database ID', 'Patient Number',\n",
       "       'Patient Notes', 'MP', 'DATA_REV', 'AGE', 'HEIGHT', 'WEIGHT',\n",
       "       'BODY_MASS_INDEX', 'SAMPLE_RATE', 'SIMULATION MODE',\n",
       "       'Tonometer Serial Number', 'SUB_TYPE', 'Inconclusive', 'Reference Age',\n",
       "       'PPAmpRatio', 'P_QC_SDEV', 'Operator Index', 'P_CalcT1', 'P_CalcT2',\n",
       "       'C_AP_HR75', 'C_AGPH_HR75', 'C_T1R', 'C_CalcT1', 'C_CalcT2'],\n",
       "      dtype='object')"
      ]
     },
     "execution_count": 97,
     "metadata": {},
     "output_type": "execute_result"
    }
   ],
   "source": [
    "tables[\"SPHIGMOCOR_PWA\"].columns"
   ]
  },
  {
   "cell_type": "code",
   "execution_count": 98,
   "metadata": {
    "ExecuteTime": {
     "end_time": "2017-12-07T19:56:28.467019Z",
     "start_time": "2017-12-07T19:56:27.593530Z"
    }
   },
   "outputs": [],
   "source": [
    "qc_df = sph_df.reindex( columns=pwa_qc_cols ).copy()"
   ]
  },
  {
   "cell_type": "code",
   "execution_count": 99,
   "metadata": {},
   "outputs": [
    {
     "data": {
      "text/plain": [
       "(4837, 6)"
      ]
     },
     "execution_count": 99,
     "metadata": {},
     "output_type": "execute_result"
    }
   ],
   "source": [
    "qc_df.shape"
   ]
  },
  {
   "cell_type": "code",
   "execution_count": 100,
   "metadata": {},
   "outputs": [
    {
     "data": {
      "text/html": [
       "<div>\n",
       "<style scoped>\n",
       "    .dataframe tbody tr th:only-of-type {\n",
       "        vertical-align: middle;\n",
       "    }\n",
       "\n",
       "    .dataframe tbody tr th {\n",
       "        vertical-align: top;\n",
       "    }\n",
       "\n",
       "    .dataframe thead th {\n",
       "        text-align: right;\n",
       "    }\n",
       "</style>\n",
       "<table border=\"1\" class=\"dataframe\">\n",
       "  <thead>\n",
       "    <tr style=\"text-align: right;\">\n",
       "      <th></th>\n",
       "      <th>ID_INDIVIDUAL</th>\n",
       "      <th>DATETIME</th>\n",
       "      <th>P_QC_PH</th>\n",
       "      <th>P_QC_PHV</th>\n",
       "      <th>P_QC_DV</th>\n",
       "      <th>P_MAX_DPDT</th>\n",
       "    </tr>\n",
       "  </thead>\n",
       "  <tbody>\n",
       "    <tr>\n",
       "      <th>0</th>\n",
       "      <td>7</td>\n",
       "      <td>06/17/16 15:30:51</td>\n",
       "      <td>142.875000</td>\n",
       "      <td>2.719016</td>\n",
       "      <td>1.684165</td>\n",
       "      <td>875.549988</td>\n",
       "    </tr>\n",
       "    <tr>\n",
       "      <th>1</th>\n",
       "      <td>7</td>\n",
       "      <td>06/17/16 15:31:14</td>\n",
       "      <td>131.555557</td>\n",
       "      <td>3.797341</td>\n",
       "      <td>4.413006</td>\n",
       "      <td>853.174988</td>\n",
       "    </tr>\n",
       "    <tr>\n",
       "      <th>2</th>\n",
       "      <td>8</td>\n",
       "      <td>07/26/17 11:26:41</td>\n",
       "      <td>85.000000</td>\n",
       "      <td>5.000000</td>\n",
       "      <td>3.000000</td>\n",
       "      <td>633.000000</td>\n",
       "    </tr>\n",
       "    <tr>\n",
       "      <th>3</th>\n",
       "      <td>8</td>\n",
       "      <td>07/26/17 11:26:59</td>\n",
       "      <td>87.000000</td>\n",
       "      <td>2.000000</td>\n",
       "      <td>3.000000</td>\n",
       "      <td>633.000000</td>\n",
       "    </tr>\n",
       "    <tr>\n",
       "      <th>4</th>\n",
       "      <td>14</td>\n",
       "      <td>04/12/17 09:35:16</td>\n",
       "      <td>102.656250</td>\n",
       "      <td>2.945026</td>\n",
       "      <td>5.053272</td>\n",
       "      <td>944.760925</td>\n",
       "    </tr>\n",
       "  </tbody>\n",
       "</table>\n",
       "</div>"
      ],
      "text/plain": [
       "   ID_INDIVIDUAL           DATETIME     P_QC_PH  P_QC_PHV   P_QC_DV  \\\n",
       "0              7  06/17/16 15:30:51  142.875000  2.719016  1.684165   \n",
       "1              7  06/17/16 15:31:14  131.555557  3.797341  4.413006   \n",
       "2              8  07/26/17 11:26:41   85.000000  5.000000  3.000000   \n",
       "3              8  07/26/17 11:26:59   87.000000  2.000000  3.000000   \n",
       "4             14  04/12/17 09:35:16  102.656250  2.945026  5.053272   \n",
       "\n",
       "   P_MAX_DPDT  \n",
       "0  875.549988  \n",
       "1  853.174988  \n",
       "2  633.000000  \n",
       "3  633.000000  \n",
       "4  944.760925  "
      ]
     },
     "execution_count": 100,
     "metadata": {},
     "output_type": "execute_result"
    }
   ],
   "source": [
    "qc_df.head()"
   ]
  },
  {
   "cell_type": "code",
   "execution_count": 101,
   "metadata": {},
   "outputs": [
    {
     "data": {
      "text/plain": [
       "2244"
      ]
     },
     "execution_count": 101,
     "metadata": {},
     "output_type": "execute_result"
    }
   ],
   "source": [
    "len( sorted( qc_df.ID_INDIVIDUAL.unique() ) )"
   ]
  },
  {
   "cell_type": "code",
   "execution_count": 102,
   "metadata": {
    "ExecuteTime": {
     "end_time": "2017-12-07T19:56:28.467019Z",
     "start_time": "2017-12-07T19:56:27.593530Z"
    }
   },
   "outputs": [],
   "source": [
    "# Pulse height failure\n",
    "qc_df[ 'P_QC_PH_FAIL' ] = qc_df['P_QC_PH'] < 80\n",
    "# Pulse Height Variation Failure\n",
    "qc_df[ 'P_QC_PHV_FAIL' ] = qc_df['P_QC_PHV'] > 5\n",
    "# Diastolic Variation Failure\n",
    "qc_df[ 'P_QC_DV_FAIL' ] = qc_df['P_QC_DV'] > 5\n",
    "# dP/dt Failure\n",
    "qc_df[ 'P_MAX_DPDT_FAIL' ] = \\\n",
    "    ( qc_df['P_MAX_DPDT'] < 350) | (qc_df['P_MAX_DPDT'] > 1650 ) \n",
    "\n",
    "# 9999 failure\n",
    "qc_df[ '9999_FAIL' ] = sph_df.apply( lambda row: 9999 in list(row), axis=1)\n",
    "# Failure for any reason\n",
    "qc_df[ 'ANY_REASON_FAIL'] = \\\n",
    "    qc_df[ 'P_QC_PH_FAIL' ] | qc_df[ 'P_QC_PHV_FAIL' ] | \\\n",
    "    qc_df[ 'P_QC_DV_FAIL' ] | qc_df[ 'P_MAX_DPDT_FAIL' ] \\\n",
    "    | qc_df[ '9999_FAIL' ]\n",
    "# Failure for any reason except dP/dt\n",
    "qc_df[ 'NON_DPDT_FAIL'] = \\\n",
    "    qc_df[ 'P_QC_PH_FAIL' ] | qc_df[ 'P_QC_PHV_FAIL' ] | \\\n",
    "    qc_df[ 'P_QC_DV_FAIL' ] | qc_df[ '9999_FAIL' ]"
   ]
  },
  {
   "cell_type": "code",
   "execution_count": 103,
   "metadata": {},
   "outputs": [
    {
     "name": "stdout",
     "output_type": "stream",
     "text": [
      "Total input row count: 4837\n",
      "Unique individual count: 2244\n",
      "Observation counts Counter({2: 1936, 3: 225, 4: 55, 1: 18, 5: 8, 6: 2})\n",
      "Num failures for any reason: 1619 out of 4837, 66.5% success\n",
      "Num unique individuals with at least 1 failure: 1892\n"
     ]
    }
   ],
   "source": [
    "print( f\"Total input row count: {len( sph_df )}\" )\n",
    "print( f\"Unique individual count: {len( sph_df['ID_INDIVIDUAL'].unique() )}\" )\n",
    "c = Counter( c for _id, c in Counter( list(sph_df['ID_INDIVIDUAL']) ).items() )\n",
    "print( \"Observation counts\", c )\n",
    "\n",
    "nfail = qc_df[ 'ANY_REASON_FAIL'].sum()\n",
    "nrows = len(qc_df)\n",
    "print( f\"Num failures for any reason: {nfail} out of {nrows}, {(nrows-nfail)/nrows*100:0.1f}% success\" )\n",
    "\n",
    "qc_df_non_fail = qc_df[ ~qc_df[ 'ANY_REASON_FAIL'] ].copy()\n",
    "print( \"Num unique individuals with at least 1 failure:\", len( qc_df_non_fail['ID_INDIVIDUAL'].unique()) )"
   ]
  },
  {
   "cell_type": "code",
   "execution_count": 104,
   "metadata": {},
   "outputs": [],
   "source": [
    "nfail_nondpdt = qc_df[ 'NON_DPDT_FAIL'].sum()"
   ]
  },
  {
   "cell_type": "code",
   "execution_count": 105,
   "metadata": {
    "ExecuteTime": {
     "end_time": "2017-12-07T19:56:28.467019Z",
     "start_time": "2017-12-07T19:56:27.593530Z"
    }
   },
   "outputs": [
    {
     "name": "stdout",
     "output_type": "stream",
     "text": [
      "Num failures not due to dP/dt: 1585 out of 4837, 67.2% success\n",
      "Num unique individuals with at least 1 failure NOT due to dP/dt 1909\n"
     ]
    }
   ],
   "source": [
    "qc_df_non_fail_dpdt = qc_df[ ~qc_df[ 'NON_DPDT_FAIL'] ].copy()\n",
    "print( f\"Num failures not due to dP/dt: {nfail_nondpdt} out of {nrows}, {(nrows-nfail_nondpdt)/nrows*100:0.1f}% success\" )\n",
    "print( \"Num unique individuals with at least 1 failure NOT due to dP/dt\", len( qc_df_non_fail_dpdt['ID_INDIVIDUAL'].unique() ) )"
   ]
  },
  {
   "cell_type": "code",
   "execution_count": 106,
   "metadata": {
    "ExecuteTime": {
     "end_time": "2017-12-07T19:56:28.467019Z",
     "start_time": "2017-12-07T19:56:27.593530Z"
    }
   },
   "outputs": [
    {
     "name": "stdout",
     "output_type": "stream",
     "text": [
      "Rescued 27 observations for 17 individuals that would have been lost for dP/dt criterion\n"
     ]
    }
   ],
   "source": [
    "# Only include failed dp/dt if individual would be excluded otherwise\n",
    "# Keep only those observations if they are one of the individuals we would lose \n",
    "# if we used the \"fail for any reason\" criterion.\n",
    "rescue_these_individuals = \\\n",
    "    set( qc_df_non_fail_dpdt['ID_INDIVIDUAL'] ) - set( qc_df_non_fail['ID_INDIVIDUAL'] )\n",
    "\n",
    "difference_record_indices = set( qc_df_non_fail_dpdt.index) - set( qc_df_non_fail.index )\n",
    "\n",
    "rescued = qc_df_non_fail_dpdt.loc[ qc_df_non_fail_dpdt.index.isin( difference_record_indices ) & \\\n",
    "                    qc_df_non_fail_dpdt.ID_INDIVIDUAL.isin( rescue_these_individuals ) ]\n",
    "\n",
    "print( \"Rescued {} observations for {} individuals that would have been lost for dP/dt criterion\".format(\n",
    "    len(rescued), len(rescue_these_individuals) ) )"
   ]
  },
  {
   "cell_type": "code",
   "execution_count": 107,
   "metadata": {
    "ExecuteTime": {
     "end_time": "2017-12-07T19:56:28.467019Z",
     "start_time": "2017-12-07T19:56:27.593530Z"
    }
   },
   "outputs": [
    {
     "name": "stdout",
     "output_type": "stream",
     "text": [
      "Non-fail Observation Counter({2: 1300, 1: 593, 3: 12, 4: 4})\n",
      "Final non-fail obs count 3245\n",
      "Final non-fail obs count UNIQUE 1909\n"
     ]
    }
   ],
   "source": [
    "qc_df_non_fail = pd.concat( (qc_df_non_fail, rescued), axis=0, sort=False)\n",
    "\n",
    "c = Counter( c for _id, c in Counter( list( qc_df_non_fail['ID_INDIVIDUAL']) ).items() )\n",
    "print( \"Non-fail Observation\", c )\n",
    "print( \"Final non-fail obs count\", len(qc_df_non_fail))\n",
    "print( \"Final non-fail obs count UNIQUE\", len( qc_df_non_fail['ID_INDIVIDUAL'].unique()) )   \n",
    "\n",
    "wanted_indices = qc_df_non_fail.index\n",
    "del qc_df_non_fail, qc_df_non_fail_dpdt, qc_df, rescued"
   ]
  },
  {
   "cell_type": "code",
   "execution_count": 108,
   "metadata": {
    "ExecuteTime": {
     "end_time": "2017-12-07T19:56:28.467019Z",
     "start_time": "2017-12-07T19:56:27.593530Z"
    }
   },
   "outputs": [
    {
     "name": "stdout",
     "output_type": "stream",
     "text": [
      "(3245, 83)\n"
     ]
    }
   ],
   "source": [
    "tables[\"SPHIGMOCOR_PWA\"] = tables[\"SPHIGMOCOR_PWA\"].loc[ wanted_indices ]\n",
    "\n",
    "print( tables[\"SPHIGMOCOR_PWA\"].shape)"
   ]
  },
  {
   "cell_type": "markdown",
   "metadata": {},
   "source": [
    "## Convert DATETIME strings in SphygmoCor tables to DATE datetime64 objects"
   ]
  },
  {
   "cell_type": "code",
   "execution_count": 109,
   "metadata": {},
   "outputs": [],
   "source": [
    "for sph_table in ['SPHIGMOCOR_PWA', \"SPHIGMOCOR_PWV\", \"SPHIGMOCOR_HRV\"]:\n",
    "    tables[sph_table]['DATE'] = pd.to_datetime( tables[sph_table]['DATETIME'] ).dt.date\n",
    "    tables[sph_table] = tables[sph_table].drop( columns=['DATETIME'] )"
   ]
  },
  {
   "cell_type": "markdown",
   "metadata": {},
   "source": [
    "## Merge multiple SphygmoCor readings into single row\n",
    "\n",
    "* Use ```FirstM_``` and ```SecondM_``` infix"
   ]
  },
  {
   "cell_type": "code",
   "execution_count": 110,
   "metadata": {
    "ExecuteTime": {
     "end_time": "2017-12-07T19:56:28.467019Z",
     "start_time": "2017-12-07T19:56:27.593530Z"
    }
   },
   "outputs": [],
   "source": [
    "def CollapseSphygmoCorTable( sph_df, prefix ):\n",
    "    t0 = time.time()\n",
    "    case_count = []\n",
    "    new_rows = []\n",
    "    for _id, indiv_subset_df in iter( sph_df.groupby('ID_INDIVIDUAL') ):\n",
    "        n_dates = len( indiv_subset_df.DATE.unique() )\n",
    "        if len( indiv_subset_df ) == 1: # case 1: '1 date, 1 reading'\n",
    "            # one observation, leave second blank\n",
    "            case_count.append( 1 )\n",
    "            # get a pd.Series object by calling iloc\n",
    "            data = indiv_subset_df.iloc[0]\n",
    "            data['N_Measurements'] = 1\n",
    "            data.index = [ prefix + \"FirstM_\" + str(_) if _ != 'ID_INDIVIDUAL' else _ for _ in data.index ]\n",
    "            new_rows.append( data )\n",
    "        elif n_dates == 1: # Case 2: \"1 date, >1 reading\"\n",
    "            # average these and leave second reading blank\n",
    "            case_count.append( 2 )\n",
    "            \n",
    "            data_date = indiv_subset_df.DATE.unique()[0]\n",
    "            orig_len = len( indiv_subset_df )\n",
    "            # drop DATETIME column if it's there, and take the mean\n",
    "            data = indiv_subset_df.mean( axis=0 )\n",
    "            # have to add the date back in after mean()\n",
    "            data['DATE'] = data_date\n",
    "            data['N_Measurements'] = orig_len\n",
    "            data.index = [ prefix + \"FirstM_\" + str(_) if _ != 'ID_INDIVIDUAL' else _ for _ in data.index ]\n",
    "            new_rows.append( data )\n",
    "        else:\n",
    "            # If you've made it here there are at least 2 dates to deal with\n",
    "            dates_groups = list( iter( indiv_subset_df.groupby('DATE') ) )\n",
    "            \n",
    "            if len( indiv_subset_df ) == 2 and n_dates == 2:\n",
    "                # one reading per day - the nominal case\n",
    "                case_count.append( 3 )\n",
    "            elif len( dates_groups ) > 2:\n",
    "                case_count.append( 5 )\n",
    "            else:\n",
    "                case_count.append( 4 )\n",
    "\n",
    "            # take the 2 most recent\n",
    "            first_date, first = dates_groups[-2]\n",
    "            orig_first_len = len(first)\n",
    "            first = first.mean( axis=0 )\n",
    "            # have to add the date back in after mean()\n",
    "            first['DATE'] = first_date\n",
    "            first['N_Measurements'] = orig_first_len\n",
    "            first.index = [ prefix + 'FirstM_' + str(_) if _ != 'ID_INDIVIDUAL' else _ for _ in first.index ]\n",
    "\n",
    "            second_date, second = dates_groups[-1]         \n",
    "            second_first_len = len(second)\n",
    "            # print( set(second.columns) - set( second.mean( axis=0 ).index ) )\n",
    "            second = second.mean( axis=0 )\n",
    "\n",
    "            second['DATE'] = second_date\n",
    "            second['N_Measurements'] = second_first_len\n",
    "\n",
    "            second.index = [ prefix + 'SecondM_' + str(_) if _ != 'ID_INDIVIDUAL' else _ for _ in second.index ]\n",
    "            # Don't need ID_INDIVIDUAL in the row twice\n",
    "            data = pd.concat( ( first, second.drop( 'ID_INDIVIDUAL' ) ), axis=0, sort=False )\n",
    "\n",
    "            new_rows.append( data ) \n",
    "\n",
    "    scenario_descriptions = { 1: '1 date, 1 reading', 2: \"1 date, >1 reading\",\n",
    "      3: \"2 dates, 1 reading/day\", 4: \"2 dates, >1 reading/day\", 5: \">2 dates\" }\n",
    "    print( \"Count\\tScenario\" )\n",
    "    for scenario, count in Counter(case_count).items():\n",
    "        print( count, '\\t', scenario_descriptions[ scenario ] )\n",
    "    retval = pd.concat( new_rows, axis=1, sort=False ).T\n",
    "    \n",
    "    # For some reason doesn't come through as numeric, but rather as object, try to downcast\n",
    "    for col in retval.columns:\n",
    "        try:\n",
    "            retval[col] = pd.to_numeric( retval[col] )\n",
    "        except:\n",
    "            try:\n",
    "                retval[col] = pd.to_datetime(retval[col])\n",
    "            except:\n",
    "                print( \"Can't convert column '{}' to numeric or datetime\".format( col ))\n",
    "\n",
    "    # reindex\n",
    "    retval.index = list(range(len(retval)))\n",
    "    print( f\"Operation took {time.time()-t0:0.1f} seconds.\" )\n",
    "    return retval"
   ]
  },
  {
   "cell_type": "markdown",
   "metadata": {},
   "source": [
    "### Merge SphygmoCor PWA table"
   ]
  },
  {
   "cell_type": "code",
   "execution_count": 111,
   "metadata": {
    "ExecuteTime": {
     "end_time": "2017-12-07T19:56:35.519323Z",
     "start_time": "2017-12-07T19:56:28.469219Z"
    }
   },
   "outputs": [
    {
     "name": "stderr",
     "output_type": "stream",
     "text": [
      "/usr/local/lib/python3.7/site-packages/ipykernel_launcher.py:12: SettingWithCopyWarning: \n",
      "A value is trying to be set on a copy of a slice from a DataFrame\n",
      "\n",
      "See the caveats in the documentation: http://pandas.pydata.org/pandas-docs/stable/indexing.html#indexing-view-versus-copy\n",
      "  if sys.path[0] == '':\n",
      "/usr/local/lib/python3.7/site-packages/pandas/core/series.py:915: SettingWithCopyWarning: \n",
      "A value is trying to be set on a copy of a slice from a DataFrame\n",
      "\n",
      "See the caveats in the documentation: http://pandas.pydata.org/pandas-docs/stable/indexing.html#indexing-view-versus-copy\n",
      "  self.loc[key] = value\n"
     ]
    },
    {
     "name": "stdout",
     "output_type": "stream",
     "text": [
      "Count\tScenario\n",
      "1307 \t 1 date, >1 reading\n",
      "593 \t 1 date, 1 reading\n",
      "7 \t 2 dates, >1 reading/day\n",
      "2 \t 2 dates, 1 reading/day\n",
      "Can't convert column 'SphPWAFirstM_Database ID' to numeric or datetime\n",
      "Can't convert column 'SphPWAFirstM_Patient Notes' to numeric or datetime\n",
      "Can't convert column 'SphPWAFirstM_SIMULATION MODE' to numeric or datetime\n",
      "Can't convert column 'SphPWAFirstM_SUB_TYPE' to numeric or datetime\n",
      "Can't convert column 'SphPWAFirstM_Inconclusive' to numeric or datetime\n",
      "Can't convert column 'SphPWAFirstM_Reference Age' to numeric or datetime\n",
      "Operation took 40.9 seconds.\n"
     ]
    }
   ],
   "source": [
    "test = CollapseSphygmoCorTable( tables['SPHIGMOCOR_PWA'], prefix='SphPWA' )"
   ]
  },
  {
   "cell_type": "code",
   "execution_count": null,
   "metadata": {},
   "outputs": [],
   "source": [
    "#pd.set_option('display.max_columns', len(test.columns))"
   ]
  },
  {
   "cell_type": "code",
   "execution_count": null,
   "metadata": {},
   "outputs": [],
   "source": [
    "#pd.set_option('display.max_rows', len(test))"
   ]
  },
  {
   "cell_type": "code",
   "execution_count": null,
   "metadata": {},
   "outputs": [],
   "source": [
    "#test.dtypes"
   ]
  },
  {
   "cell_type": "code",
   "execution_count": 112,
   "metadata": {},
   "outputs": [
    {
     "data": {
      "text/plain": [
       "2    1302\n",
       "1     598\n",
       "3       9\n",
       "Name: SphPWAFirstM_N_Measurements, dtype: int64"
      ]
     },
     "execution_count": 112,
     "metadata": {},
     "output_type": "execute_result"
    }
   ],
   "source": [
    "test.SphPWAFirstM_N_Measurements.value_counts()"
   ]
  },
  {
   "cell_type": "code",
   "execution_count": 113,
   "metadata": {},
   "outputs": [],
   "source": [
    "tables['SPHIGMOCOR_PWA'] = test"
   ]
  },
  {
   "cell_type": "markdown",
   "metadata": {},
   "source": [
    "### Merge SphygmoCor PWV table\n",
    "\n",
    "#### PWV: Create SUBTYPE dummy variables\n",
    "\n",
    "* \"CAROTID\" -> 0\n",
    "* \"FEMORAL\" -> 1"
   ]
  },
  {
   "cell_type": "code",
   "execution_count": 114,
   "metadata": {},
   "outputs": [
    {
     "data": {
      "text/plain": [
       "CAROTID    7351\n",
       "FEMORAL       4\n",
       "Name: A_SUBTYPE, dtype: int64"
      ]
     },
     "execution_count": 114,
     "metadata": {},
     "output_type": "execute_result"
    }
   ],
   "source": [
    "tables['SPHIGMOCOR_PWV']['A_SUBTYPE'].value_counts()"
   ]
  },
  {
   "cell_type": "code",
   "execution_count": 115,
   "metadata": {},
   "outputs": [],
   "source": [
    "tables['SPHIGMOCOR_PWV']['A_SUBTYPE'] = \\\n",
    "    [0 if _ =='CAROTID' else 1 for _ in tables['SPHIGMOCOR_PWV']['A_SUBTYPE'].values]"
   ]
  },
  {
   "cell_type": "code",
   "execution_count": 116,
   "metadata": {},
   "outputs": [
    {
     "data": {
      "text/plain": [
       "0    7351\n",
       "1       4\n",
       "Name: A_SUBTYPE, dtype: int64"
      ]
     },
     "execution_count": 116,
     "metadata": {},
     "output_type": "execute_result"
    }
   ],
   "source": [
    "tables['SPHIGMOCOR_PWV']['A_SUBTYPE'].value_counts()"
   ]
  },
  {
   "cell_type": "code",
   "execution_count": 117,
   "metadata": {},
   "outputs": [
    {
     "data": {
      "text/plain": [
       "FEMORAL    7351\n",
       "CAROTID       4\n",
       "Name: B_SUBTYPE, dtype: int64"
      ]
     },
     "execution_count": 117,
     "metadata": {},
     "output_type": "execute_result"
    }
   ],
   "source": [
    "tables['SPHIGMOCOR_PWV']['B_SUBTYPE'].value_counts()"
   ]
  },
  {
   "cell_type": "code",
   "execution_count": 118,
   "metadata": {},
   "outputs": [],
   "source": [
    "tables['SPHIGMOCOR_PWV']['B_SUBTYPE'] = \\\n",
    "    [0 if _ =='CAROTID' else 1 for _ in tables['SPHIGMOCOR_PWV']['B_SUBTYPE'].values]"
   ]
  },
  {
   "cell_type": "code",
   "execution_count": 119,
   "metadata": {},
   "outputs": [
    {
     "data": {
      "text/plain": [
       "1    7351\n",
       "0       4\n",
       "Name: B_SUBTYPE, dtype: int64"
      ]
     },
     "execution_count": 119,
     "metadata": {},
     "output_type": "execute_result"
    }
   ],
   "source": [
    "tables['SPHIGMOCOR_PWV']['B_SUBTYPE'].value_counts()"
   ]
  },
  {
   "cell_type": "code",
   "execution_count": 120,
   "metadata": {
    "ExecuteTime": {
     "end_time": "2017-12-07T19:56:40.006516Z",
     "start_time": "2017-12-07T19:56:35.520968Z"
    }
   },
   "outputs": [
    {
     "name": "stderr",
     "output_type": "stream",
     "text": [
      "/usr/local/lib/python3.7/site-packages/ipykernel_launcher.py:12: SettingWithCopyWarning: \n",
      "A value is trying to be set on a copy of a slice from a DataFrame\n",
      "\n",
      "See the caveats in the documentation: http://pandas.pydata.org/pandas-docs/stable/indexing.html#indexing-view-versus-copy\n",
      "  if sys.path[0] == '':\n"
     ]
    },
    {
     "name": "stdout",
     "output_type": "stream",
     "text": [
      "Count\tScenario\n",
      "2235 \t 1 date, >1 reading\n",
      "13 \t 2 dates, >1 reading/day\n",
      "12 \t 1 date, 1 reading\n",
      "Operation took 15.5 seconds.\n"
     ]
    }
   ],
   "source": [
    "test = CollapseSphygmoCorTable( tables['SPHIGMOCOR_PWV'], prefix='SphPWV')"
   ]
  },
  {
   "cell_type": "code",
   "execution_count": 121,
   "metadata": {},
   "outputs": [],
   "source": [
    "#test.head()"
   ]
  },
  {
   "cell_type": "code",
   "execution_count": 122,
   "metadata": {},
   "outputs": [],
   "source": [
    "tables['SPHIGMOCOR_PWV'] = test"
   ]
  },
  {
   "cell_type": "markdown",
   "metadata": {},
   "source": [
    "### Merge SphygmoCor HRV table"
   ]
  },
  {
   "cell_type": "code",
   "execution_count": 123,
   "metadata": {},
   "outputs": [
    {
     "name": "stderr",
     "output_type": "stream",
     "text": [
      "/usr/local/lib/python3.7/site-packages/ipykernel_launcher.py:12: SettingWithCopyWarning: \n",
      "A value is trying to be set on a copy of a slice from a DataFrame\n",
      "\n",
      "See the caveats in the documentation: http://pandas.pydata.org/pandas-docs/stable/indexing.html#indexing-view-versus-copy\n",
      "  if sys.path[0] == '':\n"
     ]
    },
    {
     "name": "stdout",
     "output_type": "stream",
     "text": [
      "Count\tScenario\n",
      "2249 \t 1 date, 1 reading\n",
      "8 \t 2 dates, 1 reading/day\n",
      "23 \t 1 date, >1 reading\n",
      "1 \t >2 dates\n",
      "Can't convert column 'SphHRVFirstM_Database ID' to numeric or datetime\n",
      "Can't convert column 'SphHRVFirstM_Patient Notes' to numeric or datetime\n",
      "Can't convert column 'SphHRVFirstM_SIMULATION MODE' to numeric or datetime\n",
      "Operation took 90.1 seconds.\n"
     ]
    }
   ],
   "source": [
    "test = CollapseSphygmoCorTable( tables['SPHIGMOCOR_HRV'], prefix='SphHRV' )"
   ]
  },
  {
   "cell_type": "code",
   "execution_count": null,
   "metadata": {},
   "outputs": [],
   "source": [
    "#test.head()"
   ]
  },
  {
   "cell_type": "code",
   "execution_count": 124,
   "metadata": {
    "ExecuteTime": {
     "end_time": "2017-12-07T19:56:50.346603Z",
     "start_time": "2017-12-07T19:56:40.008317Z"
    }
   },
   "outputs": [],
   "source": [
    "tables['SPHIGMOCOR_HRV'] = test"
   ]
  },
  {
   "cell_type": "markdown",
   "metadata": {},
   "source": [
    "# Drop all age columns except the one for this visit"
   ]
  },
  {
   "cell_type": "code",
   "execution_count": 125,
   "metadata": {},
   "outputs": [
    {
     "data": {
      "text/plain": [
       "Index(['ID_INDIVIDUAL', 'ID_SIR', 'ID_MAD', 'birth_date', 'AGE_1', 'AGE_2',\n",
       "       'AGE_3', 'AGE_4', 'AGE_5', 'SEX', 'EDUCATION', 'OCCUPATION',\n",
       "       'MARITAL_ST', 'Cod_Sard', 'data visita 1', 'data visita 2',\n",
       "       'data visita 3', 'data visita 4', 'data visita 5', 'visita'],\n",
       "      dtype='object')"
      ]
     },
     "execution_count": 125,
     "metadata": {},
     "output_type": "execute_result"
    }
   ],
   "source": [
    "tables['INDIVIDUAL'].columns"
   ]
  },
  {
   "cell_type": "code",
   "execution_count": 126,
   "metadata": {
    "ExecuteTime": {
     "end_time": "2017-12-07T19:56:50.353425Z",
     "start_time": "2017-12-07T19:56:50.348321Z"
    }
   },
   "outputs": [],
   "source": [
    "tables['INDIVIDUAL'].drop( columns=['AGE_1', 'AGE_2', 'AGE_3', 'AGE_4'], inplace=True )"
   ]
  },
  {
   "cell_type": "markdown",
   "metadata": {},
   "source": [
    "# Reindex all tables to ID_INDIVIDUAL\n",
    "\n",
    "Make sure each row is unique to an individual"
   ]
  },
  {
   "cell_type": "code",
   "execution_count": 127,
   "metadata": {
    "ExecuteTime": {
     "end_time": "2017-12-07T19:56:50.404215Z",
     "start_time": "2017-12-07T19:56:50.360289Z"
    }
   },
   "outputs": [
    {
     "name": "stdout",
     "output_type": "stream",
     "text": [
      "2857 2857 AUDIOMETRY (2857, 14)\n",
      "3106 3106 BLOOD (3106, 39)\n",
      "3053 3053 BLOOD_2 (3053, 36)\n",
      "3112 3112 DISEASES (3112, 170)\n",
      "3112 3112 DISEASESCHECKLIST_n (3112, 93)\n",
      "3127 3127 ECG (3127, 20)\n",
      "3120 3120 EXAMINATION (3120, 28)\n",
      "3123 3123 EXAMINATION_BIS (3123, 36)\n",
      "3127 3127 INDIVIDUAL (3127, 16)\n",
      "3112 3112 MEDHISTORY (3112, 35)\n",
      "3112 3112 MEDICATIONS (3112, 8)\n",
      "681 681 MMSE (681, 22)\n",
      "3127 3127 OTHERMEDICATION2_NEW (3127, 35)\n",
      "3112 3112 PHYSICAL_ACTIVITY (3112, 27)\n",
      "3118 3118 PHYSICAL_TEST (3118, 21)\n",
      "1152 1152 SPIROMETER (1152, 41)\n",
      "2935 2935 URINE (2935, 10)\n",
      "1520 1520 VASCULAR (1520, 4)\n",
      "2260 2260 SPHIGMOCOR_PWV (2260, 82)\n",
      "2281 2281 SPHIGMOCOR_HRV (2281, 117)\n",
      "1909 1909 SPHIGMOCOR_PWA (1909, 162)\n",
      "591 591 HOLTER (591, 33)\n"
     ]
    }
   ],
   "source": [
    "for table_name, table in tables.items():\n",
    "    try:\n",
    "        table.index = table.ID_INDIVIDUAL.astype(int)\n",
    "        if table_name != 'INDIVIDUAL':\n",
    "            table.drop( columns=['ID_INDIVIDUAL'], inplace=True )\n",
    "        tables[ table_name ] = table\n",
    "    except AttributeError:\n",
    "        table.index = table.id_individual.astype(int)\n",
    "        if table_name != 'INDIVIDUAL':\n",
    "            table.drop( columns=['id_individual'], inplace=True )\n",
    "        tables[ table_name ] = table\n",
    "        \n",
    "    print( len( list( table.index ) ), len( set( table.index ) ), table_name, tables[ table_name ].shape )"
   ]
  },
  {
   "cell_type": "markdown",
   "metadata": {},
   "source": [
    "# DISEASECHECKLIST_n Table Augmentation\n",
    "\n",
    "Pull info DISEASES table and put into DISEASECHECKLIST table\n",
    "\n",
    "Marco Masala Explanation:\n",
    "\n",
    "From: Marco Masala [mailto:marco.masala@gmail.com] \n",
    "Sent: Wednesday, February 15, 2017 6:04 AM\n",
    "To: Coletta, Christopher (NIH/NIA/IRP) [E] <christopher.coletta@nih.gov>\n",
    "Cc: Schlessinger, David (NIH/NIA/IRP) [E] <SchlessingerD@grc.nia.nih.gov>; Nagaraja, Ramaiah (NIH/NIA/IRP) [E] <NagarajaR@grc.nia.nih.gov>; Michele Marongiu <michele.marongiu@irgb.cnr.it>; edoardo.fiorillo@irgb.cnr.it; Francesco Cucca <fcucca@uniss.it>\n",
    "Subject: Re: Which disease traits to use?\n",
    " \n",
    "The table to be referenced is DISEASES. The fields in DISEASECHECKLIST already in DISEASES may be incorrect. Physicians update only the fields in the form DISEASES\n",
    "\n",
    "the two tables come from two different forms. In the first (DISEASES) volunteers are asked all the questions, one by one. If emerging diseases that were not present in the first form, the doctor inserts them in the second. Over the years some questions were added in the first form and have not been deleted from the second. (And a few questions, for reasons I never understood, have always existed in both forms). \n",
    " \n",
    "Regarding the differences, please note that in the first form may be available 3 answers (yes, no, I do not know) and in the second only 2 (yes no). Moreover, often physicians who have indicated a Diseases in the first form, do not bother to put it in the second. The first form (DISEASES) should therefore contain the correct answers.\n",
    "\n"
   ]
  },
  {
   "cell_type": "code",
   "execution_count": 128,
   "metadata": {
    "ExecuteTime": {
     "end_time": "2017-12-07T19:56:50.414187Z",
     "start_time": "2017-12-07T19:56:50.405695Z"
    }
   },
   "outputs": [
    {
     "data": {
      "text/plain": [
       "34"
      ]
     },
     "execution_count": 128,
     "metadata": {},
     "output_type": "execute_result"
    }
   ],
   "source": [
    "pull_these = ['Acromegaly', 'Alzheimer', 'Arthritis', 'Asthma', 'Astigmatism', 'Bipolar', \n",
    "              'Bronchitis', 'Cataract', 'Cirrhosis', 'Colitis', 'Colorblind', 'Crohn', \n",
    "              'Dementias', 'Depressive', 'Dialisis', 'Eczema', 'Emphysema', 'Glaucoma', \n",
    "              'Gout', 'Hashimoto', 'Hemophilia', 'Hyperthyroidism', 'Hypothyroidism', \n",
    "              'Les', 'Macular', 'Myasthenia', 'Mypia', 'Osteoporosis', 'Pancreatitis', \n",
    "              'Parkinson', 'Psoriasis', 'Retinitis', 'Stones', 'Subst_Abuse']\n",
    "pull_these = [_.upper() for _ in pull_these]\n",
    "len(pull_these)"
   ]
  },
  {
   "cell_type": "code",
   "execution_count": 129,
   "metadata": {
    "ExecuteTime": {
     "end_time": "2017-12-07T19:56:50.421934Z",
     "start_time": "2017-12-07T19:56:50.416692Z"
    }
   },
   "outputs": [],
   "source": [
    "subset = tables['DISEASES'].loc[:, pull_these ]"
   ]
  },
  {
   "cell_type": "code",
   "execution_count": 130,
   "metadata": {},
   "outputs": [],
   "source": [
    "#subset.head()"
   ]
  },
  {
   "cell_type": "markdown",
   "metadata": {},
   "source": [
    "## Eliminate Don't Know option\n",
    "\n",
    "Because I don't know what to do with the I don't know responses, I'm going to arbitrarily call them \"no\" until I'm given a definitive answer either way. We'll call the the Null hypothesis approach."
   ]
  },
  {
   "cell_type": "code",
   "execution_count": 131,
   "metadata": {
    "ExecuteTime": {
     "end_time": "2017-12-07T19:56:50.433710Z",
     "start_time": "2017-12-07T19:56:50.424031Z"
    }
   },
   "outputs": [
    {
     "data": {
      "text/plain": [
       "1.0    100899\n",
       "0.0      4668\n",
       "2.0       241\n",
       "dtype: int64"
      ]
     },
     "execution_count": 131,
     "metadata": {},
     "output_type": "execute_result"
    }
   ],
   "source": [
    "# Per database description file:\n",
    "# 0=yes; 1=no; 2=don't know; 3=null\n",
    "subset.stack().value_counts()"
   ]
  },
  {
   "cell_type": "code",
   "execution_count": 132,
   "metadata": {
    "ExecuteTime": {
     "end_time": "2017-12-07T19:56:50.447802Z",
     "start_time": "2017-12-07T19:56:50.436270Z"
    }
   },
   "outputs": [
    {
     "data": {
      "text/plain": [
       "1.0                          235076\n",
       "0.0                           51228\n",
       "ALLERGIA PARIETARIA               1\n",
       "VEROSIMILMENTE DA FARMACI         1\n",
       "ALLERGENI ALIMENTARI              1\n",
       "dtype: int64"
      ]
     },
     "execution_count": 132,
     "metadata": {},
     "output_type": "execute_result"
    }
   ],
   "source": [
    "tables['DISEASESCHECKLIST_n'].stack().value_counts()"
   ]
  },
  {
   "cell_type": "code",
   "execution_count": 133,
   "metadata": {
    "ExecuteTime": {
     "end_time": "2017-12-07T19:56:50.452992Z",
     "start_time": "2017-12-07T19:56:50.449320Z"
    }
   },
   "outputs": [],
   "source": [
    "subset.replace( 2.0, 1.0, inplace=True )"
   ]
  },
  {
   "cell_type": "code",
   "execution_count": 134,
   "metadata": {},
   "outputs": [],
   "source": [
    "#subset.replace( 'ALLERGIA PARIETARIA', np.nan, inplace=True) "
   ]
  },
  {
   "cell_type": "code",
   "execution_count": 135,
   "metadata": {
    "ExecuteTime": {
     "end_time": "2017-12-07T19:56:50.461169Z",
     "start_time": "2017-12-07T19:56:50.454603Z"
    }
   },
   "outputs": [
    {
     "data": {
      "text/plain": [
       "1.0    101140\n",
       "0.0      4668\n",
       "dtype: int64"
      ]
     },
     "execution_count": 135,
     "metadata": {},
     "output_type": "execute_result"
    }
   ],
   "source": [
    "subset.stack().value_counts()"
   ]
  },
  {
   "cell_type": "code",
   "execution_count": 136,
   "metadata": {
    "ExecuteTime": {
     "end_time": "2017-12-07T19:56:50.468698Z",
     "start_time": "2017-12-07T19:56:50.463134Z"
    }
   },
   "outputs": [
    {
     "data": {
      "text/plain": [
       "(3112, 93)"
      ]
     },
     "execution_count": 136,
     "metadata": {},
     "output_type": "execute_result"
    }
   ],
   "source": [
    "tables['DISEASESCHECKLIST_n'].shape"
   ]
  },
  {
   "cell_type": "code",
   "execution_count": 137,
   "metadata": {
    "ExecuteTime": {
     "end_time": "2017-12-07T19:56:50.475796Z",
     "start_time": "2017-12-07T19:56:50.471011Z"
    }
   },
   "outputs": [
    {
     "data": {
      "text/plain": [
       "(3112, 34)"
      ]
     },
     "execution_count": 137,
     "metadata": {},
     "output_type": "execute_result"
    }
   ],
   "source": [
    "subset.shape"
   ]
  },
  {
   "cell_type": "code",
   "execution_count": 138,
   "metadata": {
    "ExecuteTime": {
     "end_time": "2017-12-07T19:56:50.484405Z",
     "start_time": "2017-12-07T19:56:50.477550Z"
    }
   },
   "outputs": [],
   "source": [
    "tables['DISEASESCHECKLIST_n'] = \\\n",
    " tables['DISEASESCHECKLIST_n'].merge( \n",
    "     subset, left_index=True, right_index=True)"
   ]
  },
  {
   "cell_type": "code",
   "execution_count": 139,
   "metadata": {
    "ExecuteTime": {
     "end_time": "2017-12-07T19:56:50.490660Z",
     "start_time": "2017-12-07T19:56:50.486670Z"
    }
   },
   "outputs": [
    {
     "data": {
      "text/plain": [
       "(3112, 127)"
      ]
     },
     "execution_count": 139,
     "metadata": {},
     "output_type": "execute_result"
    }
   ],
   "source": [
    "tables['DISEASESCHECKLIST_n'].shape"
   ]
  },
  {
   "cell_type": "code",
   "execution_count": 140,
   "metadata": {},
   "outputs": [
    {
     "data": {
      "text/plain": [
       "1.0                          336216\n",
       "0.0                           55896\n",
       "ALLERGIA PARIETARIA               1\n",
       "VEROSIMILMENTE DA FARMACI         1\n",
       "ALLERGENI ALIMENTARI              1\n",
       "dtype: int64"
      ]
     },
     "execution_count": 140,
     "metadata": {},
     "output_type": "execute_result"
    }
   ],
   "source": [
    "tables['DISEASESCHECKLIST_n'].stack().value_counts()"
   ]
  },
  {
   "cell_type": "markdown",
   "metadata": {},
   "source": [
    "# Convert field names to NIA style, and drop the rest\n",
    "## Are there any ITA fields that wil go unused?\n",
    "\n",
    "Multiple ITA keys match to single values, so a dict is not an appropriate way to convert. My solution is to use this \"parallel lists\" method."
   ]
  },
  {
   "cell_type": "code",
   "execution_count": 141,
   "metadata": {
    "ExecuteTime": {
     "end_time": "2017-12-07T19:56:50.557965Z",
     "start_time": "2017-12-07T19:56:50.492535Z"
    }
   },
   "outputs": [
    {
     "name": "stdout",
     "output_type": "stream",
     "text": [
      "before: 14\tafter: 14\ttable: AUDIOMETRY\n",
      "before: 39\tafter: 39\ttable: BLOOD\n",
      "before: 36\tafter: 36\ttable: BLOOD_2\n",
      "before: 170\tafter: 170\ttable: DISEASES\n",
      "before: 127\tafter: 127\ttable: DISEASESCHECKLIST_n\n",
      "before: 20\tafter: 20\ttable: ECG\n",
      "before: 28\tafter: 28\ttable: EXAMINATION\n",
      "before: 36\tafter: 34\ttable: EXAMINATION_BIS\tunused: Ultrasound, notes_a\n",
      "before: 16\tafter: 16\ttable: INDIVIDUAL\n",
      "before: 35\tafter: 35\ttable: MEDHISTORY\n",
      "before: 8\tafter: 8\ttable: MEDICATIONS\n",
      "before: 22\tafter: 22\ttable: MMSE\n",
      "before: 35\tafter: 35\ttable: OTHERMEDICATION2_NEW\n",
      "before: 27\tafter: 27\ttable: PHYSICAL_ACTIVITY\n",
      "before: 21\tafter: 21\ttable: PHYSICAL_TEST\n",
      "before: 41\tafter: 41\ttable: SPIROMETER\n",
      "before: 10\tafter: 10\ttable: URINE\n",
      "before: 4\tafter: 4\ttable: VASCULAR\n",
      "before: 33\tafter: 33\ttable: HOLTER\n"
     ]
    }
   ],
   "source": [
    "for table_name, this_table in tables.items():\n",
    "    \n",
    "    # The SphygmoCor tables laready has their field names converted\n",
    "    if table_name in [\"SPHIGMOCOR_HRV\", \"SPHIGMOCOR_PWA\", \"SPHIGMOCOR_PWV\"]:\n",
    "        continue\n",
    "\n",
    "    table_conversion = field_name_map[ field_name_map.ita_prefix == table_name ]\n",
    "    \n",
    "    # Need lists in order to use .index() function\n",
    "    mapped_eng_names = table_conversion.eng.tolist()\n",
    "    mapped_ita_names = table_conversion.ita.tolist()\n",
    "    wanted_ita_variables = [ _ for _ in this_table.columns.values if _ in mapped_ita_names ]\n",
    "    rejected_ita_variables = set( this_table.columns ) - set( wanted_ita_variables )\n",
    "    # weird, I know:\n",
    "    new_names = [ mapped_eng_names[ mapped_ita_names.index(_) ] for _ in wanted_ita_variables ]\n",
    "    \n",
    "    n_before = len( tables[ table_name ].columns)\n",
    "    # Subselect columns we want\n",
    "    tables[ table_name ] = tables[ table_name ].loc[ :, wanted_ita_variables ]\n",
    "    # change the names from italian to english\n",
    "    tables[ table_name ].columns = new_names\n",
    "    print( \"before: {}\\tafter: {}\\ttable: {}\".format( n_before, len(new_names), table_name ), end=\"\")\n",
    "    if rejected_ita_variables:\n",
    "        print( \"\\tunused:\", \", \".join( sorted( list( rejected_ita_variables ))))\n",
    "    else:\n",
    "        print()"
   ]
  },
  {
   "cell_type": "markdown",
   "metadata": {},
   "source": [
    "# Merge Wave V tables together"
   ]
  },
  {
   "cell_type": "code",
   "execution_count": 142,
   "metadata": {
    "ExecuteTime": {
     "end_time": "2017-12-07T19:56:50.705697Z",
     "start_time": "2017-12-07T19:56:50.559709Z"
    }
   },
   "outputs": [],
   "source": [
    "new_wave5 = None\n",
    "for table_name, table in tables.items():\n",
    "    #print( table_name, table.shape )\n",
    "    if new_wave5 is None:\n",
    "        new_wave5 = table\n",
    "        continue\n",
    "    new_wave5 = new_wave5.merge( table, how='outer', left_index=True, right_index=True )\n",
    "    #print( \"ALL\", all_wave_5.shape)"
   ]
  },
  {
   "cell_type": "code",
   "execution_count": 143,
   "metadata": {
    "ExecuteTime": {
     "end_time": "2017-12-07T19:56:50.714843Z",
     "start_time": "2017-12-07T19:56:50.709108Z"
    }
   },
   "outputs": [
    {
     "data": {
      "text/plain": [
       "(3127, 1081)"
      ]
     },
     "execution_count": 143,
     "metadata": {},
     "output_type": "execute_result"
    }
   ],
   "source": [
    "new_wave5.shape"
   ]
  },
  {
   "cell_type": "markdown",
   "metadata": {},
   "source": [
    "## Add Wave number"
   ]
  },
  {
   "cell_type": "code",
   "execution_count": 144,
   "metadata": {
    "ExecuteTime": {
     "end_time": "2017-12-07T19:56:50.765437Z",
     "start_time": "2017-12-07T19:56:50.750543Z"
    }
   },
   "outputs": [],
   "source": [
    "new_wave5.loc[:, 'Wave'] = [5]*len(new_wave5)"
   ]
  },
  {
   "cell_type": "markdown",
   "metadata": {},
   "source": [
    "## Gender non-binary gets coded as 2"
   ]
  },
  {
   "cell_type": "code",
   "execution_count": 145,
   "metadata": {},
   "outputs": [
    {
     "data": {
      "text/plain": [
       "F    1811\n",
       "M    1309\n",
       "N       7\n",
       "Name: Sex, dtype: int64"
      ]
     },
     "execution_count": 145,
     "metadata": {},
     "output_type": "execute_result"
    }
   ],
   "source": [
    "new_wave5.Sex.value_counts()"
   ]
  },
  {
   "cell_type": "code",
   "execution_count": 146,
   "metadata": {
    "ExecuteTime": {
     "end_time": "2017-12-07T19:56:50.774093Z",
     "start_time": "2017-12-07T19:56:50.768393Z"
    }
   },
   "outputs": [],
   "source": [
    "new_wave5[ 'Sex' ] = [ 0 if _ == 'F' else 1 if _ == 'M' else 2 for _ in list( new_wave5.Sex ) ]"
   ]
  },
  {
   "cell_type": "code",
   "execution_count": 147,
   "metadata": {},
   "outputs": [
    {
     "data": {
      "text/plain": [
       "0    1811\n",
       "1    1309\n",
       "2       7\n",
       "Name: Sex, dtype: int64"
      ]
     },
     "execution_count": 147,
     "metadata": {},
     "output_type": "execute_result"
    }
   ],
   "source": [
    "new_wave5.Sex.value_counts()"
   ]
  },
  {
   "cell_type": "markdown",
   "metadata": {},
   "source": [
    "### The index is the ID_INDIVIDUAL + Wave"
   ]
  },
  {
   "cell_type": "code",
   "execution_count": 148,
   "metadata": {
    "ExecuteTime": {
     "end_time": "2017-12-07T19:56:50.782983Z",
     "start_time": "2017-12-07T19:56:50.776561Z"
    }
   },
   "outputs": [],
   "source": [
    "new_wave5.set_index( 'Wave', append=True, drop=False, inplace=True )"
   ]
  },
  {
   "cell_type": "code",
   "execution_count": 149,
   "metadata": {
    "ExecuteTime": {
     "end_time": "2017-12-07T19:56:50.812314Z",
     "start_time": "2017-12-07T19:56:50.785269Z"
    }
   },
   "outputs": [],
   "source": [
    "#new_wave5.head()"
   ]
  },
  {
   "cell_type": "markdown",
   "metadata": {},
   "source": [
    "# Join to previous PRF "
   ]
  },
  {
   "cell_type": "code",
   "execution_count": 150,
   "metadata": {
    "ExecuteTime": {
     "end_time": "2017-12-07T19:56:50.835865Z",
     "start_time": "2017-12-07T19:56:50.814962Z"
    }
   },
   "outputs": [],
   "source": [
    "old_prf.set_index( ['id_individual','Wave'], drop=False, inplace=True )"
   ]
  },
  {
   "cell_type": "code",
   "execution_count": 151,
   "metadata": {
    "ExecuteTime": {
     "end_time": "2017-12-07T19:56:50.841388Z",
     "start_time": "2017-12-07T19:56:50.837794Z"
    }
   },
   "outputs": [
    {
     "data": {
      "text/plain": [
       "(23232, 1337)"
      ]
     },
     "execution_count": 151,
     "metadata": {},
     "output_type": "execute_result"
    }
   ],
   "source": [
    "old_prf.shape"
   ]
  },
  {
   "cell_type": "markdown",
   "metadata": {},
   "source": [
    "# Join Wave 5 table to wave 1-4 table"
   ]
  },
  {
   "cell_type": "code",
   "execution_count": 152,
   "metadata": {
    "ExecuteTime": {
     "end_time": "2017-12-07T19:56:50.850783Z",
     "start_time": "2017-12-07T19:56:50.847372Z"
    }
   },
   "outputs": [
    {
     "data": {
      "text/plain": [
       "(3127, 1082)"
      ]
     },
     "execution_count": 152,
     "metadata": {},
     "output_type": "execute_result"
    }
   ],
   "source": [
    "new_wave5.shape"
   ]
  },
  {
   "cell_type": "code",
   "execution_count": 153,
   "metadata": {},
   "outputs": [
    {
     "data": {
      "text/plain": [
       "True"
      ]
     },
     "execution_count": 153,
     "metadata": {},
     "output_type": "execute_result"
    }
   ],
   "source": [
    "# PRF columns unique?\n",
    "len( old_prf.columns ) == len( set( old_prf.columns ) )"
   ]
  },
  {
   "cell_type": "code",
   "execution_count": 154,
   "metadata": {},
   "outputs": [
    {
     "data": {
      "text/plain": [
       "True"
      ]
     },
     "execution_count": 154,
     "metadata": {},
     "output_type": "execute_result"
    }
   ],
   "source": [
    "# Columns in new rows unique?\n",
    "len( new_wave5.columns ) == len( set( new_wave5.columns ) )"
   ]
  },
  {
   "cell_type": "code",
   "execution_count": 155,
   "metadata": {},
   "outputs": [
    {
     "data": {
      "text/plain": [
       "1    6165\n",
       "2    5256\n",
       "3    4842\n",
       "4    4705\n",
       "5    2264\n",
       "Name: Wave, dtype: int64"
      ]
     },
     "execution_count": 155,
     "metadata": {},
     "output_type": "execute_result"
    }
   ],
   "source": [
    "old_prf['Wave'].value_counts()"
   ]
  },
  {
   "cell_type": "code",
   "execution_count": 156,
   "metadata": {},
   "outputs": [
    {
     "data": {
      "text/plain": [
       "5    3127\n",
       "Name: Wave, dtype: int64"
      ]
     },
     "execution_count": 156,
     "metadata": {},
     "output_type": "execute_result"
    }
   ],
   "source": [
    "new_wave5['Wave'].value_counts()"
   ]
  },
  {
   "cell_type": "code",
   "execution_count": 157,
   "metadata": {},
   "outputs": [],
   "source": [
    "old_wave5 = old_prf[ old_prf.Wave == 5 ].copy()"
   ]
  },
  {
   "cell_type": "code",
   "execution_count": 158,
   "metadata": {},
   "outputs": [
    {
     "data": {
      "text/plain": [
       "5    2264\n",
       "Name: Wave, dtype: int64"
      ]
     },
     "execution_count": 158,
     "metadata": {},
     "output_type": "execute_result"
    }
   ],
   "source": [
    "old_wave5['Wave'].value_counts()"
   ]
  },
  {
   "cell_type": "code",
   "execution_count": 159,
   "metadata": {},
   "outputs": [
    {
     "data": {
      "text/plain": [
       "863"
      ]
     },
     "execution_count": 159,
     "metadata": {},
     "output_type": "execute_result"
    }
   ],
   "source": [
    "3127 - 2264"
   ]
  },
  {
   "cell_type": "code",
   "execution_count": 160,
   "metadata": {},
   "outputs": [],
   "source": [
    "old_wave1_4 = old_prf[ old_prf.Wave != 5 ].copy()"
   ]
  },
  {
   "cell_type": "code",
   "execution_count": 161,
   "metadata": {},
   "outputs": [
    {
     "data": {
      "text/plain": [
       "1    6165\n",
       "2    5256\n",
       "3    4842\n",
       "4    4705\n",
       "Name: Wave, dtype: int64"
      ]
     },
     "execution_count": 161,
     "metadata": {},
     "output_type": "execute_result"
    }
   ],
   "source": [
    "old_wave1_4['Wave'].value_counts()"
   ]
  },
  {
   "cell_type": "code",
   "execution_count": 162,
   "metadata": {},
   "outputs": [],
   "source": [
    "del old_prf"
   ]
  },
  {
   "cell_type": "code",
   "execution_count": 163,
   "metadata": {
    "ExecuteTime": {
     "end_time": "2017-12-07T19:56:51.260677Z",
     "start_time": "2017-12-07T19:56:50.857194Z"
    }
   },
   "outputs": [],
   "source": [
    "new_prf = pd.concat( [old_wave1_4, new_wave5], axis=0, sort=False)"
   ]
  },
  {
   "cell_type": "code",
   "execution_count": 164,
   "metadata": {
    "ExecuteTime": {
     "end_time": "2017-12-07T19:56:51.997456Z",
     "start_time": "2017-12-07T19:56:51.993823Z"
    }
   },
   "outputs": [
    {
     "data": {
      "text/plain": [
       "(24095, 1510)"
      ]
     },
     "execution_count": 164,
     "metadata": {},
     "output_type": "execute_result"
    }
   ],
   "source": [
    "new_prf.shape"
   ]
  },
  {
   "cell_type": "code",
   "execution_count": 165,
   "metadata": {
    "ExecuteTime": {
     "end_time": "2017-12-07T19:56:51.991964Z",
     "start_time": "2017-12-07T19:56:51.262321Z"
    }
   },
   "outputs": [],
   "source": [
    "new_prf.sort_index(inplace=True)"
   ]
  },
  {
   "cell_type": "markdown",
   "metadata": {},
   "source": [
    "# Spot editing to remove errors\n",
    "\n",
    "## Format datetimes into dates (drop the times)"
   ]
  },
  {
   "cell_type": "code",
   "execution_count": 166,
   "metadata": {},
   "outputs": [
    {
     "name": "stdout",
     "output_type": "stream",
     "text": [
      "Converting column FirstVisitDate to date\n",
      "Converting column SecondVisitDate to date\n",
      "Converting column ThirdVisitDate to date\n",
      "Converting column FourthVisitDate to date\n",
      "Converting column FifthVisitDate to date\n",
      "Converting column disMIwhen to date\n",
      "Converting column disAPwhen to date\n",
      "Converting column disHFwhen to date\n",
      "Converting column disSTwhen to date\n",
      "Converting column pwvDate to date\n",
      "Converting column SphHRVFirstM_DATE to date\n",
      "Converting column SphHRVSecondM_DATE to date\n",
      "Converting column SphPWAFirstM_DATE to date\n",
      "Converting column SphPWASecondM_DATE to date\n",
      "Converting column SphPWVFirstM_DATE to date\n",
      "Converting column SphPWVSecondM_DATE to date\n",
      "Converting column disCancerDateDiagnosis to date\n",
      "Converting column disCancerBenignDateDiagnosis to date\n",
      "Converting column BirthDate to date\n"
     ]
    }
   ],
   "source": [
    "# Convert date strings to date objects for the purpose of comparison\n",
    "for datecol in [ _ for _ in new_prf.columns if (('date' in _.lower()) or ('when' in _.lower() ) ) ]:\n",
    "    print( f\"Converting column {datecol} to date\")\n",
    "    new_prf[datecol] = pd.to_datetime( new_prf[datecol], errors='coerce' ).dt.date"
   ]
  },
  {
   "cell_type": "code",
   "execution_count": 167,
   "metadata": {},
   "outputs": [],
   "source": [
    "#joined['UriPH'].value_counts()"
   ]
  },
  {
   "cell_type": "code",
   "execution_count": 168,
   "metadata": {},
   "outputs": [],
   "source": [
    "new_prf['UriPH'] = pd.to_numeric( new_prf['UriPH'], errors='coerce' )"
   ]
  },
  {
   "cell_type": "markdown",
   "metadata": {},
   "source": [
    "# One time changes\n",
    "## QTc to QT\n",
    "\n",
    "```\n",
    "Hi Chris,\n",
    " \n",
    "We should change the definition of QTc to QT  in the description in all the SardiNIA release versions.  The two traits are very different in values.\n",
    " \n",
    "Yong\n",
    " \n",
    "From: Tarasov, Kirill (NIH/NIA/IRP) [C] <tarasovkv@mail.nih.gov> \n",
    "Sent: Thursday, January 17, 2019 3:43 PM\n",
    "To: Qian, Yong (NIH/NIA/IRP) [C] <qiany@grc.nia.nih.gov>\n",
    "Cc: Ding, Jun (NIH/NIA/IRP) [E] <jun.ding@nih.gov>; Schlessinger, David (NIH/NIA/IRP) [V] <schlessingerd@grc.nia.nih.gov>\n",
    "Subject: RE: QT/JT/QRS GWAS results\n",
    " \n",
    "Hi Young,\n",
    " \n",
    "We found that QTc label  is wrong and actually represents row QT. We found this error in the first version of SardiNIA database.\n",
    "When you submitted plot with our QTc variables all data were way out of normal. When you re-do analysis and used our QT data => QT/sqrt(RR) all variables return to normal.\n",
    "Kirill\n",
    "```"
   ]
  },
  {
   "cell_type": "code",
   "execution_count": 169,
   "metadata": {},
   "outputs": [
    {
     "data": {
      "text/plain": [
       "['ecgQTC']"
      ]
     },
     "execution_count": 169,
     "metadata": {},
     "output_type": "execute_result"
    }
   ],
   "source": [
    "[ _ for _ in new_prf.columns if 'qt' in _.lower()]"
   ]
  },
  {
   "cell_type": "code",
   "execution_count": 170,
   "metadata": {},
   "outputs": [],
   "source": [
    "new_prf['ecgQT'] = new_prf['ecgQTC']"
   ]
  },
  {
   "cell_type": "code",
   "execution_count": 171,
   "metadata": {},
   "outputs": [],
   "source": [
    "new_prf.drop(columns='ecgQTC', inplace=True)"
   ]
  },
  {
   "cell_type": "markdown",
   "metadata": {},
   "source": [
    "## Add GDF15 from Wave3"
   ]
  },
  {
   "cell_type": "code",
   "execution_count": 172,
   "metadata": {},
   "outputs": [
    {
     "data": {
      "text/plain": [
       "1    6165\n",
       "2    5256\n",
       "3    4842\n",
       "4    4705\n",
       "5    3127\n",
       "Name: Wave, dtype: int64"
      ]
     },
     "execution_count": 172,
     "metadata": {},
     "output_type": "execute_result"
    }
   ],
   "source": [
    "new_prf.Wave.value_counts()"
   ]
  },
  {
   "cell_type": "code",
   "execution_count": 173,
   "metadata": {},
   "outputs": [],
   "source": [
    "gdf = pd.read_csv( 'gdf15_cleaned.csv')"
   ]
  },
  {
   "cell_type": "code",
   "execution_count": 174,
   "metadata": {},
   "outputs": [],
   "source": [
    "gdf.drop( columns='Unnamed: 0', inplace=True )"
   ]
  },
  {
   "cell_type": "code",
   "execution_count": 175,
   "metadata": {},
   "outputs": [],
   "source": [
    "gdf['id_individual'] = gdf['id_individual'].astype(int)"
   ]
  },
  {
   "cell_type": "code",
   "execution_count": 176,
   "metadata": {},
   "outputs": [],
   "source": [
    "gdf = gdf.set_index( ['id_individual', 'Wave'], verify_integrity=True)"
   ]
  },
  {
   "cell_type": "code",
   "execution_count": 177,
   "metadata": {},
   "outputs": [],
   "source": [
    "gdf.columns = [ 'assayGDF15'+_ for _ in gdf.columns ]"
   ]
  },
  {
   "cell_type": "code",
   "execution_count": 178,
   "metadata": {},
   "outputs": [
    {
     "data": {
      "text/html": [
       "<div>\n",
       "<style scoped>\n",
       "    .dataframe tbody tr th:only-of-type {\n",
       "        vertical-align: middle;\n",
       "    }\n",
       "\n",
       "    .dataframe tbody tr th {\n",
       "        vertical-align: top;\n",
       "    }\n",
       "\n",
       "    .dataframe thead th {\n",
       "        text-align: right;\n",
       "    }\n",
       "</style>\n",
       "<table border=\"1\" class=\"dataframe\">\n",
       "  <thead>\n",
       "    <tr style=\"text-align: right;\">\n",
       "      <th></th>\n",
       "      <th></th>\n",
       "      <th>assayGDF15Well1</th>\n",
       "      <th>assayGDF15Well2</th>\n",
       "      <th>assayGDF15Value1</th>\n",
       "      <th>assayGDF15Value2</th>\n",
       "      <th>assayGDF15Result1</th>\n",
       "      <th>assayGDF15Result2</th>\n",
       "      <th>assayGDF15CV%</th>\n",
       "    </tr>\n",
       "    <tr>\n",
       "      <th>id_individual</th>\n",
       "      <th>Wave</th>\n",
       "      <th></th>\n",
       "      <th></th>\n",
       "      <th></th>\n",
       "      <th></th>\n",
       "      <th></th>\n",
       "      <th></th>\n",
       "      <th></th>\n",
       "    </tr>\n",
       "  </thead>\n",
       "  <tbody>\n",
       "    <tr>\n",
       "      <th>7</th>\n",
       "      <th>3</th>\n",
       "      <td>A9</td>\n",
       "      <td>A10</td>\n",
       "      <td>3.532</td>\n",
       "      <td>3.915</td>\n",
       "      <td>130.56</td>\n",
       "      <td>150.049</td>\n",
       "      <td>9.822</td>\n",
       "    </tr>\n",
       "    <tr>\n",
       "      <th>14</th>\n",
       "      <th>3</th>\n",
       "      <td>G11</td>\n",
       "      <td>G12</td>\n",
       "      <td>3.361</td>\n",
       "      <td>3.498</td>\n",
       "      <td>145.922</td>\n",
       "      <td>153.849</td>\n",
       "      <td>3.740</td>\n",
       "    </tr>\n",
       "    <tr>\n",
       "      <th>17</th>\n",
       "      <th>3</th>\n",
       "      <td>D9</td>\n",
       "      <td>D10</td>\n",
       "      <td>2.207</td>\n",
       "      <td>2.211</td>\n",
       "      <td>86.521</td>\n",
       "      <td>86.706</td>\n",
       "      <td>0.151</td>\n",
       "    </tr>\n",
       "    <tr>\n",
       "      <th>31</th>\n",
       "      <th>3</th>\n",
       "      <td>A9</td>\n",
       "      <td>A10</td>\n",
       "      <td>2.471</td>\n",
       "      <td>2.38</td>\n",
       "      <td>107.372</td>\n",
       "      <td>102.601</td>\n",
       "      <td>3.213</td>\n",
       "    </tr>\n",
       "    <tr>\n",
       "      <th>34</th>\n",
       "      <th>3</th>\n",
       "      <td>C9</td>\n",
       "      <td>C10</td>\n",
       "      <td>4.023</td>\n",
       "      <td>4.273</td>\n",
       "      <td>157.669</td>\n",
       "      <td>172.176</td>\n",
       "      <td>6.220</td>\n",
       "    </tr>\n",
       "  </tbody>\n",
       "</table>\n",
       "</div>"
      ],
      "text/plain": [
       "                   assayGDF15Well1 assayGDF15Well2  assayGDF15Value1  \\\n",
       "id_individual Wave                                                     \n",
       "7             3                 A9             A10             3.532   \n",
       "14            3                G11             G12             3.361   \n",
       "17            3                 D9             D10             2.207   \n",
       "31            3                 A9             A10             2.471   \n",
       "34            3                 C9             C10             4.023   \n",
       "\n",
       "                   assayGDF15Value2 assayGDF15Result1 assayGDF15Result2  \\\n",
       "id_individual Wave                                                        \n",
       "7             3               3.915            130.56           150.049   \n",
       "14            3               3.498           145.922           153.849   \n",
       "17            3               2.211            86.521            86.706   \n",
       "31            3                2.38           107.372           102.601   \n",
       "34            3               4.273           157.669           172.176   \n",
       "\n",
       "                    assayGDF15CV%  \n",
       "id_individual Wave                 \n",
       "7             3             9.822  \n",
       "14            3             3.740  \n",
       "17            3             0.151  \n",
       "31            3             3.213  \n",
       "34            3             6.220  "
      ]
     },
     "execution_count": 178,
     "metadata": {},
     "output_type": "execute_result"
    }
   ],
   "source": [
    "gdf.head()"
   ]
  },
  {
   "cell_type": "code",
   "execution_count": 179,
   "metadata": {},
   "outputs": [
    {
     "data": {
      "text/html": [
       "<div>\n",
       "<style scoped>\n",
       "    .dataframe tbody tr th:only-of-type {\n",
       "        vertical-align: middle;\n",
       "    }\n",
       "\n",
       "    .dataframe tbody tr th {\n",
       "        vertical-align: top;\n",
       "    }\n",
       "\n",
       "    .dataframe thead th {\n",
       "        text-align: right;\n",
       "    }\n",
       "</style>\n",
       "<table border=\"1\" class=\"dataframe\">\n",
       "  <thead>\n",
       "    <tr style=\"text-align: right;\">\n",
       "      <th></th>\n",
       "      <th></th>\n",
       "      <th>id_individual</th>\n",
       "      <th>id_sir</th>\n",
       "      <th>id_mad</th>\n",
       "      <th>Wave</th>\n",
       "      <th>Visit</th>\n",
       "      <th>Age</th>\n",
       "      <th>Sex</th>\n",
       "      <th>Education</th>\n",
       "      <th>Occupation</th>\n",
       "      <th>MaritalStatus</th>\n",
       "      <th>...</th>\n",
       "      <th>SphPWASecondM_Operator Index</th>\n",
       "      <th>SphPWASecondM_P_CalcT1</th>\n",
       "      <th>SphPWASecondM_P_CalcT2</th>\n",
       "      <th>SphPWASecondM_C_AP_HR75</th>\n",
       "      <th>SphPWASecondM_C_AGPH_HR75</th>\n",
       "      <th>SphPWASecondM_C_T1R</th>\n",
       "      <th>SphPWASecondM_C_CalcT1</th>\n",
       "      <th>SphPWASecondM_C_CalcT2</th>\n",
       "      <th>SphPWASecondM_Reference Age</th>\n",
       "      <th>ecgQT</th>\n",
       "    </tr>\n",
       "    <tr>\n",
       "      <th>id_individual</th>\n",
       "      <th>Wave</th>\n",
       "      <th></th>\n",
       "      <th></th>\n",
       "      <th></th>\n",
       "      <th></th>\n",
       "      <th></th>\n",
       "      <th></th>\n",
       "      <th></th>\n",
       "      <th></th>\n",
       "      <th></th>\n",
       "      <th></th>\n",
       "      <th></th>\n",
       "      <th></th>\n",
       "      <th></th>\n",
       "      <th></th>\n",
       "      <th></th>\n",
       "      <th></th>\n",
       "      <th></th>\n",
       "      <th></th>\n",
       "      <th></th>\n",
       "      <th></th>\n",
       "      <th></th>\n",
       "    </tr>\n",
       "  </thead>\n",
       "  <tbody>\n",
       "    <tr>\n",
       "      <th rowspan=\"3\" valign=\"top\">2</th>\n",
       "      <th>1</th>\n",
       "      <td>2</td>\n",
       "      <td>1573.0</td>\n",
       "      <td>1.0</td>\n",
       "      <td>1</td>\n",
       "      <td>1.0</td>\n",
       "      <td>22.8</td>\n",
       "      <td>1.0</td>\n",
       "      <td>4.0</td>\n",
       "      <td>128.0</td>\n",
       "      <td>0.0</td>\n",
       "      <td>...</td>\n",
       "      <td>NaN</td>\n",
       "      <td>NaN</td>\n",
       "      <td>NaN</td>\n",
       "      <td>NaN</td>\n",
       "      <td>NaN</td>\n",
       "      <td>NaN</td>\n",
       "      <td>NaN</td>\n",
       "      <td>NaN</td>\n",
       "      <td>NaN</td>\n",
       "      <td>390.0</td>\n",
       "    </tr>\n",
       "    <tr>\n",
       "      <th>2</th>\n",
       "      <td>2</td>\n",
       "      <td>1573.0</td>\n",
       "      <td>1.0</td>\n",
       "      <td>2</td>\n",
       "      <td>2.0</td>\n",
       "      <td>25.9</td>\n",
       "      <td>1.0</td>\n",
       "      <td>4.0</td>\n",
       "      <td>128.0</td>\n",
       "      <td>0.0</td>\n",
       "      <td>...</td>\n",
       "      <td>NaN</td>\n",
       "      <td>NaN</td>\n",
       "      <td>NaN</td>\n",
       "      <td>NaN</td>\n",
       "      <td>NaN</td>\n",
       "      <td>NaN</td>\n",
       "      <td>NaN</td>\n",
       "      <td>NaN</td>\n",
       "      <td>NaN</td>\n",
       "      <td>400.0</td>\n",
       "    </tr>\n",
       "    <tr>\n",
       "      <th>4</th>\n",
       "      <td>2</td>\n",
       "      <td>1573.0</td>\n",
       "      <td>1.0</td>\n",
       "      <td>4</td>\n",
       "      <td>3.0</td>\n",
       "      <td>36.8</td>\n",
       "      <td>1.0</td>\n",
       "      <td>5.0</td>\n",
       "      <td>71.0</td>\n",
       "      <td>1.0</td>\n",
       "      <td>...</td>\n",
       "      <td>NaN</td>\n",
       "      <td>NaN</td>\n",
       "      <td>NaN</td>\n",
       "      <td>NaN</td>\n",
       "      <td>NaN</td>\n",
       "      <td>NaN</td>\n",
       "      <td>NaN</td>\n",
       "      <td>NaN</td>\n",
       "      <td>NaN</td>\n",
       "      <td>36.0</td>\n",
       "    </tr>\n",
       "    <tr>\n",
       "      <th rowspan=\"2\" valign=\"top\">7</th>\n",
       "      <th>1</th>\n",
       "      <td>7</td>\n",
       "      <td>6756.0</td>\n",
       "      <td>16525.0</td>\n",
       "      <td>1</td>\n",
       "      <td>1.0</td>\n",
       "      <td>62.9</td>\n",
       "      <td>1.0</td>\n",
       "      <td>3.0</td>\n",
       "      <td>92.0</td>\n",
       "      <td>2.0</td>\n",
       "      <td>...</td>\n",
       "      <td>NaN</td>\n",
       "      <td>NaN</td>\n",
       "      <td>NaN</td>\n",
       "      <td>NaN</td>\n",
       "      <td>NaN</td>\n",
       "      <td>NaN</td>\n",
       "      <td>NaN</td>\n",
       "      <td>NaN</td>\n",
       "      <td>NaN</td>\n",
       "      <td>390.0</td>\n",
       "    </tr>\n",
       "    <tr>\n",
       "      <th>2</th>\n",
       "      <td>7</td>\n",
       "      <td>6756.0</td>\n",
       "      <td>16525.0</td>\n",
       "      <td>2</td>\n",
       "      <td>2.0</td>\n",
       "      <td>66.0</td>\n",
       "      <td>1.0</td>\n",
       "      <td>3.0</td>\n",
       "      <td>92.0</td>\n",
       "      <td>2.0</td>\n",
       "      <td>...</td>\n",
       "      <td>NaN</td>\n",
       "      <td>NaN</td>\n",
       "      <td>NaN</td>\n",
       "      <td>NaN</td>\n",
       "      <td>NaN</td>\n",
       "      <td>NaN</td>\n",
       "      <td>NaN</td>\n",
       "      <td>NaN</td>\n",
       "      <td>NaN</td>\n",
       "      <td>370.0</td>\n",
       "    </tr>\n",
       "  </tbody>\n",
       "</table>\n",
       "<p>5 rows × 1510 columns</p>\n",
       "</div>"
      ],
      "text/plain": [
       "                    id_individual  id_sir   id_mad  Wave  Visit   Age  Sex  \\\n",
       "id_individual Wave                                                           \n",
       "2             1                 2  1573.0      1.0     1    1.0  22.8  1.0   \n",
       "              2                 2  1573.0      1.0     2    2.0  25.9  1.0   \n",
       "              4                 2  1573.0      1.0     4    3.0  36.8  1.0   \n",
       "7             1                 7  6756.0  16525.0     1    1.0  62.9  1.0   \n",
       "              2                 7  6756.0  16525.0     2    2.0  66.0  1.0   \n",
       "\n",
       "                    Education  Occupation  MaritalStatus  ...    \\\n",
       "id_individual Wave                                        ...     \n",
       "2             1           4.0       128.0            0.0  ...     \n",
       "              2           4.0       128.0            0.0  ...     \n",
       "              4           5.0        71.0            1.0  ...     \n",
       "7             1           3.0        92.0            2.0  ...     \n",
       "              2           3.0        92.0            2.0  ...     \n",
       "\n",
       "                    SphPWASecondM_Operator Index SphPWASecondM_P_CalcT1  \\\n",
       "id_individual Wave                                                        \n",
       "2             1                              NaN                    NaN   \n",
       "              2                              NaN                    NaN   \n",
       "              4                              NaN                    NaN   \n",
       "7             1                              NaN                    NaN   \n",
       "              2                              NaN                    NaN   \n",
       "\n",
       "                   SphPWASecondM_P_CalcT2 SphPWASecondM_C_AP_HR75  \\\n",
       "id_individual Wave                                                  \n",
       "2             1                       NaN                     NaN   \n",
       "              2                       NaN                     NaN   \n",
       "              4                       NaN                     NaN   \n",
       "7             1                       NaN                     NaN   \n",
       "              2                       NaN                     NaN   \n",
       "\n",
       "                   SphPWASecondM_C_AGPH_HR75 SphPWASecondM_C_T1R  \\\n",
       "id_individual Wave                                                 \n",
       "2             1                          NaN                 NaN   \n",
       "              2                          NaN                 NaN   \n",
       "              4                          NaN                 NaN   \n",
       "7             1                          NaN                 NaN   \n",
       "              2                          NaN                 NaN   \n",
       "\n",
       "                    SphPWASecondM_C_CalcT1  SphPWASecondM_C_CalcT2  \\\n",
       "id_individual Wave                                                   \n",
       "2             1                        NaN                     NaN   \n",
       "              2                        NaN                     NaN   \n",
       "              4                        NaN                     NaN   \n",
       "7             1                        NaN                     NaN   \n",
       "              2                        NaN                     NaN   \n",
       "\n",
       "                    SphPWASecondM_Reference Age  ecgQT  \n",
       "id_individual Wave                                      \n",
       "2             1                             NaN  390.0  \n",
       "              2                             NaN  400.0  \n",
       "              4                             NaN   36.0  \n",
       "7             1                             NaN  390.0  \n",
       "              2                             NaN  370.0  \n",
       "\n",
       "[5 rows x 1510 columns]"
      ]
     },
     "execution_count": 179,
     "metadata": {},
     "output_type": "execute_result"
    }
   ],
   "source": [
    "new_prf.head()"
   ]
  },
  {
   "cell_type": "code",
   "execution_count": 180,
   "metadata": {},
   "outputs": [],
   "source": [
    "new_prf = new_prf.merge( gdf, how='outer', left_index=True, right_index=True )"
   ]
  },
  {
   "cell_type": "code",
   "execution_count": 181,
   "metadata": {},
   "outputs": [
    {
     "data": {
      "text/plain": [
       "1    6165\n",
       "2    5256\n",
       "3    4842\n",
       "4    4705\n",
       "5    3127\n",
       "Name: Wave, dtype: int64"
      ]
     },
     "execution_count": 181,
     "metadata": {},
     "output_type": "execute_result"
    }
   ],
   "source": [
    "new_prf.Wave.value_counts()"
   ]
  },
  {
   "cell_type": "markdown",
   "metadata": {},
   "source": [
    "## Drop any empty columns"
   ]
  },
  {
   "cell_type": "code",
   "execution_count": 182,
   "metadata": {},
   "outputs": [
    {
     "data": {
      "text/plain": [
       "(24095, 1517)"
      ]
     },
     "execution_count": 182,
     "metadata": {},
     "output_type": "execute_result"
    }
   ],
   "source": [
    "new_prf.shape"
   ]
  },
  {
   "cell_type": "code",
   "execution_count": 183,
   "metadata": {},
   "outputs": [],
   "source": [
    "new_prf = new_prf.dropna( axis=1, how='all')"
   ]
  },
  {
   "cell_type": "code",
   "execution_count": 184,
   "metadata": {},
   "outputs": [
    {
     "data": {
      "text/plain": [
       "(24095, 1494)"
      ]
     },
     "execution_count": 184,
     "metadata": {},
     "output_type": "execute_result"
    }
   ],
   "source": [
    "new_prf.shape"
   ]
  },
  {
   "cell_type": "markdown",
   "metadata": {},
   "source": [
    "# Rearrange columns"
   ]
  },
  {
   "cell_type": "code",
   "execution_count": 185,
   "metadata": {},
   "outputs": [],
   "source": [
    "first_columns = [ \"id_individual\", \"id_sir\", \"id_mad\", \"Wave\", 'Visit', 'Age', \"Sex\",\n",
    "    \"Education\", \"Occupation\", \"MaritalStatus\", \"SardinianOrigin\", \"FirstVisitDate\",\n",
    "    \"SecondVisitDate\", \"ThirdVisitDate\", 'FourthVisitDate', \"FifthVisitDate\", \"BirthDate\" ]"
   ]
  },
  {
   "cell_type": "code",
   "execution_count": 186,
   "metadata": {},
   "outputs": [],
   "source": [
    "leftover_columns = list( set( new_prf.columns ) - set( first_columns ) )\n",
    "leftover_columns.sort( key=lambda x: x.lower() )"
   ]
  },
  {
   "cell_type": "code",
   "execution_count": 187,
   "metadata": {},
   "outputs": [],
   "source": [
    "sorted_columns = first_columns + leftover_columns"
   ]
  },
  {
   "cell_type": "code",
   "execution_count": 188,
   "metadata": {},
   "outputs": [],
   "source": [
    "#pp.pprint( sorted_columns )"
   ]
  },
  {
   "cell_type": "code",
   "execution_count": 189,
   "metadata": {},
   "outputs": [
    {
     "data": {
      "text/plain": [
       "1494"
      ]
     },
     "execution_count": 189,
     "metadata": {},
     "output_type": "execute_result"
    }
   ],
   "source": [
    "len( sorted_columns )"
   ]
  },
  {
   "cell_type": "code",
   "execution_count": 190,
   "metadata": {},
   "outputs": [],
   "source": [
    "new_prf = new_prf[ sorted_columns ]"
   ]
  },
  {
   "cell_type": "code",
   "execution_count": 191,
   "metadata": {},
   "outputs": [],
   "source": [
    "#new_prf.head(20)"
   ]
  },
  {
   "cell_type": "markdown",
   "metadata": {},
   "source": [
    "# Remove any Newline characters\n",
    "\n",
    "Replace any clumps of whitespace characters including \\r \\n with a single ' '"
   ]
  },
  {
   "cell_type": "code",
   "execution_count": 192,
   "metadata": {},
   "outputs": [
    {
     "name": "stdout",
     "output_type": "stream",
     "text": [
      "Regex took 44.3 seconds.\n"
     ]
    }
   ],
   "source": [
    "t0 = time.time()\n",
    "new_prf.replace( regex=True, inplace=True, to_replace=r'\\s+', value=' ')\n",
    "print( f\"Regex took { time.time() - t0 :0.1f} seconds.\" )"
   ]
  },
  {
   "cell_type": "markdown",
   "metadata": {},
   "source": [
    "# Integrity Check\n",
    "\n",
    "* Compare this update to Wave5 data already in database\n",
    "* Look for missing rows/columns\n",
    "* Create lists of new columns and shared columns, new rows and shared rows between previous database release and current db release."
   ]
  },
  {
   "cell_type": "code",
   "execution_count": 193,
   "metadata": {},
   "outputs": [
    {
     "name": "stdout",
     "output_type": "stream",
     "text": [
      "Converting column FirstVisitDate to date\n",
      "Converting column SecondVisitDate to date\n",
      "Converting column ThirdVisitDate to date\n",
      "Converting column FourthVisitDate to date\n",
      "Converting column FifthVisitDate to date\n",
      "Converting column disMIwhen to date\n",
      "Converting column disAPwhen to date\n",
      "Converting column disHFwhen to date\n",
      "Converting column disSTwhen to date\n",
      "Converting column pwvDate to date\n",
      "Converting column SphHRVFirstM_DATE to date\n",
      "Converting column SphHRVSecondM_DATE to date\n",
      "Converting column SphPWAFirstM_DATE to date\n",
      "Converting column SphPWASecondM_DATE to date\n",
      "Converting column SphPWVFirstM_DATE to date\n",
      "Converting column SphPWVSecondM_DATE to date\n"
     ]
    }
   ],
   "source": [
    "# Convert date strings to date objects for the purpose of comparison\n",
    "for datecol in [ _ for _ in old_wave5.columns if (('date' in _.lower()) or ('when' in _.lower() ) ) ]:\n",
    "    print( f\"Converting column {datecol} to date\")\n",
    "    old_wave5[datecol] = pd.to_datetime( old_wave5[datecol], errors='coerce' ).dt.date"
   ]
  },
  {
   "cell_type": "code",
   "execution_count": 194,
   "metadata": {},
   "outputs": [],
   "source": [
    "new_wave5 = new_prf[ new_prf.Wave == 5 ].copy()"
   ]
  },
  {
   "cell_type": "code",
   "execution_count": 195,
   "metadata": {},
   "outputs": [
    {
     "data": {
      "text/plain": [
       "((3127, 1494), (2264, 1337))"
      ]
     },
     "execution_count": 195,
     "metadata": {},
     "output_type": "execute_result"
    }
   ],
   "source": [
    "new_wave5.shape, old_wave5.shape"
   ]
  },
  {
   "cell_type": "code",
   "execution_count": 196,
   "metadata": {},
   "outputs": [],
   "source": [
    "new_wave5.dropna( axis=1, how='all', inplace=True )"
   ]
  },
  {
   "cell_type": "code",
   "execution_count": 197,
   "metadata": {},
   "outputs": [],
   "source": [
    "old_wave5.dropna( axis=1, how='all', inplace=True )"
   ]
  },
  {
   "cell_type": "code",
   "execution_count": 198,
   "metadata": {},
   "outputs": [
    {
     "data": {
      "text/plain": [
       "((3127, 1070), (2264, 777))"
      ]
     },
     "execution_count": 198,
     "metadata": {},
     "output_type": "execute_result"
    }
   ],
   "source": [
    "new_wave5.shape, old_wave5.shape"
   ]
  },
  {
   "cell_type": "markdown",
   "metadata": {},
   "source": [
    "## Evaluate new, missing and mutual columns\n",
    "\n",
    "* Add new columns to database description file"
   ]
  },
  {
   "cell_type": "code",
   "execution_count": 199,
   "metadata": {},
   "outputs": [],
   "source": [
    "new_columns = set( new_wave5.columns ) - set( old_wave5.columns )"
   ]
  },
  {
   "cell_type": "code",
   "execution_count": 200,
   "metadata": {},
   "outputs": [
    {
     "name": "stdout",
     "output_type": "stream",
     "text": [
      "{'BirthDate', 'SphHRVFirstM_AGE', 'SphHRVFirstM_BODY_MASS_INDEX', 'SphHRVFirstM_DATA_REV',\n",
      " 'SphHRVFirstM_Database ID', 'SphHRVFirstM_HEIGHT', 'SphHRVFirstM_HRV_TRIANGULAR_INDEX',\n",
      " 'SphHRVFirstM_METHOD', 'SphHRVFirstM_MP', 'SphHRVFirstM_NUMBER_SEGMENTS',\n",
      " 'SphHRVFirstM_Patient Notes', 'SphHRVFirstM_Patient Number', 'SphHRVFirstM_RMSSD',\n",
      " 'SphHRVFirstM_SAMPLE_RATE', 'SphHRVFirstM_SDANN', 'SphHRVFirstM_SDNN', 'SphHRVFirstM_SDNN Index',\n",
      " 'SphHRVFirstM_SEGMENT_LENGTH', 'SphHRVFirstM_SIMULATION MODE', 'SphHRVFirstM_SPECTRUM_POINTS',\n",
      " 'SphHRVFirstM_STAND_HIGH', 'SphHRVFirstM_STAND_LOW', 'SphHRVFirstM_STAND_RATIO',\n",
      " 'SphHRVFirstM_START_TIME', 'SphHRVFirstM_System ID', 'SphHRVFirstM_TINN',\n",
      " 'SphHRVFirstM_VALSALVA_HIGH', 'SphHRVFirstM_VALSALVA_LOW', 'SphHRVFirstM_VALSALVA_RATIO',\n",
      " 'SphHRVFirstM_WEIGHT', 'SphHRVFirstM_data visita 5', 'SphHRVFirstM_diff', 'SphHRVFirstM_version',\n",
      " 'SphHRVSecondM_AGE', 'SphHRVSecondM_BODY_MASS_INDEX', 'SphHRVSecondM_DATA_REV',\n",
      " 'SphHRVSecondM_HEIGHT', 'SphHRVSecondM_HRV_TRIANGULAR_INDEX', 'SphHRVSecondM_METHOD',\n",
      " 'SphHRVSecondM_MP', 'SphHRVSecondM_NUMBER_SEGMENTS', 'SphHRVSecondM_Patient Number',\n",
      " 'SphHRVSecondM_RMSSD', 'SphHRVSecondM_SAMPLE_RATE', 'SphHRVSecondM_SDANN', 'SphHRVSecondM_SDNN',\n",
      " 'SphHRVSecondM_SDNN Index', 'SphHRVSecondM_SEGMENT_LENGTH', 'SphHRVSecondM_SPECTRUM_POINTS',\n",
      " 'SphHRVSecondM_STAND_HIGH', 'SphHRVSecondM_STAND_LOW', 'SphHRVSecondM_STAND_RATIO',\n",
      " 'SphHRVSecondM_System ID', 'SphHRVSecondM_TINN', 'SphHRVSecondM_VALSALVA_HIGH',\n",
      " 'SphHRVSecondM_VALSALVA_LOW', 'SphHRVSecondM_VALSALVA_RATIO', 'SphHRVSecondM_WEIGHT',\n",
      " 'SphHRVSecondM_version', 'SphPWAFirstM_AGE', 'SphPWAFirstM_BODY_MASS_INDEX',\n",
      " 'SphPWAFirstM_C_AGPH_HR75', 'SphPWAFirstM_C_AP_HR75', 'SphPWAFirstM_C_CalcT1',\n",
      " 'SphPWAFirstM_C_CalcT2', 'SphPWAFirstM_C_T1R', 'SphPWAFirstM_DATA_REV', 'SphPWAFirstM_Database ID',\n",
      " 'SphPWAFirstM_HEIGHT', 'SphPWAFirstM_Inconclusive', 'SphPWAFirstM_MP',\n",
      " 'SphPWAFirstM_Operator Index', 'SphPWAFirstM_PPAmpRatio', 'SphPWAFirstM_P_CalcT1',\n",
      " 'SphPWAFirstM_P_CalcT2', 'SphPWAFirstM_P_QC_SDEV', 'SphPWAFirstM_Patient Notes',\n",
      " 'SphPWAFirstM_Patient Number', 'SphPWAFirstM_Reference Age', 'SphPWAFirstM_SAMPLE_RATE',\n",
      " 'SphPWAFirstM_SIMULATION MODE', 'SphPWAFirstM_SUB_TYPE', 'SphPWAFirstM_System ID',\n",
      " 'SphPWAFirstM_Tonometer Serial Number', 'SphPWAFirstM_WEIGHT', 'SphPWAFirstM_data visita 5',\n",
      " 'SphPWAFirstM_diff', 'SphPWAFirstM_version', 'SphPWASecondM_AGE', 'SphPWASecondM_BODY_MASS_INDEX',\n",
      " 'SphPWASecondM_C_AGPH', 'SphPWASecondM_C_AGPH_HR75', 'SphPWASecondM_C_AI', 'SphPWASecondM_C_AL',\n",
      " 'SphPWASecondM_C_AP', 'SphPWASecondM_C_AP_HR75', 'SphPWASecondM_C_ATI', 'SphPWASecondM_C_CalcT1',\n",
      " 'SphPWASecondM_C_CalcT2', 'SphPWASecondM_C_DD', 'SphPWASecondM_C_DD_PERIOD', 'SphPWASecondM_C_DP',\n",
      " 'SphPWASecondM_C_DTI', 'SphPWASecondM_C_ED_PERIOD', 'SphPWASecondM_C_ESP', 'SphPWASecondM_C_MEANP',\n",
      " 'SphPWASecondM_C_MPD', 'SphPWASecondM_C_MPS', 'SphPWASecondM_C_P1', 'SphPWASecondM_C_P1_HEIGHT',\n",
      " 'SphPWASecondM_C_P2', 'SphPWASecondM_C_PERIOD', 'SphPWASecondM_C_PH', 'SphPWASecondM_C_QUALITY_T1',\n",
      " 'SphPWASecondM_C_QUALITY_T2', 'SphPWASecondM_C_SP', 'SphPWASecondM_C_SVI', 'SphPWASecondM_C_T1',\n",
      " 'SphPWASecondM_C_T1ED', 'SphPWASecondM_C_T1R', 'SphPWASecondM_C_T2', 'SphPWASecondM_C_T2ED',\n",
      " 'SphPWASecondM_C_TTI', 'SphPWASecondM_CalcED', 'SphPWASecondM_DATA_REV', 'SphPWASecondM_DATE',\n",
      " 'SphPWASecondM_DP', 'SphPWASecondM_ED', 'SphPWASecondM_HEIGHT', 'SphPWASecondM_HR',\n",
      " 'SphPWASecondM_MP', 'SphPWASecondM_N_Measurements', 'SphPWASecondM_Operator Index',\n",
      " 'SphPWASecondM_PPAmpRatio', 'SphPWASecondM_P_AI', 'SphPWASecondM_P_CalcT1',\n",
      " 'SphPWASecondM_P_CalcT2', 'SphPWASecondM_P_DP', 'SphPWASecondM_P_ESP', 'SphPWASecondM_P_MAX_DPDT',\n",
      " 'SphPWASecondM_P_MEANP', 'SphPWASecondM_P_P1', 'SphPWASecondM_P_P2', 'SphPWASecondM_P_QC_DV',\n",
      " 'SphPWASecondM_P_QC_PH', 'SphPWASecondM_P_QC_PHV', 'SphPWASecondM_P_QC_PLV',\n",
      " 'SphPWASecondM_P_QC_SDEV', 'SphPWASecondM_P_QUALITY_T1', 'SphPWASecondM_P_QUALITY_T2',\n",
      " 'SphPWASecondM_P_SP', 'SphPWASecondM_P_T1', 'SphPWASecondM_P_T1ED', 'SphPWASecondM_P_T2',\n",
      " 'SphPWASecondM_P_T2ED', 'SphPWASecondM_Patient Number', 'SphPWASecondM_QUALITY_ED',\n",
      " 'SphPWASecondM_Reference Age', 'SphPWASecondM_SAMPLE_RATE', 'SphPWASecondM_SP',\n",
      " 'SphPWASecondM_System ID', 'SphPWASecondM_Tonometer Serial Number', 'SphPWASecondM_WEIGHT',\n",
      " 'SphPWASecondM_version', 'SphPWVFirstM_A_NOF_10_SETS', 'SphPWVFirstM_B_NOF_10_SETS',\n",
      " 'SphPWVFirstM_PTT SD', 'SphPWVFirstM_data visita 5', 'SphPWVFirstM_diff', 'SphPWVFirstM_version',\n",
      " 'SphPWVSecondM_A_DEVIATION_DT', 'SphPWVSecondM_A_ECG_QC_BLV', 'SphPWVSecondM_A_ECG_QC_PH',\n",
      " 'SphPWVSecondM_A_ECG_QC_PHV', 'SphPWVSecondM_A_ECG_QC_PLV', 'SphPWVSecondM_A_HR',\n",
      " 'SphPWVSecondM_A_MDT', 'SphPWVSecondM_A_NOF_10_SETS', 'SphPWVSecondM_A_SUBTYPE',\n",
      " 'SphPWVSecondM_A_TON_QC_BLV', 'SphPWVSecondM_A_TON_QC_PH', 'SphPWVSecondM_A_TON_QC_PHV',\n",
      " 'SphPWVSecondM_A_TON_QC_PLV', 'SphPWVSecondM_B_DEVIATION_DT', 'SphPWVSecondM_B_ECG_QC_BLV',\n",
      " 'SphPWVSecondM_B_ECG_QC_PH', 'SphPWVSecondM_B_ECG_QC_PHV', 'SphPWVSecondM_B_ECG_QC_PLV',\n",
      " 'SphPWVSecondM_B_HR', 'SphPWVSecondM_B_MDT', 'SphPWVSecondM_B_NOF_10_SETS',\n",
      " 'SphPWVSecondM_B_SUBTYPE', 'SphPWVSecondM_B_TON_QC_BLV', 'SphPWVSecondM_B_TON_QC_PH',\n",
      " 'SphPWVSecondM_B_TON_QC_PHV', 'SphPWVSecondM_B_TON_QC_PLV', 'SphPWVSecondM_DATE',\n",
      " 'SphPWVSecondM_DP', 'SphPWVSecondM_DT_DIST', 'SphPWVSecondM_N_Measurements',\n",
      " 'SphPWVSecondM_PP_DEVIATION', 'SphPWVSecondM_PP_MDT', 'SphPWVSecondM_PTT SD', 'SphPWVSecondM_PWV',\n",
      " 'SphPWVSecondM_PWVERR', 'SphPWVSecondM_PWV_DIST', 'SphPWVSecondM_PX_DIST', 'SphPWVSecondM_SP',\n",
      " 'SphPWVSecondM_version', 'disBenigntumors', 'disCancerAdjuvant', 'disCancerBenignBones',\n",
      " 'disCancerBenignBrain', 'disCancerBenignBreast', 'disCancerBenignDateDiagnosis',\n",
      " 'disCancerBenignEsophagus', 'disCancerBenignGynecol', 'disCancerBenignIntestine',\n",
      " 'disCancerBenignKidney', 'disCancerBenignLeukemia', 'disCancerBenignLiver', 'disCancerBenignLung',\n",
      " 'disCancerBenignLymphoma', 'disCancerBenignMultMyeloma', 'disCancerBenignNote',\n",
      " 'disCancerBenignOther', 'disCancerBenignOtorhin', 'disCancerBenignPancreas',\n",
      " 'disCancerBenignProstate', 'disCancerBenignSkin', 'disCancerBenignStomach',\n",
      " 'disCancerBenignSurgicalTherapy', 'disCancerBenignUrinBlad', 'disCancerBrain', 'disCancerBreast',\n",
      " 'disCancerChemotherapy', 'disCancerDateDiagnosis', 'disCancerEsophagus', 'disCancerGynecol',\n",
      " 'disCancerIntestine', 'disCancerKidney', 'disCancerLeukemia', 'disCancerLiver', 'disCancerLung',\n",
      " 'disCancerLymphoma', 'disCancerMedication', 'disCancerMetastasis', 'disCancerMultMyeloma',\n",
      " 'disCancerOther', 'disCancerOtorhin', 'disCancerPancreas', 'disCancerProstate',\n",
      " 'disCancerRadiotherapy', 'disCancerRecovery', 'disCancerSkin', 'disCancerStable',\n",
      " 'disCancerStomach', 'disCancerSurgicalTherapy', 'disCancerTold', 'disCancerTx',\n",
      " 'disCancerUrinBlad', 'ecgQT', 'examBisLD_sl', 'rxCatAchEinhib', 'rxCatAlfa_blockers',\n",
      " 'rxCatAnti diabetic', 'rxCatAntibiotics', 'rxCatAntidepress', 'rxCatAntigout',\n",
      " 'rxCatAntihipertensive', 'rxCatAntihistaminics', 'rxCatAntiinflamatory',\n",
      " 'rxCatAntiplatelet_anticoagulants', 'rxCatAspirin', 'rxCatAt1_blockers', 'rxCatBenzodiazepine',\n",
      " 'rxCatBeta_blockers', 'rxCatBiguanidi', 'rxCatCCB', 'rxCatCV_drugs', 'rxCatDiuretics',\n",
      " 'rxCatEyesDrugs', 'rxCatGastrointestinal', 'rxCatHormones', 'rxCatImmuneSystem', 'rxCatInsulin',\n",
      " 'rxCatLipid-lowering', 'rxCatNervous', 'rxCatNeurolettici', 'rxCatNitrates', 'rxCatOsteoporosis',\n",
      " 'rxCatOther', 'rxCatParkinson', 'rxCatPlavix', 'rxCatPulmonary disease', 'rxCatSulf_Hypoglicemic',\n",
      " 'rxCatSulf_biguanidi', 'rxCatVitamins', 'vasCalc', 'vasIMT', 'vasPlaque', 'vasSten'}\n"
     ]
    }
   ],
   "source": [
    "pp.pprint( new_columns )"
   ]
  },
  {
   "cell_type": "code",
   "execution_count": 201,
   "metadata": {},
   "outputs": [],
   "source": [
    "mutual_columns = set( new_wave5.columns ) & set( old_wave5.columns )"
   ]
  },
  {
   "cell_type": "code",
   "execution_count": 202,
   "metadata": {},
   "outputs": [
    {
     "data": {
      "text/plain": [
       "768"
      ]
     },
     "execution_count": 202,
     "metadata": {},
     "output_type": "execute_result"
    }
   ],
   "source": [
    "len(mutual_columns)"
   ]
  },
  {
   "cell_type": "code",
   "execution_count": 203,
   "metadata": {},
   "outputs": [],
   "source": [
    "missing_columns = set( old_wave5.columns ) - set( new_wave5.columns )"
   ]
  },
  {
   "cell_type": "code",
   "execution_count": 204,
   "metadata": {},
   "outputs": [
    {
     "data": {
      "text/plain": [
       "9"
      ]
     },
     "execution_count": 204,
     "metadata": {},
     "output_type": "execute_result"
    }
   ],
   "source": [
    "len(missing_columns)"
   ]
  },
  {
   "cell_type": "code",
   "execution_count": 205,
   "metadata": {},
   "outputs": [
    {
     "name": "stdout",
     "output_type": "stream",
     "text": [
      "{'SphHRVFirstM_DIFF', 'SphHRVSecondM_DIFF', 'SphHRVSecondM_HRV_INDEX', 'SphHRVSecondM_RMS_SDD',\n",
      " 'SphHRVSecondM_STANDARD_DEVIATION', 'SphHRVSecondM_TRIANGULAR_INDEX', 'SphPWAFirstM_DIFF',\n",
      " 'SphPWVFirstM_DIFF', 'ecgQTC'}\n"
     ]
    }
   ],
   "source": [
    "pp.pprint( missing_columns )"
   ]
  },
  {
   "cell_type": "markdown",
   "metadata": {},
   "source": [
    "## Evaluate new, missing and mutual rows"
   ]
  },
  {
   "cell_type": "code",
   "execution_count": 206,
   "metadata": {},
   "outputs": [],
   "source": [
    "new_rows = set( new_wave5.index ) - set( old_wave5.index )"
   ]
  },
  {
   "cell_type": "code",
   "execution_count": 207,
   "metadata": {},
   "outputs": [
    {
     "data": {
      "text/plain": [
       "863"
      ]
     },
     "execution_count": 207,
     "metadata": {},
     "output_type": "execute_result"
    }
   ],
   "source": [
    "len(new_rows)"
   ]
  },
  {
   "cell_type": "code",
   "execution_count": 208,
   "metadata": {},
   "outputs": [],
   "source": [
    "missing_rows = set( old_wave5.index ) - set( new_wave5.index )"
   ]
  },
  {
   "cell_type": "code",
   "execution_count": 209,
   "metadata": {},
   "outputs": [
    {
     "data": {
      "text/plain": [
       "0"
      ]
     },
     "execution_count": 209,
     "metadata": {},
     "output_type": "execute_result"
    }
   ],
   "source": [
    "len(missing_rows)"
   ]
  },
  {
   "cell_type": "code",
   "execution_count": 210,
   "metadata": {},
   "outputs": [
    {
     "data": {
      "text/plain": [
       "set()"
      ]
     },
     "execution_count": 210,
     "metadata": {},
     "output_type": "execute_result"
    }
   ],
   "source": [
    "missing_rows"
   ]
  },
  {
   "cell_type": "code",
   "execution_count": 211,
   "metadata": {},
   "outputs": [],
   "source": [
    "mutual_rows = set( old_wave5.index ) & set( new_wave5.index )"
   ]
  },
  {
   "cell_type": "code",
   "execution_count": 212,
   "metadata": {},
   "outputs": [
    {
     "data": {
      "text/plain": [
       "2264"
      ]
     },
     "execution_count": 212,
     "metadata": {},
     "output_type": "execute_result"
    }
   ],
   "source": [
    "len(mutual_rows)"
   ]
  },
  {
   "cell_type": "code",
   "execution_count": 213,
   "metadata": {},
   "outputs": [
    {
     "data": {
      "text/plain": [
       "True"
      ]
     },
     "execution_count": 213,
     "metadata": {},
     "output_type": "execute_result"
    }
   ],
   "source": [
    "len(mutual_rows) + len(new_rows) == len( new_wave5 )"
   ]
  },
  {
   "cell_type": "code",
   "execution_count": 214,
   "metadata": {},
   "outputs": [
    {
     "data": {
      "text/plain": [
       "True"
      ]
     },
     "execution_count": 214,
     "metadata": {},
     "output_type": "execute_result"
    }
   ],
   "source": [
    "len(mutual_rows) + len(missing_rows) == len( old_wave5 )"
   ]
  },
  {
   "cell_type": "markdown",
   "metadata": {},
   "source": [
    "# Integrity Check visual representation\n",
    "\n",
    "\n",
    "Compare Wave 5 before and after update. Assign colors:\n",
    "* Black: Was empty before or row or column didn't exist, is empty now.\n",
    "* Blue: Row or column didn't exist before or was empty, is non-empty now\n",
    "* Red: Row, column or cell value disappeared, is now empty\n",
    "* Yellow: Had a value before, current value doesn't match old value\n",
    "* Green: Had a value before and current value matches previous value (exact match or np.isclose resolves to true for numeric data)\n",
    "\n",
    "\"Empty\" below implies an empty cell, containing a blank string or a NaN value"
   ]
  },
  {
   "cell_type": "code",
   "execution_count": 215,
   "metadata": {},
   "outputs": [],
   "source": [
    "columns_to_compare = sorted( list( set( new_wave5.columns ) | set( old_wave5.columns )))"
   ]
  },
  {
   "cell_type": "code",
   "execution_count": 216,
   "metadata": {},
   "outputs": [],
   "source": [
    "rows_to_compare = sorted( list( set( new_wave5.index ) | set( old_wave5.index )))"
   ]
  },
  {
   "cell_type": "code",
   "execution_count": 217,
   "metadata": {},
   "outputs": [],
   "source": [
    "# reindex automatically fills the gaps with NaNs\n",
    "new_wave5 = new_wave5.reindex( index=rows_to_compare, columns=columns_to_compare )\n",
    "old_wave5 = old_wave5.reindex( index=rows_to_compare, columns=columns_to_compare )"
   ]
  },
  {
   "cell_type": "code",
   "execution_count": 218,
   "metadata": {},
   "outputs": [],
   "source": [
    "n_rows, n_cols = new_wave5.shape"
   ]
  },
  {
   "cell_type": "code",
   "execution_count": 219,
   "metadata": {},
   "outputs": [
    {
     "data": {
      "text/plain": [
       "((3127, 1079), (3127, 1079))"
      ]
     },
     "execution_count": 219,
     "metadata": {},
     "output_type": "execute_result"
    }
   ],
   "source": [
    "new_wave5.shape, old_wave5.shape"
   ]
  },
  {
   "cell_type": "code",
   "execution_count": 220,
   "metadata": {},
   "outputs": [],
   "source": [
    "img = np.zeros( (n_rows, n_cols, 3), dtype=bool )"
   ]
  },
  {
   "cell_type": "code",
   "execution_count": 221,
   "metadata": {},
   "outputs": [
    {
     "data": {
      "text/plain": [
       "(3127, 1079, 3)"
      ]
     },
     "execution_count": 221,
     "metadata": {},
     "output_type": "execute_result"
    }
   ],
   "source": [
    "img.shape"
   ]
  },
  {
   "cell_type": "markdown",
   "metadata": {},
   "source": [
    "## Step 1: Blue\n"
   ]
  },
  {
   "cell_type": "code",
   "execution_count": 222,
   "metadata": {},
   "outputs": [],
   "source": [
    "newly_filled = pd.isnull( old_wave5 ) & ~pd.isnull( new_wave5 )"
   ]
  },
  {
   "cell_type": "code",
   "execution_count": 223,
   "metadata": {},
   "outputs": [],
   "source": [
    "img[:,:,2] = newly_filled"
   ]
  },
  {
   "cell_type": "code",
   "execution_count": 224,
   "metadata": {},
   "outputs": [],
   "source": [
    "def show():\n",
    "    full_frame(24,7)\n",
    "    plt.imshow( np.swapaxes( img.astype(int) * 255, 1,0 ) )"
   ]
  },
  {
   "cell_type": "code",
   "execution_count": 225,
   "metadata": {
    "scrolled": true
   },
   "outputs": [
    {
     "data": {
      "image/png": "[encoded data removed]",
      "text/plain": [
       "<Figure size 1728x504 with 1 Axes>"
      ]
     },
     "metadata": {
      "needs_background": "light"
     },
     "output_type": "display_data"
    }
   ],
   "source": [
    "show()"
   ]
  },
  {
   "cell_type": "code",
   "execution_count": 226,
   "metadata": {},
   "outputs": [],
   "source": [
    "#newly_filled.sum().sort_values(ascending=False)"
   ]
  },
  {
   "cell_type": "code",
   "execution_count": 227,
   "metadata": {},
   "outputs": [],
   "source": [
    "#newly_filled.sum(axis=1).sort_values(ascending=False)"
   ]
  },
  {
   "cell_type": "code",
   "execution_count": 228,
   "metadata": {},
   "outputs": [],
   "source": [
    "blue_count = newly_filled.sum().sum()"
   ]
  },
  {
   "cell_type": "code",
   "execution_count": 229,
   "metadata": {},
   "outputs": [
    {
     "name": "stdout",
     "output_type": "stream",
     "text": [
      "This merge newly filled 804663 cells, or 23.85% of Wave 5\n"
     ]
    }
   ],
   "source": [
    "print( f\"This merge newly filled {blue_count} cells, or { (blue_count*100)/(n_rows*n_cols):0.2f}% of Wave 5\")"
   ]
  },
  {
   "cell_type": "markdown",
   "metadata": {},
   "source": [
    "## Step 2: Red\n",
    "\n",
    "### Columns and rows we had before: Newly Empty"
   ]
  },
  {
   "cell_type": "code",
   "execution_count": 230,
   "metadata": {},
   "outputs": [],
   "source": [
    "newly_empty = ~pd.isnull( old_wave5 ) & pd.isnull( new_wave5 )"
   ]
  },
  {
   "cell_type": "code",
   "execution_count": 231,
   "metadata": {},
   "outputs": [
    {
     "data": {
      "text/plain": [
       "0"
      ]
     },
     "execution_count": 231,
     "metadata": {},
     "output_type": "execute_result"
    }
   ],
   "source": [
    "( newly_filled & newly_empty).sum().sum()"
   ]
  },
  {
   "cell_type": "markdown",
   "metadata": {},
   "source": [
    "### Need to examine these columns, why are they empty since the last upload?"
   ]
  },
  {
   "cell_type": "code",
   "execution_count": 232,
   "metadata": {},
   "outputs": [],
   "source": [
    "#pd.set_option( 'max_rows', None)"
   ]
  },
  {
   "cell_type": "code",
   "execution_count": 233,
   "metadata": {
    "scrolled": true
   },
   "outputs": [
    {
     "data": {
      "text/plain": [
       "ecgQTC                             2261\n",
       "examBisKidneyNotes                 1434\n",
       "SphHRVFirstM_DIFF                   726\n",
       "SphPWVFirstM_DIFF                   720\n",
       "SphPWAFirstM_DIFF                   604\n",
       "labsTSH                             499\n",
       "labsFt4                             493\n",
       "labsInsulinemia                     493\n",
       "labsCRP                             206\n",
       "SphHRVFirstM_RMS_SDD                193\n",
       "SphHRVFirstM_STANDARD_DEVIATION     193\n",
       "SphHRVFirstM_HRV_INDEX              192\n",
       "SphHRVFirstM_TRIANGULAR_INDEX       192\n",
       "labsPcrhs                            48\n",
       "labsFibrinogeno                      46\n",
       "labsMicroalubumina                   46\n",
       "labsProteinuria                      46\n",
       "labsCreurine                         45\n",
       "labsVES                              37\n",
       "labsFerritina                        34\n",
       "dtype: int64"
      ]
     },
     "execution_count": 233,
     "metadata": {},
     "output_type": "execute_result"
    }
   ],
   "source": [
    "newly_empty.sum().sort_values(ascending=False).head(20)"
   ]
  },
  {
   "cell_type": "code",
   "execution_count": 234,
   "metadata": {},
   "outputs": [
    {
     "data": {
      "text/plain": [
       "id_individual  Wave\n",
       "28339          5       63\n",
       "4844           5       63\n",
       "21337          5       63\n",
       "7781           5       55\n",
       "684            5       52\n",
       "11715          5       52\n",
       "26069          5       52\n",
       "5711           5       52\n",
       "28745          5       52\n",
       "2730           5       51\n",
       "33381          5       51\n",
       "21822          5       51\n",
       "24332          5       50\n",
       "38637          5       49\n",
       "12895          5       49\n",
       "1591           5       48\n",
       "21832          5       48\n",
       "12776          5       48\n",
       "31529          5       37\n",
       "5534           5       37\n",
       "dtype: int64"
      ]
     },
     "execution_count": 234,
     "metadata": {},
     "output_type": "execute_result"
    }
   ],
   "source": [
    "newly_empty.sum(axis=1).sort_values(ascending=False).head(20)"
   ]
  },
  {
   "cell_type": "code",
   "execution_count": 235,
   "metadata": {},
   "outputs": [],
   "source": [
    "#i = (684,5)"
   ]
  },
  {
   "cell_type": "code",
   "execution_count": 236,
   "metadata": {},
   "outputs": [],
   "source": [
    "#newly_empty.loc[i, newly_empty.loc[i]].sort_index()"
   ]
  },
  {
   "cell_type": "code",
   "execution_count": 237,
   "metadata": {},
   "outputs": [
    {
     "data": {
      "text/plain": [
       "10169"
      ]
     },
     "execution_count": 237,
     "metadata": {},
     "output_type": "execute_result"
    }
   ],
   "source": [
    "newly_empty.sum().sum()"
   ]
  },
  {
   "cell_type": "code",
   "execution_count": 238,
   "metadata": {},
   "outputs": [
    {
     "name": "stdout",
     "output_type": "stream",
     "text": [
      "This merge newly EMPTIED 10169 cells, or 0.30% of Wave 5\n"
     ]
    }
   ],
   "source": [
    "print( f\"This merge newly EMPTIED {newly_empty.sum().sum()} cells, or { (newly_empty.sum().sum()*100)/(n_rows*n_cols):0.2f}% of Wave 5\")"
   ]
  },
  {
   "cell_type": "code",
   "execution_count": 239,
   "metadata": {},
   "outputs": [],
   "source": [
    "img[:,:,0] = newly_empty"
   ]
  },
  {
   "cell_type": "code",
   "execution_count": 240,
   "metadata": {},
   "outputs": [
    {
     "data": {
      "image/png": "[encoded data removed]",
      "text/plain": [
       "<Figure size 1728x504 with 1 Axes>"
      ]
     },
     "metadata": {
      "needs_background": "light"
     },
     "output_type": "display_data"
    }
   ],
   "source": [
    "show()"
   ]
  },
  {
   "cell_type": "markdown",
   "metadata": {},
   "source": [
    "## Step 3: Yellow\n",
    "\n",
    "Col and rows we had before: Check equality\n",
    "\n",
    "Yellow has RGB values R=1, G=1, B=0."
   ]
  },
  {
   "cell_type": "code",
   "execution_count": 241,
   "metadata": {},
   "outputs": [
    {
     "data": {
      "text/plain": [
       "float64           1008\n",
       "object              65\n",
       "datetime64[ns]       4\n",
       "int64                2\n",
       "dtype: int64"
      ]
     },
     "execution_count": 241,
     "metadata": {},
     "output_type": "execute_result"
    }
   ],
   "source": [
    "new_wave5.dtypes.value_counts()"
   ]
  },
  {
   "cell_type": "markdown",
   "metadata": {},
   "source": [
    "#### WARNING: ORDER MAY CHANGE ON SUBSEQUENT RUNS, COMPARE ABOVE AND BELOW CELL"
   ]
  },
  {
   "cell_type": "code",
   "execution_count": 243,
   "metadata": {},
   "outputs": [],
   "source": [
    "float_t, object_t, datetime_t, int_t = new_wave5.dtypes.value_counts().index"
   ]
  },
  {
   "cell_type": "code",
   "execution_count": 244,
   "metadata": {},
   "outputs": [
    {
     "data": {
      "text/plain": [
       "dtype('float64')"
      ]
     },
     "execution_count": 244,
     "metadata": {},
     "output_type": "execute_result"
    }
   ],
   "source": [
    "float_t"
   ]
  },
  {
   "cell_type": "markdown",
   "metadata": {},
   "source": [
    "### Step 3A: Convert everything to string and compare"
   ]
  },
  {
   "cell_type": "code",
   "execution_count": 245,
   "metadata": {},
   "outputs": [],
   "source": [
    "old_wave5_asstring = old_wave5.astype( str )\n",
    "new_wave5_asstring = new_wave5.astype( str )"
   ]
  },
  {
   "cell_type": "code",
   "execution_count": 246,
   "metadata": {},
   "outputs": [],
   "source": [
    "string_cell_matches = old_wave5_asstring == new_wave5_asstring"
   ]
  },
  {
   "cell_type": "markdown",
   "metadata": {},
   "source": [
    "## Step 3B: for numeric types, use isclose for comparison"
   ]
  },
  {
   "cell_type": "code",
   "execution_count": 247,
   "metadata": {},
   "outputs": [],
   "source": [
    "old_wave5_numeric = old_wave5.transform( pd.to_numeric, errors='coerce' )\n",
    "new_wave5_numeric = new_wave5.transform( pd.to_numeric, errors='coerce' )"
   ]
  },
  {
   "cell_type": "code",
   "execution_count": 248,
   "metadata": {},
   "outputs": [],
   "source": [
    "float_cell_matches = np.isclose( old_wave5_numeric, new_wave5_numeric, rtol=0.01, equal_nan=True )"
   ]
  },
  {
   "cell_type": "code",
   "execution_count": 249,
   "metadata": {},
   "outputs": [],
   "source": [
    "cell_mismatches = ~newly_filled & ~newly_empty & ~string_cell_matches & ~float_cell_matches"
   ]
  },
  {
   "cell_type": "code",
   "execution_count": 250,
   "metadata": {},
   "outputs": [
    {
     "data": {
      "text/plain": [
       "17016"
      ]
     },
     "execution_count": 250,
     "metadata": {},
     "output_type": "execute_result"
    }
   ],
   "source": [
    "cell_mismatches.sum().sum()"
   ]
  },
  {
   "cell_type": "code",
   "execution_count": 251,
   "metadata": {},
   "outputs": [
    {
     "data": {
      "text/plain": [
       "Age                                  492\n",
       "SphHRVFirstM_DP                        1\n",
       "SphHRVFirstM_END_PULSE                 4\n",
       "SphHRVFirstM_HF_MAXIMUM              155\n",
       "SphHRVFirstM_HF_POWER                  4\n",
       "SphHRVFirstM_HF_POWER_NORMALISED       4\n",
       "SphHRVFirstM_LF_HF_RATIO               4\n",
       "SphHRVFirstM_LF_MAXIMUM              193\n",
       "SphHRVFirstM_LF_POWER                  4\n",
       "SphHRVFirstM_LF_POWER_NORMALISED       3\n",
       "SphHRVFirstM_MAX/MIN                   4\n",
       "SphHRVFirstM_MAXIMUM                   3\n",
       "SphHRVFirstM_MEAN                      2\n",
       "SphHRVFirstM_MINIMUM                   4\n",
       "SphHRVFirstM_MODE                      4\n",
       "SphHRVFirstM_NN50                      3\n",
       "SphHRVFirstM_NUMBER_PULSES             4\n",
       "SphHRVFirstM_N_Measurements            3\n",
       "SphHRVFirstM_PNN50                    28\n",
       "SphHRVFirstM_RANGE                     4\n",
       "SphHRVFirstM_SP                        1\n",
       "SphHRVFirstM_SPECTRUM_MAXIMUM          3\n",
       "SphHRVFirstM_START_TIME             1403\n",
       "SphHRVFirstM_TOTAL_POWER               4\n",
       "SphHRVFirstM_data visita 5          2602\n",
       "SphHRVSecondM_HF_MAXIMUM               1\n",
       "SphHRVSecondM_LF_MAXIMUM               1\n",
       "SphPWAFirstM_C_AGPH                   61\n",
       "SphPWAFirstM_C_AI                     14\n",
       "SphPWAFirstM_C_AL                     88\n",
       "                                    ... \n",
       "labsCreatinina                        10\n",
       "labsCreurine                           2\n",
       "labsFerritina                          2\n",
       "labsFibrinogeno                        4\n",
       "labsFosfor                             2\n",
       "labsFt4                                1\n",
       "labsGammaGT                            2\n",
       "labsGlicemia                           2\n",
       "labsHB                                10\n",
       "labsHDL                                2\n",
       "labsInsulinemia                        1\n",
       "labsMCH                                9\n",
       "labsMCV                               10\n",
       "labsMicroalubumina                     2\n",
       "labsPLT                               11\n",
       "labsPcrhs                              2\n",
       "labsPercBA                             8\n",
       "labsPercEO                            10\n",
       "labsPercLY                            11\n",
       "labsPercMO                            11\n",
       "labsPercNE                            11\n",
       "labsProteinuria                        2\n",
       "labsRBC                               10\n",
       "labsSideremia                          2\n",
       "labsTSH                                1\n",
       "labsTransferrina                       2\n",
       "labsTrigliceridi                       2\n",
       "labsVES                                4\n",
       "labsWBC                               11\n",
       "rxOtherMeds                            1\n",
       "Length: 174, dtype: int64"
      ]
     },
     "execution_count": 251,
     "metadata": {},
     "output_type": "execute_result"
    }
   ],
   "source": [
    "cell_mismatches.sum()[ cell_mismatches.sum() != 0]"
   ]
  },
  {
   "cell_type": "code",
   "execution_count": 252,
   "metadata": {},
   "outputs": [],
   "source": [
    "img[:,:,0] |= cell_mismatches\n",
    "img[:,:,1] |= cell_mismatches"
   ]
  },
  {
   "cell_type": "code",
   "execution_count": 253,
   "metadata": {},
   "outputs": [
    {
     "data": {
      "image/png": "[encoded data removed]",
      "text/plain": [
       "<Figure size 1728x504 with 1 Axes>"
      ]
     },
     "metadata": {
      "needs_background": "light"
     },
     "output_type": "display_data"
    }
   ],
   "source": [
    "show()"
   ]
  },
  {
   "cell_type": "markdown",
   "metadata": {},
   "source": [
    "### Need to examine these, why don't they match?"
   ]
  },
  {
   "cell_type": "code",
   "execution_count": 254,
   "metadata": {},
   "outputs": [],
   "source": [
    "discrepancies_by_col = cell_mismatches.sum()[ cell_mismatches.sum() != 0].sort_values(ascending=False)"
   ]
  },
  {
   "cell_type": "code",
   "execution_count": 255,
   "metadata": {},
   "outputs": [
    {
     "data": {
      "text/plain": [
       "SphPWVFirstM_data visita 5     3119\n",
       "SphPWAFirstM_data visita 5     2974\n",
       "SphHRVFirstM_data visita 5     2602\n",
       "id_mad                         1668\n",
       "SphHRVFirstM_START_TIME        1403\n",
       "SphPWVFirstM_N_Measurements     711\n",
       "Visit                           634\n",
       "Age                             492\n",
       "SphPWAFirstM_N_Measurements     406\n",
       "SphHRVFirstM_LF_MAXIMUM         193\n",
       "SphHRVFirstM_HF_MAXIMUM         155\n",
       "SphPWVFirstM_B_ECG_QC_PLV       147\n",
       "SphPWVFirstM_A_ECG_QC_PLV       143\n",
       "SphPWAFirstM_P_QC_PHV           140\n",
       "SphPWAFirstM_P_QC_PLV           139\n",
       "SphPWAFirstM_P_QC_DV            139\n",
       "SphPWVFirstM_A_ECG_QC_PHV       134\n",
       "SphPWVFirstM_B_ECG_QC_PHV       124\n",
       "SphPWVFirstM_B_TON_QC_PLV       124\n",
       "SphPWVFirstM_A_TON_QC_PLV       120\n",
       "SphPWAFirstM_C_AP               101\n",
       "SphPWVFirstM_PWVERR              91\n",
       "SphPWAFirstM_C_AL                88\n",
       "SphPWVFirstM_B_TON_QC_PHV        67\n",
       "SphPWVFirstM_A_TON_QC_PHV        62\n",
       "SphPWAFirstM_C_AGPH              61\n",
       "SphPWAFirstM_C_P1_HEIGHT         51\n",
       "SphPWAFirstM_C_T1ED              42\n",
       "SphPWAFirstM_C_PH                38\n",
       "SphPWAFirstM_C_ED_PERIOD         33\n",
       "                               ... \n",
       "SphHRVSecondM_HF_MAXIMUM          1\n",
       "rxOtherMeds                       1\n",
       "SphPWAFirstM_C_ESP                1\n",
       "SphPWAFirstM_C_MPD                1\n",
       "labsTSH                           1\n",
       "labsInsulinemia                   1\n",
       "labsFt4                           1\n",
       "labsColesterolo                   1\n",
       "labsCalcio                        1\n",
       "labsC4                            1\n",
       "labsAlbumina                      1\n",
       "labsAcidourico                    1\n",
       "id_sir                            1\n",
       "disCarcinomatiroid                1\n",
       "UriGravity                        1\n",
       "SphPWVFirstM_PWV                  1\n",
       "SphPWVFirstM_PP_MDT               1\n",
       "SphPWVFirstM_PP_DEVIATION         1\n",
       "SphPWVFirstM_B_TON_QC_BLV         1\n",
       "SphPWVFirstM_B_MDT                1\n",
       "SphPWVFirstM_B_DEVIATION_DT       1\n",
       "SphPWVFirstM_A_TON_QC_PH          1\n",
       "SphPWVFirstM_A_TON_QC_BLV         1\n",
       "SphPWVFirstM_A_MDT                1\n",
       "SphPWVFirstM_A_ECG_QC_PH          1\n",
       "SphPWVFirstM_A_ECG_QC_BLV         1\n",
       "SphPWAFirstM_P_QUALITY_T1         1\n",
       "SphPWAFirstM_ED                   1\n",
       "SphPWAFirstM_CalcED               1\n",
       "SphPWVFirstM_B_TON_QC_PH          1\n",
       "Length: 174, dtype: int64"
      ]
     },
     "execution_count": 255,
     "metadata": {},
     "output_type": "execute_result"
    }
   ],
   "source": [
    "discrepancies_by_col"
   ]
  },
  {
   "cell_type": "code",
   "execution_count": 256,
   "metadata": {},
   "outputs": [],
   "source": [
    "def CompareOldAndNew( col_name, truth_table, max_comparisons=40 ):\n",
    "    discrepancies = truth_table[col_name]\n",
    "    discrepancies = discrepancies[ discrepancies == True ]\n",
    "    desired_rows = sorted(list(discrepancies.index))[:max_comparisons]\n",
    "    old_values = old_wave5.reindex( index=desired_rows, columns=[col_name] ).squeeze()\n",
    "    new_values = new_wave5.reindex( index=desired_rows, columns=[col_name] ).squeeze()\n",
    "\n",
    "    data = {}\n",
    "    data[ 'VALUESEQUAL' ] = old_values == new_values\n",
    "    data[ \"OLDTYPE\" ] = [type(_) for _ in list( old_values )]\n",
    "    data[ \"NEWTYPE\" ] = [type(_) for _ in list( new_values )]\n",
    "    data[ 'OLD'+col_name ] = old_values\n",
    "    data[ 'NEW'+col_name ] = new_values\n",
    "    data[ 'OBJSEQUAL' ] = old_values.astype(str) == new_values.astype(str)\n",
    "    data = pd.DataFrame( index=desired_rows, data=data )\n",
    "    return data[ data[ 'OBJSEQUAL' ] == False ]"
   ]
  },
  {
   "cell_type": "code",
   "execution_count": 257,
   "metadata": {},
   "outputs": [],
   "source": [
    "diffs = iter( list( discrepancies_by_col.index))"
   ]
  },
  {
   "cell_type": "markdown",
   "metadata": {},
   "source": [
    "### Notes\n",
    "\n",
    "* id_individual 2025 Wave 5 changed?\n",
    "* check sphygmocor id_individual 2206\n",
    "* age in new release was converted to integer and rounded in a weird way\n",
    "* labsWBC\n",
    "* labsPLT"
   ]
  },
  {
   "cell_type": "code",
   "execution_count": null,
   "metadata": {},
   "outputs": [],
   "source": [
    "CompareOldAndNew( next(diffs), cell_mismatches )"
   ]
  },
  {
   "cell_type": "markdown",
   "metadata": {},
   "source": [
    "# Step 4 (optional): Add green for where everything checks out"
   ]
  },
  {
   "cell_type": "code",
   "execution_count": 259,
   "metadata": {},
   "outputs": [],
   "source": [
    "cell_matches = ~newly_filled & ~newly_empty & ( string_cell_matches | float_cell_matches )"
   ]
  },
  {
   "cell_type": "code",
   "execution_count": 260,
   "metadata": {},
   "outputs": [],
   "source": [
    "match_sum = cell_matches.sum().sum()"
   ]
  },
  {
   "cell_type": "code",
   "execution_count": 261,
   "metadata": {},
   "outputs": [
    {
     "name": "stdout",
     "output_type": "stream",
     "text": [
      "Matching cells=2542185, 75.3%\n"
     ]
    }
   ],
   "source": [
    "print( f\"Matching cells={match_sum}, {match_sum*100/(n_rows*n_cols):0.1f}%\")"
   ]
  },
  {
   "cell_type": "code",
   "execution_count": 262,
   "metadata": {},
   "outputs": [],
   "source": [
    "img[:,:,1] |= cell_matches"
   ]
  },
  {
   "cell_type": "code",
   "execution_count": 263,
   "metadata": {},
   "outputs": [
    {
     "data": {
      "image/png": "[encoded data removed]",
      "text/plain": [
       "<Figure size 1728x504 with 1 Axes>"
      ]
     },
     "metadata": {
      "needs_background": "light"
     },
     "output_type": "display_data"
    }
   ],
   "source": [
    "show()"
   ]
  },
  {
   "cell_type": "code",
   "execution_count": 264,
   "metadata": {},
   "outputs": [
    {
     "data": {
      "text/plain": [
       "<Figure size 432x288 with 0 Axes>"
      ]
     },
     "metadata": {},
     "output_type": "display_data"
    }
   ],
   "source": [
    "plt.savefig( '20190123_WaveV_comparison_figure.png')"
   ]
  },
  {
   "cell_type": "markdown",
   "metadata": {},
   "source": [
    "### Notes:\n",
    "\n",
    "* id individual 95 is consistently off\n",
    "\n",
    "#### Unresolved\n",
    "1. id_mad\n",
    "2. Age changed by up to 0.6 years, some round up some round down"
   ]
  },
  {
   "cell_type": "markdown",
   "metadata": {},
   "source": [
    "# Convert all numeric values to strings and lop off .0's, etc"
   ]
  },
  {
   "cell_type": "code",
   "execution_count": 265,
   "metadata": {
    "ExecuteTime": {
     "end_time": "2017-12-07T20:01:24.961608Z",
     "start_time": "2017-12-07T19:59:33.781941Z"
    }
   },
   "outputs": [],
   "source": [
    "new_prf = new_prf.astype(str)"
   ]
  },
  {
   "cell_type": "code",
   "execution_count": 266,
   "metadata": {
    "ExecuteTime": {
     "end_time": "2017-12-07T20:01:29.306151Z",
     "start_time": "2017-12-07T20:01:24.963319Z"
    }
   },
   "outputs": [],
   "source": [
    "new_prf.replace( to_replace='nan', value='', inplace=True, regex=False )"
   ]
  },
  {
   "cell_type": "code",
   "execution_count": 267,
   "metadata": {
    "ExecuteTime": {
     "end_time": "2017-12-07T20:01:30.894759Z",
     "start_time": "2017-12-07T20:01:29.307879Z"
    }
   },
   "outputs": [],
   "source": [
    "new_prf.replace( to_replace='NaT', value='', inplace=True, regex=False )"
   ]
  },
  {
   "cell_type": "code",
   "execution_count": 268,
   "metadata": {
    "ExecuteTime": {
     "end_time": "2017-12-07T20:01:49.646914Z",
     "start_time": "2017-12-07T20:01:30.896488Z"
    }
   },
   "outputs": [],
   "source": [
    "new_prf.replace( regex=True, inplace=True, to_replace=r'\\.0+$', value='')"
   ]
  },
  {
   "cell_type": "code",
   "execution_count": 269,
   "metadata": {
    "ExecuteTime": {
     "end_time": "2017-12-07T20:02:06.194451Z",
     "start_time": "2017-12-07T20:01:49.648628Z"
    }
   },
   "outputs": [],
   "source": [
    "# round down\n",
    "new_prf.replace( regex=True, inplace=True, to_replace=r'\\.?00000+\\d*$', value='')"
   ]
  },
  {
   "cell_type": "markdown",
   "metadata": {},
   "source": [
    "# Write Putative New DB to file"
   ]
  },
  {
   "cell_type": "code",
   "execution_count": 270,
   "metadata": {
    "ExecuteTime": {
     "end_time": "2017-12-07T20:02:12.219978Z",
     "start_time": "2017-12-07T20:02:06.196286Z"
    }
   },
   "outputs": [],
   "source": [
    "new_prf.to_csv( '20190123_SardiNIA_WaveI-V.txt', sep='\\t', encoding='utf-8', index=False )"
   ]
  },
  {
   "cell_type": "code",
   "execution_count": 271,
   "metadata": {},
   "outputs": [
    {
     "data": {
      "text/plain": [
       "1    6165\n",
       "2    5256\n",
       "3    4842\n",
       "4    4705\n",
       "5    3127\n",
       "Name: Wave, dtype: int64"
      ]
     },
     "execution_count": 271,
     "metadata": {},
     "output_type": "execute_result"
    }
   ],
   "source": [
    "new_prf.Wave.value_counts()"
   ]
  },
  {
   "cell_type": "code",
   "execution_count": null,
   "metadata": {},
   "outputs": [],
   "source": [
    "us_db_description.shape"
   ]
  },
  {
   "cell_type": "code",
   "execution_count": null,
   "metadata": {},
   "outputs": [],
   "source": [
    "us_db_description = us_db_description \\\n",
    "    .set_index( 'Column Name') \\\n",
    "    .reindex( index=sorted_columns ) \\\n",
    "    .reset_index()"
   ]
  },
  {
   "cell_type": "code",
   "execution_count": null,
   "metadata": {},
   "outputs": [],
   "source": [
    "us_db_description.shape"
   ]
  },
  {
   "cell_type": "code",
   "execution_count": null,
   "metadata": {},
   "outputs": [],
   "source": [
    "us_db_description.head()"
   ]
  },
  {
   "cell_type": "code",
   "execution_count": null,
   "metadata": {},
   "outputs": [],
   "source": [
    "us_db_description.to_excel( '20190122-Sardinia-Data-Description.xlsx', index=None, engine='openpyxl')"
   ]
  },
  {
   "cell_type": "code",
   "execution_count": null,
   "metadata": {
    "ExecuteTime": {
     "end_time": "2017-12-07T20:09:51.627631Z",
     "start_time": "2017-12-07T20:09:51.464115Z"
    }
   },
   "outputs": [],
   "source": [
    "ls -lrth "
   ]
  },
  {
   "cell_type": "code",
   "execution_count": null,
   "metadata": {},
   "outputs": [],
   "source": [
    "print( f\"Notebook completed run in {(time.time()-t00)/60:0.1f} minutes.\")"
   ]
  }
 ],
 "metadata": {
  "kernelspec": {
   "display_name": "Python 3",
   "language": "python",
   "name": "python3"
  },
  "language_info": {
   "codemirror_mode": {
    "name": "ipython",
    "version": 3
   },
   "file_extension": ".py",
   "mimetype": "text/x-python",
   "name": "python",
   "nbconvert_exporter": "python",
   "pygments_lexer": "ipython3",
   "version": "3.7.0"
  }
 },
 "nbformat": 4,
 "nbformat_minor": 2
}
