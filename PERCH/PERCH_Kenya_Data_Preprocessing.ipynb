{
 "cells": [
  {
   "cell_type": "markdown",
   "metadata": {},
   "source": [
    "# KENYA PERCH CXR WND-CHARM ANALYSIS\n",
    "\n",
    "## Part 1: Preprocessing intercostal geometry, diagnosis, etc...\n",
    "\n",
    "August 2015"
   ]
  },
  {
   "cell_type": "markdown",
   "metadata": {},
   "source": [
    "## Parse tsv files containing intercostal locations\n",
    "\n",
    "These were converted from the native FIJI *.zip files (which were created by the ROI manager plugin)"
   ]
  },
  {
   "cell_type": "code",
   "execution_count": 1,
   "metadata": {
    "collapsed": false
   },
   "outputs": [
    {
     "data": {
      "text/plain": [
       "u'/Users/chris/projects/PERCH_Kenya/All_CXR'"
      ]
     },
     "execution_count": 1,
     "metadata": {},
     "output_type": "execute_result"
    }
   ],
   "source": [
    "pwd"
   ]
  },
  {
   "cell_type": "code",
   "execution_count": 2,
   "metadata": {
    "collapsed": true
   },
   "outputs": [],
   "source": [
    "from os import walk\n",
    "root, dirs, files = walk( '.' ).next()"
   ]
  },
  {
   "cell_type": "code",
   "execution_count": 3,
   "metadata": {
    "collapsed": true
   },
   "outputs": [],
   "source": [
    "tsvs = [ _ for _ in files if _.endswith('tsv')]"
   ]
  },
  {
   "cell_type": "code",
   "execution_count": 5,
   "metadata": {
    "collapsed": false
   },
   "outputs": [
    {
     "data": {
      "text/plain": [
       "492"
      ]
     },
     "execution_count": 5,
     "metadata": {},
     "output_type": "execute_result"
    }
   ],
   "source": [
    "len(tsvs)"
   ]
  },
  {
   "cell_type": "code",
   "execution_count": 4,
   "metadata": {
    "collapsed": true
   },
   "outputs": [],
   "source": [
    "tiffs = [ _ for _ in files if _.endswith('tif')]"
   ]
  },
  {
   "cell_type": "code",
   "execution_count": 6,
   "metadata": {
    "collapsed": false
   },
   "outputs": [
    {
     "data": {
      "text/plain": [
       "492"
      ]
     },
     "execution_count": 6,
     "metadata": {},
     "output_type": "execute_result"
    }
   ],
   "source": [
    "len( tiffs)"
   ]
  },
  {
   "cell_type": "code",
   "execution_count": 7,
   "metadata": {
    "collapsed": false,
    "scrolled": true
   },
   "outputs": [],
   "source": [
    "intercostal_locations = {}\n",
    "for _file in tsvs:\n",
    "    patient_id = _file[:-4]\n",
    "    intercostal_locations[ patient_id ] = []\n",
    "    with open(_file) as tsv:\n",
    "        for i, line in enumerate( tsv ):\n",
    "            columns = line.strip().split('\\t')\n",
    "            # Columns 1 and 2 contain x and y locations of intercostal points\n",
    "            point = ( int( columns[0] ), int( columns[1] ) )\n",
    "            intercostal_locations[ patient_id ].append( point )"
   ]
  },
  {
   "cell_type": "code",
   "execution_count": 8,
   "metadata": {
    "collapsed": false
   },
   "outputs": [
    {
     "data": {
      "text/plain": [
       "492"
      ]
     },
     "execution_count": 8,
     "metadata": {},
     "output_type": "execute_result"
    }
   ],
   "source": [
    "len(intercostal_locations)"
   ]
  },
  {
   "cell_type": "markdown",
   "metadata": {},
   "source": [
    "### Do all subjects have 22 points?"
   ]
  },
  {
   "cell_type": "code",
   "execution_count": 9,
   "metadata": {
    "collapsed": false
   },
   "outputs": [],
   "source": [
    "from collections import Counter"
   ]
  },
  {
   "cell_type": "code",
   "execution_count": 10,
   "metadata": {
    "collapsed": true
   },
   "outputs": [],
   "source": [
    "point_count = Counter()\n",
    "for name, point_list in intercostal_locations.iteritems():\n",
    "    point_count[ len(point_list) ] += 1"
   ]
  },
  {
   "cell_type": "code",
   "execution_count": 11,
   "metadata": {
    "collapsed": false
   },
   "outputs": [
    {
     "data": {
      "text/plain": [
       "[(22, 472),\n",
       " (1, 5),\n",
       " (10, 2),\n",
       " (13, 2),\n",
       " (19, 2),\n",
       " (23, 2),\n",
       " (6, 1),\n",
       " (9, 1),\n",
       " (11, 1),\n",
       " (16, 1),\n",
       " (18, 1),\n",
       " (20, 1),\n",
       " (21, 1)]"
      ]
     },
     "execution_count": 11,
     "metadata": {},
     "output_type": "execute_result"
    }
   ],
   "source": [
    "point_count.most_common()"
   ]
  },
  {
   "cell_type": "markdown",
   "metadata": {},
   "source": [
    "Answer: NOPE!"
   ]
  },
  {
   "cell_type": "markdown",
   "metadata": {},
   "source": [
    "For now, let's just deal with the 22 point subjects; filter the others out"
   ]
  },
  {
   "cell_type": "code",
   "execution_count": 12,
   "metadata": {
    "collapsed": true
   },
   "outputs": [],
   "source": [
    "intercostal_locations = {name : pointlist for name, pointlist in intercostal_locations.iteritems() if len(pointlist) == 22 }"
   ]
  },
  {
   "cell_type": "code",
   "execution_count": 13,
   "metadata": {
    "collapsed": false
   },
   "outputs": [
    {
     "data": {
      "text/plain": [
       "472"
      ]
     },
     "execution_count": 13,
     "metadata": {},
     "output_type": "execute_result"
    }
   ],
   "source": [
    "len(intercostal_locations)"
   ]
  },
  {
   "cell_type": "markdown",
   "metadata": {},
   "source": [
    "# calculate individual strip sizes based on relative positioning"
   ]
  },
  {
   "cell_type": "code",
   "execution_count": 15,
   "metadata": {
    "collapsed": true
   },
   "outputs": [],
   "source": [
    "quad_iv_intercostals = { name: [ (x, -y) for x,y in pointlist ] for name, pointlist in intercostal_locations.iteritems() }"
   ]
  },
  {
   "cell_type": "code",
   "execution_count": 25,
   "metadata": {
    "collapsed": true
   },
   "outputs": [],
   "source": [
    "strip_sizes = {}\n",
    "for name, pointlist in quad_iv_intercostals.iteritems():\n",
    "    subject_strip_sizes = []\n",
    "    leftx, lefty = zip(*pointlist[:11])\n",
    "    rightx, righty = zip(*pointlist[11:])\n",
    "\n",
    "    # right side first\n",
    "    for i in range(11):\n",
    "        if i == 0:\n",
    "            h = righty[0] - righty[1]\n",
    "            w =  rightx[0] - leftx[0]\n",
    "            subject_strip_sizes.append( (w,h) )\n",
    "        elif i == 10:\n",
    "            h = righty[9] - righty[10]\n",
    "            w = rightx[10] - leftx[10]\n",
    "            subject_strip_sizes.append( (w,h) )            \n",
    "        else:\n",
    "            h = (righty[i-1] - righty[i+1])/2\n",
    "            w = rightx[i] - leftx[i]           \n",
    "            subject_strip_sizes.append( (w,h) )\n",
    "\n",
    "    # now left side\n",
    "    for i in range(11):\n",
    "        if i == 0:\n",
    "            h = lefty[0] - lefty[1]\n",
    "            w = rightx[0] - leftx[0]\n",
    "            subject_strip_sizes.append( (w,h) )\n",
    "        elif i == 10:\n",
    "            h = lefty[9] - lefty[10]\n",
    "            w = rightx[10] - leftx[10]\n",
    "            subject_strip_sizes.append( (w,h) )            \n",
    "        else:\n",
    "            h = (lefty[i-1] - lefty[i+1])/2\n",
    "            w = rightx[i] - leftx[i]\n",
    "            subject_strip_sizes.append( (w,h) )\n",
    "    strip_sizes[ name ] = subject_strip_sizes"
   ]
  },
  {
   "cell_type": "markdown",
   "metadata": {},
   "source": [
    "# Combine strip sizes and intercostal coords into one data frame"
   ]
  },
  {
   "cell_type": "code",
   "execution_count": 26,
   "metadata": {
    "collapsed": true
   },
   "outputs": [],
   "source": [
    "import pandas as pd"
   ]
  },
  {
   "cell_type": "code",
   "execution_count": 27,
   "metadata": {
    "collapsed": false
   },
   "outputs": [],
   "source": [
    "ic_coords = pd.DataFrame.from_dict( intercostal_locations, orient='index' )"
   ]
  },
  {
   "cell_type": "code",
   "execution_count": 28,
   "metadata": {
    "collapsed": true
   },
   "outputs": [],
   "source": [
    "strip_sizes = pd.DataFrame.from_dict( strip_sizes, orient='index' )"
   ]
  },
  {
   "cell_type": "code",
   "execution_count": 29,
   "metadata": {
    "collapsed": false
   },
   "outputs": [
    {
     "data": {
      "text/plain": [
       "True"
      ]
     },
     "execution_count": 29,
     "metadata": {},
     "output_type": "execute_result"
    }
   ],
   "source": [
    "len( strip_sizes ) == len( ic_coords)"
   ]
  },
  {
   "cell_type": "code",
   "execution_count": 30,
   "metadata": {
    "collapsed": false
   },
   "outputs": [
    {
     "data": {
      "text/plain": [
       "472"
      ]
     },
     "execution_count": 30,
     "metadata": {},
     "output_type": "execute_result"
    }
   ],
   "source": [
    "len( strip_sizes )"
   ]
  },
  {
   "cell_type": "code",
   "execution_count": 31,
   "metadata": {
    "collapsed": true
   },
   "outputs": [],
   "source": [
    "ic_coords['Subject ID'] = ic_coords.index"
   ]
  },
  {
   "cell_type": "code",
   "execution_count": 32,
   "metadata": {
    "collapsed": true
   },
   "outputs": [],
   "source": [
    "strip_sizes['Subject ID'] = strip_sizes.index"
   ]
  },
  {
   "cell_type": "markdown",
   "metadata": {},
   "source": [
    "## Some have letter attached to filename; set these aside for now"
   ]
  },
  {
   "cell_type": "code",
   "execution_count": 33,
   "metadata": {
    "collapsed": true
   },
   "outputs": [],
   "source": [
    "ic_coords_no_letter = ic_coords[ [len(name) < 7 for name in ic_coords['Subject ID'] ] ]"
   ]
  },
  {
   "cell_type": "code",
   "execution_count": 34,
   "metadata": {
    "collapsed": false
   },
   "outputs": [
    {
     "data": {
      "text/plain": [
       "430"
      ]
     },
     "execution_count": 34,
     "metadata": {},
     "output_type": "execute_result"
    }
   ],
   "source": [
    "len( ic_coords_no_letter)"
   ]
  },
  {
   "cell_type": "code",
   "execution_count": 35,
   "metadata": {
    "collapsed": false
   },
   "outputs": [
    {
     "data": {
      "text/plain": [
       "430"
      ]
     },
     "execution_count": 35,
     "metadata": {},
     "output_type": "execute_result"
    }
   ],
   "source": [
    "len( set(ic_coords_no_letter['Subject ID']) )"
   ]
  },
  {
   "cell_type": "code",
   "execution_count": 36,
   "metadata": {
    "collapsed": true
   },
   "outputs": [],
   "source": [
    "strip_sizes_no_letter = strip_sizes[ [len(name) < 7 for name in strip_sizes['Subject ID'] ] ]"
   ]
  },
  {
   "cell_type": "code",
   "execution_count": 37,
   "metadata": {
    "collapsed": false
   },
   "outputs": [
    {
     "data": {
      "text/plain": [
       "430"
      ]
     },
     "execution_count": 37,
     "metadata": {},
     "output_type": "execute_result"
    }
   ],
   "source": [
    "len( set(strip_sizes_no_letter['Subject ID']) )"
   ]
  },
  {
   "cell_type": "markdown",
   "metadata": {},
   "source": [
    "# Parse excel spreadsheet where pathology is indicated (created by Wenfeng)"
   ]
  },
  {
   "cell_type": "code",
   "execution_count": 38,
   "metadata": {
    "collapsed": false
   },
   "outputs": [
    {
     "data": {
      "text/plain": [
       "u'/Users/chris/projects/PERCH_Kenya/All_CXR'"
      ]
     },
     "execution_count": 38,
     "metadata": {},
     "output_type": "execute_result"
    }
   ],
   "source": [
    "pwd"
   ]
  },
  {
   "cell_type": "code",
   "execution_count": 39,
   "metadata": {
    "collapsed": true
   },
   "outputs": [],
   "source": [
    "import pandas as pd"
   ]
  },
  {
   "cell_type": "code",
   "execution_count": 40,
   "metadata": {
    "collapsed": false
   },
   "outputs": [],
   "source": [
    "df = pd.read_excel( '../Human_locating_abnormal_results_COLETTA_EDIT.xlsx')"
   ]
  },
  {
   "cell_type": "code",
   "execution_count": 42,
   "metadata": {
    "collapsed": false
   },
   "outputs": [
    {
     "data": {
      "text/plain": [
       "615"
      ]
     },
     "execution_count": 42,
     "metadata": {},
     "output_type": "execute_result"
    }
   ],
   "source": [
    "len(df)"
   ]
  },
  {
   "cell_type": "markdown",
   "metadata": {},
   "source": [
    "Note the misspelling \"Conslusion\" in the original file"
   ]
  },
  {
   "cell_type": "code",
   "execution_count": 43,
   "metadata": {
    "collapsed": false
   },
   "outputs": [
    {
     "data": {
      "text/plain": [
       "29"
      ]
     },
     "execution_count": 43,
     "metadata": {},
     "output_type": "execute_result"
    }
   ],
   "source": [
    "len( df[ df['Final_conslusion'] == '5 - Uninterpretable'])"
   ]
  },
  {
   "cell_type": "markdown",
   "metadata": {},
   "source": [
    "Drop the uninterpretable"
   ]
  },
  {
   "cell_type": "code",
   "execution_count": 44,
   "metadata": {
    "collapsed": true
   },
   "outputs": [],
   "source": [
    "df = df[ df['Final_conslusion'] != '5 - Uninterpretable']"
   ]
  },
  {
   "cell_type": "code",
   "execution_count": 45,
   "metadata": {
    "collapsed": false
   },
   "outputs": [
    {
     "data": {
      "text/plain": [
       "586"
      ]
     },
     "execution_count": 45,
     "metadata": {},
     "output_type": "execute_result"
    }
   ],
   "source": [
    "len(df)"
   ]
  },
  {
   "cell_type": "markdown",
   "metadata": {},
   "source": [
    "Remove rows that have a diagnosis but are undrawn"
   ]
  },
  {
   "cell_type": "code",
   "execution_count": 46,
   "metadata": {
    "collapsed": true
   },
   "outputs": [],
   "source": [
    "bad = (df['Final_conslusion'] != '4 - Normal') & (df['Draw_in_Folder'] == 'undrawn')"
   ]
  },
  {
   "cell_type": "code",
   "execution_count": 47,
   "metadata": {
    "collapsed": true
   },
   "outputs": [],
   "source": [
    "import numpy as np"
   ]
  },
  {
   "cell_type": "code",
   "execution_count": 48,
   "metadata": {
    "collapsed": false
   },
   "outputs": [],
   "source": [
    "df = df[ np.logical_not(bad) ]"
   ]
  },
  {
   "cell_type": "code",
   "execution_count": 49,
   "metadata": {
    "collapsed": false
   },
   "outputs": [
    {
     "data": {
      "text/plain": [
       "533"
      ]
     },
     "execution_count": 49,
     "metadata": {},
     "output_type": "execute_result"
    }
   ],
   "source": [
    "len(df)"
   ]
  },
  {
   "cell_type": "markdown",
   "metadata": {},
   "source": [
    "remove rows that have multiple calls"
   ]
  },
  {
   "cell_type": "code",
   "execution_count": 51,
   "metadata": {
    "collapsed": false
   },
   "outputs": [],
   "source": [
    "grouped = df.groupby( 'Subject ID' )"
   ]
  },
  {
   "cell_type": "code",
   "execution_count": 52,
   "metadata": {
    "collapsed": true
   },
   "outputs": [],
   "source": [
    "groups = grouped.__iter__()\n",
    "unique_df = pd.concat( [ g for l, g in groups if len(g) == 1] )"
   ]
  },
  {
   "cell_type": "code",
   "execution_count": 53,
   "metadata": {
    "collapsed": false
   },
   "outputs": [
    {
     "data": {
      "text/plain": [
       "519"
      ]
     },
     "execution_count": 53,
     "metadata": {},
     "output_type": "execute_result"
    }
   ],
   "source": [
    "len(unique_df)"
   ]
  },
  {
   "cell_type": "markdown",
   "metadata": {
    "collapsed": true
   },
   "source": [
    "## What is population overlap with annotated"
   ]
  },
  {
   "cell_type": "code",
   "execution_count": 61,
   "metadata": {
    "collapsed": true
   },
   "outputs": [],
   "source": [
    "have_coords = set( strip_sizes_no_letter['Subject ID'])"
   ]
  },
  {
   "cell_type": "code",
   "execution_count": 62,
   "metadata": {
    "collapsed": false
   },
   "outputs": [
    {
     "data": {
      "text/plain": [
       "430"
      ]
     },
     "execution_count": 62,
     "metadata": {},
     "output_type": "execute_result"
    }
   ],
   "source": [
    "len(have_coords)"
   ]
  },
  {
   "cell_type": "code",
   "execution_count": 63,
   "metadata": {
    "collapsed": true
   },
   "outputs": [],
   "source": [
    "intersection = unique_df[ [ name in have_coords for name in unique_df['Subject ID'] ]]"
   ]
  },
  {
   "cell_type": "code",
   "execution_count": 64,
   "metadata": {
    "collapsed": false
   },
   "outputs": [
    {
     "data": {
      "text/plain": [
       "403"
      ]
     },
     "execution_count": 64,
     "metadata": {},
     "output_type": "execute_result"
    }
   ],
   "source": [
    "len(intersection)"
   ]
  },
  {
   "cell_type": "code",
   "execution_count": 65,
   "metadata": {
    "collapsed": false
   },
   "outputs": [
    {
     "data": {
      "text/plain": [
       "4 - Normal                           209\n",
       "2 - Other infiltrate only            115\n",
       "1 - PEP only                          42\n",
       "3 - Both PEP and other infiltrate     37\n",
       "dtype: int64"
      ]
     },
     "execution_count": 65,
     "metadata": {},
     "output_type": "execute_result"
    }
   ],
   "source": [
    "intersection.Final_conslusion.value_counts()"
   ]
  },
  {
   "cell_type": "markdown",
   "metadata": {},
   "source": [
    "# Move intersection into dir called training_set"
   ]
  },
  {
   "cell_type": "code",
   "execution_count": null,
   "metadata": {
    "collapsed": true
   },
   "outputs": [],
   "source": [
    "!mkdir training_set"
   ]
  },
  {
   "cell_type": "code",
   "execution_count": 69,
   "metadata": {
    "collapsed": true
   },
   "outputs": [],
   "source": [
    "root, dirs, files = walk( '.' ).next()"
   ]
  },
  {
   "cell_type": "code",
   "execution_count": 72,
   "metadata": {
    "collapsed": false
   },
   "outputs": [
    {
     "data": {
      "text/plain": [
       "4476"
      ]
     },
     "execution_count": 72,
     "metadata": {},
     "output_type": "execute_result"
    }
   ],
   "source": [
    "len(files)"
   ]
  },
  {
   "cell_type": "code",
   "execution_count": 70,
   "metadata": {
    "collapsed": true
   },
   "outputs": [],
   "source": [
    "wanted_subjects = set(intersection['Subject ID'])"
   ]
  },
  {
   "cell_type": "code",
   "execution_count": 71,
   "metadata": {
    "collapsed": true
   },
   "outputs": [],
   "source": [
    "import shutil"
   ]
  },
  {
   "cell_type": "code",
   "execution_count": 73,
   "metadata": {
    "collapsed": false
   },
   "outputs": [],
   "source": [
    "for _file in files:\n",
    "    for subjid in wanted_subjects:\n",
    "        if _file.startswith( subjid ):\n",
    "            shutil.move( _file, 'training_set')"
   ]
  },
  {
   "cell_type": "markdown",
   "metadata": {},
   "source": [
    "## Move the rest to reserve"
   ]
  },
  {
   "cell_type": "code",
   "execution_count": 74,
   "metadata": {
    "collapsed": true
   },
   "outputs": [],
   "source": [
    "!mkdir reserve"
   ]
  },
  {
   "cell_type": "code",
   "execution_count": 75,
   "metadata": {
    "collapsed": true
   },
   "outputs": [],
   "source": [
    "root, dirs, files = walk( '.' ).next()"
   ]
  },
  {
   "cell_type": "code",
   "execution_count": 76,
   "metadata": {
    "collapsed": true
   },
   "outputs": [],
   "source": [
    "for _file in files:\n",
    "    if _file.startswith('K'):\n",
    "        shutil.move( _file, 'reserve')"
   ]
  },
  {
   "cell_type": "markdown",
   "metadata": {},
   "source": [
    "## Write the training set related tables to training_set"
   ]
  },
  {
   "cell_type": "code",
   "execution_count": 79,
   "metadata": {
    "collapsed": true
   },
   "outputs": [],
   "source": [
    "intersection.to_excel( 'training_set/Human_locating_abnormal_TRAINING_SET.xls')"
   ]
  },
  {
   "cell_type": "code",
   "execution_count": 80,
   "metadata": {
    "collapsed": true
   },
   "outputs": [],
   "source": [
    "intersection.to_csv( 'training_set/Human_locating_abnormal_TRAINING_SET.csv')"
   ]
  },
  {
   "cell_type": "code",
   "execution_count": 81,
   "metadata": {
    "collapsed": true
   },
   "outputs": [],
   "source": [
    "strip_sizes_intersection = strip_sizes_no_letter[ [name in wanted_subjects for name in strip_sizes_no_letter['Subject ID']]]"
   ]
  },
  {
   "cell_type": "code",
   "execution_count": 82,
   "metadata": {
    "collapsed": false
   },
   "outputs": [
    {
     "data": {
      "text/plain": [
       "403"
      ]
     },
     "execution_count": 82,
     "metadata": {},
     "output_type": "execute_result"
    }
   ],
   "source": [
    "len(strip_sizes_intersection)"
   ]
  },
  {
   "cell_type": "code",
   "execution_count": 83,
   "metadata": {
    "collapsed": true
   },
   "outputs": [],
   "source": [
    "strip_sizes_intersection.to_csv('training_set/strip_sizes.csv')"
   ]
  },
  {
   "cell_type": "code",
   "execution_count": 84,
   "metadata": {
    "collapsed": true
   },
   "outputs": [],
   "source": [
    "ic_coords_intersection = ic_coords_no_letter[ [name in wanted_subjects for name in ic_coords_no_letter['Subject ID']]]"
   ]
  },
  {
   "cell_type": "code",
   "execution_count": 85,
   "metadata": {
    "collapsed": false
   },
   "outputs": [
    {
     "data": {
      "text/plain": [
       "403"
      ]
     },
     "execution_count": 85,
     "metadata": {},
     "output_type": "execute_result"
    }
   ],
   "source": [
    "len( ic_coords_intersection)"
   ]
  },
  {
   "cell_type": "code",
   "execution_count": 86,
   "metadata": {
    "collapsed": true
   },
   "outputs": [],
   "source": [
    "ic_coords_intersection.to_csv('training_set/ic_coords.csv')"
   ]
  },
  {
   "cell_type": "markdown",
   "metadata": {},
   "source": [
    "## Write the remainder metadata into reserve"
   ]
  },
  {
   "cell_type": "code",
   "execution_count": 88,
   "metadata": {
    "collapsed": false
   },
   "outputs": [],
   "source": [
    "root, dirs, files = walk( './reserve' ).next()"
   ]
  },
  {
   "cell_type": "code",
   "execution_count": 89,
   "metadata": {
    "collapsed": true
   },
   "outputs": [],
   "source": [
    "reserve_tiffs = [ _ for _ in files if _.endswith('tif')]"
   ]
  },
  {
   "cell_type": "code",
   "execution_count": 90,
   "metadata": {
    "collapsed": false
   },
   "outputs": [
    {
     "data": {
      "text/plain": [
       "89"
      ]
     },
     "execution_count": 90,
     "metadata": {},
     "output_type": "execute_result"
    }
   ],
   "source": [
    "len(reserve_tiffs)"
   ]
  },
  {
   "cell_type": "code",
   "execution_count": 92,
   "metadata": {
    "collapsed": false
   },
   "outputs": [],
   "source": [
    "reserve_subjects = set([_[:6] for _ in reserve_tiffs])"
   ]
  },
  {
   "cell_type": "code",
   "execution_count": 94,
   "metadata": {
    "collapsed": false
   },
   "outputs": [
    {
     "data": {
      "text/plain": [
       "65"
      ]
     },
     "execution_count": 94,
     "metadata": {},
     "output_type": "execute_result"
    }
   ],
   "source": [
    "len( reserve_subjects )"
   ]
  },
  {
   "cell_type": "code",
   "execution_count": 95,
   "metadata": {
    "collapsed": true
   },
   "outputs": [],
   "source": [
    "df = pd.read_excel( '../Human_locating_abnormal_results_COLETTA_EDIT.xlsx')"
   ]
  },
  {
   "cell_type": "code",
   "execution_count": 96,
   "metadata": {
    "collapsed": true
   },
   "outputs": [],
   "source": [
    "reserve_df = df[ [ subj in reserve_subjects for subj in df['Subject ID'] ] ]"
   ]
  },
  {
   "cell_type": "code",
   "execution_count": 97,
   "metadata": {
    "collapsed": false
   },
   "outputs": [
    {
     "data": {
      "text/plain": [
       "67"
      ]
     },
     "execution_count": 97,
     "metadata": {},
     "output_type": "execute_result"
    }
   ],
   "source": [
    "len(reserve_df)"
   ]
  },
  {
   "cell_type": "code",
   "execution_count": 98,
   "metadata": {
    "collapsed": false
   },
   "outputs": [
    {
     "data": {
      "text/html": [
       "<div>\n",
       "<table border=\"1\" class=\"dataframe\">\n",
       "  <thead>\n",
       "    <tr style=\"text-align: right;\">\n",
       "      <th></th>\n",
       "      <th>Subject ID</th>\n",
       "      <th>CXR_ID</th>\n",
       "      <th>Draw_in_Folder</th>\n",
       "      <th>Final_conslusion</th>\n",
       "      <th>Note</th>\n",
       "      <th>Tile_1</th>\n",
       "      <th>Tile_2</th>\n",
       "      <th>Tile_3</th>\n",
       "      <th>Tile_4</th>\n",
       "      <th>Tile_5</th>\n",
       "      <th>...</th>\n",
       "      <th>Tile_13</th>\n",
       "      <th>Tile_14</th>\n",
       "      <th>Tile_15</th>\n",
       "      <th>Tile_16</th>\n",
       "      <th>Tile_17</th>\n",
       "      <th>Tile_18</th>\n",
       "      <th>Tile_19</th>\n",
       "      <th>Tile_20</th>\n",
       "      <th>Tile_21</th>\n",
       "      <th>Tile_22</th>\n",
       "    </tr>\n",
       "  </thead>\n",
       "  <tbody>\n",
       "    <tr>\n",
       "      <th>8</th>\n",
       "      <td>K00949</td>\n",
       "      <td>K00949-AP</td>\n",
       "      <td>1</td>\n",
       "      <td>1 - PEP only</td>\n",
       "      <td>NaN</td>\n",
       "      <td>NaN</td>\n",
       "      <td>NaN</td>\n",
       "      <td>NaN</td>\n",
       "      <td>NaN</td>\n",
       "      <td>NaN</td>\n",
       "      <td>...</td>\n",
       "      <td>1</td>\n",
       "      <td>1</td>\n",
       "      <td>1</td>\n",
       "      <td>1</td>\n",
       "      <td>1</td>\n",
       "      <td>1</td>\n",
       "      <td>NaN</td>\n",
       "      <td>NaN</td>\n",
       "      <td>NaN</td>\n",
       "      <td>NaN</td>\n",
       "    </tr>\n",
       "    <tr>\n",
       "      <th>9</th>\n",
       "      <td>K01020</td>\n",
       "      <td>K01020-AP</td>\n",
       "      <td>1</td>\n",
       "      <td>1 - PEP only</td>\n",
       "      <td>NaN</td>\n",
       "      <td>NaN</td>\n",
       "      <td>NaN</td>\n",
       "      <td>NaN</td>\n",
       "      <td>NaN</td>\n",
       "      <td>NaN</td>\n",
       "      <td>...</td>\n",
       "      <td>NaN</td>\n",
       "      <td>NaN</td>\n",
       "      <td>NaN</td>\n",
       "      <td>NaN</td>\n",
       "      <td>NaN</td>\n",
       "      <td>NaN</td>\n",
       "      <td>NaN</td>\n",
       "      <td>NaN</td>\n",
       "      <td>NaN</td>\n",
       "      <td>NaN</td>\n",
       "    </tr>\n",
       "    <tr>\n",
       "      <th>12</th>\n",
       "      <td>K02318</td>\n",
       "      <td>K02318-AP</td>\n",
       "      <td>1</td>\n",
       "      <td>1 - PEP only</td>\n",
       "      <td>NaN</td>\n",
       "      <td>2</td>\n",
       "      <td>1</td>\n",
       "      <td>2</td>\n",
       "      <td>NaN</td>\n",
       "      <td>NaN</td>\n",
       "      <td>...</td>\n",
       "      <td>NaN</td>\n",
       "      <td>NaN</td>\n",
       "      <td>NaN</td>\n",
       "      <td>NaN</td>\n",
       "      <td>NaN</td>\n",
       "      <td>NaN</td>\n",
       "      <td>NaN</td>\n",
       "      <td>NaN</td>\n",
       "      <td>NaN</td>\n",
       "      <td>NaN</td>\n",
       "    </tr>\n",
       "    <tr>\n",
       "      <th>13</th>\n",
       "      <td>K02345</td>\n",
       "      <td>K02345-AP</td>\n",
       "      <td>1</td>\n",
       "      <td>1 - PEP only</td>\n",
       "      <td>NaN</td>\n",
       "      <td>NaN</td>\n",
       "      <td>NaN</td>\n",
       "      <td>NaN</td>\n",
       "      <td>NaN</td>\n",
       "      <td>NaN</td>\n",
       "      <td>...</td>\n",
       "      <td>NaN</td>\n",
       "      <td>NaN</td>\n",
       "      <td>NaN</td>\n",
       "      <td>1</td>\n",
       "      <td>1</td>\n",
       "      <td>1</td>\n",
       "      <td>NaN</td>\n",
       "      <td>NaN</td>\n",
       "      <td>NaN</td>\n",
       "      <td>NaN</td>\n",
       "    </tr>\n",
       "    <tr>\n",
       "      <th>21</th>\n",
       "      <td>K03455</td>\n",
       "      <td>K03455-AP</td>\n",
       "      <td>undrawn</td>\n",
       "      <td>1 - PEP only</td>\n",
       "      <td>Unable to locate abnormal</td>\n",
       "      <td>NaN</td>\n",
       "      <td>NaN</td>\n",
       "      <td>NaN</td>\n",
       "      <td>NaN</td>\n",
       "      <td>NaN</td>\n",
       "      <td>...</td>\n",
       "      <td>NaN</td>\n",
       "      <td>NaN</td>\n",
       "      <td>NaN</td>\n",
       "      <td>NaN</td>\n",
       "      <td>NaN</td>\n",
       "      <td>NaN</td>\n",
       "      <td>NaN</td>\n",
       "      <td>NaN</td>\n",
       "      <td>NaN</td>\n",
       "      <td>NaN</td>\n",
       "    </tr>\n",
       "    <tr>\n",
       "      <th>23</th>\n",
       "      <td>K03922</td>\n",
       "      <td>K03922-AP</td>\n",
       "      <td>1</td>\n",
       "      <td>1 - PEP only</td>\n",
       "      <td>NaN</td>\n",
       "      <td>NaN</td>\n",
       "      <td>NaN</td>\n",
       "      <td>NaN</td>\n",
       "      <td>NaN</td>\n",
       "      <td>NaN</td>\n",
       "      <td>...</td>\n",
       "      <td>2</td>\n",
       "      <td>1</td>\n",
       "      <td>1</td>\n",
       "      <td>1</td>\n",
       "      <td>1</td>\n",
       "      <td>1</td>\n",
       "      <td>1</td>\n",
       "      <td>1</td>\n",
       "      <td>NaN</td>\n",
       "      <td>NaN</td>\n",
       "    </tr>\n",
       "    <tr>\n",
       "      <th>28</th>\n",
       "      <td>K04268</td>\n",
       "      <td>K04268-AP</td>\n",
       "      <td>1</td>\n",
       "      <td>1 - PEP only</td>\n",
       "      <td>NaN</td>\n",
       "      <td>NaN</td>\n",
       "      <td>NaN</td>\n",
       "      <td>NaN</td>\n",
       "      <td>NaN</td>\n",
       "      <td>NaN</td>\n",
       "      <td>...</td>\n",
       "      <td>NaN</td>\n",
       "      <td>NaN</td>\n",
       "      <td>2</td>\n",
       "      <td>1</td>\n",
       "      <td>1</td>\n",
       "      <td>1</td>\n",
       "      <td>1</td>\n",
       "      <td>1</td>\n",
       "      <td>NaN</td>\n",
       "      <td>NaN</td>\n",
       "    </tr>\n",
       "    <tr>\n",
       "      <th>31</th>\n",
       "      <td>K04661</td>\n",
       "      <td>K04661-AP</td>\n",
       "      <td>1</td>\n",
       "      <td>1 - PEP only</td>\n",
       "      <td>NaN</td>\n",
       "      <td>NaN</td>\n",
       "      <td>NaN</td>\n",
       "      <td>NaN</td>\n",
       "      <td>NaN</td>\n",
       "      <td>NaN</td>\n",
       "      <td>...</td>\n",
       "      <td>1</td>\n",
       "      <td>1</td>\n",
       "      <td>1</td>\n",
       "      <td>1</td>\n",
       "      <td>1</td>\n",
       "      <td>1</td>\n",
       "      <td>1</td>\n",
       "      <td>NaN</td>\n",
       "      <td>NaN</td>\n",
       "      <td>NaN</td>\n",
       "    </tr>\n",
       "    <tr>\n",
       "      <th>32</th>\n",
       "      <td>K04661</td>\n",
       "      <td>K04661-AP_02</td>\n",
       "      <td>1</td>\n",
       "      <td>1 - PEP only</td>\n",
       "      <td>NaN</td>\n",
       "      <td>NaN</td>\n",
       "      <td>NaN</td>\n",
       "      <td>NaN</td>\n",
       "      <td>NaN</td>\n",
       "      <td>NaN</td>\n",
       "      <td>...</td>\n",
       "      <td>1</td>\n",
       "      <td>1</td>\n",
       "      <td>1</td>\n",
       "      <td>1</td>\n",
       "      <td>1</td>\n",
       "      <td>1</td>\n",
       "      <td>1</td>\n",
       "      <td>NaN</td>\n",
       "      <td>NaN</td>\n",
       "      <td>NaN</td>\n",
       "    </tr>\n",
       "    <tr>\n",
       "      <th>34</th>\n",
       "      <td>K04861</td>\n",
       "      <td>K04861-AP</td>\n",
       "      <td>1</td>\n",
       "      <td>1 - PEP only</td>\n",
       "      <td>NaN</td>\n",
       "      <td>NaN</td>\n",
       "      <td>NaN</td>\n",
       "      <td>NaN</td>\n",
       "      <td>NaN</td>\n",
       "      <td>NaN</td>\n",
       "      <td>...</td>\n",
       "      <td>NaN</td>\n",
       "      <td>NaN</td>\n",
       "      <td>NaN</td>\n",
       "      <td>NaN</td>\n",
       "      <td>NaN</td>\n",
       "      <td>NaN</td>\n",
       "      <td>NaN</td>\n",
       "      <td>NaN</td>\n",
       "      <td>NaN</td>\n",
       "      <td>NaN</td>\n",
       "    </tr>\n",
       "    <tr>\n",
       "      <th>45</th>\n",
       "      <td>K05647</td>\n",
       "      <td>K05647-AP</td>\n",
       "      <td>1</td>\n",
       "      <td>1 - PEP only</td>\n",
       "      <td>NaN</td>\n",
       "      <td>2</td>\n",
       "      <td>1</td>\n",
       "      <td>1</td>\n",
       "      <td>NaN</td>\n",
       "      <td>NaN</td>\n",
       "      <td>...</td>\n",
       "      <td>NaN</td>\n",
       "      <td>NaN</td>\n",
       "      <td>NaN</td>\n",
       "      <td>NaN</td>\n",
       "      <td>NaN</td>\n",
       "      <td>NaN</td>\n",
       "      <td>NaN</td>\n",
       "      <td>NaN</td>\n",
       "      <td>NaN</td>\n",
       "      <td>NaN</td>\n",
       "    </tr>\n",
       "    <tr>\n",
       "      <th>62</th>\n",
       "      <td>K04605</td>\n",
       "      <td>K04605-AP_02</td>\n",
       "      <td>2</td>\n",
       "      <td>1 - PEP only</td>\n",
       "      <td>NaN</td>\n",
       "      <td>NaN</td>\n",
       "      <td>NaN</td>\n",
       "      <td>NaN</td>\n",
       "      <td>NaN</td>\n",
       "      <td>NaN</td>\n",
       "      <td>...</td>\n",
       "      <td>NaN</td>\n",
       "      <td>NaN</td>\n",
       "      <td>NaN</td>\n",
       "      <td>NaN</td>\n",
       "      <td>NaN</td>\n",
       "      <td>NaN</td>\n",
       "      <td>NaN</td>\n",
       "      <td>NaN</td>\n",
       "      <td>NaN</td>\n",
       "      <td>NaN</td>\n",
       "    </tr>\n",
       "    <tr>\n",
       "      <th>63</th>\n",
       "      <td>K04605</td>\n",
       "      <td>K04605-AP_03</td>\n",
       "      <td>undrawn</td>\n",
       "      <td>2 - Other infiltrate only</td>\n",
       "      <td>Unable to locate abnormal</td>\n",
       "      <td>NaN</td>\n",
       "      <td>NaN</td>\n",
       "      <td>NaN</td>\n",
       "      <td>NaN</td>\n",
       "      <td>NaN</td>\n",
       "      <td>...</td>\n",
       "      <td>NaN</td>\n",
       "      <td>NaN</td>\n",
       "      <td>NaN</td>\n",
       "      <td>NaN</td>\n",
       "      <td>NaN</td>\n",
       "      <td>NaN</td>\n",
       "      <td>NaN</td>\n",
       "      <td>NaN</td>\n",
       "      <td>NaN</td>\n",
       "      <td>NaN</td>\n",
       "    </tr>\n",
       "    <tr>\n",
       "      <th>64</th>\n",
       "      <td>K04605</td>\n",
       "      <td>K04605-AP</td>\n",
       "      <td>2</td>\n",
       "      <td>1 - PEP only</td>\n",
       "      <td>NaN</td>\n",
       "      <td>NaN</td>\n",
       "      <td>NaN</td>\n",
       "      <td>NaN</td>\n",
       "      <td>NaN</td>\n",
       "      <td>NaN</td>\n",
       "      <td>...</td>\n",
       "      <td>NaN</td>\n",
       "      <td>NaN</td>\n",
       "      <td>NaN</td>\n",
       "      <td>NaN</td>\n",
       "      <td>NaN</td>\n",
       "      <td>1</td>\n",
       "      <td>1</td>\n",
       "      <td>NaN</td>\n",
       "      <td>NaN</td>\n",
       "      <td>NaN</td>\n",
       "    </tr>\n",
       "    <tr>\n",
       "      <th>76</th>\n",
       "      <td>K02227</td>\n",
       "      <td>K02227-AP</td>\n",
       "      <td>1</td>\n",
       "      <td>3 - Both PEP and other infiltrate</td>\n",
       "      <td>NaN</td>\n",
       "      <td>NaN</td>\n",
       "      <td>NaN</td>\n",
       "      <td>NaN</td>\n",
       "      <td>NaN</td>\n",
       "      <td>NaN</td>\n",
       "      <td>...</td>\n",
       "      <td>NaN</td>\n",
       "      <td>NaN</td>\n",
       "      <td>NaN</td>\n",
       "      <td>2</td>\n",
       "      <td>1</td>\n",
       "      <td>1</td>\n",
       "      <td>1</td>\n",
       "      <td>1</td>\n",
       "      <td>NaN</td>\n",
       "      <td>NaN</td>\n",
       "    </tr>\n",
       "    <tr>\n",
       "      <th>77</th>\n",
       "      <td>K02349</td>\n",
       "      <td>K02349-AP</td>\n",
       "      <td>undrawn</td>\n",
       "      <td>3 - Both PEP and other infiltrate</td>\n",
       "      <td>Unable to locate abnormal</td>\n",
       "      <td>NaN</td>\n",
       "      <td>NaN</td>\n",
       "      <td>NaN</td>\n",
       "      <td>NaN</td>\n",
       "      <td>NaN</td>\n",
       "      <td>...</td>\n",
       "      <td>NaN</td>\n",
       "      <td>NaN</td>\n",
       "      <td>NaN</td>\n",
       "      <td>NaN</td>\n",
       "      <td>NaN</td>\n",
       "      <td>NaN</td>\n",
       "      <td>NaN</td>\n",
       "      <td>NaN</td>\n",
       "      <td>NaN</td>\n",
       "      <td>NaN</td>\n",
       "    </tr>\n",
       "    <tr>\n",
       "      <th>83</th>\n",
       "      <td>K02971</td>\n",
       "      <td>K02971-AP</td>\n",
       "      <td>2</td>\n",
       "      <td>3 - Both PEP and other infiltrate</td>\n",
       "      <td>NaN</td>\n",
       "      <td>NaN</td>\n",
       "      <td>NaN</td>\n",
       "      <td>3</td>\n",
       "      <td>3</td>\n",
       "      <td>3</td>\n",
       "      <td>...</td>\n",
       "      <td>NaN</td>\n",
       "      <td>NaN</td>\n",
       "      <td>NaN</td>\n",
       "      <td>3</td>\n",
       "      <td>3</td>\n",
       "      <td>3</td>\n",
       "      <td>3</td>\n",
       "      <td>3</td>\n",
       "      <td>NaN</td>\n",
       "      <td>NaN</td>\n",
       "    </tr>\n",
       "    <tr>\n",
       "      <th>89</th>\n",
       "      <td>K05049</td>\n",
       "      <td>K05049-AP</td>\n",
       "      <td>2</td>\n",
       "      <td>3 - Both PEP and other infiltrate</td>\n",
       "      <td>NaN</td>\n",
       "      <td>2</td>\n",
       "      <td>1</td>\n",
       "      <td>1</td>\n",
       "      <td>1</td>\n",
       "      <td>1</td>\n",
       "      <td>...</td>\n",
       "      <td>NaN</td>\n",
       "      <td>NaN</td>\n",
       "      <td>NaN</td>\n",
       "      <td>NaN</td>\n",
       "      <td>NaN</td>\n",
       "      <td>NaN</td>\n",
       "      <td>NaN</td>\n",
       "      <td>NaN</td>\n",
       "      <td>NaN</td>\n",
       "      <td>NaN</td>\n",
       "    </tr>\n",
       "    <tr>\n",
       "      <th>95</th>\n",
       "      <td>K05397</td>\n",
       "      <td>K05397-AP</td>\n",
       "      <td>2</td>\n",
       "      <td>3 - Both PEP and other infiltrate</td>\n",
       "      <td>NaN</td>\n",
       "      <td>NaN</td>\n",
       "      <td>NaN</td>\n",
       "      <td>4</td>\n",
       "      <td>3</td>\n",
       "      <td>3</td>\n",
       "      <td>...</td>\n",
       "      <td>NaN</td>\n",
       "      <td>NaN</td>\n",
       "      <td>4</td>\n",
       "      <td>3</td>\n",
       "      <td>3</td>\n",
       "      <td>1</td>\n",
       "      <td>1</td>\n",
       "      <td>1</td>\n",
       "      <td>NaN</td>\n",
       "      <td>NaN</td>\n",
       "    </tr>\n",
       "    <tr>\n",
       "      <th>99</th>\n",
       "      <td>K05709</td>\n",
       "      <td>K05709-AP_02</td>\n",
       "      <td>2</td>\n",
       "      <td>3 - Both PEP and other infiltrate</td>\n",
       "      <td>NaN</td>\n",
       "      <td>NaN</td>\n",
       "      <td>NaN</td>\n",
       "      <td>2</td>\n",
       "      <td>1</td>\n",
       "      <td>1</td>\n",
       "      <td>...</td>\n",
       "      <td>NaN</td>\n",
       "      <td>NaN</td>\n",
       "      <td>NaN</td>\n",
       "      <td>4</td>\n",
       "      <td>3</td>\n",
       "      <td>3</td>\n",
       "      <td>3</td>\n",
       "      <td>3</td>\n",
       "      <td>NaN</td>\n",
       "      <td>NaN</td>\n",
       "    </tr>\n",
       "    <tr>\n",
       "      <th>100</th>\n",
       "      <td>K05709</td>\n",
       "      <td>K05709-AP</td>\n",
       "      <td>2</td>\n",
       "      <td>3 - Both PEP and other infiltrate</td>\n",
       "      <td>NaN</td>\n",
       "      <td>NaN</td>\n",
       "      <td>NaN</td>\n",
       "      <td>NaN</td>\n",
       "      <td>1</td>\n",
       "      <td>1</td>\n",
       "      <td>...</td>\n",
       "      <td>NaN</td>\n",
       "      <td>3</td>\n",
       "      <td>3</td>\n",
       "      <td>3</td>\n",
       "      <td>3</td>\n",
       "      <td>3</td>\n",
       "      <td>3</td>\n",
       "      <td>3</td>\n",
       "      <td>NaN</td>\n",
       "      <td>NaN</td>\n",
       "    </tr>\n",
       "    <tr>\n",
       "      <th>155</th>\n",
       "      <td>K01804</td>\n",
       "      <td>K01804-AP</td>\n",
       "      <td>4</td>\n",
       "      <td>2 - Other infiltrate only</td>\n",
       "      <td>NaN</td>\n",
       "      <td>NaN</td>\n",
       "      <td>NaN</td>\n",
       "      <td>3</td>\n",
       "      <td>3</td>\n",
       "      <td>3</td>\n",
       "      <td>...</td>\n",
       "      <td>NaN</td>\n",
       "      <td>3</td>\n",
       "      <td>3</td>\n",
       "      <td>NaN</td>\n",
       "      <td>NaN</td>\n",
       "      <td>NaN</td>\n",
       "      <td>NaN</td>\n",
       "      <td>NaN</td>\n",
       "      <td>NaN</td>\n",
       "      <td>NaN</td>\n",
       "    </tr>\n",
       "    <tr>\n",
       "      <th>156</th>\n",
       "      <td>K01851</td>\n",
       "      <td>K01851-AP</td>\n",
       "      <td>4</td>\n",
       "      <td>2 - Other infiltrate only</td>\n",
       "      <td>NaN</td>\n",
       "      <td>NaN</td>\n",
       "      <td>NaN</td>\n",
       "      <td>NaN</td>\n",
       "      <td>NaN</td>\n",
       "      <td>NaN</td>\n",
       "      <td>...</td>\n",
       "      <td>NaN</td>\n",
       "      <td>NaN</td>\n",
       "      <td>NaN</td>\n",
       "      <td>NaN</td>\n",
       "      <td>NaN</td>\n",
       "      <td>NaN</td>\n",
       "      <td>NaN</td>\n",
       "      <td>NaN</td>\n",
       "      <td>NaN</td>\n",
       "      <td>NaN</td>\n",
       "    </tr>\n",
       "    <tr>\n",
       "      <th>176</th>\n",
       "      <td>K02737</td>\n",
       "      <td>K02737-AP</td>\n",
       "      <td>4</td>\n",
       "      <td>2 - Other infiltrate only</td>\n",
       "      <td>NaN</td>\n",
       "      <td>NaN</td>\n",
       "      <td>NaN</td>\n",
       "      <td>NaN</td>\n",
       "      <td>3</td>\n",
       "      <td>3</td>\n",
       "      <td>...</td>\n",
       "      <td>NaN</td>\n",
       "      <td>3</td>\n",
       "      <td>3</td>\n",
       "      <td>3</td>\n",
       "      <td>3</td>\n",
       "      <td>NaN</td>\n",
       "      <td>NaN</td>\n",
       "      <td>NaN</td>\n",
       "      <td>NaN</td>\n",
       "      <td>NaN</td>\n",
       "    </tr>\n",
       "    <tr>\n",
       "      <th>200</th>\n",
       "      <td>K04369</td>\n",
       "      <td>K04369-AP</td>\n",
       "      <td>undrawn</td>\n",
       "      <td>2 - Other infiltrate only</td>\n",
       "      <td>NaN</td>\n",
       "      <td>NaN</td>\n",
       "      <td>NaN</td>\n",
       "      <td>NaN</td>\n",
       "      <td>NaN</td>\n",
       "      <td>NaN</td>\n",
       "      <td>...</td>\n",
       "      <td>NaN</td>\n",
       "      <td>NaN</td>\n",
       "      <td>NaN</td>\n",
       "      <td>NaN</td>\n",
       "      <td>NaN</td>\n",
       "      <td>NaN</td>\n",
       "      <td>NaN</td>\n",
       "      <td>NaN</td>\n",
       "      <td>NaN</td>\n",
       "      <td>NaN</td>\n",
       "    </tr>\n",
       "    <tr>\n",
       "      <th>220</th>\n",
       "      <td>K05302</td>\n",
       "      <td>K05302-AP</td>\n",
       "      <td>4</td>\n",
       "      <td>2 - Other infiltrate only</td>\n",
       "      <td>NaN</td>\n",
       "      <td>NaN</td>\n",
       "      <td>4</td>\n",
       "      <td>3</td>\n",
       "      <td>3</td>\n",
       "      <td>3</td>\n",
       "      <td>...</td>\n",
       "      <td>NaN</td>\n",
       "      <td>3</td>\n",
       "      <td>3</td>\n",
       "      <td>3</td>\n",
       "      <td>3</td>\n",
       "      <td>3</td>\n",
       "      <td>3</td>\n",
       "      <td>3</td>\n",
       "      <td>NaN</td>\n",
       "      <td>NaN</td>\n",
       "    </tr>\n",
       "    <tr>\n",
       "      <th>222</th>\n",
       "      <td>K05361</td>\n",
       "      <td>K05361-AP</td>\n",
       "      <td>undrawn</td>\n",
       "      <td>2 - Other infiltrate only</td>\n",
       "      <td>Unable to locate abnormal</td>\n",
       "      <td>NaN</td>\n",
       "      <td>NaN</td>\n",
       "      <td>NaN</td>\n",
       "      <td>NaN</td>\n",
       "      <td>NaN</td>\n",
       "      <td>...</td>\n",
       "      <td>NaN</td>\n",
       "      <td>NaN</td>\n",
       "      <td>NaN</td>\n",
       "      <td>NaN</td>\n",
       "      <td>NaN</td>\n",
       "      <td>NaN</td>\n",
       "      <td>NaN</td>\n",
       "      <td>NaN</td>\n",
       "      <td>NaN</td>\n",
       "      <td>NaN</td>\n",
       "    </tr>\n",
       "    <tr>\n",
       "      <th>223</th>\n",
       "      <td>K05378</td>\n",
       "      <td>K05378-AP</td>\n",
       "      <td>4</td>\n",
       "      <td>2 - Other infiltrate only</td>\n",
       "      <td>NaN</td>\n",
       "      <td>NaN</td>\n",
       "      <td>NaN</td>\n",
       "      <td>NaN</td>\n",
       "      <td>3</td>\n",
       "      <td>3</td>\n",
       "      <td>...</td>\n",
       "      <td>NaN</td>\n",
       "      <td>NaN</td>\n",
       "      <td>NaN</td>\n",
       "      <td>NaN</td>\n",
       "      <td>NaN</td>\n",
       "      <td>NaN</td>\n",
       "      <td>NaN</td>\n",
       "      <td>NaN</td>\n",
       "      <td>NaN</td>\n",
       "      <td>NaN</td>\n",
       "    </tr>\n",
       "    <tr>\n",
       "      <th>245</th>\n",
       "      <td>K05457</td>\n",
       "      <td>K05457-AP</td>\n",
       "      <td>1&amp;2&amp;4</td>\n",
       "      <td>2 - Other infiltrate only</td>\n",
       "      <td>NaN</td>\n",
       "      <td>NaN</td>\n",
       "      <td>NaN</td>\n",
       "      <td>NaN</td>\n",
       "      <td>3</td>\n",
       "      <td>3</td>\n",
       "      <td>...</td>\n",
       "      <td>NaN</td>\n",
       "      <td>NaN</td>\n",
       "      <td>NaN</td>\n",
       "      <td>NaN</td>\n",
       "      <td>NaN</td>\n",
       "      <td>NaN</td>\n",
       "      <td>NaN</td>\n",
       "      <td>NaN</td>\n",
       "      <td>NaN</td>\n",
       "      <td>NaN</td>\n",
       "    </tr>\n",
       "    <tr>\n",
       "      <th>246</th>\n",
       "      <td>K05457</td>\n",
       "      <td>K05457-AP_02</td>\n",
       "      <td>1&amp;2</td>\n",
       "      <td>2 - Other infiltrate only</td>\n",
       "      <td>NaN</td>\n",
       "      <td>NaN</td>\n",
       "      <td>NaN</td>\n",
       "      <td>4</td>\n",
       "      <td>3</td>\n",
       "      <td>3</td>\n",
       "      <td>...</td>\n",
       "      <td>NaN</td>\n",
       "      <td>NaN</td>\n",
       "      <td>NaN</td>\n",
       "      <td>NaN</td>\n",
       "      <td>NaN</td>\n",
       "      <td>NaN</td>\n",
       "      <td>NaN</td>\n",
       "      <td>NaN</td>\n",
       "      <td>NaN</td>\n",
       "      <td>NaN</td>\n",
       "    </tr>\n",
       "    <tr>\n",
       "      <th>...</th>\n",
       "      <td>...</td>\n",
       "      <td>...</td>\n",
       "      <td>...</td>\n",
       "      <td>...</td>\n",
       "      <td>...</td>\n",
       "      <td>...</td>\n",
       "      <td>...</td>\n",
       "      <td>...</td>\n",
       "      <td>...</td>\n",
       "      <td>...</td>\n",
       "      <td>...</td>\n",
       "      <td>...</td>\n",
       "      <td>...</td>\n",
       "      <td>...</td>\n",
       "      <td>...</td>\n",
       "      <td>...</td>\n",
       "      <td>...</td>\n",
       "      <td>...</td>\n",
       "      <td>...</td>\n",
       "      <td>...</td>\n",
       "      <td>...</td>\n",
       "    </tr>\n",
       "    <tr>\n",
       "      <th>268</th>\n",
       "      <td>K02601</td>\n",
       "      <td>NaN</td>\n",
       "      <td>undrawn</td>\n",
       "      <td>2 - Other infiltrate only</td>\n",
       "      <td>NaN</td>\n",
       "      <td>NaN</td>\n",
       "      <td>NaN</td>\n",
       "      <td>NaN</td>\n",
       "      <td>NaN</td>\n",
       "      <td>NaN</td>\n",
       "      <td>...</td>\n",
       "      <td>NaN</td>\n",
       "      <td>NaN</td>\n",
       "      <td>NaN</td>\n",
       "      <td>NaN</td>\n",
       "      <td>NaN</td>\n",
       "      <td>NaN</td>\n",
       "      <td>NaN</td>\n",
       "      <td>NaN</td>\n",
       "      <td>NaN</td>\n",
       "      <td>NaN</td>\n",
       "    </tr>\n",
       "    <tr>\n",
       "      <th>269</th>\n",
       "      <td>K02640</td>\n",
       "      <td>NaN</td>\n",
       "      <td>undrawn</td>\n",
       "      <td>2 - Other infiltrate only</td>\n",
       "      <td>NaN</td>\n",
       "      <td>NaN</td>\n",
       "      <td>NaN</td>\n",
       "      <td>NaN</td>\n",
       "      <td>NaN</td>\n",
       "      <td>NaN</td>\n",
       "      <td>...</td>\n",
       "      <td>NaN</td>\n",
       "      <td>NaN</td>\n",
       "      <td>NaN</td>\n",
       "      <td>NaN</td>\n",
       "      <td>NaN</td>\n",
       "      <td>NaN</td>\n",
       "      <td>NaN</td>\n",
       "      <td>NaN</td>\n",
       "      <td>NaN</td>\n",
       "      <td>NaN</td>\n",
       "    </tr>\n",
       "    <tr>\n",
       "      <th>270</th>\n",
       "      <td>K03563</td>\n",
       "      <td>NaN</td>\n",
       "      <td>undrawn</td>\n",
       "      <td>2 - Other infiltrate only</td>\n",
       "      <td>NaN</td>\n",
       "      <td>NaN</td>\n",
       "      <td>NaN</td>\n",
       "      <td>NaN</td>\n",
       "      <td>NaN</td>\n",
       "      <td>NaN</td>\n",
       "      <td>...</td>\n",
       "      <td>NaN</td>\n",
       "      <td>NaN</td>\n",
       "      <td>NaN</td>\n",
       "      <td>NaN</td>\n",
       "      <td>NaN</td>\n",
       "      <td>NaN</td>\n",
       "      <td>NaN</td>\n",
       "      <td>NaN</td>\n",
       "      <td>NaN</td>\n",
       "      <td>NaN</td>\n",
       "    </tr>\n",
       "    <tr>\n",
       "      <th>271</th>\n",
       "      <td>K04534</td>\n",
       "      <td>NaN</td>\n",
       "      <td>undrawn</td>\n",
       "      <td>2 - Other infiltrate only</td>\n",
       "      <td>NaN</td>\n",
       "      <td>NaN</td>\n",
       "      <td>NaN</td>\n",
       "      <td>NaN</td>\n",
       "      <td>NaN</td>\n",
       "      <td>NaN</td>\n",
       "      <td>...</td>\n",
       "      <td>NaN</td>\n",
       "      <td>NaN</td>\n",
       "      <td>NaN</td>\n",
       "      <td>NaN</td>\n",
       "      <td>NaN</td>\n",
       "      <td>NaN</td>\n",
       "      <td>NaN</td>\n",
       "      <td>NaN</td>\n",
       "      <td>NaN</td>\n",
       "      <td>NaN</td>\n",
       "    </tr>\n",
       "    <tr>\n",
       "      <th>272</th>\n",
       "      <td>K05916</td>\n",
       "      <td>NaN</td>\n",
       "      <td>undrawn</td>\n",
       "      <td>2 - Other infiltrate only</td>\n",
       "      <td>NaN</td>\n",
       "      <td>NaN</td>\n",
       "      <td>NaN</td>\n",
       "      <td>NaN</td>\n",
       "      <td>NaN</td>\n",
       "      <td>NaN</td>\n",
       "      <td>...</td>\n",
       "      <td>NaN</td>\n",
       "      <td>NaN</td>\n",
       "      <td>NaN</td>\n",
       "      <td>NaN</td>\n",
       "      <td>NaN</td>\n",
       "      <td>NaN</td>\n",
       "      <td>NaN</td>\n",
       "      <td>NaN</td>\n",
       "      <td>NaN</td>\n",
       "      <td>NaN</td>\n",
       "    </tr>\n",
       "    <tr>\n",
       "      <th>291</th>\n",
       "      <td>K05677</td>\n",
       "      <td>NaN</td>\n",
       "      <td>undrawn</td>\n",
       "      <td>3 - Both PEP and other infiltrate</td>\n",
       "      <td>NaN</td>\n",
       "      <td>NaN</td>\n",
       "      <td>NaN</td>\n",
       "      <td>NaN</td>\n",
       "      <td>NaN</td>\n",
       "      <td>NaN</td>\n",
       "      <td>...</td>\n",
       "      <td>NaN</td>\n",
       "      <td>NaN</td>\n",
       "      <td>NaN</td>\n",
       "      <td>NaN</td>\n",
       "      <td>NaN</td>\n",
       "      <td>NaN</td>\n",
       "      <td>NaN</td>\n",
       "      <td>NaN</td>\n",
       "      <td>NaN</td>\n",
       "      <td>NaN</td>\n",
       "    </tr>\n",
       "    <tr>\n",
       "      <th>307</th>\n",
       "      <td>K00173</td>\n",
       "      <td>NaN</td>\n",
       "      <td>undrawn</td>\n",
       "      <td>4 - Normal</td>\n",
       "      <td>NaN</td>\n",
       "      <td>NaN</td>\n",
       "      <td>NaN</td>\n",
       "      <td>NaN</td>\n",
       "      <td>NaN</td>\n",
       "      <td>NaN</td>\n",
       "      <td>...</td>\n",
       "      <td>NaN</td>\n",
       "      <td>NaN</td>\n",
       "      <td>NaN</td>\n",
       "      <td>NaN</td>\n",
       "      <td>NaN</td>\n",
       "      <td>NaN</td>\n",
       "      <td>NaN</td>\n",
       "      <td>NaN</td>\n",
       "      <td>NaN</td>\n",
       "      <td>NaN</td>\n",
       "    </tr>\n",
       "    <tr>\n",
       "      <th>308</th>\n",
       "      <td>K00227</td>\n",
       "      <td>NaN</td>\n",
       "      <td>undrawn</td>\n",
       "      <td>4 - Normal</td>\n",
       "      <td>NaN</td>\n",
       "      <td>NaN</td>\n",
       "      <td>NaN</td>\n",
       "      <td>NaN</td>\n",
       "      <td>NaN</td>\n",
       "      <td>NaN</td>\n",
       "      <td>...</td>\n",
       "      <td>NaN</td>\n",
       "      <td>NaN</td>\n",
       "      <td>NaN</td>\n",
       "      <td>NaN</td>\n",
       "      <td>NaN</td>\n",
       "      <td>NaN</td>\n",
       "      <td>NaN</td>\n",
       "      <td>NaN</td>\n",
       "      <td>NaN</td>\n",
       "      <td>NaN</td>\n",
       "    </tr>\n",
       "    <tr>\n",
       "      <th>326</th>\n",
       "      <td>K00759</td>\n",
       "      <td>NaN</td>\n",
       "      <td>undrawn</td>\n",
       "      <td>4 - Normal</td>\n",
       "      <td>NaN</td>\n",
       "      <td>NaN</td>\n",
       "      <td>NaN</td>\n",
       "      <td>NaN</td>\n",
       "      <td>NaN</td>\n",
       "      <td>NaN</td>\n",
       "      <td>...</td>\n",
       "      <td>NaN</td>\n",
       "      <td>NaN</td>\n",
       "      <td>NaN</td>\n",
       "      <td>NaN</td>\n",
       "      <td>NaN</td>\n",
       "      <td>NaN</td>\n",
       "      <td>NaN</td>\n",
       "      <td>NaN</td>\n",
       "      <td>NaN</td>\n",
       "      <td>NaN</td>\n",
       "    </tr>\n",
       "    <tr>\n",
       "      <th>373</th>\n",
       "      <td>K01939</td>\n",
       "      <td>NaN</td>\n",
       "      <td>undrawn</td>\n",
       "      <td>4 - Normal</td>\n",
       "      <td>NaN</td>\n",
       "      <td>NaN</td>\n",
       "      <td>NaN</td>\n",
       "      <td>NaN</td>\n",
       "      <td>NaN</td>\n",
       "      <td>NaN</td>\n",
       "      <td>...</td>\n",
       "      <td>NaN</td>\n",
       "      <td>NaN</td>\n",
       "      <td>NaN</td>\n",
       "      <td>NaN</td>\n",
       "      <td>NaN</td>\n",
       "      <td>NaN</td>\n",
       "      <td>NaN</td>\n",
       "      <td>NaN</td>\n",
       "      <td>NaN</td>\n",
       "      <td>NaN</td>\n",
       "    </tr>\n",
       "    <tr>\n",
       "      <th>380</th>\n",
       "      <td>K02074</td>\n",
       "      <td>NaN</td>\n",
       "      <td>undrawn</td>\n",
       "      <td>4 - Normal</td>\n",
       "      <td>NaN</td>\n",
       "      <td>NaN</td>\n",
       "      <td>NaN</td>\n",
       "      <td>NaN</td>\n",
       "      <td>NaN</td>\n",
       "      <td>NaN</td>\n",
       "      <td>...</td>\n",
       "      <td>NaN</td>\n",
       "      <td>NaN</td>\n",
       "      <td>NaN</td>\n",
       "      <td>NaN</td>\n",
       "      <td>NaN</td>\n",
       "      <td>NaN</td>\n",
       "      <td>NaN</td>\n",
       "      <td>NaN</td>\n",
       "      <td>NaN</td>\n",
       "      <td>NaN</td>\n",
       "    </tr>\n",
       "    <tr>\n",
       "      <th>397</th>\n",
       "      <td>K02631</td>\n",
       "      <td>NaN</td>\n",
       "      <td>undrawn</td>\n",
       "      <td>4 - Normal</td>\n",
       "      <td>NaN</td>\n",
       "      <td>NaN</td>\n",
       "      <td>NaN</td>\n",
       "      <td>NaN</td>\n",
       "      <td>NaN</td>\n",
       "      <td>NaN</td>\n",
       "      <td>...</td>\n",
       "      <td>NaN</td>\n",
       "      <td>NaN</td>\n",
       "      <td>NaN</td>\n",
       "      <td>NaN</td>\n",
       "      <td>NaN</td>\n",
       "      <td>NaN</td>\n",
       "      <td>NaN</td>\n",
       "      <td>NaN</td>\n",
       "      <td>NaN</td>\n",
       "      <td>NaN</td>\n",
       "    </tr>\n",
       "    <tr>\n",
       "      <th>419</th>\n",
       "      <td>K03503</td>\n",
       "      <td>NaN</td>\n",
       "      <td>undrawn</td>\n",
       "      <td>4 - Normal</td>\n",
       "      <td>NaN</td>\n",
       "      <td>NaN</td>\n",
       "      <td>NaN</td>\n",
       "      <td>NaN</td>\n",
       "      <td>NaN</td>\n",
       "      <td>NaN</td>\n",
       "      <td>...</td>\n",
       "      <td>NaN</td>\n",
       "      <td>NaN</td>\n",
       "      <td>NaN</td>\n",
       "      <td>NaN</td>\n",
       "      <td>NaN</td>\n",
       "      <td>NaN</td>\n",
       "      <td>NaN</td>\n",
       "      <td>NaN</td>\n",
       "      <td>NaN</td>\n",
       "      <td>NaN</td>\n",
       "    </tr>\n",
       "    <tr>\n",
       "      <th>447</th>\n",
       "      <td>K04187</td>\n",
       "      <td>NaN</td>\n",
       "      <td>undrawn</td>\n",
       "      <td>4 - Normal</td>\n",
       "      <td>NaN</td>\n",
       "      <td>NaN</td>\n",
       "      <td>NaN</td>\n",
       "      <td>NaN</td>\n",
       "      <td>NaN</td>\n",
       "      <td>NaN</td>\n",
       "      <td>...</td>\n",
       "      <td>NaN</td>\n",
       "      <td>NaN</td>\n",
       "      <td>NaN</td>\n",
       "      <td>NaN</td>\n",
       "      <td>NaN</td>\n",
       "      <td>NaN</td>\n",
       "      <td>NaN</td>\n",
       "      <td>NaN</td>\n",
       "      <td>NaN</td>\n",
       "      <td>NaN</td>\n",
       "    </tr>\n",
       "    <tr>\n",
       "      <th>479</th>\n",
       "      <td>K04826</td>\n",
       "      <td>NaN</td>\n",
       "      <td>undrawn</td>\n",
       "      <td>4 - Normal</td>\n",
       "      <td>NaN</td>\n",
       "      <td>NaN</td>\n",
       "      <td>NaN</td>\n",
       "      <td>NaN</td>\n",
       "      <td>NaN</td>\n",
       "      <td>NaN</td>\n",
       "      <td>...</td>\n",
       "      <td>NaN</td>\n",
       "      <td>NaN</td>\n",
       "      <td>NaN</td>\n",
       "      <td>NaN</td>\n",
       "      <td>NaN</td>\n",
       "      <td>NaN</td>\n",
       "      <td>NaN</td>\n",
       "      <td>NaN</td>\n",
       "      <td>NaN</td>\n",
       "      <td>NaN</td>\n",
       "    </tr>\n",
       "    <tr>\n",
       "      <th>489</th>\n",
       "      <td>K05138</td>\n",
       "      <td>NaN</td>\n",
       "      <td>undrawn</td>\n",
       "      <td>4 - Normal</td>\n",
       "      <td>NaN</td>\n",
       "      <td>NaN</td>\n",
       "      <td>NaN</td>\n",
       "      <td>NaN</td>\n",
       "      <td>NaN</td>\n",
       "      <td>NaN</td>\n",
       "      <td>...</td>\n",
       "      <td>NaN</td>\n",
       "      <td>NaN</td>\n",
       "      <td>NaN</td>\n",
       "      <td>NaN</td>\n",
       "      <td>NaN</td>\n",
       "      <td>NaN</td>\n",
       "      <td>NaN</td>\n",
       "      <td>NaN</td>\n",
       "      <td>NaN</td>\n",
       "      <td>NaN</td>\n",
       "    </tr>\n",
       "    <tr>\n",
       "      <th>525</th>\n",
       "      <td>K05943</td>\n",
       "      <td>NaN</td>\n",
       "      <td>undrawn</td>\n",
       "      <td>4 - Normal</td>\n",
       "      <td>NaN</td>\n",
       "      <td>NaN</td>\n",
       "      <td>NaN</td>\n",
       "      <td>NaN</td>\n",
       "      <td>NaN</td>\n",
       "      <td>NaN</td>\n",
       "      <td>...</td>\n",
       "      <td>NaN</td>\n",
       "      <td>NaN</td>\n",
       "      <td>NaN</td>\n",
       "      <td>NaN</td>\n",
       "      <td>NaN</td>\n",
       "      <td>NaN</td>\n",
       "      <td>NaN</td>\n",
       "      <td>NaN</td>\n",
       "      <td>NaN</td>\n",
       "      <td>NaN</td>\n",
       "    </tr>\n",
       "    <tr>\n",
       "      <th>586</th>\n",
       "      <td>K00193</td>\n",
       "      <td>NaN</td>\n",
       "      <td>undrawn</td>\n",
       "      <td>5 - Uninterpretable</td>\n",
       "      <td>NaN</td>\n",
       "      <td>NaN</td>\n",
       "      <td>NaN</td>\n",
       "      <td>NaN</td>\n",
       "      <td>NaN</td>\n",
       "      <td>NaN</td>\n",
       "      <td>...</td>\n",
       "      <td>NaN</td>\n",
       "      <td>NaN</td>\n",
       "      <td>NaN</td>\n",
       "      <td>NaN</td>\n",
       "      <td>NaN</td>\n",
       "      <td>NaN</td>\n",
       "      <td>NaN</td>\n",
       "      <td>NaN</td>\n",
       "      <td>NaN</td>\n",
       "      <td>NaN</td>\n",
       "    </tr>\n",
       "    <tr>\n",
       "      <th>587</th>\n",
       "      <td>K00659</td>\n",
       "      <td>NaN</td>\n",
       "      <td>undrawn</td>\n",
       "      <td>5 - Uninterpretable</td>\n",
       "      <td>NaN</td>\n",
       "      <td>NaN</td>\n",
       "      <td>NaN</td>\n",
       "      <td>NaN</td>\n",
       "      <td>NaN</td>\n",
       "      <td>NaN</td>\n",
       "      <td>...</td>\n",
       "      <td>NaN</td>\n",
       "      <td>NaN</td>\n",
       "      <td>NaN</td>\n",
       "      <td>NaN</td>\n",
       "      <td>NaN</td>\n",
       "      <td>NaN</td>\n",
       "      <td>NaN</td>\n",
       "      <td>NaN</td>\n",
       "      <td>NaN</td>\n",
       "      <td>NaN</td>\n",
       "    </tr>\n",
       "    <tr>\n",
       "      <th>588</th>\n",
       "      <td>K00857</td>\n",
       "      <td>NaN</td>\n",
       "      <td>undrawn</td>\n",
       "      <td>5 - Uninterpretable</td>\n",
       "      <td>NaN</td>\n",
       "      <td>NaN</td>\n",
       "      <td>NaN</td>\n",
       "      <td>NaN</td>\n",
       "      <td>NaN</td>\n",
       "      <td>NaN</td>\n",
       "      <td>...</td>\n",
       "      <td>NaN</td>\n",
       "      <td>NaN</td>\n",
       "      <td>NaN</td>\n",
       "      <td>NaN</td>\n",
       "      <td>NaN</td>\n",
       "      <td>NaN</td>\n",
       "      <td>NaN</td>\n",
       "      <td>NaN</td>\n",
       "      <td>NaN</td>\n",
       "      <td>NaN</td>\n",
       "    </tr>\n",
       "    <tr>\n",
       "      <th>589</th>\n",
       "      <td>K01069</td>\n",
       "      <td>NaN</td>\n",
       "      <td>undrawn</td>\n",
       "      <td>5 - Uninterpretable</td>\n",
       "      <td>NaN</td>\n",
       "      <td>NaN</td>\n",
       "      <td>NaN</td>\n",
       "      <td>NaN</td>\n",
       "      <td>NaN</td>\n",
       "      <td>NaN</td>\n",
       "      <td>...</td>\n",
       "      <td>NaN</td>\n",
       "      <td>NaN</td>\n",
       "      <td>NaN</td>\n",
       "      <td>NaN</td>\n",
       "      <td>NaN</td>\n",
       "      <td>NaN</td>\n",
       "      <td>NaN</td>\n",
       "      <td>NaN</td>\n",
       "      <td>NaN</td>\n",
       "      <td>NaN</td>\n",
       "    </tr>\n",
       "    <tr>\n",
       "      <th>590</th>\n",
       "      <td>K02110</td>\n",
       "      <td>NaN</td>\n",
       "      <td>undrawn</td>\n",
       "      <td>5 - Uninterpretable</td>\n",
       "      <td>NaN</td>\n",
       "      <td>NaN</td>\n",
       "      <td>NaN</td>\n",
       "      <td>NaN</td>\n",
       "      <td>NaN</td>\n",
       "      <td>NaN</td>\n",
       "      <td>...</td>\n",
       "      <td>NaN</td>\n",
       "      <td>NaN</td>\n",
       "      <td>NaN</td>\n",
       "      <td>NaN</td>\n",
       "      <td>NaN</td>\n",
       "      <td>NaN</td>\n",
       "      <td>NaN</td>\n",
       "      <td>NaN</td>\n",
       "      <td>NaN</td>\n",
       "      <td>NaN</td>\n",
       "    </tr>\n",
       "    <tr>\n",
       "      <th>591</th>\n",
       "      <td>K03374</td>\n",
       "      <td>NaN</td>\n",
       "      <td>undrawn</td>\n",
       "      <td>5 - Uninterpretable</td>\n",
       "      <td>NaN</td>\n",
       "      <td>NaN</td>\n",
       "      <td>NaN</td>\n",
       "      <td>NaN</td>\n",
       "      <td>NaN</td>\n",
       "      <td>NaN</td>\n",
       "      <td>...</td>\n",
       "      <td>NaN</td>\n",
       "      <td>NaN</td>\n",
       "      <td>NaN</td>\n",
       "      <td>NaN</td>\n",
       "      <td>NaN</td>\n",
       "      <td>NaN</td>\n",
       "      <td>NaN</td>\n",
       "      <td>NaN</td>\n",
       "      <td>NaN</td>\n",
       "      <td>NaN</td>\n",
       "    </tr>\n",
       "    <tr>\n",
       "      <th>592</th>\n",
       "      <td>K04165</td>\n",
       "      <td>NaN</td>\n",
       "      <td>undrawn</td>\n",
       "      <td>5 - Uninterpretable</td>\n",
       "      <td>NaN</td>\n",
       "      <td>NaN</td>\n",
       "      <td>NaN</td>\n",
       "      <td>NaN</td>\n",
       "      <td>NaN</td>\n",
       "      <td>NaN</td>\n",
       "      <td>...</td>\n",
       "      <td>NaN</td>\n",
       "      <td>NaN</td>\n",
       "      <td>NaN</td>\n",
       "      <td>NaN</td>\n",
       "      <td>NaN</td>\n",
       "      <td>NaN</td>\n",
       "      <td>NaN</td>\n",
       "      <td>NaN</td>\n",
       "      <td>NaN</td>\n",
       "      <td>NaN</td>\n",
       "    </tr>\n",
       "    <tr>\n",
       "      <th>593</th>\n",
       "      <td>K04989</td>\n",
       "      <td>NaN</td>\n",
       "      <td>undrawn</td>\n",
       "      <td>5 - Uninterpretable</td>\n",
       "      <td>NaN</td>\n",
       "      <td>NaN</td>\n",
       "      <td>NaN</td>\n",
       "      <td>NaN</td>\n",
       "      <td>NaN</td>\n",
       "      <td>NaN</td>\n",
       "      <td>...</td>\n",
       "      <td>NaN</td>\n",
       "      <td>NaN</td>\n",
       "      <td>NaN</td>\n",
       "      <td>NaN</td>\n",
       "      <td>NaN</td>\n",
       "      <td>NaN</td>\n",
       "      <td>NaN</td>\n",
       "      <td>NaN</td>\n",
       "      <td>NaN</td>\n",
       "      <td>NaN</td>\n",
       "    </tr>\n",
       "    <tr>\n",
       "      <th>595</th>\n",
       "      <td>K05233</td>\n",
       "      <td>NaN</td>\n",
       "      <td>undrawn</td>\n",
       "      <td>5 - Uninterpretable</td>\n",
       "      <td>NaN</td>\n",
       "      <td>NaN</td>\n",
       "      <td>NaN</td>\n",
       "      <td>NaN</td>\n",
       "      <td>NaN</td>\n",
       "      <td>NaN</td>\n",
       "      <td>...</td>\n",
       "      <td>NaN</td>\n",
       "      <td>NaN</td>\n",
       "      <td>NaN</td>\n",
       "      <td>NaN</td>\n",
       "      <td>NaN</td>\n",
       "      <td>NaN</td>\n",
       "      <td>NaN</td>\n",
       "      <td>NaN</td>\n",
       "      <td>NaN</td>\n",
       "      <td>NaN</td>\n",
       "    </tr>\n",
       "    <tr>\n",
       "      <th>596</th>\n",
       "      <td>K05364</td>\n",
       "      <td>NaN</td>\n",
       "      <td>undrawn</td>\n",
       "      <td>5 - Uninterpretable</td>\n",
       "      <td>NaN</td>\n",
       "      <td>NaN</td>\n",
       "      <td>NaN</td>\n",
       "      <td>NaN</td>\n",
       "      <td>NaN</td>\n",
       "      <td>NaN</td>\n",
       "      <td>...</td>\n",
       "      <td>NaN</td>\n",
       "      <td>NaN</td>\n",
       "      <td>NaN</td>\n",
       "      <td>NaN</td>\n",
       "      <td>NaN</td>\n",
       "      <td>NaN</td>\n",
       "      <td>NaN</td>\n",
       "      <td>NaN</td>\n",
       "      <td>NaN</td>\n",
       "      <td>NaN</td>\n",
       "    </tr>\n",
       "    <tr>\n",
       "      <th>597</th>\n",
       "      <td>K05384</td>\n",
       "      <td>NaN</td>\n",
       "      <td>undrawn</td>\n",
       "      <td>5 - Uninterpretable</td>\n",
       "      <td>NaN</td>\n",
       "      <td>NaN</td>\n",
       "      <td>NaN</td>\n",
       "      <td>NaN</td>\n",
       "      <td>NaN</td>\n",
       "      <td>NaN</td>\n",
       "      <td>...</td>\n",
       "      <td>NaN</td>\n",
       "      <td>NaN</td>\n",
       "      <td>NaN</td>\n",
       "      <td>NaN</td>\n",
       "      <td>NaN</td>\n",
       "      <td>NaN</td>\n",
       "      <td>NaN</td>\n",
       "      <td>NaN</td>\n",
       "      <td>NaN</td>\n",
       "      <td>NaN</td>\n",
       "    </tr>\n",
       "    <tr>\n",
       "      <th>598</th>\n",
       "      <td>K05658</td>\n",
       "      <td>NaN</td>\n",
       "      <td>undrawn</td>\n",
       "      <td>5 - Uninterpretable</td>\n",
       "      <td>NaN</td>\n",
       "      <td>NaN</td>\n",
       "      <td>NaN</td>\n",
       "      <td>NaN</td>\n",
       "      <td>NaN</td>\n",
       "      <td>NaN</td>\n",
       "      <td>...</td>\n",
       "      <td>NaN</td>\n",
       "      <td>NaN</td>\n",
       "      <td>NaN</td>\n",
       "      <td>NaN</td>\n",
       "      <td>NaN</td>\n",
       "      <td>NaN</td>\n",
       "      <td>NaN</td>\n",
       "      <td>NaN</td>\n",
       "      <td>NaN</td>\n",
       "      <td>NaN</td>\n",
       "    </tr>\n",
       "    <tr>\n",
       "      <th>599</th>\n",
       "      <td>K05868</td>\n",
       "      <td>NaN</td>\n",
       "      <td>undrawn</td>\n",
       "      <td>5 - Uninterpretable</td>\n",
       "      <td>NaN</td>\n",
       "      <td>NaN</td>\n",
       "      <td>NaN</td>\n",
       "      <td>NaN</td>\n",
       "      <td>NaN</td>\n",
       "      <td>NaN</td>\n",
       "      <td>...</td>\n",
       "      <td>NaN</td>\n",
       "      <td>NaN</td>\n",
       "      <td>NaN</td>\n",
       "      <td>NaN</td>\n",
       "      <td>NaN</td>\n",
       "      <td>NaN</td>\n",
       "      <td>NaN</td>\n",
       "      <td>NaN</td>\n",
       "      <td>NaN</td>\n",
       "      <td>NaN</td>\n",
       "    </tr>\n",
       "  </tbody>\n",
       "</table>\n",
       "<p>67 rows × 27 columns</p>\n",
       "</div>"
      ],
      "text/plain": [
       "    Subject ID        CXR_ID Draw_in_Folder  \\\n",
       "8       K00949     K00949-AP              1   \n",
       "9       K01020     K01020-AP              1   \n",
       "12      K02318     K02318-AP              1   \n",
       "13      K02345     K02345-AP              1   \n",
       "21      K03455     K03455-AP        undrawn   \n",
       "23      K03922     K03922-AP              1   \n",
       "28      K04268     K04268-AP              1   \n",
       "31      K04661     K04661-AP              1   \n",
       "32      K04661  K04661-AP_02              1   \n",
       "34      K04861     K04861-AP              1   \n",
       "45      K05647     K05647-AP              1   \n",
       "62      K04605  K04605-AP_02              2   \n",
       "63      K04605  K04605-AP_03        undrawn   \n",
       "64      K04605     K04605-AP              2   \n",
       "76      K02227     K02227-AP              1   \n",
       "77      K02349     K02349-AP        undrawn   \n",
       "83      K02971     K02971-AP              2   \n",
       "89      K05049     K05049-AP              2   \n",
       "95      K05397     K05397-AP              2   \n",
       "99      K05709  K05709-AP_02              2   \n",
       "100     K05709     K05709-AP              2   \n",
       "155     K01804     K01804-AP              4   \n",
       "156     K01851     K01851-AP              4   \n",
       "176     K02737     K02737-AP              4   \n",
       "200     K04369     K04369-AP        undrawn   \n",
       "220     K05302     K05302-AP              4   \n",
       "222     K05361     K05361-AP        undrawn   \n",
       "223     K05378     K05378-AP              4   \n",
       "245     K05457     K05457-AP          1&2&4   \n",
       "246     K05457  K05457-AP_02            1&2   \n",
       "..         ...           ...            ...   \n",
       "268     K02601           NaN        undrawn   \n",
       "269     K02640           NaN        undrawn   \n",
       "270     K03563           NaN        undrawn   \n",
       "271     K04534           NaN        undrawn   \n",
       "272     K05916           NaN        undrawn   \n",
       "291     K05677           NaN        undrawn   \n",
       "307     K00173           NaN        undrawn   \n",
       "308     K00227           NaN        undrawn   \n",
       "326     K00759           NaN        undrawn   \n",
       "373     K01939           NaN        undrawn   \n",
       "380     K02074           NaN        undrawn   \n",
       "397     K02631           NaN        undrawn   \n",
       "419     K03503           NaN        undrawn   \n",
       "447     K04187           NaN        undrawn   \n",
       "479     K04826           NaN        undrawn   \n",
       "489     K05138           NaN        undrawn   \n",
       "525     K05943           NaN        undrawn   \n",
       "586     K00193           NaN        undrawn   \n",
       "587     K00659           NaN        undrawn   \n",
       "588     K00857           NaN        undrawn   \n",
       "589     K01069           NaN        undrawn   \n",
       "590     K02110           NaN        undrawn   \n",
       "591     K03374           NaN        undrawn   \n",
       "592     K04165           NaN        undrawn   \n",
       "593     K04989           NaN        undrawn   \n",
       "595     K05233           NaN        undrawn   \n",
       "596     K05364           NaN        undrawn   \n",
       "597     K05384           NaN        undrawn   \n",
       "598     K05658           NaN        undrawn   \n",
       "599     K05868           NaN        undrawn   \n",
       "\n",
       "                      Final_conslusion                       Note  Tile_1  \\\n",
       "8                         1 - PEP only                        NaN     NaN   \n",
       "9                         1 - PEP only                        NaN     NaN   \n",
       "12                        1 - PEP only                        NaN       2   \n",
       "13                        1 - PEP only                        NaN     NaN   \n",
       "21                        1 - PEP only  Unable to locate abnormal     NaN   \n",
       "23                        1 - PEP only                        NaN     NaN   \n",
       "28                        1 - PEP only                        NaN     NaN   \n",
       "31                        1 - PEP only                        NaN     NaN   \n",
       "32                        1 - PEP only                        NaN     NaN   \n",
       "34                        1 - PEP only                        NaN     NaN   \n",
       "45                        1 - PEP only                        NaN       2   \n",
       "62                        1 - PEP only                        NaN     NaN   \n",
       "63           2 - Other infiltrate only  Unable to locate abnormal     NaN   \n",
       "64                        1 - PEP only                        NaN     NaN   \n",
       "76   3 - Both PEP and other infiltrate                        NaN     NaN   \n",
       "77   3 - Both PEP and other infiltrate  Unable to locate abnormal     NaN   \n",
       "83   3 - Both PEP and other infiltrate                        NaN     NaN   \n",
       "89   3 - Both PEP and other infiltrate                        NaN       2   \n",
       "95   3 - Both PEP and other infiltrate                        NaN     NaN   \n",
       "99   3 - Both PEP and other infiltrate                        NaN     NaN   \n",
       "100  3 - Both PEP and other infiltrate                        NaN     NaN   \n",
       "155          2 - Other infiltrate only                        NaN     NaN   \n",
       "156          2 - Other infiltrate only                        NaN     NaN   \n",
       "176          2 - Other infiltrate only                        NaN     NaN   \n",
       "200          2 - Other infiltrate only                        NaN     NaN   \n",
       "220          2 - Other infiltrate only                        NaN     NaN   \n",
       "222          2 - Other infiltrate only  Unable to locate abnormal     NaN   \n",
       "223          2 - Other infiltrate only                        NaN     NaN   \n",
       "245          2 - Other infiltrate only                        NaN     NaN   \n",
       "246          2 - Other infiltrate only                        NaN     NaN   \n",
       "..                                 ...                        ...     ...   \n",
       "268          2 - Other infiltrate only                        NaN     NaN   \n",
       "269          2 - Other infiltrate only                        NaN     NaN   \n",
       "270          2 - Other infiltrate only                        NaN     NaN   \n",
       "271          2 - Other infiltrate only                        NaN     NaN   \n",
       "272          2 - Other infiltrate only                        NaN     NaN   \n",
       "291  3 - Both PEP and other infiltrate                        NaN     NaN   \n",
       "307                         4 - Normal                        NaN     NaN   \n",
       "308                         4 - Normal                        NaN     NaN   \n",
       "326                         4 - Normal                        NaN     NaN   \n",
       "373                         4 - Normal                        NaN     NaN   \n",
       "380                         4 - Normal                        NaN     NaN   \n",
       "397                         4 - Normal                        NaN     NaN   \n",
       "419                         4 - Normal                        NaN     NaN   \n",
       "447                         4 - Normal                        NaN     NaN   \n",
       "479                         4 - Normal                        NaN     NaN   \n",
       "489                         4 - Normal                        NaN     NaN   \n",
       "525                         4 - Normal                        NaN     NaN   \n",
       "586                5 - Uninterpretable                        NaN     NaN   \n",
       "587                5 - Uninterpretable                        NaN     NaN   \n",
       "588                5 - Uninterpretable                        NaN     NaN   \n",
       "589                5 - Uninterpretable                        NaN     NaN   \n",
       "590                5 - Uninterpretable                        NaN     NaN   \n",
       "591                5 - Uninterpretable                        NaN     NaN   \n",
       "592                5 - Uninterpretable                        NaN     NaN   \n",
       "593                5 - Uninterpretable                        NaN     NaN   \n",
       "595                5 - Uninterpretable                        NaN     NaN   \n",
       "596                5 - Uninterpretable                        NaN     NaN   \n",
       "597                5 - Uninterpretable                        NaN     NaN   \n",
       "598                5 - Uninterpretable                        NaN     NaN   \n",
       "599                5 - Uninterpretable                        NaN     NaN   \n",
       "\n",
       "     Tile_2  Tile_3  Tile_4  Tile_5   ...     Tile_13  Tile_14  Tile_15  \\\n",
       "8       NaN     NaN     NaN     NaN   ...           1        1        1   \n",
       "9       NaN     NaN     NaN     NaN   ...         NaN      NaN      NaN   \n",
       "12        1       2     NaN     NaN   ...         NaN      NaN      NaN   \n",
       "13      NaN     NaN     NaN     NaN   ...         NaN      NaN      NaN   \n",
       "21      NaN     NaN     NaN     NaN   ...         NaN      NaN      NaN   \n",
       "23      NaN     NaN     NaN     NaN   ...           2        1        1   \n",
       "28      NaN     NaN     NaN     NaN   ...         NaN      NaN        2   \n",
       "31      NaN     NaN     NaN     NaN   ...           1        1        1   \n",
       "32      NaN     NaN     NaN     NaN   ...           1        1        1   \n",
       "34      NaN     NaN     NaN     NaN   ...         NaN      NaN      NaN   \n",
       "45        1       1     NaN     NaN   ...         NaN      NaN      NaN   \n",
       "62      NaN     NaN     NaN     NaN   ...         NaN      NaN      NaN   \n",
       "63      NaN     NaN     NaN     NaN   ...         NaN      NaN      NaN   \n",
       "64      NaN     NaN     NaN     NaN   ...         NaN      NaN      NaN   \n",
       "76      NaN     NaN     NaN     NaN   ...         NaN      NaN      NaN   \n",
       "77      NaN     NaN     NaN     NaN   ...         NaN      NaN      NaN   \n",
       "83      NaN       3       3       3   ...         NaN      NaN      NaN   \n",
       "89        1       1       1       1   ...         NaN      NaN      NaN   \n",
       "95      NaN       4       3       3   ...         NaN      NaN        4   \n",
       "99      NaN       2       1       1   ...         NaN      NaN      NaN   \n",
       "100     NaN     NaN       1       1   ...         NaN        3        3   \n",
       "155     NaN       3       3       3   ...         NaN        3        3   \n",
       "156     NaN     NaN     NaN     NaN   ...         NaN      NaN      NaN   \n",
       "176     NaN     NaN       3       3   ...         NaN        3        3   \n",
       "200     NaN     NaN     NaN     NaN   ...         NaN      NaN      NaN   \n",
       "220       4       3       3       3   ...         NaN        3        3   \n",
       "222     NaN     NaN     NaN     NaN   ...         NaN      NaN      NaN   \n",
       "223     NaN     NaN       3       3   ...         NaN      NaN      NaN   \n",
       "245     NaN     NaN       3       3   ...         NaN      NaN      NaN   \n",
       "246     NaN       4       3       3   ...         NaN      NaN      NaN   \n",
       "..      ...     ...     ...     ...   ...         ...      ...      ...   \n",
       "268     NaN     NaN     NaN     NaN   ...         NaN      NaN      NaN   \n",
       "269     NaN     NaN     NaN     NaN   ...         NaN      NaN      NaN   \n",
       "270     NaN     NaN     NaN     NaN   ...         NaN      NaN      NaN   \n",
       "271     NaN     NaN     NaN     NaN   ...         NaN      NaN      NaN   \n",
       "272     NaN     NaN     NaN     NaN   ...         NaN      NaN      NaN   \n",
       "291     NaN     NaN     NaN     NaN   ...         NaN      NaN      NaN   \n",
       "307     NaN     NaN     NaN     NaN   ...         NaN      NaN      NaN   \n",
       "308     NaN     NaN     NaN     NaN   ...         NaN      NaN      NaN   \n",
       "326     NaN     NaN     NaN     NaN   ...         NaN      NaN      NaN   \n",
       "373     NaN     NaN     NaN     NaN   ...         NaN      NaN      NaN   \n",
       "380     NaN     NaN     NaN     NaN   ...         NaN      NaN      NaN   \n",
       "397     NaN     NaN     NaN     NaN   ...         NaN      NaN      NaN   \n",
       "419     NaN     NaN     NaN     NaN   ...         NaN      NaN      NaN   \n",
       "447     NaN     NaN     NaN     NaN   ...         NaN      NaN      NaN   \n",
       "479     NaN     NaN     NaN     NaN   ...         NaN      NaN      NaN   \n",
       "489     NaN     NaN     NaN     NaN   ...         NaN      NaN      NaN   \n",
       "525     NaN     NaN     NaN     NaN   ...         NaN      NaN      NaN   \n",
       "586     NaN     NaN     NaN     NaN   ...         NaN      NaN      NaN   \n",
       "587     NaN     NaN     NaN     NaN   ...         NaN      NaN      NaN   \n",
       "588     NaN     NaN     NaN     NaN   ...         NaN      NaN      NaN   \n",
       "589     NaN     NaN     NaN     NaN   ...         NaN      NaN      NaN   \n",
       "590     NaN     NaN     NaN     NaN   ...         NaN      NaN      NaN   \n",
       "591     NaN     NaN     NaN     NaN   ...         NaN      NaN      NaN   \n",
       "592     NaN     NaN     NaN     NaN   ...         NaN      NaN      NaN   \n",
       "593     NaN     NaN     NaN     NaN   ...         NaN      NaN      NaN   \n",
       "595     NaN     NaN     NaN     NaN   ...         NaN      NaN      NaN   \n",
       "596     NaN     NaN     NaN     NaN   ...         NaN      NaN      NaN   \n",
       "597     NaN     NaN     NaN     NaN   ...         NaN      NaN      NaN   \n",
       "598     NaN     NaN     NaN     NaN   ...         NaN      NaN      NaN   \n",
       "599     NaN     NaN     NaN     NaN   ...         NaN      NaN      NaN   \n",
       "\n",
       "     Tile_16  Tile_17  Tile_18  Tile_19  Tile_20  Tile_21  Tile_22  \n",
       "8          1        1        1      NaN      NaN      NaN      NaN  \n",
       "9        NaN      NaN      NaN      NaN      NaN      NaN      NaN  \n",
       "12       NaN      NaN      NaN      NaN      NaN      NaN      NaN  \n",
       "13         1        1        1      NaN      NaN      NaN      NaN  \n",
       "21       NaN      NaN      NaN      NaN      NaN      NaN      NaN  \n",
       "23         1        1        1        1        1      NaN      NaN  \n",
       "28         1        1        1        1        1      NaN      NaN  \n",
       "31         1        1        1        1      NaN      NaN      NaN  \n",
       "32         1        1        1        1      NaN      NaN      NaN  \n",
       "34       NaN      NaN      NaN      NaN      NaN      NaN      NaN  \n",
       "45       NaN      NaN      NaN      NaN      NaN      NaN      NaN  \n",
       "62       NaN      NaN      NaN      NaN      NaN      NaN      NaN  \n",
       "63       NaN      NaN      NaN      NaN      NaN      NaN      NaN  \n",
       "64       NaN      NaN        1        1      NaN      NaN      NaN  \n",
       "76         2        1        1        1        1      NaN      NaN  \n",
       "77       NaN      NaN      NaN      NaN      NaN      NaN      NaN  \n",
       "83         3        3        3        3        3      NaN      NaN  \n",
       "89       NaN      NaN      NaN      NaN      NaN      NaN      NaN  \n",
       "95         3        3        1        1        1      NaN      NaN  \n",
       "99         4        3        3        3        3      NaN      NaN  \n",
       "100        3        3        3        3        3      NaN      NaN  \n",
       "155      NaN      NaN      NaN      NaN      NaN      NaN      NaN  \n",
       "156      NaN      NaN      NaN      NaN      NaN      NaN      NaN  \n",
       "176        3        3      NaN      NaN      NaN      NaN      NaN  \n",
       "200      NaN      NaN      NaN      NaN      NaN      NaN      NaN  \n",
       "220        3        3        3        3        3      NaN      NaN  \n",
       "222      NaN      NaN      NaN      NaN      NaN      NaN      NaN  \n",
       "223      NaN      NaN      NaN      NaN      NaN      NaN      NaN  \n",
       "245      NaN      NaN      NaN      NaN      NaN      NaN      NaN  \n",
       "246      NaN      NaN      NaN      NaN      NaN      NaN      NaN  \n",
       "..       ...      ...      ...      ...      ...      ...      ...  \n",
       "268      NaN      NaN      NaN      NaN      NaN      NaN      NaN  \n",
       "269      NaN      NaN      NaN      NaN      NaN      NaN      NaN  \n",
       "270      NaN      NaN      NaN      NaN      NaN      NaN      NaN  \n",
       "271      NaN      NaN      NaN      NaN      NaN      NaN      NaN  \n",
       "272      NaN      NaN      NaN      NaN      NaN      NaN      NaN  \n",
       "291      NaN      NaN      NaN      NaN      NaN      NaN      NaN  \n",
       "307      NaN      NaN      NaN      NaN      NaN      NaN      NaN  \n",
       "308      NaN      NaN      NaN      NaN      NaN      NaN      NaN  \n",
       "326      NaN      NaN      NaN      NaN      NaN      NaN      NaN  \n",
       "373      NaN      NaN      NaN      NaN      NaN      NaN      NaN  \n",
       "380      NaN      NaN      NaN      NaN      NaN      NaN      NaN  \n",
       "397      NaN      NaN      NaN      NaN      NaN      NaN      NaN  \n",
       "419      NaN      NaN      NaN      NaN      NaN      NaN      NaN  \n",
       "447      NaN      NaN      NaN      NaN      NaN      NaN      NaN  \n",
       "479      NaN      NaN      NaN      NaN      NaN      NaN      NaN  \n",
       "489      NaN      NaN      NaN      NaN      NaN      NaN      NaN  \n",
       "525      NaN      NaN      NaN      NaN      NaN      NaN      NaN  \n",
       "586      NaN      NaN      NaN      NaN      NaN      NaN      NaN  \n",
       "587      NaN      NaN      NaN      NaN      NaN      NaN      NaN  \n",
       "588      NaN      NaN      NaN      NaN      NaN      NaN      NaN  \n",
       "589      NaN      NaN      NaN      NaN      NaN      NaN      NaN  \n",
       "590      NaN      NaN      NaN      NaN      NaN      NaN      NaN  \n",
       "591      NaN      NaN      NaN      NaN      NaN      NaN      NaN  \n",
       "592      NaN      NaN      NaN      NaN      NaN      NaN      NaN  \n",
       "593      NaN      NaN      NaN      NaN      NaN      NaN      NaN  \n",
       "595      NaN      NaN      NaN      NaN      NaN      NaN      NaN  \n",
       "596      NaN      NaN      NaN      NaN      NaN      NaN      NaN  \n",
       "597      NaN      NaN      NaN      NaN      NaN      NaN      NaN  \n",
       "598      NaN      NaN      NaN      NaN      NaN      NaN      NaN  \n",
       "599      NaN      NaN      NaN      NaN      NaN      NaN      NaN  \n",
       "\n",
       "[67 rows x 27 columns]"
      ]
     },
     "execution_count": 98,
     "metadata": {},
     "output_type": "execute_result"
    }
   ],
   "source": [
    "reserve_df"
   ]
  },
  {
   "cell_type": "code",
   "execution_count": 393,
   "metadata": {
    "collapsed": false
   },
   "outputs": [],
   "source": [
    "reserve_df.to_csv('reserve_diagnosis.csv')"
   ]
  },
  {
   "cell_type": "markdown",
   "metadata": {},
   "source": [
    "# Continue on with training_set"
   ]
  },
  {
   "cell_type": "markdown",
   "metadata": {},
   "source": [
    "Drop the columns/ modify headers to become row values"
   ]
  },
  {
   "cell_type": "code",
   "execution_count": 103,
   "metadata": {
    "collapsed": false
   },
   "outputs": [
    {
     "data": {
      "text/plain": [
       "Index([      u'Subject ID',           u'CXR_ID',   u'Draw_in_Folder',\n",
       "       u'Final_conslusion',             u'Note',           u'Tile_1',\n",
       "                 u'Tile_2',           u'Tile_3',           u'Tile_4',\n",
       "                 u'Tile_5',           u'Tile_6',           u'Tile_7',\n",
       "                 u'Tile_8',           u'Tile_9',          u'Tile_10',\n",
       "                u'Tile_11',          u'Tile_12',          u'Tile_13',\n",
       "                u'Tile_14',          u'Tile_15',          u'Tile_16',\n",
       "                u'Tile_17',          u'Tile_18',          u'Tile_19',\n",
       "                u'Tile_20',          u'Tile_21',          u'Tile_22'],\n",
       "      dtype='object')"
      ]
     },
     "execution_count": 103,
     "metadata": {},
     "output_type": "execute_result"
    }
   ],
   "source": [
    "intersection.columns"
   ]
  },
  {
   "cell_type": "code",
   "execution_count": 104,
   "metadata": {
    "collapsed": false
   },
   "outputs": [],
   "source": [
    "new_headers = []\n",
    "for header in intersection.columns:\n",
    "    if 'Tile_' in header:\n",
    "        new_headers.append( header[5:] )\n",
    "    else:\n",
    "        new_headers.append( header )  "
   ]
  },
  {
   "cell_type": "code",
   "execution_count": 105,
   "metadata": {
    "collapsed": false
   },
   "outputs": [],
   "source": [
    "intersection.columns = new_headers"
   ]
  },
  {
   "cell_type": "code",
   "execution_count": 106,
   "metadata": {
    "collapsed": false
   },
   "outputs": [
    {
     "data": {
      "text/plain": [
       "Index([      u'Subject ID',           u'CXR_ID',   u'Draw_in_Folder',\n",
       "       u'Final_conslusion',             u'Note',                u'1',\n",
       "                      u'2',                u'3',                u'4',\n",
       "                      u'5',                u'6',                u'7',\n",
       "                      u'8',                u'9',               u'10',\n",
       "                     u'11',               u'12',               u'13',\n",
       "                     u'14',               u'15',               u'16',\n",
       "                     u'17',               u'18',               u'19',\n",
       "                     u'20',               u'21',               u'22'],\n",
       "      dtype='object')"
      ]
     },
     "execution_count": 106,
     "metadata": {},
     "output_type": "execute_result"
    }
   ],
   "source": [
    "intersection.columns"
   ]
  },
  {
   "cell_type": "code",
   "execution_count": 107,
   "metadata": {
    "collapsed": true
   },
   "outputs": [],
   "source": [
    "intersection = intersection.drop( '1', 1 ).drop('2', 1).drop('10', 1).drop('11', 1).drop('12', 1).drop('13', 1).drop('21',1).drop('22',1)"
   ]
  },
  {
   "cell_type": "code",
   "execution_count": 108,
   "metadata": {
    "collapsed": false
   },
   "outputs": [
    {
     "data": {
      "text/html": [
       "<div>\n",
       "<table border=\"1\" class=\"dataframe\">\n",
       "  <thead>\n",
       "    <tr style=\"text-align: right;\">\n",
       "      <th></th>\n",
       "      <th>Subject ID</th>\n",
       "      <th>CXR_ID</th>\n",
       "      <th>Draw_in_Folder</th>\n",
       "      <th>Final_conslusion</th>\n",
       "      <th>Note</th>\n",
       "      <th>3</th>\n",
       "      <th>4</th>\n",
       "      <th>5</th>\n",
       "      <th>6</th>\n",
       "      <th>7</th>\n",
       "      <th>8</th>\n",
       "      <th>9</th>\n",
       "      <th>14</th>\n",
       "      <th>15</th>\n",
       "      <th>16</th>\n",
       "      <th>17</th>\n",
       "      <th>18</th>\n",
       "      <th>19</th>\n",
       "      <th>20</th>\n",
       "    </tr>\n",
       "  </thead>\n",
       "  <tbody>\n",
       "    <tr>\n",
       "      <th>303</th>\n",
       "      <td>K00002</td>\n",
       "      <td>NaN</td>\n",
       "      <td>undrawn</td>\n",
       "      <td>4 - Normal</td>\n",
       "      <td>NaN</td>\n",
       "      <td>NaN</td>\n",
       "      <td>NaN</td>\n",
       "      <td>NaN</td>\n",
       "      <td>NaN</td>\n",
       "      <td>NaN</td>\n",
       "      <td>NaN</td>\n",
       "      <td>NaN</td>\n",
       "      <td>NaN</td>\n",
       "      <td>NaN</td>\n",
       "      <td>NaN</td>\n",
       "      <td>NaN</td>\n",
       "      <td>NaN</td>\n",
       "      <td>NaN</td>\n",
       "      <td>NaN</td>\n",
       "    </tr>\n",
       "    <tr>\n",
       "      <th>304</th>\n",
       "      <td>K00032</td>\n",
       "      <td>NaN</td>\n",
       "      <td>undrawn</td>\n",
       "      <td>4 - Normal</td>\n",
       "      <td>NaN</td>\n",
       "      <td>NaN</td>\n",
       "      <td>NaN</td>\n",
       "      <td>NaN</td>\n",
       "      <td>NaN</td>\n",
       "      <td>NaN</td>\n",
       "      <td>NaN</td>\n",
       "      <td>NaN</td>\n",
       "      <td>NaN</td>\n",
       "      <td>NaN</td>\n",
       "      <td>NaN</td>\n",
       "      <td>NaN</td>\n",
       "      <td>NaN</td>\n",
       "      <td>NaN</td>\n",
       "      <td>NaN</td>\n",
       "    </tr>\n",
       "    <tr>\n",
       "      <th>111</th>\n",
       "      <td>K00055</td>\n",
       "      <td>K00055-AP</td>\n",
       "      <td>3</td>\n",
       "      <td>2 - Other infiltrate only</td>\n",
       "      <td>NaN</td>\n",
       "      <td>NaN</td>\n",
       "      <td>NaN</td>\n",
       "      <td>NaN</td>\n",
       "      <td>3</td>\n",
       "      <td>NaN</td>\n",
       "      <td>NaN</td>\n",
       "      <td>NaN</td>\n",
       "      <td>NaN</td>\n",
       "      <td>NaN</td>\n",
       "      <td>NaN</td>\n",
       "      <td>NaN</td>\n",
       "      <td>NaN</td>\n",
       "      <td>NaN</td>\n",
       "      <td>NaN</td>\n",
       "    </tr>\n",
       "    <tr>\n",
       "      <th>306</th>\n",
       "      <td>K00069</td>\n",
       "      <td>NaN</td>\n",
       "      <td>undrawn</td>\n",
       "      <td>4 - Normal</td>\n",
       "      <td>NaN</td>\n",
       "      <td>NaN</td>\n",
       "      <td>NaN</td>\n",
       "      <td>NaN</td>\n",
       "      <td>NaN</td>\n",
       "      <td>NaN</td>\n",
       "      <td>NaN</td>\n",
       "      <td>NaN</td>\n",
       "      <td>NaN</td>\n",
       "      <td>NaN</td>\n",
       "      <td>NaN</td>\n",
       "      <td>NaN</td>\n",
       "      <td>NaN</td>\n",
       "      <td>NaN</td>\n",
       "      <td>NaN</td>\n",
       "    </tr>\n",
       "    <tr>\n",
       "      <th>0</th>\n",
       "      <td>K00086</td>\n",
       "      <td>K00086-AP</td>\n",
       "      <td>1</td>\n",
       "      <td>1 - PEP only</td>\n",
       "      <td>NaN</td>\n",
       "      <td>NaN</td>\n",
       "      <td>1</td>\n",
       "      <td>1</td>\n",
       "      <td>NaN</td>\n",
       "      <td>NaN</td>\n",
       "      <td>NaN</td>\n",
       "      <td>NaN</td>\n",
       "      <td>NaN</td>\n",
       "      <td>NaN</td>\n",
       "      <td>NaN</td>\n",
       "      <td>NaN</td>\n",
       "      <td>NaN</td>\n",
       "      <td>NaN</td>\n",
       "      <td>NaN</td>\n",
       "    </tr>\n",
       "  </tbody>\n",
       "</table>\n",
       "</div>"
      ],
      "text/plain": [
       "    Subject ID     CXR_ID Draw_in_Folder           Final_conslusion Note   3  \\\n",
       "303     K00002        NaN        undrawn                 4 - Normal  NaN NaN   \n",
       "304     K00032        NaN        undrawn                 4 - Normal  NaN NaN   \n",
       "111     K00055  K00055-AP              3  2 - Other infiltrate only  NaN NaN   \n",
       "306     K00069        NaN        undrawn                 4 - Normal  NaN NaN   \n",
       "0       K00086  K00086-AP              1               1 - PEP only  NaN NaN   \n",
       "\n",
       "      4   5   6   7   8   9  14  15  16  17  18  19  20  \n",
       "303 NaN NaN NaN NaN NaN NaN NaN NaN NaN NaN NaN NaN NaN  \n",
       "304 NaN NaN NaN NaN NaN NaN NaN NaN NaN NaN NaN NaN NaN  \n",
       "111 NaN NaN   3 NaN NaN NaN NaN NaN NaN NaN NaN NaN NaN  \n",
       "306 NaN NaN NaN NaN NaN NaN NaN NaN NaN NaN NaN NaN NaN  \n",
       "0     1   1 NaN NaN NaN NaN NaN NaN NaN NaN NaN NaN NaN  "
      ]
     },
     "execution_count": 108,
     "metadata": {},
     "output_type": "execute_result"
    }
   ],
   "source": [
    "intersection.head()"
   ]
  },
  {
   "cell_type": "markdown",
   "metadata": {},
   "source": [
    "Use Pandas' melt() function to turn intercostal location columns into rows"
   ]
  },
  {
   "cell_type": "code",
   "execution_count": 36,
   "metadata": {
    "collapsed": true
   },
   "outputs": [],
   "source": [
    "pd.melt?"
   ]
  },
  {
   "cell_type": "code",
   "execution_count": 109,
   "metadata": {
    "collapsed": false
   },
   "outputs": [],
   "source": [
    "intersection = pd.melt( intersection, var_name='intercostal_position', value_name='diagnosis', id_vars=('Subject ID', 'CXR_ID', 'Draw_in_Folder', 'Final_conslusion','Note') )"
   ]
  },
  {
   "cell_type": "code",
   "execution_count": 110,
   "metadata": {
    "collapsed": false
   },
   "outputs": [
    {
     "data": {
      "text/html": [
       "<div>\n",
       "<table border=\"1\" class=\"dataframe\">\n",
       "  <thead>\n",
       "    <tr style=\"text-align: right;\">\n",
       "      <th></th>\n",
       "      <th>Subject ID</th>\n",
       "      <th>CXR_ID</th>\n",
       "      <th>Draw_in_Folder</th>\n",
       "      <th>Final_conslusion</th>\n",
       "      <th>Note</th>\n",
       "      <th>intercostal_position</th>\n",
       "      <th>diagnosis</th>\n",
       "    </tr>\n",
       "  </thead>\n",
       "  <tbody>\n",
       "    <tr>\n",
       "      <th>0</th>\n",
       "      <td>K00002</td>\n",
       "      <td>NaN</td>\n",
       "      <td>undrawn</td>\n",
       "      <td>4 - Normal</td>\n",
       "      <td>NaN</td>\n",
       "      <td>3</td>\n",
       "      <td>NaN</td>\n",
       "    </tr>\n",
       "    <tr>\n",
       "      <th>1</th>\n",
       "      <td>K00032</td>\n",
       "      <td>NaN</td>\n",
       "      <td>undrawn</td>\n",
       "      <td>4 - Normal</td>\n",
       "      <td>NaN</td>\n",
       "      <td>3</td>\n",
       "      <td>NaN</td>\n",
       "    </tr>\n",
       "    <tr>\n",
       "      <th>2</th>\n",
       "      <td>K00055</td>\n",
       "      <td>K00055-AP</td>\n",
       "      <td>3</td>\n",
       "      <td>2 - Other infiltrate only</td>\n",
       "      <td>NaN</td>\n",
       "      <td>3</td>\n",
       "      <td>NaN</td>\n",
       "    </tr>\n",
       "    <tr>\n",
       "      <th>3</th>\n",
       "      <td>K00069</td>\n",
       "      <td>NaN</td>\n",
       "      <td>undrawn</td>\n",
       "      <td>4 - Normal</td>\n",
       "      <td>NaN</td>\n",
       "      <td>3</td>\n",
       "      <td>NaN</td>\n",
       "    </tr>\n",
       "    <tr>\n",
       "      <th>4</th>\n",
       "      <td>K00086</td>\n",
       "      <td>K00086-AP</td>\n",
       "      <td>1</td>\n",
       "      <td>1 - PEP only</td>\n",
       "      <td>NaN</td>\n",
       "      <td>3</td>\n",
       "      <td>NaN</td>\n",
       "    </tr>\n",
       "  </tbody>\n",
       "</table>\n",
       "</div>"
      ],
      "text/plain": [
       "  Subject ID     CXR_ID Draw_in_Folder           Final_conslusion Note  \\\n",
       "0     K00002        NaN        undrawn                 4 - Normal  NaN   \n",
       "1     K00032        NaN        undrawn                 4 - Normal  NaN   \n",
       "2     K00055  K00055-AP              3  2 - Other infiltrate only  NaN   \n",
       "3     K00069        NaN        undrawn                 4 - Normal  NaN   \n",
       "4     K00086  K00086-AP              1               1 - PEP only  NaN   \n",
       "\n",
       "  intercostal_position  diagnosis  \n",
       "0                    3        NaN  \n",
       "1                    3        NaN  \n",
       "2                    3        NaN  \n",
       "3                    3        NaN  \n",
       "4                    3        NaN  "
      ]
     },
     "execution_count": 110,
     "metadata": {},
     "output_type": "execute_result"
    }
   ],
   "source": [
    "intersection.head()"
   ]
  },
  {
   "cell_type": "code",
   "execution_count": 111,
   "metadata": {
    "collapsed": true
   },
   "outputs": [],
   "source": [
    "intersection = intersection.convert_objects(convert_numeric=True)"
   ]
  },
  {
   "cell_type": "code",
   "execution_count": 112,
   "metadata": {
    "collapsed": false
   },
   "outputs": [
    {
     "data": {
      "text/html": [
       "<div>\n",
       "<table border=\"1\" class=\"dataframe\">\n",
       "  <thead>\n",
       "    <tr style=\"text-align: right;\">\n",
       "      <th></th>\n",
       "      <th>Subject ID</th>\n",
       "      <th>CXR_ID</th>\n",
       "      <th>Draw_in_Folder</th>\n",
       "      <th>Final_conslusion</th>\n",
       "      <th>Note</th>\n",
       "      <th>intercostal_position</th>\n",
       "      <th>diagnosis</th>\n",
       "    </tr>\n",
       "  </thead>\n",
       "  <tbody>\n",
       "    <tr>\n",
       "      <th>0</th>\n",
       "      <td>K00002</td>\n",
       "      <td>NaN</td>\n",
       "      <td>NaN</td>\n",
       "      <td>4 - Normal</td>\n",
       "      <td>NaN</td>\n",
       "      <td>3</td>\n",
       "      <td>NaN</td>\n",
       "    </tr>\n",
       "    <tr>\n",
       "      <th>1</th>\n",
       "      <td>K00032</td>\n",
       "      <td>NaN</td>\n",
       "      <td>NaN</td>\n",
       "      <td>4 - Normal</td>\n",
       "      <td>NaN</td>\n",
       "      <td>3</td>\n",
       "      <td>NaN</td>\n",
       "    </tr>\n",
       "    <tr>\n",
       "      <th>2</th>\n",
       "      <td>K00055</td>\n",
       "      <td>K00055-AP</td>\n",
       "      <td>3</td>\n",
       "      <td>2 - Other infiltrate only</td>\n",
       "      <td>NaN</td>\n",
       "      <td>3</td>\n",
       "      <td>NaN</td>\n",
       "    </tr>\n",
       "    <tr>\n",
       "      <th>3</th>\n",
       "      <td>K00069</td>\n",
       "      <td>NaN</td>\n",
       "      <td>NaN</td>\n",
       "      <td>4 - Normal</td>\n",
       "      <td>NaN</td>\n",
       "      <td>3</td>\n",
       "      <td>NaN</td>\n",
       "    </tr>\n",
       "    <tr>\n",
       "      <th>4</th>\n",
       "      <td>K00086</td>\n",
       "      <td>K00086-AP</td>\n",
       "      <td>1</td>\n",
       "      <td>1 - PEP only</td>\n",
       "      <td>NaN</td>\n",
       "      <td>3</td>\n",
       "      <td>NaN</td>\n",
       "    </tr>\n",
       "  </tbody>\n",
       "</table>\n",
       "</div>"
      ],
      "text/plain": [
       "  Subject ID     CXR_ID  Draw_in_Folder           Final_conslusion  Note  \\\n",
       "0     K00002        NaN             NaN                 4 - Normal   NaN   \n",
       "1     K00032        NaN             NaN                 4 - Normal   NaN   \n",
       "2     K00055  K00055-AP               3  2 - Other infiltrate only   NaN   \n",
       "3     K00069        NaN             NaN                 4 - Normal   NaN   \n",
       "4     K00086  K00086-AP               1               1 - PEP only   NaN   \n",
       "\n",
       "   intercostal_position  diagnosis  \n",
       "0                     3        NaN  \n",
       "1                     3        NaN  \n",
       "2                     3        NaN  \n",
       "3                     3        NaN  \n",
       "4                     3        NaN  "
      ]
     },
     "execution_count": 112,
     "metadata": {},
     "output_type": "execute_result"
    }
   ],
   "source": [
    "intersection.head()"
   ]
  },
  {
   "cell_type": "code",
   "execution_count": 113,
   "metadata": {
    "collapsed": false
   },
   "outputs": [
    {
     "data": {
      "text/plain": [
       "Subject ID               object\n",
       "CXR_ID                   object\n",
       "Draw_in_Folder          float64\n",
       "Final_conslusion         object\n",
       "Note                    float64\n",
       "intercostal_position      int64\n",
       "diagnosis               float64\n",
       "dtype: object"
      ]
     },
     "execution_count": 113,
     "metadata": {},
     "output_type": "execute_result"
    }
   ],
   "source": [
    "intersection.dtypes"
   ]
  },
  {
   "cell_type": "code",
   "execution_count": 114,
   "metadata": {
    "collapsed": false
   },
   "outputs": [],
   "source": [
    "intersection = intersection.sort( ['Final_conslusion', 'Subject ID', 'intercostal_position'])"
   ]
  },
  {
   "cell_type": "code",
   "execution_count": 115,
   "metadata": {
    "collapsed": false
   },
   "outputs": [
    {
     "data": {
      "text/html": [
       "<div>\n",
       "<table border=\"1\" class=\"dataframe\">\n",
       "  <thead>\n",
       "    <tr style=\"text-align: right;\">\n",
       "      <th></th>\n",
       "      <th>Subject ID</th>\n",
       "      <th>CXR_ID</th>\n",
       "      <th>Draw_in_Folder</th>\n",
       "      <th>Final_conslusion</th>\n",
       "      <th>Note</th>\n",
       "      <th>intercostal_position</th>\n",
       "      <th>diagnosis</th>\n",
       "    </tr>\n",
       "  </thead>\n",
       "  <tbody>\n",
       "    <tr>\n",
       "      <th>4</th>\n",
       "      <td>K00086</td>\n",
       "      <td>K00086-AP</td>\n",
       "      <td>1</td>\n",
       "      <td>1 - PEP only</td>\n",
       "      <td>NaN</td>\n",
       "      <td>3</td>\n",
       "      <td>NaN</td>\n",
       "    </tr>\n",
       "    <tr>\n",
       "      <th>407</th>\n",
       "      <td>K00086</td>\n",
       "      <td>K00086-AP</td>\n",
       "      <td>1</td>\n",
       "      <td>1 - PEP only</td>\n",
       "      <td>NaN</td>\n",
       "      <td>4</td>\n",
       "      <td>1</td>\n",
       "    </tr>\n",
       "    <tr>\n",
       "      <th>810</th>\n",
       "      <td>K00086</td>\n",
       "      <td>K00086-AP</td>\n",
       "      <td>1</td>\n",
       "      <td>1 - PEP only</td>\n",
       "      <td>NaN</td>\n",
       "      <td>5</td>\n",
       "      <td>1</td>\n",
       "    </tr>\n",
       "    <tr>\n",
       "      <th>1213</th>\n",
       "      <td>K00086</td>\n",
       "      <td>K00086-AP</td>\n",
       "      <td>1</td>\n",
       "      <td>1 - PEP only</td>\n",
       "      <td>NaN</td>\n",
       "      <td>6</td>\n",
       "      <td>NaN</td>\n",
       "    </tr>\n",
       "    <tr>\n",
       "      <th>1616</th>\n",
       "      <td>K00086</td>\n",
       "      <td>K00086-AP</td>\n",
       "      <td>1</td>\n",
       "      <td>1 - PEP only</td>\n",
       "      <td>NaN</td>\n",
       "      <td>7</td>\n",
       "      <td>NaN</td>\n",
       "    </tr>\n",
       "    <tr>\n",
       "      <th>2019</th>\n",
       "      <td>K00086</td>\n",
       "      <td>K00086-AP</td>\n",
       "      <td>1</td>\n",
       "      <td>1 - PEP only</td>\n",
       "      <td>NaN</td>\n",
       "      <td>8</td>\n",
       "      <td>NaN</td>\n",
       "    </tr>\n",
       "    <tr>\n",
       "      <th>2422</th>\n",
       "      <td>K00086</td>\n",
       "      <td>K00086-AP</td>\n",
       "      <td>1</td>\n",
       "      <td>1 - PEP only</td>\n",
       "      <td>NaN</td>\n",
       "      <td>9</td>\n",
       "      <td>NaN</td>\n",
       "    </tr>\n",
       "    <tr>\n",
       "      <th>2825</th>\n",
       "      <td>K00086</td>\n",
       "      <td>K00086-AP</td>\n",
       "      <td>1</td>\n",
       "      <td>1 - PEP only</td>\n",
       "      <td>NaN</td>\n",
       "      <td>14</td>\n",
       "      <td>NaN</td>\n",
       "    </tr>\n",
       "    <tr>\n",
       "      <th>3228</th>\n",
       "      <td>K00086</td>\n",
       "      <td>K00086-AP</td>\n",
       "      <td>1</td>\n",
       "      <td>1 - PEP only</td>\n",
       "      <td>NaN</td>\n",
       "      <td>15</td>\n",
       "      <td>NaN</td>\n",
       "    </tr>\n",
       "    <tr>\n",
       "      <th>3631</th>\n",
       "      <td>K00086</td>\n",
       "      <td>K00086-AP</td>\n",
       "      <td>1</td>\n",
       "      <td>1 - PEP only</td>\n",
       "      <td>NaN</td>\n",
       "      <td>16</td>\n",
       "      <td>NaN</td>\n",
       "    </tr>\n",
       "    <tr>\n",
       "      <th>4034</th>\n",
       "      <td>K00086</td>\n",
       "      <td>K00086-AP</td>\n",
       "      <td>1</td>\n",
       "      <td>1 - PEP only</td>\n",
       "      <td>NaN</td>\n",
       "      <td>17</td>\n",
       "      <td>NaN</td>\n",
       "    </tr>\n",
       "    <tr>\n",
       "      <th>4437</th>\n",
       "      <td>K00086</td>\n",
       "      <td>K00086-AP</td>\n",
       "      <td>1</td>\n",
       "      <td>1 - PEP only</td>\n",
       "      <td>NaN</td>\n",
       "      <td>18</td>\n",
       "      <td>NaN</td>\n",
       "    </tr>\n",
       "    <tr>\n",
       "      <th>4840</th>\n",
       "      <td>K00086</td>\n",
       "      <td>K00086-AP</td>\n",
       "      <td>1</td>\n",
       "      <td>1 - PEP only</td>\n",
       "      <td>NaN</td>\n",
       "      <td>19</td>\n",
       "      <td>NaN</td>\n",
       "    </tr>\n",
       "    <tr>\n",
       "      <th>5243</th>\n",
       "      <td>K00086</td>\n",
       "      <td>K00086-AP</td>\n",
       "      <td>1</td>\n",
       "      <td>1 - PEP only</td>\n",
       "      <td>NaN</td>\n",
       "      <td>20</td>\n",
       "      <td>NaN</td>\n",
       "    </tr>\n",
       "    <tr>\n",
       "      <th>8</th>\n",
       "      <td>K00142</td>\n",
       "      <td>K00142-AP</td>\n",
       "      <td>NaN</td>\n",
       "      <td>1 - PEP only</td>\n",
       "      <td>NaN</td>\n",
       "      <td>3</td>\n",
       "      <td>NaN</td>\n",
       "    </tr>\n",
       "    <tr>\n",
       "      <th>411</th>\n",
       "      <td>K00142</td>\n",
       "      <td>K00142-AP</td>\n",
       "      <td>NaN</td>\n",
       "      <td>1 - PEP only</td>\n",
       "      <td>NaN</td>\n",
       "      <td>4</td>\n",
       "      <td>1</td>\n",
       "    </tr>\n",
       "    <tr>\n",
       "      <th>814</th>\n",
       "      <td>K00142</td>\n",
       "      <td>K00142-AP</td>\n",
       "      <td>NaN</td>\n",
       "      <td>1 - PEP only</td>\n",
       "      <td>NaN</td>\n",
       "      <td>5</td>\n",
       "      <td>1</td>\n",
       "    </tr>\n",
       "    <tr>\n",
       "      <th>1217</th>\n",
       "      <td>K00142</td>\n",
       "      <td>K00142-AP</td>\n",
       "      <td>NaN</td>\n",
       "      <td>1 - PEP only</td>\n",
       "      <td>NaN</td>\n",
       "      <td>6</td>\n",
       "      <td>1</td>\n",
       "    </tr>\n",
       "    <tr>\n",
       "      <th>1620</th>\n",
       "      <td>K00142</td>\n",
       "      <td>K00142-AP</td>\n",
       "      <td>NaN</td>\n",
       "      <td>1 - PEP only</td>\n",
       "      <td>NaN</td>\n",
       "      <td>7</td>\n",
       "      <td>NaN</td>\n",
       "    </tr>\n",
       "    <tr>\n",
       "      <th>2023</th>\n",
       "      <td>K00142</td>\n",
       "      <td>K00142-AP</td>\n",
       "      <td>NaN</td>\n",
       "      <td>1 - PEP only</td>\n",
       "      <td>NaN</td>\n",
       "      <td>8</td>\n",
       "      <td>NaN</td>\n",
       "    </tr>\n",
       "    <tr>\n",
       "      <th>2426</th>\n",
       "      <td>K00142</td>\n",
       "      <td>K00142-AP</td>\n",
       "      <td>NaN</td>\n",
       "      <td>1 - PEP only</td>\n",
       "      <td>NaN</td>\n",
       "      <td>9</td>\n",
       "      <td>NaN</td>\n",
       "    </tr>\n",
       "    <tr>\n",
       "      <th>2829</th>\n",
       "      <td>K00142</td>\n",
       "      <td>K00142-AP</td>\n",
       "      <td>NaN</td>\n",
       "      <td>1 - PEP only</td>\n",
       "      <td>NaN</td>\n",
       "      <td>14</td>\n",
       "      <td>NaN</td>\n",
       "    </tr>\n",
       "    <tr>\n",
       "      <th>3232</th>\n",
       "      <td>K00142</td>\n",
       "      <td>K00142-AP</td>\n",
       "      <td>NaN</td>\n",
       "      <td>1 - PEP only</td>\n",
       "      <td>NaN</td>\n",
       "      <td>15</td>\n",
       "      <td>NaN</td>\n",
       "    </tr>\n",
       "    <tr>\n",
       "      <th>3635</th>\n",
       "      <td>K00142</td>\n",
       "      <td>K00142-AP</td>\n",
       "      <td>NaN</td>\n",
       "      <td>1 - PEP only</td>\n",
       "      <td>NaN</td>\n",
       "      <td>16</td>\n",
       "      <td>1</td>\n",
       "    </tr>\n",
       "    <tr>\n",
       "      <th>4038</th>\n",
       "      <td>K00142</td>\n",
       "      <td>K00142-AP</td>\n",
       "      <td>NaN</td>\n",
       "      <td>1 - PEP only</td>\n",
       "      <td>NaN</td>\n",
       "      <td>17</td>\n",
       "      <td>1</td>\n",
       "    </tr>\n",
       "    <tr>\n",
       "      <th>4441</th>\n",
       "      <td>K00142</td>\n",
       "      <td>K00142-AP</td>\n",
       "      <td>NaN</td>\n",
       "      <td>1 - PEP only</td>\n",
       "      <td>NaN</td>\n",
       "      <td>18</td>\n",
       "      <td>1</td>\n",
       "    </tr>\n",
       "    <tr>\n",
       "      <th>4844</th>\n",
       "      <td>K00142</td>\n",
       "      <td>K00142-AP</td>\n",
       "      <td>NaN</td>\n",
       "      <td>1 - PEP only</td>\n",
       "      <td>NaN</td>\n",
       "      <td>19</td>\n",
       "      <td>1</td>\n",
       "    </tr>\n",
       "    <tr>\n",
       "      <th>5247</th>\n",
       "      <td>K00142</td>\n",
       "      <td>K00142-AP</td>\n",
       "      <td>NaN</td>\n",
       "      <td>1 - PEP only</td>\n",
       "      <td>NaN</td>\n",
       "      <td>20</td>\n",
       "      <td>NaN</td>\n",
       "    </tr>\n",
       "    <tr>\n",
       "      <th>11</th>\n",
       "      <td>K00250</td>\n",
       "      <td>K00250-AP</td>\n",
       "      <td>1</td>\n",
       "      <td>1 - PEP only</td>\n",
       "      <td>NaN</td>\n",
       "      <td>3</td>\n",
       "      <td>1</td>\n",
       "    </tr>\n",
       "    <tr>\n",
       "      <th>414</th>\n",
       "      <td>K00250</td>\n",
       "      <td>K00250-AP</td>\n",
       "      <td>1</td>\n",
       "      <td>1 - PEP only</td>\n",
       "      <td>NaN</td>\n",
       "      <td>4</td>\n",
       "      <td>1</td>\n",
       "    </tr>\n",
       "    <tr>\n",
       "      <th>...</th>\n",
       "      <td>...</td>\n",
       "      <td>...</td>\n",
       "      <td>...</td>\n",
       "      <td>...</td>\n",
       "      <td>...</td>\n",
       "      <td>...</td>\n",
       "      <td>...</td>\n",
       "    </tr>\n",
       "    <tr>\n",
       "      <th>5233</th>\n",
       "      <td>K05934</td>\n",
       "      <td>NaN</td>\n",
       "      <td>NaN</td>\n",
       "      <td>4 - Normal</td>\n",
       "      <td>NaN</td>\n",
       "      <td>19</td>\n",
       "      <td>NaN</td>\n",
       "    </tr>\n",
       "    <tr>\n",
       "      <th>5636</th>\n",
       "      <td>K05934</td>\n",
       "      <td>NaN</td>\n",
       "      <td>NaN</td>\n",
       "      <td>4 - Normal</td>\n",
       "      <td>NaN</td>\n",
       "      <td>20</td>\n",
       "      <td>NaN</td>\n",
       "    </tr>\n",
       "    <tr>\n",
       "      <th>399</th>\n",
       "      <td>K05970</td>\n",
       "      <td>NaN</td>\n",
       "      <td>NaN</td>\n",
       "      <td>4 - Normal</td>\n",
       "      <td>NaN</td>\n",
       "      <td>3</td>\n",
       "      <td>NaN</td>\n",
       "    </tr>\n",
       "    <tr>\n",
       "      <th>802</th>\n",
       "      <td>K05970</td>\n",
       "      <td>NaN</td>\n",
       "      <td>NaN</td>\n",
       "      <td>4 - Normal</td>\n",
       "      <td>NaN</td>\n",
       "      <td>4</td>\n",
       "      <td>NaN</td>\n",
       "    </tr>\n",
       "    <tr>\n",
       "      <th>1205</th>\n",
       "      <td>K05970</td>\n",
       "      <td>NaN</td>\n",
       "      <td>NaN</td>\n",
       "      <td>4 - Normal</td>\n",
       "      <td>NaN</td>\n",
       "      <td>5</td>\n",
       "      <td>NaN</td>\n",
       "    </tr>\n",
       "    <tr>\n",
       "      <th>1608</th>\n",
       "      <td>K05970</td>\n",
       "      <td>NaN</td>\n",
       "      <td>NaN</td>\n",
       "      <td>4 - Normal</td>\n",
       "      <td>NaN</td>\n",
       "      <td>6</td>\n",
       "      <td>NaN</td>\n",
       "    </tr>\n",
       "    <tr>\n",
       "      <th>2011</th>\n",
       "      <td>K05970</td>\n",
       "      <td>NaN</td>\n",
       "      <td>NaN</td>\n",
       "      <td>4 - Normal</td>\n",
       "      <td>NaN</td>\n",
       "      <td>7</td>\n",
       "      <td>NaN</td>\n",
       "    </tr>\n",
       "    <tr>\n",
       "      <th>2414</th>\n",
       "      <td>K05970</td>\n",
       "      <td>NaN</td>\n",
       "      <td>NaN</td>\n",
       "      <td>4 - Normal</td>\n",
       "      <td>NaN</td>\n",
       "      <td>8</td>\n",
       "      <td>NaN</td>\n",
       "    </tr>\n",
       "    <tr>\n",
       "      <th>2817</th>\n",
       "      <td>K05970</td>\n",
       "      <td>NaN</td>\n",
       "      <td>NaN</td>\n",
       "      <td>4 - Normal</td>\n",
       "      <td>NaN</td>\n",
       "      <td>9</td>\n",
       "      <td>NaN</td>\n",
       "    </tr>\n",
       "    <tr>\n",
       "      <th>3220</th>\n",
       "      <td>K05970</td>\n",
       "      <td>NaN</td>\n",
       "      <td>NaN</td>\n",
       "      <td>4 - Normal</td>\n",
       "      <td>NaN</td>\n",
       "      <td>14</td>\n",
       "      <td>NaN</td>\n",
       "    </tr>\n",
       "    <tr>\n",
       "      <th>3623</th>\n",
       "      <td>K05970</td>\n",
       "      <td>NaN</td>\n",
       "      <td>NaN</td>\n",
       "      <td>4 - Normal</td>\n",
       "      <td>NaN</td>\n",
       "      <td>15</td>\n",
       "      <td>NaN</td>\n",
       "    </tr>\n",
       "    <tr>\n",
       "      <th>4026</th>\n",
       "      <td>K05970</td>\n",
       "      <td>NaN</td>\n",
       "      <td>NaN</td>\n",
       "      <td>4 - Normal</td>\n",
       "      <td>NaN</td>\n",
       "      <td>16</td>\n",
       "      <td>NaN</td>\n",
       "    </tr>\n",
       "    <tr>\n",
       "      <th>4429</th>\n",
       "      <td>K05970</td>\n",
       "      <td>NaN</td>\n",
       "      <td>NaN</td>\n",
       "      <td>4 - Normal</td>\n",
       "      <td>NaN</td>\n",
       "      <td>17</td>\n",
       "      <td>NaN</td>\n",
       "    </tr>\n",
       "    <tr>\n",
       "      <th>4832</th>\n",
       "      <td>K05970</td>\n",
       "      <td>NaN</td>\n",
       "      <td>NaN</td>\n",
       "      <td>4 - Normal</td>\n",
       "      <td>NaN</td>\n",
       "      <td>18</td>\n",
       "      <td>NaN</td>\n",
       "    </tr>\n",
       "    <tr>\n",
       "      <th>5235</th>\n",
       "      <td>K05970</td>\n",
       "      <td>NaN</td>\n",
       "      <td>NaN</td>\n",
       "      <td>4 - Normal</td>\n",
       "      <td>NaN</td>\n",
       "      <td>19</td>\n",
       "      <td>NaN</td>\n",
       "    </tr>\n",
       "    <tr>\n",
       "      <th>5638</th>\n",
       "      <td>K05970</td>\n",
       "      <td>NaN</td>\n",
       "      <td>NaN</td>\n",
       "      <td>4 - Normal</td>\n",
       "      <td>NaN</td>\n",
       "      <td>20</td>\n",
       "      <td>NaN</td>\n",
       "    </tr>\n",
       "    <tr>\n",
       "      <th>402</th>\n",
       "      <td>K05986</td>\n",
       "      <td>NaN</td>\n",
       "      <td>NaN</td>\n",
       "      <td>4 - Normal</td>\n",
       "      <td>NaN</td>\n",
       "      <td>3</td>\n",
       "      <td>NaN</td>\n",
       "    </tr>\n",
       "    <tr>\n",
       "      <th>805</th>\n",
       "      <td>K05986</td>\n",
       "      <td>NaN</td>\n",
       "      <td>NaN</td>\n",
       "      <td>4 - Normal</td>\n",
       "      <td>NaN</td>\n",
       "      <td>4</td>\n",
       "      <td>NaN</td>\n",
       "    </tr>\n",
       "    <tr>\n",
       "      <th>1208</th>\n",
       "      <td>K05986</td>\n",
       "      <td>NaN</td>\n",
       "      <td>NaN</td>\n",
       "      <td>4 - Normal</td>\n",
       "      <td>NaN</td>\n",
       "      <td>5</td>\n",
       "      <td>NaN</td>\n",
       "    </tr>\n",
       "    <tr>\n",
       "      <th>1611</th>\n",
       "      <td>K05986</td>\n",
       "      <td>NaN</td>\n",
       "      <td>NaN</td>\n",
       "      <td>4 - Normal</td>\n",
       "      <td>NaN</td>\n",
       "      <td>6</td>\n",
       "      <td>NaN</td>\n",
       "    </tr>\n",
       "    <tr>\n",
       "      <th>2014</th>\n",
       "      <td>K05986</td>\n",
       "      <td>NaN</td>\n",
       "      <td>NaN</td>\n",
       "      <td>4 - Normal</td>\n",
       "      <td>NaN</td>\n",
       "      <td>7</td>\n",
       "      <td>NaN</td>\n",
       "    </tr>\n",
       "    <tr>\n",
       "      <th>2417</th>\n",
       "      <td>K05986</td>\n",
       "      <td>NaN</td>\n",
       "      <td>NaN</td>\n",
       "      <td>4 - Normal</td>\n",
       "      <td>NaN</td>\n",
       "      <td>8</td>\n",
       "      <td>NaN</td>\n",
       "    </tr>\n",
       "    <tr>\n",
       "      <th>2820</th>\n",
       "      <td>K05986</td>\n",
       "      <td>NaN</td>\n",
       "      <td>NaN</td>\n",
       "      <td>4 - Normal</td>\n",
       "      <td>NaN</td>\n",
       "      <td>9</td>\n",
       "      <td>NaN</td>\n",
       "    </tr>\n",
       "    <tr>\n",
       "      <th>3223</th>\n",
       "      <td>K05986</td>\n",
       "      <td>NaN</td>\n",
       "      <td>NaN</td>\n",
       "      <td>4 - Normal</td>\n",
       "      <td>NaN</td>\n",
       "      <td>14</td>\n",
       "      <td>NaN</td>\n",
       "    </tr>\n",
       "    <tr>\n",
       "      <th>3626</th>\n",
       "      <td>K05986</td>\n",
       "      <td>NaN</td>\n",
       "      <td>NaN</td>\n",
       "      <td>4 - Normal</td>\n",
       "      <td>NaN</td>\n",
       "      <td>15</td>\n",
       "      <td>NaN</td>\n",
       "    </tr>\n",
       "    <tr>\n",
       "      <th>4029</th>\n",
       "      <td>K05986</td>\n",
       "      <td>NaN</td>\n",
       "      <td>NaN</td>\n",
       "      <td>4 - Normal</td>\n",
       "      <td>NaN</td>\n",
       "      <td>16</td>\n",
       "      <td>NaN</td>\n",
       "    </tr>\n",
       "    <tr>\n",
       "      <th>4432</th>\n",
       "      <td>K05986</td>\n",
       "      <td>NaN</td>\n",
       "      <td>NaN</td>\n",
       "      <td>4 - Normal</td>\n",
       "      <td>NaN</td>\n",
       "      <td>17</td>\n",
       "      <td>NaN</td>\n",
       "    </tr>\n",
       "    <tr>\n",
       "      <th>4835</th>\n",
       "      <td>K05986</td>\n",
       "      <td>NaN</td>\n",
       "      <td>NaN</td>\n",
       "      <td>4 - Normal</td>\n",
       "      <td>NaN</td>\n",
       "      <td>18</td>\n",
       "      <td>NaN</td>\n",
       "    </tr>\n",
       "    <tr>\n",
       "      <th>5238</th>\n",
       "      <td>K05986</td>\n",
       "      <td>NaN</td>\n",
       "      <td>NaN</td>\n",
       "      <td>4 - Normal</td>\n",
       "      <td>NaN</td>\n",
       "      <td>19</td>\n",
       "      <td>NaN</td>\n",
       "    </tr>\n",
       "    <tr>\n",
       "      <th>5641</th>\n",
       "      <td>K05986</td>\n",
       "      <td>NaN</td>\n",
       "      <td>NaN</td>\n",
       "      <td>4 - Normal</td>\n",
       "      <td>NaN</td>\n",
       "      <td>20</td>\n",
       "      <td>NaN</td>\n",
       "    </tr>\n",
       "  </tbody>\n",
       "</table>\n",
       "<p>5642 rows × 7 columns</p>\n",
       "</div>"
      ],
      "text/plain": [
       "     Subject ID     CXR_ID  Draw_in_Folder Final_conslusion  Note  \\\n",
       "4        K00086  K00086-AP               1     1 - PEP only   NaN   \n",
       "407      K00086  K00086-AP               1     1 - PEP only   NaN   \n",
       "810      K00086  K00086-AP               1     1 - PEP only   NaN   \n",
       "1213     K00086  K00086-AP               1     1 - PEP only   NaN   \n",
       "1616     K00086  K00086-AP               1     1 - PEP only   NaN   \n",
       "2019     K00086  K00086-AP               1     1 - PEP only   NaN   \n",
       "2422     K00086  K00086-AP               1     1 - PEP only   NaN   \n",
       "2825     K00086  K00086-AP               1     1 - PEP only   NaN   \n",
       "3228     K00086  K00086-AP               1     1 - PEP only   NaN   \n",
       "3631     K00086  K00086-AP               1     1 - PEP only   NaN   \n",
       "4034     K00086  K00086-AP               1     1 - PEP only   NaN   \n",
       "4437     K00086  K00086-AP               1     1 - PEP only   NaN   \n",
       "4840     K00086  K00086-AP               1     1 - PEP only   NaN   \n",
       "5243     K00086  K00086-AP               1     1 - PEP only   NaN   \n",
       "8        K00142  K00142-AP             NaN     1 - PEP only   NaN   \n",
       "411      K00142  K00142-AP             NaN     1 - PEP only   NaN   \n",
       "814      K00142  K00142-AP             NaN     1 - PEP only   NaN   \n",
       "1217     K00142  K00142-AP             NaN     1 - PEP only   NaN   \n",
       "1620     K00142  K00142-AP             NaN     1 - PEP only   NaN   \n",
       "2023     K00142  K00142-AP             NaN     1 - PEP only   NaN   \n",
       "2426     K00142  K00142-AP             NaN     1 - PEP only   NaN   \n",
       "2829     K00142  K00142-AP             NaN     1 - PEP only   NaN   \n",
       "3232     K00142  K00142-AP             NaN     1 - PEP only   NaN   \n",
       "3635     K00142  K00142-AP             NaN     1 - PEP only   NaN   \n",
       "4038     K00142  K00142-AP             NaN     1 - PEP only   NaN   \n",
       "4441     K00142  K00142-AP             NaN     1 - PEP only   NaN   \n",
       "4844     K00142  K00142-AP             NaN     1 - PEP only   NaN   \n",
       "5247     K00142  K00142-AP             NaN     1 - PEP only   NaN   \n",
       "11       K00250  K00250-AP               1     1 - PEP only   NaN   \n",
       "414      K00250  K00250-AP               1     1 - PEP only   NaN   \n",
       "...         ...        ...             ...              ...   ...   \n",
       "5233     K05934        NaN             NaN       4 - Normal   NaN   \n",
       "5636     K05934        NaN             NaN       4 - Normal   NaN   \n",
       "399      K05970        NaN             NaN       4 - Normal   NaN   \n",
       "802      K05970        NaN             NaN       4 - Normal   NaN   \n",
       "1205     K05970        NaN             NaN       4 - Normal   NaN   \n",
       "1608     K05970        NaN             NaN       4 - Normal   NaN   \n",
       "2011     K05970        NaN             NaN       4 - Normal   NaN   \n",
       "2414     K05970        NaN             NaN       4 - Normal   NaN   \n",
       "2817     K05970        NaN             NaN       4 - Normal   NaN   \n",
       "3220     K05970        NaN             NaN       4 - Normal   NaN   \n",
       "3623     K05970        NaN             NaN       4 - Normal   NaN   \n",
       "4026     K05970        NaN             NaN       4 - Normal   NaN   \n",
       "4429     K05970        NaN             NaN       4 - Normal   NaN   \n",
       "4832     K05970        NaN             NaN       4 - Normal   NaN   \n",
       "5235     K05970        NaN             NaN       4 - Normal   NaN   \n",
       "5638     K05970        NaN             NaN       4 - Normal   NaN   \n",
       "402      K05986        NaN             NaN       4 - Normal   NaN   \n",
       "805      K05986        NaN             NaN       4 - Normal   NaN   \n",
       "1208     K05986        NaN             NaN       4 - Normal   NaN   \n",
       "1611     K05986        NaN             NaN       4 - Normal   NaN   \n",
       "2014     K05986        NaN             NaN       4 - Normal   NaN   \n",
       "2417     K05986        NaN             NaN       4 - Normal   NaN   \n",
       "2820     K05986        NaN             NaN       4 - Normal   NaN   \n",
       "3223     K05986        NaN             NaN       4 - Normal   NaN   \n",
       "3626     K05986        NaN             NaN       4 - Normal   NaN   \n",
       "4029     K05986        NaN             NaN       4 - Normal   NaN   \n",
       "4432     K05986        NaN             NaN       4 - Normal   NaN   \n",
       "4835     K05986        NaN             NaN       4 - Normal   NaN   \n",
       "5238     K05986        NaN             NaN       4 - Normal   NaN   \n",
       "5641     K05986        NaN             NaN       4 - Normal   NaN   \n",
       "\n",
       "      intercostal_position  diagnosis  \n",
       "4                        3        NaN  \n",
       "407                      4          1  \n",
       "810                      5          1  \n",
       "1213                     6        NaN  \n",
       "1616                     7        NaN  \n",
       "2019                     8        NaN  \n",
       "2422                     9        NaN  \n",
       "2825                    14        NaN  \n",
       "3228                    15        NaN  \n",
       "3631                    16        NaN  \n",
       "4034                    17        NaN  \n",
       "4437                    18        NaN  \n",
       "4840                    19        NaN  \n",
       "5243                    20        NaN  \n",
       "8                        3        NaN  \n",
       "411                      4          1  \n",
       "814                      5          1  \n",
       "1217                     6          1  \n",
       "1620                     7        NaN  \n",
       "2023                     8        NaN  \n",
       "2426                     9        NaN  \n",
       "2829                    14        NaN  \n",
       "3232                    15        NaN  \n",
       "3635                    16          1  \n",
       "4038                    17          1  \n",
       "4441                    18          1  \n",
       "4844                    19          1  \n",
       "5247                    20        NaN  \n",
       "11                       3          1  \n",
       "414                      4          1  \n",
       "...                    ...        ...  \n",
       "5233                    19        NaN  \n",
       "5636                    20        NaN  \n",
       "399                      3        NaN  \n",
       "802                      4        NaN  \n",
       "1205                     5        NaN  \n",
       "1608                     6        NaN  \n",
       "2011                     7        NaN  \n",
       "2414                     8        NaN  \n",
       "2817                     9        NaN  \n",
       "3220                    14        NaN  \n",
       "3623                    15        NaN  \n",
       "4026                    16        NaN  \n",
       "4429                    17        NaN  \n",
       "4832                    18        NaN  \n",
       "5235                    19        NaN  \n",
       "5638                    20        NaN  \n",
       "402                      3        NaN  \n",
       "805                      4        NaN  \n",
       "1208                     5        NaN  \n",
       "1611                     6        NaN  \n",
       "2014                     7        NaN  \n",
       "2417                     8        NaN  \n",
       "2820                     9        NaN  \n",
       "3223                    14        NaN  \n",
       "3626                    15        NaN  \n",
       "4029                    16        NaN  \n",
       "4432                    17        NaN  \n",
       "4835                    18        NaN  \n",
       "5238                    19        NaN  \n",
       "5641                    20        NaN  \n",
       "\n",
       "[5642 rows x 7 columns]"
      ]
     },
     "execution_count": 115,
     "metadata": {},
     "output_type": "execute_result"
    }
   ],
   "source": [
    "intersection"
   ]
  },
  {
   "cell_type": "markdown",
   "metadata": {},
   "source": [
    "Reindex"
   ]
  },
  {
   "cell_type": "code",
   "execution_count": 116,
   "metadata": {
    "collapsed": true
   },
   "outputs": [],
   "source": [
    "intersection.index = range(len(intersection))"
   ]
  },
  {
   "cell_type": "code",
   "execution_count": 160,
   "metadata": {
    "collapsed": false
   },
   "outputs": [
    {
     "data": {
      "text/html": [
       "<div>\n",
       "<table border=\"1\" class=\"dataframe\">\n",
       "  <thead>\n",
       "    <tr style=\"text-align: right;\">\n",
       "      <th></th>\n",
       "      <th>Subject ID</th>\n",
       "      <th>CXR_ID</th>\n",
       "      <th>Draw_in_Folder</th>\n",
       "      <th>Final_conslusion</th>\n",
       "      <th>Note</th>\n",
       "      <th>intercostal_position</th>\n",
       "      <th>diagnosis</th>\n",
       "    </tr>\n",
       "  </thead>\n",
       "  <tbody>\n",
       "    <tr>\n",
       "      <th>0</th>\n",
       "      <td>K00086</td>\n",
       "      <td>K00086-AP</td>\n",
       "      <td>1</td>\n",
       "      <td>1 - PEP only</td>\n",
       "      <td>NaN</td>\n",
       "      <td>3</td>\n",
       "      <td>NaN</td>\n",
       "    </tr>\n",
       "    <tr>\n",
       "      <th>1</th>\n",
       "      <td>K00086</td>\n",
       "      <td>K00086-AP</td>\n",
       "      <td>1</td>\n",
       "      <td>1 - PEP only</td>\n",
       "      <td>NaN</td>\n",
       "      <td>4</td>\n",
       "      <td>1</td>\n",
       "    </tr>\n",
       "    <tr>\n",
       "      <th>2</th>\n",
       "      <td>K00086</td>\n",
       "      <td>K00086-AP</td>\n",
       "      <td>1</td>\n",
       "      <td>1 - PEP only</td>\n",
       "      <td>NaN</td>\n",
       "      <td>5</td>\n",
       "      <td>1</td>\n",
       "    </tr>\n",
       "    <tr>\n",
       "      <th>3</th>\n",
       "      <td>K00086</td>\n",
       "      <td>K00086-AP</td>\n",
       "      <td>1</td>\n",
       "      <td>1 - PEP only</td>\n",
       "      <td>NaN</td>\n",
       "      <td>6</td>\n",
       "      <td>NaN</td>\n",
       "    </tr>\n",
       "    <tr>\n",
       "      <th>4</th>\n",
       "      <td>K00086</td>\n",
       "      <td>K00086-AP</td>\n",
       "      <td>1</td>\n",
       "      <td>1 - PEP only</td>\n",
       "      <td>NaN</td>\n",
       "      <td>7</td>\n",
       "      <td>NaN</td>\n",
       "    </tr>\n",
       "  </tbody>\n",
       "</table>\n",
       "</div>"
      ],
      "text/plain": [
       "  Subject ID     CXR_ID  Draw_in_Folder Final_conslusion  Note  \\\n",
       "0     K00086  K00086-AP               1     1 - PEP only   NaN   \n",
       "1     K00086  K00086-AP               1     1 - PEP only   NaN   \n",
       "2     K00086  K00086-AP               1     1 - PEP only   NaN   \n",
       "3     K00086  K00086-AP               1     1 - PEP only   NaN   \n",
       "4     K00086  K00086-AP               1     1 - PEP only   NaN   \n",
       "\n",
       "   intercostal_position  diagnosis  \n",
       "0                     3        NaN  \n",
       "1                     4          1  \n",
       "2                     5          1  \n",
       "3                     6        NaN  \n",
       "4                     7        NaN  "
      ]
     },
     "execution_count": 160,
     "metadata": {},
     "output_type": "execute_result"
    }
   ],
   "source": [
    "intersection.head()"
   ]
  },
  {
   "cell_type": "markdown",
   "metadata": {},
   "source": [
    "# Merge geometry and diagnosis info into 1 data frame"
   ]
  },
  {
   "cell_type": "code",
   "execution_count": 121,
   "metadata": {
    "collapsed": true
   },
   "outputs": [],
   "source": [
    "ic_coords_intersection = ic_coords_intersection.copy(deep=True)"
   ]
  },
  {
   "cell_type": "code",
   "execution_count": 122,
   "metadata": {
    "collapsed": false
   },
   "outputs": [
    {
     "data": {
      "text/plain": [
       "Index([u'K03144', u'K01365', u'K01366', u'K02316', u'K05968', u'K04647',\n",
       "       u'K00503', u'K04164', u'K04389', u'K00984', \n",
       "       ...\n",
       "       u'K03798', u'K01186', u'K04012', u'K02816', u'K05267', u'K05261',\n",
       "       u'K00368', u'K03408', u'K03365', u'K00361'],\n",
       "      dtype='object', length=403)"
      ]
     },
     "execution_count": 122,
     "metadata": {},
     "output_type": "execute_result"
    }
   ],
   "source": [
    "ic_coords_intersection.index"
   ]
  },
  {
   "cell_type": "code",
   "execution_count": 123,
   "metadata": {
    "collapsed": false
   },
   "outputs": [
    {
     "data": {
      "text/plain": [
       "403"
      ]
     },
     "execution_count": 123,
     "metadata": {},
     "output_type": "execute_result"
    }
   ],
   "source": [
    "len(ic_coords_intersection)"
   ]
  },
  {
   "cell_type": "code",
   "execution_count": 124,
   "metadata": {
    "collapsed": false
   },
   "outputs": [],
   "source": [
    "ic_coords_intersection['Subject ID'] = ic_coords_intersection.index"
   ]
  },
  {
   "cell_type": "markdown",
   "metadata": {},
   "source": [
    "## make the headers match the other data frame"
   ]
  },
  {
   "cell_type": "code",
   "execution_count": 125,
   "metadata": {
    "collapsed": false
   },
   "outputs": [
    {
     "data": {
      "text/plain": [
       "Index([            0,             1,             2,             3,\n",
       "                   4,             5,             6,             7,\n",
       "                   8,             9,            10,            11,\n",
       "                  12,            13,            14,            15,\n",
       "                  16,            17,            18,            19,\n",
       "                  20,            21, u'Subject ID'],\n",
       "      dtype='object')"
      ]
     },
     "execution_count": 125,
     "metadata": {},
     "output_type": "execute_result"
    }
   ],
   "source": [
    "ic_coords_intersection.columns"
   ]
  },
  {
   "cell_type": "code",
   "execution_count": 127,
   "metadata": {
    "collapsed": false
   },
   "outputs": [],
   "source": [
    "ic_coords_intersection.columns = pd.Int64Index( range(1,24))"
   ]
  },
  {
   "cell_type": "code",
   "execution_count": 128,
   "metadata": {
    "collapsed": false
   },
   "outputs": [
    {
     "data": {
      "text/plain": [
       "Int64Index([ 1,  2,  3,  4,  5,  6,  7,  8,  9, 10, 11, 12, 13, 14, 15, 16, 17,\n",
       "            18, 19, 20, 21, 22, 23],\n",
       "           dtype='int64')"
      ]
     },
     "execution_count": 128,
     "metadata": {},
     "output_type": "execute_result"
    }
   ],
   "source": [
    "ic_coords_intersection.columns"
   ]
  },
  {
   "cell_type": "markdown",
   "metadata": {},
   "source": [
    "## drop the unused strip locations"
   ]
  },
  {
   "cell_type": "code",
   "execution_count": 129,
   "metadata": {
    "collapsed": false
   },
   "outputs": [],
   "source": [
    "ic_coords_intersection= ic_coords_intersection.drop( 1, 1 ).drop(2, 1).drop(10, 1).drop(11, 1).drop(12, 1).drop(13, 1).drop(21,1).drop(22,1).drop(23,1)"
   ]
  },
  {
   "cell_type": "code",
   "execution_count": 161,
   "metadata": {
    "collapsed": false
   },
   "outputs": [
    {
     "data": {
      "text/html": [
       "<div>\n",
       "<table border=\"1\" class=\"dataframe\">\n",
       "  <thead>\n",
       "    <tr style=\"text-align: right;\">\n",
       "      <th></th>\n",
       "      <th>Subject ID</th>\n",
       "      <th>intercostal_position</th>\n",
       "      <th>intercostal_coord</th>\n",
       "    </tr>\n",
       "  </thead>\n",
       "  <tbody>\n",
       "    <tr>\n",
       "      <th>391</th>\n",
       "      <td>K00002</td>\n",
       "      <td>3</td>\n",
       "      <td>(762, 984)</td>\n",
       "    </tr>\n",
       "    <tr>\n",
       "      <th>794</th>\n",
       "      <td>K00002</td>\n",
       "      <td>4</td>\n",
       "      <td>(760, 1034)</td>\n",
       "    </tr>\n",
       "    <tr>\n",
       "      <th>1197</th>\n",
       "      <td>K00002</td>\n",
       "      <td>5</td>\n",
       "      <td>(754, 1080)</td>\n",
       "    </tr>\n",
       "    <tr>\n",
       "      <th>1600</th>\n",
       "      <td>K00002</td>\n",
       "      <td>6</td>\n",
       "      <td>(746, 1130)</td>\n",
       "    </tr>\n",
       "    <tr>\n",
       "      <th>2003</th>\n",
       "      <td>K00002</td>\n",
       "      <td>7</td>\n",
       "      <td>(740, 1182)</td>\n",
       "    </tr>\n",
       "  </tbody>\n",
       "</table>\n",
       "</div>"
      ],
      "text/plain": [
       "     Subject ID intercostal_position intercostal_coord\n",
       "391      K00002                    3        (762, 984)\n",
       "794      K00002                    4       (760, 1034)\n",
       "1197     K00002                    5       (754, 1080)\n",
       "1600     K00002                    6       (746, 1130)\n",
       "2003     K00002                    7       (740, 1182)"
      ]
     },
     "execution_count": 161,
     "metadata": {},
     "output_type": "execute_result"
    }
   ],
   "source": [
    "ic_coords_intersection.head()"
   ]
  },
  {
   "cell_type": "markdown",
   "metadata": {},
   "source": [
    "## turn columns into rows"
   ]
  },
  {
   "cell_type": "code",
   "execution_count": 132,
   "metadata": {
    "collapsed": true
   },
   "outputs": [],
   "source": [
    "ic_coords_intersection['Subject ID'] = ic_coords_intersection.index"
   ]
  },
  {
   "cell_type": "code",
   "execution_count": 134,
   "metadata": {
    "collapsed": false
   },
   "outputs": [],
   "source": [
    "ic_coords_intersection = pd.melt( ic_coords_intersection, var_name='intercostal_position', value_name='intercostal_coord', id_vars=('Subject ID') )"
   ]
  },
  {
   "cell_type": "code",
   "execution_count": 136,
   "metadata": {
    "collapsed": false
   },
   "outputs": [],
   "source": [
    "ic_coords_intersection = ic_coords_intersection.sort( ['Subject ID','intercostal_position', ])"
   ]
  },
  {
   "cell_type": "code",
   "execution_count": 138,
   "metadata": {
    "collapsed": false
   },
   "outputs": [
    {
     "data": {
      "text/plain": [
       "5642"
      ]
     },
     "execution_count": 138,
     "metadata": {},
     "output_type": "execute_result"
    }
   ],
   "source": [
    "len( ic_coords_intersection)"
   ]
  },
  {
   "cell_type": "code",
   "execution_count": 139,
   "metadata": {
    "collapsed": false
   },
   "outputs": [
    {
     "data": {
      "text/plain": [
       "5642"
      ]
     },
     "execution_count": 139,
     "metadata": {},
     "output_type": "execute_result"
    }
   ],
   "source": [
    "len(intersection)"
   ]
  },
  {
   "cell_type": "markdown",
   "metadata": {},
   "source": [
    "# Now load strip sizes"
   ]
  },
  {
   "cell_type": "code",
   "execution_count": 140,
   "metadata": {
    "collapsed": false
   },
   "outputs": [
    {
     "data": {
      "text/plain": [
       "403"
      ]
     },
     "execution_count": 140,
     "metadata": {},
     "output_type": "execute_result"
    }
   ],
   "source": [
    "len(strip_sizes_intersection)"
   ]
  },
  {
   "cell_type": "code",
   "execution_count": 144,
   "metadata": {
    "collapsed": false
   },
   "outputs": [],
   "source": [
    "strip_sizes_intersection = strip_sizes_intersection.drop('Subject ID', 1)"
   ]
  },
  {
   "cell_type": "code",
   "execution_count": 145,
   "metadata": {
    "collapsed": false
   },
   "outputs": [
    {
     "data": {
      "text/plain": [
       "Int64Index([0, 1, 2, 3, 4, 5, 6, 7, 8, 9, 10, 11, 12, 13, 14, 15, 16, 17, 18,\n",
       "            19, 20, 21],\n",
       "           dtype='int64')"
      ]
     },
     "execution_count": 145,
     "metadata": {},
     "output_type": "execute_result"
    }
   ],
   "source": [
    "strip_sizes_intersection.columns"
   ]
  },
  {
   "cell_type": "code",
   "execution_count": 146,
   "metadata": {
    "collapsed": false
   },
   "outputs": [],
   "source": [
    "strip_sizes_intersection.columns = pd.Int64Index( range(1,23))"
   ]
  },
  {
   "cell_type": "code",
   "execution_count": 148,
   "metadata": {
    "collapsed": false
   },
   "outputs": [
    {
     "data": {
      "text/plain": [
       "Int64Index([1, 2, 3, 4, 5, 6, 7, 8, 9, 10, 11, 12, 13, 14, 15, 16, 17, 18, 19,\n",
       "            20, 21, 22],\n",
       "           dtype='int64')"
      ]
     },
     "execution_count": 148,
     "metadata": {},
     "output_type": "execute_result"
    }
   ],
   "source": [
    "strip_sizes_intersection.columns"
   ]
  },
  {
   "cell_type": "code",
   "execution_count": 149,
   "metadata": {
    "collapsed": true
   },
   "outputs": [],
   "source": [
    "strip_sizes_intersection = strip_sizes_intersection.drop( 1, 1 ).drop(2, 1).drop(10, 1).drop(11, 1).drop(12, 1).drop(13, 1).drop(21,1).drop(22,1)"
   ]
  },
  {
   "cell_type": "code",
   "execution_count": 151,
   "metadata": {
    "collapsed": false
   },
   "outputs": [
    {
     "data": {
      "text/plain": [
       "Index([u'K03144', u'K01365', u'K01366', u'K02316', u'K05968', u'K04647',\n",
       "       u'K00503', u'K04164', u'K04389', u'K00984', \n",
       "       ...\n",
       "       u'K03798', u'K05616', u'K04012', u'K02816', u'K05267', u'K05261',\n",
       "       u'K00368', u'K03408', u'K03365', u'K00361'],\n",
       "      dtype='object', length=403)"
      ]
     },
     "execution_count": 151,
     "metadata": {},
     "output_type": "execute_result"
    }
   ],
   "source": [
    "strip_sizes_intersection.index"
   ]
  },
  {
   "cell_type": "code",
   "execution_count": 152,
   "metadata": {
    "collapsed": true
   },
   "outputs": [],
   "source": [
    "strip_sizes_intersection['Subject ID'] = strip_sizes_intersection.index"
   ]
  },
  {
   "cell_type": "code",
   "execution_count": 153,
   "metadata": {
    "collapsed": false
   },
   "outputs": [
    {
     "data": {
      "text/html": [
       "<div>\n",
       "<table border=\"1\" class=\"dataframe\">\n",
       "  <thead>\n",
       "    <tr style=\"text-align: right;\">\n",
       "      <th></th>\n",
       "      <th>3</th>\n",
       "      <th>4</th>\n",
       "      <th>5</th>\n",
       "      <th>6</th>\n",
       "      <th>7</th>\n",
       "      <th>8</th>\n",
       "      <th>9</th>\n",
       "      <th>14</th>\n",
       "      <th>15</th>\n",
       "      <th>16</th>\n",
       "      <th>17</th>\n",
       "      <th>18</th>\n",
       "      <th>19</th>\n",
       "      <th>20</th>\n",
       "      <th>Subject ID</th>\n",
       "    </tr>\n",
       "  </thead>\n",
       "  <tbody>\n",
       "    <tr>\n",
       "      <th>K03144</th>\n",
       "      <td>(346, 46)</td>\n",
       "      <td>(366, 43)</td>\n",
       "      <td>(384, 45)</td>\n",
       "      <td>(396, 46)</td>\n",
       "      <td>(406, 50)</td>\n",
       "      <td>(420, 61)</td>\n",
       "      <td>(438, 69)</td>\n",
       "      <td>(346, 48)</td>\n",
       "      <td>(366, 50)</td>\n",
       "      <td>(384, 50)</td>\n",
       "      <td>(396, 50)</td>\n",
       "      <td>(406, 53)</td>\n",
       "      <td>(420, 66)</td>\n",
       "      <td>(438, 74)</td>\n",
       "      <td>K03144</td>\n",
       "    </tr>\n",
       "    <tr>\n",
       "      <th>K01365</th>\n",
       "      <td>(352, 45)</td>\n",
       "      <td>(388, 45)</td>\n",
       "      <td>(420, 47)</td>\n",
       "      <td>(442, 54)</td>\n",
       "      <td>(462, 60)</td>\n",
       "      <td>(468, 72)</td>\n",
       "      <td>(494, 92)</td>\n",
       "      <td>(352, 45)</td>\n",
       "      <td>(388, 43)</td>\n",
       "      <td>(420, 39)</td>\n",
       "      <td>(442, 39)</td>\n",
       "      <td>(462, 45)</td>\n",
       "      <td>(468, 50)</td>\n",
       "      <td>(494, 59)</td>\n",
       "      <td>K01365</td>\n",
       "    </tr>\n",
       "    <tr>\n",
       "      <th>K01366</th>\n",
       "      <td>(444, 60)</td>\n",
       "      <td>(470, 57)</td>\n",
       "      <td>(490, 59)</td>\n",
       "      <td>(522, 69)</td>\n",
       "      <td>(550, 79)</td>\n",
       "      <td>(586, 95)</td>\n",
       "      <td>(626, 106)</td>\n",
       "      <td>(444, 59)</td>\n",
       "      <td>(470, 54)</td>\n",
       "      <td>(490, 56)</td>\n",
       "      <td>(522, 63)</td>\n",
       "      <td>(550, 68)</td>\n",
       "      <td>(586, 85)</td>\n",
       "      <td>(626, 110)</td>\n",
       "      <td>K01366</td>\n",
       "    </tr>\n",
       "    <tr>\n",
       "      <th>K02316</th>\n",
       "      <td>(312, 52)</td>\n",
       "      <td>(342, 52)</td>\n",
       "      <td>(372, 63)</td>\n",
       "      <td>(388, 61)</td>\n",
       "      <td>(408, 60)</td>\n",
       "      <td>(440, 76)</td>\n",
       "      <td>(466, 89)</td>\n",
       "      <td>(312, 49)</td>\n",
       "      <td>(342, 54)</td>\n",
       "      <td>(372, 58)</td>\n",
       "      <td>(388, 59)</td>\n",
       "      <td>(408, 62)</td>\n",
       "      <td>(440, 74)</td>\n",
       "      <td>(466, 87)</td>\n",
       "      <td>K02316</td>\n",
       "    </tr>\n",
       "    <tr>\n",
       "      <th>K05968</th>\n",
       "      <td>(468, 76)</td>\n",
       "      <td>(494, 72)</td>\n",
       "      <td>(522, 74)</td>\n",
       "      <td>(546, 79)</td>\n",
       "      <td>(566, 90)</td>\n",
       "      <td>(598, 106)</td>\n",
       "      <td>(606, 115)</td>\n",
       "      <td>(468, 81)</td>\n",
       "      <td>(494, 78)</td>\n",
       "      <td>(522, 79)</td>\n",
       "      <td>(546, 84)</td>\n",
       "      <td>(566, 95)</td>\n",
       "      <td>(598, 108)</td>\n",
       "      <td>(606, 116)</td>\n",
       "      <td>K05968</td>\n",
       "    </tr>\n",
       "  </tbody>\n",
       "</table>\n",
       "</div>"
      ],
      "text/plain": [
       "                3          4          5          6          7           8  \\\n",
       "K03144  (346, 46)  (366, 43)  (384, 45)  (396, 46)  (406, 50)   (420, 61)   \n",
       "K01365  (352, 45)  (388, 45)  (420, 47)  (442, 54)  (462, 60)   (468, 72)   \n",
       "K01366  (444, 60)  (470, 57)  (490, 59)  (522, 69)  (550, 79)   (586, 95)   \n",
       "K02316  (312, 52)  (342, 52)  (372, 63)  (388, 61)  (408, 60)   (440, 76)   \n",
       "K05968  (468, 76)  (494, 72)  (522, 74)  (546, 79)  (566, 90)  (598, 106)   \n",
       "\n",
       "                 9         14         15         16         17         18  \\\n",
       "K03144   (438, 69)  (346, 48)  (366, 50)  (384, 50)  (396, 50)  (406, 53)   \n",
       "K01365   (494, 92)  (352, 45)  (388, 43)  (420, 39)  (442, 39)  (462, 45)   \n",
       "K01366  (626, 106)  (444, 59)  (470, 54)  (490, 56)  (522, 63)  (550, 68)   \n",
       "K02316   (466, 89)  (312, 49)  (342, 54)  (372, 58)  (388, 59)  (408, 62)   \n",
       "K05968  (606, 115)  (468, 81)  (494, 78)  (522, 79)  (546, 84)  (566, 95)   \n",
       "\n",
       "                19          20 Subject ID  \n",
       "K03144   (420, 66)   (438, 74)     K03144  \n",
       "K01365   (468, 50)   (494, 59)     K01365  \n",
       "K01366   (586, 85)  (626, 110)     K01366  \n",
       "K02316   (440, 74)   (466, 87)     K02316  \n",
       "K05968  (598, 108)  (606, 116)     K05968  "
      ]
     },
     "execution_count": 153,
     "metadata": {},
     "output_type": "execute_result"
    }
   ],
   "source": [
    "strip_sizes_intersection.head()"
   ]
  },
  {
   "cell_type": "code",
   "execution_count": 154,
   "metadata": {
    "collapsed": false
   },
   "outputs": [],
   "source": [
    "strip_sizes_intersection = pd.melt( strip_sizes_intersection, var_name='intercostal_position', value_name='raw_strip_size', id_vars=('Subject ID') )"
   ]
  },
  {
   "cell_type": "code",
   "execution_count": 155,
   "metadata": {
    "collapsed": false
   },
   "outputs": [],
   "source": [
    "strip_sizes_intersection = strip_sizes_intersection.sort( ['Subject ID','intercostal_position', ])"
   ]
  },
  {
   "cell_type": "code",
   "execution_count": 156,
   "metadata": {
    "collapsed": false
   },
   "outputs": [
    {
     "data": {
      "text/html": [
       "<div>\n",
       "<table border=\"1\" class=\"dataframe\">\n",
       "  <thead>\n",
       "    <tr style=\"text-align: right;\">\n",
       "      <th></th>\n",
       "      <th>Subject ID</th>\n",
       "      <th>intercostal_position</th>\n",
       "      <th>raw_strip_size</th>\n",
       "    </tr>\n",
       "  </thead>\n",
       "  <tbody>\n",
       "    <tr>\n",
       "      <th>391</th>\n",
       "      <td>K00002</td>\n",
       "      <td>3</td>\n",
       "      <td>(276, 45)</td>\n",
       "    </tr>\n",
       "    <tr>\n",
       "      <th>794</th>\n",
       "      <td>K00002</td>\n",
       "      <td>4</td>\n",
       "      <td>(288, 44)</td>\n",
       "    </tr>\n",
       "    <tr>\n",
       "      <th>1197</th>\n",
       "      <td>K00002</td>\n",
       "      <td>5</td>\n",
       "      <td>(306, 44)</td>\n",
       "    </tr>\n",
       "    <tr>\n",
       "      <th>1600</th>\n",
       "      <td>K00002</td>\n",
       "      <td>6</td>\n",
       "      <td>(324, 48)</td>\n",
       "    </tr>\n",
       "    <tr>\n",
       "      <th>2003</th>\n",
       "      <td>K00002</td>\n",
       "      <td>7</td>\n",
       "      <td>(340, 51)</td>\n",
       "    </tr>\n",
       "  </tbody>\n",
       "</table>\n",
       "</div>"
      ],
      "text/plain": [
       "     Subject ID intercostal_position raw_strip_size\n",
       "391      K00002                    3      (276, 45)\n",
       "794      K00002                    4      (288, 44)\n",
       "1197     K00002                    5      (306, 44)\n",
       "1600     K00002                    6      (324, 48)\n",
       "2003     K00002                    7      (340, 51)"
      ]
     },
     "execution_count": 156,
     "metadata": {},
     "output_type": "execute_result"
    }
   ],
   "source": [
    "strip_sizes_intersection.head()"
   ]
  },
  {
   "cell_type": "code",
   "execution_count": 157,
   "metadata": {
    "collapsed": false
   },
   "outputs": [
    {
     "data": {
      "text/plain": [
       "5642"
      ]
     },
     "execution_count": 157,
     "metadata": {},
     "output_type": "execute_result"
    }
   ],
   "source": [
    "len( ic_coords_intersection)"
   ]
  },
  {
   "cell_type": "code",
   "execution_count": 158,
   "metadata": {
    "collapsed": false
   },
   "outputs": [
    {
     "data": {
      "text/plain": [
       "5642"
      ]
     },
     "execution_count": 158,
     "metadata": {},
     "output_type": "execute_result"
    }
   ],
   "source": [
    "len( strip_sizes_intersection)"
   ]
  },
  {
   "cell_type": "markdown",
   "metadata": {},
   "source": [
    "# join all tables"
   ]
  },
  {
   "cell_type": "code",
   "execution_count": 209,
   "metadata": {
    "collapsed": false
   },
   "outputs": [],
   "source": [
    "master = pd.merge( ic_coords_intersection, strip_sizes_intersection, on=['Subject ID', 'intercostal_position'])"
   ]
  },
  {
   "cell_type": "code",
   "execution_count": 210,
   "metadata": {
    "collapsed": true
   },
   "outputs": [],
   "source": [
    "master = pd.merge(master, intersection, on=['Subject ID', 'intercostal_position'])"
   ]
  },
  {
   "cell_type": "code",
   "execution_count": 211,
   "metadata": {
    "collapsed": false,
    "scrolled": true
   },
   "outputs": [
    {
     "data": {
      "text/plain": [
       "5642"
      ]
     },
     "execution_count": 211,
     "metadata": {},
     "output_type": "execute_result"
    }
   ],
   "source": [
    "len(master)"
   ]
  },
  {
   "cell_type": "code",
   "execution_count": 212,
   "metadata": {
    "collapsed": false
   },
   "outputs": [
    {
     "data": {
      "text/plain": [
       "Subject ID               object\n",
       "intercostal_position     object\n",
       "intercostal_coord        object\n",
       "raw_strip_size           object\n",
       "CXR_ID                   object\n",
       "Draw_in_Folder          float64\n",
       "Final_conslusion         object\n",
       "Note                    float64\n",
       "diagnosis               float64\n",
       "dtype: object"
      ]
     },
     "execution_count": 212,
     "metadata": {},
     "output_type": "execute_result"
    }
   ],
   "source": [
    "master.dtypes"
   ]
  },
  {
   "cell_type": "code",
   "execution_count": 213,
   "metadata": {
    "collapsed": false
   },
   "outputs": [
    {
     "data": {
      "text/html": [
       "<div>\n",
       "<table border=\"1\" class=\"dataframe\">\n",
       "  <thead>\n",
       "    <tr style=\"text-align: right;\">\n",
       "      <th></th>\n",
       "      <th>Subject ID</th>\n",
       "      <th>intercostal_position</th>\n",
       "      <th>intercostal_coord</th>\n",
       "      <th>raw_strip_size</th>\n",
       "      <th>CXR_ID</th>\n",
       "      <th>Draw_in_Folder</th>\n",
       "      <th>Final_conslusion</th>\n",
       "      <th>Note</th>\n",
       "      <th>diagnosis</th>\n",
       "    </tr>\n",
       "  </thead>\n",
       "  <tbody>\n",
       "    <tr>\n",
       "      <th>0</th>\n",
       "      <td>K00002</td>\n",
       "      <td>3</td>\n",
       "      <td>(762, 984)</td>\n",
       "      <td>(276, 45)</td>\n",
       "      <td>NaN</td>\n",
       "      <td>NaN</td>\n",
       "      <td>4 - Normal</td>\n",
       "      <td>NaN</td>\n",
       "      <td>NaN</td>\n",
       "    </tr>\n",
       "    <tr>\n",
       "      <th>1</th>\n",
       "      <td>K00002</td>\n",
       "      <td>4</td>\n",
       "      <td>(760, 1034)</td>\n",
       "      <td>(288, 44)</td>\n",
       "      <td>NaN</td>\n",
       "      <td>NaN</td>\n",
       "      <td>4 - Normal</td>\n",
       "      <td>NaN</td>\n",
       "      <td>NaN</td>\n",
       "    </tr>\n",
       "    <tr>\n",
       "      <th>2</th>\n",
       "      <td>K00002</td>\n",
       "      <td>5</td>\n",
       "      <td>(754, 1080)</td>\n",
       "      <td>(306, 44)</td>\n",
       "      <td>NaN</td>\n",
       "      <td>NaN</td>\n",
       "      <td>4 - Normal</td>\n",
       "      <td>NaN</td>\n",
       "      <td>NaN</td>\n",
       "    </tr>\n",
       "    <tr>\n",
       "      <th>3</th>\n",
       "      <td>K00002</td>\n",
       "      <td>6</td>\n",
       "      <td>(746, 1130)</td>\n",
       "      <td>(324, 48)</td>\n",
       "      <td>NaN</td>\n",
       "      <td>NaN</td>\n",
       "      <td>4 - Normal</td>\n",
       "      <td>NaN</td>\n",
       "      <td>NaN</td>\n",
       "    </tr>\n",
       "    <tr>\n",
       "      <th>4</th>\n",
       "      <td>K00002</td>\n",
       "      <td>7</td>\n",
       "      <td>(740, 1182)</td>\n",
       "      <td>(340, 51)</td>\n",
       "      <td>NaN</td>\n",
       "      <td>NaN</td>\n",
       "      <td>4 - Normal</td>\n",
       "      <td>NaN</td>\n",
       "      <td>NaN</td>\n",
       "    </tr>\n",
       "  </tbody>\n",
       "</table>\n",
       "</div>"
      ],
      "text/plain": [
       "  Subject ID intercostal_position intercostal_coord raw_strip_size CXR_ID  \\\n",
       "0     K00002                    3        (762, 984)      (276, 45)    NaN   \n",
       "1     K00002                    4       (760, 1034)      (288, 44)    NaN   \n",
       "2     K00002                    5       (754, 1080)      (306, 44)    NaN   \n",
       "3     K00002                    6       (746, 1130)      (324, 48)    NaN   \n",
       "4     K00002                    7       (740, 1182)      (340, 51)    NaN   \n",
       "\n",
       "   Draw_in_Folder Final_conslusion  Note  diagnosis  \n",
       "0             NaN       4 - Normal   NaN        NaN  \n",
       "1             NaN       4 - Normal   NaN        NaN  \n",
       "2             NaN       4 - Normal   NaN        NaN  \n",
       "3             NaN       4 - Normal   NaN        NaN  \n",
       "4             NaN       4 - Normal   NaN        NaN  "
      ]
     },
     "execution_count": 213,
     "metadata": {},
     "output_type": "execute_result"
    }
   ],
   "source": [
    "master.head()"
   ]
  },
  {
   "cell_type": "markdown",
   "metadata": {},
   "source": [
    "## Split the coords into their own columns"
   ]
  },
  {
   "cell_type": "code",
   "execution_count": 214,
   "metadata": {
    "collapsed": true
   },
   "outputs": [],
   "source": [
    "master['width_raw'] = master['raw_strip_size'].apply( lambda xy: xy[0] )"
   ]
  },
  {
   "cell_type": "code",
   "execution_count": 215,
   "metadata": {
    "collapsed": true
   },
   "outputs": [],
   "source": [
    "master['height_raw'] = master['raw_strip_size'].apply( lambda xy: xy[1] )"
   ]
  },
  {
   "cell_type": "code",
   "execution_count": 216,
   "metadata": {
    "collapsed": false
   },
   "outputs": [
    {
     "data": {
      "text/html": [
       "<div>\n",
       "<table border=\"1\" class=\"dataframe\">\n",
       "  <thead>\n",
       "    <tr style=\"text-align: right;\">\n",
       "      <th></th>\n",
       "      <th>Subject ID</th>\n",
       "      <th>intercostal_position</th>\n",
       "      <th>intercostal_coord</th>\n",
       "      <th>raw_strip_size</th>\n",
       "      <th>CXR_ID</th>\n",
       "      <th>Draw_in_Folder</th>\n",
       "      <th>Final_conslusion</th>\n",
       "      <th>Note</th>\n",
       "      <th>diagnosis</th>\n",
       "      <th>width_raw</th>\n",
       "      <th>height_raw</th>\n",
       "    </tr>\n",
       "  </thead>\n",
       "  <tbody>\n",
       "    <tr>\n",
       "      <th>0</th>\n",
       "      <td>K00002</td>\n",
       "      <td>3</td>\n",
       "      <td>(762, 984)</td>\n",
       "      <td>(276, 45)</td>\n",
       "      <td>NaN</td>\n",
       "      <td>NaN</td>\n",
       "      <td>4 - Normal</td>\n",
       "      <td>NaN</td>\n",
       "      <td>NaN</td>\n",
       "      <td>276</td>\n",
       "      <td>45</td>\n",
       "    </tr>\n",
       "    <tr>\n",
       "      <th>1</th>\n",
       "      <td>K00002</td>\n",
       "      <td>4</td>\n",
       "      <td>(760, 1034)</td>\n",
       "      <td>(288, 44)</td>\n",
       "      <td>NaN</td>\n",
       "      <td>NaN</td>\n",
       "      <td>4 - Normal</td>\n",
       "      <td>NaN</td>\n",
       "      <td>NaN</td>\n",
       "      <td>288</td>\n",
       "      <td>44</td>\n",
       "    </tr>\n",
       "    <tr>\n",
       "      <th>2</th>\n",
       "      <td>K00002</td>\n",
       "      <td>5</td>\n",
       "      <td>(754, 1080)</td>\n",
       "      <td>(306, 44)</td>\n",
       "      <td>NaN</td>\n",
       "      <td>NaN</td>\n",
       "      <td>4 - Normal</td>\n",
       "      <td>NaN</td>\n",
       "      <td>NaN</td>\n",
       "      <td>306</td>\n",
       "      <td>44</td>\n",
       "    </tr>\n",
       "    <tr>\n",
       "      <th>3</th>\n",
       "      <td>K00002</td>\n",
       "      <td>6</td>\n",
       "      <td>(746, 1130)</td>\n",
       "      <td>(324, 48)</td>\n",
       "      <td>NaN</td>\n",
       "      <td>NaN</td>\n",
       "      <td>4 - Normal</td>\n",
       "      <td>NaN</td>\n",
       "      <td>NaN</td>\n",
       "      <td>324</td>\n",
       "      <td>48</td>\n",
       "    </tr>\n",
       "    <tr>\n",
       "      <th>4</th>\n",
       "      <td>K00002</td>\n",
       "      <td>7</td>\n",
       "      <td>(740, 1182)</td>\n",
       "      <td>(340, 51)</td>\n",
       "      <td>NaN</td>\n",
       "      <td>NaN</td>\n",
       "      <td>4 - Normal</td>\n",
       "      <td>NaN</td>\n",
       "      <td>NaN</td>\n",
       "      <td>340</td>\n",
       "      <td>51</td>\n",
       "    </tr>\n",
       "  </tbody>\n",
       "</table>\n",
       "</div>"
      ],
      "text/plain": [
       "  Subject ID intercostal_position intercostal_coord raw_strip_size CXR_ID  \\\n",
       "0     K00002                    3        (762, 984)      (276, 45)    NaN   \n",
       "1     K00002                    4       (760, 1034)      (288, 44)    NaN   \n",
       "2     K00002                    5       (754, 1080)      (306, 44)    NaN   \n",
       "3     K00002                    6       (746, 1130)      (324, 48)    NaN   \n",
       "4     K00002                    7       (740, 1182)      (340, 51)    NaN   \n",
       "\n",
       "   Draw_in_Folder Final_conslusion  Note  diagnosis  width_raw  height_raw  \n",
       "0             NaN       4 - Normal   NaN        NaN        276          45  \n",
       "1             NaN       4 - Normal   NaN        NaN        288          44  \n",
       "2             NaN       4 - Normal   NaN        NaN        306          44  \n",
       "3             NaN       4 - Normal   NaN        NaN        324          48  \n",
       "4             NaN       4 - Normal   NaN        NaN        340          51  "
      ]
     },
     "execution_count": 216,
     "metadata": {},
     "output_type": "execute_result"
    }
   ],
   "source": [
    "master.head()"
   ]
  },
  {
   "cell_type": "code",
   "execution_count": 217,
   "metadata": {
    "collapsed": true
   },
   "outputs": [],
   "source": [
    "master = master.drop( 'raw_strip_size', axis=1 )"
   ]
  },
  {
   "cell_type": "code",
   "execution_count": 218,
   "metadata": {
    "collapsed": false
   },
   "outputs": [
    {
     "data": {
      "text/html": [
       "<div>\n",
       "<table border=\"1\" class=\"dataframe\">\n",
       "  <thead>\n",
       "    <tr style=\"text-align: right;\">\n",
       "      <th></th>\n",
       "      <th>Subject ID</th>\n",
       "      <th>intercostal_position</th>\n",
       "      <th>intercostal_coord</th>\n",
       "      <th>CXR_ID</th>\n",
       "      <th>Draw_in_Folder</th>\n",
       "      <th>Final_conslusion</th>\n",
       "      <th>Note</th>\n",
       "      <th>diagnosis</th>\n",
       "      <th>width_raw</th>\n",
       "      <th>height_raw</th>\n",
       "    </tr>\n",
       "  </thead>\n",
       "  <tbody>\n",
       "    <tr>\n",
       "      <th>0</th>\n",
       "      <td>K00002</td>\n",
       "      <td>3</td>\n",
       "      <td>(762, 984)</td>\n",
       "      <td>NaN</td>\n",
       "      <td>NaN</td>\n",
       "      <td>4 - Normal</td>\n",
       "      <td>NaN</td>\n",
       "      <td>NaN</td>\n",
       "      <td>276</td>\n",
       "      <td>45</td>\n",
       "    </tr>\n",
       "    <tr>\n",
       "      <th>1</th>\n",
       "      <td>K00002</td>\n",
       "      <td>4</td>\n",
       "      <td>(760, 1034)</td>\n",
       "      <td>NaN</td>\n",
       "      <td>NaN</td>\n",
       "      <td>4 - Normal</td>\n",
       "      <td>NaN</td>\n",
       "      <td>NaN</td>\n",
       "      <td>288</td>\n",
       "      <td>44</td>\n",
       "    </tr>\n",
       "    <tr>\n",
       "      <th>2</th>\n",
       "      <td>K00002</td>\n",
       "      <td>5</td>\n",
       "      <td>(754, 1080)</td>\n",
       "      <td>NaN</td>\n",
       "      <td>NaN</td>\n",
       "      <td>4 - Normal</td>\n",
       "      <td>NaN</td>\n",
       "      <td>NaN</td>\n",
       "      <td>306</td>\n",
       "      <td>44</td>\n",
       "    </tr>\n",
       "    <tr>\n",
       "      <th>3</th>\n",
       "      <td>K00002</td>\n",
       "      <td>6</td>\n",
       "      <td>(746, 1130)</td>\n",
       "      <td>NaN</td>\n",
       "      <td>NaN</td>\n",
       "      <td>4 - Normal</td>\n",
       "      <td>NaN</td>\n",
       "      <td>NaN</td>\n",
       "      <td>324</td>\n",
       "      <td>48</td>\n",
       "    </tr>\n",
       "    <tr>\n",
       "      <th>4</th>\n",
       "      <td>K00002</td>\n",
       "      <td>7</td>\n",
       "      <td>(740, 1182)</td>\n",
       "      <td>NaN</td>\n",
       "      <td>NaN</td>\n",
       "      <td>4 - Normal</td>\n",
       "      <td>NaN</td>\n",
       "      <td>NaN</td>\n",
       "      <td>340</td>\n",
       "      <td>51</td>\n",
       "    </tr>\n",
       "  </tbody>\n",
       "</table>\n",
       "</div>"
      ],
      "text/plain": [
       "  Subject ID intercostal_position intercostal_coord CXR_ID  Draw_in_Folder  \\\n",
       "0     K00002                    3        (762, 984)    NaN             NaN   \n",
       "1     K00002                    4       (760, 1034)    NaN             NaN   \n",
       "2     K00002                    5       (754, 1080)    NaN             NaN   \n",
       "3     K00002                    6       (746, 1130)    NaN             NaN   \n",
       "4     K00002                    7       (740, 1182)    NaN             NaN   \n",
       "\n",
       "  Final_conslusion  Note  diagnosis  width_raw  height_raw  \n",
       "0       4 - Normal   NaN        NaN        276          45  \n",
       "1       4 - Normal   NaN        NaN        288          44  \n",
       "2       4 - Normal   NaN        NaN        306          44  \n",
       "3       4 - Normal   NaN        NaN        324          48  \n",
       "4       4 - Normal   NaN        NaN        340          51  "
      ]
     },
     "execution_count": 218,
     "metadata": {},
     "output_type": "execute_result"
    }
   ],
   "source": [
    "master.head()"
   ]
  },
  {
   "cell_type": "code",
   "execution_count": 219,
   "metadata": {
    "collapsed": true
   },
   "outputs": [],
   "source": [
    "master['x_c'] = master['intercostal_coord'].apply( lambda xy: xy[0] )"
   ]
  },
  {
   "cell_type": "code",
   "execution_count": 220,
   "metadata": {
    "collapsed": true
   },
   "outputs": [],
   "source": [
    "master['y_c'] = master['intercostal_coord'].apply( lambda xy: xy[1] )"
   ]
  },
  {
   "cell_type": "code",
   "execution_count": 221,
   "metadata": {
    "collapsed": true
   },
   "outputs": [],
   "source": [
    "master = master.drop( 'intercostal_coord', axis=1 )"
   ]
  },
  {
   "cell_type": "code",
   "execution_count": 287,
   "metadata": {
    "collapsed": false
   },
   "outputs": [
    {
     "data": {
      "text/html": [
       "<div>\n",
       "<table border=\"1\" class=\"dataframe\">\n",
       "  <thead>\n",
       "    <tr style=\"text-align: right;\">\n",
       "      <th></th>\n",
       "      <th>Subject ID</th>\n",
       "      <th>intercostal_position</th>\n",
       "      <th>CXR_ID</th>\n",
       "      <th>Draw_in_Folder</th>\n",
       "      <th>Final_conslusion</th>\n",
       "      <th>Note</th>\n",
       "      <th>diagnosis</th>\n",
       "      <th>width_raw</th>\n",
       "      <th>height_raw</th>\n",
       "      <th>x_c</th>\n",
       "      <th>y_c</th>\n",
       "      <th>x0_300x50</th>\n",
       "      <th>y0_300x50</th>\n",
       "    </tr>\n",
       "  </thead>\n",
       "  <tbody>\n",
       "    <tr>\n",
       "      <th>0</th>\n",
       "      <td>K00002</td>\n",
       "      <td>3</td>\n",
       "      <td>NaN</td>\n",
       "      <td>NaN</td>\n",
       "      <td>4 - Normal</td>\n",
       "      <td>NaN</td>\n",
       "      <td>CLEAR</td>\n",
       "      <td>276</td>\n",
       "      <td>45</td>\n",
       "      <td>762</td>\n",
       "      <td>984</td>\n",
       "      <td>612</td>\n",
       "      <td>959</td>\n",
       "    </tr>\n",
       "    <tr>\n",
       "      <th>1</th>\n",
       "      <td>K00002</td>\n",
       "      <td>4</td>\n",
       "      <td>NaN</td>\n",
       "      <td>NaN</td>\n",
       "      <td>4 - Normal</td>\n",
       "      <td>NaN</td>\n",
       "      <td>CLEAR</td>\n",
       "      <td>288</td>\n",
       "      <td>44</td>\n",
       "      <td>760</td>\n",
       "      <td>1034</td>\n",
       "      <td>610</td>\n",
       "      <td>1009</td>\n",
       "    </tr>\n",
       "    <tr>\n",
       "      <th>2</th>\n",
       "      <td>K00002</td>\n",
       "      <td>5</td>\n",
       "      <td>NaN</td>\n",
       "      <td>NaN</td>\n",
       "      <td>4 - Normal</td>\n",
       "      <td>NaN</td>\n",
       "      <td>CLEAR</td>\n",
       "      <td>306</td>\n",
       "      <td>44</td>\n",
       "      <td>754</td>\n",
       "      <td>1080</td>\n",
       "      <td>604</td>\n",
       "      <td>1055</td>\n",
       "    </tr>\n",
       "    <tr>\n",
       "      <th>3</th>\n",
       "      <td>K00002</td>\n",
       "      <td>6</td>\n",
       "      <td>NaN</td>\n",
       "      <td>NaN</td>\n",
       "      <td>4 - Normal</td>\n",
       "      <td>NaN</td>\n",
       "      <td>CLEAR</td>\n",
       "      <td>324</td>\n",
       "      <td>48</td>\n",
       "      <td>746</td>\n",
       "      <td>1130</td>\n",
       "      <td>596</td>\n",
       "      <td>1105</td>\n",
       "    </tr>\n",
       "    <tr>\n",
       "      <th>4</th>\n",
       "      <td>K00002</td>\n",
       "      <td>7</td>\n",
       "      <td>NaN</td>\n",
       "      <td>NaN</td>\n",
       "      <td>4 - Normal</td>\n",
       "      <td>NaN</td>\n",
       "      <td>CLEAR</td>\n",
       "      <td>340</td>\n",
       "      <td>51</td>\n",
       "      <td>740</td>\n",
       "      <td>1182</td>\n",
       "      <td>590</td>\n",
       "      <td>1157</td>\n",
       "    </tr>\n",
       "  </tbody>\n",
       "</table>\n",
       "</div>"
      ],
      "text/plain": [
       "  Subject ID intercostal_position CXR_ID  Draw_in_Folder Final_conslusion  \\\n",
       "0     K00002                    3    NaN             NaN       4 - Normal   \n",
       "1     K00002                    4    NaN             NaN       4 - Normal   \n",
       "2     K00002                    5    NaN             NaN       4 - Normal   \n",
       "3     K00002                    6    NaN             NaN       4 - Normal   \n",
       "4     K00002                    7    NaN             NaN       4 - Normal   \n",
       "\n",
       "   Note diagnosis  width_raw  height_raw  x_c   y_c  x0_300x50  y0_300x50  \n",
       "0   NaN     CLEAR        276          45  762   984        612        959  \n",
       "1   NaN     CLEAR        288          44  760  1034        610       1009  \n",
       "2   NaN     CLEAR        306          44  754  1080        604       1055  \n",
       "3   NaN     CLEAR        324          48  746  1130        596       1105  \n",
       "4   NaN     CLEAR        340          51  740  1182        590       1157  "
      ]
     },
     "execution_count": 287,
     "metadata": {},
     "output_type": "execute_result"
    }
   ],
   "source": [
    "master.head()"
   ]
  },
  {
   "cell_type": "markdown",
   "metadata": {},
   "source": [
    "# save table to CSV"
   ]
  },
  {
   "cell_type": "code",
   "execution_count": 175,
   "metadata": {
    "collapsed": true
   },
   "outputs": [],
   "source": [
    "master.to_csv( './training_set/master_KENYA_strip_data.csv')"
   ]
  },
  {
   "cell_type": "markdown",
   "metadata": {},
   "source": [
    "# Redo 2D histogram with upper and lower strips removed"
   ]
  },
  {
   "cell_type": "code",
   "execution_count": 180,
   "metadata": {
    "collapsed": true
   },
   "outputs": [],
   "source": [
    "%matplotlib inline"
   ]
  },
  {
   "cell_type": "code",
   "execution_count": 233,
   "metadata": {
    "collapsed": false
   },
   "outputs": [
    {
     "data": {
      "image/png": "[encoded data removed]",
      "text/plain": [
       "<matplotlib.figure.Figure at 0x10c4857d0>"
      ]
     },
     "metadata": {},
     "output_type": "display_data"
    }
   ],
   "source": [
    "x=tuple( master['width_raw'])\n",
    "y = tuple( master['height_raw'])\n",
    "width_bins = range( 200, 800, 25)\n",
    "height_bins = range( 30, 170, 5)\n",
    "H, xedges, yedges = np.histogram2d(x,y, bins=[width_bins,height_bins])\n",
    "import matplotlib.pyplot as plt\n",
    "import numpy as np\n",
    "column_labels = xedges\n",
    "row_labels = yedges\n",
    "data = H\n",
    "fig, ax = plt.subplots(figsize=(12,8))\n",
    "heatmap = ax.pcolor(data, cmap=plt.cm.Blues)\n",
    "\n",
    "#legend\n",
    "cbar = plt.colorbar(heatmap)\n",
    "\n",
    "# put the major ticks at the middle of each cell\n",
    "#ax.set_xticks(np.arange(data.shape[0])+0.5, minor=False)\n",
    "#ax.set_yticks(np.arange(data.shape[1])+0.5, minor=False)\n",
    "\n",
    "# want a more natural, table-like display\n",
    "#ax.invert_yaxis()\n",
    "#ax.xaxis.tick_top()\n",
    "\n",
    "ax.set_xticklabels(range(30,170,20))\n",
    "ax.set_yticklabels(range(200,800,100))\n",
    "ax.set_xlabel('strip height')\n",
    "ax.set_ylabel('strip width')\n",
    "plt.show()"
   ]
  },
  {
   "cell_type": "markdown",
   "metadata": {},
   "source": [
    "# Choose strip dimensions to maximize number of PEP\n",
    "\n",
    "PEP is the smallest class:"
   ]
  },
  {
   "cell_type": "markdown",
   "metadata": {},
   "source": [
    "## Change diagnosis from numbers and NaNs to text"
   ]
  },
  {
   "cell_type": "code",
   "execution_count": 245,
   "metadata": {
    "collapsed": true
   },
   "outputs": [],
   "source": [
    "master['diagnosis'].fillna( 'CLEAR', inplace=True)"
   ]
  },
  {
   "cell_type": "code",
   "execution_count": 246,
   "metadata": {
    "collapsed": false
   },
   "outputs": [
    {
     "data": {
      "text/plain": [
       "CLEAR    4297\n",
       "3.0      1058\n",
       "1.0       253\n",
       "4.0        18\n",
       "2.0        16\n",
       "dtype: int64"
      ]
     },
     "execution_count": 246,
     "metadata": {},
     "output_type": "execute_result"
    }
   ],
   "source": [
    "master['diagnosis'].value_counts()"
   ]
  },
  {
   "cell_type": "code",
   "execution_count": 247,
   "metadata": {
    "collapsed": true
   },
   "outputs": [],
   "source": [
    "master['diagnosis'].replace( 3.0, 'OI', inplace=True)"
   ]
  },
  {
   "cell_type": "code",
   "execution_count": 248,
   "metadata": {
    "collapsed": false
   },
   "outputs": [
    {
     "data": {
      "text/plain": [
       "CLEAR    4297\n",
       "OI       1058\n",
       "1.0       253\n",
       "4.0        18\n",
       "2.0        16\n",
       "dtype: int64"
      ]
     },
     "execution_count": 248,
     "metadata": {},
     "output_type": "execute_result"
    }
   ],
   "source": [
    "master['diagnosis'].value_counts()"
   ]
  },
  {
   "cell_type": "code",
   "execution_count": 249,
   "metadata": {
    "collapsed": true
   },
   "outputs": [],
   "source": [
    "master['diagnosis'].replace( 1.0, 'PEP', inplace=True)"
   ]
  },
  {
   "cell_type": "code",
   "execution_count": 250,
   "metadata": {
    "collapsed": false
   },
   "outputs": [
    {
     "data": {
      "text/plain": [
       "CLEAR    4297\n",
       "OI       1058\n",
       "PEP       253\n",
       "4.0        18\n",
       "2.0        16\n",
       "dtype: int64"
      ]
     },
     "execution_count": 250,
     "metadata": {},
     "output_type": "execute_result"
    }
   ],
   "source": [
    "master['diagnosis'].value_counts()"
   ]
  },
  {
   "cell_type": "markdown",
   "metadata": {},
   "source": [
    "## remove ambiguous"
   ]
  },
  {
   "cell_type": "code",
   "execution_count": 251,
   "metadata": {
    "collapsed": true
   },
   "outputs": [],
   "source": [
    "master = master[ master['diagnosis'] != 4.0]"
   ]
  },
  {
   "cell_type": "code",
   "execution_count": 252,
   "metadata": {
    "collapsed": true
   },
   "outputs": [],
   "source": [
    "master = master[ master['diagnosis'] != 2.0]"
   ]
  },
  {
   "cell_type": "code",
   "execution_count": 253,
   "metadata": {
    "collapsed": false
   },
   "outputs": [
    {
     "data": {
      "text/plain": [
       "CLEAR    4297\n",
       "OI       1058\n",
       "PEP       253\n",
       "dtype: int64"
      ]
     },
     "execution_count": 253,
     "metadata": {},
     "output_type": "execute_result"
    }
   ],
   "source": [
    "master['diagnosis'].value_counts()"
   ]
  },
  {
   "cell_type": "markdown",
   "metadata": {},
   "source": [
    "# PEP location statistics"
   ]
  },
  {
   "cell_type": "code",
   "execution_count": 254,
   "metadata": {
    "collapsed": true
   },
   "outputs": [],
   "source": [
    "all_pep = master[ master['diagnosis'] == 'PEP']"
   ]
  },
  {
   "cell_type": "code",
   "execution_count": 255,
   "metadata": {
    "collapsed": false
   },
   "outputs": [
    {
     "data": {
      "text/plain": [
       "Subject ID               object\n",
       "intercostal_position     object\n",
       "CXR_ID                   object\n",
       "Draw_in_Folder          float64\n",
       "Final_conslusion         object\n",
       "Note                    float64\n",
       "diagnosis                object\n",
       "width_raw                 int64\n",
       "height_raw                int64\n",
       "x_c                       int64\n",
       "y_c                       int64\n",
       "x0_300x50                 int64\n",
       "y0_300x50                 int64\n",
       "dtype: object"
      ]
     },
     "execution_count": 255,
     "metadata": {},
     "output_type": "execute_result"
    }
   ],
   "source": [
    "all_pep.dtypes"
   ]
  },
  {
   "cell_type": "code",
   "execution_count": 256,
   "metadata": {
    "collapsed": false
   },
   "outputs": [
    {
     "data": {
      "text/plain": [
       "253"
      ]
     },
     "execution_count": 256,
     "metadata": {},
     "output_type": "execute_result"
    }
   ],
   "source": [
    "len(all_pep)"
   ]
  },
  {
   "cell_type": "code",
   "execution_count": 257,
   "metadata": {
    "collapsed": false
   },
   "outputs": [
    {
     "data": {
      "text/plain": [
       "7     36\n",
       "5     36\n",
       "6     31\n",
       "4     30\n",
       "8     27\n",
       "3     21\n",
       "9     15\n",
       "19    14\n",
       "18    11\n",
       "20     9\n",
       "17     8\n",
       "16     7\n",
       "15     4\n",
       "14     4\n",
       "dtype: int64"
      ]
     },
     "execution_count": 257,
     "metadata": {},
     "output_type": "execute_result"
    }
   ],
   "source": [
    "all_pep.intercostal_position.value_counts()"
   ]
  },
  {
   "cell_type": "markdown",
   "metadata": {},
   "source": [
    "mostly on the left"
   ]
  },
  {
   "cell_type": "code",
   "execution_count": 258,
   "metadata": {
    "collapsed": false
   },
   "outputs": [
    {
     "data": {
      "image/png": "[encoded data removed]",
      "text/plain": [
       "<matplotlib.figure.Figure at 0x10e8ce590>"
      ]
     },
     "metadata": {},
     "output_type": "display_data"
    }
   ],
   "source": [
    "x=tuple( all_pep['width_raw'])\n",
    "y = tuple( all_pep['height_raw'])\n",
    "width_bins = range( 200, 800, 25)\n",
    "height_bins = range( 30, 170, 5)\n",
    "H, xedges, yedges = np.histogram2d(x,y, bins=[width_bins,height_bins])\n",
    "import matplotlib.pyplot as plt\n",
    "import numpy as np\n",
    "column_labels = xedges\n",
    "row_labels = yedges\n",
    "data = H\n",
    "fig, ax = plt.subplots(figsize=(12,8))\n",
    "heatmap = ax.pcolor(data, cmap=plt.cm.Blues)\n",
    "\n",
    "#legend\n",
    "cbar = plt.colorbar(heatmap)\n",
    "\n",
    "# put the major ticks at the middle of each cell\n",
    "#ax.set_xticks(np.arange(data.shape[0])+0.5, minor=False)\n",
    "#ax.set_yticks(np.arange(data.shape[1])+0.5, minor=False)\n",
    "\n",
    "# want a more natural, table-like display\n",
    "#ax.invert_yaxis()\n",
    "#ax.xaxis.tick_top()\n",
    "\n",
    "ax.set_xticklabels(range(30,170,20))\n",
    "ax.set_yticklabels(range(200,700,100))\n",
    "ax.set_xlabel('strip height')\n",
    "ax.set_ylabel('strip width')\n",
    "plt.show()"
   ]
  },
  {
   "cell_type": "markdown",
   "metadata": {},
   "source": [
    "# calculate top left coord for bounding box"
   ]
  },
  {
   "cell_type": "code",
   "execution_count": null,
   "metadata": {
    "collapsed": true
   },
   "outputs": [],
   "source": [
    "import pandas as pd"
   ]
  },
  {
   "cell_type": "code",
   "execution_count": null,
   "metadata": {
    "collapsed": true
   },
   "outputs": [],
   "source": [
    "master = pd.DataFrame.from_csv( './training_set/master_KENYA_strip_data.csv')"
   ]
  },
  {
   "cell_type": "code",
   "execution_count": 330,
   "metadata": {
    "collapsed": true
   },
   "outputs": [],
   "source": [
    "window_width = 350\n",
    "window_height = 60"
   ]
  },
  {
   "cell_type": "code",
   "execution_count": 331,
   "metadata": {
    "collapsed": false
   },
   "outputs": [],
   "source": [
    "master['x0_{}x{}'.format(window_width, window_height)] = master['x_c'].apply( lambda x: x - (window_width/2) )"
   ]
  },
  {
   "cell_type": "code",
   "execution_count": 332,
   "metadata": {
    "collapsed": false
   },
   "outputs": [],
   "source": [
    "master['y0_{}x{}'.format(window_width, window_height)] = master['y_c'].apply( lambda x: x - (window_height/2) )"
   ]
  },
  {
   "cell_type": "code",
   "execution_count": 333,
   "metadata": {
    "collapsed": false
   },
   "outputs": [
    {
     "data": {
      "text/html": [
       "<div>\n",
       "<table border=\"1\" class=\"dataframe\">\n",
       "  <thead>\n",
       "    <tr style=\"text-align: right;\">\n",
       "      <th></th>\n",
       "      <th>Subject ID</th>\n",
       "      <th>intercostal_position</th>\n",
       "      <th>CXR_ID</th>\n",
       "      <th>Draw_in_Folder</th>\n",
       "      <th>Final_conslusion</th>\n",
       "      <th>Note</th>\n",
       "      <th>diagnosis</th>\n",
       "      <th>width_raw</th>\n",
       "      <th>height_raw</th>\n",
       "      <th>x_c</th>\n",
       "      <th>y_c</th>\n",
       "      <th>x0_300x50</th>\n",
       "      <th>y0_300x50</th>\n",
       "      <th>x0_300x60</th>\n",
       "      <th>y0_300x60</th>\n",
       "      <th>x0_350x50</th>\n",
       "      <th>y0_350x50</th>\n",
       "      <th>x0_350x60</th>\n",
       "      <th>y0_350x60</th>\n",
       "    </tr>\n",
       "  </thead>\n",
       "  <tbody>\n",
       "    <tr>\n",
       "      <th>0</th>\n",
       "      <td>K00002</td>\n",
       "      <td>3</td>\n",
       "      <td>NaN</td>\n",
       "      <td>NaN</td>\n",
       "      <td>4 - Normal</td>\n",
       "      <td>NaN</td>\n",
       "      <td>CLEAR</td>\n",
       "      <td>276</td>\n",
       "      <td>45</td>\n",
       "      <td>762</td>\n",
       "      <td>984</td>\n",
       "      <td>612</td>\n",
       "      <td>959</td>\n",
       "      <td>612</td>\n",
       "      <td>954</td>\n",
       "      <td>587</td>\n",
       "      <td>959</td>\n",
       "      <td>587</td>\n",
       "      <td>954</td>\n",
       "    </tr>\n",
       "    <tr>\n",
       "      <th>1</th>\n",
       "      <td>K00002</td>\n",
       "      <td>4</td>\n",
       "      <td>NaN</td>\n",
       "      <td>NaN</td>\n",
       "      <td>4 - Normal</td>\n",
       "      <td>NaN</td>\n",
       "      <td>CLEAR</td>\n",
       "      <td>288</td>\n",
       "      <td>44</td>\n",
       "      <td>760</td>\n",
       "      <td>1034</td>\n",
       "      <td>610</td>\n",
       "      <td>1009</td>\n",
       "      <td>610</td>\n",
       "      <td>1004</td>\n",
       "      <td>585</td>\n",
       "      <td>1009</td>\n",
       "      <td>585</td>\n",
       "      <td>1004</td>\n",
       "    </tr>\n",
       "    <tr>\n",
       "      <th>2</th>\n",
       "      <td>K00002</td>\n",
       "      <td>5</td>\n",
       "      <td>NaN</td>\n",
       "      <td>NaN</td>\n",
       "      <td>4 - Normal</td>\n",
       "      <td>NaN</td>\n",
       "      <td>CLEAR</td>\n",
       "      <td>306</td>\n",
       "      <td>44</td>\n",
       "      <td>754</td>\n",
       "      <td>1080</td>\n",
       "      <td>604</td>\n",
       "      <td>1055</td>\n",
       "      <td>604</td>\n",
       "      <td>1050</td>\n",
       "      <td>579</td>\n",
       "      <td>1055</td>\n",
       "      <td>579</td>\n",
       "      <td>1050</td>\n",
       "    </tr>\n",
       "    <tr>\n",
       "      <th>3</th>\n",
       "      <td>K00002</td>\n",
       "      <td>6</td>\n",
       "      <td>NaN</td>\n",
       "      <td>NaN</td>\n",
       "      <td>4 - Normal</td>\n",
       "      <td>NaN</td>\n",
       "      <td>CLEAR</td>\n",
       "      <td>324</td>\n",
       "      <td>48</td>\n",
       "      <td>746</td>\n",
       "      <td>1130</td>\n",
       "      <td>596</td>\n",
       "      <td>1105</td>\n",
       "      <td>596</td>\n",
       "      <td>1100</td>\n",
       "      <td>571</td>\n",
       "      <td>1105</td>\n",
       "      <td>571</td>\n",
       "      <td>1100</td>\n",
       "    </tr>\n",
       "    <tr>\n",
       "      <th>4</th>\n",
       "      <td>K00002</td>\n",
       "      <td>7</td>\n",
       "      <td>NaN</td>\n",
       "      <td>NaN</td>\n",
       "      <td>4 - Normal</td>\n",
       "      <td>NaN</td>\n",
       "      <td>CLEAR</td>\n",
       "      <td>340</td>\n",
       "      <td>51</td>\n",
       "      <td>740</td>\n",
       "      <td>1182</td>\n",
       "      <td>590</td>\n",
       "      <td>1157</td>\n",
       "      <td>590</td>\n",
       "      <td>1152</td>\n",
       "      <td>565</td>\n",
       "      <td>1157</td>\n",
       "      <td>565</td>\n",
       "      <td>1152</td>\n",
       "    </tr>\n",
       "  </tbody>\n",
       "</table>\n",
       "</div>"
      ],
      "text/plain": [
       "  Subject ID intercostal_position CXR_ID  Draw_in_Folder Final_conslusion  \\\n",
       "0     K00002                    3    NaN             NaN       4 - Normal   \n",
       "1     K00002                    4    NaN             NaN       4 - Normal   \n",
       "2     K00002                    5    NaN             NaN       4 - Normal   \n",
       "3     K00002                    6    NaN             NaN       4 - Normal   \n",
       "4     K00002                    7    NaN             NaN       4 - Normal   \n",
       "\n",
       "   Note diagnosis  width_raw  height_raw  x_c   y_c  x0_300x50  y0_300x50  \\\n",
       "0   NaN     CLEAR        276          45  762   984        612        959   \n",
       "1   NaN     CLEAR        288          44  760  1034        610       1009   \n",
       "2   NaN     CLEAR        306          44  754  1080        604       1055   \n",
       "3   NaN     CLEAR        324          48  746  1130        596       1105   \n",
       "4   NaN     CLEAR        340          51  740  1182        590       1157   \n",
       "\n",
       "   x0_300x60  y0_300x60  x0_350x50  y0_350x50  x0_350x60  y0_350x60  \n",
       "0        612        954        587        959        587        954  \n",
       "1        610       1004        585       1009        585       1004  \n",
       "2        604       1050        579       1055        579       1050  \n",
       "3        596       1100        571       1105        571       1100  \n",
       "4        590       1152        565       1157        565       1152  "
      ]
     },
     "execution_count": 333,
     "metadata": {},
     "output_type": "execute_result"
    }
   ],
   "source": [
    "master.head()"
   ]
  },
  {
   "cell_type": "markdown",
   "metadata": {},
   "source": [
    "# create wndcharm file of files with crop info"
   ]
  },
  {
   "cell_type": "markdown",
   "metadata": {},
   "source": [
    "## Separate FOF for strips coming from CXRs that are clear"
   ]
  },
  {
   "cell_type": "code",
   "execution_count": 334,
   "metadata": {
    "collapsed": true
   },
   "outputs": [],
   "source": [
    "clear_only = master[ master['Final_conslusion'] == '4 - Normal']"
   ]
  },
  {
   "cell_type": "code",
   "execution_count": 335,
   "metadata": {
    "collapsed": false
   },
   "outputs": [
    {
     "data": {
      "text/plain": [
       "2926"
      ]
     },
     "execution_count": 335,
     "metadata": {},
     "output_type": "execute_result"
    }
   ],
   "source": [
    "len(clear_only)"
   ]
  },
  {
   "cell_type": "code",
   "execution_count": 336,
   "metadata": {
    "collapsed": false
   },
   "outputs": [
    {
     "data": {
      "text/plain": [
       "CLEAR    4297\n",
       "OI       1058\n",
       "PEP       253\n",
       "dtype: int64"
      ]
     },
     "execution_count": 336,
     "metadata": {},
     "output_type": "execute_result"
    }
   ],
   "source": [
    "master['diagnosis'].value_counts()"
   ]
  },
  {
   "cell_type": "code",
   "execution_count": 337,
   "metadata": {
    "collapsed": false
   },
   "outputs": [
    {
     "data": {
      "text/plain": [
       "CLEAR    2926\n",
       "dtype: int64"
      ]
     },
     "execution_count": 337,
     "metadata": {},
     "output_type": "execute_result"
    }
   ],
   "source": [
    "clear_only['diagnosis'].value_counts()"
   ]
  },
  {
   "cell_type": "code",
   "execution_count": 338,
   "metadata": {
    "collapsed": false
   },
   "outputs": [
    {
     "data": {
      "text/plain": [
       "2926"
      ]
     },
     "execution_count": 338,
     "metadata": {},
     "output_type": "execute_result"
    }
   ],
   "source": [
    "len(clear_only)"
   ]
  },
  {
   "cell_type": "code",
   "execution_count": 339,
   "metadata": {
    "collapsed": false
   },
   "outputs": [
    {
     "data": {
      "text/html": [
       "<div>\n",
       "<table border=\"1\" class=\"dataframe\">\n",
       "  <thead>\n",
       "    <tr style=\"text-align: right;\">\n",
       "      <th></th>\n",
       "      <th>Subject ID</th>\n",
       "      <th>intercostal_position</th>\n",
       "      <th>CXR_ID</th>\n",
       "      <th>Draw_in_Folder</th>\n",
       "      <th>Final_conslusion</th>\n",
       "      <th>Note</th>\n",
       "      <th>diagnosis</th>\n",
       "      <th>width_raw</th>\n",
       "      <th>height_raw</th>\n",
       "      <th>x_c</th>\n",
       "      <th>y_c</th>\n",
       "      <th>x0_300x50</th>\n",
       "      <th>y0_300x50</th>\n",
       "      <th>x0_300x60</th>\n",
       "      <th>y0_300x60</th>\n",
       "      <th>x0_350x50</th>\n",
       "      <th>y0_350x50</th>\n",
       "      <th>x0_350x60</th>\n",
       "      <th>y0_350x60</th>\n",
       "    </tr>\n",
       "  </thead>\n",
       "  <tbody>\n",
       "    <tr>\n",
       "      <th>0</th>\n",
       "      <td>K00002</td>\n",
       "      <td>3</td>\n",
       "      <td>NaN</td>\n",
       "      <td>NaN</td>\n",
       "      <td>4 - Normal</td>\n",
       "      <td>NaN</td>\n",
       "      <td>CLEAR</td>\n",
       "      <td>276</td>\n",
       "      <td>45</td>\n",
       "      <td>762</td>\n",
       "      <td>984</td>\n",
       "      <td>612</td>\n",
       "      <td>959</td>\n",
       "      <td>612</td>\n",
       "      <td>954</td>\n",
       "      <td>587</td>\n",
       "      <td>959</td>\n",
       "      <td>587</td>\n",
       "      <td>954</td>\n",
       "    </tr>\n",
       "    <tr>\n",
       "      <th>1</th>\n",
       "      <td>K00002</td>\n",
       "      <td>4</td>\n",
       "      <td>NaN</td>\n",
       "      <td>NaN</td>\n",
       "      <td>4 - Normal</td>\n",
       "      <td>NaN</td>\n",
       "      <td>CLEAR</td>\n",
       "      <td>288</td>\n",
       "      <td>44</td>\n",
       "      <td>760</td>\n",
       "      <td>1034</td>\n",
       "      <td>610</td>\n",
       "      <td>1009</td>\n",
       "      <td>610</td>\n",
       "      <td>1004</td>\n",
       "      <td>585</td>\n",
       "      <td>1009</td>\n",
       "      <td>585</td>\n",
       "      <td>1004</td>\n",
       "    </tr>\n",
       "    <tr>\n",
       "      <th>2</th>\n",
       "      <td>K00002</td>\n",
       "      <td>5</td>\n",
       "      <td>NaN</td>\n",
       "      <td>NaN</td>\n",
       "      <td>4 - Normal</td>\n",
       "      <td>NaN</td>\n",
       "      <td>CLEAR</td>\n",
       "      <td>306</td>\n",
       "      <td>44</td>\n",
       "      <td>754</td>\n",
       "      <td>1080</td>\n",
       "      <td>604</td>\n",
       "      <td>1055</td>\n",
       "      <td>604</td>\n",
       "      <td>1050</td>\n",
       "      <td>579</td>\n",
       "      <td>1055</td>\n",
       "      <td>579</td>\n",
       "      <td>1050</td>\n",
       "    </tr>\n",
       "    <tr>\n",
       "      <th>3</th>\n",
       "      <td>K00002</td>\n",
       "      <td>6</td>\n",
       "      <td>NaN</td>\n",
       "      <td>NaN</td>\n",
       "      <td>4 - Normal</td>\n",
       "      <td>NaN</td>\n",
       "      <td>CLEAR</td>\n",
       "      <td>324</td>\n",
       "      <td>48</td>\n",
       "      <td>746</td>\n",
       "      <td>1130</td>\n",
       "      <td>596</td>\n",
       "      <td>1105</td>\n",
       "      <td>596</td>\n",
       "      <td>1100</td>\n",
       "      <td>571</td>\n",
       "      <td>1105</td>\n",
       "      <td>571</td>\n",
       "      <td>1100</td>\n",
       "    </tr>\n",
       "    <tr>\n",
       "      <th>4</th>\n",
       "      <td>K00002</td>\n",
       "      <td>7</td>\n",
       "      <td>NaN</td>\n",
       "      <td>NaN</td>\n",
       "      <td>4 - Normal</td>\n",
       "      <td>NaN</td>\n",
       "      <td>CLEAR</td>\n",
       "      <td>340</td>\n",
       "      <td>51</td>\n",
       "      <td>740</td>\n",
       "      <td>1182</td>\n",
       "      <td>590</td>\n",
       "      <td>1157</td>\n",
       "      <td>590</td>\n",
       "      <td>1152</td>\n",
       "      <td>565</td>\n",
       "      <td>1157</td>\n",
       "      <td>565</td>\n",
       "      <td>1152</td>\n",
       "    </tr>\n",
       "  </tbody>\n",
       "</table>\n",
       "</div>"
      ],
      "text/plain": [
       "  Subject ID intercostal_position CXR_ID  Draw_in_Folder Final_conslusion  \\\n",
       "0     K00002                    3    NaN             NaN       4 - Normal   \n",
       "1     K00002                    4    NaN             NaN       4 - Normal   \n",
       "2     K00002                    5    NaN             NaN       4 - Normal   \n",
       "3     K00002                    6    NaN             NaN       4 - Normal   \n",
       "4     K00002                    7    NaN             NaN       4 - Normal   \n",
       "\n",
       "   Note diagnosis  width_raw  height_raw  x_c   y_c  x0_300x50  y0_300x50  \\\n",
       "0   NaN     CLEAR        276          45  762   984        612        959   \n",
       "1   NaN     CLEAR        288          44  760  1034        610       1009   \n",
       "2   NaN     CLEAR        306          44  754  1080        604       1055   \n",
       "3   NaN     CLEAR        324          48  746  1130        596       1105   \n",
       "4   NaN     CLEAR        340          51  740  1182        590       1157   \n",
       "\n",
       "   x0_300x60  y0_300x60  x0_350x50  y0_350x50  x0_350x60  y0_350x60  \n",
       "0        612        954        587        959        587        954  \n",
       "1        610       1004        585       1009        585       1004  \n",
       "2        604       1050        579       1055        579       1050  \n",
       "3        596       1100        571       1105        571       1100  \n",
       "4        590       1152        565       1157        565       1152  "
      ]
     },
     "execution_count": 339,
     "metadata": {},
     "output_type": "execute_result"
    }
   ],
   "source": [
    "clear_only.head()"
   ]
  },
  {
   "cell_type": "code",
   "execution_count": 340,
   "metadata": {
    "collapsed": true
   },
   "outputs": [],
   "source": [
    "clear_iter = clear_only.iterrows()"
   ]
  },
  {
   "cell_type": "code",
   "execution_count": 341,
   "metadata": {
    "collapsed": true
   },
   "outputs": [],
   "source": [
    "frmt = '{{x={};y={};w={};h={}}}'"
   ]
  },
  {
   "cell_type": "code",
   "execution_count": 342,
   "metadata": {
    "collapsed": false
   },
   "outputs": [],
   "source": [
    "clear_fof_rows = []\n",
    "for _, row in clear_iter:\n",
    "    subj_id = row['Subject ID']\n",
    "    subj_name = subj_id + '-' + str(row['intercostal_position'])\n",
    "    _path = subj_id + '-CXR.tif'\n",
    "    _class = row['diagnosis']\n",
    "    x0 = row['x0_{}x{}'.format(window_width, window_height)]\n",
    "    y0 = row['y0_{}x{}'.format(window_width, window_height)]\n",
    "    w = window_width\n",
    "    h = window_height\n",
    "    sampling_opts = frmt.format( x0, y0, w, h)\n",
    "    clear_fof_rows.append( '\\t'.join( [subj_name, _class, _path, sampling_opts]))"
   ]
  },
  {
   "cell_type": "code",
   "execution_count": 343,
   "metadata": {
    "collapsed": false
   },
   "outputs": [],
   "source": [
    "with open( 'training_set/KENYA_CXR_CLEAR_ONLY_{}x{}.fof'.format(window_width, window_height), 'w') as fof:\n",
    "    for _ in clear_fof_rows:\n",
    "        fof.write( _ + '\\n')"
   ]
  },
  {
   "cell_type": "code",
   "execution_count": 344,
   "metadata": {
    "collapsed": false
   },
   "outputs": [
    {
     "data": {
      "text/plain": [
       "2926"
      ]
     },
     "execution_count": 344,
     "metadata": {},
     "output_type": "execute_result"
    }
   ],
   "source": [
    "len( clear_fof_rows )"
   ]
  },
  {
   "cell_type": "markdown",
   "metadata": {},
   "source": [
    "# create separate fof for case"
   ]
  },
  {
   "cell_type": "code",
   "execution_count": 345,
   "metadata": {
    "collapsed": false
   },
   "outputs": [],
   "source": [
    "case = master[ master['Final_conslusion'] != '4 - Normal']"
   ]
  },
  {
   "cell_type": "code",
   "execution_count": 346,
   "metadata": {
    "collapsed": false
   },
   "outputs": [
    {
     "data": {
      "text/plain": [
       "2682"
      ]
     },
     "execution_count": 346,
     "metadata": {},
     "output_type": "execute_result"
    }
   ],
   "source": [
    "len(case)"
   ]
  },
  {
   "cell_type": "code",
   "execution_count": 347,
   "metadata": {
    "collapsed": true
   },
   "outputs": [],
   "source": [
    "case_iter = case.iterrows()"
   ]
  },
  {
   "cell_type": "code",
   "execution_count": 348,
   "metadata": {
    "collapsed": false
   },
   "outputs": [],
   "source": [
    "case_fof_rows = []\n",
    "for _, row in case_iter:\n",
    "    subj_id = row['Subject ID']\n",
    "    subj_name = subj_id + '-' + str(row['intercostal_position'])\n",
    "    _path = subj_id + '-CXR.tif'\n",
    "    _class = row['diagnosis']\n",
    "    x0 = row['x0_{}x{}'.format(window_width, window_height)]\n",
    "    y0 = row['y0_{}x{}'.format(window_width, window_height)]\n",
    "    w = window_width\n",
    "    h = window_height\n",
    "    sampling_opts = frmt.format( x0, y0, w, h)\n",
    "    case_fof_rows.append( '\\t'.join( [subj_name, _class, _path, sampling_opts]))"
   ]
  },
  {
   "cell_type": "code",
   "execution_count": 349,
   "metadata": {
    "collapsed": false
   },
   "outputs": [
    {
     "data": {
      "text/plain": [
       "2682"
      ]
     },
     "execution_count": 349,
     "metadata": {},
     "output_type": "execute_result"
    }
   ],
   "source": [
    "len( case_fof_rows)"
   ]
  },
  {
   "cell_type": "code",
   "execution_count": 350,
   "metadata": {
    "collapsed": true
   },
   "outputs": [],
   "source": [
    "with open( 'training_set/KENYA_CXR_CASE_{}x{}.fof'.format(window_width, window_height), 'w') as fof:\n",
    "    for _ in case_fof_rows:\n",
    "        fof.write( _ + '\\n')"
   ]
  },
  {
   "cell_type": "markdown",
   "metadata": {},
   "source": [
    "# Create subset that avoids strips with raw strip sizes les than 300x60"
   ]
  },
  {
   "cell_type": "code",
   "execution_count": null,
   "metadata": {
    "collapsed": true
   },
   "outputs": [],
   "source": []
  },
  {
   "cell_type": "markdown",
   "metadata": {},
   "source": [
    "# Process reserve"
   ]
  },
  {
   "cell_type": "code",
   "execution_count": 351,
   "metadata": {
    "collapsed": false
   },
   "outputs": [
    {
     "name": "stdout",
     "output_type": "stream",
     "text": [
      "/Users/chris/projects/PERCH_Kenya/All_CXR/reserve\n"
     ]
    }
   ],
   "source": [
    "cd reserve/"
   ]
  },
  {
   "cell_type": "code",
   "execution_count": 361,
   "metadata": {
    "collapsed": false
   },
   "outputs": [
    {
     "data": {
      "text/plain": [
       "u'/Users/chris/projects/PERCH_Kenya/All_CXR/reserve'"
      ]
     },
     "execution_count": 361,
     "metadata": {},
     "output_type": "execute_result"
    }
   ],
   "source": [
    "pwd"
   ]
  },
  {
   "cell_type": "code",
   "execution_count": 385,
   "metadata": {
    "collapsed": false
   },
   "outputs": [
    {
     "name": "stdout",
     "output_type": "stream",
     "text": [
      "/Users/chris/projects/PERCH_Kenya/All_CXR/reserve/\n"
     ]
    }
   ],
   "source": [
    "root, dirs, files = walk('/Users/chris/projects/PERCH_Kenya/All_CXR/reserve/').next()\n",
    "print root"
   ]
  },
  {
   "cell_type": "code",
   "execution_count": 386,
   "metadata": {
    "collapsed": false
   },
   "outputs": [
    {
     "data": {
      "text/plain": [
       "344"
      ]
     },
     "execution_count": 386,
     "metadata": {},
     "output_type": "execute_result"
    }
   ],
   "source": [
    "len(files)"
   ]
  },
  {
   "cell_type": "code",
   "execution_count": 387,
   "metadata": {
    "collapsed": true
   },
   "outputs": [],
   "source": [
    "tiffs = [ _ for _ in files if _.endswith('.tif')]"
   ]
  },
  {
   "cell_type": "code",
   "execution_count": 388,
   "metadata": {
    "collapsed": false
   },
   "outputs": [
    {
     "data": {
      "text/plain": [
       "89"
      ]
     },
     "execution_count": 388,
     "metadata": {},
     "output_type": "execute_result"
    }
   ],
   "source": [
    "len(tiffs)"
   ]
  },
  {
   "cell_type": "code",
   "execution_count": 389,
   "metadata": {
    "collapsed": true
   },
   "outputs": [],
   "source": [
    "tsvs = [ _ for _ in files if _.endswith('.tsv')]"
   ]
  },
  {
   "cell_type": "code",
   "execution_count": 390,
   "metadata": {
    "collapsed": false
   },
   "outputs": [
    {
     "data": {
      "text/plain": [
       "89"
      ]
     },
     "execution_count": 390,
     "metadata": {},
     "output_type": "execute_result"
    }
   ],
   "source": [
    "len(tsvs)"
   ]
  },
  {
   "cell_type": "code",
   "execution_count": 415,
   "metadata": {
    "collapsed": false
   },
   "outputs": [],
   "source": [
    "reserve_df = pd.read_excel( '../../Human_locating_abnormal_results_COLETTA_EDIT.xlsx')"
   ]
  },
  {
   "cell_type": "code",
   "execution_count": 406,
   "metadata": {
    "collapsed": false
   },
   "outputs": [],
   "source": [
    "reserve_ic_locs = {}\n",
    "for _file in tsvs:\n",
    "    patient_id = _file[:-4]\n",
    "    reserve_ic_locs[ patient_id ] = []\n",
    "    with open(_file) as tsv:\n",
    "        for i, line in enumerate( tsv ):\n",
    "            columns = line.strip().split('\\t')\n",
    "            # Columns 1 and 2 contain x and y locations of intercostal points\n",
    "            point = ( int( columns[0] ), int( columns[1] ) )\n",
    "            reserve_ic_locs[ patient_id ].append( point )\n",
    "    if len(reserve_ic_locs[ patient_id ]) < 22:\n",
    "        del reserve_ic_locs[ patient_id ]"
   ]
  },
  {
   "cell_type": "code",
   "execution_count": 407,
   "metadata": {
    "collapsed": false
   },
   "outputs": [
    {
     "data": {
      "text/plain": [
       "71"
      ]
     },
     "execution_count": 407,
     "metadata": {},
     "output_type": "execute_result"
    }
   ],
   "source": [
    "len(reserve_ic_locs)"
   ]
  },
  {
   "cell_type": "code",
   "execution_count": 408,
   "metadata": {
    "collapsed": false
   },
   "outputs": [],
   "source": [
    "reserve_ic_locs = pd.DataFrame.from_dict( reserve_ic_locs, orient='index')"
   ]
  },
  {
   "cell_type": "code",
   "execution_count": 409,
   "metadata": {
    "collapsed": false
   },
   "outputs": [
    {
     "data": {
      "text/html": [
       "<div>\n",
       "<table border=\"1\" class=\"dataframe\">\n",
       "  <thead>\n",
       "    <tr style=\"text-align: right;\">\n",
       "      <th></th>\n",
       "      <th>0</th>\n",
       "      <th>1</th>\n",
       "      <th>2</th>\n",
       "      <th>3</th>\n",
       "      <th>4</th>\n",
       "      <th>5</th>\n",
       "      <th>6</th>\n",
       "      <th>7</th>\n",
       "      <th>8</th>\n",
       "      <th>9</th>\n",
       "      <th>...</th>\n",
       "      <th>12</th>\n",
       "      <th>13</th>\n",
       "      <th>14</th>\n",
       "      <th>15</th>\n",
       "      <th>16</th>\n",
       "      <th>17</th>\n",
       "      <th>18</th>\n",
       "      <th>19</th>\n",
       "      <th>20</th>\n",
       "      <th>21</th>\n",
       "    </tr>\n",
       "  </thead>\n",
       "  <tbody>\n",
       "    <tr>\n",
       "      <th>K00857</th>\n",
       "      <td>(824, 652)</td>\n",
       "      <td>(802, 700)</td>\n",
       "      <td>(796, 758)</td>\n",
       "      <td>(790, 808)</td>\n",
       "      <td>(790, 852)</td>\n",
       "      <td>(788, 908)</td>\n",
       "      <td>(776, 972)</td>\n",
       "      <td>(768, 1034)</td>\n",
       "      <td>(752, 1094)</td>\n",
       "      <td>(734, 1182)</td>\n",
       "      <td>...</td>\n",
       "      <td>(1158, 670)</td>\n",
       "      <td>(1184, 738)</td>\n",
       "      <td>(1204, 796)</td>\n",
       "      <td>(1230, 852)</td>\n",
       "      <td>(1244, 910)</td>\n",
       "      <td>(1266, 988)</td>\n",
       "      <td>(1278, 1070)</td>\n",
       "      <td>(1294, 1162)</td>\n",
       "      <td>(1290, 1264)</td>\n",
       "      <td>(1270, 1372)</td>\n",
       "    </tr>\n",
       "    <tr>\n",
       "      <th>K03922d</th>\n",
       "      <td>(728, 546)</td>\n",
       "      <td>(654, 610)</td>\n",
       "      <td>(600, 702)</td>\n",
       "      <td>(552, 794)</td>\n",
       "      <td>(532, 882)</td>\n",
       "      <td>(516, 970)</td>\n",
       "      <td>(488, 1076)</td>\n",
       "      <td>(452, 1188)</td>\n",
       "      <td>(406, 1322)</td>\n",
       "      <td>(386, 1476)</td>\n",
       "      <td>...</td>\n",
       "      <td>(1126, 684)</td>\n",
       "      <td>(1148, 786)</td>\n",
       "      <td>(1164, 880)</td>\n",
       "      <td>(1176, 976)</td>\n",
       "      <td>(1178, 1064)</td>\n",
       "      <td>(1178, 1156)</td>\n",
       "      <td>(1196, 1272)</td>\n",
       "      <td>(1210, 1414)</td>\n",
       "      <td>(1204, 1568)</td>\n",
       "      <td>(1146, 1684)</td>\n",
       "    </tr>\n",
       "    <tr>\n",
       "      <th>K03922e</th>\n",
       "      <td>(870, 708)</td>\n",
       "      <td>(802, 774)</td>\n",
       "      <td>(760, 854)</td>\n",
       "      <td>(728, 932)</td>\n",
       "      <td>(706, 1012)</td>\n",
       "      <td>(696, 1090)</td>\n",
       "      <td>(680, 1184)</td>\n",
       "      <td>(662, 1276)</td>\n",
       "      <td>(652, 1406)</td>\n",
       "      <td>(658, 1500)</td>\n",
       "      <td>...</td>\n",
       "      <td>(1152, 870)</td>\n",
       "      <td>(1158, 954)</td>\n",
       "      <td>(1168, 1020)</td>\n",
       "      <td>(1160, 1076)</td>\n",
       "      <td>(1166, 1148)</td>\n",
       "      <td>(1160, 1212)</td>\n",
       "      <td>(1168, 1286)</td>\n",
       "      <td>(1168, 1366)</td>\n",
       "      <td>(1180, 1464)</td>\n",
       "      <td>(1186, 1570)</td>\n",
       "    </tr>\n",
       "    <tr>\n",
       "      <th>K04165a</th>\n",
       "      <td>(754, 1050)</td>\n",
       "      <td>(754, 1088)</td>\n",
       "      <td>(750, 1138)</td>\n",
       "      <td>(746, 1186)</td>\n",
       "      <td>(738, 1234)</td>\n",
       "      <td>(726, 1286)</td>\n",
       "      <td>(712, 1336)</td>\n",
       "      <td>(692, 1400)</td>\n",
       "      <td>(670, 1482)</td>\n",
       "      <td>(664, 1570)</td>\n",
       "      <td>...</td>\n",
       "      <td>(1070, 1068)</td>\n",
       "      <td>(1082, 1122)</td>\n",
       "      <td>(1088, 1176)</td>\n",
       "      <td>(1106, 1230)</td>\n",
       "      <td>(1112, 1288)</td>\n",
       "      <td>(1128, 1342)</td>\n",
       "      <td>(1146, 1406)</td>\n",
       "      <td>(1172, 1496)</td>\n",
       "      <td>(1166, 1608)</td>\n",
       "      <td>(1132, 1688)</td>\n",
       "    </tr>\n",
       "    <tr>\n",
       "      <th>K03922a</th>\n",
       "      <td>(767, 255)</td>\n",
       "      <td>(711, 323)</td>\n",
       "      <td>(686, 395)</td>\n",
       "      <td>(671, 464)</td>\n",
       "      <td>(651, 532)</td>\n",
       "      <td>(632, 607)</td>\n",
       "      <td>(623, 687)</td>\n",
       "      <td>(599, 779)</td>\n",
       "      <td>(583, 872)</td>\n",
       "      <td>(584, 976)</td>\n",
       "      <td>...</td>\n",
       "      <td>(1111, 346)</td>\n",
       "      <td>(1127, 428)</td>\n",
       "      <td>(1139, 496)</td>\n",
       "      <td>(1144, 562)</td>\n",
       "      <td>(1152, 630)</td>\n",
       "      <td>(1154, 700)</td>\n",
       "      <td>(1162, 788)</td>\n",
       "      <td>(1166, 880)</td>\n",
       "      <td>(1167, 996)</td>\n",
       "      <td>(1151, 1104)</td>\n",
       "    </tr>\n",
       "  </tbody>\n",
       "</table>\n",
       "<p>5 rows × 22 columns</p>\n",
       "</div>"
      ],
      "text/plain": [
       "                  0            1            2            3            4   \\\n",
       "K00857    (824, 652)   (802, 700)   (796, 758)   (790, 808)   (790, 852)   \n",
       "K03922d   (728, 546)   (654, 610)   (600, 702)   (552, 794)   (532, 882)   \n",
       "K03922e   (870, 708)   (802, 774)   (760, 854)   (728, 932)  (706, 1012)   \n",
       "K04165a  (754, 1050)  (754, 1088)  (750, 1138)  (746, 1186)  (738, 1234)   \n",
       "K03922a   (767, 255)   (711, 323)   (686, 395)   (671, 464)   (651, 532)   \n",
       "\n",
       "                  5            6            7            8            9   \\\n",
       "K00857    (788, 908)   (776, 972)  (768, 1034)  (752, 1094)  (734, 1182)   \n",
       "K03922d   (516, 970)  (488, 1076)  (452, 1188)  (406, 1322)  (386, 1476)   \n",
       "K03922e  (696, 1090)  (680, 1184)  (662, 1276)  (652, 1406)  (658, 1500)   \n",
       "K04165a  (726, 1286)  (712, 1336)  (692, 1400)  (670, 1482)  (664, 1570)   \n",
       "K03922a   (632, 607)   (623, 687)   (599, 779)   (583, 872)   (584, 976)   \n",
       "\n",
       "             ...                 12            13            14            15  \\\n",
       "K00857       ...        (1158, 670)   (1184, 738)   (1204, 796)   (1230, 852)   \n",
       "K03922d      ...        (1126, 684)   (1148, 786)   (1164, 880)   (1176, 976)   \n",
       "K03922e      ...        (1152, 870)   (1158, 954)  (1168, 1020)  (1160, 1076)   \n",
       "K04165a      ...       (1070, 1068)  (1082, 1122)  (1088, 1176)  (1106, 1230)   \n",
       "K03922a      ...        (1111, 346)   (1127, 428)   (1139, 496)   (1144, 562)   \n",
       "\n",
       "                   16            17            18            19            20  \\\n",
       "K00857    (1244, 910)   (1266, 988)  (1278, 1070)  (1294, 1162)  (1290, 1264)   \n",
       "K03922d  (1178, 1064)  (1178, 1156)  (1196, 1272)  (1210, 1414)  (1204, 1568)   \n",
       "K03922e  (1166, 1148)  (1160, 1212)  (1168, 1286)  (1168, 1366)  (1180, 1464)   \n",
       "K04165a  (1112, 1288)  (1128, 1342)  (1146, 1406)  (1172, 1496)  (1166, 1608)   \n",
       "K03922a   (1152, 630)   (1154, 700)   (1162, 788)   (1166, 880)   (1167, 996)   \n",
       "\n",
       "                   21  \n",
       "K00857   (1270, 1372)  \n",
       "K03922d  (1146, 1684)  \n",
       "K03922e  (1186, 1570)  \n",
       "K04165a  (1132, 1688)  \n",
       "K03922a  (1151, 1104)  \n",
       "\n",
       "[5 rows x 22 columns]"
      ]
     },
     "execution_count": 409,
     "metadata": {},
     "output_type": "execute_result"
    }
   ],
   "source": [
    "reserve_ic_locs.head()"
   ]
  },
  {
   "cell_type": "code",
   "execution_count": 410,
   "metadata": {
    "collapsed": true
   },
   "outputs": [],
   "source": [
    "reserve_ic_locs['Subject ID']= [ name[:6] for name in reserve_ic_locs.index ]"
   ]
  },
  {
   "cell_type": "code",
   "execution_count": 412,
   "metadata": {
    "collapsed": false
   },
   "outputs": [],
   "source": [
    "unique_subj_ids = set(reserve_ic_locs['Subject ID'])"
   ]
  },
  {
   "cell_type": "code",
   "execution_count": 413,
   "metadata": {
    "collapsed": false
   },
   "outputs": [
    {
     "data": {
      "text/plain": [
       "49"
      ]
     },
     "execution_count": 413,
     "metadata": {},
     "output_type": "execute_result"
    }
   ],
   "source": [
    "len(unique_subj_ids)"
   ]
  },
  {
   "cell_type": "code",
   "execution_count": 417,
   "metadata": {
    "collapsed": false
   },
   "outputs": [],
   "source": [
    "reserve_df = reserve_df[ [ subjid in unique_subj_ids for subjid in reserve_df['Subject ID']] ]"
   ]
  },
  {
   "cell_type": "code",
   "execution_count": 418,
   "metadata": {
    "collapsed": false
   },
   "outputs": [
    {
     "data": {
      "text/plain": [
       "51"
      ]
     },
     "execution_count": 418,
     "metadata": {},
     "output_type": "execute_result"
    }
   ],
   "source": [
    "len(reserve_df)"
   ]
  },
  {
   "cell_type": "code",
   "execution_count": 426,
   "metadata": {
    "collapsed": false
   },
   "outputs": [
    {
     "data": {
      "text/plain": [
       "undrawn    33\n",
       "1          10\n",
       "2           4\n",
       "1&2         1\n",
       "1&2&4       1\n",
       "1&4         1\n",
       "4           1\n",
       "dtype: int64"
      ]
     },
     "execution_count": 426,
     "metadata": {},
     "output_type": "execute_result"
    }
   ],
   "source": [
    "reserve_df['Draw_in_Folder'].value_counts()"
   ]
  },
  {
   "cell_type": "code",
   "execution_count": 438,
   "metadata": {
    "collapsed": false
   },
   "outputs": [
    {
     "data": {
      "text/plain": [
       "1 - PEP only                         12\n",
       "3 - Both PEP and other infiltrate     3\n",
       "2 - Other infiltrate only             3\n",
       "dtype: int64"
      ]
     },
     "execution_count": 438,
     "metadata": {},
     "output_type": "execute_result"
    }
   ],
   "source": [
    "reserve_df['Final_conslusion'].value_counts()"
   ]
  },
  {
   "cell_type": "code",
   "execution_count": 427,
   "metadata": {
    "collapsed": true
   },
   "outputs": [],
   "source": [
    "reserve_df = reserve_df[ reserve_df['Draw_in_Folder'] != 'undrawn']"
   ]
  },
  {
   "cell_type": "code",
   "execution_count": 428,
   "metadata": {
    "collapsed": false
   },
   "outputs": [
    {
     "data": {
      "text/plain": [
       "18"
      ]
     },
     "execution_count": 428,
     "metadata": {},
     "output_type": "execute_result"
    }
   ],
   "source": [
    "len(reserve_df)"
   ]
  },
  {
   "cell_type": "code",
   "execution_count": 429,
   "metadata": {
    "collapsed": true
   },
   "outputs": [],
   "source": [
    "unique_subj_ids = set(reserve_df['Subject ID'])"
   ]
  },
  {
   "cell_type": "code",
   "execution_count": 431,
   "metadata": {
    "collapsed": false
   },
   "outputs": [],
   "source": [
    "reserve_ic_locs = reserve_ic_locs[ [name in unique_subj_ids for name in reserve_ic_locs['Subject ID']] ]"
   ]
  },
  {
   "cell_type": "code",
   "execution_count": 456,
   "metadata": {
    "collapsed": false
   },
   "outputs": [
    {
     "data": {
      "text/plain": [
       "Index([            0,             1,             2,             3,\n",
       "                   4,             5,             6,             7,\n",
       "                   8,             9,            10,            11,\n",
       "                  12,            13,            14,            15,\n",
       "                  16,            17,            18,            19,\n",
       "                  20,            21, u'Subject ID'],\n",
       "      dtype='object')"
      ]
     },
     "execution_count": 456,
     "metadata": {},
     "output_type": "execute_result"
    }
   ],
   "source": [
    "reserve_ic_locs.columns"
   ]
  },
  {
   "cell_type": "code",
   "execution_count": null,
   "metadata": {
    "collapsed": true
   },
   "outputs": [],
   "source": []
  },
  {
   "cell_type": "code",
   "execution_count": 432,
   "metadata": {
    "collapsed": false
   },
   "outputs": [
    {
     "data": {
      "text/plain": [
       "30"
      ]
     },
     "execution_count": 432,
     "metadata": {},
     "output_type": "execute_result"
    }
   ],
   "source": [
    "len(reserve_ic_locs)"
   ]
  },
  {
   "cell_type": "code",
   "execution_count": 439,
   "metadata": {
    "collapsed": true
   },
   "outputs": [],
   "source": [
    "reserve_list = []"
   ]
  },
  {
   "cell_type": "code",
   "execution_count": 433,
   "metadata": {
    "collapsed": true
   },
   "outputs": [],
   "source": [
    "subj_iter = iter( sorted(unique_subj_ids) )"
   ]
  },
  {
   "cell_type": "code",
   "execution_count": 434,
   "metadata": {
    "collapsed": true
   },
   "outputs": [],
   "source": [
    "subjid = subj_iter.next()"
   ]
  },
  {
   "cell_type": "code",
   "execution_count": 435,
   "metadata": {
    "collapsed": false
   },
   "outputs": [
    {
     "name": "stdout",
     "output_type": "stream",
     "text": [
      "K00949\n"
     ]
    }
   ],
   "source": [
    "print subjid"
   ]
  },
  {
   "cell_type": "code",
   "execution_count": 440,
   "metadata": {
    "collapsed": false
   },
   "outputs": [],
   "source": [
    "locs = reserve_ic_locs[ reserve_ic_locs['Subject ID'] == subjid ]"
   ]
  },
  {
   "cell_type": "code",
   "execution_count": 441,
   "metadata": {
    "collapsed": false
   },
   "outputs": [
    {
     "data": {
      "text/html": [
       "<div>\n",
       "<table border=\"1\" class=\"dataframe\">\n",
       "  <thead>\n",
       "    <tr style=\"text-align: right;\">\n",
       "      <th></th>\n",
       "      <th>0</th>\n",
       "      <th>1</th>\n",
       "      <th>2</th>\n",
       "      <th>3</th>\n",
       "      <th>4</th>\n",
       "      <th>5</th>\n",
       "      <th>6</th>\n",
       "      <th>7</th>\n",
       "      <th>8</th>\n",
       "      <th>9</th>\n",
       "      <th>...</th>\n",
       "      <th>13</th>\n",
       "      <th>14</th>\n",
       "      <th>15</th>\n",
       "      <th>16</th>\n",
       "      <th>17</th>\n",
       "      <th>18</th>\n",
       "      <th>19</th>\n",
       "      <th>20</th>\n",
       "      <th>21</th>\n",
       "      <th>Subject ID</th>\n",
       "    </tr>\n",
       "  </thead>\n",
       "  <tbody>\n",
       "    <tr>\n",
       "      <th>K00949c</th>\n",
       "      <td>(677, 644)</td>\n",
       "      <td>(636, 700)</td>\n",
       "      <td>(601, 769)</td>\n",
       "      <td>(589, 835)</td>\n",
       "      <td>(568, 900)</td>\n",
       "      <td>(568, 969)</td>\n",
       "      <td>(552, 1041)</td>\n",
       "      <td>(525, 1139)</td>\n",
       "      <td>(528, 1232)</td>\n",
       "      <td>(537, 1349)</td>\n",
       "      <td>...</td>\n",
       "      <td>(1001, 804)</td>\n",
       "      <td>(1016, 860)</td>\n",
       "      <td>(1018, 921)</td>\n",
       "      <td>(1028, 985)</td>\n",
       "      <td>(1038, 1060)</td>\n",
       "      <td>(1054, 1151)</td>\n",
       "      <td>(1068, 1256)</td>\n",
       "      <td>(1050, 1361)</td>\n",
       "      <td>(1036, 1464)</td>\n",
       "      <td>K00949</td>\n",
       "    </tr>\n",
       "    <tr>\n",
       "      <th>K00949d</th>\n",
       "      <td>(718, 456)</td>\n",
       "      <td>(684, 518)</td>\n",
       "      <td>(668, 588)</td>\n",
       "      <td>(660, 656)</td>\n",
       "      <td>(650, 718)</td>\n",
       "      <td>(642, 780)</td>\n",
       "      <td>(634, 846)</td>\n",
       "      <td>(626, 924)</td>\n",
       "      <td>(622, 1028)</td>\n",
       "      <td>(640, 1134)</td>\n",
       "      <td>...</td>\n",
       "      <td>(1072, 568)</td>\n",
       "      <td>(1094, 622)</td>\n",
       "      <td>(1108, 684)</td>\n",
       "      <td>(1126, 748)</td>\n",
       "      <td>(1142, 824)</td>\n",
       "      <td>(1166, 910)</td>\n",
       "      <td>(1184, 1016)</td>\n",
       "      <td>(1194, 1136)</td>\n",
       "      <td>(1194, 1244)</td>\n",
       "      <td>K00949</td>\n",
       "    </tr>\n",
       "  </tbody>\n",
       "</table>\n",
       "<p>2 rows × 23 columns</p>\n",
       "</div>"
      ],
      "text/plain": [
       "                  0           1           2           3           4  \\\n",
       "K00949c  (677, 644)  (636, 700)  (601, 769)  (589, 835)  (568, 900)   \n",
       "K00949d  (718, 456)  (684, 518)  (668, 588)  (660, 656)  (650, 718)   \n",
       "\n",
       "                  5            6            7            8            9  \\\n",
       "K00949c  (568, 969)  (552, 1041)  (525, 1139)  (528, 1232)  (537, 1349)   \n",
       "K00949d  (642, 780)   (634, 846)   (626, 924)  (622, 1028)  (640, 1134)   \n",
       "\n",
       "           ...               13           14           15           16  \\\n",
       "K00949c    ...      (1001, 804)  (1016, 860)  (1018, 921)  (1028, 985)   \n",
       "K00949d    ...      (1072, 568)  (1094, 622)  (1108, 684)  (1126, 748)   \n",
       "\n",
       "                   17            18            19            20            21  \\\n",
       "K00949c  (1038, 1060)  (1054, 1151)  (1068, 1256)  (1050, 1361)  (1036, 1464)   \n",
       "K00949d   (1142, 824)   (1166, 910)  (1184, 1016)  (1194, 1136)  (1194, 1244)   \n",
       "\n",
       "        Subject ID  \n",
       "K00949c     K00949  \n",
       "K00949d     K00949  \n",
       "\n",
       "[2 rows x 23 columns]"
      ]
     },
     "execution_count": 441,
     "metadata": {},
     "output_type": "execute_result"
    }
   ],
   "source": [
    "locs"
   ]
  },
  {
   "cell_type": "code",
   "execution_count": 452,
   "metadata": {
    "collapsed": true
   },
   "outputs": [],
   "source": [
    "wanted_locs = locs[[False, True]]"
   ]
  },
  {
   "cell_type": "code",
   "execution_count": 453,
   "metadata": {
    "collapsed": false
   },
   "outputs": [
    {
     "data": {
      "text/html": [
       "<div>\n",
       "<table border=\"1\" class=\"dataframe\">\n",
       "  <thead>\n",
       "    <tr style=\"text-align: right;\">\n",
       "      <th></th>\n",
       "      <th>0</th>\n",
       "      <th>1</th>\n",
       "      <th>2</th>\n",
       "      <th>3</th>\n",
       "      <th>4</th>\n",
       "      <th>5</th>\n",
       "      <th>6</th>\n",
       "      <th>7</th>\n",
       "      <th>8</th>\n",
       "      <th>9</th>\n",
       "      <th>...</th>\n",
       "      <th>13</th>\n",
       "      <th>14</th>\n",
       "      <th>15</th>\n",
       "      <th>16</th>\n",
       "      <th>17</th>\n",
       "      <th>18</th>\n",
       "      <th>19</th>\n",
       "      <th>20</th>\n",
       "      <th>21</th>\n",
       "      <th>Subject ID</th>\n",
       "    </tr>\n",
       "  </thead>\n",
       "  <tbody>\n",
       "    <tr>\n",
       "      <th>K00949d</th>\n",
       "      <td>(718, 456)</td>\n",
       "      <td>(684, 518)</td>\n",
       "      <td>(668, 588)</td>\n",
       "      <td>(660, 656)</td>\n",
       "      <td>(650, 718)</td>\n",
       "      <td>(642, 780)</td>\n",
       "      <td>(634, 846)</td>\n",
       "      <td>(626, 924)</td>\n",
       "      <td>(622, 1028)</td>\n",
       "      <td>(640, 1134)</td>\n",
       "      <td>...</td>\n",
       "      <td>(1072, 568)</td>\n",
       "      <td>(1094, 622)</td>\n",
       "      <td>(1108, 684)</td>\n",
       "      <td>(1126, 748)</td>\n",
       "      <td>(1142, 824)</td>\n",
       "      <td>(1166, 910)</td>\n",
       "      <td>(1184, 1016)</td>\n",
       "      <td>(1194, 1136)</td>\n",
       "      <td>(1194, 1244)</td>\n",
       "      <td>K00949</td>\n",
       "    </tr>\n",
       "  </tbody>\n",
       "</table>\n",
       "<p>1 rows × 23 columns</p>\n",
       "</div>"
      ],
      "text/plain": [
       "                  0           1           2           3           4  \\\n",
       "K00949d  (718, 456)  (684, 518)  (668, 588)  (660, 656)  (650, 718)   \n",
       "\n",
       "                  5           6           7            8            9  \\\n",
       "K00949d  (642, 780)  (634, 846)  (626, 924)  (622, 1028)  (640, 1134)   \n",
       "\n",
       "           ...               13           14           15           16  \\\n",
       "K00949d    ...      (1072, 568)  (1094, 622)  (1108, 684)  (1126, 748)   \n",
       "\n",
       "                  17           18            19            20            21  \\\n",
       "K00949d  (1142, 824)  (1166, 910)  (1184, 1016)  (1194, 1136)  (1194, 1244)   \n",
       "\n",
       "        Subject ID  \n",
       "K00949d     K00949  \n",
       "\n",
       "[1 rows x 23 columns]"
      ]
     },
     "execution_count": 453,
     "metadata": {},
     "output_type": "execute_result"
    }
   ],
   "source": [
    "wanted_locs"
   ]
  },
  {
   "cell_type": "code",
   "execution_count": 442,
   "metadata": {
    "collapsed": false
   },
   "outputs": [],
   "source": [
    "calls = reserve_df[ reserve_df['Subject ID'] == subjid ]"
   ]
  },
  {
   "cell_type": "code",
   "execution_count": 443,
   "metadata": {
    "collapsed": false
   },
   "outputs": [
    {
     "data": {
      "text/html": [
       "<div>\n",
       "<table border=\"1\" class=\"dataframe\">\n",
       "  <thead>\n",
       "    <tr style=\"text-align: right;\">\n",
       "      <th></th>\n",
       "      <th>Subject ID</th>\n",
       "      <th>CXR_ID</th>\n",
       "      <th>Draw_in_Folder</th>\n",
       "      <th>Final_conslusion</th>\n",
       "      <th>Note</th>\n",
       "      <th>Tile_1</th>\n",
       "      <th>Tile_2</th>\n",
       "      <th>Tile_3</th>\n",
       "      <th>Tile_4</th>\n",
       "      <th>Tile_5</th>\n",
       "      <th>...</th>\n",
       "      <th>Tile_13</th>\n",
       "      <th>Tile_14</th>\n",
       "      <th>Tile_15</th>\n",
       "      <th>Tile_16</th>\n",
       "      <th>Tile_17</th>\n",
       "      <th>Tile_18</th>\n",
       "      <th>Tile_19</th>\n",
       "      <th>Tile_20</th>\n",
       "      <th>Tile_21</th>\n",
       "      <th>Tile_22</th>\n",
       "    </tr>\n",
       "  </thead>\n",
       "  <tbody>\n",
       "    <tr>\n",
       "      <th>8</th>\n",
       "      <td>K00949</td>\n",
       "      <td>K00949-AP</td>\n",
       "      <td>1</td>\n",
       "      <td>1 - PEP only</td>\n",
       "      <td>NaN</td>\n",
       "      <td>NaN</td>\n",
       "      <td>NaN</td>\n",
       "      <td>NaN</td>\n",
       "      <td>NaN</td>\n",
       "      <td>NaN</td>\n",
       "      <td>...</td>\n",
       "      <td>1</td>\n",
       "      <td>1</td>\n",
       "      <td>1</td>\n",
       "      <td>1</td>\n",
       "      <td>1</td>\n",
       "      <td>1</td>\n",
       "      <td>NaN</td>\n",
       "      <td>NaN</td>\n",
       "      <td>NaN</td>\n",
       "      <td>NaN</td>\n",
       "    </tr>\n",
       "  </tbody>\n",
       "</table>\n",
       "<p>1 rows × 27 columns</p>\n",
       "</div>"
      ],
      "text/plain": [
       "  Subject ID     CXR_ID Draw_in_Folder Final_conslusion Note  Tile_1  Tile_2  \\\n",
       "8     K00949  K00949-AP              1     1 - PEP only  NaN     NaN     NaN   \n",
       "\n",
       "   Tile_3  Tile_4  Tile_5   ...     Tile_13  Tile_14  Tile_15  Tile_16  \\\n",
       "8     NaN     NaN     NaN   ...           1        1        1        1   \n",
       "\n",
       "   Tile_17  Tile_18  Tile_19  Tile_20  Tile_21  Tile_22  \n",
       "8        1        1      NaN      NaN      NaN      NaN  \n",
       "\n",
       "[1 rows x 27 columns]"
      ]
     },
     "execution_count": 443,
     "metadata": {},
     "output_type": "execute_result"
    }
   ],
   "source": [
    "calls"
   ]
  },
  {
   "cell_type": "code",
   "execution_count": 454,
   "metadata": {
    "collapsed": true
   },
   "outputs": [],
   "source": [
    "locs_melted = pd.melt( wanted_locs, var_name='intercostal_position', value_name='raw_strip_size', id_vars=('Subject ID') )"
   ]
  },
  {
   "cell_type": "code",
   "execution_count": 455,
   "metadata": {
    "collapsed": false
   },
   "outputs": [
    {
     "data": {
      "text/html": [
       "<div>\n",
       "<table border=\"1\" class=\"dataframe\">\n",
       "  <thead>\n",
       "    <tr style=\"text-align: right;\">\n",
       "      <th></th>\n",
       "      <th>Subject ID</th>\n",
       "      <th>intercostal_position</th>\n",
       "      <th>raw_strip_size</th>\n",
       "    </tr>\n",
       "  </thead>\n",
       "  <tbody>\n",
       "    <tr>\n",
       "      <th>0</th>\n",
       "      <td>K00949</td>\n",
       "      <td>0</td>\n",
       "      <td>(718, 456)</td>\n",
       "    </tr>\n",
       "    <tr>\n",
       "      <th>1</th>\n",
       "      <td>K00949</td>\n",
       "      <td>1</td>\n",
       "      <td>(684, 518)</td>\n",
       "    </tr>\n",
       "    <tr>\n",
       "      <th>2</th>\n",
       "      <td>K00949</td>\n",
       "      <td>2</td>\n",
       "      <td>(668, 588)</td>\n",
       "    </tr>\n",
       "    <tr>\n",
       "      <th>3</th>\n",
       "      <td>K00949</td>\n",
       "      <td>3</td>\n",
       "      <td>(660, 656)</td>\n",
       "    </tr>\n",
       "    <tr>\n",
       "      <th>4</th>\n",
       "      <td>K00949</td>\n",
       "      <td>4</td>\n",
       "      <td>(650, 718)</td>\n",
       "    </tr>\n",
       "    <tr>\n",
       "      <th>5</th>\n",
       "      <td>K00949</td>\n",
       "      <td>5</td>\n",
       "      <td>(642, 780)</td>\n",
       "    </tr>\n",
       "    <tr>\n",
       "      <th>6</th>\n",
       "      <td>K00949</td>\n",
       "      <td>6</td>\n",
       "      <td>(634, 846)</td>\n",
       "    </tr>\n",
       "    <tr>\n",
       "      <th>7</th>\n",
       "      <td>K00949</td>\n",
       "      <td>7</td>\n",
       "      <td>(626, 924)</td>\n",
       "    </tr>\n",
       "    <tr>\n",
       "      <th>8</th>\n",
       "      <td>K00949</td>\n",
       "      <td>8</td>\n",
       "      <td>(622, 1028)</td>\n",
       "    </tr>\n",
       "    <tr>\n",
       "      <th>9</th>\n",
       "      <td>K00949</td>\n",
       "      <td>9</td>\n",
       "      <td>(640, 1134)</td>\n",
       "    </tr>\n",
       "    <tr>\n",
       "      <th>10</th>\n",
       "      <td>K00949</td>\n",
       "      <td>10</td>\n",
       "      <td>(680, 1244)</td>\n",
       "    </tr>\n",
       "    <tr>\n",
       "      <th>11</th>\n",
       "      <td>K00949</td>\n",
       "      <td>11</td>\n",
       "      <td>(1028, 450)</td>\n",
       "    </tr>\n",
       "    <tr>\n",
       "      <th>12</th>\n",
       "      <td>K00949</td>\n",
       "      <td>12</td>\n",
       "      <td>(1056, 510)</td>\n",
       "    </tr>\n",
       "    <tr>\n",
       "      <th>13</th>\n",
       "      <td>K00949</td>\n",
       "      <td>13</td>\n",
       "      <td>(1072, 568)</td>\n",
       "    </tr>\n",
       "    <tr>\n",
       "      <th>14</th>\n",
       "      <td>K00949</td>\n",
       "      <td>14</td>\n",
       "      <td>(1094, 622)</td>\n",
       "    </tr>\n",
       "    <tr>\n",
       "      <th>15</th>\n",
       "      <td>K00949</td>\n",
       "      <td>15</td>\n",
       "      <td>(1108, 684)</td>\n",
       "    </tr>\n",
       "    <tr>\n",
       "      <th>16</th>\n",
       "      <td>K00949</td>\n",
       "      <td>16</td>\n",
       "      <td>(1126, 748)</td>\n",
       "    </tr>\n",
       "    <tr>\n",
       "      <th>17</th>\n",
       "      <td>K00949</td>\n",
       "      <td>17</td>\n",
       "      <td>(1142, 824)</td>\n",
       "    </tr>\n",
       "    <tr>\n",
       "      <th>18</th>\n",
       "      <td>K00949</td>\n",
       "      <td>18</td>\n",
       "      <td>(1166, 910)</td>\n",
       "    </tr>\n",
       "    <tr>\n",
       "      <th>19</th>\n",
       "      <td>K00949</td>\n",
       "      <td>19</td>\n",
       "      <td>(1184, 1016)</td>\n",
       "    </tr>\n",
       "    <tr>\n",
       "      <th>20</th>\n",
       "      <td>K00949</td>\n",
       "      <td>20</td>\n",
       "      <td>(1194, 1136)</td>\n",
       "    </tr>\n",
       "    <tr>\n",
       "      <th>21</th>\n",
       "      <td>K00949</td>\n",
       "      <td>21</td>\n",
       "      <td>(1194, 1244)</td>\n",
       "    </tr>\n",
       "  </tbody>\n",
       "</table>\n",
       "</div>"
      ],
      "text/plain": [
       "   Subject ID intercostal_position raw_strip_size\n",
       "0      K00949                    0     (718, 456)\n",
       "1      K00949                    1     (684, 518)\n",
       "2      K00949                    2     (668, 588)\n",
       "3      K00949                    3     (660, 656)\n",
       "4      K00949                    4     (650, 718)\n",
       "5      K00949                    5     (642, 780)\n",
       "6      K00949                    6     (634, 846)\n",
       "7      K00949                    7     (626, 924)\n",
       "8      K00949                    8    (622, 1028)\n",
       "9      K00949                    9    (640, 1134)\n",
       "10     K00949                   10    (680, 1244)\n",
       "11     K00949                   11    (1028, 450)\n",
       "12     K00949                   12    (1056, 510)\n",
       "13     K00949                   13    (1072, 568)\n",
       "14     K00949                   14    (1094, 622)\n",
       "15     K00949                   15    (1108, 684)\n",
       "16     K00949                   16    (1126, 748)\n",
       "17     K00949                   17    (1142, 824)\n",
       "18     K00949                   18    (1166, 910)\n",
       "19     K00949                   19   (1184, 1016)\n",
       "20     K00949                   20   (1194, 1136)\n",
       "21     K00949                   21   (1194, 1244)"
      ]
     },
     "execution_count": 455,
     "metadata": {},
     "output_type": "execute_result"
    }
   ],
   "source": [
    "locs_melted"
   ]
  },
  {
   "cell_type": "markdown",
   "metadata": {},
   "source": [
    "# Calculate features"
   ]
  },
  {
   "cell_type": "code",
   "execution_count": 84,
   "metadata": {
    "collapsed": true
   },
   "outputs": [],
   "source": [
    "from wndcharm.FeatureSpace import FeatureSpace\n",
    "import pdb; pdb.set_trace()\n",
    "fs = FeatureSpace.NewFromFileOfFiles('KENYA_CXR_CASE.fof', long=True, quiet=False)\n",
    "fs.ToFitFile( 'KENYA_CXR_CASE.fit' )"
   ]
  }
 ],
 "metadata": {
  "kernelspec": {
   "display_name": "Python 2",
   "language": "python",
   "name": "python2"
  },
  "language_info": {
   "codemirror_mode": {
    "name": "ipython",
    "version": 2
   },
   "file_extension": ".py",
   "mimetype": "text/x-python",
   "name": "python",
   "nbconvert_exporter": "python",
   "pygments_lexer": "ipython2",
   "version": "2.7.10"
  }
 },
 "nbformat": 4,
 "nbformat_minor": 0
}
