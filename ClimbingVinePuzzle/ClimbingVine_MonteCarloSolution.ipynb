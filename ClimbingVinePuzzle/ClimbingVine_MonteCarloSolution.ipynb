{
 "cells": [
  {
   "cell_type": "code",
   "execution_count": 4,
   "metadata": {
    "collapsed": false
   },
   "outputs": [],
   "source": [
    "class Brick( object ):\n",
    "    import sympy\n",
    "    wall_width = 100\n",
    "    layers = {} # key: row; value: list of brick objects\n",
    "    num_layers = None\n",
    "    count = 0\n",
    "    all_bricks = []\n",
    "    bottom_layer = None\n",
    "    vine_colors = None\n",
    "\n",
    "    def __init__( self, layer, index, leftx, rightx ):\n",
    "        self.layer = layer\n",
    "        self.index = index\n",
    "        self.leftx = leftx\n",
    "        self.rightx = rightx\n",
    "        self.width = rightx - leftx\n",
    "        self.label = self.__class__.count\n",
    "        self.vine = None\n",
    "        self.__class__.count += 1\n",
    "        if layer not in self.layers:\n",
    "            self.layers[layer] = []\n",
    "        self.layers[layer].append( self )\n",
    "        self.all_bricks.append( self )\n",
    "\n",
    "    @classmethod\n",
    "    def ValidPathFromEdges( cls, leftx_0, rightx_0, layer_index=None):\n",
    "\n",
    "        if layer_index == None:\n",
    "            layer_index = len( cls.layers )\n",
    "        if layer_index < 1:\n",
    "            return []\n",
    "        \n",
    "        this_layer = cls.layers[ layer_index ]\n",
    "        \n",
    "        # Should be only 1\n",
    "        b_above = [ b.label for b in this_layer if b.leftx <= leftx_0 and b.rightx >= rightx_0 ]\n",
    "        assert len( b_above ) <= 1\n",
    "\n",
    "        #if b_above:\n",
    "        #    print \"layer {} brick {}\".format( layer_index, b_above[0] )\n",
    "        #else:\n",
    "        #    print \"layer {} nada\".format( layer_index )\n",
    "            \n",
    "        retval = cls.ValidPathFromEdges( leftx_0, rightx_0, layer_index -1 )\n",
    "        #print \"retval={}\".format( retval )\n",
    "        #print \"b_above={}\".format( b_above )\n",
    "        return b_above + retval\n",
    "\n",
    "\n",
    "    def __str__( self ):\n",
    "        return \"<B-{}: L-{}-{} x1={} x2={}>\".format( self.label, self.layer, self.index, self.leftx, self.rightx )\n",
    "    def __repr__( self ):\n",
    "        return str( self )\n",
    "    \n",
    "    @classmethod\n",
    "    def KnockDown( cls ):\n",
    "        cls.layers = {}\n",
    "        cls.count = 0\n",
    "        cls.all_bricks = []\n",
    "        \n",
    "    @classmethod\n",
    "    def Reset( cls ):\n",
    "        for b in cls.all_bricks:\n",
    "            b.vine=None\n",
    "        for b in cls.bottom_layer:\n",
    "            b.vine = b.index\n",
    "\n",
    "    @classmethod\n",
    "    def AllPathEdges( cls ):\n",
    "        lefts = sorted( set( [ b.leftx for b in cls.all_bricks ] ) )\n",
    "        lefts.append( cls.sympy.Rational( cls.wall_width ) )\n",
    "        return lefts\n",
    "    \n",
    "    @classmethod\n",
    "    def LaneEdgesForEachBrick( cls ):\n",
    "        lanes = {}\n",
    "        all_path_edges = cls.AllPathEdges()\n",
    "        for b in cls.bottom_layer:\n",
    "            l = b.leftx\n",
    "            r = b.rightx\n",
    "            index = b.index\n",
    "            brick_lane_list = []\n",
    "            for i in xrange( len( all_path_edges ) - 1 ):\n",
    "                lp = all_path_edges[i]\n",
    "                rp = all_path_edges[i+1]\n",
    "                if lp >= l and rp <= r:\n",
    "                    brick_lane_list.append( ( lp,rp ))\n",
    "            lanes[ index ] = brick_lane_list\n",
    "        return lanes\n",
    "    \n",
    "    @classmethod\n",
    "    def AllPaths( cls ):\n",
    "        paths = {}\n",
    "        lanes = cls.LaneEdgesForEachBrick()\n",
    "        for bottom_brick_index, edge_pair_list in lanes.iteritems():\n",
    "            path_list = []\n",
    "            for left, right in edge_pair_list:\n",
    "                #print \"l: {}, r: {}\".format( left, right)\n",
    "                path_list.append( cls.ValidPathFromEdges( left, right ) )\n",
    "            paths[ bottom_brick_index ] = path_list\n",
    "        return paths\n",
    "    \n",
    "    @classmethod\n",
    "    def BottomLayerEdges( cls ):\n",
    "        lefts = sorted( set( [ b.leftx for b in cls.bottom_layer ] ) )\n",
    "        lefts.append( cls.sympy.Rational( cls.wall_width ) )\n",
    "        return lefts\n",
    "\n",
    "    @classmethod\n",
    "    def layrow( cls, n_bricks_in_layer ):\n",
    "        \"\"\"Return the layer you just made\"\"\"\n",
    "        if n_bricks_in_layer == 0:\n",
    "            return None\n",
    "        brick_width = cls.sympy.Rational( cls.wall_width, n_bricks_in_layer )\n",
    "        for i in xrange( n_bricks_in_layer ):\n",
    "            leftx = i * brick_width\n",
    "            rightx = (i + 1) * brick_width\n",
    "            cls( n_bricks_in_layer, i, leftx, rightx)\n",
    "        return cls.layers[ n_bricks_in_layer ]\n",
    "\n",
    "    @classmethod\n",
    "    def BuildWall( cls, n_layers ):\n",
    "        cls.KnockDown()\n",
    "        last_layer = None\n",
    "        cls.num_layers = n_layers\n",
    "        for i in xrange( 1, n_layers + 1):\n",
    "            last_layer = cls.layrow( i )\n",
    "        cls.bottom_layer = last_layer\n",
    "        import matplotlib.pyplot as plt\n",
    "        from numpy.random import rand\n",
    "        cls.vine_colors = rand(len(last_layer)+1 , 3)\n",
    "        for b in last_layer:\n",
    "            b.vine = b.index\n",
    "        \n",
    "    @classmethod\n",
    "    def DrawWall( cls ):\n",
    "        import matplotlib.pyplot as plt\n",
    "        from matplotlib.path import Path\n",
    "        import matplotlib.patches as patches\n",
    "        \n",
    "        fig = plt.figure( figsize=(15,8) )\n",
    "        ax = fig.add_subplot(111)\n",
    "        \n",
    "        codes = [\n",
    "            Path.MOVETO,\n",
    "            Path.LINETO,\n",
    "            Path.LINETO,\n",
    "            Path.LINETO,\n",
    "            Path.CLOSEPOLY,\n",
    "        ]\n",
    "        \n",
    "        bottom_layer_index = max( cls.layers.keys() )\n",
    "        for b in cls.all_bricks:\n",
    "            #print b\n",
    "            verts = [\n",
    "                ( float( b.leftx ), -1 * b.layer), # left, top\n",
    "                ( float( b.rightx ), -1 * b.layer), # right, top\n",
    "                ( float( b.rightx ), -1 * (b.layer + 1) ), # right, bottom\n",
    "                ( float( b.leftx ), -1 * (b.layer + 1) ), # left, bottom\n",
    "                ( float( b.leftx ), -1 * b.layer), # left, top, # ignored\n",
    "            ]\n",
    "            path = Path(verts, codes)\n",
    "            if b.vine is not None:\n",
    "                color = cls.vine_colors[b.vine]\n",
    "                patch = patches.PathPatch(path, label=b.label, linestyle='solid', ec='black', fill=True, color=color)\n",
    "            else:\n",
    "                patch = patches.PathPatch(path, label=b.label, linestyle='solid', ec='black', fill=False)\n",
    "            ax.add_patch(patch)\n",
    "\n",
    "        ax.set_xlim(0, 100)\n",
    "        ax.set_ylim(-1 * (1 + bottom_layer_index ), -1)\n",
    "\n",
    "        plt.show()\n",
    "        \n",
    "    @classmethod\n",
    "    def SolveMonteCarlo( cls, seed=None ):\n",
    "        \"\"\"Find a solution to the vine problem with the currently constructed wall.\"\"\"\n",
    "\n",
    "        # Clear out previous vines\n",
    "        cls.Reset()\n",
    "        total_num_bricks = len( cls.all_bricks )\n",
    "        num_used_bricks = 0\n",
    "        proposed_vines = None\n",
    "        \n",
    "        all_possible_paths = cls.AllPaths()\n",
    "        from numpy.random import RandomState\n",
    "        r = RandomState(seed)\n",
    "        import numpy as np\n",
    "        order = np.arange( 1, cls.num_layers + 1 )\n",
    "\n",
    "        # Stop iterating when you find a solution that uses all the bricks\n",
    "        while num_used_bricks != total_num_bricks:\n",
    "            selected_paths = []\n",
    "            for initial_brick in all_possible_paths:\n",
    "                # First randomly pick a single path for each vine\n",
    "                vine_paths = all_possible_paths[ initial_brick ]\n",
    "                selected_paths.append( vine_paths[ r.randint( len( vine_paths ) ) ] )\n",
    "            proposed_vines = []\n",
    "            r.shuffle( order )\n",
    "            for path, height in zip( selected_paths, order ):\n",
    "                proposed_vines.append( path[:height] )\n",
    "            num_used_bricks = len( set( [ b for vine in proposed_vines for b in vine ]) )\n",
    "            \n",
    "        # Now that we have a solution, set the colors and draw the wall\n",
    "        for i, vine_list in enumerate( proposed_vines ):\n",
    "            for b_label in vine_list:\n",
    "                cls.all_bricks[ b_label ].vine = i\n",
    "        \n",
    "        cls.DrawWall()"
   ]
  },
  {
   "cell_type": "code",
   "execution_count": 2,
   "metadata": {
    "collapsed": true
   },
   "outputs": [],
   "source": [
    "%matplotlib inline"
   ]
  },
  {
   "cell_type": "code",
   "execution_count": 254,
   "metadata": {
    "collapsed": false
   },
   "outputs": [],
   "source": [
    "Brick.BuildWall(10)"
   ]
  },
  {
   "cell_type": "code",
   "execution_count": 255,
   "metadata": {
    "collapsed": false
   },
   "outputs": [
    {
     "data": {
      "image/png": "[encoded data removed]",
      "text/plain": [
       "<matplotlib.figure.Figure at 0x106836ed0>"
      ]
     },
     "metadata": {},
     "output_type": "display_data"
    }
   ],
   "source": [
    "Brick.DrawWall()"
   ]
  },
  {
   "cell_type": "code",
   "execution_count": 256,
   "metadata": {
    "collapsed": false
   },
   "outputs": [
    {
     "data": {
      "image/png": "[encoded data removed]",
      "text/plain": [
       "<matplotlib.figure.Figure at 0x107798b90>"
      ]
     },
     "metadata": {},
     "output_type": "display_data"
    }
   ],
   "source": [
    "Brick.SolveMonteCarlo()"
   ]
  },
  {
   "cell_type": "code",
   "execution_count": 5,
   "metadata": {
    "collapsed": false
   },
   "outputs": [],
   "source": [
    "Brick.BuildWall(13)"
   ]
  },
  {
   "cell_type": "code",
   "execution_count": 6,
   "metadata": {
    "collapsed": false
   },
   "outputs": [
    {
     "data": {
      "image/png": "[encoded data removed]",
      "text/plain": [
       "<matplotlib.figure.Figure at 0x11430f210>"
      ]
     },
     "metadata": {},
     "output_type": "display_data"
    }
   ],
   "source": [
    "Brick.DrawWall()"
   ]
  },
  {
   "cell_type": "code",
   "execution_count": 7,
   "metadata": {
    "collapsed": true
   },
   "outputs": [],
   "source": [
    "import time"
   ]
  },
  {
   "cell_type": "code",
   "execution_count": 8,
   "metadata": {
    "collapsed": false
   },
   "outputs": [
    {
     "ename": "KeyboardInterrupt",
     "evalue": "",
     "output_type": "error",
     "traceback": [
      "\u001b[0;31m---------------------------------------------------------------------------\u001b[0m",
      "\u001b[0;31mKeyboardInterrupt\u001b[0m                         Traceback (most recent call last)",
      "\u001b[0;32m<ipython-input-8-7698de19ef77>\u001b[0m in \u001b[0;36m<module>\u001b[0;34m()\u001b[0m\n\u001b[1;32m      1\u001b[0m \u001b[0mt1\u001b[0m \u001b[0;34m=\u001b[0m \u001b[0mtime\u001b[0m\u001b[0;34m.\u001b[0m\u001b[0mtime\u001b[0m\u001b[0;34m(\u001b[0m\u001b[0;34m)\u001b[0m\u001b[0;34m\u001b[0m\u001b[0m\n\u001b[0;32m----> 2\u001b[0;31m \u001b[0mBrick\u001b[0m\u001b[0;34m.\u001b[0m\u001b[0mSolveMonteCarlo\u001b[0m\u001b[0;34m(\u001b[0m\u001b[0;34m)\u001b[0m\u001b[0;34m\u001b[0m\u001b[0m\n\u001b[0m\u001b[1;32m      3\u001b[0m \u001b[0mt2\u001b[0m \u001b[0;34m=\u001b[0m \u001b[0mtime\u001b[0m\u001b[0;34m.\u001b[0m\u001b[0mtime\u001b[0m\u001b[0;34m(\u001b[0m\u001b[0;34m)\u001b[0m\u001b[0;34m\u001b[0m\u001b[0m\n",
      "\u001b[0;32m<ipython-input-4-688a5de06681>\u001b[0m in \u001b[0;36mSolveMonteCarlo\u001b[0;34m(cls, seed)\u001b[0m\n\u001b[1;32m    199\u001b[0m             \u001b[0mr\u001b[0m\u001b[0;34m.\u001b[0m\u001b[0mshuffle\u001b[0m\u001b[0;34m(\u001b[0m \u001b[0morder\u001b[0m \u001b[0;34m)\u001b[0m\u001b[0;34m\u001b[0m\u001b[0m\n\u001b[1;32m    200\u001b[0m             \u001b[0;32mfor\u001b[0m \u001b[0mpath\u001b[0m\u001b[0;34m,\u001b[0m \u001b[0mheight\u001b[0m \u001b[0;32min\u001b[0m \u001b[0mzip\u001b[0m\u001b[0;34m(\u001b[0m \u001b[0mselected_paths\u001b[0m\u001b[0;34m,\u001b[0m \u001b[0morder\u001b[0m \u001b[0;34m)\u001b[0m\u001b[0;34m:\u001b[0m\u001b[0;34m\u001b[0m\u001b[0m\n\u001b[0;32m--> 201\u001b[0;31m                 \u001b[0mproposed_vines\u001b[0m\u001b[0;34m.\u001b[0m\u001b[0mappend\u001b[0m\u001b[0;34m(\u001b[0m \u001b[0mpath\u001b[0m\u001b[0;34m[\u001b[0m\u001b[0;34m:\u001b[0m\u001b[0mheight\u001b[0m\u001b[0;34m]\u001b[0m \u001b[0;34m)\u001b[0m\u001b[0;34m\u001b[0m\u001b[0m\n\u001b[0m\u001b[1;32m    202\u001b[0m             \u001b[0mnum_used_bricks\u001b[0m \u001b[0;34m=\u001b[0m \u001b[0mlen\u001b[0m\u001b[0;34m(\u001b[0m \u001b[0mset\u001b[0m\u001b[0;34m(\u001b[0m \u001b[0;34m[\u001b[0m \u001b[0mb\u001b[0m \u001b[0;32mfor\u001b[0m \u001b[0mvine\u001b[0m \u001b[0;32min\u001b[0m \u001b[0mproposed_vines\u001b[0m \u001b[0;32mfor\u001b[0m \u001b[0mb\u001b[0m \u001b[0;32min\u001b[0m \u001b[0mvine\u001b[0m \u001b[0;34m]\u001b[0m\u001b[0;34m)\u001b[0m \u001b[0;34m)\u001b[0m\u001b[0;34m\u001b[0m\u001b[0m\n\u001b[1;32m    203\u001b[0m \u001b[0;34m\u001b[0m\u001b[0m\n",
      "\u001b[0;31mKeyboardInterrupt\u001b[0m: "
     ]
    }
   ],
   "source": [
    "t1 = time.time()\n",
    "Brick.SolveMonteCarlo()\n",
    "t2 = time.time()"
   ]
  },
  {
   "cell_type": "code",
   "execution_count": null,
   "metadata": {
    "collapsed": true
   },
   "outputs": [],
   "source": []
  }
 ],
 "metadata": {
  "kernelspec": {
   "display_name": "Python 2",
   "language": "python",
   "name": "python2"
  },
  "language_info": {
   "codemirror_mode": {
    "name": "ipython",
    "version": 2
   },
   "file_extension": ".py",
   "mimetype": "text/x-python",
   "name": "python",
   "nbconvert_exporter": "python",
   "pygments_lexer": "ipython2",
   "version": "2.7.10"
  }
 },
 "nbformat": 4,
 "nbformat_minor": 0
}
