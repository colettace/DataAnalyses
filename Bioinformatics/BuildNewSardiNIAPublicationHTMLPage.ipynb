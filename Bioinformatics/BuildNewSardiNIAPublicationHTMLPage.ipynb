{
 "cells": [
  {
   "cell_type": "markdown",
   "metadata": {},
   "source": [
    "# Programmatic Update of SardiNIA publication list\n",
    "\n",
    "Strategy:\n",
    "* Use a text scraper to pull and PMIDs found on the original page\n",
    "* If PMID not there, get the manuscript title, then do a pubmed search on that and get the PMID\n",
    "* Do manual searches by PI and mention of \"sardinia\" in the abstract\n",
    "* Finally, add in PMIDs by hand that came from Nagaraj's list\n",
    "\n",
    "Additions\n",
    "* Emboden authors in the HTML who are in our group."
   ]
  },
  {
   "cell_type": "code",
   "execution_count": 1,
   "metadata": {
    "collapsed": true
   },
   "outputs": [],
   "source": [
    "from bs4 import BeautifulSoup"
   ]
  },
  {
   "cell_type": "code",
   "execution_count": 2,
   "metadata": {
    "collapsed": true
   },
   "outputs": [],
   "source": [
    "html_doc = open( 'publications.html.bak' )"
   ]
  },
  {
   "cell_type": "code",
   "execution_count": 3,
   "metadata": {
    "collapsed": true
   },
   "outputs": [],
   "source": [
    "doc = BeautifulSoup(html_doc, 'html.parser')"
   ]
  },
  {
   "cell_type": "markdown",
   "metadata": {},
   "source": [
    "# Get a list of all our authors"
   ]
  },
  {
   "cell_type": "code",
   "execution_count": 4,
   "metadata": {
    "collapsed": true
   },
   "outputs": [],
   "source": [
    "import regex"
   ]
  },
  {
   "cell_type": "code",
   "execution_count": 5,
   "metadata": {
    "collapsed": true
   },
   "outputs": [],
   "source": [
    "s = regex.compile( r'[,]')"
   ]
  },
  {
   "cell_type": "code",
   "execution_count": 6,
   "metadata": {
    "collapsed": true
   },
   "outputs": [],
   "source": [
    "authors = doc.find_all( 'b')[1:]"
   ]
  },
  {
   "cell_type": "code",
   "execution_count": 7,
   "metadata": {
    "collapsed": true
   },
   "outputs": [],
   "source": [
    "author_list = []\n",
    "for line in authors:\n",
    "    text = line.text\n",
    "    if ':' in text:\n",
    "        text = text[ text.index(':')+1: ]\n",
    "        \n",
    "    for temp in text.split(','):\n",
    "        temp = temp.strip().translate( {10: None} )\n",
    "        author_list.append( temp )    "
   ]
  },
  {
   "cell_type": "code",
   "execution_count": 8,
   "metadata": {},
   "outputs": [
    {
     "data": {
      "text/plain": [
       "704"
      ]
     },
     "execution_count": 8,
     "metadata": {},
     "output_type": "execute_result"
    }
   ],
   "source": [
    "len(author_list)"
   ]
  },
  {
   "cell_type": "code",
   "execution_count": 9,
   "metadata": {
    "collapsed": true
   },
   "outputs": [],
   "source": [
    "author_list = set( author_list)"
   ]
  },
  {
   "cell_type": "code",
   "execution_count": 10,
   "metadata": {},
   "outputs": [
    {
     "data": {
      "text/plain": [
       "152"
      ]
     },
     "execution_count": 10,
     "metadata": {},
     "output_type": "execute_result"
    }
   ],
   "source": [
    "len(author_list)"
   ]
  },
  {
   "cell_type": "code",
   "execution_count": 11,
   "metadata": {},
   "outputs": [
    {
     "data": {
      "text/plain": [
       "{'',\n",
       " 'A Maschio',\n",
       " 'A Terracciano',\n",
       " 'Abecasis G',\n",
       " 'Abecasis GR',\n",
       " 'Alessia Loi',\n",
       " 'Andrea Angius',\n",
       " 'Andrea Maschio',\n",
       " 'Angelo Scuteri',\n",
       " 'AngeloScuteri',\n",
       " 'Anne U Jackson',\n",
       " 'Anne U. Jackson',\n",
       " 'Antonella M',\n",
       " 'Antonella Mulas',\n",
       " 'Antonio Cao',\n",
       " 'Antonio Terracciano',\n",
       " 'B Deiana',\n",
       " 'Bragg-Gresham JL',\n",
       " 'Busonero F',\n",
       " 'Cao A',\n",
       " 'Carla Sollaino',\n",
       " 'Carlo Sidore',\n",
       " 'Costa PT',\n",
       " 'Crisponi L',\n",
       " 'Cristen J Willer',\n",
       " 'Cristen J. Willer',\n",
       " 'Cucca F',\n",
       " 'D Schlessinger',\n",
       " 'Dan L. Longo',\n",
       " 'David Schlessinger',\n",
       " 'DavidSchlessinger',\n",
       " 'Dena G. Hernandez',\n",
       " 'Dena Hernandez',\n",
       " 'Dennis D. Taub',\n",
       " 'Ding J',\n",
       " 'Edward G Lakatta',\n",
       " 'Edward G. Lakatta',\n",
       " 'Edward Lakatta',\n",
       " 'Eleonora Porcu',\n",
       " 'F Busonero',\n",
       " 'Fabio Busonero',\n",
       " 'Ferreli L',\n",
       " 'Ferrucci L',\n",
       " 'Francesca Virdis',\n",
       " 'Francesco C',\n",
       " 'Francesco Cucca',\n",
       " 'Fuchsberger C',\n",
       " 'G R Abecasis',\n",
       " 'G Usala',\n",
       " 'Garcia ME',\n",
       " 'Gianluca Usala',\n",
       " 'Gianmauro Cuccuru',\n",
       " 'Giuseppe Albai',\n",
       " 'Goncalo Abecasis',\n",
       " 'Goncalo R Abecasis',\n",
       " 'Goncalo R. Abecasis',\n",
       " 'Harris TB',\n",
       " 'Heather M Stringham',\n",
       " 'Isadora Asunis',\n",
       " 'Jack M Guralnik',\n",
       " 'Jackson AU',\n",
       " 'James Strait',\n",
       " 'Jennifer L Bragg-Gresham',\n",
       " 'Jennifer Lynn Bragg-Gresham',\n",
       " 'Josephine M Egan',\n",
       " 'Jun Ding',\n",
       " 'Kirill V Tarasov',\n",
       " 'Lai S',\n",
       " 'Lakatta EG',\n",
       " 'Launer LJ',\n",
       " 'Laura Crisponi',\n",
       " 'Laura J Scott',\n",
       " 'Lenore J Launer',\n",
       " 'Lenore J. Launer',\n",
       " 'Lenore Launer',\n",
       " 'Liana Ferreli',\n",
       " 'Longo DL',\n",
       " 'Lucia Perseu',\n",
       " 'Luigi Ferrucci',\n",
       " 'M Scally',\n",
       " 'M Uda',\n",
       " 'Manila Deiana',\n",
       " 'Manuela Uda',\n",
       " 'Manuela Uda and Goncalo R Abecasis',\n",
       " 'Mara Marongiu',\n",
       " 'Marco Masala',\n",
       " 'Marco Orru',\n",
       " 'Marco Orrù',\n",
       " 'Maria Cristina Spada',\n",
       " 'Maria Dolores Cipollina',\n",
       " 'Maria G. Piras',\n",
       " 'Maria Grazia Piras',\n",
       " 'Mariano Dei',\n",
       " 'Maristella Steri',\n",
       " 'Marongiu M',\n",
       " 'Melissa E. Garcia',\n",
       " 'Michael Boehnke',\n",
       " 'Mulas A',\n",
       " 'Mulas Antonella',\n",
       " 'N Patriciu',\n",
       " 'Nagaraja R',\n",
       " 'Naitza S',\n",
       " 'Najjar S',\n",
       " 'Najjar SS',\n",
       " 'Natascia Sestu',\n",
       " 'Nazario Olla',\n",
       " 'Orru M',\n",
       " 'Osorio Meirelles',\n",
       " 'P T Costa Jr',\n",
       " 'Paolo Moi',\n",
       " 'Paul A Scheet',\n",
       " 'Paul T. Costa',\n",
       " 'Pilia MG',\n",
       " 'Plia MG',\n",
       " 'Porcu E',\n",
       " 'Qian Y',\n",
       " 'Ramaiah Nagaraja',\n",
       " 'Renzo Galanello',\n",
       " 'Roberta Piras',\n",
       " 'S Sanna',\n",
       " 'Samer Najjar',\n",
       " 'Samer S Najjar',\n",
       " 'Samer S. Najjar',\n",
       " 'Sandra Lai',\n",
       " 'Sanna S',\n",
       " 'SannaS',\n",
       " 'SardiNIA',\n",
       " 'Schlessinger D',\n",
       " 'Scuteri A',\n",
       " 'Serena Sanna',\n",
       " 'Sidore C',\n",
       " 'Silvia Naitza',\n",
       " 'Singleton A',\n",
       " 'Singleton AB',\n",
       " 'Stefania Satta',\n",
       " 'Strait J',\n",
       " 'Sutin AR',\n",
       " 'Tamara B Harris',\n",
       " 'Tamara B. Harris',\n",
       " 'Tamara Harris',\n",
       " 'Tanaka T',\n",
       " 'Tarasov KV',\n",
       " 'Terracciano A',\n",
       " 'The SardiNIA Study',\n",
       " 'Toshiko T',\n",
       " 'Toshiko Tanaka',\n",
       " 'Uda M',\n",
       " 'Wei-Min Chen',\n",
       " 'Weimin Chen',\n",
       " 'William L Duren',\n",
       " 'Yong Qian',\n",
       " 'Yun Li'}"
      ]
     },
     "execution_count": 11,
     "metadata": {},
     "output_type": "execute_result"
    }
   ],
   "source": [
    "author_list"
   ]
  },
  {
   "cell_type": "markdown",
   "metadata": {},
   "source": [
    "# Get URLS/titles for all publications listed"
   ]
  },
  {
   "cell_type": "code",
   "execution_count": 12,
   "metadata": {
    "collapsed": true
   },
   "outputs": [],
   "source": [
    "s = regex.compile( r'\\d{8}')"
   ]
  },
  {
   "cell_type": "code",
   "execution_count": 13,
   "metadata": {
    "collapsed": true
   },
   "outputs": [],
   "source": [
    "pmids = set()\n",
    "titles = set()\n",
    "for i, list_item in enumerate( doc.find_all( 'li') ):\n",
    "    \n",
    "    for link_item in list_item.find_all( 'a' ):\n",
    "        url = link_item.get( 'href')\n",
    "        m = s.search( url )\n",
    "        if m:\n",
    "            pmids.add( m.captures()[0] )\n",
    "        else:\n",
    "            titles.add( link_item.text.strip() )"
   ]
  },
  {
   "cell_type": "code",
   "execution_count": 14,
   "metadata": {},
   "outputs": [
    {
     "data": {
      "text/plain": [
       "138"
      ]
     },
     "execution_count": 14,
     "metadata": {},
     "output_type": "execute_result"
    }
   ],
   "source": [
    "len(pmids)"
   ]
  },
  {
   "cell_type": "code",
   "execution_count": 15,
   "metadata": {},
   "outputs": [
    {
     "data": {
      "text/plain": [
       "13"
      ]
     },
     "execution_count": 15,
     "metadata": {},
     "output_type": "execute_result"
    }
   ],
   "source": [
    "len(titles)"
   ]
  },
  {
   "cell_type": "markdown",
   "metadata": {},
   "source": [
    "# Manually remove 2"
   ]
  },
  {
   "cell_type": "code",
   "execution_count": 16,
   "metadata": {
    "collapsed": true
   },
   "outputs": [],
   "source": [
    "titles.remove( 'Download PDF File')"
   ]
  },
  {
   "cell_type": "code",
   "execution_count": 17,
   "metadata": {},
   "outputs": [
    {
     "data": {
      "text/plain": [
       "12"
      ]
     },
     "execution_count": 17,
     "metadata": {},
     "output_type": "execute_result"
    }
   ],
   "source": [
    "len(titles)"
   ]
  },
  {
   "cell_type": "code",
   "execution_count": 18,
   "metadata": {
    "collapsed": true
   },
   "outputs": [],
   "source": [
    "titles.remove( 'Genotype Imputation')"
   ]
  },
  {
   "cell_type": "code",
   "execution_count": 19,
   "metadata": {},
   "outputs": [
    {
     "data": {
      "text/plain": [
       "11"
      ]
     },
     "execution_count": 19,
     "metadata": {},
     "output_type": "execute_result"
    }
   ],
   "source": [
    "len(titles)"
   ]
  },
  {
   "cell_type": "markdown",
   "metadata": {},
   "source": [
    "# Get PMIDS for the titles for which no PMID in the original list"
   ]
  },
  {
   "cell_type": "code",
   "execution_count": 20,
   "metadata": {
    "collapsed": true
   },
   "outputs": [],
   "source": [
    "from Bio import Entrez\n",
    "from Bio import Medline"
   ]
  },
  {
   "cell_type": "code",
   "execution_count": 21,
   "metadata": {
    "collapsed": true
   },
   "outputs": [],
   "source": [
    "Entrez.email = 'christopher.coletta@nih.gov'"
   ]
  },
  {
   "cell_type": "code",
   "execution_count": 22,
   "metadata": {
    "scrolled": false
   },
   "outputs": [
    {
     "name": "stdout",
     "output_type": "stream",
     "text": [
      "=================\n",
      "title 0 search index 0 \n",
      " Meta-Analysis of 28,141 Individuals Identifies Common Variants within Five New Loci That Influence Uric Acid Concentrations \n",
      " Meta-analysis of 28,141 individuals identifies common variants within five new loci that influence uric acid concentrations.\n",
      "=================\n",
      "title 1 search index 0 \n",
      " Discovery and refinement of loci associated with lipid levels \n",
      " Discovery and refinement of loci associated with lipid levels.\n",
      "=================\n",
      "title 2 search index 3 \n",
      " Common variants associated with plasma triglycerides and risk for coronary artery disease \n",
      " Common variants associated with plasma triglycerides and risk for coronary artery disease.\n",
      "=================\n",
      "title 3 search index 0 \n",
      " Heritability of Cardiovascular and Personality Traits in 6,148 Sardinians \n",
      " Heritability of cardiovascular and personality traits in 6,148 Sardinians.\n",
      "=================\n",
      "title 4 search index 0 \n",
      " FTO genotype is associated with phenotypic variability of body mass index \n",
      " FTO genotype is associated with phenotypic variability of body mass index.\n",
      "=================\n",
      "title 5 search index 0 \n",
      " Genetic Variants Regulating Immune Cell Levels in Health and Disease \n",
      " Genetic variants regulating immune cell levels in health and disease.\n",
      "=================\n",
      "title 6 search index 0 \n",
      " The Metabochip, a Custom Genotyping Array for Genetic Studies of Metabolic, Cardiovascular, and Anthropometric Traits \n",
      " The metabochip, a custom genotyping array for genetic studies of metabolic, cardiovascular, and anthropometric traits.\n",
      "=================\n",
      "title 7 search index 0 \n",
      " COL4A1 Is Associated With Arterial Stiffness by Genome-Wide Association Scan \n",
      " COL4A1 is associated with arterial stiffness by genome-wide association scan.\n",
      "=================\n",
      "title 8 search index 0 \n",
      " The GLUT9 Gene is Associated with Serum Uric Acid Levels in Sardinia and Chianti Cohorts \n",
      " The GLUT9 gene is associated with serum uric acid levels in Sardinia and Chianti cohorts.\n",
      "=================\n",
      "title 9 search index 0 \n",
      " A Meta-Analysis of Thyroid-Related Traits Reveals Novel Loci and Gender-Specific Differences in the Regulation of Thyroid Function \n",
      " A meta-analysis of thyroid-related traits reveals novel loci and gender-specific differences in the regulation of thyroid function.\n"
     ]
    }
   ],
   "source": [
    "search_kwargs = { 'db':'pubmed', 'retmax':50 }\n",
    "fetch_kwargs = {'db':'pubmed', 'rettype':'medline', \"retmode\":'text'}\n",
    "\n",
    "title_pmids = set()\n",
    "for i, title in enumerate( titles ):\n",
    "    search_kwargs[ 'term' ] = title\n",
    "    search_result = Entrez.read( Entrez.esearch( **search_kwargs ) )\n",
    "    fetch_kwargs['id'] = search_result['IdList']\n",
    "    for j, pub in enumerate( Medline.parse( Entrez.efetch( **fetch_kwargs ) ) ):\n",
    "        #print( '=================\\ntitle', i, 'search index', j, '\\n', title, '\\n', pub['TI'] )\n",
    "        if str(pub['TI'].lower()[:10]) != str(title.lower()[:10]):\n",
    "            continue\n",
    "        print( '=================\\ntitle', i, 'search index', j, '\\n', title, '\\n', pub['TI'] )\n",
    "        title_pmids.add( pub['PMID'] )\n",
    "        break"
   ]
  },
  {
   "cell_type": "code",
   "execution_count": 25,
   "metadata": {},
   "outputs": [
    {
     "data": {
      "text/plain": [
       "10"
      ]
     },
     "execution_count": 25,
     "metadata": {},
     "output_type": "execute_result"
    }
   ],
   "source": [
    "len( title_pmids )"
   ]
  },
  {
   "cell_type": "code",
   "execution_count": 26,
   "metadata": {
    "collapsed": true
   },
   "outputs": [],
   "source": [
    "pmids |= title_pmids "
   ]
  },
  {
   "cell_type": "code",
   "execution_count": 27,
   "metadata": {},
   "outputs": [
    {
     "data": {
      "text/plain": [
       "146"
      ]
     },
     "execution_count": 27,
     "metadata": {},
     "output_type": "execute_result"
    }
   ],
   "source": [
    "len(pmids)"
   ]
  },
  {
   "cell_type": "markdown",
   "metadata": {},
   "source": [
    "# NEW items not on original page"
   ]
  },
  {
   "cell_type": "markdown",
   "metadata": {},
   "source": [
    "## Search for David's new publications"
   ]
  },
  {
   "cell_type": "code",
   "execution_count": 28,
   "metadata": {},
   "outputs": [
    {
     "name": "stdout",
     "output_type": "stream",
     "text": [
      "=================\n",
      " 0 \n",
      " Overexpression of the Cytokine BAFF and Autoimmunity Risk.\n",
      "=================\n",
      " 1 \n",
      " Population- and individual-specific regulatory variation in Sardinia.\n",
      "=================\n",
      " 2 \n",
      " Mitogenome Diversity in Sardinians: A Genetic Window onto an Island's Past.\n",
      "=================\n",
      " 3 \n",
      " Menopause modulates the association between thyrotropin levels and lipid parameters: The SardiNIA study.\n",
      "=================\n",
      " 4 \n",
      " Gender specific profiles of white coat and masked hypertension impacts on arterial structure and function in the SardiNIA study.\n",
      "=================\n",
      " 5 \n",
      " Depressive symptoms, thyroid hormone and autoimmunity in a population-based cohort from Sardinia.\n",
      "=================\n",
      " 6 \n",
      " No evidence of association between subclinical thyroid disorders and common carotid intima medial thickness or atherosclerotic plaque.\n",
      "=================\n",
      " 18 \n",
      " A genome-wide association scan on the levels of markers of inflammation in Sardinians reveals associations that underpin its complex regulation.\n"
     ]
    }
   ],
   "source": [
    "david_pmids = set()\n",
    "search_kwargs = { 'db':'pubmed', 'retmax':100 }\n",
    "fetch_kwargs = {'db':'pubmed', 'rettype':'medline', \"retmode\":'text'}\n",
    "\n",
    "search_kwargs[ 'term' ] = \"Schlessinger D[Author] AND sardinia[Title/Abstract]\"\n",
    "search_result = Entrez.read( Entrez.esearch( **search_kwargs ) )\n",
    "fetch_kwargs['id'] = search_result['IdList']\n",
    "davids = Medline.parse( Entrez.efetch( **fetch_kwargs ) )\n",
    "for i, pub in enumerate( davids ):\n",
    "    if pub['PMID'] not in pmids:\n",
    "        print( '=================\\n', i, '\\n', pub['TI'] )\n",
    "        david_pmids.add( pub['PMID'] )"
   ]
  },
  {
   "cell_type": "markdown",
   "metadata": {},
   "source": [
    "## Search for Ed's new publications"
   ]
  },
  {
   "cell_type": "code",
   "execution_count": 29,
   "metadata": {},
   "outputs": [
    {
     "name": "stdout",
     "output_type": "stream",
     "text": [
      "=================\n",
      " 0 \n",
      " Gender specific profiles of white coat and masked hypertension impacts on arterial structure and function in the SardiNIA study.\n",
      "=================\n",
      " 1 \n",
      " No evidence of association between subclinical thyroid disorders and common carotid intima medial thickness or atherosclerotic plaque.\n",
      "=================\n",
      " 2 \n",
      " Longitudinal perspective on the conundrum of central arterial stiffness, blood pressure, and aging.\n",
      "=================\n",
      " 3 \n",
      " Serum free thyroxine levels are positively associated with arterial stiffness in the SardiNIA study.\n"
     ]
    }
   ],
   "source": [
    "lakatta_pmids = set()\n",
    "search_kwargs = { 'db':'pubmed', 'retmax':100 }\n",
    "fetch_kwargs = {'db':'pubmed', 'rettype':'medline', \"retmode\":'text'}\n",
    "\n",
    "search_kwargs[ 'term' ] = \"Lakatta EG[Author] AND sardinia[Title/Abstract]\"\n",
    "search_result = Entrez.read( Entrez.esearch( **search_kwargs ) )\n",
    "fetch_kwargs['id'] = search_result['IdList']\n",
    "lakattas = Medline.parse( Entrez.efetch( **fetch_kwargs ) )\n",
    "for i, pub in enumerate( lakattas ):\n",
    "    if pub['PMID'] not in pmids:\n",
    "        print( '=================\\n', i, '\\n', pub['TI'] )\n",
    "        lakatta_pmids.add( pub['PMID'] )"
   ]
  },
  {
   "cell_type": "markdown",
   "metadata": {},
   "source": [
    "## Search for Goncalo's new publications"
   ]
  },
  {
   "cell_type": "code",
   "execution_count": 30,
   "metadata": {},
   "outputs": [
    {
     "name": "stdout",
     "output_type": "stream",
     "text": [
      "=================\n",
      " 0 \n",
      " Overexpression of the Cytokine BAFF and Autoimmunity Risk.\n",
      "=================\n",
      " 1 \n",
      " Population- and individual-specific regulatory variation in Sardinia.\n",
      "=================\n",
      " 2 \n",
      " Mitogenome Diversity in Sardinians: A Genetic Window onto an Island's Past.\n",
      "=================\n",
      " 7 \n",
      " Methods for association analysis and meta-analysis of rare variants in families.\n",
      "=================\n",
      " 10 \n",
      " Genotype calling and haplotyping in parent-offspring trios.\n",
      "=================\n",
      " 11 \n",
      " A genome-wide association scan on the levels of markers of inflammation in Sardinians reveals associations that underpin its complex regulation.\n"
     ]
    }
   ],
   "source": [
    "goncalo_pmids = set()\n",
    "search_kwargs = { 'db':'pubmed', 'retmax':100 }\n",
    "fetch_kwargs = {'db':'pubmed', 'rettype':'medline', \"retmode\":'text'}\n",
    "\n",
    "search_kwargs[ 'term' ] = \"Abecasis GR[Author] AND sardinia[Title/Abstract]\"\n",
    "search_result = Entrez.read( Entrez.esearch( **search_kwargs ) )\n",
    "fetch_kwargs['id'] = search_result['IdList']\n",
    "goncalo = Medline.parse( Entrez.efetch( **fetch_kwargs ) )\n",
    "for i, pub in enumerate( goncalo ):\n",
    "    if pub['PMID'] not in pmids:\n",
    "        print( '=================\\n', i, '\\n', pub['TI'] )\n",
    "        goncalo_pmids.add( pub['PMID'] )"
   ]
  },
  {
   "cell_type": "markdown",
   "metadata": {},
   "source": [
    "# Search for Francesco's new publications\n",
    "\n",
    "We won't include them since we don't know which one is part of the SardiNIA project, but good to know how many there are."
   ]
  },
  {
   "cell_type": "code",
   "execution_count": 31,
   "metadata": {},
   "outputs": [
    {
     "name": "stdout",
     "output_type": "stream",
     "text": [
      "=================\n",
      " 0 \n",
      " Overexpression of the Cytokine BAFF and Autoimmunity Risk.\n",
      "=================\n",
      " 1 \n",
      " Population- and individual-specific regulatory variation in Sardinia.\n",
      "=================\n",
      " 2 \n",
      " Mitogenome Diversity in Sardinians: A Genetic Window onto an Island's Past.\n",
      "=================\n",
      " 3 \n",
      " Menopause modulates the association between thyrotropin levels and lipid parameters: The SardiNIA study.\n",
      "=================\n",
      " 4 \n",
      " Gender specific profiles of white coat and masked hypertension impacts on arterial structure and function in the SardiNIA study.\n",
      "=================\n",
      " 5 \n",
      " Depressive symptoms, thyroid hormone and autoimmunity in a population-based cohort from Sardinia.\n",
      "=================\n",
      " 6 \n",
      " No evidence of association between subclinical thyroid disorders and common carotid intima medial thickness or atherosclerotic plaque.\n",
      "=================\n",
      " 7 \n",
      " The burden of multiple sclerosis variants in continental Italians and Sardinians.\n",
      "=================\n",
      " 12 \n",
      " Detection of phylogenetically informative polymorphisms in the entire euchromatic portion of human Y chromosome from a Sardinian sample.\n",
      "=================\n",
      " 13 \n",
      " Methods for association analysis and meta-analysis of rare variants in families.\n",
      "=================\n",
      " 15 \n",
      " Serum free thyroxine levels are positively associated with arterial stiffness in the SardiNIA study.\n",
      "=================\n",
      " 16 \n",
      " Population genomic analysis of ancient and modern genomes yields new insights into the genetic ancestry of the Tyrolean Iceman and the genetic structure of Europe.\n",
      "=================\n",
      " 23 \n",
      " A genome-wide association scan on the levels of markers of inflammation in Sardinians reveals associations that underpin its complex regulation.\n",
      "=================\n",
      " 24 \n",
      " TCRBV20S1 polymorphism does not influence the susceptibility to type 1 diabetes and multiple sclerosis in the Sardinian population.\n",
      "=================\n",
      " 25 \n",
      " A comparison of Y-chromosome variation in Sardinia and Anatolia is more consistent with cultural rather than demic diffusion of agriculture.\n",
      "=================\n",
      " 26 \n",
      " Variation within the CLEC16A gene shows consistent disease association with both multiple sclerosis and type 1 diabetes in Sardinia.\n",
      "=================\n",
      " 27 \n",
      " Genetic loci linked to type 1 diabetes and multiple sclerosis families in Sardinia.\n",
      "=================\n",
      " 28 \n",
      " Y-chromosome based evidence for pre-neolithic origin of the genetically homogeneous but diverse Sardinian population: inference for association scans.\n",
      "=================\n",
      " 29 \n",
      " Further evidence of a primary, causal association of the PTPN22 620W variant with type 1 diabetes.\n",
      "=================\n",
      " 30 \n",
      " High frequency of the TCRBV20S1 null allele in the Sardinian population.\n",
      "=================\n",
      " 31 \n",
      " Genetic testing improves the diagnosis of adult type hypolactasia in the Mediterranean population of Sardinia.\n",
      "=================\n",
      " 32 \n",
      " No influence of chromosome Y haplogroup variation in acute graft-versus-host disease in sardinia.\n",
      "=================\n",
      " 33 \n",
      " Heterogeneity in the magnitude of the insulin gene effect on HLA risk in type 1 diabetes.\n",
      "=================\n",
      " 34 \n",
      " The co-inheritance of type 1 diabetes and multiple sclerosis in Sardinia cannot be explained by genotype variation in the HLA region alone.\n",
      "=================\n",
      " 35 \n",
      " No association between variation of the FOXP3 gene and common type 1 diabetes in the Sardinian population.\n",
      "=================\n",
      " 36 \n",
      " Sex-related bias and exclusion mapping of the nonrecombinant portion of chromosome Y in human type 1 diabetes in the isolated founder population of Sardinia.\n",
      "=================\n",
      " 37 \n",
      " Dissection of the HLA association with multiple sclerosis in the founder isolated population of Sardinia.\n",
      "=================\n",
      " 38 \n",
      " The HLA-DPB1--associated component of the IDDM1 and its relationship to the major loci HLA-DQB1, -DQA1, and -DRB1.\n",
      "=================\n",
      " 39 \n",
      " Conditional linkage disequilibrium analysis of a complex disease superlocus, IDDM1 in the HLA region, reveals the presence of independent modifying gene effects influencing the type 1 diabetes risk encoded by the major HLA-DQB1, -DRB1 disease loci.\n",
      "=================\n",
      " 40 \n",
      " The distribution of HLA class II haplotypes reveals that the Sardinian population is genetically differentiated from the other Caucasian populations.\n",
      "=================\n",
      " 41 \n",
      " Confirmation of the DRB1-DQB1 loci as the major component of IDDM1 in the isolated founder population of Sardinia.\n",
      "=================\n",
      " 42 \n",
      " The inter-regional distribution of HLA class II haplotypes indicates the suitability of the Sardinian population for case-control association studies in complex diseases.\n",
      "=================\n",
      " 43 \n",
      " Major factors influencing linkage disequilibrium by analysis of different chromosome regions in distinct populations: demography, chromosome recombination frequency and selection.\n",
      "=================\n",
      " 44 \n",
      " ICAM-1 gene is not associated with multiple sclerosis in sardinian patients.\n",
      "=================\n",
      " 45 \n",
      " The genetically isolated populations of Finland and sardinia may not be a panacea for linkage disequilibrium mapping of common disease genes.\n",
      "=================\n",
      " 46 \n",
      " DRB1-DQA1-DQB1 loci and multiple sclerosis predisposition in the Sardinian population.\n",
      "=================\n",
      " 47 \n",
      " A male-female bias in type 1 diabetes and linkage to chromosome Xp in MHC HLA-DR3-positive patients.\n",
      "=================\n",
      " 48 \n",
      " Evaluation of IgA deficiency in Sardinians indicates a susceptibility gene is encoded within the HLA class III region.\n",
      "=================\n",
      " 49 \n",
      " Multiple sclerosis in Sardinia is associated and in linkage disequilibrium with HLA-DR3 and -DR4 alleles.\n",
      "=================\n",
      " 50 \n",
      " Evidence for a type 1 diabetes susceptibility locus (IDDM10) on human chromosome 10p11-q11.\n",
      "=================\n",
      " 51 \n",
      " IDDM2-VNTR-encoded susceptibility to type 1 diabetes: dominant protection and parental transmission of alleles of the insulin gene-linked minisatellite locus.\n",
      "=================\n",
      " 52 \n",
      " The distribution of DR4 haplotypes in Sardinia suggests a primary association of type I diabetes with DRB1 and DQB1 loci.\n",
      "=================\n",
      " 53 \n",
      " Insulin-dependent diabetes mellitus and the major histocompatibility complex peptide transporters TAP1 and TAP2: no association in a population with a high disease incidence.\n",
      "=================\n",
      " 54 \n",
      " HLA-DQB1*0305 and -DQB1*0304 alleles among Sardinians. Evolutionary and practical implications for oligotyping.\n",
      "=================\n",
      " 55 \n",
      " Combinations of specific DRB1, DQA1, DQB1 haplotypes are associated with insulin-dependent diabetes mellitus in Sardinia.\n"
     ]
    }
   ],
   "source": [
    "francesco_pmids = set()\n",
    "search_kwargs = { 'db':'pubmed', 'retmax':100 }\n",
    "fetch_kwargs = {'db':'pubmed', 'rettype':'medline', \"retmode\":'text'}\n",
    "\n",
    "search_kwargs[ 'term' ] = \"Cucca F[Author] AND sardinia[Title/Abstract]\"\n",
    "search_result = Entrez.read( Entrez.esearch( **search_kwargs ) )\n",
    "fetch_kwargs['id'] = search_result['IdList']\n",
    "francesco = Medline.parse( Entrez.efetch( **fetch_kwargs ) )\n",
    "for i, pub in enumerate( francesco ):\n",
    "    if pub['PMID'] not in pmids:\n",
    "        print( '=================\\n', i, '\\n', pub['TI'] )\n",
    "        francesco_pmids.add( pub['PMID'] )"
   ]
  },
  {
   "cell_type": "markdown",
   "metadata": {},
   "source": [
    "## Search by SardiNIA project grant numbers"
   ]
  },
  {
   "cell_type": "code",
   "execution_count": 32,
   "metadata": {},
   "outputs": [
    {
     "name": "stdout",
     "output_type": "stream",
     "text": [
      "=================\n",
      " 4 \n",
      " A unified method for detecting secondary trait associations with rare variants: application to sequence data.\n"
     ]
    }
   ],
   "source": [
    "grant_pmids = set()\n",
    "search_kwargs = { 'db':'pubmed', 'retmax':100 }\n",
    "fetch_kwargs = {'db':'pubmed', 'rettype':'medline', \"retmode\":'text'}\n",
    "\n",
    "search_kwargs[ 'term' ] = \"N01AG12109[Grant Number] OR 263-MA-410953[Grant Number]\"\n",
    "search_result = Entrez.read( Entrez.esearch( **search_kwargs ) )\n",
    "fetch_kwargs['id'] = search_result['IdList']\n",
    "grant = Medline.parse( Entrez.efetch( **fetch_kwargs ) )\n",
    "for i, pub in enumerate( grant ):\n",
    "    if pub['PMID'] not in pmids:\n",
    "        print( '=================\\n', i, '\\n', pub['TI'] )\n",
    "        grant_pmids.add( pub['PMID'] )"
   ]
  },
  {
   "cell_type": "markdown",
   "metadata": {},
   "source": [
    "## Add hand curated list"
   ]
  },
  {
   "cell_type": "code",
   "execution_count": 33,
   "metadata": {
    "collapsed": true
   },
   "outputs": [],
   "source": [
    "hand_list = ['28360221', '28172616', '28107422', '27876822', '27799538', '27798627', \n",
    "            '27659466', '27571263', '27548312', '27355579', '27225129', '27089181',\n",
    "            '27251161', '27659466', '28443625' ]"
   ]
  },
  {
   "cell_type": "code",
   "execution_count": 34,
   "metadata": {},
   "outputs": [
    {
     "data": {
      "text/plain": [
       "15"
      ]
     },
     "execution_count": 34,
     "metadata": {},
     "output_type": "execute_result"
    }
   ],
   "source": [
    "len(hand_list)"
   ]
  },
  {
   "cell_type": "code",
   "execution_count": 35,
   "metadata": {},
   "outputs": [
    {
     "data": {
      "text/plain": [
       "14"
      ]
     },
     "execution_count": 35,
     "metadata": {},
     "output_type": "execute_result"
    }
   ],
   "source": [
    "len( set( hand_list))"
   ]
  },
  {
   "cell_type": "code",
   "execution_count": 36,
   "metadata": {},
   "outputs": [
    {
     "name": "stdout",
     "output_type": "stream",
     "text": [
      "=================\n",
      " 0 \n",
      " NFAT5 and SLC4A10 Loci Associate with Plasma Osmolality.\n",
      "=================\n",
      " 0 \n",
      " fastMitoCalc: an ultra-fast program to estimate mitochondrial DNA copy number from whole-genome sequences.\n",
      "=================\n",
      " 0 \n",
      " Comparison of HapMap and 1000 Genomes Reference Panels in a Large-Scale Genome-Wide Association Study.\n",
      "=================\n",
      " 0 \n",
      " A principal component meta-analysis on multiple anthropometric traits identifies novel loci for body shape.\n",
      "=================\n",
      " 0 \n",
      " Genetic variants linked to education predict longevity.\n",
      "=================\n",
      " 0 \n",
      " Genome-wide analysis identifies 12 loci influencing human reproductive behavior.\n",
      "=================\n",
      " 0 \n",
      " 52 Genetic Loci Influencing Myocardial Mass.\n",
      "=================\n",
      " 0 \n",
      " Next-generation genotype imputation service and methods.\n",
      "=================\n",
      " 0 \n",
      " A reference panel of 64,976 haplotypes for genotype imputation.\n",
      "=================\n",
      " 0 \n",
      " Correction: The Influence of Age and Sex on Genetic Associations with Adult Body Size and Shape: A Large-Scale Genome-Wide Interaction Study.\n",
      "=================\n",
      " 0 \n",
      " Genome-wide association study identifies 74 loci associated with educational attainment.\n",
      "=================\n",
      " 0 \n",
      " Genetic variants associated with subjective well-being, depressive symptoms, and neuroticism identified through genome-wide analyses.\n",
      "=================\n",
      " 0 \n",
      " Induction of specific neuron types by overexpression of single transcription factors.\n",
      "=================\n",
      " 0 \n",
      " 52 Genetic Loci Influencing Myocardial Mass.\n",
      "=================\n",
      " 0 \n",
      " Genome-wide meta-analysis of 241,258 adults accounting for smoking behaviour identifies novel loci for obesity traits.\n"
     ]
    }
   ],
   "source": [
    "hand_pmids = set()\n",
    "search_kwargs = { 'db':'pubmed', 'retmax':100 }\n",
    "fetch_kwargs = {'db':'pubmed', 'rettype':'medline', \"retmode\":'text'}\n",
    "\n",
    "for hand_uid in hand_list:\n",
    "    search_kwargs[ 'term' ] = hand_uid + \"[uid]\"\n",
    "    search_result = Entrez.read( Entrez.esearch( **search_kwargs ) )\n",
    "    fetch_kwargs['id'] = search_result['IdList']\n",
    "    handsearch = Medline.parse( Entrez.efetch( **fetch_kwargs ) )\n",
    "    for i, pub in enumerate( handsearch ):\n",
    "        if pub['PMID'] not in pmids:\n",
    "            print( '=================\\n', i, '\\n', pub['TI'] )\n",
    "            hand_pmids.add( pub['PMID'] )"
   ]
  },
  {
   "cell_type": "markdown",
   "metadata": {},
   "source": [
    "## Combine"
   ]
  },
  {
   "cell_type": "code",
   "execution_count": 37,
   "metadata": {
    "collapsed": true
   },
   "outputs": [],
   "source": [
    "pmids |= goncalo_pmids | david_pmids | lakatta_pmids | grant_pmids | hand_pmids"
   ]
  },
  {
   "cell_type": "code",
   "execution_count": 38,
   "metadata": {},
   "outputs": [
    {
     "data": {
      "text/plain": [
       "173"
      ]
     },
     "execution_count": 38,
     "metadata": {},
     "output_type": "execute_result"
    }
   ],
   "source": [
    "len( pmids)"
   ]
  },
  {
   "cell_type": "markdown",
   "metadata": {},
   "source": [
    "# Pull all publications from combined list"
   ]
  },
  {
   "cell_type": "code",
   "execution_count": 39,
   "metadata": {
    "collapsed": true
   },
   "outputs": [],
   "source": [
    "import pprint\n",
    "pp = pprint.PrettyPrinter(indent=4)"
   ]
  },
  {
   "cell_type": "code",
   "execution_count": 40,
   "metadata": {
    "collapsed": true
   },
   "outputs": [],
   "source": [
    "h = Entrez.efetch(db='pubmed', id=list(pmids), rettype='medline', retmode='text')"
   ]
  },
  {
   "cell_type": "code",
   "execution_count": 41,
   "metadata": {
    "collapsed": true
   },
   "outputs": [],
   "source": [
    "records = list(Medline.parse(h))"
   ]
  },
  {
   "cell_type": "markdown",
   "metadata": {},
   "source": [
    "## get most common grant numbers"
   ]
  },
  {
   "cell_type": "code",
   "execution_count": 42,
   "metadata": {
    "collapsed": true
   },
   "outputs": [],
   "source": [
    "from collections import Counter"
   ]
  },
  {
   "cell_type": "code",
   "execution_count": 43,
   "metadata": {},
   "outputs": [
    {
     "name": "stdout",
     "output_type": "stream",
     "text": [
      "42\n",
      "50\n",
      "54\n",
      "59\n",
      "143\n"
     ]
    }
   ],
   "source": [
    "all_grant_numbers = []\n",
    "for i, _ in enumerate( records) :\n",
    "    try:\n",
    "        all_grant_numbers.extend( _['GR'] )\n",
    "    except KeyError:\n",
    "        print( i )"
   ]
  },
  {
   "cell_type": "code",
   "execution_count": 44,
   "metadata": {
    "collapsed": true
   },
   "outputs": [],
   "source": [
    "c = Counter( all_grant_numbers )"
   ]
  },
  {
   "cell_type": "markdown",
   "metadata": {},
   "source": [
    "## Search via grant number\n",
    "\n",
    "* N01AG12109-14-0-1 \n",
    "* N01AG12109-11-0-0 \n",
    "* N01AG12109-12-0-1 \n",
    "* N01AG12109-14-0-1 \n",
    "\n",
    "* European Research Council (ERC) grants\n",
    "\n",
    "[NIH grant search](https://projectreporter.nih.gov/project_info_description.cfm?aid=8328319&icde=34538005&ddparam=&ddvalue=&ddsub=&cr=1&csb=default&cs=ASC&pball=)"
   ]
  },
  {
   "cell_type": "code",
   "execution_count": 45,
   "metadata": {},
   "outputs": [
    {
     "data": {
      "text/plain": [
       "[('N01-AG-1-2109/AG/NIA NIH HHS/United States', 52),\n",
       " ('Intramural NIH HHS/United States', 40),\n",
       " ('G0401527/Medical Research Council/United Kingdom', 39),\n",
       " ('090532/Wellcome Trust/United Kingdom', 38),\n",
       " ('MC_U106179471/Medical Research Council/United Kingdom', 37)]"
      ]
     },
     "execution_count": 45,
     "metadata": {},
     "output_type": "execute_result"
    }
   ],
   "source": [
    "c.most_common(5)"
   ]
  },
  {
   "cell_type": "markdown",
   "metadata": {},
   "source": [
    "## Get all titles"
   ]
  },
  {
   "cell_type": "code",
   "execution_count": 46,
   "metadata": {
    "collapsed": true
   },
   "outputs": [],
   "source": [
    "titles = sorted( [ _['TI'][:70] for _ in records] )"
   ]
  },
  {
   "cell_type": "code",
   "execution_count": 47,
   "metadata": {},
   "outputs": [
    {
     "data": {
      "text/plain": [
       "['52 Genetic Loci Influencing Myocardial Mass.',\n",
       " 'A GWAS sequence variant for platelet volume marks an alternative DNM3 ',\n",
       " 'A genome-wide association scan on the levels of markers of inflammatio',\n",
       " 'A genome-wide association search for type 2 diabetes genes in African ',\n",
       " 'A likelihood-based framework for variant calling and de novo mutation ',\n",
       " 'A meta-analysis of thyroid-related traits reveals novel loci and gende',\n",
       " 'A principal component meta-analysis on multiple anthropometric traits ',\n",
       " 'A reference panel of 64,976 haplotypes for genotype imputation.',\n",
       " 'A unified method for detecting secondary trait associations with rare ',\n",
       " 'Age- and gender-specific awareness, treatment, and control of cardiova',\n",
       " 'Amelioration of Sardinian beta0 thalassemia by genetic modifiers.',\n",
       " 'An alternative to the search for single polymorphisms: toward molecula',\n",
       " 'Are personality traits associated with white-coat and masked hypertens',\n",
       " 'Arterial stiffness and influences of the metabolic syndrome: a cross-c',\n",
       " 'Assessing Mitochondrial DNA Variation and Copy Number in Lymphocytes o',\n",
       " 'Association analyses of 249,796 individuals reveal 18 new loci associa',\n",
       " 'Associations of large artery structure and function with adiposity: ef',\n",
       " 'BDNF Val66Met is associated with introversion and interacts with 5-HTT',\n",
       " 'Biological interpretation of genome-wide association studies using pre',\n",
       " 'Biological, clinical and population relevance of 95 loci for blood lip',\n",
       " 'Blood pressure loci identified with a gene-centric array.',\n",
       " 'COL4A1 is associated with arterial stiffness by genome-wide associatio',\n",
       " 'Causal relationship between obesity and vitamin D status: bi-direction',\n",
       " 'Cholesterol, triglycerides, and the Five-Factor Model of personality.',\n",
       " \"Common genetic variation in the 3'-BCL11B gene desert is associated wi\",\n",
       " 'Common genetic variation near the phospholamban gene is associated wit',\n",
       " 'Common variants associated with plasma triglycerides and risk for coro',\n",
       " 'Common variants at 10 genomic loci influence hemoglobin A(1)(C) levels',\n",
       " 'Common variants at 30 loci contribute to polygenic dyslipidemia.',\n",
       " 'Common variants at ten loci modulate the QT interval duration in the Q',\n",
       " 'Common variants in the ATP2B1 gene are associated with susceptibility ',\n",
       " 'Common variants in the GDF5-UQCC region are associated with variation ',\n",
       " 'Common variants in the SLCO1B3 locus are associated with bilirubin lev',\n",
       " 'Common variants near MC4R are associated with fat mass, weight and ris',\n",
       " 'Comparison of HapMap and 1000 Genomes Reference Panels in a Large-Scal',\n",
       " 'Correction: The Influence of Age and Sex on Genetic Associations with ',\n",
       " 'DNA polymorphisms at the BCL11A, HBS1L-MYB, and beta-globin loci assoc',\n",
       " 'Defining the role of common variation in the genomic and biological ar',\n",
       " 'Depressive symptoms, thyroid hormone and autoimmunity in a population-',\n",
       " 'Discovery and refinement of loci associated with lipid levels.',\n",
       " 'Effects of long-term averaging of quantitative blood pressure traits o',\n",
       " 'Estimating the power of variance component linkage analysis in large p',\n",
       " 'FTO genotype is associated with phenotypic variability of body mass in',\n",
       " 'Facets of personality linked to underweight and overweight.',\n",
       " 'Fine mapping of five loci associated with low-density lipoprotein chol',\n",
       " 'Four novel Loci (19q13, 6q24, 12q24, and 5q14) influence the microcirc',\n",
       " 'GWAS of 126,559 individuals identifies genetic variants associated wit',\n",
       " 'Gender specific profiles of white coat and masked hypertension impacts',\n",
       " 'Genetic association study of QT interval highlights role for calcium s',\n",
       " 'Genetic loci for retinal arteriolar microcirculation.',\n",
       " 'Genetic loci influencing kidney function and chronic kidney disease.',\n",
       " 'Genetic studies of body mass index yield new insights for obesity biol',\n",
       " 'Genetic variants associated with subjective well-being, depressive sym',\n",
       " 'Genetic variants in novel pathways influence blood pressure and cardio',\n",
       " 'Genetic variants influencing circulating lipid levels and risk of coro',\n",
       " 'Genetic variants linked to education predict longevity.',\n",
       " 'Genetic variants regulating immune cell levels in health and disease.',\n",
       " 'Genetics of serum BDNF: meta-analysis of the Val66Met and genome-wide ',\n",
       " 'Genome sequencing elucidates Sardinian genetic architecture and augmen',\n",
       " 'Genome-wide analysis identifies 12 loci influencing human reproductive',\n",
       " 'Genome-wide analysis of BMI in adolescents and young adults reveals ad',\n",
       " 'Genome-wide association analyses based on whole-genome sequencing in S',\n",
       " 'Genome-wide association analyses identify 18 new loci associated with ',\n",
       " 'Genome-wide association analysis identifies multiple loci related to r',\n",
       " 'Genome-wide association analysis identifies variants associated with n',\n",
       " 'Genome-wide association and longitudinal analyses reveal genetic loci ',\n",
       " 'Genome-wide association for abdominal subcutaneous and visceral adipos',\n",
       " 'Genome-wide association identifies nine common variants associated wit',\n",
       " 'Genome-wide association scan for five major dimensions of personality.',\n",
       " 'Genome-wide association scan meta-analysis identifies three Loci influ',\n",
       " 'Genome-wide association scan of trait depression.',\n",
       " 'Genome-wide association scan shows genetic variants in the FTO gene ar',\n",
       " 'Genome-wide association study identifies 74 loci associated with educa',\n",
       " 'Genome-wide association study identifies eight loci associated with bl',\n",
       " 'Genome-wide association study identifies loci influencing concentratio',\n",
       " 'Genome-wide association study identifies six new loci influencing puls',\n",
       " 'Genome-wide association study of PR interval.',\n",
       " 'Genome-wide association study of susceptibility loci for breast cancer',\n",
       " 'Genome-wide association study of vitamin B6, vitamin B12, folate, and ',\n",
       " 'Genome-wide association study shows BCL11A associated with persistent ',\n",
       " 'Genome-wide meta-analysis identifies 11 new loci for anthropometric tr',\n",
       " 'Genome-wide meta-analysis of 241,258 adults accounting for smoking beh',\n",
       " 'Genotype calling and haplotyping in parent-offspring trios.',\n",
       " 'Height-reducing variants and selection for short stature in Sardinia.',\n",
       " 'Heritability of cardiovascular and personality traits in 6,148 Sardini',\n",
       " 'High neuroticism and low conscientiousness are associated with interle',\n",
       " 'Human genomic regions with exceptionally high levels of population dif',\n",
       " 'Hundreds of variants clustered in genomic loci and biological pathways',\n",
       " 'Identification of a common variant in the TFR2 gene implicated in the ',\n",
       " 'Identification of heart rate-associated loci and their effects on card',\n",
       " 'Identification of novel genetic Loci associated with thyroid peroxidas',\n",
       " 'Identification of ten loci associated with height highlights new biolo',\n",
       " 'Impulsivity is associated with uric acid: evidence from humans and mic',\n",
       " 'Impulsivity-related traits are associated with higher white blood cell',\n",
       " 'Increased genetic vulnerability to smoking at CHRNA5 in early-onset sm',\n",
       " 'Independent and additive effects of cytokine patterns and the metaboli',\n",
       " 'Induction of specific neuron types by overexpression of single transcr',\n",
       " 'Integrating sequence and array data to create an improved 1000 Genomes',\n",
       " 'Integrative annotation of variants from 1092 humans: application to ca',\n",
       " 'Interleukin-6 receptor pathways in coronary heart disease: a collabora',\n",
       " 'Large-scale association analyses identify new loci influencing glycemi',\n",
       " 'Large-scale association analysis provides insights into the genetic ar',\n",
       " 'Longevity candidate genes and their association with personality trait',\n",
       " 'Longitudinal perspective on the conundrum of central arterial stiffnes',\n",
       " 'Low-pass DNA sequencing of 1200 Sardinians reconstructs European Y-chr',\n",
       " 'Maps of open chromatin highlight cell type-restricted patterns of regu',\n",
       " 'Menopause modulates the association between thyrotropin levels and lip',\n",
       " 'Meta-analyses identify 13 loci associated with age at menopause and hi',\n",
       " 'Meta-analysis and imputation refines the association of 15q25 with smo',\n",
       " 'Meta-analysis identifies 13 new loci associated with waist-hip ratio a',\n",
       " 'Meta-analysis of 28,141 individuals identifies common variants within ',\n",
       " 'Meta-analysis of Genome-Wide Association Studies for Extraversion: Fin',\n",
       " 'Meta-analysis of Genome-wide Association Studies for Neuroticism, and ',\n",
       " 'Meta-analysis of gene-level associations for rare variants based on si',\n",
       " 'Meta-analysis of genome-wide association studies for personality.',\n",
       " 'Meta-analysis of genome-wide association studies from the CHARGE conso',\n",
       " 'Meta-analysis of genome-wide association studies identifies common var',\n",
       " 'Meta-analysis of genome-wide association studies in >80 000 subjects i',\n",
       " 'Metabolic syndrome across Europe: different clusters of risk factors.',\n",
       " 'Methods for association analysis and meta-analysis of rare variants in',\n",
       " 'Mining the human phenome using allelic scores that index biological in',\n",
       " \"Mitogenome Diversity in Sardinians: A Genetic Window onto an Island's \",\n",
       " 'Multi-ethnic fine-mapping of 14 central adiposity loci.',\n",
       " 'Multiethnic meta-analysis of genome-wide association studies in >100 0',\n",
       " 'NFAT5 and SLC4A10 Loci Associate with Plasma Osmolality.',\n",
       " 'Neuroticism, depressive symptoms, and serum BDNF.',\n",
       " 'New gene functions in megakaryopoiesis and platelet formation.',\n",
       " 'New genetic loci implicated in fasting glucose homeostasis and their i',\n",
       " 'New genetic loci link adipose and insulin biology to body fat distribu',\n",
       " 'Newly identified loci that influence lipid concentrations and risk of ',\n",
       " 'Next-generation genotype imputation service and methods.',\n",
       " 'No evidence for genome-wide interactions on plasma fibrinogen by smoki',\n",
       " 'No evidence of association between subclinical thyroid disorders and c',\n",
       " 'Novel loci for adiponectin levels and their influence on type 2 diabet',\n",
       " 'Overexpression of the Cytokine BAFF and Autoimmunity Risk.',\n",
       " 'Parent-of-origin-specific allelic associations among 106 genomic loci ',\n",
       " 'Personality and metabolic syndrome.',\n",
       " 'Personality traits and circadian blood pressure patterns: a 7-year pro',\n",
       " 'Personality traits and leptin.',\n",
       " 'Personality traits in Sardinia: testing founder population effects on ',\n",
       " 'Personality traits prospectively predict verbal fluency in a lifespan ',\n",
       " 'Phosphodiesterase 8B gene variants are associated with serum TSH level',\n",
       " 'Population- and individual-specific regulatory variation in Sardinia.',\n",
       " 'Prevalence of CKD and its relationship to eGFR-related genetic loci an',\n",
       " 'Prevalence of unknown thyroid disorders in a Sardinian cohort.',\n",
       " 'Quality control and conduct of genome-wide association meta-analyses.',\n",
       " 'Rare variant genotype imputation with thousands of study-specific whol',\n",
       " 'Refining genome-wide linkage intervals using a meta-analysis of genome',\n",
       " 'Reproductive aging-associated common genetic variants and the risk of ',\n",
       " 'SHAVE: shrinkage estimator measured for multiple visits increases powe',\n",
       " 'Serum free thyroxine levels are positively associated with arterial st',\n",
       " 'Seventy-five genetic loci influencing the human red blood cell.',\n",
       " 'Sex-Specific Parental Effects on Offspring Lipid Levels.',\n",
       " 'Sex-specific correlates of walking speed in a wide age-ranged populati',\n",
       " 'Sex-stratified genome-wide association studies including 270,000 indiv',\n",
       " 'Six new loci associated with body mass index highlight a neuronal infl',\n",
       " 'The GLUT9 gene is associated with serum uric acid levels in Sardinia a',\n",
       " 'The Lin28/let-7 axis regulates glucose metabolism.',\n",
       " 'The association between lower educational attainment and depression ow',\n",
       " 'The burden of obesity on blood pressure is reduced in older persons: t',\n",
       " 'The central arterial burden of the metabolic syndrome is similar in me',\n",
       " 'The genetic association between personality and major depression or bi',\n",
       " 'The metabochip, a custom genotyping array for genetic studies of metab',\n",
       " 'The molecular genetic architecture of self-employment.',\n",
       " 'Thirty new loci for age at menarche identified by a meta-analysis of g',\n",
       " 'Trait antagonism and the progression of arterial thickening: women wit',\n",
       " 'Using new tools to define the genetic underpinnings of risky traits as',\n",
       " 'Variants in MTNR1B influence fasting glucose levels.',\n",
       " 'Variants of the serotonin transporter gene and NEO-PI-R Neuroticism: N',\n",
       " 'Variants within the immunoregulatory CBLB gene are associated with mul',\n",
       " 'Variations in the G6PC2/ABCB11 genomic region are associated with fast',\n",
       " 'Whole-genome sequence-based analysis of thyroid function.',\n",
       " 'fastMitoCalc: an ultra-fast program to estimate mitochondrial DNA copy']"
      ]
     },
     "execution_count": 47,
     "metadata": {},
     "output_type": "execute_result"
    }
   ],
   "source": [
    "titles"
   ]
  },
  {
   "cell_type": "markdown",
   "metadata": {},
   "source": [
    "# Format each citation and write the HTML\n",
    "\n",
    "## Write citations in order of date published, and make a per-year pub count"
   ]
  },
  {
   "cell_type": "code",
   "execution_count": 48,
   "metadata": {
    "collapsed": true
   },
   "outputs": [],
   "source": [
    "records.sort( key=lambda x: x['DP'], reverse=True)"
   ]
  },
  {
   "cell_type": "code",
   "execution_count": 49,
   "metadata": {
    "collapsed": true
   },
   "outputs": [],
   "source": [
    "link_frmt = '<a href=\"http://www.ncbi.nlm.nih.gov/pubmed/{}\" target=\"_blank\">{}</a> '\n",
    "def create_citation( record ):\n",
    "    text = '<li>\\n'\n",
    "    mod_au_list = [ '<strong>'+au+'</strong>' if au in author_list else au for au in record['AU']]\n",
    "    text += ', '.join( mod_au_list ) + '. '\n",
    "    text += link_frmt.format( record['PMID'], record['TI'] ) \n",
    "    text += record['SO']\n",
    "    text += '\\n</li>\\n<br>\\n'\n",
    "    return text"
   ]
  },
  {
   "cell_type": "code",
   "execution_count": 50,
   "metadata": {
    "collapsed": true
   },
   "outputs": [],
   "source": [
    "years = sorted(list( set( [ _['DP'][:4] for _ in records ] ) ), reverse=True)"
   ]
  },
  {
   "cell_type": "code",
   "execution_count": 51,
   "metadata": {},
   "outputs": [
    {
     "data": {
      "text/plain": [
       "['2017',\n",
       " '2016',\n",
       " '2015',\n",
       " '2014',\n",
       " '2013',\n",
       " '2012',\n",
       " '2011',\n",
       " '2010',\n",
       " '2009',\n",
       " '2008',\n",
       " '2007',\n",
       " '2006']"
      ]
     },
     "execution_count": 51,
     "metadata": {},
     "output_type": "execute_result"
    }
   ],
   "source": [
    "years"
   ]
  },
  {
   "cell_type": "code",
   "execution_count": 52,
   "metadata": {
    "collapsed": true
   },
   "outputs": [],
   "source": [
    "with open( 'publications_mid.html', 'w') as p:\n",
    "    p.write( \"<p>{} total publications.</p>\\n\".format( len(records)))\n",
    "    for year in years:\n",
    "        year_records = [ _ for _ in records if _['DP'][:4] == year ]\n",
    "        \n",
    "        p.write( \"<p><h3>{}</h3></p>\\n\".format( year ) )\n",
    "        p.write( \"<p>{} publications.</p>\\n\".format( len(year_records) ) )\n",
    "        p.write( '<ol>\\n')\n",
    "        for i, record in enumerate( year_records ):\n",
    "            p.write( create_citation( record ) )\n",
    "        p.write( '</ol>\\n')"
   ]
  },
  {
   "cell_type": "markdown",
   "metadata": {},
   "source": [
    "# Combine preamble, new citation list, and postamble"
   ]
  },
  {
   "cell_type": "code",
   "execution_count": 53,
   "metadata": {},
   "outputs": [
    {
     "name": "stdout",
     "output_type": "stream",
     "text": [
      "<p>173 total publications.</p>\r\n",
      "<p><h3>2017</h3></p>\r\n",
      "<p>7 publications.</p>\r\n",
      "<ol>\r\n",
      "<li>\r\n",
      "Olivieri A, <strong>Sidore C</strong>, Achilli A, Angius A, Posth C, Furtwangler A, Brandini S, Capodiferro MR, Gandini F, Zoledziewska M, Pitzalis M, Maschio A, <strong>Busonero F</strong>, Lai L, Skeates R, Gradoli MG, Beckett J, <strong>Marongiu M</strong>, Mazzarello V, Marongiu P, Rubino S, Rito T, Macaulay V, Semino O, Pala M, <strong>Abecasis GR</strong>, <strong>Schlessinger D</strong>, Conde-Sousa E, Soares P, Richards MB, <strong>Cucca F</strong>, Torroni A. <a href=\"http://www.ncbi.nlm.nih.gov/pubmed/28177087\" target=\"_blank\">Mitogenome Diversity in Sardinians: A Genetic Window onto an Island's Past.</a> Mol Biol Evol. 2017 May 1;34(5):1230-1239. doi: 10.1093/molbev/msx082.\r\n",
      "</li>\r\n",
      "<br>\r\n",
      "<li>\r\n",
      "Pala M, Zappala Z, <strong>Marongiu M</strong>, Li X, Davis JR, Cusano R, Crobu F, Kukurba KR, Gloudemans MJ, Reinier F, Berutti R, Piras MG, <strong>Mulas A</strong>, Zoledziewska M, <strong>Marongiu M</strong>, Sorokin EP, Hess GT, Smith KS, <strong>Busonero F</strong>, Maschio A, Steri M, <strong>Sidore C</strong>, <strong>Sanna S</strong>, Fiorillo E, Bassik MC, Sawcer SJ, Battle A, Novembre J, Jones C, Angius A, <strong>Abecasis GR</strong>, <strong>Schlessinger D</strong>, <strong>Cucca F</strong>, Montgomery SB. <a href=\"http://www.ncbi.nlm.nih.gov/pubmed/28394350\" target=\"_blank\">Population- and individual-specific regulatory variation in Sardinia.</a> Nat Genet. 2017 May;49(5):700-707. doi: 10.1038/ng.3840. Epub 2017 Apr 10.\r\n"
     ]
    }
   ],
   "source": [
    "!head publications_mid.html"
   ]
  },
  {
   "cell_type": "code",
   "execution_count": 54,
   "metadata": {
    "collapsed": true
   },
   "outputs": [],
   "source": [
    "!rm publications.html"
   ]
  },
  {
   "cell_type": "code",
   "execution_count": 55,
   "metadata": {
    "collapsed": true
   },
   "outputs": [],
   "source": [
    "!cat publications_pre.html > publications.html"
   ]
  },
  {
   "cell_type": "code",
   "execution_count": 56,
   "metadata": {
    "collapsed": true
   },
   "outputs": [],
   "source": [
    "!cat publications_mid.html >> publications.html"
   ]
  },
  {
   "cell_type": "code",
   "execution_count": 57,
   "metadata": {
    "collapsed": true
   },
   "outputs": [],
   "source": [
    "!cat publications_post.html >> publications.html"
   ]
  }
 ],
 "metadata": {
  "kernelspec": {
   "display_name": "Python 3",
   "language": "python",
   "name": "python3"
  },
  "language_info": {
   "codemirror_mode": {
    "name": "ipython",
    "version": 3
   },
   "file_extension": ".py",
   "mimetype": "text/x-python",
   "name": "python",
   "nbconvert_exporter": "python",
   "pygments_lexer": "ipython3",
   "version": "3.6.1"
  }
 },
 "nbformat": 4,
 "nbformat_minor": 2
}
