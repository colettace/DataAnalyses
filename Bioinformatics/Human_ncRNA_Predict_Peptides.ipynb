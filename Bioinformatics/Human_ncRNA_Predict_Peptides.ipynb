{
 "cells": [
  {
   "cell_type": "markdown",
   "metadata": {},
   "source": [
    "# Predicted Peptides from Human non-coding RNA\n",
    "\n",
    "* Analysis by: Chris Coletta\n",
    "* Laboratory of Genetics and Gnomics\n",
    "* National Institute on Aging\n",
    "* May 5, 2017, modified Wed Sept 3"
   ]
  },
  {
   "cell_type": "markdown",
   "metadata": {},
   "source": [
    "# Output format\n",
    "\n",
    "```\n",
    "From: Jon Hao [mailto:jon.hao@poochonscientific.com] \n",
    "Sent: Friday, August 25, 2017 2:16 PM\n",
    "To: Aly, Kotb (NIH/NIA/IRP) [E] <abdelmohsenk@grc.nia.nih.gov>\n",
    "Cc: Munk, Rachel (NIH/NIA) [E] <munkr@grc.nia.nih.gov>\n",
    "Subject: RE: ncRNA project\n",
    " \n",
    "Hi Kotb,\n",
    " \n",
    "I tried the short peptides Database from predicated non-coding RNA. It does not work due to no unique ID for each entry. An unique ID need to be added to each entry. The file too big so that I cannot add the unique IDs using excel. But I made an example for your IT collaborator reference. for example, replace the “>” with “>gi|10000001|SP|10000001|”. Please let me know if you want to setup a teleconference call to discuss this.\n",
    " \n",
    "Thanks,\n",
    " \n",
    "Jon\n",
    "```"
   ]
  },
  {
   "cell_type": "markdown",
   "metadata": {},
   "source": [
    "# Load some helper packages"
   ]
  },
  {
   "cell_type": "code",
   "execution_count": 1,
   "metadata": {
    "collapsed": true
   },
   "outputs": [],
   "source": [
    "import time\n",
    "from collections import Counter"
   ]
  },
  {
   "cell_type": "markdown",
   "metadata": {},
   "source": [
    "# Peak at the first few lines of the input file"
   ]
  },
  {
   "cell_type": "code",
   "execution_count": 2,
   "metadata": {},
   "outputs": [
    {
     "name": "stdout",
     "output_type": "stream",
     "text": [
      ">ENST00000003607$$ENST00000003607\r\n",
      "GGGACTGGGGCGGAACCGCCCGGCCGCGGGTCGGGCTCTGTGTCAGCAGC\r\n",
      "CGGGCGGGCGCTCGGGCGGGACATGGCAGCCTGTACAGCCCGGCGGCCCC\r\n",
      "TGGCCGTGGGCAGCCGCTGGTGGTCCCGGTCGCTGACTGGGGCCCGGTGG\r\n",
      "CAAAGCCGCTCTGTGCGGCGGCCGGAGCTGGAGCCTTCTCGCCAGCGTCG\r\n",
      "ACCACGACGACGCGGAGGCACCTCTCGTCCCGAAACCGACCAGAGGGCAA\r\n",
      "AGTGTTGGAGACAGTTGGTGTGTTTGAGGTGCCAAAACAGAATGGAAAAT\r\n",
      "ATGAGACCGGGCAGCTTTTCCTTCATAGCATTTTTGGCTACCGAGGTGTC\r\n",
      "GTCCTGTTTCCCTGGCAGGCCAGACTGTATGACCGGGATGTGGCTTCTGC\r\n",
      "AGCTCCAGAAAAAGCAGAGAACCCTGCTGGCCATGGCTCCAAGGAGGTGA\r\n"
     ]
    }
   ],
   "source": [
    "!head HG19_en82_nc.fa"
   ]
  },
  {
   "cell_type": "markdown",
   "metadata": {},
   "source": [
    "# Load Biopython packages"
   ]
  },
  {
   "cell_type": "code",
   "execution_count": 3,
   "metadata": {
    "collapsed": true
   },
   "outputs": [],
   "source": [
    "from Bio.SeqIO.FastaIO import SimpleFastaParser\n",
    "from Bio.Seq import translate, reverse_complement"
   ]
  },
  {
   "cell_type": "markdown",
   "metadata": {},
   "source": [
    "# Compile a Regular Expression to search for peptides"
   ]
  },
  {
   "cell_type": "code",
   "execution_count": 4,
   "metadata": {
    "collapsed": true
   },
   "outputs": [],
   "source": [
    "import regex\n",
    "finder = regex.compile(r\"M\\w*\\*\", overlapped=True)"
   ]
  },
  {
   "cell_type": "markdown",
   "metadata": {},
   "source": [
    "# Search!"
   ]
  },
  {
   "cell_type": "code",
   "execution_count": 17,
   "metadata": {},
   "outputs": [
    {
     "name": "stdout",
     "output_type": "stream",
     "text": [
      "FINISHED. 114608 seq, 3291389 total pep 1919225 unique in 3.10 minutes\n"
     ]
    }
   ],
   "source": [
    "# use translation table 1 for human\n",
    "genetic_code = 1\n",
    "label_str = \">gi|1{_id}|SP|1{_id}|{title} UNIQUE PREDICTED PEPTIDES {direction} Frame {orf}\\n\"\n",
    "infile = open(\"HG19_en82_nc.fa\")\n",
    "outfile = open( \"HG19_en82_nc_PREDICTED_PEPTIDES_UNIQUE.fa\", 'w')\n",
    "t0 = time.time()\n",
    "all_peptides_count = 0\n",
    "unique_peptides = set()\n",
    "peptide_counter = Counter()\n",
    "peptide_length_counter = Counter()\n",
    "nucleotide_length_counter = Counter()\n",
    "for seqcount, (title, seq) in enumerate( SimpleFastaParser( infile ) ):   \n",
    "    length = len(seq)\n",
    "    nucleotide_length_counter[ length ] += 1\n",
    "    pepcount = 0\n",
    "    direction = \"5'-3'\"\n",
    "    for i in range(0, 3):\n",
    "        id_str = str( ( seqcount*6) + i + 1 ).zfill(7) \n",
    "        outfile.write( label_str.format( _id=id_str, title=title, direction=direction, orf=i+1 ) )\n",
    "        fragment_length = 3 * ( (length - i) // 3 ) \n",
    "        tr = translate( seq[ i:i + fragment_length ], genetic_code )\n",
    "        for m in finder.finditer( str( tr ), overlapped=True ):\n",
    "            pep = m.group()[:-1]\n",
    "            peptide_counter[ pep ] += 1\n",
    "            peptide_length_counter[ len(pep) ] += 1\n",
    "            if pep not in unique_peptides:\n",
    "                unique_peptides.add( pep )\n",
    "                outfile.write( pep + '\\n' )\n",
    "            pepcount += 1\n",
    "    anti = reverse_complement( seq )\n",
    "    direction = \"3'-5'\"\n",
    "    for i in range(0, 3):\n",
    "        id_str = str( ( seqcount*6) +3 + i + 1 ).zfill(7) \n",
    "        outfile.write( label_str.format( _id=id_str, title=title, direction=direction, orf=i+1 ) )\n",
    "        fragment_length = 3 * ((length - i) // 3)\n",
    "        tr = translate( anti[ i:i + fragment_length], genetic_code)\n",
    "        for m in finder.finditer( str( tr ), overlapped=True ):\n",
    "            pep = m.group()[:-1]\n",
    "            peptide_counter[ pep ] += 1\n",
    "            peptide_length_counter[ len(pep) ] += 1\n",
    "            if pep not in unique_peptides:\n",
    "                unique_peptides.add( pep )\n",
    "                outfile.write( pep + '\\n' )\n",
    "            pepcount += 1\n",
    "    t = time.time()\n",
    "    #print( \"Seq {} Pep {} Time {:0.2f}\\t{}\".format( \n",
    "    #    str(seqcount).zfill(6), str(pepcount).zfill(3), (t-t0)/60, title ) )\n",
    "    all_peptides_count += pepcount\n",
    "    \n",
    "print( \"FINISHED. {} seq, {} total pep {} unique in {:0.2f} minutes\".format( \n",
    "    seqcount, all_peptides_count, len(unique_peptides), (t-t0)/60 ) )\n",
    "\n",
    "infile.close()\n",
    "outfile.close()"
   ]
  },
  {
   "cell_type": "code",
   "execution_count": 19,
   "metadata": {},
   "outputs": [
    {
     "name": "stdout",
     "output_type": "stream",
     "text": [
      ">gi|10000001|SP|10000001|ENST00000003607$$ENST00000003607 UNIQUE PREDICTED PEPTIDES 5'-3' Frame 1\r\n",
      "MAACTARRPLAVGSRWWSRSLTGARWQSRSVRRPELEPSRQRRPRRRGGTSRPETDQRAKCWRQLVCLRCQNRMENMRPGSFSFIAFLATEVSSCFPGRPDCMTGMWLLQLQKKQRTLLAMAPRR\r\n",
      "MENMRPGSFSFIAFLATEVSSCFPGRPDCMTGMWLLQLQKKQRTLLAMAPRR\r\n",
      "MRPGSFSFIAFLATEVSSCFPGRPDCMTGMWLLQLQKKQRTLLAMAPRR\r\n",
      "MTGMWLLQLQKKQRTLLAMAPRR\r\n",
      "MWLLQLQKKQRTLLAMAPRR\r\n",
      "MAPRR\r\n",
      "MLVTAHIYLRDLRQKL\r\n",
      "MMTVGPSMPSQAWTMSAMKTSSPTPPLIRFPSNMNSLKDFFCMTRQKHLLLWLGRR\r\n",
      "MTVGPSMPSQAWTMSAMKTSSPTPPLIRFPSNMNSLKDFFCMTRQKHLLLWLGRR\r\n",
      "MPSQAWTMSAMKTSSPTPPLIRFPSNMNSLKDFFCMTRQKHLLLWLGRR\r\n",
      "MSAMKTSSPTPPLIRFPSNMNSLKDFFCMTRQKHLLLWLGRR\r\n",
      "MKTSSPTPPLIRFPSNMNSLKDFFCMTRQKHLLLWLGRR\r\n",
      "MNSLKDFFCMTRQKHLLLWLGRR\r\n",
      "MTRQKHLLLWLGRR\r\n",
      "MFIGKQLRTYVSLSSPSTWA\r\n",
      "MWYSSGSGTGGYSVSLAPWRQCEAEG\r\n",
      "MAPTLMFGFLPSPWKAIKMRRHHPQAFTGRPAEAPSAQAWSPGRTTLIPQLLQNSSLPIMGHSGSLNLIVGFFLWGGVV\r\n",
      "MFGFLPSPWKAIKMRRHHPQAFTGRPAEAPSAQAWSPGRTTLIPQLLQNSSLPIMGHSGSLNLIVGFFLWGGVV\r\n",
      "MRRHHPQAFTGRPAEAPSAQAWSPGRTTLIPQLLQNSSLPIMGHSGSLNLIVGFFLWGGVV\r\n",
      "MGHSGSLNLIVGFFLWGGVV\r\n",
      "MWDTSKAGLLISPAYTMFQ\r\n",
      "MFQ\r\n",
      "MCLFPSQPGGWLDIS\r\n",
      "MQEFG\r\n",
      "MD\r\n",
      ">gi|10000002|SP|10000002|ENST00000003607$$ENST00000003607 UNIQUE PREDICTED PEPTIDES 5'-3' Frame 2\r\n",
      "MQRGRPVSGSEWPGS\r\n",
      "MNCAASCPNS\r\n",
      ">gi|10000003|SP|10000003|ENST00000003607$$ENST00000003607 UNIQUE PREDICTED PEPTIDES 5'-3' Frame 3\r\n"
     ]
    }
   ],
   "source": [
    "!head -30 HG19_en82_nc_PREDICTED_PEPTIDES_UNIQUE.fa"
   ]
  },
  {
   "cell_type": "markdown",
   "metadata": {},
   "source": [
    "# Create Peptide length Histogram\n",
    "## Load graphics packages"
   ]
  },
  {
   "cell_type": "code",
   "execution_count": 7,
   "metadata": {},
   "outputs": [
    {
     "name": "stderr",
     "output_type": "stream",
     "text": [
      "/usr/local/lib/python3.6/site-packages/IPython/html.py:14: ShimWarning: The `IPython.html` package has been deprecated since IPython 4.0. You should import from `notebook` instead. `IPython.html.widgets` has moved to `ipywidgets`.\n",
      "  \"`IPython.html.widgets` has moved to `ipywidgets`.\", ShimWarning)\n"
     ]
    }
   ],
   "source": [
    "%matplotlib inline\n",
    "import matplotlib.pyplot as plt\n",
    "import seaborn as sns"
   ]
  },
  {
   "cell_type": "code",
   "execution_count": 8,
   "metadata": {
    "collapsed": true
   },
   "outputs": [],
   "source": [
    "pep_lengths = [ l for l, p in peptide_length_counter.most_common() for i in range(p) ]"
   ]
  },
  {
   "cell_type": "markdown",
   "metadata": {},
   "source": [
    "## Make figure"
   ]
  },
  {
   "cell_type": "code",
   "execution_count": 9,
   "metadata": {},
   "outputs": [
    {
     "data": {
      "text/plain": [
       "[<matplotlib.text.Text at 0x1308c63c8>,\n",
       " <matplotlib.text.Text at 0x1308d72b0>,\n",
       " <matplotlib.text.Text at 0x10e440c50>,\n",
       " <matplotlib.text.Text at 0x10e448c50>,\n",
       " <matplotlib.text.Text at 0x10e453748>,\n",
       " <matplotlib.text.Text at 0x10e45a240>,\n",
       " <matplotlib.text.Text at 0x10e45acf8>]"
      ]
     },
     "execution_count": 9,
     "metadata": {},
     "output_type": "execute_result"
    },
    {
     "data": {
      "image/png": "[encoded data removed]",
      "text/plain": [
       "<matplotlib.figure.Figure at 0x12ed6fef0>"
      ]
     },
     "metadata": {},
     "output_type": "display_data"
    }
   ],
   "source": [
    "fig, ax = plt.subplots( figsize=(8, 6))\n",
    "grid = sns.distplot( pep_lengths, kde=False, ax=ax )\n",
    "#grid.set( yscale=\"log\")\n",
    "ax.set_title( \"OUTPUT: Histogram of Predicted Peptide Lengths\", size=18)\n",
    "ax.set_xlabel( \"Predicted Peptide Length\")\n",
    "ax.set_ylabel( \"Count\")\n",
    "ax.set_yscale('log')\n",
    "ax.set_yticks( [1,10,100, 1000, 10000, 100000, 1000000] )\n",
    "ax.set_yticklabels( ['1','10','100', '1,000', '10,000', '100,000', '1,000,000'])"
   ]
  },
  {
   "cell_type": "markdown",
   "metadata": {},
   "source": [
    "# Save figure"
   ]
  },
  {
   "cell_type": "code",
   "execution_count": 10,
   "metadata": {
    "collapsed": true
   },
   "outputs": [],
   "source": [
    "fig.savefig( \"output.pdf\")"
   ]
  },
  {
   "cell_type": "markdown",
   "metadata": {},
   "source": [
    "# Make Input Nucleotide Length Histogram"
   ]
  },
  {
   "cell_type": "code",
   "execution_count": 11,
   "metadata": {
    "collapsed": true
   },
   "outputs": [],
   "source": [
    "nt_lengths = [ l for l, p in nucleotide_length_counter.most_common() for i in range(p) ]"
   ]
  },
  {
   "cell_type": "code",
   "execution_count": 12,
   "metadata": {},
   "outputs": [
    {
     "data": {
      "text/plain": [
       "[<matplotlib.text.Text at 0x10f22cc88>,\n",
       " <matplotlib.text.Text at 0x10f231550>,\n",
       " <matplotlib.text.Text at 0x10f267080>,\n",
       " <matplotlib.text.Text at 0x10f29f2e8>,\n",
       " <matplotlib.text.Text at 0x10f29fda0>,\n",
       " <matplotlib.text.Text at 0x10f2a6898>]"
      ]
     },
     "execution_count": 12,
     "metadata": {},
     "output_type": "execute_result"
    },
    {
     "data": {
      "image/png": "[encoded data removed]",
      "text/plain": [
       "<matplotlib.figure.Figure at 0x10e59ff98>"
      ]
     },
     "metadata": {},
     "output_type": "display_data"
    }
   ],
   "source": [
    "fig, ax = plt.subplots( figsize=(8, 6))\n",
    "bins = [0, 1,10,50,100, 500, 1000, 5000, 10000, 50000, 100000]\n",
    "grid = sns.distplot( nt_lengths, kde=False, ax=ax, bins=bins)\n",
    "grid.set( yscale=\"log\")\n",
    "grid.set( xscale=\"log\")\n",
    "ax.set_xlabel( \"Input Nucleotide Length\")\n",
    "ax.set_ylabel( \"Count of Input Sequences of given length\")\n",
    "ax.set_title( \"INPUT: Distribution of Nucleotide Sequence Lengths\", size=18)\n",
    "ax.set_yticks( [1,10,100, 1000, 10000, 100000] )\n",
    "ax.set_yticklabels( ['1','10','100', '1,000', '10,000', '100,000'])\n",
    "ax.set_xticks( [1,10,100, 1000, 10000, 100000] )\n",
    "ax.set_xticklabels( ['1','10','100', '1,000', '10,000', '100,000'])"
   ]
  },
  {
   "cell_type": "code",
   "execution_count": 13,
   "metadata": {
    "collapsed": true
   },
   "outputs": [],
   "source": [
    "fig.savefig('input.pdf')"
   ]
  },
  {
   "cell_type": "markdown",
   "metadata": {},
   "source": [
    "# Look for motifs in the most commonly predicted peptides\n",
    "\n",
    "Greater then 5 AA\n",
    "\n",
    "The motif <code>ML*R*VS*S</code> shows up in the top scorers 7 times."
   ]
  },
  {
   "cell_type": "code",
   "execution_count": 15,
   "metadata": {},
   "outputs": [
    {
     "name": "stdout",
     "output_type": "stream",
     "text": [
      "915 MLARLVSNS\n",
      "695 MVKPHLY\n",
      "676 MVKPRLY\n",
      "516 MVKPCLY\n",
      "470 MLARLVLNS\n",
      "294 MLARMVSIS\n",
      "265 MLVRLVSNS\n",
      "264 MLRKCR\n",
      "232 MLRKGW\n",
      "188 MLGLQA\n",
      "164 MLPRLVSNS\n",
      "138 MLIFSVSFQF\n",
      "136 MAKPHLY\n",
      "135 MAPAQG\n",
      "124 MAKPRLY\n",
      "120 MEKPRLY\n",
      "113 MPVIPAL\n",
      "110 MAKPCLY\n",
      "107 MLPRLVLNS\n",
      "101 MLVRLVLNS\n"
     ]
    }
   ],
   "source": [
    "for pep, count in peptide_counter.most_common():\n",
    "    if len(pep) > 5 and count > 100:\n",
    "        print( count, pep )"
   ]
  }
 ],
 "metadata": {
  "kernelspec": {
   "display_name": "Python 3",
   "language": "python",
   "name": "python3"
  },
  "language_info": {
   "codemirror_mode": {
    "name": "ipython",
    "version": 3
   },
   "file_extension": ".py",
   "mimetype": "text/x-python",
   "name": "python",
   "nbconvert_exporter": "python",
   "pygments_lexer": "ipython3",
   "version": "3.6.2"
  }
 },
 "nbformat": 4,
 "nbformat_minor": 2
}
