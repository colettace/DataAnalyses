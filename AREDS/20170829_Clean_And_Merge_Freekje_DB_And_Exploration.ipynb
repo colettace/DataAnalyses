{
 "cells": [
  {
   "cell_type": "markdown",
   "metadata": {},
   "source": [
    "# AREDS Study Participant Exploration\n",
    "\n",
    "## AREDS Report 8 summary\n",
    "\n",
    "### Participants\n",
    "* 4757 participants enrolled\n",
    "* 1117 AMD Category 1 - few if any drusen, not involved in clinical trial\n",
    "* 3640 involved in Dietary Supplement clinical trial\n",
    "    * 1063 AMD Category 2 - extensive small drusen, pigment abnormalities, or at least 1 intermediate size druse (GA absent)\n",
    "    * 1621 AMD Category 3 - extensive intermediate drusen, GA not involving the center of the macula, or at least 1 large druse\n",
    "        * 3a - Category 3 in one eye, with other eye being 1,2\n",
    "        * 3b - Category 3 in one eye, but visual acuity < 20/32 due to something other than AMD\n",
    "    * 956 AMD Category 4 - Advanced AMD or visual acuity less than 20/32 due to AMD in 1 eye\n",
    "        * 4a - Advanced AMD in one eye, with other eye being 1,2, or 3a\n",
    "        * 4b - Visual acuity less than 20/32 due to AMD, but advanced AMD not present, with other eye being 1,2, or 3a\n",
    "* age categories: 55-59, 60-64, 65-69, 70-74, 75-80\n",
    "\n",
    "### Treatments\n",
    "* Placebo - 31% participants\n",
    "* Antioxidants - 31% (vitamin C, 500 mg; vitamin E, 400 IU; and beta carotene, 15 mg)\n",
    "* Zinc - 19% (zinc, 80 mg, as zinc oxide and copper, 2 mg, as cupric oxide)\n",
    "* Antioxidants + zinc - 19%\n",
    "\n",
    "### Treatment results\n",
    "1. Antiox + zinc - odds reduction of development of AMD = 0.52-0.98, 99% CI\n",
    "2. Zinc alone - 0.55-1.03, 99% CI\n",
    "3. Antiox alone - 0.59-1.09, 99% CI\n",
    "\n",
    "### Outcome by category\n",
    "* AMD category 1: only 5 AMD events after 5 years.\n",
    "* AMD Category 2 participants 5-year probability of progression to Advanced AMD: 1.3% (Only 15 AMD events)\n",
    "* AMD Category 3 participants 5-year probability of progression to Advanced AMD: 18%\n",
    "* Within category 3, Large drusen in each eye or non-central GA in 1 eye: 5-year progression rate : 27%\n",
    "\n",
    "## AREDS Report 17 summary\n",
    "* Published 2005\n",
    "* Only done on right eyes, 1225 eyes\n",
    "* Photographs at baseline, 2years, and anually thereafter\n",
    "* Graded for drusen characteristics (size, type, area), pigmentary abnormalities (increased pigment, depigmentation, geographic atrophy), and neovascular AMD ( retinal pigment epithelial detachment, subretinal fibrous tissue , etc)\n",
    "* Advanced AMD = 1 or more neoovascular abnormalities, photocoagulation for AMD, geographic atrophy involving center of macula\n",
    "* Geographic atrophy = Retinal Pigment epithelial (RPE), roughly round or oval shape, sharp margins and visibility of underlying large choroidal vessels.\n",
    "\n",
    "### Proposed severity scale\n",
    "\n",
    "* Table 1, 9-step scale combines drusen scale with 5-step pigmentary scale\n",
    "* Table 8, definition of scale steps?\n",
    "* step 1 risk of AMD = 1%\n",
    "* step 9 risk of AMD ~50%\n",
    "* Uses Cohen's Kappa coefficient ([wiki](https://en.wikipedia.org/wiki/Cohen%27s_kappa), [scikit-learn implementation](http://scikit-learn.org/stable/modules/generated/sklearn.metrics.cohen_kappa_score.html)), for evaluating model reproducibility\n",
    "* Table 12, Intergrader Reproducibility: Complete agreement 63.4%, within 1 step 86.6%, 2 steps 93.6%, $\\kappa$ (SE) = 0.58 (0.015), $\\kappa$ (SE) weighted 0.75 for 1 off diagonal = 0.73 (0.013)\n",
    "* 12-scale severity score = 9 scale step, plus 3 outcomes"
   ]
  },
  {
   "cell_type": "code",
   "execution_count": 1,
   "metadata": {
    "collapsed": true
   },
   "outputs": [],
   "source": [
    "import pandas as pd\n",
    "import numpy as np\n",
    "%matplotlib inline"
   ]
  },
  {
   "cell_type": "markdown",
   "metadata": {},
   "source": [
    "# Load <code>data_pool_all.tsv</code>"
   ]
  },
  {
   "cell_type": "code",
   "execution_count": 2,
   "metadata": {},
   "outputs": [
    {
     "name": "stderr",
     "output_type": "stream",
     "text": [
      "/usr/local/lib/python3.6/site-packages/IPython/core/interactiveshell.py:2698: DtypeWarning: Columns (0) have mixed types. Specify dtype option on import or set low_memory=False.\n",
      "  interactivity=interactivity, compiler=compiler, result=result)\n"
     ]
    }
   ],
   "source": [
    "pool = pd.read_csv('data_pool_all.tsv', sep='\\t')"
   ]
  },
  {
   "cell_type": "code",
   "execution_count": 3,
   "metadata": {},
   "outputs": [
    {
     "data": {
      "text/plain": [
       "133915"
      ]
     },
     "execution_count": 3,
     "metadata": {},
     "output_type": "execute_result"
    }
   ],
   "source": [
    "len(pool)"
   ]
  },
  {
   "cell_type": "code",
   "execution_count": 4,
   "metadata": {},
   "outputs": [
    {
     "data": {
      "text/plain": [
       "4596"
      ]
     },
     "execution_count": 4,
     "metadata": {},
     "output_type": "execute_result"
    }
   ],
   "source": [
    "len(pool.DB_ID.unique())"
   ]
  },
  {
   "cell_type": "code",
   "execution_count": 5,
   "metadata": {
    "collapsed": true
   },
   "outputs": [],
   "source": [
    "pool['converted_file_name'] = [ _.split('/')[-1] for _ in list(pool.Path) ]"
   ]
  },
  {
   "cell_type": "code",
   "execution_count": 6,
   "metadata": {},
   "outputs": [
    {
     "data": {
      "text/html": [
       "<div>\n",
       "<style>\n",
       "    .dataframe thead tr:only-child th {\n",
       "        text-align: right;\n",
       "    }\n",
       "\n",
       "    .dataframe thead th {\n",
       "        text-align: left;\n",
       "    }\n",
       "\n",
       "    .dataframe tbody tr th {\n",
       "        vertical-align: top;\n",
       "    }\n",
       "</style>\n",
       "<table border=\"1\" class=\"dataframe\">\n",
       "  <thead>\n",
       "    <tr style=\"text-align: right;\">\n",
       "      <th></th>\n",
       "      <th>ID</th>\n",
       "      <th>DB_ID</th>\n",
       "      <th>Visit</th>\n",
       "      <th>EyeLR</th>\n",
       "      <th>SideLR</th>\n",
       "      <th>Path</th>\n",
       "      <th>BaseCat</th>\n",
       "      <th>ProgressCat</th>\n",
       "      <th>SevScore</th>\n",
       "      <th>SimpleSev</th>\n",
       "      <th>converted_file_name</th>\n",
       "    </tr>\n",
       "  </thead>\n",
       "  <tbody>\n",
       "    <tr>\n",
       "      <th>0</th>\n",
       "      <td>1890</td>\n",
       "      <td>51003</td>\n",
       "      <td>4</td>\n",
       "      <td>LE</td>\n",
       "      <td>LS</td>\n",
       "      <td>tiff/AMD_Category_2_Other/51003-04-F2-LE-LS.tiff</td>\n",
       "      <td>2</td>\n",
       "      <td>Other</td>\n",
       "      <td>2.0</td>\n",
       "      <td>1.0</td>\n",
       "      <td>51003-04-F2-LE-LS.tiff</td>\n",
       "    </tr>\n",
       "    <tr>\n",
       "      <th>1</th>\n",
       "      <td>1890</td>\n",
       "      <td>51003</td>\n",
       "      <td>4</td>\n",
       "      <td>LE</td>\n",
       "      <td>RS</td>\n",
       "      <td>tiff/AMD_Category_2_Other/51003-04-F2-LE-RS.tiff</td>\n",
       "      <td>2</td>\n",
       "      <td>Other</td>\n",
       "      <td>2.0</td>\n",
       "      <td>1.0</td>\n",
       "      <td>51003-04-F2-LE-RS.tiff</td>\n",
       "    </tr>\n",
       "    <tr>\n",
       "      <th>2</th>\n",
       "      <td>1890</td>\n",
       "      <td>51003</td>\n",
       "      <td>4</td>\n",
       "      <td>RE</td>\n",
       "      <td>LS</td>\n",
       "      <td>tiff/AMD_Category_2_Other/51003-04-F2-RE-LS.tiff</td>\n",
       "      <td>2</td>\n",
       "      <td>Other</td>\n",
       "      <td>2.0</td>\n",
       "      <td>1.0</td>\n",
       "      <td>51003-04-F2-RE-LS.tiff</td>\n",
       "    </tr>\n",
       "    <tr>\n",
       "      <th>3</th>\n",
       "      <td>1890</td>\n",
       "      <td>51003</td>\n",
       "      <td>4</td>\n",
       "      <td>RE</td>\n",
       "      <td>RS</td>\n",
       "      <td>tiff/AMD_Category_2_Other/51003-04-F2-RE-RS.tiff</td>\n",
       "      <td>2</td>\n",
       "      <td>Other</td>\n",
       "      <td>2.0</td>\n",
       "      <td>1.0</td>\n",
       "      <td>51003-04-F2-RE-RS.tiff</td>\n",
       "    </tr>\n",
       "    <tr>\n",
       "      <th>4</th>\n",
       "      <td>1890</td>\n",
       "      <td>51003</td>\n",
       "      <td>6</td>\n",
       "      <td>LE</td>\n",
       "      <td>LS</td>\n",
       "      <td>tiff/AMD_Category_2_Other/51003-06-F2-LE-LS.tiff</td>\n",
       "      <td>2</td>\n",
       "      <td>Other</td>\n",
       "      <td>2.0</td>\n",
       "      <td>1.0</td>\n",
       "      <td>51003-06-F2-LE-LS.tiff</td>\n",
       "    </tr>\n",
       "  </tbody>\n",
       "</table>\n",
       "</div>"
      ],
      "text/plain": [
       "     ID  DB_ID  Visit EyeLR SideLR  \\\n",
       "0  1890  51003      4    LE     LS   \n",
       "1  1890  51003      4    LE     RS   \n",
       "2  1890  51003      4    RE     LS   \n",
       "3  1890  51003      4    RE     RS   \n",
       "4  1890  51003      6    LE     LS   \n",
       "\n",
       "                                               Path BaseCat ProgressCat  \\\n",
       "0  tiff/AMD_Category_2_Other/51003-04-F2-LE-LS.tiff       2       Other   \n",
       "1  tiff/AMD_Category_2_Other/51003-04-F2-LE-RS.tiff       2       Other   \n",
       "2  tiff/AMD_Category_2_Other/51003-04-F2-RE-LS.tiff       2       Other   \n",
       "3  tiff/AMD_Category_2_Other/51003-04-F2-RE-RS.tiff       2       Other   \n",
       "4  tiff/AMD_Category_2_Other/51003-06-F2-LE-LS.tiff       2       Other   \n",
       "\n",
       "   SevScore  SimpleSev     converted_file_name  \n",
       "0       2.0        1.0  51003-04-F2-LE-LS.tiff  \n",
       "1       2.0        1.0  51003-04-F2-LE-RS.tiff  \n",
       "2       2.0        1.0  51003-04-F2-RE-LS.tiff  \n",
       "3       2.0        1.0  51003-04-F2-RE-RS.tiff  \n",
       "4       2.0        1.0  51003-06-F2-LE-LS.tiff  "
      ]
     },
     "execution_count": 6,
     "metadata": {},
     "output_type": "execute_result"
    }
   ],
   "source": [
    "pool.head()"
   ]
  },
  {
   "cell_type": "markdown",
   "metadata": {},
   "source": [
    "# Load <code>AREDS_2014_Image_File_List_CLEANED.csv</code>"
   ]
  },
  {
   "cell_type": "code",
   "execution_count": 7,
   "metadata": {
    "collapsed": true
   },
   "outputs": [],
   "source": [
    "categories = pd.read_csv('AREDS_2014_Image_File_List_CLEANED.csv')"
   ]
  },
  {
   "cell_type": "code",
   "execution_count": 8,
   "metadata": {},
   "outputs": [
    {
     "data": {
      "text/plain": [
       "134519"
      ]
     },
     "execution_count": 8,
     "metadata": {},
     "output_type": "execute_result"
    }
   ],
   "source": [
    "len(categories)"
   ]
  },
  {
   "cell_type": "code",
   "execution_count": 9,
   "metadata": {},
   "outputs": [
    {
     "data": {
      "text/html": [
       "<div>\n",
       "<style>\n",
       "    .dataframe thead tr:only-child th {\n",
       "        text-align: right;\n",
       "    }\n",
       "\n",
       "    .dataframe thead th {\n",
       "        text-align: left;\n",
       "    }\n",
       "\n",
       "    .dataframe tbody tr th {\n",
       "        vertical-align: top;\n",
       "    }\n",
       "</style>\n",
       "<table border=\"1\" class=\"dataframe\">\n",
       "  <thead>\n",
       "    <tr style=\"text-align: right;\">\n",
       "      <th></th>\n",
       "      <th>Baseline_AMD_Category</th>\n",
       "      <th>Final_AMD_Phenotype_Group</th>\n",
       "      <th>Final_AMD_Phenotype</th>\n",
       "      <th>converted_file_name</th>\n",
       "    </tr>\n",
       "  </thead>\n",
       "  <tbody>\n",
       "    <tr>\n",
       "      <th>0</th>\n",
       "      <td>2</td>\n",
       "      <td>other</td>\n",
       "      <td>Large Drusen Questionable 1</td>\n",
       "      <td>51003-04-F2-LE-LS.tiff</td>\n",
       "    </tr>\n",
       "    <tr>\n",
       "      <th>1</th>\n",
       "      <td>2</td>\n",
       "      <td>other</td>\n",
       "      <td>Large Drusen Questionable 1</td>\n",
       "      <td>51003-04-F2-LE-RS.tiff</td>\n",
       "    </tr>\n",
       "    <tr>\n",
       "      <th>2</th>\n",
       "      <td>2</td>\n",
       "      <td>other</td>\n",
       "      <td>Large Drusen Questionable 1</td>\n",
       "      <td>51003-04-F2-RE-LS.tiff</td>\n",
       "    </tr>\n",
       "    <tr>\n",
       "      <th>3</th>\n",
       "      <td>2</td>\n",
       "      <td>other</td>\n",
       "      <td>Large Drusen Questionable 1</td>\n",
       "      <td>51003-04-F2-RE-RS.tiff</td>\n",
       "    </tr>\n",
       "    <tr>\n",
       "      <th>4</th>\n",
       "      <td>2</td>\n",
       "      <td>other</td>\n",
       "      <td>Large Drusen Questionable 1</td>\n",
       "      <td>51003-06-F2-LE-LS.tiff</td>\n",
       "    </tr>\n",
       "  </tbody>\n",
       "</table>\n",
       "</div>"
      ],
      "text/plain": [
       "  Baseline_AMD_Category Final_AMD_Phenotype_Group  \\\n",
       "0                     2                     other   \n",
       "1                     2                     other   \n",
       "2                     2                     other   \n",
       "3                     2                     other   \n",
       "4                     2                     other   \n",
       "\n",
       "           Final_AMD_Phenotype     converted_file_name  \n",
       "0  Large Drusen Questionable 1  51003-04-F2-LE-LS.tiff  \n",
       "1  Large Drusen Questionable 1  51003-04-F2-LE-RS.tiff  \n",
       "2  Large Drusen Questionable 1  51003-04-F2-RE-LS.tiff  \n",
       "3  Large Drusen Questionable 1  51003-04-F2-RE-RS.tiff  \n",
       "4  Large Drusen Questionable 1  51003-06-F2-LE-LS.tiff  "
      ]
     },
     "execution_count": 9,
     "metadata": {},
     "output_type": "execute_result"
    }
   ],
   "source": [
    "categories.head()"
   ]
  },
  {
   "cell_type": "markdown",
   "metadata": {},
   "source": [
    "# Load <code>20170502_AREDS_data_Freekje.csv</code>"
   ]
  },
  {
   "cell_type": "code",
   "execution_count": 10,
   "metadata": {
    "collapsed": true
   },
   "outputs": [],
   "source": [
    "freekje = pd.read_csv('20170502_AREDS_data_Freekje_orig.csv')"
   ]
  },
  {
   "cell_type": "code",
   "execution_count": 11,
   "metadata": {},
   "outputs": [
    {
     "data": {
      "text/plain": [
       "134519"
      ]
     },
     "execution_count": 11,
     "metadata": {},
     "output_type": "execute_result"
    }
   ],
   "source": [
    "len(freekje)"
   ]
  },
  {
   "cell_type": "code",
   "execution_count": 12,
   "metadata": {},
   "outputs": [
    {
     "data": {
      "text/html": [
       "<div>\n",
       "<style>\n",
       "    .dataframe thead tr:only-child th {\n",
       "        text-align: right;\n",
       "    }\n",
       "\n",
       "    .dataframe thead th {\n",
       "        text-align: left;\n",
       "    }\n",
       "\n",
       "    .dataframe tbody tr th {\n",
       "        vertical-align: top;\n",
       "    }\n",
       "</style>\n",
       "<table border=\"1\" class=\"dataframe\">\n",
       "  <thead>\n",
       "    <tr style=\"text-align: right;\">\n",
       "      <th></th>\n",
       "      <th>Patid</th>\n",
       "      <th>Areds_subject_id</th>\n",
       "      <th>Image_file_nameimg_file</th>\n",
       "      <th>AMD_CATcategory</th>\n",
       "      <th>Case_controlcase_control</th>\n",
       "      <th>Amd_statusstatus</th>\n",
       "      <th>Cataract</th>\n",
       "      <th>VisNovis_year</th>\n",
       "      <th>Treatment</th>\n",
       "      <th>age_baseline</th>\n",
       "      <th>male</th>\n",
       "      <th>white</th>\n",
       "    </tr>\n",
       "  </thead>\n",
       "  <tbody>\n",
       "    <tr>\n",
       "      <th>0</th>\n",
       "      <td>51003</td>\n",
       "      <td>1890</td>\n",
       "      <td>51003 04 F2 LE LS.jpg</td>\n",
       "      <td>Baseline AMD Category 2</td>\n",
       "      <td>Final AMD Phenotype Group: Other (Not Advanced...</td>\n",
       "      <td>Final AMD Phenotype: Large Drusen Questionable 1</td>\n",
       "      <td>Final Cataract Phenotype: Nuclear/Cortical</td>\n",
       "      <td>Study Visit: Year 2</td>\n",
       "      <td>Placebo</td>\n",
       "      <td>72.484932</td>\n",
       "      <td>0</td>\n",
       "      <td>1</td>\n",
       "    </tr>\n",
       "    <tr>\n",
       "      <th>1</th>\n",
       "      <td>51003</td>\n",
       "      <td>1890</td>\n",
       "      <td>51003 04 F2 LE RS.jpg</td>\n",
       "      <td>Baseline AMD Category 2</td>\n",
       "      <td>Final AMD Phenotype Group: Other (Not Advanced...</td>\n",
       "      <td>Final AMD Phenotype: Large Drusen Questionable 1</td>\n",
       "      <td>Final Cataract Phenotype: Nuclear/Cortical</td>\n",
       "      <td>Study Visit: Year 2</td>\n",
       "      <td>Placebo</td>\n",
       "      <td>72.484932</td>\n",
       "      <td>0</td>\n",
       "      <td>1</td>\n",
       "    </tr>\n",
       "    <tr>\n",
       "      <th>2</th>\n",
       "      <td>51003</td>\n",
       "      <td>1890</td>\n",
       "      <td>51003 04 F2 RE LS.jpg</td>\n",
       "      <td>Baseline AMD Category 2</td>\n",
       "      <td>Final AMD Phenotype Group: Other (Not Advanced...</td>\n",
       "      <td>Final AMD Phenotype: Large Drusen Questionable 1</td>\n",
       "      <td>Final Cataract Phenotype: Nuclear/Cortical</td>\n",
       "      <td>Study Visit: Year 2</td>\n",
       "      <td>Placebo</td>\n",
       "      <td>72.484932</td>\n",
       "      <td>0</td>\n",
       "      <td>1</td>\n",
       "    </tr>\n",
       "    <tr>\n",
       "      <th>3</th>\n",
       "      <td>51003</td>\n",
       "      <td>1890</td>\n",
       "      <td>51003 04 F2 RE RS.jpg</td>\n",
       "      <td>Baseline AMD Category 2</td>\n",
       "      <td>Final AMD Phenotype Group: Other (Not Advanced...</td>\n",
       "      <td>Final AMD Phenotype: Large Drusen Questionable 1</td>\n",
       "      <td>Final Cataract Phenotype: Nuclear/Cortical</td>\n",
       "      <td>Study Visit: Year 2</td>\n",
       "      <td>Placebo</td>\n",
       "      <td>72.484932</td>\n",
       "      <td>0</td>\n",
       "      <td>1</td>\n",
       "    </tr>\n",
       "    <tr>\n",
       "      <th>4</th>\n",
       "      <td>51003</td>\n",
       "      <td>1890</td>\n",
       "      <td>51003 06 F2 LE LS.jpg</td>\n",
       "      <td>Baseline AMD Category 2</td>\n",
       "      <td>Final AMD Phenotype Group: Other (Not Advanced...</td>\n",
       "      <td>Final AMD Phenotype: Large Drusen Questionable 1</td>\n",
       "      <td>Final Cataract Phenotype: Nuclear/Cortical</td>\n",
       "      <td>Study Visit: Year 3</td>\n",
       "      <td>Placebo</td>\n",
       "      <td>72.484932</td>\n",
       "      <td>0</td>\n",
       "      <td>1</td>\n",
       "    </tr>\n",
       "  </tbody>\n",
       "</table>\n",
       "</div>"
      ],
      "text/plain": [
       "   Patid Areds_subject_id Image_file_nameimg_file          AMD_CATcategory  \\\n",
       "0  51003             1890   51003 04 F2 LE LS.jpg  Baseline AMD Category 2   \n",
       "1  51003             1890   51003 04 F2 LE RS.jpg  Baseline AMD Category 2   \n",
       "2  51003             1890   51003 04 F2 RE LS.jpg  Baseline AMD Category 2   \n",
       "3  51003             1890   51003 04 F2 RE RS.jpg  Baseline AMD Category 2   \n",
       "4  51003             1890   51003 06 F2 LE LS.jpg  Baseline AMD Category 2   \n",
       "\n",
       "                            Case_controlcase_control  \\\n",
       "0  Final AMD Phenotype Group: Other (Not Advanced...   \n",
       "1  Final AMD Phenotype Group: Other (Not Advanced...   \n",
       "2  Final AMD Phenotype Group: Other (Not Advanced...   \n",
       "3  Final AMD Phenotype Group: Other (Not Advanced...   \n",
       "4  Final AMD Phenotype Group: Other (Not Advanced...   \n",
       "\n",
       "                                   Amd_statusstatus  \\\n",
       "0  Final AMD Phenotype: Large Drusen Questionable 1   \n",
       "1  Final AMD Phenotype: Large Drusen Questionable 1   \n",
       "2  Final AMD Phenotype: Large Drusen Questionable 1   \n",
       "3  Final AMD Phenotype: Large Drusen Questionable 1   \n",
       "4  Final AMD Phenotype: Large Drusen Questionable 1   \n",
       "\n",
       "                                     Cataract        VisNovis_year Treatment  \\\n",
       "0  Final Cataract Phenotype: Nuclear/Cortical  Study Visit: Year 2   Placebo   \n",
       "1  Final Cataract Phenotype: Nuclear/Cortical  Study Visit: Year 2   Placebo   \n",
       "2  Final Cataract Phenotype: Nuclear/Cortical  Study Visit: Year 2   Placebo   \n",
       "3  Final Cataract Phenotype: Nuclear/Cortical  Study Visit: Year 2   Placebo   \n",
       "4  Final Cataract Phenotype: Nuclear/Cortical  Study Visit: Year 3   Placebo   \n",
       "\n",
       "   age_baseline  male  white  \n",
       "0     72.484932     0      1  \n",
       "1     72.484932     0      1  \n",
       "2     72.484932     0      1  \n",
       "3     72.484932     0      1  \n",
       "4     72.484932     0      1  "
      ]
     },
     "execution_count": 12,
     "metadata": {},
     "output_type": "execute_result"
    }
   ],
   "source": [
    "freekje.head()"
   ]
  },
  {
   "cell_type": "markdown",
   "metadata": {},
   "source": [
    "# Compare files"
   ]
  },
  {
   "cell_type": "markdown",
   "metadata": {},
   "source": [
    "## Baseline AMD category"
   ]
  },
  {
   "cell_type": "code",
   "execution_count": 13,
   "metadata": {},
   "outputs": [
    {
     "data": {
      "text/plain": [
       "Baseline AMD Category 3a    42106\n",
       "Baseline AMD Category 2     32247\n",
       "Baseline AMD Category 1     32035\n",
       "Baseline AMD Category 4a    20186\n",
       "Baseline AMD Category 3b     4237\n",
       "Baseline AMD Category 4b     3708\n",
       "Name: AMD_CATcategory, dtype: int64"
      ]
     },
     "execution_count": 13,
     "metadata": {},
     "output_type": "execute_result"
    }
   ],
   "source": [
    "freekje['AMD_CATcategory'].value_counts()"
   ]
  },
  {
   "cell_type": "code",
   "execution_count": 14,
   "metadata": {},
   "outputs": [
    {
     "data": {
      "text/plain": [
       "3a    42106\n",
       "2     32247\n",
       "1     32035\n",
       "4a    20186\n",
       "3b     4237\n",
       "4b     3708\n",
       "Name: Baseline_AMD_Category, dtype: int64"
      ]
     },
     "execution_count": 14,
     "metadata": {},
     "output_type": "execute_result"
    }
   ],
   "source": [
    "categories['Baseline_AMD_Category'].value_counts()"
   ]
  },
  {
   "cell_type": "markdown",
   "metadata": {},
   "source": [
    "## Final_AMD_Phenotype_Group"
   ]
  },
  {
   "cell_type": "code",
   "execution_count": 15,
   "metadata": {},
   "outputs": [
    {
     "data": {
      "text/plain": [
       "Final AMD Phenotype Group: Other (Not Advanced AMD or Control)    77328\n",
       "Final AMD Phenotype Group: Case (Advanced AMD)                    36072\n",
       "Final AMD Phenotype Group: Control                                21119\n",
       "Name: Case_controlcase_control, dtype: int64"
      ]
     },
     "execution_count": 15,
     "metadata": {},
     "output_type": "execute_result"
    }
   ],
   "source": [
    "freekje['Case_controlcase_control'].value_counts()"
   ]
  },
  {
   "cell_type": "code",
   "execution_count": 16,
   "metadata": {},
   "outputs": [
    {
     "data": {
      "text/plain": [
       "other      77328\n",
       "case       36072\n",
       "control    21119\n",
       "Name: Final_AMD_Phenotype_Group, dtype: int64"
      ]
     },
     "execution_count": 16,
     "metadata": {},
     "output_type": "execute_result"
    }
   ],
   "source": [
    "categories['Final_AMD_Phenotype_Group'].value_counts()"
   ]
  },
  {
   "cell_type": "markdown",
   "metadata": {},
   "source": [
    "## Final_AMD_Phenotype"
   ]
  },
  {
   "cell_type": "code",
   "execution_count": 17,
   "metadata": {},
   "outputs": [
    {
     "data": {
      "text/plain": [
       "Final AMD Phenotype: Other non-control phenotype    28433\n",
       "Final AMD Phenotype: Large Drusen                   26271\n",
       "Final AMD Phenotype: NV AMD                         22179\n",
       "Final AMD Phenotype: GA (Geographic Atrophy)         8733\n",
       "Final AMD Phenotype: Large Drusen Questionable 1     8585\n",
       "Final AMD Phenotype: Control                         7793\n",
       "Final AMD Phenotype: Control Questionable 3          6386\n",
       "Final AMD Phenotype: Questionable AMD                6178\n",
       "Final AMD Phenotype: Large Drusen Questionable 3     5367\n",
       "Final AMD Phenotype: Both NV AMD and GA              5160\n",
       "Final AMD Phenotype: Control Questionable 1          4349\n",
       "Final AMD Phenotype: Large Drusen Questionable 2     2494\n",
       "Final AMD Phenotype: Control Questionable 4          1619\n",
       "Final AMD Phenotype: Control Questionable 2           972\n",
       "Name: Amd_statusstatus, dtype: int64"
      ]
     },
     "execution_count": 17,
     "metadata": {},
     "output_type": "execute_result"
    }
   ],
   "source": [
    "freekje['Amd_statusstatus'].value_counts()"
   ]
  },
  {
   "cell_type": "code",
   "execution_count": 18,
   "metadata": {},
   "outputs": [
    {
     "data": {
      "text/plain": [
       "Other non-control phenotype    28433\n",
       "Large Drusen                   26271\n",
       "NV AMD                         22179\n",
       "GA (Geographic Atrophy)         8733\n",
       "Large Drusen Questionable 1     8585\n",
       "Control                         7793\n",
       "Control Questionable 3          6386\n",
       "Questionable AMD                6178\n",
       "Large Drusen Questionable 3     5367\n",
       "Both NV AMD and GA              5160\n",
       "Control Questionable 1          4349\n",
       "Large Drusen Questionable 2     2494\n",
       "Control Questionable 4          1619\n",
       "Control Questionable 2           972\n",
       "Name: Final_AMD_Phenotype, dtype: int64"
      ]
     },
     "execution_count": 18,
     "metadata": {},
     "output_type": "execute_result"
    }
   ],
   "source": [
    "categories['Final_AMD_Phenotype'].value_counts()"
   ]
  },
  {
   "cell_type": "markdown",
   "metadata": {},
   "source": [
    "# New categories\n",
    "## Cataract"
   ]
  },
  {
   "cell_type": "code",
   "execution_count": 19,
   "metadata": {},
   "outputs": [
    {
     "data": {
      "text/plain": [
       "Final Cataract Phenotype: Absent                               38748\n",
       "Final Cataract Phenotype: Cortical alone                       25774\n",
       "Final Cataract Phenotype: Nuclear alone                        22692\n",
       "Final Cataract Phenotype: Questionable                         11611\n",
       "Final Cataract Phenotype: Cataract Surgery/No specific type    11467\n",
       "Final Cataract Phenotype: Nuclear/Cortical                      7632\n",
       "Final Cataract Phenotype: Cortical/PSC                          4652\n",
       "Final Cataract Phenotype: Nuclear/PSC                           4370\n",
       "Final Cataract Phenotype: PSC alone                             4086\n",
       "Final Cataract Phenotype: Nuclear/Cortical/PSC                  3487\n",
       "Name: Cataract, dtype: int64"
      ]
     },
     "execution_count": 19,
     "metadata": {},
     "output_type": "execute_result"
    }
   ],
   "source": [
    "freekje['Cataract'].value_counts()"
   ]
  },
  {
   "cell_type": "markdown",
   "metadata": {},
   "source": [
    "## Treatment"
   ]
  },
  {
   "cell_type": "code",
   "execution_count": 20,
   "metadata": {},
   "outputs": [
    {
     "data": {
      "text/plain": [
       "Placebo    41751\n",
       "Antiox     41748\n",
       "Ax+Zinc    25545\n",
       "Zinc       25475\n",
       "Name: Treatment, dtype: int64"
      ]
     },
     "execution_count": 20,
     "metadata": {},
     "output_type": "execute_result"
    }
   ],
   "source": [
    "freekje['Treatment'].value_counts()"
   ]
  },
  {
   "cell_type": "code",
   "execution_count": 328,
   "metadata": {},
   "outputs": [
    {
     "data": {
      "text/plain": [
       "Antiox     0.310458\n",
       "Placebo    0.309968\n",
       "Zinc       0.190496\n",
       "Ax+Zinc    0.189078\n",
       "Name: Treatment, dtype: float64"
      ]
     },
     "execution_count": 328,
     "metadata": {},
     "output_type": "execute_result"
    }
   ],
   "source": [
    "merged.Treatment.value_counts() / merged.Treatment.count()"
   ]
  },
  {
   "cell_type": "markdown",
   "metadata": {},
   "source": [
    "## age baseline"
   ]
  },
  {
   "cell_type": "code",
   "execution_count": 21,
   "metadata": {},
   "outputs": [
    {
     "data": {
      "text/plain": [
       "<matplotlib.axes._subplots.AxesSubplot at 0x1110ed3c8>"
      ]
     },
     "execution_count": 21,
     "metadata": {},
     "output_type": "execute_result"
    },
    {
     "data": {
      "image/png": "[encoded data removed]",
      "text/plain": [
       "<matplotlib.figure.Figure at 0x10b91ab00>"
      ]
     },
     "metadata": {},
     "output_type": "display_data"
    }
   ],
   "source": [
    "freekje['age_baseline'].hist()"
   ]
  },
  {
   "cell_type": "markdown",
   "metadata": {},
   "source": [
    "## Male"
   ]
  },
  {
   "cell_type": "code",
   "execution_count": 22,
   "metadata": {},
   "outputs": [
    {
     "data": {
      "text/plain": [
       "0    76391\n",
       "1    58128\n",
       "Name: male, dtype: int64"
      ]
     },
     "execution_count": 22,
     "metadata": {},
     "output_type": "execute_result"
    }
   ],
   "source": [
    "freekje['male'].value_counts()"
   ]
  },
  {
   "cell_type": "code",
   "execution_count": 23,
   "metadata": {},
   "outputs": [
    {
     "data": {
      "text/plain": [
       "1    129111\n",
       "0      5408\n",
       "Name: white, dtype: int64"
      ]
     },
     "execution_count": 23,
     "metadata": {},
     "output_type": "execute_result"
    }
   ],
   "source": [
    "freekje['white'].value_counts()"
   ]
  },
  {
   "cell_type": "code",
   "execution_count": 24,
   "metadata": {},
   "outputs": [
    {
     "data": {
      "text/plain": [
       "Study Visit: QUA          15933\n",
       "Study Visit: Year 3       15883\n",
       "Study Visit: Year 5       14488\n",
       "Study Visit: Year 2       14443\n",
       "Study Visit: Year 4       13159\n",
       "Study Visit: Year 7       10953\n",
       "Study Visit: Year 6       10614\n",
       "Study Visit: Year 9        9668\n",
       "Study Visit: Year 8        7774\n",
       "Study Visit: Year 10       7685\n",
       "Study Visit: Year 11       5629\n",
       "Study Visit: Year 12       2135\n",
       "Study Visit: Year 6.5       992\n",
       "Study Visit: Year 5.5       880\n",
       "Study Visit: Year 7.5       878\n",
       "Study Visit: Year 1         832\n",
       "Study Visit: Year 2.5       512\n",
       "Study Visit: Year 3.5       506\n",
       "Study Visit: Year 0.5       447\n",
       "Study Visit: Year 1.5       446\n",
       "Study Visit: Year 4.5       346\n",
       "Study Visit: Year 8.5       242\n",
       "Study Visit: Baseline        28\n",
       "Study Visit: Year 13         22\n",
       "Study Visit: Year 9.5        20\n",
       "Study Visit: Year 10.5        4\n",
       "Name: VisNovis_year, dtype: int64"
      ]
     },
     "execution_count": 24,
     "metadata": {},
     "output_type": "execute_result"
    }
   ],
   "source": [
    "freekje['VisNovis_year'].value_counts()"
   ]
  },
  {
   "cell_type": "markdown",
   "metadata": {},
   "source": [
    "# Reformat and save"
   ]
  },
  {
   "cell_type": "code",
   "execution_count": 25,
   "metadata": {},
   "outputs": [
    {
     "data": {
      "text/plain": [
       "Index(['Patid', 'Areds_subject_id', 'Image_file_nameimg_file',\n",
       "       'AMD_CATcategory', 'Case_controlcase_control', 'Amd_statusstatus',\n",
       "       'Cataract', 'VisNovis_year', 'Treatment', 'age_baseline', 'male',\n",
       "       'white'],\n",
       "      dtype='object')"
      ]
     },
     "execution_count": 25,
     "metadata": {},
     "output_type": "execute_result"
    }
   ],
   "source": [
    "freekje.columns"
   ]
  },
  {
   "cell_type": "code",
   "execution_count": 26,
   "metadata": {
    "collapsed": true
   },
   "outputs": [],
   "source": [
    "new_columns = ['Patid', 'Areds_subject_id', 'converted_file_name', 'Baseline_AMD_Category', \n",
    "        'Final_AMD_Phenotype_Group', 'Final_AMD_Phenotype', 'Final_Cataract_Phenotype', \"Study_Visit_Year\",\n",
    "               'Treatment', 'age_baseline', 'male', 'white']"
   ]
  },
  {
   "cell_type": "code",
   "execution_count": 27,
   "metadata": {},
   "outputs": [
    {
     "data": {
      "text/plain": [
       "[('Patid', 'Patid'),\n",
       " ('Areds_subject_id', 'Areds_subject_id'),\n",
       " ('Image_file_nameimg_file', 'converted_file_name'),\n",
       " ('AMD_CATcategory', 'Baseline_AMD_Category'),\n",
       " ('Case_controlcase_control', 'Final_AMD_Phenotype_Group'),\n",
       " ('Amd_statusstatus', 'Final_AMD_Phenotype'),\n",
       " ('Cataract', 'Final_Cataract_Phenotype'),\n",
       " ('VisNovis_year', 'Study_Visit_Year'),\n",
       " ('Treatment', 'Treatment'),\n",
       " ('age_baseline', 'age_baseline'),\n",
       " ('male', 'male'),\n",
       " ('white', 'white')]"
      ]
     },
     "execution_count": 27,
     "metadata": {},
     "output_type": "execute_result"
    }
   ],
   "source": [
    "list( zip( list(freekje.columns), new_columns ))"
   ]
  },
  {
   "cell_type": "code",
   "execution_count": 28,
   "metadata": {
    "collapsed": true
   },
   "outputs": [],
   "source": [
    "freekje.columns = new_columns"
   ]
  },
  {
   "cell_type": "code",
   "execution_count": 29,
   "metadata": {},
   "outputs": [
    {
     "data": {
      "text/html": [
       "<div>\n",
       "<style>\n",
       "    .dataframe thead tr:only-child th {\n",
       "        text-align: right;\n",
       "    }\n",
       "\n",
       "    .dataframe thead th {\n",
       "        text-align: left;\n",
       "    }\n",
       "\n",
       "    .dataframe tbody tr th {\n",
       "        vertical-align: top;\n",
       "    }\n",
       "</style>\n",
       "<table border=\"1\" class=\"dataframe\">\n",
       "  <thead>\n",
       "    <tr style=\"text-align: right;\">\n",
       "      <th></th>\n",
       "      <th>Patid</th>\n",
       "      <th>Areds_subject_id</th>\n",
       "      <th>converted_file_name</th>\n",
       "      <th>Baseline_AMD_Category</th>\n",
       "      <th>Final_AMD_Phenotype_Group</th>\n",
       "      <th>Final_AMD_Phenotype</th>\n",
       "      <th>Final_Cataract_Phenotype</th>\n",
       "      <th>Study_Visit_Year</th>\n",
       "      <th>Treatment</th>\n",
       "      <th>age_baseline</th>\n",
       "      <th>male</th>\n",
       "      <th>white</th>\n",
       "    </tr>\n",
       "  </thead>\n",
       "  <tbody>\n",
       "    <tr>\n",
       "      <th>0</th>\n",
       "      <td>51003</td>\n",
       "      <td>1890</td>\n",
       "      <td>51003 04 F2 LE LS.jpg</td>\n",
       "      <td>Baseline AMD Category 2</td>\n",
       "      <td>Final AMD Phenotype Group: Other (Not Advanced...</td>\n",
       "      <td>Final AMD Phenotype: Large Drusen Questionable 1</td>\n",
       "      <td>Final Cataract Phenotype: Nuclear/Cortical</td>\n",
       "      <td>Study Visit: Year 2</td>\n",
       "      <td>Placebo</td>\n",
       "      <td>72.484932</td>\n",
       "      <td>0</td>\n",
       "      <td>1</td>\n",
       "    </tr>\n",
       "    <tr>\n",
       "      <th>1</th>\n",
       "      <td>51003</td>\n",
       "      <td>1890</td>\n",
       "      <td>51003 04 F2 LE RS.jpg</td>\n",
       "      <td>Baseline AMD Category 2</td>\n",
       "      <td>Final AMD Phenotype Group: Other (Not Advanced...</td>\n",
       "      <td>Final AMD Phenotype: Large Drusen Questionable 1</td>\n",
       "      <td>Final Cataract Phenotype: Nuclear/Cortical</td>\n",
       "      <td>Study Visit: Year 2</td>\n",
       "      <td>Placebo</td>\n",
       "      <td>72.484932</td>\n",
       "      <td>0</td>\n",
       "      <td>1</td>\n",
       "    </tr>\n",
       "    <tr>\n",
       "      <th>2</th>\n",
       "      <td>51003</td>\n",
       "      <td>1890</td>\n",
       "      <td>51003 04 F2 RE LS.jpg</td>\n",
       "      <td>Baseline AMD Category 2</td>\n",
       "      <td>Final AMD Phenotype Group: Other (Not Advanced...</td>\n",
       "      <td>Final AMD Phenotype: Large Drusen Questionable 1</td>\n",
       "      <td>Final Cataract Phenotype: Nuclear/Cortical</td>\n",
       "      <td>Study Visit: Year 2</td>\n",
       "      <td>Placebo</td>\n",
       "      <td>72.484932</td>\n",
       "      <td>0</td>\n",
       "      <td>1</td>\n",
       "    </tr>\n",
       "    <tr>\n",
       "      <th>3</th>\n",
       "      <td>51003</td>\n",
       "      <td>1890</td>\n",
       "      <td>51003 04 F2 RE RS.jpg</td>\n",
       "      <td>Baseline AMD Category 2</td>\n",
       "      <td>Final AMD Phenotype Group: Other (Not Advanced...</td>\n",
       "      <td>Final AMD Phenotype: Large Drusen Questionable 1</td>\n",
       "      <td>Final Cataract Phenotype: Nuclear/Cortical</td>\n",
       "      <td>Study Visit: Year 2</td>\n",
       "      <td>Placebo</td>\n",
       "      <td>72.484932</td>\n",
       "      <td>0</td>\n",
       "      <td>1</td>\n",
       "    </tr>\n",
       "    <tr>\n",
       "      <th>4</th>\n",
       "      <td>51003</td>\n",
       "      <td>1890</td>\n",
       "      <td>51003 06 F2 LE LS.jpg</td>\n",
       "      <td>Baseline AMD Category 2</td>\n",
       "      <td>Final AMD Phenotype Group: Other (Not Advanced...</td>\n",
       "      <td>Final AMD Phenotype: Large Drusen Questionable 1</td>\n",
       "      <td>Final Cataract Phenotype: Nuclear/Cortical</td>\n",
       "      <td>Study Visit: Year 3</td>\n",
       "      <td>Placebo</td>\n",
       "      <td>72.484932</td>\n",
       "      <td>0</td>\n",
       "      <td>1</td>\n",
       "    </tr>\n",
       "  </tbody>\n",
       "</table>\n",
       "</div>"
      ],
      "text/plain": [
       "   Patid Areds_subject_id    converted_file_name    Baseline_AMD_Category  \\\n",
       "0  51003             1890  51003 04 F2 LE LS.jpg  Baseline AMD Category 2   \n",
       "1  51003             1890  51003 04 F2 LE RS.jpg  Baseline AMD Category 2   \n",
       "2  51003             1890  51003 04 F2 RE LS.jpg  Baseline AMD Category 2   \n",
       "3  51003             1890  51003 04 F2 RE RS.jpg  Baseline AMD Category 2   \n",
       "4  51003             1890  51003 06 F2 LE LS.jpg  Baseline AMD Category 2   \n",
       "\n",
       "                           Final_AMD_Phenotype_Group  \\\n",
       "0  Final AMD Phenotype Group: Other (Not Advanced...   \n",
       "1  Final AMD Phenotype Group: Other (Not Advanced...   \n",
       "2  Final AMD Phenotype Group: Other (Not Advanced...   \n",
       "3  Final AMD Phenotype Group: Other (Not Advanced...   \n",
       "4  Final AMD Phenotype Group: Other (Not Advanced...   \n",
       "\n",
       "                                Final_AMD_Phenotype  \\\n",
       "0  Final AMD Phenotype: Large Drusen Questionable 1   \n",
       "1  Final AMD Phenotype: Large Drusen Questionable 1   \n",
       "2  Final AMD Phenotype: Large Drusen Questionable 1   \n",
       "3  Final AMD Phenotype: Large Drusen Questionable 1   \n",
       "4  Final AMD Phenotype: Large Drusen Questionable 1   \n",
       "\n",
       "                     Final_Cataract_Phenotype     Study_Visit_Year Treatment  \\\n",
       "0  Final Cataract Phenotype: Nuclear/Cortical  Study Visit: Year 2   Placebo   \n",
       "1  Final Cataract Phenotype: Nuclear/Cortical  Study Visit: Year 2   Placebo   \n",
       "2  Final Cataract Phenotype: Nuclear/Cortical  Study Visit: Year 2   Placebo   \n",
       "3  Final Cataract Phenotype: Nuclear/Cortical  Study Visit: Year 2   Placebo   \n",
       "4  Final Cataract Phenotype: Nuclear/Cortical  Study Visit: Year 3   Placebo   \n",
       "\n",
       "   age_baseline  male  white  \n",
       "0     72.484932     0      1  \n",
       "1     72.484932     0      1  \n",
       "2     72.484932     0      1  \n",
       "3     72.484932     0      1  \n",
       "4     72.484932     0      1  "
      ]
     },
     "execution_count": 29,
     "metadata": {},
     "output_type": "execute_result"
    }
   ],
   "source": [
    "freekje.head()"
   ]
  },
  {
   "cell_type": "code",
   "execution_count": 30,
   "metadata": {
    "collapsed": true
   },
   "outputs": [],
   "source": [
    "freekje['converted_file_name'] = \\\n",
    "    [ (_[:-3]+'tiff').replace(' ', '-') for _ in list(freekje['converted_file_name']) ]"
   ]
  },
  {
   "cell_type": "code",
   "execution_count": 31,
   "metadata": {
    "collapsed": true
   },
   "outputs": [],
   "source": [
    "freekje['Baseline_AMD_Category'] = \\\n",
    "    [ _.split()[-1] for _ in list(freekje['Baseline_AMD_Category']) ]"
   ]
  },
  {
   "cell_type": "code",
   "execution_count": 32,
   "metadata": {
    "collapsed": true
   },
   "outputs": [],
   "source": [
    "freekje['Final_AMD_Phenotype_Group'] = \\\n",
    "    [ _.split(':')[-1].strip() for _ in list( freekje['Final_AMD_Phenotype_Group']) ]"
   ]
  },
  {
   "cell_type": "code",
   "execution_count": 33,
   "metadata": {
    "collapsed": true
   },
   "outputs": [],
   "source": [
    "freekje['Final_AMD_Phenotype_Group'] = \\\n",
    "    [ _ if _ != 'Other (Not Advanced AMD or Control)' else 'Other' for _ in list(freekje['Final_AMD_Phenotype_Group'] ) ]"
   ]
  },
  {
   "cell_type": "code",
   "execution_count": 34,
   "metadata": {
    "collapsed": true
   },
   "outputs": [],
   "source": [
    "freekje['Final_AMD_Phenotype_Group'] = \\\n",
    "    [ _ if _ != 'Case (Advanced AMD)' else 'Case' for _ in list(freekje['Final_AMD_Phenotype_Group'] ) ]"
   ]
  },
  {
   "cell_type": "code",
   "execution_count": 35,
   "metadata": {
    "collapsed": true
   },
   "outputs": [],
   "source": [
    "freekje['Final_AMD_Phenotype'] = \\\n",
    "    [ _.split(':')[-1].strip() for _ in list( freekje['Final_AMD_Phenotype']) ]"
   ]
  },
  {
   "cell_type": "code",
   "execution_count": 36,
   "metadata": {
    "collapsed": true
   },
   "outputs": [],
   "source": [
    "freekje['Final_Cataract_Phenotype'] = \\\n",
    "    [ _.split(':')[-1].strip() for _ in list( freekje['Final_Cataract_Phenotype']) ]"
   ]
  },
  {
   "cell_type": "code",
   "execution_count": 37,
   "metadata": {
    "collapsed": true
   },
   "outputs": [],
   "source": [
    "freekje['Study_Visit_Year'] = \\\n",
    "    [ _.split()[-1] for _ in list(freekje['Study_Visit_Year']) ]"
   ]
  },
  {
   "cell_type": "code",
   "execution_count": 38,
   "metadata": {},
   "outputs": [
    {
     "data": {
      "text/html": [
       "<div>\n",
       "<style>\n",
       "    .dataframe thead tr:only-child th {\n",
       "        text-align: right;\n",
       "    }\n",
       "\n",
       "    .dataframe thead th {\n",
       "        text-align: left;\n",
       "    }\n",
       "\n",
       "    .dataframe tbody tr th {\n",
       "        vertical-align: top;\n",
       "    }\n",
       "</style>\n",
       "<table border=\"1\" class=\"dataframe\">\n",
       "  <thead>\n",
       "    <tr style=\"text-align: right;\">\n",
       "      <th></th>\n",
       "      <th>Patid</th>\n",
       "      <th>Areds_subject_id</th>\n",
       "      <th>converted_file_name</th>\n",
       "      <th>Baseline_AMD_Category</th>\n",
       "      <th>Final_AMD_Phenotype_Group</th>\n",
       "      <th>Final_AMD_Phenotype</th>\n",
       "      <th>Final_Cataract_Phenotype</th>\n",
       "      <th>Study_Visit_Year</th>\n",
       "      <th>Treatment</th>\n",
       "      <th>age_baseline</th>\n",
       "      <th>male</th>\n",
       "      <th>white</th>\n",
       "    </tr>\n",
       "  </thead>\n",
       "  <tbody>\n",
       "    <tr>\n",
       "      <th>0</th>\n",
       "      <td>51003</td>\n",
       "      <td>1890</td>\n",
       "      <td>51003-04-F2-LE-LS.tiff</td>\n",
       "      <td>2</td>\n",
       "      <td>Other</td>\n",
       "      <td>Large Drusen Questionable 1</td>\n",
       "      <td>Nuclear/Cortical</td>\n",
       "      <td>2</td>\n",
       "      <td>Placebo</td>\n",
       "      <td>72.484932</td>\n",
       "      <td>0</td>\n",
       "      <td>1</td>\n",
       "    </tr>\n",
       "    <tr>\n",
       "      <th>1</th>\n",
       "      <td>51003</td>\n",
       "      <td>1890</td>\n",
       "      <td>51003-04-F2-LE-RS.tiff</td>\n",
       "      <td>2</td>\n",
       "      <td>Other</td>\n",
       "      <td>Large Drusen Questionable 1</td>\n",
       "      <td>Nuclear/Cortical</td>\n",
       "      <td>2</td>\n",
       "      <td>Placebo</td>\n",
       "      <td>72.484932</td>\n",
       "      <td>0</td>\n",
       "      <td>1</td>\n",
       "    </tr>\n",
       "    <tr>\n",
       "      <th>2</th>\n",
       "      <td>51003</td>\n",
       "      <td>1890</td>\n",
       "      <td>51003-04-F2-RE-LS.tiff</td>\n",
       "      <td>2</td>\n",
       "      <td>Other</td>\n",
       "      <td>Large Drusen Questionable 1</td>\n",
       "      <td>Nuclear/Cortical</td>\n",
       "      <td>2</td>\n",
       "      <td>Placebo</td>\n",
       "      <td>72.484932</td>\n",
       "      <td>0</td>\n",
       "      <td>1</td>\n",
       "    </tr>\n",
       "    <tr>\n",
       "      <th>3</th>\n",
       "      <td>51003</td>\n",
       "      <td>1890</td>\n",
       "      <td>51003-04-F2-RE-RS.tiff</td>\n",
       "      <td>2</td>\n",
       "      <td>Other</td>\n",
       "      <td>Large Drusen Questionable 1</td>\n",
       "      <td>Nuclear/Cortical</td>\n",
       "      <td>2</td>\n",
       "      <td>Placebo</td>\n",
       "      <td>72.484932</td>\n",
       "      <td>0</td>\n",
       "      <td>1</td>\n",
       "    </tr>\n",
       "    <tr>\n",
       "      <th>4</th>\n",
       "      <td>51003</td>\n",
       "      <td>1890</td>\n",
       "      <td>51003-06-F2-LE-LS.tiff</td>\n",
       "      <td>2</td>\n",
       "      <td>Other</td>\n",
       "      <td>Large Drusen Questionable 1</td>\n",
       "      <td>Nuclear/Cortical</td>\n",
       "      <td>3</td>\n",
       "      <td>Placebo</td>\n",
       "      <td>72.484932</td>\n",
       "      <td>0</td>\n",
       "      <td>1</td>\n",
       "    </tr>\n",
       "  </tbody>\n",
       "</table>\n",
       "</div>"
      ],
      "text/plain": [
       "   Patid Areds_subject_id     converted_file_name Baseline_AMD_Category  \\\n",
       "0  51003             1890  51003-04-F2-LE-LS.tiff                     2   \n",
       "1  51003             1890  51003-04-F2-LE-RS.tiff                     2   \n",
       "2  51003             1890  51003-04-F2-RE-LS.tiff                     2   \n",
       "3  51003             1890  51003-04-F2-RE-RS.tiff                     2   \n",
       "4  51003             1890  51003-06-F2-LE-LS.tiff                     2   \n",
       "\n",
       "  Final_AMD_Phenotype_Group          Final_AMD_Phenotype  \\\n",
       "0                     Other  Large Drusen Questionable 1   \n",
       "1                     Other  Large Drusen Questionable 1   \n",
       "2                     Other  Large Drusen Questionable 1   \n",
       "3                     Other  Large Drusen Questionable 1   \n",
       "4                     Other  Large Drusen Questionable 1   \n",
       "\n",
       "  Final_Cataract_Phenotype Study_Visit_Year Treatment  age_baseline  male  \\\n",
       "0         Nuclear/Cortical                2   Placebo     72.484932     0   \n",
       "1         Nuclear/Cortical                2   Placebo     72.484932     0   \n",
       "2         Nuclear/Cortical                2   Placebo     72.484932     0   \n",
       "3         Nuclear/Cortical                2   Placebo     72.484932     0   \n",
       "4         Nuclear/Cortical                3   Placebo     72.484932     0   \n",
       "\n",
       "   white  \n",
       "0      1  \n",
       "1      1  \n",
       "2      1  \n",
       "3      1  \n",
       "4      1  "
      ]
     },
     "execution_count": 38,
     "metadata": {},
     "output_type": "execute_result"
    }
   ],
   "source": [
    "freekje.head()"
   ]
  },
  {
   "cell_type": "markdown",
   "metadata": {},
   "source": [
    "# Clean data pool"
   ]
  },
  {
   "cell_type": "code",
   "execution_count": 39,
   "metadata": {},
   "outputs": [
    {
     "data": {
      "text/html": [
       "<div>\n",
       "<style>\n",
       "    .dataframe thead tr:only-child th {\n",
       "        text-align: right;\n",
       "    }\n",
       "\n",
       "    .dataframe thead th {\n",
       "        text-align: left;\n",
       "    }\n",
       "\n",
       "    .dataframe tbody tr th {\n",
       "        vertical-align: top;\n",
       "    }\n",
       "</style>\n",
       "<table border=\"1\" class=\"dataframe\">\n",
       "  <thead>\n",
       "    <tr style=\"text-align: right;\">\n",
       "      <th></th>\n",
       "      <th>ID</th>\n",
       "      <th>DB_ID</th>\n",
       "      <th>Visit</th>\n",
       "      <th>EyeLR</th>\n",
       "      <th>SideLR</th>\n",
       "      <th>Path</th>\n",
       "      <th>BaseCat</th>\n",
       "      <th>ProgressCat</th>\n",
       "      <th>SevScore</th>\n",
       "      <th>SimpleSev</th>\n",
       "      <th>converted_file_name</th>\n",
       "    </tr>\n",
       "  </thead>\n",
       "  <tbody>\n",
       "    <tr>\n",
       "      <th>0</th>\n",
       "      <td>1890</td>\n",
       "      <td>51003</td>\n",
       "      <td>4</td>\n",
       "      <td>LE</td>\n",
       "      <td>LS</td>\n",
       "      <td>tiff/AMD_Category_2_Other/51003-04-F2-LE-LS.tiff</td>\n",
       "      <td>2</td>\n",
       "      <td>Other</td>\n",
       "      <td>2.0</td>\n",
       "      <td>1.0</td>\n",
       "      <td>51003-04-F2-LE-LS.tiff</td>\n",
       "    </tr>\n",
       "    <tr>\n",
       "      <th>1</th>\n",
       "      <td>1890</td>\n",
       "      <td>51003</td>\n",
       "      <td>4</td>\n",
       "      <td>LE</td>\n",
       "      <td>RS</td>\n",
       "      <td>tiff/AMD_Category_2_Other/51003-04-F2-LE-RS.tiff</td>\n",
       "      <td>2</td>\n",
       "      <td>Other</td>\n",
       "      <td>2.0</td>\n",
       "      <td>1.0</td>\n",
       "      <td>51003-04-F2-LE-RS.tiff</td>\n",
       "    </tr>\n",
       "    <tr>\n",
       "      <th>2</th>\n",
       "      <td>1890</td>\n",
       "      <td>51003</td>\n",
       "      <td>4</td>\n",
       "      <td>RE</td>\n",
       "      <td>LS</td>\n",
       "      <td>tiff/AMD_Category_2_Other/51003-04-F2-RE-LS.tiff</td>\n",
       "      <td>2</td>\n",
       "      <td>Other</td>\n",
       "      <td>2.0</td>\n",
       "      <td>1.0</td>\n",
       "      <td>51003-04-F2-RE-LS.tiff</td>\n",
       "    </tr>\n",
       "    <tr>\n",
       "      <th>3</th>\n",
       "      <td>1890</td>\n",
       "      <td>51003</td>\n",
       "      <td>4</td>\n",
       "      <td>RE</td>\n",
       "      <td>RS</td>\n",
       "      <td>tiff/AMD_Category_2_Other/51003-04-F2-RE-RS.tiff</td>\n",
       "      <td>2</td>\n",
       "      <td>Other</td>\n",
       "      <td>2.0</td>\n",
       "      <td>1.0</td>\n",
       "      <td>51003-04-F2-RE-RS.tiff</td>\n",
       "    </tr>\n",
       "    <tr>\n",
       "      <th>4</th>\n",
       "      <td>1890</td>\n",
       "      <td>51003</td>\n",
       "      <td>6</td>\n",
       "      <td>LE</td>\n",
       "      <td>LS</td>\n",
       "      <td>tiff/AMD_Category_2_Other/51003-06-F2-LE-LS.tiff</td>\n",
       "      <td>2</td>\n",
       "      <td>Other</td>\n",
       "      <td>2.0</td>\n",
       "      <td>1.0</td>\n",
       "      <td>51003-06-F2-LE-LS.tiff</td>\n",
       "    </tr>\n",
       "  </tbody>\n",
       "</table>\n",
       "</div>"
      ],
      "text/plain": [
       "     ID  DB_ID  Visit EyeLR SideLR  \\\n",
       "0  1890  51003      4    LE     LS   \n",
       "1  1890  51003      4    LE     RS   \n",
       "2  1890  51003      4    RE     LS   \n",
       "3  1890  51003      4    RE     RS   \n",
       "4  1890  51003      6    LE     LS   \n",
       "\n",
       "                                               Path BaseCat ProgressCat  \\\n",
       "0  tiff/AMD_Category_2_Other/51003-04-F2-LE-LS.tiff       2       Other   \n",
       "1  tiff/AMD_Category_2_Other/51003-04-F2-LE-RS.tiff       2       Other   \n",
       "2  tiff/AMD_Category_2_Other/51003-04-F2-RE-LS.tiff       2       Other   \n",
       "3  tiff/AMD_Category_2_Other/51003-04-F2-RE-RS.tiff       2       Other   \n",
       "4  tiff/AMD_Category_2_Other/51003-06-F2-LE-LS.tiff       2       Other   \n",
       "\n",
       "   SevScore  SimpleSev     converted_file_name  \n",
       "0       2.0        1.0  51003-04-F2-LE-LS.tiff  \n",
       "1       2.0        1.0  51003-04-F2-LE-RS.tiff  \n",
       "2       2.0        1.0  51003-04-F2-RE-LS.tiff  \n",
       "3       2.0        1.0  51003-04-F2-RE-RS.tiff  \n",
       "4       2.0        1.0  51003-06-F2-LE-LS.tiff  "
      ]
     },
     "execution_count": 39,
     "metadata": {},
     "output_type": "execute_result"
    }
   ],
   "source": [
    "pool.head()"
   ]
  },
  {
   "cell_type": "code",
   "execution_count": 40,
   "metadata": {},
   "outputs": [
    {
     "data": {
      "text/plain": [
       "LE     67007\n",
       "RE     66862\n",
       "lE        27\n",
       "2 L        5\n",
       "2 R        5\n",
       "R          4\n",
       "rE         2\n",
       "le         2\n",
       "L          1\n",
       "Name: EyeLR, dtype: int64"
      ]
     },
     "execution_count": 40,
     "metadata": {},
     "output_type": "execute_result"
    }
   ],
   "source": [
    "pool.EyeLR.value_counts()"
   ]
  },
  {
   "cell_type": "code",
   "execution_count": 41,
   "metadata": {
    "collapsed": true
   },
   "outputs": [],
   "source": [
    "pool.loc[ pool.EyeLR=='lE', ['EyeLR']] = 'LE'\n",
    "pool.loc[ pool.EyeLR=='rE', ['EyeLR']] = 'RE'\n",
    "pool.loc[ pool.EyeLR=='2 R', ['EyeLR']] = 'RE'\n",
    "pool.loc[ pool.EyeLR=='2 L', ['EyeLR']] = 'LE'\n",
    "pool.loc[ pool.EyeLR=='R', ['EyeLR']] = 'RE'\n",
    "pool.loc[ pool.EyeLR=='le', ['EyeLR']] = 'LE'\n",
    "pool.loc[ pool.EyeLR=='L', ['EyeLR']] = 'LE'"
   ]
  },
  {
   "cell_type": "code",
   "execution_count": 42,
   "metadata": {},
   "outputs": [
    {
     "data": {
      "text/plain": [
       "LE    67042\n",
       "RE    66873\n",
       "Name: EyeLR, dtype: int64"
      ]
     },
     "execution_count": 42,
     "metadata": {},
     "output_type": "execute_result"
    }
   ],
   "source": [
    "pool.EyeLR.value_counts()"
   ]
  },
  {
   "cell_type": "code",
   "execution_count": 43,
   "metadata": {},
   "outputs": [
    {
     "data": {
      "text/plain": [
       "LS     67124\n",
       "RS     66714\n",
       "rS        31\n",
       "ls        17\n",
       "lS        13\n",
       "E R        9\n",
       "E L        6\n",
       "rs         1\n",
       "Name: SideLR, dtype: int64"
      ]
     },
     "execution_count": 43,
     "metadata": {},
     "output_type": "execute_result"
    }
   ],
   "source": [
    " pool.SideLR.value_counts()"
   ]
  },
  {
   "cell_type": "code",
   "execution_count": 44,
   "metadata": {
    "collapsed": true
   },
   "outputs": [],
   "source": [
    "pool.loc[ pool.SideLR=='rS', ['SideLR']] = 'RS'\n",
    "pool.loc[ pool.SideLR=='ls', ['SideLR']] = 'LS'\n",
    "pool.loc[ pool.SideLR=='lS', ['SideLR']] = 'LS'\n",
    "pool.loc[ pool.SideLR=='ls', ['SideLR']] = 'LS'\n",
    "pool.loc[ pool.SideLR=='E R', ['SideLR']] = 'RS'\n",
    "pool.loc[ pool.SideLR=='E L', ['SideLR']] = 'LS'\n",
    "pool.loc[ pool.SideLR=='rs', ['SideLR']] = 'RS'"
   ]
  },
  {
   "cell_type": "code",
   "execution_count": 45,
   "metadata": {},
   "outputs": [
    {
     "data": {
      "text/plain": [
       "LS    67160\n",
       "RS    66755\n",
       "Name: SideLR, dtype: int64"
      ]
     },
     "execution_count": 45,
     "metadata": {},
     "output_type": "execute_result"
    }
   ],
   "source": [
    "pool.SideLR.value_counts()"
   ]
  },
  {
   "cell_type": "markdown",
   "metadata": {},
   "source": [
    "## No severity score? You're out!"
   ]
  },
  {
   "cell_type": "code",
   "execution_count": 46,
   "metadata": {},
   "outputs": [
    {
     "data": {
      "text/plain": [
       "133637"
      ]
     },
     "execution_count": 46,
     "metadata": {},
     "output_type": "execute_result"
    }
   ],
   "source": [
    "pool.SevScore.count()"
   ]
  },
  {
   "cell_type": "code",
   "execution_count": 47,
   "metadata": {},
   "outputs": [
    {
     "data": {
      "text/plain": [
       "RangeIndex(start=0, stop=133915, step=1)"
      ]
     },
     "execution_count": 47,
     "metadata": {},
     "output_type": "execute_result"
    }
   ],
   "source": [
    "pool.SevScore.isnull().index"
   ]
  },
  {
   "cell_type": "code",
   "execution_count": 48,
   "metadata": {},
   "outputs": [
    {
     "data": {
      "text/plain": [
       "278"
      ]
     },
     "execution_count": 48,
     "metadata": {},
     "output_type": "execute_result"
    }
   ],
   "source": [
    "len( pool[ pool.SevScore.isnull() ].index )"
   ]
  },
  {
   "cell_type": "code",
   "execution_count": 49,
   "metadata": {
    "collapsed": true
   },
   "outputs": [],
   "source": [
    "pool.drop( pool[ pool.SevScore.isnull() ].index, inplace=True )"
   ]
  },
  {
   "cell_type": "markdown",
   "metadata": {},
   "source": [
    "## No matching left and right side? You're out!"
   ]
  },
  {
   "cell_type": "code",
   "execution_count": 50,
   "metadata": {
    "collapsed": true
   },
   "outputs": [],
   "source": [
    "weird_indices = []\n",
    "for _id, df in iter(pool.groupby( ['DB_ID', 'Visit', 'EyeLR'] )):\n",
    "    if len(df) != 2:\n",
    "        weird_indices.extend( list(df.index))"
   ]
  },
  {
   "cell_type": "code",
   "execution_count": 51,
   "metadata": {},
   "outputs": [
    {
     "data": {
      "text/plain": [
       "1011"
      ]
     },
     "execution_count": 51,
     "metadata": {},
     "output_type": "execute_result"
    }
   ],
   "source": [
    "len(weird_indices)"
   ]
  },
  {
   "cell_type": "code",
   "execution_count": 52,
   "metadata": {
    "collapsed": true
   },
   "outputs": [],
   "source": [
    "pool.drop( weird_indices, inplace=True )"
   ]
  },
  {
   "cell_type": "markdown",
   "metadata": {},
   "source": [
    "# Merge"
   ]
  },
  {
   "cell_type": "code",
   "execution_count": 53,
   "metadata": {
    "collapsed": true
   },
   "outputs": [],
   "source": [
    "pool.drop( ['ID', 'DB_ID', 'Path', 'BaseCat', 'ProgressCat'], axis=1, inplace=True )"
   ]
  },
  {
   "cell_type": "code",
   "execution_count": 54,
   "metadata": {
    "collapsed": true
   },
   "outputs": [],
   "source": [
    "merged = freekje.merge( pool, how='inner', on='converted_file_name' )"
   ]
  },
  {
   "cell_type": "code",
   "execution_count": 55,
   "metadata": {},
   "outputs": [
    {
     "data": {
      "text/html": [
       "<div>\n",
       "<style>\n",
       "    .dataframe thead tr:only-child th {\n",
       "        text-align: right;\n",
       "    }\n",
       "\n",
       "    .dataframe thead th {\n",
       "        text-align: left;\n",
       "    }\n",
       "\n",
       "    .dataframe tbody tr th {\n",
       "        vertical-align: top;\n",
       "    }\n",
       "</style>\n",
       "<table border=\"1\" class=\"dataframe\">\n",
       "  <thead>\n",
       "    <tr style=\"text-align: right;\">\n",
       "      <th></th>\n",
       "      <th>Patid</th>\n",
       "      <th>Areds_subject_id</th>\n",
       "      <th>converted_file_name</th>\n",
       "      <th>Baseline_AMD_Category</th>\n",
       "      <th>Final_AMD_Phenotype_Group</th>\n",
       "      <th>Final_AMD_Phenotype</th>\n",
       "      <th>Final_Cataract_Phenotype</th>\n",
       "      <th>Study_Visit_Year</th>\n",
       "      <th>Treatment</th>\n",
       "      <th>age_baseline</th>\n",
       "      <th>male</th>\n",
       "      <th>white</th>\n",
       "      <th>Visit</th>\n",
       "      <th>EyeLR</th>\n",
       "      <th>SideLR</th>\n",
       "      <th>SevScore</th>\n",
       "      <th>SimpleSev</th>\n",
       "    </tr>\n",
       "  </thead>\n",
       "  <tbody>\n",
       "    <tr>\n",
       "      <th>0</th>\n",
       "      <td>51003</td>\n",
       "      <td>1890</td>\n",
       "      <td>51003-04-F2-LE-LS.tiff</td>\n",
       "      <td>2</td>\n",
       "      <td>Other</td>\n",
       "      <td>Large Drusen Questionable 1</td>\n",
       "      <td>Nuclear/Cortical</td>\n",
       "      <td>2</td>\n",
       "      <td>Placebo</td>\n",
       "      <td>72.484932</td>\n",
       "      <td>0</td>\n",
       "      <td>1</td>\n",
       "      <td>4</td>\n",
       "      <td>LE</td>\n",
       "      <td>LS</td>\n",
       "      <td>2.0</td>\n",
       "      <td>1.0</td>\n",
       "    </tr>\n",
       "    <tr>\n",
       "      <th>1</th>\n",
       "      <td>51003</td>\n",
       "      <td>1890</td>\n",
       "      <td>51003-04-F2-LE-RS.tiff</td>\n",
       "      <td>2</td>\n",
       "      <td>Other</td>\n",
       "      <td>Large Drusen Questionable 1</td>\n",
       "      <td>Nuclear/Cortical</td>\n",
       "      <td>2</td>\n",
       "      <td>Placebo</td>\n",
       "      <td>72.484932</td>\n",
       "      <td>0</td>\n",
       "      <td>1</td>\n",
       "      <td>4</td>\n",
       "      <td>LE</td>\n",
       "      <td>RS</td>\n",
       "      <td>2.0</td>\n",
       "      <td>1.0</td>\n",
       "    </tr>\n",
       "    <tr>\n",
       "      <th>2</th>\n",
       "      <td>51003</td>\n",
       "      <td>1890</td>\n",
       "      <td>51003-04-F2-RE-LS.tiff</td>\n",
       "      <td>2</td>\n",
       "      <td>Other</td>\n",
       "      <td>Large Drusen Questionable 1</td>\n",
       "      <td>Nuclear/Cortical</td>\n",
       "      <td>2</td>\n",
       "      <td>Placebo</td>\n",
       "      <td>72.484932</td>\n",
       "      <td>0</td>\n",
       "      <td>1</td>\n",
       "      <td>4</td>\n",
       "      <td>RE</td>\n",
       "      <td>LS</td>\n",
       "      <td>2.0</td>\n",
       "      <td>1.0</td>\n",
       "    </tr>\n",
       "    <tr>\n",
       "      <th>3</th>\n",
       "      <td>51003</td>\n",
       "      <td>1890</td>\n",
       "      <td>51003-04-F2-RE-RS.tiff</td>\n",
       "      <td>2</td>\n",
       "      <td>Other</td>\n",
       "      <td>Large Drusen Questionable 1</td>\n",
       "      <td>Nuclear/Cortical</td>\n",
       "      <td>2</td>\n",
       "      <td>Placebo</td>\n",
       "      <td>72.484932</td>\n",
       "      <td>0</td>\n",
       "      <td>1</td>\n",
       "      <td>4</td>\n",
       "      <td>RE</td>\n",
       "      <td>RS</td>\n",
       "      <td>2.0</td>\n",
       "      <td>1.0</td>\n",
       "    </tr>\n",
       "    <tr>\n",
       "      <th>4</th>\n",
       "      <td>51003</td>\n",
       "      <td>1890</td>\n",
       "      <td>51003-06-F2-LE-LS.tiff</td>\n",
       "      <td>2</td>\n",
       "      <td>Other</td>\n",
       "      <td>Large Drusen Questionable 1</td>\n",
       "      <td>Nuclear/Cortical</td>\n",
       "      <td>3</td>\n",
       "      <td>Placebo</td>\n",
       "      <td>72.484932</td>\n",
       "      <td>0</td>\n",
       "      <td>1</td>\n",
       "      <td>6</td>\n",
       "      <td>LE</td>\n",
       "      <td>LS</td>\n",
       "      <td>2.0</td>\n",
       "      <td>1.0</td>\n",
       "    </tr>\n",
       "  </tbody>\n",
       "</table>\n",
       "</div>"
      ],
      "text/plain": [
       "   Patid Areds_subject_id     converted_file_name Baseline_AMD_Category  \\\n",
       "0  51003             1890  51003-04-F2-LE-LS.tiff                     2   \n",
       "1  51003             1890  51003-04-F2-LE-RS.tiff                     2   \n",
       "2  51003             1890  51003-04-F2-RE-LS.tiff                     2   \n",
       "3  51003             1890  51003-04-F2-RE-RS.tiff                     2   \n",
       "4  51003             1890  51003-06-F2-LE-LS.tiff                     2   \n",
       "\n",
       "  Final_AMD_Phenotype_Group          Final_AMD_Phenotype  \\\n",
       "0                     Other  Large Drusen Questionable 1   \n",
       "1                     Other  Large Drusen Questionable 1   \n",
       "2                     Other  Large Drusen Questionable 1   \n",
       "3                     Other  Large Drusen Questionable 1   \n",
       "4                     Other  Large Drusen Questionable 1   \n",
       "\n",
       "  Final_Cataract_Phenotype Study_Visit_Year Treatment  age_baseline  male  \\\n",
       "0         Nuclear/Cortical                2   Placebo     72.484932     0   \n",
       "1         Nuclear/Cortical                2   Placebo     72.484932     0   \n",
       "2         Nuclear/Cortical                2   Placebo     72.484932     0   \n",
       "3         Nuclear/Cortical                2   Placebo     72.484932     0   \n",
       "4         Nuclear/Cortical                3   Placebo     72.484932     0   \n",
       "\n",
       "   white  Visit EyeLR SideLR  SevScore  SimpleSev  \n",
       "0      1      4    LE     LS       2.0        1.0  \n",
       "1      1      4    LE     RS       2.0        1.0  \n",
       "2      1      4    RE     LS       2.0        1.0  \n",
       "3      1      4    RE     RS       2.0        1.0  \n",
       "4      1      6    LE     LS       2.0        1.0  "
      ]
     },
     "execution_count": 55,
     "metadata": {},
     "output_type": "execute_result"
    }
   ],
   "source": [
    "merged.head()"
   ]
  },
  {
   "cell_type": "code",
   "execution_count": 56,
   "metadata": {},
   "outputs": [
    {
     "name": "stdout",
     "output_type": "stream",
     "text": [
      "132626\n",
      "134519\n",
      "132617\n"
     ]
    }
   ],
   "source": [
    "print( len( pool ) )\n",
    "print( len( freekje ) )\n",
    "print( len( merged ) )"
   ]
  },
  {
   "cell_type": "markdown",
   "metadata": {},
   "source": [
    "# Write to file"
   ]
  },
  {
   "cell_type": "code",
   "execution_count": null,
   "metadata": {
    "collapsed": true
   },
   "outputs": [],
   "source": [
    "merged.to_csv('20170830_AREDS_DB.csv')"
   ]
  },
  {
   "cell_type": "markdown",
   "metadata": {},
   "source": [
    "# Pivot Tables"
   ]
  },
  {
   "cell_type": "code",
   "execution_count": 57,
   "metadata": {},
   "outputs": [
    {
     "data": {
      "text/html": [
       "<div>\n",
       "<style>\n",
       "    .dataframe thead tr:only-child th {\n",
       "        text-align: right;\n",
       "    }\n",
       "\n",
       "    .dataframe thead th {\n",
       "        text-align: left;\n",
       "    }\n",
       "\n",
       "    .dataframe tbody tr th {\n",
       "        vertical-align: top;\n",
       "    }\n",
       "</style>\n",
       "<table border=\"1\" class=\"dataframe\">\n",
       "  <thead>\n",
       "    <tr style=\"text-align: right;\">\n",
       "      <th>Final_AMD_Phenotype_Group</th>\n",
       "      <th>Case</th>\n",
       "      <th>Control</th>\n",
       "      <th>Other</th>\n",
       "    </tr>\n",
       "    <tr>\n",
       "      <th>Baseline_AMD_Category</th>\n",
       "      <th></th>\n",
       "      <th></th>\n",
       "      <th></th>\n",
       "    </tr>\n",
       "  </thead>\n",
       "  <tbody>\n",
       "    <tr>\n",
       "      <th>1</th>\n",
       "      <td>24.0</td>\n",
       "      <td>16446.0</td>\n",
       "      <td>15204.0</td>\n",
       "    </tr>\n",
       "    <tr>\n",
       "      <th>2</th>\n",
       "      <td>524.0</td>\n",
       "      <td>4368.0</td>\n",
       "      <td>26991.0</td>\n",
       "    </tr>\n",
       "    <tr>\n",
       "      <th>3a</th>\n",
       "      <td>11692.0</td>\n",
       "      <td>NaN</td>\n",
       "      <td>29765.0</td>\n",
       "    </tr>\n",
       "    <tr>\n",
       "      <th>3b</th>\n",
       "      <td>1634.0</td>\n",
       "      <td>NaN</td>\n",
       "      <td>2458.0</td>\n",
       "    </tr>\n",
       "    <tr>\n",
       "      <th>4a</th>\n",
       "      <td>19209.0</td>\n",
       "      <td>NaN</td>\n",
       "      <td>666.0</td>\n",
       "    </tr>\n",
       "    <tr>\n",
       "      <th>4b</th>\n",
       "      <td>2470.0</td>\n",
       "      <td>8.0</td>\n",
       "      <td>1158.0</td>\n",
       "    </tr>\n",
       "  </tbody>\n",
       "</table>\n",
       "</div>"
      ],
      "text/plain": [
       "Final_AMD_Phenotype_Group     Case  Control    Other\n",
       "Baseline_AMD_Category                               \n",
       "1                             24.0  16446.0  15204.0\n",
       "2                            524.0   4368.0  26991.0\n",
       "3a                         11692.0      NaN  29765.0\n",
       "3b                          1634.0      NaN   2458.0\n",
       "4a                         19209.0      NaN    666.0\n",
       "4b                          2470.0      8.0   1158.0"
      ]
     },
     "execution_count": 57,
     "metadata": {},
     "output_type": "execute_result"
    }
   ],
   "source": [
    "pd.pivot_table( merged, values='Patid', index='Baseline_AMD_Category', columns='Final_AMD_Phenotype_Group', aggfunc='count')"
   ]
  },
  {
   "cell_type": "code",
   "execution_count": 58,
   "metadata": {},
   "outputs": [
    {
     "data": {
      "text/html": [
       "<div>\n",
       "<style>\n",
       "    .dataframe thead tr:only-child th {\n",
       "        text-align: right;\n",
       "    }\n",
       "\n",
       "    .dataframe thead th {\n",
       "        text-align: left;\n",
       "    }\n",
       "\n",
       "    .dataframe tbody tr th {\n",
       "        vertical-align: top;\n",
       "    }\n",
       "</style>\n",
       "<table border=\"1\" class=\"dataframe\">\n",
       "  <thead>\n",
       "    <tr style=\"text-align: right;\">\n",
       "      <th>SimpleSev</th>\n",
       "      <th>0.0</th>\n",
       "      <th>1.0</th>\n",
       "      <th>2.0</th>\n",
       "      <th>3.0</th>\n",
       "      <th>4.0</th>\n",
       "      <th>5.0</th>\n",
       "    </tr>\n",
       "    <tr>\n",
       "      <th>Baseline_AMD_Category</th>\n",
       "      <th></th>\n",
       "      <th></th>\n",
       "      <th></th>\n",
       "      <th></th>\n",
       "      <th></th>\n",
       "      <th></th>\n",
       "    </tr>\n",
       "  </thead>\n",
       "  <tbody>\n",
       "    <tr>\n",
       "      <th>1</th>\n",
       "      <td>27642</td>\n",
       "      <td>3116</td>\n",
       "      <td>596</td>\n",
       "      <td>140</td>\n",
       "      <td>12</td>\n",
       "      <td>8</td>\n",
       "    </tr>\n",
       "    <tr>\n",
       "      <th>2</th>\n",
       "      <td>16413</td>\n",
       "      <td>10548</td>\n",
       "      <td>3342</td>\n",
       "      <td>1162</td>\n",
       "      <td>264</td>\n",
       "      <td>34</td>\n",
       "    </tr>\n",
       "    <tr>\n",
       "      <th>3a</th>\n",
       "      <td>2194</td>\n",
       "      <td>8757</td>\n",
       "      <td>9562</td>\n",
       "      <td>8834</td>\n",
       "      <td>10420</td>\n",
       "      <td>1526</td>\n",
       "    </tr>\n",
       "    <tr>\n",
       "      <th>3b</th>\n",
       "      <td>36</td>\n",
       "      <td>460</td>\n",
       "      <td>948</td>\n",
       "      <td>1078</td>\n",
       "      <td>1260</td>\n",
       "      <td>234</td>\n",
       "    </tr>\n",
       "    <tr>\n",
       "      <th>4a</th>\n",
       "      <td>28</td>\n",
       "      <td>48</td>\n",
       "      <td>3410</td>\n",
       "      <td>4352</td>\n",
       "      <td>5919</td>\n",
       "      <td>6008</td>\n",
       "    </tr>\n",
       "    <tr>\n",
       "      <th>4b</th>\n",
       "      <td>20</td>\n",
       "      <td>150</td>\n",
       "      <td>566</td>\n",
       "      <td>836</td>\n",
       "      <td>1384</td>\n",
       "      <td>654</td>\n",
       "    </tr>\n",
       "  </tbody>\n",
       "</table>\n",
       "</div>"
      ],
      "text/plain": [
       "SimpleSev                0.0    1.0   2.0   3.0    4.0   5.0\n",
       "Baseline_AMD_Category                                       \n",
       "1                      27642   3116   596   140     12     8\n",
       "2                      16413  10548  3342  1162    264    34\n",
       "3a                      2194   8757  9562  8834  10420  1526\n",
       "3b                        36    460   948  1078   1260   234\n",
       "4a                        28     48  3410  4352   5919  6008\n",
       "4b                        20    150   566   836   1384   654"
      ]
     },
     "execution_count": 58,
     "metadata": {},
     "output_type": "execute_result"
    }
   ],
   "source": [
    "pd.pivot_table( merged, values='Patid', index='Baseline_AMD_Category', columns='SimpleSev', aggfunc='count')"
   ]
  },
  {
   "cell_type": "code",
   "execution_count": 59,
   "metadata": {},
   "outputs": [
    {
     "data": {
      "text/html": [
       "<div>\n",
       "<style>\n",
       "    .dataframe thead tr:only-child th {\n",
       "        text-align: right;\n",
       "    }\n",
       "\n",
       "    .dataframe thead th {\n",
       "        text-align: left;\n",
       "    }\n",
       "\n",
       "    .dataframe tbody tr th {\n",
       "        vertical-align: top;\n",
       "    }\n",
       "</style>\n",
       "<table border=\"1\" class=\"dataframe\">\n",
       "  <thead>\n",
       "    <tr style=\"text-align: right;\">\n",
       "      <th>SevScore</th>\n",
       "      <th>1.0</th>\n",
       "      <th>2.0</th>\n",
       "      <th>3.0</th>\n",
       "      <th>4.0</th>\n",
       "      <th>5.0</th>\n",
       "      <th>6.0</th>\n",
       "      <th>7.0</th>\n",
       "      <th>8.0</th>\n",
       "      <th>9.0</th>\n",
       "      <th>10.0</th>\n",
       "      <th>11.0</th>\n",
       "      <th>12.0</th>\n",
       "    </tr>\n",
       "    <tr>\n",
       "      <th>Baseline_AMD_Category</th>\n",
       "      <th></th>\n",
       "      <th></th>\n",
       "      <th></th>\n",
       "      <th></th>\n",
       "      <th></th>\n",
       "      <th></th>\n",
       "      <th></th>\n",
       "      <th></th>\n",
       "      <th></th>\n",
       "      <th></th>\n",
       "      <th></th>\n",
       "      <th></th>\n",
       "    </tr>\n",
       "  </thead>\n",
       "  <tbody>\n",
       "    <tr>\n",
       "      <th>1</th>\n",
       "      <td>27716.0</td>\n",
       "      <td>2624.0</td>\n",
       "      <td>438.0</td>\n",
       "      <td>584.0</td>\n",
       "      <td>124.0</td>\n",
       "      <td>94.0</td>\n",
       "      <td>20.0</td>\n",
       "      <td>54.0</td>\n",
       "      <td>4.0</td>\n",
       "      <td>NaN</td>\n",
       "      <td>16.0</td>\n",
       "      <td>NaN</td>\n",
       "    </tr>\n",
       "    <tr>\n",
       "      <th>2</th>\n",
       "      <td>15382.0</td>\n",
       "      <td>8059.0</td>\n",
       "      <td>2578.0</td>\n",
       "      <td>3677.0</td>\n",
       "      <td>956.0</td>\n",
       "      <td>527.0</td>\n",
       "      <td>202.0</td>\n",
       "      <td>330.0</td>\n",
       "      <td>38.0</td>\n",
       "      <td>2.0</td>\n",
       "      <td>126.0</td>\n",
       "      <td>6.0</td>\n",
       "    </tr>\n",
       "    <tr>\n",
       "      <th>3a</th>\n",
       "      <td>4046.0</td>\n",
       "      <td>3548.0</td>\n",
       "      <td>2921.0</td>\n",
       "      <td>5755.0</td>\n",
       "      <td>4799.0</td>\n",
       "      <td>6280.0</td>\n",
       "      <td>5472.0</td>\n",
       "      <td>4172.0</td>\n",
       "      <td>1208.0</td>\n",
       "      <td>812.0</td>\n",
       "      <td>2230.0</td>\n",
       "      <td>214.0</td>\n",
       "    </tr>\n",
       "    <tr>\n",
       "      <th>3b</th>\n",
       "      <td>136.0</td>\n",
       "      <td>226.0</td>\n",
       "      <td>182.0</td>\n",
       "      <td>482.0</td>\n",
       "      <td>456.0</td>\n",
       "      <td>782.0</td>\n",
       "      <td>588.0</td>\n",
       "      <td>510.0</td>\n",
       "      <td>164.0</td>\n",
       "      <td>120.0</td>\n",
       "      <td>398.0</td>\n",
       "      <td>48.0</td>\n",
       "    </tr>\n",
       "    <tr>\n",
       "      <th>4a</th>\n",
       "      <td>916.0</td>\n",
       "      <td>627.0</td>\n",
       "      <td>328.0</td>\n",
       "      <td>842.0</td>\n",
       "      <td>746.0</td>\n",
       "      <td>1023.0</td>\n",
       "      <td>1054.0</td>\n",
       "      <td>1018.0</td>\n",
       "      <td>606.0</td>\n",
       "      <td>1366.0</td>\n",
       "      <td>10715.0</td>\n",
       "      <td>634.0</td>\n",
       "    </tr>\n",
       "    <tr>\n",
       "      <th>4b</th>\n",
       "      <td>104.0</td>\n",
       "      <td>148.0</td>\n",
       "      <td>66.0</td>\n",
       "      <td>322.0</td>\n",
       "      <td>262.0</td>\n",
       "      <td>368.0</td>\n",
       "      <td>500.0</td>\n",
       "      <td>590.0</td>\n",
       "      <td>250.0</td>\n",
       "      <td>494.0</td>\n",
       "      <td>450.0</td>\n",
       "      <td>82.0</td>\n",
       "    </tr>\n",
       "  </tbody>\n",
       "</table>\n",
       "</div>"
      ],
      "text/plain": [
       "SevScore                  1.0     2.0     3.0     4.0     5.0     6.0   \\\n",
       "Baseline_AMD_Category                                                    \n",
       "1                      27716.0  2624.0   438.0   584.0   124.0    94.0   \n",
       "2                      15382.0  8059.0  2578.0  3677.0   956.0   527.0   \n",
       "3a                      4046.0  3548.0  2921.0  5755.0  4799.0  6280.0   \n",
       "3b                       136.0   226.0   182.0   482.0   456.0   782.0   \n",
       "4a                       916.0   627.0   328.0   842.0   746.0  1023.0   \n",
       "4b                       104.0   148.0    66.0   322.0   262.0   368.0   \n",
       "\n",
       "SevScore                 7.0     8.0     9.0     10.0     11.0   12.0  \n",
       "Baseline_AMD_Category                                                  \n",
       "1                        20.0    54.0     4.0     NaN     16.0    NaN  \n",
       "2                       202.0   330.0    38.0     2.0    126.0    6.0  \n",
       "3a                     5472.0  4172.0  1208.0   812.0   2230.0  214.0  \n",
       "3b                      588.0   510.0   164.0   120.0    398.0   48.0  \n",
       "4a                     1054.0  1018.0   606.0  1366.0  10715.0  634.0  \n",
       "4b                      500.0   590.0   250.0   494.0    450.0   82.0  "
      ]
     },
     "execution_count": 59,
     "metadata": {},
     "output_type": "execute_result"
    }
   ],
   "source": [
    "pd.pivot_table( merged, values='Patid', index='Baseline_AMD_Category', columns='SevScore', aggfunc='count')"
   ]
  },
  {
   "cell_type": "code",
   "execution_count": 62,
   "metadata": {},
   "outputs": [
    {
     "data": {
      "text/html": [
       "<div>\n",
       "<style>\n",
       "    .dataframe thead tr:only-child th {\n",
       "        text-align: right;\n",
       "    }\n",
       "\n",
       "    .dataframe thead th {\n",
       "        text-align: left;\n",
       "    }\n",
       "\n",
       "    .dataframe tbody tr th {\n",
       "        vertical-align: top;\n",
       "    }\n",
       "</style>\n",
       "<table border=\"1\" class=\"dataframe\">\n",
       "  <thead>\n",
       "    <tr style=\"text-align: right;\">\n",
       "      <th>Baseline_AMD_Category</th>\n",
       "      <th>1</th>\n",
       "      <th>2</th>\n",
       "      <th>3a</th>\n",
       "      <th>3b</th>\n",
       "      <th>4a</th>\n",
       "      <th>4b</th>\n",
       "    </tr>\n",
       "    <tr>\n",
       "      <th>Final_Cataract_Phenotype</th>\n",
       "      <th></th>\n",
       "      <th></th>\n",
       "      <th></th>\n",
       "      <th></th>\n",
       "      <th></th>\n",
       "      <th></th>\n",
       "    </tr>\n",
       "  </thead>\n",
       "  <tbody>\n",
       "    <tr>\n",
       "      <th>Absent</th>\n",
       "      <td>10670</td>\n",
       "      <td>9720</td>\n",
       "      <td>11386</td>\n",
       "      <td>950</td>\n",
       "      <td>4714</td>\n",
       "      <td>788</td>\n",
       "    </tr>\n",
       "    <tr>\n",
       "      <th>Cataract Surgery/No specific type</th>\n",
       "      <td>1698</td>\n",
       "      <td>1994</td>\n",
       "      <td>4484</td>\n",
       "      <td>520</td>\n",
       "      <td>2030</td>\n",
       "      <td>432</td>\n",
       "    </tr>\n",
       "    <tr>\n",
       "      <th>Cortical alone</th>\n",
       "      <td>5644</td>\n",
       "      <td>6575</td>\n",
       "      <td>8352</td>\n",
       "      <td>600</td>\n",
       "      <td>3628</td>\n",
       "      <td>694</td>\n",
       "    </tr>\n",
       "    <tr>\n",
       "      <th>Cortical/PSC</th>\n",
       "      <td>1232</td>\n",
       "      <td>1076</td>\n",
       "      <td>1210</td>\n",
       "      <td>188</td>\n",
       "      <td>890</td>\n",
       "      <td>8</td>\n",
       "    </tr>\n",
       "    <tr>\n",
       "      <th>Nuclear alone</th>\n",
       "      <td>4902</td>\n",
       "      <td>5164</td>\n",
       "      <td>7235</td>\n",
       "      <td>806</td>\n",
       "      <td>3692</td>\n",
       "      <td>570</td>\n",
       "    </tr>\n",
       "    <tr>\n",
       "      <th>Nuclear/Cortical</th>\n",
       "      <td>1560</td>\n",
       "      <td>1490</td>\n",
       "      <td>2796</td>\n",
       "      <td>308</td>\n",
       "      <td>1176</td>\n",
       "      <td>206</td>\n",
       "    </tr>\n",
       "    <tr>\n",
       "      <th>Nuclear/Cortical/PSC</th>\n",
       "      <td>1016</td>\n",
       "      <td>568</td>\n",
       "      <td>942</td>\n",
       "      <td>130</td>\n",
       "      <td>638</td>\n",
       "      <td>164</td>\n",
       "    </tr>\n",
       "    <tr>\n",
       "      <th>Nuclear/PSC</th>\n",
       "      <td>528</td>\n",
       "      <td>1200</td>\n",
       "      <td>1092</td>\n",
       "      <td>306</td>\n",
       "      <td>1034</td>\n",
       "      <td>160</td>\n",
       "    </tr>\n",
       "    <tr>\n",
       "      <th>PSC alone</th>\n",
       "      <td>846</td>\n",
       "      <td>1210</td>\n",
       "      <td>998</td>\n",
       "      <td>100</td>\n",
       "      <td>667</td>\n",
       "      <td>202</td>\n",
       "    </tr>\n",
       "    <tr>\n",
       "      <th>Questionable</th>\n",
       "      <td>3578</td>\n",
       "      <td>2886</td>\n",
       "      <td>2962</td>\n",
       "      <td>184</td>\n",
       "      <td>1406</td>\n",
       "      <td>412</td>\n",
       "    </tr>\n",
       "  </tbody>\n",
       "</table>\n",
       "</div>"
      ],
      "text/plain": [
       "Baseline_AMD_Category                  1     2     3a   3b    4a   4b\n",
       "Final_Cataract_Phenotype                                             \n",
       "Absent                             10670  9720  11386  950  4714  788\n",
       "Cataract Surgery/No specific type   1698  1994   4484  520  2030  432\n",
       "Cortical alone                      5644  6575   8352  600  3628  694\n",
       "Cortical/PSC                        1232  1076   1210  188   890    8\n",
       "Nuclear alone                       4902  5164   7235  806  3692  570\n",
       "Nuclear/Cortical                    1560  1490   2796  308  1176  206\n",
       "Nuclear/Cortical/PSC                1016   568    942  130   638  164\n",
       "Nuclear/PSC                          528  1200   1092  306  1034  160\n",
       "PSC alone                            846  1210    998  100   667  202\n",
       "Questionable                        3578  2886   2962  184  1406  412"
      ]
     },
     "execution_count": 62,
     "metadata": {},
     "output_type": "execute_result"
    }
   ],
   "source": [
    "pd.pivot_table( merged, values='Patid', index='Final_Cataract_Phenotype', columns='Baseline_AMD_Category', aggfunc='count')"
   ]
  },
  {
   "cell_type": "code",
   "execution_count": 63,
   "metadata": {},
   "outputs": [
    {
     "data": {
      "text/html": [
       "<div>\n",
       "<style>\n",
       "    .dataframe thead tr:only-child th {\n",
       "        text-align: right;\n",
       "    }\n",
       "\n",
       "    .dataframe thead th {\n",
       "        text-align: left;\n",
       "    }\n",
       "\n",
       "    .dataframe tbody tr th {\n",
       "        vertical-align: top;\n",
       "    }\n",
       "</style>\n",
       "<table border=\"1\" class=\"dataframe\">\n",
       "  <thead>\n",
       "    <tr style=\"text-align: right;\">\n",
       "      <th>Baseline_AMD_Category</th>\n",
       "      <th>1</th>\n",
       "      <th>2</th>\n",
       "      <th>3a</th>\n",
       "      <th>3b</th>\n",
       "      <th>4a</th>\n",
       "      <th>4b</th>\n",
       "    </tr>\n",
       "    <tr>\n",
       "      <th>Final_AMD_Phenotype</th>\n",
       "      <th></th>\n",
       "      <th></th>\n",
       "      <th></th>\n",
       "      <th></th>\n",
       "      <th></th>\n",
       "      <th></th>\n",
       "    </tr>\n",
       "  </thead>\n",
       "  <tbody>\n",
       "    <tr>\n",
       "      <th>Both NV AMD and GA</th>\n",
       "      <td>NaN</td>\n",
       "      <td>52.0</td>\n",
       "      <td>1634.0</td>\n",
       "      <td>126.0</td>\n",
       "      <td>2773.0</td>\n",
       "      <td>520.0</td>\n",
       "    </tr>\n",
       "    <tr>\n",
       "      <th>Control</th>\n",
       "      <td>7640.0</td>\n",
       "      <td>NaN</td>\n",
       "      <td>NaN</td>\n",
       "      <td>NaN</td>\n",
       "      <td>NaN</td>\n",
       "      <td>NaN</td>\n",
       "    </tr>\n",
       "    <tr>\n",
       "      <th>Control Questionable 1</th>\n",
       "      <td>3420.0</td>\n",
       "      <td>896.0</td>\n",
       "      <td>NaN</td>\n",
       "      <td>NaN</td>\n",
       "      <td>NaN</td>\n",
       "      <td>8.0</td>\n",
       "    </tr>\n",
       "    <tr>\n",
       "      <th>Control Questionable 2</th>\n",
       "      <td>712.0</td>\n",
       "      <td>256.0</td>\n",
       "      <td>NaN</td>\n",
       "      <td>NaN</td>\n",
       "      <td>NaN</td>\n",
       "      <td>NaN</td>\n",
       "    </tr>\n",
       "    <tr>\n",
       "      <th>Control Questionable 3</th>\n",
       "      <td>3070.0</td>\n",
       "      <td>3216.0</td>\n",
       "      <td>NaN</td>\n",
       "      <td>NaN</td>\n",
       "      <td>NaN</td>\n",
       "      <td>NaN</td>\n",
       "    </tr>\n",
       "    <tr>\n",
       "      <th>Control Questionable 4</th>\n",
       "      <td>1604.0</td>\n",
       "      <td>NaN</td>\n",
       "      <td>NaN</td>\n",
       "      <td>NaN</td>\n",
       "      <td>NaN</td>\n",
       "      <td>NaN</td>\n",
       "    </tr>\n",
       "    <tr>\n",
       "      <th>GA (Geographic Atrophy)</th>\n",
       "      <td>NaN</td>\n",
       "      <td>240.0</td>\n",
       "      <td>4940.0</td>\n",
       "      <td>660.0</td>\n",
       "      <td>1438.0</td>\n",
       "      <td>1206.0</td>\n",
       "    </tr>\n",
       "    <tr>\n",
       "      <th>Large Drusen</th>\n",
       "      <td>868.0</td>\n",
       "      <td>4620.0</td>\n",
       "      <td>18286.0</td>\n",
       "      <td>1392.0</td>\n",
       "      <td>NaN</td>\n",
       "      <td>604.0</td>\n",
       "    </tr>\n",
       "    <tr>\n",
       "      <th>Large Drusen Questionable 1</th>\n",
       "      <td>474.0</td>\n",
       "      <td>2468.0</td>\n",
       "      <td>4958.0</td>\n",
       "      <td>384.0</td>\n",
       "      <td>NaN</td>\n",
       "      <td>132.0</td>\n",
       "    </tr>\n",
       "    <tr>\n",
       "      <th>Large Drusen Questionable 2</th>\n",
       "      <td>780.0</td>\n",
       "      <td>1162.0</td>\n",
       "      <td>472.0</td>\n",
       "      <td>48.0</td>\n",
       "      <td>NaN</td>\n",
       "      <td>24.0</td>\n",
       "    </tr>\n",
       "    <tr>\n",
       "      <th>Large Drusen Questionable 3</th>\n",
       "      <td>1116.0</td>\n",
       "      <td>2225.0</td>\n",
       "      <td>1938.0</td>\n",
       "      <td>32.0</td>\n",
       "      <td>NaN</td>\n",
       "      <td>36.0</td>\n",
       "    </tr>\n",
       "    <tr>\n",
       "      <th>NV AMD</th>\n",
       "      <td>24.0</td>\n",
       "      <td>232.0</td>\n",
       "      <td>5118.0</td>\n",
       "      <td>848.0</td>\n",
       "      <td>14998.0</td>\n",
       "      <td>744.0</td>\n",
       "    </tr>\n",
       "    <tr>\n",
       "      <th>Other non-control phenotype</th>\n",
       "      <td>11684.0</td>\n",
       "      <td>16040.0</td>\n",
       "      <td>369.0</td>\n",
       "      <td>4.0</td>\n",
       "      <td>NaN</td>\n",
       "      <td>38.0</td>\n",
       "    </tr>\n",
       "    <tr>\n",
       "      <th>Questionable AMD</th>\n",
       "      <td>282.0</td>\n",
       "      <td>476.0</td>\n",
       "      <td>3742.0</td>\n",
       "      <td>598.0</td>\n",
       "      <td>666.0</td>\n",
       "      <td>324.0</td>\n",
       "    </tr>\n",
       "  </tbody>\n",
       "</table>\n",
       "</div>"
      ],
      "text/plain": [
       "Baseline_AMD_Category              1        2       3a      3b       4a  \\\n",
       "Final_AMD_Phenotype                                                       \n",
       "Both NV AMD and GA               NaN     52.0   1634.0   126.0   2773.0   \n",
       "Control                       7640.0      NaN      NaN     NaN      NaN   \n",
       "Control Questionable 1        3420.0    896.0      NaN     NaN      NaN   \n",
       "Control Questionable 2         712.0    256.0      NaN     NaN      NaN   \n",
       "Control Questionable 3        3070.0   3216.0      NaN     NaN      NaN   \n",
       "Control Questionable 4        1604.0      NaN      NaN     NaN      NaN   \n",
       "GA (Geographic Atrophy)          NaN    240.0   4940.0   660.0   1438.0   \n",
       "Large Drusen                   868.0   4620.0  18286.0  1392.0      NaN   \n",
       "Large Drusen Questionable 1    474.0   2468.0   4958.0   384.0      NaN   \n",
       "Large Drusen Questionable 2    780.0   1162.0    472.0    48.0      NaN   \n",
       "Large Drusen Questionable 3   1116.0   2225.0   1938.0    32.0      NaN   \n",
       "NV AMD                          24.0    232.0   5118.0   848.0  14998.0   \n",
       "Other non-control phenotype  11684.0  16040.0    369.0     4.0      NaN   \n",
       "Questionable AMD               282.0    476.0   3742.0   598.0    666.0   \n",
       "\n",
       "Baseline_AMD_Category            4b  \n",
       "Final_AMD_Phenotype                  \n",
       "Both NV AMD and GA            520.0  \n",
       "Control                         NaN  \n",
       "Control Questionable 1          8.0  \n",
       "Control Questionable 2          NaN  \n",
       "Control Questionable 3          NaN  \n",
       "Control Questionable 4          NaN  \n",
       "GA (Geographic Atrophy)      1206.0  \n",
       "Large Drusen                  604.0  \n",
       "Large Drusen Questionable 1   132.0  \n",
       "Large Drusen Questionable 2    24.0  \n",
       "Large Drusen Questionable 3    36.0  \n",
       "NV AMD                        744.0  \n",
       "Other non-control phenotype    38.0  \n",
       "Questionable AMD              324.0  "
      ]
     },
     "execution_count": 63,
     "metadata": {},
     "output_type": "execute_result"
    }
   ],
   "source": [
    "pd.pivot_table( merged, values='Patid', index='Final_AMD_Phenotype', columns='Baseline_AMD_Category', aggfunc='count')"
   ]
  },
  {
   "cell_type": "code",
   "execution_count": 64,
   "metadata": {},
   "outputs": [
    {
     "data": {
      "text/html": [
       "<div>\n",
       "<style>\n",
       "    .dataframe thead tr:only-child th {\n",
       "        text-align: right;\n",
       "    }\n",
       "\n",
       "    .dataframe thead th {\n",
       "        text-align: left;\n",
       "    }\n",
       "\n",
       "    .dataframe tbody tr th {\n",
       "        vertical-align: top;\n",
       "    }\n",
       "</style>\n",
       "<table border=\"1\" class=\"dataframe\">\n",
       "  <thead>\n",
       "    <tr style=\"text-align: right;\">\n",
       "      <th>SevScore</th>\n",
       "      <th>1.0</th>\n",
       "      <th>2.0</th>\n",
       "      <th>3.0</th>\n",
       "      <th>4.0</th>\n",
       "      <th>5.0</th>\n",
       "      <th>6.0</th>\n",
       "      <th>7.0</th>\n",
       "      <th>8.0</th>\n",
       "      <th>9.0</th>\n",
       "      <th>10.0</th>\n",
       "      <th>11.0</th>\n",
       "      <th>12.0</th>\n",
       "    </tr>\n",
       "    <tr>\n",
       "      <th>Final_AMD_Phenotype</th>\n",
       "      <th></th>\n",
       "      <th></th>\n",
       "      <th></th>\n",
       "      <th></th>\n",
       "      <th></th>\n",
       "      <th></th>\n",
       "      <th></th>\n",
       "      <th></th>\n",
       "      <th></th>\n",
       "      <th></th>\n",
       "      <th></th>\n",
       "      <th></th>\n",
       "    </tr>\n",
       "  </thead>\n",
       "  <tbody>\n",
       "    <tr>\n",
       "      <th>Both NV AMD and GA</th>\n",
       "      <td>4.0</td>\n",
       "      <td>12.0</td>\n",
       "      <td>4.0</td>\n",
       "      <td>50.0</td>\n",
       "      <td>156.0</td>\n",
       "      <td>252.0</td>\n",
       "      <td>664.0</td>\n",
       "      <td>534.0</td>\n",
       "      <td>510.0</td>\n",
       "      <td>714.0</td>\n",
       "      <td>1925.0</td>\n",
       "      <td>280.0</td>\n",
       "    </tr>\n",
       "    <tr>\n",
       "      <th>Control</th>\n",
       "      <td>7584.0</td>\n",
       "      <td>56.0</td>\n",
       "      <td>NaN</td>\n",
       "      <td>NaN</td>\n",
       "      <td>NaN</td>\n",
       "      <td>NaN</td>\n",
       "      <td>NaN</td>\n",
       "      <td>NaN</td>\n",
       "      <td>NaN</td>\n",
       "      <td>NaN</td>\n",
       "      <td>NaN</td>\n",
       "      <td>NaN</td>\n",
       "    </tr>\n",
       "    <tr>\n",
       "      <th>Control Questionable 1</th>\n",
       "      <td>4142.0</td>\n",
       "      <td>156.0</td>\n",
       "      <td>16.0</td>\n",
       "      <td>8.0</td>\n",
       "      <td>NaN</td>\n",
       "      <td>NaN</td>\n",
       "      <td>NaN</td>\n",
       "      <td>NaN</td>\n",
       "      <td>2.0</td>\n",
       "      <td>NaN</td>\n",
       "      <td>NaN</td>\n",
       "      <td>NaN</td>\n",
       "    </tr>\n",
       "    <tr>\n",
       "      <th>Control Questionable 2</th>\n",
       "      <td>906.0</td>\n",
       "      <td>58.0</td>\n",
       "      <td>2.0</td>\n",
       "      <td>2.0</td>\n",
       "      <td>NaN</td>\n",
       "      <td>NaN</td>\n",
       "      <td>NaN</td>\n",
       "      <td>NaN</td>\n",
       "      <td>NaN</td>\n",
       "      <td>NaN</td>\n",
       "      <td>NaN</td>\n",
       "      <td>NaN</td>\n",
       "    </tr>\n",
       "    <tr>\n",
       "      <th>Control Questionable 3</th>\n",
       "      <td>5406.0</td>\n",
       "      <td>768.0</td>\n",
       "      <td>56.0</td>\n",
       "      <td>52.0</td>\n",
       "      <td>2.0</td>\n",
       "      <td>NaN</td>\n",
       "      <td>NaN</td>\n",
       "      <td>2.0</td>\n",
       "      <td>NaN</td>\n",
       "      <td>NaN</td>\n",
       "      <td>NaN</td>\n",
       "      <td>NaN</td>\n",
       "    </tr>\n",
       "    <tr>\n",
       "      <th>Control Questionable 4</th>\n",
       "      <td>1552.0</td>\n",
       "      <td>40.0</td>\n",
       "      <td>4.0</td>\n",
       "      <td>6.0</td>\n",
       "      <td>2.0</td>\n",
       "      <td>NaN</td>\n",
       "      <td>NaN</td>\n",
       "      <td>NaN</td>\n",
       "      <td>NaN</td>\n",
       "      <td>NaN</td>\n",
       "      <td>NaN</td>\n",
       "      <td>NaN</td>\n",
       "    </tr>\n",
       "    <tr>\n",
       "      <th>GA (Geographic Atrophy)</th>\n",
       "      <td>150.0</td>\n",
       "      <td>108.0</td>\n",
       "      <td>68.0</td>\n",
       "      <td>408.0</td>\n",
       "      <td>470.0</td>\n",
       "      <td>884.0</td>\n",
       "      <td>1622.0</td>\n",
       "      <td>1572.0</td>\n",
       "      <td>1252.0</td>\n",
       "      <td>1706.0</td>\n",
       "      <td>162.0</td>\n",
       "      <td>82.0</td>\n",
       "    </tr>\n",
       "    <tr>\n",
       "      <th>Large Drusen</th>\n",
       "      <td>3233.0</td>\n",
       "      <td>3080.0</td>\n",
       "      <td>2530.0</td>\n",
       "      <td>4519.0</td>\n",
       "      <td>3481.0</td>\n",
       "      <td>4153.0</td>\n",
       "      <td>2694.0</td>\n",
       "      <td>2016.0</td>\n",
       "      <td>60.0</td>\n",
       "      <td>2.0</td>\n",
       "      <td>2.0</td>\n",
       "      <td>NaN</td>\n",
       "    </tr>\n",
       "    <tr>\n",
       "      <th>Large Drusen Questionable 1</th>\n",
       "      <td>2176.0</td>\n",
       "      <td>1724.0</td>\n",
       "      <td>984.0</td>\n",
       "      <td>1768.0</td>\n",
       "      <td>846.0</td>\n",
       "      <td>530.0</td>\n",
       "      <td>132.0</td>\n",
       "      <td>242.0</td>\n",
       "      <td>14.0</td>\n",
       "      <td>NaN</td>\n",
       "      <td>NaN</td>\n",
       "      <td>NaN</td>\n",
       "    </tr>\n",
       "    <tr>\n",
       "      <th>Large Drusen Questionable 2</th>\n",
       "      <td>1020.0</td>\n",
       "      <td>552.0</td>\n",
       "      <td>262.0</td>\n",
       "      <td>308.0</td>\n",
       "      <td>114.0</td>\n",
       "      <td>128.0</td>\n",
       "      <td>70.0</td>\n",
       "      <td>28.0</td>\n",
       "      <td>4.0</td>\n",
       "      <td>NaN</td>\n",
       "      <td>NaN</td>\n",
       "      <td>NaN</td>\n",
       "    </tr>\n",
       "    <tr>\n",
       "      <th>Large Drusen Questionable 3</th>\n",
       "      <td>2653.0</td>\n",
       "      <td>1198.0</td>\n",
       "      <td>450.0</td>\n",
       "      <td>678.0</td>\n",
       "      <td>204.0</td>\n",
       "      <td>90.0</td>\n",
       "      <td>22.0</td>\n",
       "      <td>50.0</td>\n",
       "      <td>2.0</td>\n",
       "      <td>NaN</td>\n",
       "      <td>NaN</td>\n",
       "      <td>NaN</td>\n",
       "    </tr>\n",
       "    <tr>\n",
       "      <th>NV AMD</th>\n",
       "      <td>972.0</td>\n",
       "      <td>748.0</td>\n",
       "      <td>426.0</td>\n",
       "      <td>1268.0</td>\n",
       "      <td>1182.0</td>\n",
       "      <td>1876.0</td>\n",
       "      <td>1650.0</td>\n",
       "      <td>1220.0</td>\n",
       "      <td>214.0</td>\n",
       "      <td>318.0</td>\n",
       "      <td>11480.0</td>\n",
       "      <td>610.0</td>\n",
       "    </tr>\n",
       "    <tr>\n",
       "      <th>Other non-control phenotype</th>\n",
       "      <td>17870.0</td>\n",
       "      <td>6335.0</td>\n",
       "      <td>1429.0</td>\n",
       "      <td>1969.0</td>\n",
       "      <td>282.0</td>\n",
       "      <td>112.0</td>\n",
       "      <td>18.0</td>\n",
       "      <td>114.0</td>\n",
       "      <td>6.0</td>\n",
       "      <td>NaN</td>\n",
       "      <td>NaN</td>\n",
       "      <td>NaN</td>\n",
       "    </tr>\n",
       "    <tr>\n",
       "      <th>Questionable AMD</th>\n",
       "      <td>632.0</td>\n",
       "      <td>397.0</td>\n",
       "      <td>282.0</td>\n",
       "      <td>626.0</td>\n",
       "      <td>604.0</td>\n",
       "      <td>1049.0</td>\n",
       "      <td>964.0</td>\n",
       "      <td>896.0</td>\n",
       "      <td>206.0</td>\n",
       "      <td>54.0</td>\n",
       "      <td>366.0</td>\n",
       "      <td>12.0</td>\n",
       "    </tr>\n",
       "  </tbody>\n",
       "</table>\n",
       "</div>"
      ],
      "text/plain": [
       "SevScore                        1.0     2.0     3.0     4.0     5.0     6.0   \\\n",
       "Final_AMD_Phenotype                                                            \n",
       "Both NV AMD and GA               4.0    12.0     4.0    50.0   156.0   252.0   \n",
       "Control                       7584.0    56.0     NaN     NaN     NaN     NaN   \n",
       "Control Questionable 1        4142.0   156.0    16.0     8.0     NaN     NaN   \n",
       "Control Questionable 2         906.0    58.0     2.0     2.0     NaN     NaN   \n",
       "Control Questionable 3        5406.0   768.0    56.0    52.0     2.0     NaN   \n",
       "Control Questionable 4        1552.0    40.0     4.0     6.0     2.0     NaN   \n",
       "GA (Geographic Atrophy)        150.0   108.0    68.0   408.0   470.0   884.0   \n",
       "Large Drusen                  3233.0  3080.0  2530.0  4519.0  3481.0  4153.0   \n",
       "Large Drusen Questionable 1   2176.0  1724.0   984.0  1768.0   846.0   530.0   \n",
       "Large Drusen Questionable 2   1020.0   552.0   262.0   308.0   114.0   128.0   \n",
       "Large Drusen Questionable 3   2653.0  1198.0   450.0   678.0   204.0    90.0   \n",
       "NV AMD                         972.0   748.0   426.0  1268.0  1182.0  1876.0   \n",
       "Other non-control phenotype  17870.0  6335.0  1429.0  1969.0   282.0   112.0   \n",
       "Questionable AMD               632.0   397.0   282.0   626.0   604.0  1049.0   \n",
       "\n",
       "SevScore                       7.0     8.0     9.0     10.0     11.0   12.0  \n",
       "Final_AMD_Phenotype                                                          \n",
       "Both NV AMD and GA            664.0   534.0   510.0   714.0   1925.0  280.0  \n",
       "Control                         NaN     NaN     NaN     NaN      NaN    NaN  \n",
       "Control Questionable 1          NaN     NaN     2.0     NaN      NaN    NaN  \n",
       "Control Questionable 2          NaN     NaN     NaN     NaN      NaN    NaN  \n",
       "Control Questionable 3          NaN     2.0     NaN     NaN      NaN    NaN  \n",
       "Control Questionable 4          NaN     NaN     NaN     NaN      NaN    NaN  \n",
       "GA (Geographic Atrophy)      1622.0  1572.0  1252.0  1706.0    162.0   82.0  \n",
       "Large Drusen                 2694.0  2016.0    60.0     2.0      2.0    NaN  \n",
       "Large Drusen Questionable 1   132.0   242.0    14.0     NaN      NaN    NaN  \n",
       "Large Drusen Questionable 2    70.0    28.0     4.0     NaN      NaN    NaN  \n",
       "Large Drusen Questionable 3    22.0    50.0     2.0     NaN      NaN    NaN  \n",
       "NV AMD                       1650.0  1220.0   214.0   318.0  11480.0  610.0  \n",
       "Other non-control phenotype    18.0   114.0     6.0     NaN      NaN    NaN  \n",
       "Questionable AMD              964.0   896.0   206.0    54.0    366.0   12.0  "
      ]
     },
     "execution_count": 64,
     "metadata": {},
     "output_type": "execute_result"
    }
   ],
   "source": [
    "pd.pivot_table( merged, values='Patid', index='Final_AMD_Phenotype', columns='SevScore', aggfunc='count')"
   ]
  },
  {
   "cell_type": "markdown",
   "metadata": {},
   "source": [
    "# Severity Score strongly correlates with age"
   ]
  },
  {
   "cell_type": "code",
   "execution_count": 65,
   "metadata": {},
   "outputs": [
    {
     "data": {
      "text/plain": [
       "Index(['Patid', 'Areds_subject_id', 'converted_file_name',\n",
       "       'Baseline_AMD_Category', 'Final_AMD_Phenotype_Group',\n",
       "       'Final_AMD_Phenotype', 'Final_Cataract_Phenotype', 'Study_Visit_Year',\n",
       "       'Treatment', 'age_baseline', 'male', 'white', 'Visit', 'EyeLR',\n",
       "       'SideLR', 'SevScore', 'SimpleSev'],\n",
       "      dtype='object')"
      ]
     },
     "execution_count": 65,
     "metadata": {},
     "output_type": "execute_result"
    }
   ],
   "source": [
    "merged.columns"
   ]
  },
  {
   "cell_type": "code",
   "execution_count": 66,
   "metadata": {
    "collapsed": true
   },
   "outputs": [],
   "source": [
    "merged.Study_Visit_Year = [ float(_) if _ != 'QUA' else 0.0 for _ in merged.Study_Visit_Year ]"
   ]
  },
  {
   "cell_type": "code",
   "execution_count": 67,
   "metadata": {
    "collapsed": true
   },
   "outputs": [],
   "source": [
    "merged['age'] = merged.Study_Visit_Year + merged.age_baseline.astype(float)"
   ]
  },
  {
   "cell_type": "code",
   "execution_count": 68,
   "metadata": {
    "collapsed": true
   },
   "outputs": [],
   "source": [
    "import statsmodels.formula.api as smf"
   ]
  },
  {
   "cell_type": "code",
   "execution_count": 69,
   "metadata": {
    "collapsed": true
   },
   "outputs": [],
   "source": [
    "# USE LOWER-CASE ols for formula API\n",
    "model = smf.ols(formula='age ~ SevScore', data=merged)"
   ]
  },
  {
   "cell_type": "code",
   "execution_count": 70,
   "metadata": {
    "collapsed": true
   },
   "outputs": [],
   "source": [
    "res = model.fit()"
   ]
  },
  {
   "cell_type": "code",
   "execution_count": 71,
   "metadata": {},
   "outputs": [
    {
     "name": "stdout",
     "output_type": "stream",
     "text": [
      "                            OLS Regression Results                            \n",
      "==============================================================================\n",
      "Dep. Variable:                    age   R-squared:                       0.054\n",
      "Model:                            OLS   Adj. R-squared:                  0.054\n",
      "Method:                 Least Squares   F-statistic:                     7588.\n",
      "Date:                Wed, 30 Aug 2017   Prob (F-statistic):               0.00\n",
      "Time:                        15:55:14   Log-Likelihood:            -4.1553e+05\n",
      "No. Observations:              132617   AIC:                         8.311e+05\n",
      "Df Residuals:                  132615   BIC:                         8.311e+05\n",
      "Df Model:                           1                                         \n",
      "Covariance Type:            nonrobust                                         \n",
      "==============================================================================\n",
      "                 coef    std err          t      P>|t|      [0.025      0.975]\n",
      "------------------------------------------------------------------------------\n",
      "Intercept     72.5063      0.024   3039.136      0.000      72.460      72.553\n",
      "SevScore       0.3800      0.004     87.109      0.000       0.371       0.389\n",
      "==============================================================================\n",
      "Omnibus:                      684.063   Durbin-Watson:                   0.154\n",
      "Prob(Omnibus):                  0.000   Jarque-Bera (JB):              602.201\n",
      "Skew:                          -0.118   Prob(JB):                    1.71e-131\n",
      "Kurtosis:                       2.769   Cond. No.                         8.73\n",
      "==============================================================================\n",
      "\n",
      "Warnings:\n",
      "[1] Standard Errors assume that the covariance matrix of the errors is correctly specified.\n"
     ]
    }
   ],
   "source": [
    "print( res.summary())"
   ]
  },
  {
   "cell_type": "code",
   "execution_count": 72,
   "metadata": {
    "collapsed": true
   },
   "outputs": [],
   "source": [
    "import seaborn as sns"
   ]
  },
  {
   "cell_type": "code",
   "execution_count": 73,
   "metadata": {
    "scrolled": true
   },
   "outputs": [
    {
     "data": {
      "text/plain": [
       "<matplotlib.axes._subplots.AxesSubplot at 0x11e634940>"
      ]
     },
     "execution_count": 73,
     "metadata": {},
     "output_type": "execute_result"
    },
    {
     "data": {
      "image/png": "[encoded data removed]",
      "text/plain": [
       "<matplotlib.figure.Figure at 0x11f21e7f0>"
      ]
     },
     "metadata": {},
     "output_type": "display_data"
    }
   ],
   "source": [
    "sns.violinplot( 'SevScore','age', data=merged )"
   ]
  },
  {
   "cell_type": "markdown",
   "metadata": {},
   "source": [
    "# Create subject-to-phenotype dict"
   ]
  },
  {
   "cell_type": "code",
   "execution_count": 264,
   "metadata": {},
   "outputs": [
    {
     "data": {
      "text/plain": [
       "4540"
      ]
     },
     "execution_count": 264,
     "metadata": {},
     "output_type": "execute_result"
    }
   ],
   "source": [
    "len (sorted( list( set( zip( list( merged.Patid ), list( merged.Final_AMD_Phenotype_Group ) ) ) ) ) )"
   ]
  },
  {
   "cell_type": "code",
   "execution_count": 265,
   "metadata": {},
   "outputs": [
    {
     "data": {
      "text/plain": [
       "4540"
      ]
     },
     "execution_count": 265,
     "metadata": {},
     "output_type": "execute_result"
    }
   ],
   "source": [
    "len( merged.Patid.unique() )"
   ]
  },
  {
   "cell_type": "code",
   "execution_count": 266,
   "metadata": {
    "collapsed": true
   },
   "outputs": [],
   "source": [
    "phenotype_dict = dict( set( zip( list( merged.Patid ), list( merged.Final_AMD_Phenotype_Group ) ) ) )"
   ]
  },
  {
   "cell_type": "markdown",
   "metadata": {},
   "source": [
    "# Identify Pure Control Dataset\n",
    "\n",
    "Criteria\n",
    "* Baseline AMD category == 1\n",
    "* Final AMD Phenotype == Control\n",
    "* Final_Cataract_Phenotype == Absent\n",
    "* Treatment = Placebo"
   ]
  },
  {
   "cell_type": "code",
   "execution_count": 94,
   "metadata": {
    "collapsed": true
   },
   "outputs": [],
   "source": [
    "control_p = merged.loc[ (merged.Baseline_AMD_Category == '1') & \n",
    "                        (merged.Final_AMD_Phenotype == 'Control') &\n",
    "                        (merged.Final_Cataract_Phenotype == 'Absent') & \n",
    "                        (merged.Treatment == 'Placebo') ]"
   ]
  },
  {
   "cell_type": "code",
   "execution_count": 226,
   "metadata": {
    "collapsed": true
   },
   "outputs": [],
   "source": [
    "# Check to make sure QUA coressponds with Visit 0\n",
    "# control_p.loc[ [ 'QUA' in _ for _ in list( control_p[ 'converted_file_name' ] ) ] ]"
   ]
  },
  {
   "cell_type": "code",
   "execution_count": 96,
   "metadata": {},
   "outputs": [
    {
     "data": {
      "text/html": [
       "<div>\n",
       "<style>\n",
       "    .dataframe thead tr:only-child th {\n",
       "        text-align: right;\n",
       "    }\n",
       "\n",
       "    .dataframe thead th {\n",
       "        text-align: left;\n",
       "    }\n",
       "\n",
       "    .dataframe tbody tr th {\n",
       "        vertical-align: top;\n",
       "    }\n",
       "</style>\n",
       "<table border=\"1\" class=\"dataframe\">\n",
       "  <thead>\n",
       "    <tr style=\"text-align: right;\">\n",
       "      <th>SevScore</th>\n",
       "      <th>1.0</th>\n",
       "      <th>2.0</th>\n",
       "    </tr>\n",
       "    <tr>\n",
       "      <th>EyeLR</th>\n",
       "      <th></th>\n",
       "      <th></th>\n",
       "    </tr>\n",
       "  </thead>\n",
       "  <tbody>\n",
       "    <tr>\n",
       "      <th>LE</th>\n",
       "      <td>552</td>\n",
       "      <td>2</td>\n",
       "    </tr>\n",
       "    <tr>\n",
       "      <th>RE</th>\n",
       "      <td>552</td>\n",
       "      <td>4</td>\n",
       "    </tr>\n",
       "  </tbody>\n",
       "</table>\n",
       "</div>"
      ],
      "text/plain": [
       "SevScore  1.0  2.0\n",
       "EyeLR             \n",
       "LE        552    2\n",
       "RE        552    4"
      ]
     },
     "execution_count": 96,
     "metadata": {},
     "output_type": "execute_result"
    }
   ],
   "source": [
    "pd.pivot_table( control_p, index='EyeLR', columns='SevScore', values='Patid', aggfunc='count' )"
   ]
  },
  {
   "cell_type": "code",
   "execution_count": 97,
   "metadata": {
    "collapsed": true
   },
   "outputs": [],
   "source": [
    "control_t = merged.loc[ (merged.Baseline_AMD_Category == '1') & \n",
    "                        (merged.Final_AMD_Phenotype == 'Control') &\n",
    "                        (merged.Final_Cataract_Phenotype == 'Absent') & \n",
    "                        (merged.Treatment == 'Antiox') ]"
   ]
  },
  {
   "cell_type": "code",
   "execution_count": 98,
   "metadata": {},
   "outputs": [
    {
     "data": {
      "text/html": [
       "<div>\n",
       "<style>\n",
       "    .dataframe thead tr:only-child th {\n",
       "        text-align: right;\n",
       "    }\n",
       "\n",
       "    .dataframe thead th {\n",
       "        text-align: left;\n",
       "    }\n",
       "\n",
       "    .dataframe tbody tr th {\n",
       "        vertical-align: top;\n",
       "    }\n",
       "</style>\n",
       "<table border=\"1\" class=\"dataframe\">\n",
       "  <thead>\n",
       "    <tr style=\"text-align: right;\">\n",
       "      <th>SevScore</th>\n",
       "      <th>1.0</th>\n",
       "      <th>2.0</th>\n",
       "    </tr>\n",
       "    <tr>\n",
       "      <th>EyeLR</th>\n",
       "      <th></th>\n",
       "      <th></th>\n",
       "    </tr>\n",
       "  </thead>\n",
       "  <tbody>\n",
       "    <tr>\n",
       "      <th>LE</th>\n",
       "      <td>752</td>\n",
       "      <td>6</td>\n",
       "    </tr>\n",
       "    <tr>\n",
       "      <th>RE</th>\n",
       "      <td>744</td>\n",
       "      <td>12</td>\n",
       "    </tr>\n",
       "  </tbody>\n",
       "</table>\n",
       "</div>"
      ],
      "text/plain": [
       "SevScore  1.0  2.0\n",
       "EyeLR             \n",
       "LE        752    6\n",
       "RE        744   12"
      ]
     },
     "execution_count": 98,
     "metadata": {},
     "output_type": "execute_result"
    }
   ],
   "source": [
    "pd.pivot_table( control_t, index='EyeLR', columns='SevScore', values='Patid', aggfunc='count' )"
   ]
  },
  {
   "cell_type": "code",
   "execution_count": 99,
   "metadata": {},
   "outputs": [
    {
     "data": {
      "text/plain": [
       "<matplotlib.axes._subplots.AxesSubplot at 0x114655630>"
      ]
     },
     "execution_count": 99,
     "metadata": {},
     "output_type": "execute_result"
    },
    {
     "data": {
      "image/png": "[encoded data removed]",
      "text/plain": [
       "<matplotlib.figure.Figure at 0x11463ed68>"
      ]
     },
     "metadata": {},
     "output_type": "display_data"
    }
   ],
   "source": [
    "control_p.age.hist()"
   ]
  },
  {
   "cell_type": "code",
   "execution_count": 100,
   "metadata": {},
   "outputs": [
    {
     "data": {
      "text/plain": [
       "<matplotlib.axes._subplots.AxesSubplot at 0x114806128>"
      ]
     },
     "execution_count": 100,
     "metadata": {},
     "output_type": "execute_result"
    },
    {
     "data": {
      "image/png": "[encoded data removed]",
      "text/plain": [
       "<matplotlib.figure.Figure at 0x114c770b8>"
      ]
     },
     "metadata": {},
     "output_type": "display_data"
    }
   ],
   "source": [
    "control_t.age.hist()"
   ]
  },
  {
   "cell_type": "code",
   "execution_count": 107,
   "metadata": {},
   "outputs": [
    {
     "name": "stdout",
     "output_type": "stream",
     "text": [
      "70.6790966309 4.42373265993 70.0690468866 4.10732143624\n"
     ]
    }
   ],
   "source": [
    "print(control_p.age.mean(), control_p.age.std(), control_t.age.mean(), control_t.age.std())"
   ]
  },
  {
   "cell_type": "code",
   "execution_count": 126,
   "metadata": {
    "collapsed": true
   },
   "outputs": [],
   "source": [
    "control_p_l = control_p.loc[ control_p.EyeLR == 'LE']\n",
    "control_p_l = control_p_l.loc[control_p_l.SideLR == 'LS'].pivot( index='Patid', columns='Visit', values='SevScore')\n",
    "control_p_l = control_p_l.loc[ control_p_l.count(axis=1) > 2 ]"
   ]
  },
  {
   "cell_type": "code",
   "execution_count": 127,
   "metadata": {},
   "outputs": [
    {
     "data": {
      "text/plain": [
       "44"
      ]
     },
     "execution_count": 127,
     "metadata": {},
     "output_type": "execute_result"
    }
   ],
   "source": [
    "len( control_p_l )"
   ]
  },
  {
   "cell_type": "code",
   "execution_count": 205,
   "metadata": {},
   "outputs": [
    {
     "data": {
      "text/plain": [
       "254"
      ]
     },
     "execution_count": 205,
     "metadata": {},
     "output_type": "execute_result"
    }
   ],
   "source": [
    "control_p_l.count().sum()"
   ]
  },
  {
   "cell_type": "code",
   "execution_count": 128,
   "metadata": {
    "collapsed": true
   },
   "outputs": [],
   "source": [
    "control_p_r = control_p.loc[ control_p.EyeLR == 'RE']\n",
    "control_p_r = control_p_r.loc[control_p_r.SideLR == 'RS'].pivot( index='Patid', columns='Visit', values='SevScore')\n",
    "control_p_r = control_p_r.loc[ control_p_r.count(axis=1) > 2 ]"
   ]
  },
  {
   "cell_type": "code",
   "execution_count": 129,
   "metadata": {},
   "outputs": [
    {
     "data": {
      "text/plain": [
       "44"
      ]
     },
     "execution_count": 129,
     "metadata": {},
     "output_type": "execute_result"
    }
   ],
   "source": [
    "len( control_p_r )"
   ]
  },
  {
   "cell_type": "code",
   "execution_count": 206,
   "metadata": {},
   "outputs": [
    {
     "data": {
      "text/plain": [
       "255"
      ]
     },
     "execution_count": 206,
     "metadata": {},
     "output_type": "execute_result"
    }
   ],
   "source": [
    "control_p_r.count().sum()"
   ]
  },
  {
   "cell_type": "code",
   "execution_count": null,
   "metadata": {
    "collapsed": true
   },
   "outputs": [],
   "source": [
    "list( zip( list( control_p_l.index), list( control_p_r.index) ) )"
   ]
  },
  {
   "cell_type": "code",
   "execution_count": 132,
   "metadata": {
    "collapsed": true
   },
   "outputs": [],
   "source": [
    "control_t_l = control_t.loc[ control_t.EyeLR == 'LE']\n",
    "control_t_l = control_t_l.loc[control_t_l.SideLR == 'LS'].pivot( index='Patid', columns='Visit', values='SevScore')\n",
    "control_t_l = control_t_l.loc[ control_t_l.count(axis=1) > 2 ]"
   ]
  },
  {
   "cell_type": "code",
   "execution_count": 133,
   "metadata": {},
   "outputs": [
    {
     "data": {
      "text/plain": [
       "61"
      ]
     },
     "execution_count": 133,
     "metadata": {},
     "output_type": "execute_result"
    }
   ],
   "source": [
    "len( control_t_l )"
   ]
  },
  {
   "cell_type": "code",
   "execution_count": 207,
   "metadata": {},
   "outputs": [
    {
     "data": {
      "text/plain": [
       "343"
      ]
     },
     "execution_count": 207,
     "metadata": {},
     "output_type": "execute_result"
    }
   ],
   "source": [
    "control_t_l.count().sum()"
   ]
  },
  {
   "cell_type": "code",
   "execution_count": 134,
   "metadata": {
    "collapsed": true
   },
   "outputs": [],
   "source": [
    "control_t_r = control_t.loc[ control_t.EyeLR == 'RE']\n",
    "control_t_r = control_t_r.loc[control_t_r.SideLR == 'RS'].pivot( index='Patid', columns='Visit', values='SevScore')\n",
    "control_t_r = control_t_r.loc[ control_t_r.count(axis=1) > 2 ]"
   ]
  },
  {
   "cell_type": "code",
   "execution_count": 135,
   "metadata": {},
   "outputs": [
    {
     "data": {
      "text/plain": [
       "61"
      ]
     },
     "execution_count": 135,
     "metadata": {},
     "output_type": "execute_result"
    }
   ],
   "source": [
    "len( control_t_r )"
   ]
  },
  {
   "cell_type": "code",
   "execution_count": 208,
   "metadata": {},
   "outputs": [
    {
     "data": {
      "text/plain": [
       "342"
      ]
     },
     "execution_count": 208,
     "metadata": {},
     "output_type": "execute_result"
    }
   ],
   "source": [
    "control_t_r.count().sum()"
   ]
  },
  {
   "cell_type": "code",
   "execution_count": 214,
   "metadata": {},
   "outputs": [
    {
     "data": {
      "text/plain": [
       "Int64Index([0, 4, 6, 8, 10], dtype='int64', name='Visit')"
      ]
     },
     "execution_count": 214,
     "metadata": {},
     "output_type": "execute_result"
    }
   ],
   "source": [
    "control_t_r.iloc[0].dropna().index"
   ]
  },
  {
   "cell_type": "markdown",
   "metadata": {},
   "source": [
    "# Case\n",
    "\n",
    "## Eliminate age as a confounding variable by using the Matching technique"
   ]
  },
  {
   "cell_type": "code",
   "execution_count": 313,
   "metadata": {
    "collapsed": true
   },
   "outputs": [],
   "source": [
    "case_p = merged.loc[ (merged.Baseline_AMD_Category == '1') \n",
    "                   & (merged.Final_AMD_Phenotype_Group != 'Control') \n",
    "                   #& (merged.Final_Cataract_Phenotype == 'Absent')\n",
    "                   & (merged.Treatment == 'Placebo') ]"
   ]
  },
  {
   "cell_type": "code",
   "execution_count": 314,
   "metadata": {},
   "outputs": [
    {
     "data": {
      "text/plain": [
       "Other    7722\n",
       "Case       12\n",
       "Name: Final_AMD_Phenotype_Group, dtype: int64"
      ]
     },
     "execution_count": 314,
     "metadata": {},
     "output_type": "execute_result"
    }
   ],
   "source": [
    "case_p.Final_AMD_Phenotype_Group.value_counts()"
   ]
  },
  {
   "cell_type": "code",
   "execution_count": 315,
   "metadata": {},
   "outputs": [
    {
     "data": {
      "text/html": [
       "<div>\n",
       "<style>\n",
       "    .dataframe thead tr:only-child th {\n",
       "        text-align: right;\n",
       "    }\n",
       "\n",
       "    .dataframe thead th {\n",
       "        text-align: left;\n",
       "    }\n",
       "\n",
       "    .dataframe tbody tr th {\n",
       "        vertical-align: top;\n",
       "    }\n",
       "</style>\n",
       "<table border=\"1\" class=\"dataframe\">\n",
       "  <thead>\n",
       "    <tr style=\"text-align: right;\">\n",
       "      <th>SevScore</th>\n",
       "      <th>1.0</th>\n",
       "      <th>2.0</th>\n",
       "      <th>3.0</th>\n",
       "      <th>4.0</th>\n",
       "      <th>5.0</th>\n",
       "      <th>6.0</th>\n",
       "      <th>7.0</th>\n",
       "      <th>8.0</th>\n",
       "      <th>11.0</th>\n",
       "    </tr>\n",
       "    <tr>\n",
       "      <th>EyeLR</th>\n",
       "      <th></th>\n",
       "      <th></th>\n",
       "      <th></th>\n",
       "      <th></th>\n",
       "      <th></th>\n",
       "      <th></th>\n",
       "      <th></th>\n",
       "      <th></th>\n",
       "      <th></th>\n",
       "    </tr>\n",
       "  </thead>\n",
       "  <tbody>\n",
       "    <tr>\n",
       "      <th>LE</th>\n",
       "      <td>3000</td>\n",
       "      <td>532</td>\n",
       "      <td>104</td>\n",
       "      <td>128</td>\n",
       "      <td>36</td>\n",
       "      <td>34</td>\n",
       "      <td>6</td>\n",
       "      <td>14</td>\n",
       "      <td>6</td>\n",
       "    </tr>\n",
       "    <tr>\n",
       "      <th>RE</th>\n",
       "      <td>3058</td>\n",
       "      <td>486</td>\n",
       "      <td>106</td>\n",
       "      <td>140</td>\n",
       "      <td>32</td>\n",
       "      <td>30</td>\n",
       "      <td>10</td>\n",
       "      <td>8</td>\n",
       "      <td>4</td>\n",
       "    </tr>\n",
       "  </tbody>\n",
       "</table>\n",
       "</div>"
      ],
      "text/plain": [
       "SevScore  1.0   2.0   3.0   4.0   5.0   6.0   7.0   8.0   11.0\n",
       "EyeLR                                                         \n",
       "LE        3000   532   104   128    36    34     6    14     6\n",
       "RE        3058   486   106   140    32    30    10     8     4"
      ]
     },
     "execution_count": 315,
     "metadata": {},
     "output_type": "execute_result"
    }
   ],
   "source": [
    "pd.pivot_table( case_p, index='EyeLR', columns='SevScore', values='Patid', aggfunc='count' )"
   ]
  },
  {
   "cell_type": "code",
   "execution_count": 317,
   "metadata": {
    "collapsed": true
   },
   "outputs": [],
   "source": [
    "case_t = merged.loc[ (merged.Baseline_AMD_Category == '1') \n",
    "                   & (merged.Final_AMD_Phenotype_Group != 'Control') \n",
    "                   #& (merged.Final_Cataract_Phenotype == 'Absent')\n",
    "                   & (merged.Treatment == 'Antiox') ]"
   ]
  },
  {
   "cell_type": "code",
   "execution_count": 318,
   "metadata": {},
   "outputs": [
    {
     "data": {
      "text/plain": [
       "Other    7482\n",
       "Case       12\n",
       "Name: Final_AMD_Phenotype_Group, dtype: int64"
      ]
     },
     "execution_count": 318,
     "metadata": {},
     "output_type": "execute_result"
    }
   ],
   "source": [
    "case_t.Final_AMD_Phenotype_Group.value_counts()"
   ]
  },
  {
   "cell_type": "code",
   "execution_count": 319,
   "metadata": {},
   "outputs": [
    {
     "data": {
      "text/html": [
       "<div>\n",
       "<style>\n",
       "    .dataframe thead tr:only-child th {\n",
       "        text-align: right;\n",
       "    }\n",
       "\n",
       "    .dataframe thead th {\n",
       "        text-align: left;\n",
       "    }\n",
       "\n",
       "    .dataframe tbody tr th {\n",
       "        vertical-align: top;\n",
       "    }\n",
       "</style>\n",
       "<table border=\"1\" class=\"dataframe\">\n",
       "  <thead>\n",
       "    <tr style=\"text-align: right;\">\n",
       "      <th>SevScore</th>\n",
       "      <th>1.0</th>\n",
       "      <th>2.0</th>\n",
       "      <th>3.0</th>\n",
       "      <th>4.0</th>\n",
       "      <th>5.0</th>\n",
       "      <th>6.0</th>\n",
       "      <th>7.0</th>\n",
       "      <th>8.0</th>\n",
       "      <th>9.0</th>\n",
       "      <th>11.0</th>\n",
       "    </tr>\n",
       "    <tr>\n",
       "      <th>EyeLR</th>\n",
       "      <th></th>\n",
       "      <th></th>\n",
       "      <th></th>\n",
       "      <th></th>\n",
       "      <th></th>\n",
       "      <th></th>\n",
       "      <th></th>\n",
       "      <th></th>\n",
       "      <th></th>\n",
       "      <th></th>\n",
       "    </tr>\n",
       "  </thead>\n",
       "  <tbody>\n",
       "    <tr>\n",
       "      <th>LE</th>\n",
       "      <td>2944.0</td>\n",
       "      <td>522.0</td>\n",
       "      <td>94.0</td>\n",
       "      <td>140.0</td>\n",
       "      <td>22.0</td>\n",
       "      <td>6.0</td>\n",
       "      <td>2.0</td>\n",
       "      <td>16.0</td>\n",
       "      <td>2.0</td>\n",
       "      <td>NaN</td>\n",
       "    </tr>\n",
       "    <tr>\n",
       "      <th>RE</th>\n",
       "      <td>2836.0</td>\n",
       "      <td>584.0</td>\n",
       "      <td>104.0</td>\n",
       "      <td>144.0</td>\n",
       "      <td>32.0</td>\n",
       "      <td>24.0</td>\n",
       "      <td>2.0</td>\n",
       "      <td>14.0</td>\n",
       "      <td>NaN</td>\n",
       "      <td>6.0</td>\n",
       "    </tr>\n",
       "  </tbody>\n",
       "</table>\n",
       "</div>"
      ],
      "text/plain": [
       "SevScore    1.0    2.0    3.0    4.0   5.0   6.0   7.0   8.0   9.0   11.0\n",
       "EyeLR                                                                    \n",
       "LE        2944.0  522.0   94.0  140.0  22.0   6.0   2.0  16.0   2.0   NaN\n",
       "RE        2836.0  584.0  104.0  144.0  32.0  24.0   2.0  14.0   NaN   6.0"
      ]
     },
     "execution_count": 319,
     "metadata": {},
     "output_type": "execute_result"
    }
   ],
   "source": [
    "pd.pivot_table( case_t, index='EyeLR', columns='SevScore', values='Patid', aggfunc='count' )"
   ]
  },
  {
   "cell_type": "code",
   "execution_count": 320,
   "metadata": {},
   "outputs": [
    {
     "data": {
      "text/plain": [
       "<matplotlib.axes._subplots.AxesSubplot at 0x117a8fdd8>"
      ]
     },
     "execution_count": 320,
     "metadata": {},
     "output_type": "execute_result"
    },
    {
     "data": {
      "image/png": "[encoded data removed]",
      "text/plain": [
       "<matplotlib.figure.Figure at 0x115f24ac8>"
      ]
     },
     "metadata": {},
     "output_type": "display_data"
    }
   ],
   "source": [
    "case_p.age.hist()"
   ]
  },
  {
   "cell_type": "code",
   "execution_count": 321,
   "metadata": {},
   "outputs": [
    {
     "data": {
      "text/plain": [
       "<matplotlib.axes._subplots.AxesSubplot at 0x117a8f5f8>"
      ]
     },
     "execution_count": 321,
     "metadata": {},
     "output_type": "execute_result"
    },
    {
     "data": {
      "image/png": "[encoded data removed]",
      "text/plain": [
       "<matplotlib.figure.Figure at 0x115cf7a20>"
      ]
     },
     "metadata": {},
     "output_type": "display_data"
    }
   ],
   "source": [
    "case_t.age.hist()"
   ]
  },
  {
   "cell_type": "code",
   "execution_count": 322,
   "metadata": {},
   "outputs": [
    {
     "name": "stdout",
     "output_type": "stream",
     "text": [
      "73.3239210602 5.30436588798 73.5009114141 5.28344571443\n"
     ]
    }
   ],
   "source": [
    "print(case_p.age.mean(), case_p.age.std(), case_t.age.mean(), case_t.age.std())"
   ]
  },
  {
   "cell_type": "code",
   "execution_count": 323,
   "metadata": {
    "collapsed": true
   },
   "outputs": [],
   "source": [
    "case_p_l = case_p.loc[ case_p.EyeLR == 'LE']\n",
    "case_p_l = case_p_l.loc[case_p_l.SideLR == 'LS'].pivot( index='Patid', columns='Visit', values='SevScore')\n",
    "case_p_l = case_p_l.loc[ case_p_l.count(axis=1) > 2 ]\n",
    "case_p_l = case_p_l.loc[ case_p_l.max(axis=1) >= 5 ]"
   ]
  },
  {
   "cell_type": "code",
   "execution_count": 324,
   "metadata": {},
   "outputs": [
    {
     "data": {
      "text/plain": [
       "24"
      ]
     },
     "execution_count": 324,
     "metadata": {},
     "output_type": "execute_result"
    }
   ],
   "source": [
    "len(case_p_l)"
   ]
  },
  {
   "cell_type": "code",
   "execution_count": 325,
   "metadata": {},
   "outputs": [
    {
     "data": {
      "text/plain": [
       "231"
      ]
     },
     "execution_count": 325,
     "metadata": {},
     "output_type": "execute_result"
    }
   ],
   "source": [
    "case_p_l.count().sum()"
   ]
  },
  {
   "cell_type": "code",
   "execution_count": 252,
   "metadata": {
    "collapsed": true
   },
   "outputs": [],
   "source": [
    "case_p_r = case_p.loc[ case_p.EyeLR == 'RE']\n",
    "case_p_r = case_p_r.loc[case_p_r.SideLR == 'RS'].pivot( index='Patid', columns='Visit', values='SevScore')\n",
    "case_p_r = case_p_r.loc[ case_p_r.count(axis=1) > 2 ]\n",
    "case_p_r = case_p_r.loc[ case_p_r.max(axis=1) >= 5 ]"
   ]
  },
  {
   "cell_type": "code",
   "execution_count": 253,
   "metadata": {},
   "outputs": [
    {
     "data": {
      "text/plain": [
       "16"
      ]
     },
     "execution_count": 253,
     "metadata": {},
     "output_type": "execute_result"
    }
   ],
   "source": [
    "len(case_p_r)"
   ]
  },
  {
   "cell_type": "code",
   "execution_count": 254,
   "metadata": {},
   "outputs": [
    {
     "data": {
      "text/plain": [
       "151"
      ]
     },
     "execution_count": 254,
     "metadata": {},
     "output_type": "execute_result"
    }
   ],
   "source": [
    "case_p_r.count().sum()"
   ]
  },
  {
   "cell_type": "code",
   "execution_count": 255,
   "metadata": {
    "collapsed": true
   },
   "outputs": [],
   "source": [
    "case_t_l = case_t.loc[ case_t.EyeLR == 'LE']\n",
    "case_t_l = case_t_l.loc[case_t_l.SideLR == 'LS'].pivot( index='Patid', columns='Visit', values='SevScore')\n",
    "case_t_l = case_t_l.loc[ case_t_l.count(axis=1) > 2 ]\n",
    "case_t_l = case_t_l.loc[ case_t_l.max(axis=1) >= 5 ]"
   ]
  },
  {
   "cell_type": "code",
   "execution_count": 256,
   "metadata": {},
   "outputs": [
    {
     "data": {
      "text/plain": [
       "17"
      ]
     },
     "execution_count": 256,
     "metadata": {},
     "output_type": "execute_result"
    }
   ],
   "source": [
    "len(case_t_l)"
   ]
  },
  {
   "cell_type": "code",
   "execution_count": 257,
   "metadata": {},
   "outputs": [
    {
     "data": {
      "text/plain": [
       "177"
      ]
     },
     "execution_count": 257,
     "metadata": {},
     "output_type": "execute_result"
    }
   ],
   "source": [
    "case_t_l.count().sum()"
   ]
  },
  {
   "cell_type": "code",
   "execution_count": 258,
   "metadata": {
    "collapsed": true
   },
   "outputs": [],
   "source": [
    "case_t_r = case_t.loc[ case_t.EyeLR == 'RE']\n",
    "case_t_r = case_t_r.loc[case_t_r.SideLR == 'RS'].pivot( index='Patid', columns='Visit', values='SevScore')\n",
    "case_t_r = case_t_r.loc[ case_t_r.count(axis=1) > 2 ]\n",
    "case_t_r = case_t_r.loc[ case_t_r.max(axis=1) >= 5 ]"
   ]
  },
  {
   "cell_type": "code",
   "execution_count": 259,
   "metadata": {},
   "outputs": [
    {
     "data": {
      "text/plain": [
       "25"
      ]
     },
     "execution_count": 259,
     "metadata": {},
     "output_type": "execute_result"
    }
   ],
   "source": [
    "len(case_t_r)"
   ]
  },
  {
   "cell_type": "code",
   "execution_count": 260,
   "metadata": {},
   "outputs": [
    {
     "data": {
      "text/plain": [
       "235"
      ]
     },
     "execution_count": 260,
     "metadata": {},
     "output_type": "execute_result"
    }
   ],
   "source": [
    "case_t_r.count().sum()"
   ]
  },
  {
   "cell_type": "markdown",
   "metadata": {},
   "source": [
    "# Create image lists from pivoted SevScore trajectory dataframes"
   ]
  },
  {
   "cell_type": "code",
   "execution_count": 299,
   "metadata": {
    "collapsed": true
   },
   "outputs": [],
   "source": [
    "def WriteImgList( df, _class, baseline_cat=1, eye='LE' ):\n",
    "    frmt = '/data/areds/44770/AREDS/AREDS_2014/tiff/AMD_Category_{}_{}/{}-{}-F2-{}-{}.tiff {}\\n'\n",
    "    #print( df.count().sum() )\n",
    "    outfile = \"20170831_{}_file_list.txt\".format( _class )\n",
    "    f = open( outfile, 'w')\n",
    "    count = 0\n",
    "    for Patid, row in df.iterrows():\n",
    "        #print( Patid )\n",
    "        #print( list( row.dropna().index ) )\n",
    "        phen_group = phenotype_dict[ int( Patid ) ]\n",
    "        \n",
    "        for visit in list( row.dropna().index ):\n",
    "            if visit == 0:\n",
    "                vis_str = 'QUA'\n",
    "            else:\n",
    "                vis_str = str(visit).zfill(2)\n",
    "            f.write( frmt.format( baseline_cat, phen_group, Patid, vis_str, eye, 'LS', _class ) )\n",
    "            f.write( frmt.format( baseline_cat, phen_group, Patid, vis_str, eye, 'RS', _class ) )\n",
    "            count += 2\n",
    "    print( \"wrote {} lines to file {}\".format( count, outfile))\n",
    "    f.close()"
   ]
  },
  {
   "cell_type": "code",
   "execution_count": 300,
   "metadata": {},
   "outputs": [
    {
     "name": "stdout",
     "output_type": "stream",
     "text": [
      "wrote 508 lines to file 20170831_control_p_l_file_list.txt\n",
      "wrote 510 lines to file 20170831_control_p_r_file_list.txt\n",
      "wrote 686 lines to file 20170831_control_t_l_file_list.txt\n",
      "wrote 684 lines to file 20170831_control_t_r_file_list.txt\n"
     ]
    }
   ],
   "source": [
    "WriteImgList( control_p_l, _class='control_p_l', baseline_cat=1, eye='LE' )\n",
    "WriteImgList( control_p_r, _class='control_p_r', baseline_cat=1, eye='RE' )\n",
    "WriteImgList( control_t_l, _class='control_t_l', baseline_cat=1, eye='LE' )\n",
    "WriteImgList( control_t_r, _class='control_t_r', baseline_cat=1, eye='RE' )"
   ]
  },
  {
   "cell_type": "code",
   "execution_count": 301,
   "metadata": {},
   "outputs": [
    {
     "name": "stdout",
     "output_type": "stream",
     "text": [
      "wrote 462 lines to file 20170831_case_p_l_file_list.txt\n",
      "wrote 302 lines to file 20170831_case_p_r_file_list.txt\n",
      "wrote 354 lines to file 20170831_case_t_l_file_list.txt\n",
      "wrote 470 lines to file 20170831_case_t_r_file_list.txt\n"
     ]
    }
   ],
   "source": [
    "WriteImgList( case_p_l, _class='case_p_l', baseline_cat=1, eye='LE' )\n",
    "WriteImgList( case_p_r, _class='case_p_r', baseline_cat=1, eye='RE' )\n",
    "WriteImgList( case_t_l, _class='case_t_l', baseline_cat=1, eye='LE' )\n",
    "WriteImgList( case_t_r, _class='case_t_r', baseline_cat=1, eye='RE' )"
   ]
  },
  {
   "cell_type": "code",
   "execution_count": 298,
   "metadata": {},
   "outputs": [
    {
     "name": "stdout",
     "output_type": "stream",
     "text": [
      "20170831_case_p_l_file_list.txt     20170831_control_p_l_file_list.txt\r\n",
      "20170831_case_p_r_file_list.txt     20170831_control_p_r_file_list.txt\r\n",
      "20170831_case_t_l_file_list.txt     20170831_control_t_l_file_list.txt\r\n",
      "20170831_case_t_r_file_list.txt     20170831_control_t_r_file_list.txt\r\n"
     ]
    }
   ],
   "source": [
    "ls 20170831*"
   ]
  },
  {
   "cell_type": "markdown",
   "metadata": {},
   "source": [
    "# Baseline Category 2\n",
    "\n",
    "## Control"
   ]
  },
  {
   "cell_type": "code",
   "execution_count": 180,
   "metadata": {
    "collapsed": true
   },
   "outputs": [],
   "source": [
    "control_p_2 = merged.loc[ (merged.Baseline_AMD_Category == '2')\n",
    "                         & (merged.Final_AMD_Phenotype_Group == 'Control') \n",
    "                         & (merged.Final_Cataract_Phenotype == 'Absent')\n",
    "                         & (merged.Treatment == 'Placebo') ]"
   ]
  },
  {
   "cell_type": "code",
   "execution_count": 181,
   "metadata": {},
   "outputs": [
    {
     "data": {
      "text/plain": [
       "322"
      ]
     },
     "execution_count": 181,
     "metadata": {},
     "output_type": "execute_result"
    }
   ],
   "source": [
    "len(control_p_2)"
   ]
  },
  {
   "cell_type": "code",
   "execution_count": 182,
   "metadata": {},
   "outputs": [
    {
     "data": {
      "text/html": [
       "<div>\n",
       "<style>\n",
       "    .dataframe thead tr:only-child th {\n",
       "        text-align: right;\n",
       "    }\n",
       "\n",
       "    .dataframe thead th {\n",
       "        text-align: left;\n",
       "    }\n",
       "\n",
       "    .dataframe tbody tr th {\n",
       "        vertical-align: top;\n",
       "    }\n",
       "</style>\n",
       "<table border=\"1\" class=\"dataframe\">\n",
       "  <thead>\n",
       "    <tr style=\"text-align: right;\">\n",
       "      <th>SevScore</th>\n",
       "      <th>1.0</th>\n",
       "      <th>2.0</th>\n",
       "      <th>3.0</th>\n",
       "      <th>4.0</th>\n",
       "    </tr>\n",
       "    <tr>\n",
       "      <th>Final_AMD_Phenotype</th>\n",
       "      <th></th>\n",
       "      <th></th>\n",
       "      <th></th>\n",
       "      <th></th>\n",
       "    </tr>\n",
       "  </thead>\n",
       "  <tbody>\n",
       "    <tr>\n",
       "      <th>Control Questionable 1</th>\n",
       "      <td>90.0</td>\n",
       "      <td>6.0</td>\n",
       "      <td>NaN</td>\n",
       "      <td>NaN</td>\n",
       "    </tr>\n",
       "    <tr>\n",
       "      <th>Control Questionable 2</th>\n",
       "      <td>4.0</td>\n",
       "      <td>4.0</td>\n",
       "      <td>NaN</td>\n",
       "      <td>NaN</td>\n",
       "    </tr>\n",
       "    <tr>\n",
       "      <th>Control Questionable 3</th>\n",
       "      <td>166.0</td>\n",
       "      <td>40.0</td>\n",
       "      <td>6.0</td>\n",
       "      <td>6.0</td>\n",
       "    </tr>\n",
       "  </tbody>\n",
       "</table>\n",
       "</div>"
      ],
      "text/plain": [
       "SevScore                  1.0   2.0  3.0  4.0\n",
       "Final_AMD_Phenotype                          \n",
       "Control Questionable 1   90.0   6.0  NaN  NaN\n",
       "Control Questionable 2    4.0   4.0  NaN  NaN\n",
       "Control Questionable 3  166.0  40.0  6.0  6.0"
      ]
     },
     "execution_count": 182,
     "metadata": {},
     "output_type": "execute_result"
    }
   ],
   "source": [
    "pd.pivot_table( control_p_2, index='Final_AMD_Phenotype', columns='SevScore', values='Patid', aggfunc='count' )"
   ]
  },
  {
   "cell_type": "code",
   "execution_count": 183,
   "metadata": {
    "collapsed": true
   },
   "outputs": [],
   "source": [
    "control_t_2 = merged.loc[ (merged.Baseline_AMD_Category == '2')\n",
    "                         & (merged.Final_AMD_Phenotype_Group == 'Control') \n",
    "                         & (merged.Final_Cataract_Phenotype == 'Absent')\n",
    "                         & (merged.Treatment == 'Antiox') ]"
   ]
  },
  {
   "cell_type": "code",
   "execution_count": 184,
   "metadata": {},
   "outputs": [
    {
     "data": {
      "text/plain": [
       "530"
      ]
     },
     "execution_count": 184,
     "metadata": {},
     "output_type": "execute_result"
    }
   ],
   "source": [
    "len(control_t_2)"
   ]
  },
  {
   "cell_type": "code",
   "execution_count": 185,
   "metadata": {},
   "outputs": [
    {
     "data": {
      "text/html": [
       "<div>\n",
       "<style>\n",
       "    .dataframe thead tr:only-child th {\n",
       "        text-align: right;\n",
       "    }\n",
       "\n",
       "    .dataframe thead th {\n",
       "        text-align: left;\n",
       "    }\n",
       "\n",
       "    .dataframe tbody tr th {\n",
       "        vertical-align: top;\n",
       "    }\n",
       "</style>\n",
       "<table border=\"1\" class=\"dataframe\">\n",
       "  <thead>\n",
       "    <tr style=\"text-align: right;\">\n",
       "      <th>SevScore</th>\n",
       "      <th>1.0</th>\n",
       "      <th>2.0</th>\n",
       "      <th>3.0</th>\n",
       "    </tr>\n",
       "    <tr>\n",
       "      <th>Final_AMD_Phenotype</th>\n",
       "      <th></th>\n",
       "      <th></th>\n",
       "      <th></th>\n",
       "    </tr>\n",
       "  </thead>\n",
       "  <tbody>\n",
       "    <tr>\n",
       "      <th>Control Questionable 1</th>\n",
       "      <td>74.0</td>\n",
       "      <td>2.0</td>\n",
       "      <td>NaN</td>\n",
       "    </tr>\n",
       "    <tr>\n",
       "      <th>Control Questionable 2</th>\n",
       "      <td>46.0</td>\n",
       "      <td>2.0</td>\n",
       "      <td>NaN</td>\n",
       "    </tr>\n",
       "    <tr>\n",
       "      <th>Control Questionable 3</th>\n",
       "      <td>322.0</td>\n",
       "      <td>82.0</td>\n",
       "      <td>2.0</td>\n",
       "    </tr>\n",
       "  </tbody>\n",
       "</table>\n",
       "</div>"
      ],
      "text/plain": [
       "SevScore                  1.0   2.0  3.0\n",
       "Final_AMD_Phenotype                     \n",
       "Control Questionable 1   74.0   2.0  NaN\n",
       "Control Questionable 2   46.0   2.0  NaN\n",
       "Control Questionable 3  322.0  82.0  2.0"
      ]
     },
     "execution_count": 185,
     "metadata": {},
     "output_type": "execute_result"
    }
   ],
   "source": [
    "pd.pivot_table( control_t_2, index='Final_AMD_Phenotype', columns='SevScore', values='Patid', aggfunc='count' )"
   ]
  },
  {
   "cell_type": "markdown",
   "metadata": {},
   "source": [
    "## Case Baseline 2"
   ]
  },
  {
   "cell_type": "code",
   "execution_count": 192,
   "metadata": {
    "collapsed": true
   },
   "outputs": [],
   "source": [
    "case_p_2 = merged.loc[ (merged.Baseline_AMD_Category == '2')\n",
    "                         & (merged.Final_AMD_Phenotype_Group != 'Control') \n",
    "                         #& (merged.Final_Cataract_Phenotype == 'Absent')\n",
    "                         & (merged.Treatment == 'Placebo') ]"
   ]
  },
  {
   "cell_type": "code",
   "execution_count": 193,
   "metadata": {},
   "outputs": [
    {
     "data": {
      "text/plain": [
       "6708"
      ]
     },
     "execution_count": 193,
     "metadata": {},
     "output_type": "execute_result"
    }
   ],
   "source": [
    "len( case_p_2 )"
   ]
  },
  {
   "cell_type": "code",
   "execution_count": 194,
   "metadata": {},
   "outputs": [
    {
     "data": {
      "text/html": [
       "<div>\n",
       "<style>\n",
       "    .dataframe thead tr:only-child th {\n",
       "        text-align: right;\n",
       "    }\n",
       "\n",
       "    .dataframe thead th {\n",
       "        text-align: left;\n",
       "    }\n",
       "\n",
       "    .dataframe tbody tr th {\n",
       "        vertical-align: top;\n",
       "    }\n",
       "</style>\n",
       "<table border=\"1\" class=\"dataframe\">\n",
       "  <thead>\n",
       "    <tr style=\"text-align: right;\">\n",
       "      <th>SevScore</th>\n",
       "      <th>1.0</th>\n",
       "      <th>2.0</th>\n",
       "      <th>3.0</th>\n",
       "      <th>4.0</th>\n",
       "      <th>5.0</th>\n",
       "      <th>6.0</th>\n",
       "      <th>7.0</th>\n",
       "      <th>8.0</th>\n",
       "      <th>9.0</th>\n",
       "      <th>11.0</th>\n",
       "    </tr>\n",
       "    <tr>\n",
       "      <th>Final_AMD_Phenotype</th>\n",
       "      <th></th>\n",
       "      <th></th>\n",
       "      <th></th>\n",
       "      <th></th>\n",
       "      <th></th>\n",
       "      <th></th>\n",
       "      <th></th>\n",
       "      <th></th>\n",
       "      <th></th>\n",
       "      <th></th>\n",
       "    </tr>\n",
       "  </thead>\n",
       "  <tbody>\n",
       "    <tr>\n",
       "      <th>GA (Geographic Atrophy)</th>\n",
       "      <td>50.0</td>\n",
       "      <td>8.0</td>\n",
       "      <td>8.0</td>\n",
       "      <td>18.0</td>\n",
       "      <td>14.0</td>\n",
       "      <td>2.0</td>\n",
       "      <td>12.0</td>\n",
       "      <td>8.0</td>\n",
       "      <td>2.0</td>\n",
       "      <td>NaN</td>\n",
       "    </tr>\n",
       "    <tr>\n",
       "      <th>Large Drusen</th>\n",
       "      <td>234.0</td>\n",
       "      <td>222.0</td>\n",
       "      <td>154.0</td>\n",
       "      <td>260.0</td>\n",
       "      <td>106.0</td>\n",
       "      <td>76.0</td>\n",
       "      <td>38.0</td>\n",
       "      <td>56.0</td>\n",
       "      <td>2.0</td>\n",
       "      <td>NaN</td>\n",
       "    </tr>\n",
       "    <tr>\n",
       "      <th>Large Drusen Questionable 1</th>\n",
       "      <td>186.0</td>\n",
       "      <td>176.0</td>\n",
       "      <td>76.0</td>\n",
       "      <td>112.0</td>\n",
       "      <td>42.0</td>\n",
       "      <td>10.0</td>\n",
       "      <td>2.0</td>\n",
       "      <td>12.0</td>\n",
       "      <td>NaN</td>\n",
       "      <td>NaN</td>\n",
       "    </tr>\n",
       "    <tr>\n",
       "      <th>Large Drusen Questionable 2</th>\n",
       "      <td>96.0</td>\n",
       "      <td>92.0</td>\n",
       "      <td>24.0</td>\n",
       "      <td>26.0</td>\n",
       "      <td>18.0</td>\n",
       "      <td>4.0</td>\n",
       "      <td>2.0</td>\n",
       "      <td>2.0</td>\n",
       "      <td>NaN</td>\n",
       "      <td>NaN</td>\n",
       "    </tr>\n",
       "    <tr>\n",
       "      <th>Large Drusen Questionable 3</th>\n",
       "      <td>218.0</td>\n",
       "      <td>140.0</td>\n",
       "      <td>26.0</td>\n",
       "      <td>40.0</td>\n",
       "      <td>6.0</td>\n",
       "      <td>NaN</td>\n",
       "      <td>NaN</td>\n",
       "      <td>NaN</td>\n",
       "      <td>NaN</td>\n",
       "      <td>NaN</td>\n",
       "    </tr>\n",
       "    <tr>\n",
       "      <th>NV AMD</th>\n",
       "      <td>4.0</td>\n",
       "      <td>2.0</td>\n",
       "      <td>NaN</td>\n",
       "      <td>14.0</td>\n",
       "      <td>4.0</td>\n",
       "      <td>4.0</td>\n",
       "      <td>NaN</td>\n",
       "      <td>14.0</td>\n",
       "      <td>NaN</td>\n",
       "      <td>22.0</td>\n",
       "    </tr>\n",
       "    <tr>\n",
       "      <th>Other non-control phenotype</th>\n",
       "      <td>2046.0</td>\n",
       "      <td>1135.0</td>\n",
       "      <td>306.0</td>\n",
       "      <td>345.0</td>\n",
       "      <td>38.0</td>\n",
       "      <td>10.0</td>\n",
       "      <td>2.0</td>\n",
       "      <td>26.0</td>\n",
       "      <td>4.0</td>\n",
       "      <td>NaN</td>\n",
       "    </tr>\n",
       "    <tr>\n",
       "      <th>Questionable AMD</th>\n",
       "      <td>78.0</td>\n",
       "      <td>34.0</td>\n",
       "      <td>10.0</td>\n",
       "      <td>16.0</td>\n",
       "      <td>6.0</td>\n",
       "      <td>8.0</td>\n",
       "      <td>NaN</td>\n",
       "      <td>NaN</td>\n",
       "      <td>NaN</td>\n",
       "      <td>NaN</td>\n",
       "    </tr>\n",
       "  </tbody>\n",
       "</table>\n",
       "</div>"
      ],
      "text/plain": [
       "SevScore                       1.0     2.0    3.0    4.0    5.0   6.0   7.0   \\\n",
       "Final_AMD_Phenotype                                                            \n",
       "GA (Geographic Atrophy)        50.0     8.0    8.0   18.0   14.0   2.0  12.0   \n",
       "Large Drusen                  234.0   222.0  154.0  260.0  106.0  76.0  38.0   \n",
       "Large Drusen Questionable 1   186.0   176.0   76.0  112.0   42.0  10.0   2.0   \n",
       "Large Drusen Questionable 2    96.0    92.0   24.0   26.0   18.0   4.0   2.0   \n",
       "Large Drusen Questionable 3   218.0   140.0   26.0   40.0    6.0   NaN   NaN   \n",
       "NV AMD                          4.0     2.0    NaN   14.0    4.0   4.0   NaN   \n",
       "Other non-control phenotype  2046.0  1135.0  306.0  345.0   38.0  10.0   2.0   \n",
       "Questionable AMD               78.0    34.0   10.0   16.0    6.0   8.0   NaN   \n",
       "\n",
       "SevScore                     8.0   9.0   11.0  \n",
       "Final_AMD_Phenotype                            \n",
       "GA (Geographic Atrophy)       8.0   2.0   NaN  \n",
       "Large Drusen                 56.0   2.0   NaN  \n",
       "Large Drusen Questionable 1  12.0   NaN   NaN  \n",
       "Large Drusen Questionable 2   2.0   NaN   NaN  \n",
       "Large Drusen Questionable 3   NaN   NaN   NaN  \n",
       "NV AMD                       14.0   NaN  22.0  \n",
       "Other non-control phenotype  26.0   4.0   NaN  \n",
       "Questionable AMD              NaN   NaN   NaN  "
      ]
     },
     "execution_count": 194,
     "metadata": {},
     "output_type": "execute_result"
    }
   ],
   "source": [
    "pd.pivot_table( case_p_2, index='Final_AMD_Phenotype', columns='SevScore', values='Patid', aggfunc='count' )"
   ]
  },
  {
   "cell_type": "code",
   "execution_count": 195,
   "metadata": {
    "collapsed": true
   },
   "outputs": [],
   "source": [
    "case_t_2 = merged.loc[ (merged.Baseline_AMD_Category == '2')\n",
    "                         & (merged.Final_AMD_Phenotype_Group != 'Control') \n",
    "                         #& (merged.Final_Cataract_Phenotype == 'Absent')\n",
    "                         & (merged.Treatment == 'Antiox') ]"
   ]
  },
  {
   "cell_type": "code",
   "execution_count": 196,
   "metadata": {},
   "outputs": [
    {
     "data": {
      "text/plain": [
       "6634"
      ]
     },
     "execution_count": 196,
     "metadata": {},
     "output_type": "execute_result"
    }
   ],
   "source": [
    "len( case_t_2)"
   ]
  },
  {
   "cell_type": "code",
   "execution_count": 197,
   "metadata": {},
   "outputs": [
    {
     "data": {
      "text/html": [
       "<div>\n",
       "<style>\n",
       "    .dataframe thead tr:only-child th {\n",
       "        text-align: right;\n",
       "    }\n",
       "\n",
       "    .dataframe thead th {\n",
       "        text-align: left;\n",
       "    }\n",
       "\n",
       "    .dataframe tbody tr th {\n",
       "        vertical-align: top;\n",
       "    }\n",
       "</style>\n",
       "<table border=\"1\" class=\"dataframe\">\n",
       "  <thead>\n",
       "    <tr style=\"text-align: right;\">\n",
       "      <th>SevScore</th>\n",
       "      <th>1.0</th>\n",
       "      <th>2.0</th>\n",
       "      <th>3.0</th>\n",
       "      <th>4.0</th>\n",
       "      <th>5.0</th>\n",
       "      <th>6.0</th>\n",
       "      <th>7.0</th>\n",
       "      <th>8.0</th>\n",
       "      <th>9.0</th>\n",
       "      <th>10.0</th>\n",
       "      <th>11.0</th>\n",
       "      <th>12.0</th>\n",
       "    </tr>\n",
       "    <tr>\n",
       "      <th>Final_AMD_Phenotype</th>\n",
       "      <th></th>\n",
       "      <th></th>\n",
       "      <th></th>\n",
       "      <th></th>\n",
       "      <th></th>\n",
       "      <th></th>\n",
       "      <th></th>\n",
       "      <th></th>\n",
       "      <th></th>\n",
       "      <th></th>\n",
       "      <th></th>\n",
       "      <th></th>\n",
       "    </tr>\n",
       "  </thead>\n",
       "  <tbody>\n",
       "    <tr>\n",
       "      <th>Both NV AMD and GA</th>\n",
       "      <td>NaN</td>\n",
       "      <td>8.0</td>\n",
       "      <td>NaN</td>\n",
       "      <td>12.0</td>\n",
       "      <td>2.0</td>\n",
       "      <td>2.0</td>\n",
       "      <td>NaN</td>\n",
       "      <td>2.0</td>\n",
       "      <td>4.0</td>\n",
       "      <td>2.0</td>\n",
       "      <td>12.0</td>\n",
       "      <td>NaN</td>\n",
       "    </tr>\n",
       "    <tr>\n",
       "      <th>Large Drusen</th>\n",
       "      <td>302.0</td>\n",
       "      <td>338.0</td>\n",
       "      <td>172.0</td>\n",
       "      <td>254.0</td>\n",
       "      <td>106.0</td>\n",
       "      <td>168.0</td>\n",
       "      <td>30.0</td>\n",
       "      <td>62.0</td>\n",
       "      <td>2.0</td>\n",
       "      <td>NaN</td>\n",
       "      <td>NaN</td>\n",
       "      <td>NaN</td>\n",
       "    </tr>\n",
       "    <tr>\n",
       "      <th>Large Drusen Questionable 1</th>\n",
       "      <td>102.0</td>\n",
       "      <td>158.0</td>\n",
       "      <td>66.0</td>\n",
       "      <td>138.0</td>\n",
       "      <td>36.0</td>\n",
       "      <td>6.0</td>\n",
       "      <td>NaN</td>\n",
       "      <td>18.0</td>\n",
       "      <td>NaN</td>\n",
       "      <td>NaN</td>\n",
       "      <td>NaN</td>\n",
       "      <td>NaN</td>\n",
       "    </tr>\n",
       "    <tr>\n",
       "      <th>Large Drusen Questionable 2</th>\n",
       "      <td>100.0</td>\n",
       "      <td>54.0</td>\n",
       "      <td>40.0</td>\n",
       "      <td>24.0</td>\n",
       "      <td>6.0</td>\n",
       "      <td>4.0</td>\n",
       "      <td>NaN</td>\n",
       "      <td>NaN</td>\n",
       "      <td>NaN</td>\n",
       "      <td>NaN</td>\n",
       "      <td>NaN</td>\n",
       "      <td>NaN</td>\n",
       "    </tr>\n",
       "    <tr>\n",
       "      <th>Large Drusen Questionable 3</th>\n",
       "      <td>290.0</td>\n",
       "      <td>168.0</td>\n",
       "      <td>84.0</td>\n",
       "      <td>104.0</td>\n",
       "      <td>14.0</td>\n",
       "      <td>6.0</td>\n",
       "      <td>2.0</td>\n",
       "      <td>12.0</td>\n",
       "      <td>NaN</td>\n",
       "      <td>NaN</td>\n",
       "      <td>NaN</td>\n",
       "      <td>NaN</td>\n",
       "    </tr>\n",
       "    <tr>\n",
       "      <th>NV AMD</th>\n",
       "      <td>NaN</td>\n",
       "      <td>NaN</td>\n",
       "      <td>NaN</td>\n",
       "      <td>2.0</td>\n",
       "      <td>2.0</td>\n",
       "      <td>2.0</td>\n",
       "      <td>NaN</td>\n",
       "      <td>2.0</td>\n",
       "      <td>NaN</td>\n",
       "      <td>NaN</td>\n",
       "      <td>24.0</td>\n",
       "      <td>2.0</td>\n",
       "    </tr>\n",
       "    <tr>\n",
       "      <th>Other non-control phenotype</th>\n",
       "      <td>1866.0</td>\n",
       "      <td>1070.0</td>\n",
       "      <td>300.0</td>\n",
       "      <td>336.0</td>\n",
       "      <td>52.0</td>\n",
       "      <td>18.0</td>\n",
       "      <td>4.0</td>\n",
       "      <td>16.0</td>\n",
       "      <td>NaN</td>\n",
       "      <td>NaN</td>\n",
       "      <td>NaN</td>\n",
       "      <td>NaN</td>\n",
       "    </tr>\n",
       "    <tr>\n",
       "      <th>Questionable AMD</th>\n",
       "      <td>10.0</td>\n",
       "      <td>10.0</td>\n",
       "      <td>4.0</td>\n",
       "      <td>NaN</td>\n",
       "      <td>2.0</td>\n",
       "      <td>NaN</td>\n",
       "      <td>NaN</td>\n",
       "      <td>2.0</td>\n",
       "      <td>NaN</td>\n",
       "      <td>NaN</td>\n",
       "      <td>NaN</td>\n",
       "      <td>NaN</td>\n",
       "    </tr>\n",
       "  </tbody>\n",
       "</table>\n",
       "</div>"
      ],
      "text/plain": [
       "SevScore                       1.0     2.0    3.0    4.0    5.0    6.0   7.0   \\\n",
       "Final_AMD_Phenotype                                                             \n",
       "Both NV AMD and GA              NaN     8.0    NaN   12.0    2.0    2.0   NaN   \n",
       "Large Drusen                  302.0   338.0  172.0  254.0  106.0  168.0  30.0   \n",
       "Large Drusen Questionable 1   102.0   158.0   66.0  138.0   36.0    6.0   NaN   \n",
       "Large Drusen Questionable 2   100.0    54.0   40.0   24.0    6.0    4.0   NaN   \n",
       "Large Drusen Questionable 3   290.0   168.0   84.0  104.0   14.0    6.0   2.0   \n",
       "NV AMD                          NaN     NaN    NaN    2.0    2.0    2.0   NaN   \n",
       "Other non-control phenotype  1866.0  1070.0  300.0  336.0   52.0   18.0   4.0   \n",
       "Questionable AMD               10.0    10.0    4.0    NaN    2.0    NaN   NaN   \n",
       "\n",
       "SevScore                     8.0   9.0   10.0  11.0  12.0  \n",
       "Final_AMD_Phenotype                                        \n",
       "Both NV AMD and GA            2.0   4.0   2.0  12.0   NaN  \n",
       "Large Drusen                 62.0   2.0   NaN   NaN   NaN  \n",
       "Large Drusen Questionable 1  18.0   NaN   NaN   NaN   NaN  \n",
       "Large Drusen Questionable 2   NaN   NaN   NaN   NaN   NaN  \n",
       "Large Drusen Questionable 3  12.0   NaN   NaN   NaN   NaN  \n",
       "NV AMD                        2.0   NaN   NaN  24.0   2.0  \n",
       "Other non-control phenotype  16.0   NaN   NaN   NaN   NaN  \n",
       "Questionable AMD              2.0   NaN   NaN   NaN   NaN  "
      ]
     },
     "execution_count": 197,
     "metadata": {},
     "output_type": "execute_result"
    }
   ],
   "source": [
    "pd.pivot_table( case_t_2, index='Final_AMD_Phenotype', columns='SevScore', values='Patid', aggfunc='count' )"
   ]
  }
 ],
 "metadata": {
  "kernelspec": {
   "display_name": "Python 2",
   "language": "python",
   "name": "python2"
  },
  "language_info": {
   "codemirror_mode": {
    "name": "ipython",
    "version": 3
   },
   "file_extension": ".py",
   "mimetype": "text/x-python",
   "name": "python",
   "nbconvert_exporter": "python",
   "pygments_lexer": "ipython3",
   "version": "3.6.1"
  }
 },
 "nbformat": 4,
 "nbformat_minor": 2
}
