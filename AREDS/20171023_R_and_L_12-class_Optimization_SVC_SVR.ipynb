{
 "cells": [
  {
   "cell_type": "markdown",
   "metadata": {},
   "source": [
    "# Load packages"
   ]
  },
  {
   "cell_type": "code",
   "execution_count": 1,
   "metadata": {
    "ExecuteTime": {
     "end_time": "2017-10-23T19:11:45.181187Z",
     "start_time": "2017-10-23T19:11:43.993627Z"
    }
   },
   "outputs": [],
   "source": [
    "%matplotlib inline\n",
    "import matplotlib.pyplot as plt\n",
    "import pandas as pd\n",
    "import numpy as np\n",
    "import seaborn as sns\n",
    "from collections import Counter"
   ]
  },
  {
   "cell_type": "markdown",
   "metadata": {},
   "source": [
    "# Load raw data"
   ]
  },
  {
   "cell_type": "code",
   "execution_count": 2,
   "metadata": {
    "ExecuteTime": {
     "end_time": "2017-10-23T19:11:46.707960Z",
     "start_time": "2017-10-23T19:11:46.705381Z"
    }
   },
   "outputs": [],
   "source": [
    "prefix = 'right_eye_new_severity_CLEANED_WITH_11_12_maybe'"
   ]
  },
  {
   "cell_type": "code",
   "execution_count": 3,
   "metadata": {
    "ExecuteTime": {
     "end_time": "2017-10-23T19:11:46.915111Z",
     "start_time": "2017-10-23T19:11:46.908896Z"
    }
   },
   "outputs": [],
   "source": [
    "feature_names = [ line.rstrip('\\n') for line in open( prefix + '_feature_names.txt' )]"
   ]
  },
  {
   "cell_type": "code",
   "execution_count": 4,
   "metadata": {
    "ExecuteTime": {
     "end_time": "2017-10-23T19:11:50.980442Z",
     "start_time": "2017-10-23T19:11:47.092440Z"
    }
   },
   "outputs": [],
   "source": [
    "raw = pd.DataFrame( columns=feature_names, data=np.load( prefix + '_data.npy' ) )\n",
    "raw['side'] = [1]* len(raw)\n",
    "n_samples, n_features = raw.shape\n",
    "raw['group'] = [ int(i) for i in range( int(n_samples/8) ) for j in range( 8 ) ]\n",
    "raw['actual'] = [ int(line.rstrip('\\n')) for line in open( prefix + '_values.txt' )]\n",
    "averagedr = pd.concat( [ g.mean(axis=0) for n, g in raw.groupby( 'group' ) ], \n",
    "                     axis=1, ignore_index=True).T\n",
    "averagedr.drop('group', axis=1, inplace=True)"
   ]
  },
  {
   "cell_type": "code",
   "execution_count": 5,
   "metadata": {
    "ExecuteTime": {
     "end_time": "2017-10-23T19:11:50.989200Z",
     "start_time": "2017-10-23T19:11:50.982022Z"
    }
   },
   "outputs": [
    {
     "data": {
      "text/plain": [
       "10.0    645\n",
       "8.0     325\n",
       "7.0     325\n",
       "5.0     325\n",
       "4.0     325\n",
       "3.0     325\n",
       "2.0     325\n",
       "1.0     325\n",
       "6.0     324\n",
       "9.0     192\n",
       "Name: actual, dtype: int64"
      ]
     },
     "execution_count": 5,
     "metadata": {},
     "output_type": "execute_result"
    }
   ],
   "source": [
    "averagedr.actual.value_counts()"
   ]
  },
  {
   "cell_type": "code",
   "execution_count": 6,
   "metadata": {
    "ExecuteTime": {
     "end_time": "2017-10-23T19:11:51.004421Z",
     "start_time": "2017-10-23T19:11:50.990660Z"
    }
   },
   "outputs": [],
   "source": [
    "sample_names = [ line.rstrip('\\n') for line in open( prefix + '_sample_names.txt' )]"
   ]
  },
  {
   "cell_type": "code",
   "execution_count": 7,
   "metadata": {
    "ExecuteTime": {
     "end_time": "2017-10-23T19:11:51.014113Z",
     "start_time": "2017-10-23T19:11:51.005724Z"
    }
   },
   "outputs": [],
   "source": [
    "group_names = [ _.split('/')[2].rsplit('-', 1)[0] + '-LS.tiff' for i, _ in enumerate(sample_names) if i % 8 == 0 ]"
   ]
  },
  {
   "cell_type": "code",
   "execution_count": 8,
   "metadata": {
    "ExecuteTime": {
     "end_time": "2017-10-23T19:11:51.018819Z",
     "start_time": "2017-10-23T19:11:51.015589Z"
    }
   },
   "outputs": [],
   "source": [
    "averagedr['converted_file_name'] = group_names"
   ]
  },
  {
   "cell_type": "code",
   "execution_count": 9,
   "metadata": {
    "ExecuteTime": {
     "end_time": "2017-10-23T19:11:51.022587Z",
     "start_time": "2017-10-23T19:11:51.020319Z"
    }
   },
   "outputs": [],
   "source": [
    "prefix = 'left_eye_new_severity_CLEANED_WITH_11_12'"
   ]
  },
  {
   "cell_type": "code",
   "execution_count": 10,
   "metadata": {
    "ExecuteTime": {
     "end_time": "2017-10-23T19:11:51.029115Z",
     "start_time": "2017-10-23T19:11:51.024165Z"
    }
   },
   "outputs": [],
   "source": [
    "feature_names = [ line.rstrip('\\n') for line in open( prefix + '_feature_names.txt' )]"
   ]
  },
  {
   "cell_type": "code",
   "execution_count": 11,
   "metadata": {
    "ExecuteTime": {
     "end_time": "2017-10-23T19:11:54.994690Z",
     "start_time": "2017-10-23T19:11:51.031146Z"
    }
   },
   "outputs": [],
   "source": [
    "raw = pd.DataFrame( columns=feature_names, data=np.load( prefix + '_data.npy' ) )\n",
    "raw['side'] = [1]* len(raw)\n",
    "n_samples, n_features = raw.shape\n",
    "raw['group'] = [ int(i) for i in range( int(n_samples/8) ) for j in range( 8 ) ]\n",
    "raw['actual'] = [ int(line.rstrip('\\n')) for line in open( prefix + '_values.txt' )]\n",
    "averagedl = pd.concat( [ g.mean(axis=0) for n, g in raw.groupby( 'group' ) ], \n",
    "                     axis=1, ignore_index=True).T\n",
    "averagedl.drop('group', axis=1, inplace=True)"
   ]
  },
  {
   "cell_type": "code",
   "execution_count": 12,
   "metadata": {
    "ExecuteTime": {
     "end_time": "2017-10-23T19:11:55.002729Z",
     "start_time": "2017-10-23T19:11:54.996427Z"
    }
   },
   "outputs": [
    {
     "data": {
      "text/plain": [
       "8.0     325\n",
       "7.0     325\n",
       "5.0     325\n",
       "3.0     325\n",
       "1.0     325\n",
       "6.0     324\n",
       "2.0     323\n",
       "11.0    312\n",
       "4.0     296\n",
       "9.0     270\n",
       "12.0    136\n",
       "10.0    119\n",
       "Name: actual, dtype: int64"
      ]
     },
     "execution_count": 12,
     "metadata": {},
     "output_type": "execute_result"
    }
   ],
   "source": [
    "averagedl.actual.value_counts()"
   ]
  },
  {
   "cell_type": "code",
   "execution_count": 13,
   "metadata": {
    "ExecuteTime": {
     "end_time": "2017-10-23T19:11:55.018569Z",
     "start_time": "2017-10-23T19:11:55.004373Z"
    }
   },
   "outputs": [],
   "source": [
    "sample_names = [ line.rstrip('\\n') for line in open( prefix + '_sample_names.txt' )]"
   ]
  },
  {
   "cell_type": "code",
   "execution_count": 14,
   "metadata": {
    "ExecuteTime": {
     "end_time": "2017-10-23T19:11:55.029140Z",
     "start_time": "2017-10-23T19:11:55.020118Z"
    }
   },
   "outputs": [],
   "source": [
    "group_names = [ _.split('/')[2].rsplit('-', 1)[0] + '-LS.tiff' for i, _ in enumerate(sample_names) if i % 8 == 0 ]"
   ]
  },
  {
   "cell_type": "code",
   "execution_count": 15,
   "metadata": {
    "ExecuteTime": {
     "end_time": "2017-10-23T19:11:55.033984Z",
     "start_time": "2017-10-23T19:11:55.030801Z"
    }
   },
   "outputs": [],
   "source": [
    "averagedl['converted_file_name'] = group_names"
   ]
  },
  {
   "cell_type": "code",
   "execution_count": 16,
   "metadata": {
    "ExecuteTime": {
     "end_time": "2017-10-23T19:11:55.039007Z",
     "start_time": "2017-10-23T19:11:55.035426Z"
    }
   },
   "outputs": [
    {
     "data": {
      "text/plain": [
       "(3405, 3622)"
      ]
     },
     "execution_count": 16,
     "metadata": {},
     "output_type": "execute_result"
    }
   ],
   "source": [
    "averagedl.shape"
   ]
  },
  {
   "cell_type": "code",
   "execution_count": 17,
   "metadata": {
    "ExecuteTime": {
     "end_time": "2017-10-23T19:11:55.045107Z",
     "start_time": "2017-10-23T19:11:55.040865Z"
    }
   },
   "outputs": [
    {
     "data": {
      "text/plain": [
       "(3436, 3622)"
      ]
     },
     "execution_count": 17,
     "metadata": {},
     "output_type": "execute_result"
    }
   ],
   "source": [
    "averagedr.shape"
   ]
  },
  {
   "cell_type": "code",
   "execution_count": 18,
   "metadata": {
    "ExecuteTime": {
     "end_time": "2017-10-23T19:11:55.207035Z",
     "start_time": "2017-10-23T19:11:55.047678Z"
    }
   },
   "outputs": [],
   "source": [
    "averaged = pd.concat( ( averagedl, averagedr), axis=0 )"
   ]
  },
  {
   "cell_type": "code",
   "execution_count": 19,
   "metadata": {
    "ExecuteTime": {
     "end_time": "2017-10-23T19:11:55.212463Z",
     "start_time": "2017-10-23T19:11:55.209027Z"
    }
   },
   "outputs": [
    {
     "data": {
      "text/plain": [
       "(6841, 3622)"
      ]
     },
     "execution_count": 19,
     "metadata": {},
     "output_type": "execute_result"
    }
   ],
   "source": [
    "averaged.shape"
   ]
  },
  {
   "cell_type": "code",
   "execution_count": 20,
   "metadata": {
    "ExecuteTime": {
     "end_time": "2017-10-23T19:11:55.728783Z",
     "start_time": "2017-10-23T19:11:55.214668Z"
    }
   },
   "outputs": [],
   "source": [
    "trait_db = pd.read_csv( '20170830_AREDS_DB.csv', index_col=0)"
   ]
  },
  {
   "cell_type": "markdown",
   "metadata": {},
   "source": [
    "## Merge on converted file_name"
   ]
  },
  {
   "cell_type": "code",
   "execution_count": 21,
   "metadata": {
    "ExecuteTime": {
     "end_time": "2017-10-23T19:11:55.774782Z",
     "start_time": "2017-10-23T19:11:55.731064Z"
    }
   },
   "outputs": [],
   "source": [
    "trait_db = trait_db[ trait_db.SideLR == 'LS' ].copy()"
   ]
  },
  {
   "cell_type": "code",
   "execution_count": 22,
   "metadata": {
    "ExecuteTime": {
     "end_time": "2017-10-23T19:11:55.789409Z",
     "start_time": "2017-10-23T19:11:55.777488Z"
    }
   },
   "outputs": [],
   "source": [
    "trait_db.drop( 'SideLR', axis=1, inplace=True)"
   ]
  },
  {
   "cell_type": "code",
   "execution_count": 23,
   "metadata": {
    "ExecuteTime": {
     "end_time": "2017-10-23T19:11:56.020834Z",
     "start_time": "2017-10-23T19:11:56.000109Z"
    }
   },
   "outputs": [
    {
     "data": {
      "text/html": [
       "<div>\n",
       "<style>\n",
       "    .dataframe thead tr:only-child th {\n",
       "        text-align: right;\n",
       "    }\n",
       "\n",
       "    .dataframe thead th {\n",
       "        text-align: left;\n",
       "    }\n",
       "\n",
       "    .dataframe tbody tr th {\n",
       "        vertical-align: top;\n",
       "    }\n",
       "</style>\n",
       "<table border=\"1\" class=\"dataframe\">\n",
       "  <thead>\n",
       "    <tr style=\"text-align: right;\">\n",
       "      <th></th>\n",
       "      <th>Patid</th>\n",
       "      <th>Areds_subject_id</th>\n",
       "      <th>converted_file_name</th>\n",
       "      <th>Baseline_AMD_Category</th>\n",
       "      <th>Final_AMD_Phenotype_Group</th>\n",
       "      <th>Final_AMD_Phenotype</th>\n",
       "      <th>Final_Cataract_Phenotype</th>\n",
       "      <th>Study_Visit_Year</th>\n",
       "      <th>Treatment</th>\n",
       "      <th>age_baseline</th>\n",
       "      <th>male</th>\n",
       "      <th>white</th>\n",
       "      <th>Visit</th>\n",
       "      <th>EyeLR</th>\n",
       "      <th>SevScore</th>\n",
       "      <th>SimpleSev</th>\n",
       "      <th>age</th>\n",
       "    </tr>\n",
       "  </thead>\n",
       "  <tbody>\n",
       "    <tr>\n",
       "      <th>0</th>\n",
       "      <td>51003</td>\n",
       "      <td>1890</td>\n",
       "      <td>51003-04-F2-LE-LS.tiff</td>\n",
       "      <td>2</td>\n",
       "      <td>Other</td>\n",
       "      <td>Large Drusen Questionable 1</td>\n",
       "      <td>Nuclear/Cortical</td>\n",
       "      <td>2.0</td>\n",
       "      <td>Placebo</td>\n",
       "      <td>72.484932</td>\n",
       "      <td>0</td>\n",
       "      <td>1</td>\n",
       "      <td>4</td>\n",
       "      <td>LE</td>\n",
       "      <td>2.0</td>\n",
       "      <td>1.0</td>\n",
       "      <td>74.484932</td>\n",
       "    </tr>\n",
       "    <tr>\n",
       "      <th>2</th>\n",
       "      <td>51003</td>\n",
       "      <td>1890</td>\n",
       "      <td>51003-04-F2-RE-LS.tiff</td>\n",
       "      <td>2</td>\n",
       "      <td>Other</td>\n",
       "      <td>Large Drusen Questionable 1</td>\n",
       "      <td>Nuclear/Cortical</td>\n",
       "      <td>2.0</td>\n",
       "      <td>Placebo</td>\n",
       "      <td>72.484932</td>\n",
       "      <td>0</td>\n",
       "      <td>1</td>\n",
       "      <td>4</td>\n",
       "      <td>RE</td>\n",
       "      <td>2.0</td>\n",
       "      <td>1.0</td>\n",
       "      <td>74.484932</td>\n",
       "    </tr>\n",
       "    <tr>\n",
       "      <th>4</th>\n",
       "      <td>51003</td>\n",
       "      <td>1890</td>\n",
       "      <td>51003-06-F2-LE-LS.tiff</td>\n",
       "      <td>2</td>\n",
       "      <td>Other</td>\n",
       "      <td>Large Drusen Questionable 1</td>\n",
       "      <td>Nuclear/Cortical</td>\n",
       "      <td>3.0</td>\n",
       "      <td>Placebo</td>\n",
       "      <td>72.484932</td>\n",
       "      <td>0</td>\n",
       "      <td>1</td>\n",
       "      <td>6</td>\n",
       "      <td>LE</td>\n",
       "      <td>2.0</td>\n",
       "      <td>1.0</td>\n",
       "      <td>75.484932</td>\n",
       "    </tr>\n",
       "    <tr>\n",
       "      <th>6</th>\n",
       "      <td>51003</td>\n",
       "      <td>1890</td>\n",
       "      <td>51003-06-F2-RE-LS.tiff</td>\n",
       "      <td>2</td>\n",
       "      <td>Other</td>\n",
       "      <td>Large Drusen Questionable 1</td>\n",
       "      <td>Nuclear/Cortical</td>\n",
       "      <td>3.0</td>\n",
       "      <td>Placebo</td>\n",
       "      <td>72.484932</td>\n",
       "      <td>0</td>\n",
       "      <td>1</td>\n",
       "      <td>6</td>\n",
       "      <td>RE</td>\n",
       "      <td>1.0</td>\n",
       "      <td>1.0</td>\n",
       "      <td>75.484932</td>\n",
       "    </tr>\n",
       "    <tr>\n",
       "      <th>8</th>\n",
       "      <td>51003</td>\n",
       "      <td>1890</td>\n",
       "      <td>51003-08-F2-LE-LS.tiff</td>\n",
       "      <td>2</td>\n",
       "      <td>Other</td>\n",
       "      <td>Large Drusen Questionable 1</td>\n",
       "      <td>Nuclear/Cortical</td>\n",
       "      <td>4.0</td>\n",
       "      <td>Placebo</td>\n",
       "      <td>72.484932</td>\n",
       "      <td>0</td>\n",
       "      <td>1</td>\n",
       "      <td>8</td>\n",
       "      <td>LE</td>\n",
       "      <td>3.0</td>\n",
       "      <td>1.0</td>\n",
       "      <td>76.484932</td>\n",
       "    </tr>\n",
       "  </tbody>\n",
       "</table>\n",
       "</div>"
      ],
      "text/plain": [
       "   Patid Areds_subject_id     converted_file_name Baseline_AMD_Category  \\\n",
       "0  51003             1890  51003-04-F2-LE-LS.tiff                     2   \n",
       "2  51003             1890  51003-04-F2-RE-LS.tiff                     2   \n",
       "4  51003             1890  51003-06-F2-LE-LS.tiff                     2   \n",
       "6  51003             1890  51003-06-F2-RE-LS.tiff                     2   \n",
       "8  51003             1890  51003-08-F2-LE-LS.tiff                     2   \n",
       "\n",
       "  Final_AMD_Phenotype_Group          Final_AMD_Phenotype  \\\n",
       "0                     Other  Large Drusen Questionable 1   \n",
       "2                     Other  Large Drusen Questionable 1   \n",
       "4                     Other  Large Drusen Questionable 1   \n",
       "6                     Other  Large Drusen Questionable 1   \n",
       "8                     Other  Large Drusen Questionable 1   \n",
       "\n",
       "  Final_Cataract_Phenotype  Study_Visit_Year Treatment  age_baseline  male  \\\n",
       "0         Nuclear/Cortical               2.0   Placebo     72.484932     0   \n",
       "2         Nuclear/Cortical               2.0   Placebo     72.484932     0   \n",
       "4         Nuclear/Cortical               3.0   Placebo     72.484932     0   \n",
       "6         Nuclear/Cortical               3.0   Placebo     72.484932     0   \n",
       "8         Nuclear/Cortical               4.0   Placebo     72.484932     0   \n",
       "\n",
       "   white  Visit EyeLR  SevScore  SimpleSev        age  \n",
       "0      1      4    LE       2.0        1.0  74.484932  \n",
       "2      1      4    RE       2.0        1.0  74.484932  \n",
       "4      1      6    LE       2.0        1.0  75.484932  \n",
       "6      1      6    RE       1.0        1.0  75.484932  \n",
       "8      1      8    LE       3.0        1.0  76.484932  "
      ]
     },
     "execution_count": 23,
     "metadata": {},
     "output_type": "execute_result"
    }
   ],
   "source": [
    "trait_db.head()"
   ]
  },
  {
   "cell_type": "code",
   "execution_count": 24,
   "metadata": {
    "ExecuteTime": {
     "end_time": "2017-10-23T19:11:57.491633Z",
     "start_time": "2017-10-23T19:11:57.486806Z"
    }
   },
   "outputs": [
    {
     "data": {
      "text/plain": [
       "['51034-QUA-F2-LE-LS.tiff',\n",
       " '51046-06-F2-LE-LS.tiff',\n",
       " '51054-QUA-F2-LE-LS.tiff',\n",
       " '51064-QUA-F2-LE-LS.tiff',\n",
       " '51074-QUA-F2-LE-LS.tiff']"
      ]
     },
     "execution_count": 24,
     "metadata": {},
     "output_type": "execute_result"
    }
   ],
   "source": [
    "group_names[:5]"
   ]
  },
  {
   "cell_type": "code",
   "execution_count": 25,
   "metadata": {
    "ExecuteTime": {
     "end_time": "2017-10-23T19:11:58.029948Z",
     "start_time": "2017-10-23T19:11:58.025168Z"
    }
   },
   "outputs": [
    {
     "data": {
      "text/plain": [
       "3405"
      ]
     },
     "execution_count": 25,
     "metadata": {},
     "output_type": "execute_result"
    }
   ],
   "source": [
    "len(group_names)"
   ]
  },
  {
   "cell_type": "code",
   "execution_count": 26,
   "metadata": {
    "ExecuteTime": {
     "end_time": "2017-10-23T19:11:58.230583Z",
     "start_time": "2017-10-23T19:11:58.226252Z"
    }
   },
   "outputs": [
    {
     "data": {
      "text/plain": [
       "6841"
      ]
     },
     "execution_count": 26,
     "metadata": {},
     "output_type": "execute_result"
    }
   ],
   "source": [
    "len(averaged)"
   ]
  },
  {
   "cell_type": "code",
   "execution_count": 27,
   "metadata": {
    "ExecuteTime": {
     "end_time": "2017-10-23T19:11:59.109789Z",
     "start_time": "2017-10-23T19:11:58.445026Z"
    }
   },
   "outputs": [],
   "source": [
    "averaged = averaged.merge( trait_db, how='inner', on='converted_file_name' )"
   ]
  },
  {
   "cell_type": "code",
   "execution_count": 28,
   "metadata": {
    "ExecuteTime": {
     "end_time": "2017-10-23T19:11:59.317772Z",
     "start_time": "2017-10-23T19:11:59.311843Z"
    }
   },
   "outputs": [
    {
     "data": {
      "text/plain": [
       "8.0     650\n",
       "5.0     650\n",
       "3.0     650\n",
       "1.0     650\n",
       "7.0     649\n",
       "6.0     647\n",
       "2.0     647\n",
       "11.0    634\n",
       "4.0     619\n",
       "9.0     459\n",
       "10.0    298\n",
       "12.0    278\n",
       "Name: SevScore, dtype: int64"
      ]
     },
     "execution_count": 28,
     "metadata": {},
     "output_type": "execute_result"
    }
   ],
   "source": [
    "averaged.SevScore.value_counts()"
   ]
  },
  {
   "cell_type": "code",
   "execution_count": 29,
   "metadata": {
    "ExecuteTime": {
     "end_time": "2017-10-23T19:11:59.732303Z",
     "start_time": "2017-10-23T19:11:59.727632Z"
    }
   },
   "outputs": [
    {
     "data": {
      "text/plain": [
       "Index(['Edge Features () [0]', 'Edge Features () [1]', 'Edge Features () [2]',\n",
       "       'Edge Features () [3]', 'Edge Features () [4]', 'Edge Features () [5]',\n",
       "       'Edge Features () [6]', 'Edge Features () [7]', 'Edge Features () [8]',\n",
       "       'Edge Features () [9]',\n",
       "       ...\n",
       "       'Fractal Features (Wavelet (Edge ())) [16]',\n",
       "       'Fractal Features (Wavelet (Edge ())) [17]',\n",
       "       'Fractal Features (Wavelet (Edge ())) [18]',\n",
       "       'Fractal Features (Wavelet (Edge ())) [19]',\n",
       "       'Pixel Intensity Statistics (Wavelet (Edge ())) [0]',\n",
       "       'Pixel Intensity Statistics (Wavelet (Edge ())) [1]',\n",
       "       'Pixel Intensity Statistics (Wavelet (Edge ())) [2]',\n",
       "       'Pixel Intensity Statistics (Wavelet (Edge ())) [3]',\n",
       "       'Pixel Intensity Statistics (Wavelet (Edge ())) [4]',\n",
       "       'Gini Coefficient (Wavelet (Edge ())) [0]'],\n",
       "      dtype='object', length=3619)"
      ]
     },
     "execution_count": 29,
     "metadata": {},
     "output_type": "execute_result"
    }
   ],
   "source": [
    "averaged.columns[:3619]"
   ]
  },
  {
   "cell_type": "code",
   "execution_count": 30,
   "metadata": {
    "ExecuteTime": {
     "end_time": "2017-10-23T19:12:01.613539Z",
     "start_time": "2017-10-23T19:12:01.607150Z"
    }
   },
   "outputs": [
    {
     "data": {
      "text/plain": [
       "8.0     650\n",
       "5.0     650\n",
       "3.0     650\n",
       "1.0     650\n",
       "7.0     649\n",
       "6.0     647\n",
       "2.0     647\n",
       "11.0    634\n",
       "4.0     619\n",
       "9.0     459\n",
       "10.0    298\n",
       "12.0    278\n",
       "Name: SevScore, dtype: int64"
      ]
     },
     "execution_count": 30,
     "metadata": {},
     "output_type": "execute_result"
    }
   ],
   "source": [
    "averaged.SevScore.value_counts()"
   ]
  },
  {
   "cell_type": "code",
   "execution_count": 31,
   "metadata": {
    "ExecuteTime": {
     "end_time": "2017-10-23T19:12:02.146983Z",
     "start_time": "2017-10-23T19:12:01.999097Z"
    }
   },
   "outputs": [],
   "source": [
    "X = averaged.iloc[:,:3619]\n",
    "Y = list(averaged.SevScore.astype(int))"
   ]
  },
  {
   "cell_type": "code",
   "execution_count": 32,
   "metadata": {
    "ExecuteTime": {
     "end_time": "2017-10-23T19:12:02.572122Z",
     "start_time": "2017-10-23T19:12:02.566900Z"
    }
   },
   "outputs": [
    {
     "data": {
      "text/plain": [
       "Counter({1: 650,\n",
       "         2: 647,\n",
       "         3: 650,\n",
       "         4: 619,\n",
       "         5: 650,\n",
       "         6: 647,\n",
       "         7: 649,\n",
       "         8: 650,\n",
       "         9: 459,\n",
       "         10: 298,\n",
       "         11: 634,\n",
       "         12: 278})"
      ]
     },
     "execution_count": 32,
     "metadata": {},
     "output_type": "execute_result"
    }
   ],
   "source": [
    "Counter(Y)"
   ]
  },
  {
   "cell_type": "code",
   "execution_count": 33,
   "metadata": {
    "ExecuteTime": {
     "end_time": "2017-10-23T19:12:07.784808Z",
     "start_time": "2017-10-23T19:12:07.782218Z"
    }
   },
   "outputs": [],
   "source": [
    "import time"
   ]
  },
  {
   "cell_type": "code",
   "execution_count": 34,
   "metadata": {
    "ExecuteTime": {
     "end_time": "2017-10-23T19:12:08.471876Z",
     "start_time": "2017-10-23T19:12:08.325696Z"
    }
   },
   "outputs": [],
   "source": [
    "from sklearn.model_selection import GridSearchCV\n",
    "from sklearn.svm import SVC\n",
    "from sklearn.model_selection import KFold\n",
    "from sklearn.pipeline import Pipeline\n",
    "from sklearn.preprocessing import StandardScaler"
   ]
  },
  {
   "cell_type": "markdown",
   "metadata": {},
   "source": [
    "# Support Vector Classifier"
   ]
  },
  {
   "cell_type": "code",
   "execution_count": 38,
   "metadata": {
    "ExecuteTime": {
     "end_time": "2017-10-23T19:12:45.753513Z",
     "start_time": "2017-10-23T19:12:45.749459Z"
    }
   },
   "outputs": [],
   "source": [
    "steps = []\n",
    "steps.append( ('standardize', StandardScaler() ) )\n",
    "steps.append( ('svc', SVC( class_weight='balanced') ) )\n",
    "svc_model = Pipeline( steps )"
   ]
  },
  {
   "cell_type": "code",
   "execution_count": 39,
   "metadata": {
    "ExecuteTime": {
     "end_time": "2017-10-23T19:12:46.518833Z",
     "start_time": "2017-10-23T19:12:46.516075Z"
    }
   },
   "outputs": [],
   "source": [
    "cv_strategy = KFold( n_splits=8, shuffle=True, random_state=42)"
   ]
  },
  {
   "cell_type": "code",
   "execution_count": 38,
   "metadata": {
    "ExecuteTime": {
     "end_time": "2017-10-13T19:35:05.746839Z",
     "start_time": "2017-10-13T19:35:05.742129Z"
    },
    "deletable": false,
    "editable": false,
    "run_control": {
     "frozen": true
    }
   },
   "outputs": [],
   "source": [
    "\n",
    "fine_grain_parameters = {'svc__C': [ 2**1, 2**1.5, 2**2, 2**2.5, 2**3, 2**3.5, 2**4.0, 2*4.5, 2*5 ],\n",
    "              'svc__gamma':[ 2**(-12), 2**(-11.5), 2**(-11), 2**(-10.5), 2**(-10), \n",
    "                            2**(-9.5), 2**(-9), 2**(-8.5), 2**(-8), 2**(-7.5)]}"
   ]
  },
  {
   "cell_type": "code",
   "execution_count": 39,
   "metadata": {
    "ExecuteTime": {
     "end_time": "2017-10-13T19:35:18.890372Z",
     "start_time": "2017-10-13T19:35:18.886678Z"
    },
    "deletable": false,
    "editable": false,
    "run_control": {
     "frozen": true
    }
   },
   "outputs": [],
   "source": [
    "scorers = ['accuracy', 'r2' ]\n",
    "grid_search_kwargs = \\\n",
    "{\n",
    "    'estimator' : svc_model,\n",
    "    'param_grid' : fine_grain_parameters,\n",
    "    \"scoring\" : scorers,\n",
    "    \"n_jobs\" : 16,\n",
    "    \"pre_dispatch\" : 16,\n",
    "    \"cv\" : cv_strategy,\n",
    "    \"refit\" : False\n",
    "}"
   ]
  },
  {
   "cell_type": "code",
   "execution_count": 40,
   "metadata": {
    "ExecuteTime": {
     "end_time": "2017-10-13T19:35:33.164889Z",
     "start_time": "2017-10-13T19:35:33.162303Z"
    },
    "deletable": false,
    "editable": false,
    "run_control": {
     "frozen": true
    }
   },
   "outputs": [],
   "source": [
    "clf = GridSearchCV( **grid_search_kwargs )"
   ]
  },
  {
   "cell_type": "code",
   "execution_count": null,
   "metadata": {
    "ExecuteTime": {
     "end_time": "2017-10-13T19:36:48.489329Z",
     "start_time": "2017-10-13T19:36:39.394734Z"
    },
    "deletable": false,
    "editable": false,
    "run_control": {
     "frozen": true
    }
   },
   "outputs": [],
   "source": [
    "t0 = time.time()\n",
    "clf.fit( X, Y)\n",
    "t1 = time.time()\n",
    "print( \"took {:0.1f}min\".format( (t2-t1)/60 ) )"
   ]
  },
  {
   "cell_type": "code",
   "execution_count": 44,
   "metadata": {
    "deletable": false,
    "editable": false,
    "run_control": {
     "frozen": true
    }
   },
   "outputs": [
    {
     "name": "stdout",
     "output_type": "stream",
     "text": [
      "accuracy 0.0873956960913 0.281803542673\n",
      "r2 -0.805511417653 0.390719217211\n"
     ]
    },
    {
     "data": {
      "image/png": "[encoded data removed]",
      "text/plain": [
       "<matplotlib.figure.Figure at 0x7ff2154d3f98>"
      ]
     },
     "metadata": {},
     "output_type": "display_data"
    }
   ],
   "source": [
    "sns.set_style(style='ticks')\n",
    "fig, axes = plt.subplots( nrows=2, ncols=1, figsize=(6,10), dpi=100, squeeze=True )\n",
    "\n",
    "col_labels = np.array( clf.cv_results_['param_svc__gamma'] ).reshape( (9,10) )[0]\n",
    "row_labels = np.array( clf.cv_results_['param_svc__C'] ).reshape( (9,10) )[:,0]\n",
    "for scorer_name, ax in zip( scorers, axes.flatten() ):\n",
    "    \n",
    "    key = 'mean_test_' + scorer_name\n",
    "    result = clf.cv_results_[ key ].copy().reshape( (9,10))\n",
    "    print( scorer_name, result.min(), result.max() )\n",
    "    mpl_im_obj = ax.imshow( result,  cmap=plt.cm.Blues, vmin=0, vmax=1)# interpolation='nearest',\n",
    "    ax.set_title( scorer_name )\n",
    "    ax.set_yticks( list( range( len( row_labels ) ) ) )\n",
    "    ax.set_xticks( list( range( len( col_labels ) ) ) )\n",
    "    ax.set_yticklabels( [ \"{:0.1g}\".format(_) for _ in row_labels ] )\n",
    "    ax.set_xticklabels( [ \"{:0.1g}\".format(_) for _ in col_labels ], rotation=-45)\n",
    "    ax.set_ylabel( 'C' )\n",
    "    ax.set_xlabel( 'gamma')\n",
    "fig.colorbar(mpl_im_obj, orientation='vertical' )\n",
    "fig.tight_layout()"
   ]
  },
  {
   "cell_type": "markdown",
   "metadata": {},
   "source": [
    "# Retrain SVC Classifier with best params"
   ]
  },
  {
   "cell_type": "code",
   "execution_count": 35,
   "metadata": {
    "ExecuteTime": {
     "end_time": "2017-10-23T19:12:28.968490Z",
     "start_time": "2017-10-23T19:12:28.965923Z"
    }
   },
   "outputs": [],
   "source": [
    "from sklearn.model_selection import cross_val_predict"
   ]
  },
  {
   "cell_type": "code",
   "execution_count": 36,
   "metadata": {
    "ExecuteTime": {
     "end_time": "2017-10-23T19:12:32.778957Z",
     "start_time": "2017-10-23T19:12:32.773906Z"
    }
   },
   "outputs": [],
   "source": [
    "steps = []\n",
    "steps.append( ('standardize', StandardScaler() ) )\n",
    "# ROC AUC curve metric requires probabilities\n",
    "steps.append( ('svc', SVC(C=4, gamma=2**(-12), class_weight='balanced') ) )\n",
    "svc_model = Pipeline( steps )"
   ]
  },
  {
   "cell_type": "code",
   "execution_count": 40,
   "metadata": {
    "ExecuteTime": {
     "end_time": "2017-10-23T19:22:20.016886Z",
     "start_time": "2017-10-23T19:12:51.833969Z"
    }
   },
   "outputs": [],
   "source": [
    "y_pred_svc = cross_val_predict( svc_model, X, Y, cv=cv_strategy, \n",
    "                              method='predict', n_jobs=8 )"
   ]
  },
  {
   "cell_type": "markdown",
   "metadata": {},
   "source": [
    "# Classifier Metrics\n",
    "## Confusion Matrix"
   ]
  },
  {
   "cell_type": "code",
   "execution_count": 41,
   "metadata": {
    "ExecuteTime": {
     "end_time": "2017-10-23T19:22:20.022557Z",
     "start_time": "2017-10-23T19:22:20.019457Z"
    }
   },
   "outputs": [],
   "source": [
    "from sklearn.metrics import confusion_matrix"
   ]
  },
  {
   "cell_type": "code",
   "execution_count": 42,
   "metadata": {
    "ExecuteTime": {
     "end_time": "2017-10-23T19:22:20.035216Z",
     "start_time": "2017-10-23T19:22:20.024478Z"
    }
   },
   "outputs": [],
   "source": [
    "cm = confusion_matrix( Y, y_pred_svc )"
   ]
  },
  {
   "cell_type": "code",
   "execution_count": 43,
   "metadata": {
    "ExecuteTime": {
     "end_time": "2017-10-23T19:22:20.040910Z",
     "start_time": "2017-10-23T19:22:20.036780Z"
    }
   },
   "outputs": [
    {
     "data": {
      "text/plain": [
       "array([[410,  57,  62,  62,  26,   6,   5,   4,   2,   0,  16,   0],\n",
       "       [221,  81, 145,  72,  62,  20,   4,  19,   6,   2,  13,   2],\n",
       "       [196,  59, 172,  65,  71,  33,   6,  23,   3,   1,  16,   5],\n",
       "       [178,  60, 109,  85,  84,  35,  12,  19,   6,   0,  21,  10],\n",
       "       [130,  45, 121,  72,  81,  68,  28,  59,   9,   4,  25,   8],\n",
       "       [ 84,  29,  91,  55,  85,  81,  77,  77,  31,   2,  27,   8],\n",
       "       [ 43,  14,  45,  23,  54,  91, 147, 121,  65,  10,  23,  13],\n",
       "       [ 32,  15,  38,  43,  61,  71,  71, 171,  89,  24,  22,  13],\n",
       "       [  7,   2,  15,  12,  21,  24,  57,  77, 133,  54,  32,  25],\n",
       "       [  3,   2,   3,   4,   6,   9,  25,  36,  67,  48,  45,  50],\n",
       "       [ 43,   2,  10,  13,  14,  23,  28,  30,  27,  16, 383,  45],\n",
       "       [  0,   0,   2,   3,   0,   5,  10,  19,  26,  28,  61, 124]])"
      ]
     },
     "execution_count": 43,
     "metadata": {},
     "output_type": "execute_result"
    }
   ],
   "source": [
    "cm"
   ]
  },
  {
   "cell_type": "code",
   "execution_count": 44,
   "metadata": {
    "ExecuteTime": {
     "end_time": "2017-10-23T19:22:20.045815Z",
     "start_time": "2017-10-23T19:22:20.042356Z"
    }
   },
   "outputs": [],
   "source": [
    "result = pd.DataFrame(data=cm)#.to_latex()"
   ]
  },
  {
   "cell_type": "code",
   "execution_count": 45,
   "metadata": {
    "ExecuteTime": {
     "end_time": "2017-10-23T19:22:20.051342Z",
     "start_time": "2017-10-23T19:22:20.047578Z"
    }
   },
   "outputs": [],
   "source": [
    "labels = ['1', '2', '3', '4', '5', '6', '7', '8', '9', 'CGA', 'NeoAMD', 'NeoAMD + CGA']"
   ]
  },
  {
   "cell_type": "code",
   "execution_count": 46,
   "metadata": {
    "ExecuteTime": {
     "end_time": "2017-10-23T19:22:20.055592Z",
     "start_time": "2017-10-23T19:22:20.052875Z"
    }
   },
   "outputs": [],
   "source": [
    "result.index = labels"
   ]
  },
  {
   "cell_type": "code",
   "execution_count": 47,
   "metadata": {
    "ExecuteTime": {
     "end_time": "2017-10-23T19:22:20.059469Z",
     "start_time": "2017-10-23T19:22:20.057034Z"
    }
   },
   "outputs": [],
   "source": [
    "result.columns = labels"
   ]
  },
  {
   "cell_type": "code",
   "execution_count": 48,
   "metadata": {
    "ExecuteTime": {
     "end_time": "2017-10-23T19:22:20.066209Z",
     "start_time": "2017-10-23T19:22:20.061019Z"
    }
   },
   "outputs": [],
   "source": [
    "result.loc[ 'Total', :] = result.sum(axis=0)"
   ]
  },
  {
   "cell_type": "code",
   "execution_count": 49,
   "metadata": {
    "ExecuteTime": {
     "end_time": "2017-10-23T19:22:20.072249Z",
     "start_time": "2017-10-23T19:22:20.067939Z"
    }
   },
   "outputs": [],
   "source": [
    "result.loc[:, 'Total'] = result.sum(axis=1)"
   ]
  },
  {
   "cell_type": "code",
   "execution_count": 50,
   "metadata": {
    "ExecuteTime": {
     "end_time": "2017-10-23T19:22:20.076771Z",
     "start_time": "2017-10-23T19:22:20.073714Z"
    }
   },
   "outputs": [],
   "source": [
    "result = result.astype(int)"
   ]
  },
  {
   "cell_type": "code",
   "execution_count": 51,
   "metadata": {
    "ExecuteTime": {
     "end_time": "2017-10-23T19:22:20.093534Z",
     "start_time": "2017-10-23T19:22:20.078412Z"
    }
   },
   "outputs": [
    {
     "data": {
      "text/html": [
       "<div>\n",
       "<style>\n",
       "    .dataframe thead tr:only-child th {\n",
       "        text-align: right;\n",
       "    }\n",
       "\n",
       "    .dataframe thead th {\n",
       "        text-align: left;\n",
       "    }\n",
       "\n",
       "    .dataframe tbody tr th {\n",
       "        vertical-align: top;\n",
       "    }\n",
       "</style>\n",
       "<table border=\"1\" class=\"dataframe\">\n",
       "  <thead>\n",
       "    <tr style=\"text-align: right;\">\n",
       "      <th></th>\n",
       "      <th>1</th>\n",
       "      <th>2</th>\n",
       "      <th>3</th>\n",
       "      <th>4</th>\n",
       "      <th>5</th>\n",
       "      <th>6</th>\n",
       "      <th>7</th>\n",
       "      <th>8</th>\n",
       "      <th>9</th>\n",
       "      <th>CGA</th>\n",
       "      <th>NeoAMD</th>\n",
       "      <th>NeoAMD + CGA</th>\n",
       "      <th>Total</th>\n",
       "    </tr>\n",
       "  </thead>\n",
       "  <tbody>\n",
       "    <tr>\n",
       "      <th>1</th>\n",
       "      <td>410</td>\n",
       "      <td>57</td>\n",
       "      <td>62</td>\n",
       "      <td>62</td>\n",
       "      <td>26</td>\n",
       "      <td>6</td>\n",
       "      <td>5</td>\n",
       "      <td>4</td>\n",
       "      <td>2</td>\n",
       "      <td>0</td>\n",
       "      <td>16</td>\n",
       "      <td>0</td>\n",
       "      <td>650</td>\n",
       "    </tr>\n",
       "    <tr>\n",
       "      <th>2</th>\n",
       "      <td>221</td>\n",
       "      <td>81</td>\n",
       "      <td>145</td>\n",
       "      <td>72</td>\n",
       "      <td>62</td>\n",
       "      <td>20</td>\n",
       "      <td>4</td>\n",
       "      <td>19</td>\n",
       "      <td>6</td>\n",
       "      <td>2</td>\n",
       "      <td>13</td>\n",
       "      <td>2</td>\n",
       "      <td>647</td>\n",
       "    </tr>\n",
       "    <tr>\n",
       "      <th>3</th>\n",
       "      <td>196</td>\n",
       "      <td>59</td>\n",
       "      <td>172</td>\n",
       "      <td>65</td>\n",
       "      <td>71</td>\n",
       "      <td>33</td>\n",
       "      <td>6</td>\n",
       "      <td>23</td>\n",
       "      <td>3</td>\n",
       "      <td>1</td>\n",
       "      <td>16</td>\n",
       "      <td>5</td>\n",
       "      <td>650</td>\n",
       "    </tr>\n",
       "    <tr>\n",
       "      <th>4</th>\n",
       "      <td>178</td>\n",
       "      <td>60</td>\n",
       "      <td>109</td>\n",
       "      <td>85</td>\n",
       "      <td>84</td>\n",
       "      <td>35</td>\n",
       "      <td>12</td>\n",
       "      <td>19</td>\n",
       "      <td>6</td>\n",
       "      <td>0</td>\n",
       "      <td>21</td>\n",
       "      <td>10</td>\n",
       "      <td>619</td>\n",
       "    </tr>\n",
       "    <tr>\n",
       "      <th>5</th>\n",
       "      <td>130</td>\n",
       "      <td>45</td>\n",
       "      <td>121</td>\n",
       "      <td>72</td>\n",
       "      <td>81</td>\n",
       "      <td>68</td>\n",
       "      <td>28</td>\n",
       "      <td>59</td>\n",
       "      <td>9</td>\n",
       "      <td>4</td>\n",
       "      <td>25</td>\n",
       "      <td>8</td>\n",
       "      <td>650</td>\n",
       "    </tr>\n",
       "    <tr>\n",
       "      <th>6</th>\n",
       "      <td>84</td>\n",
       "      <td>29</td>\n",
       "      <td>91</td>\n",
       "      <td>55</td>\n",
       "      <td>85</td>\n",
       "      <td>81</td>\n",
       "      <td>77</td>\n",
       "      <td>77</td>\n",
       "      <td>31</td>\n",
       "      <td>2</td>\n",
       "      <td>27</td>\n",
       "      <td>8</td>\n",
       "      <td>647</td>\n",
       "    </tr>\n",
       "    <tr>\n",
       "      <th>7</th>\n",
       "      <td>43</td>\n",
       "      <td>14</td>\n",
       "      <td>45</td>\n",
       "      <td>23</td>\n",
       "      <td>54</td>\n",
       "      <td>91</td>\n",
       "      <td>147</td>\n",
       "      <td>121</td>\n",
       "      <td>65</td>\n",
       "      <td>10</td>\n",
       "      <td>23</td>\n",
       "      <td>13</td>\n",
       "      <td>649</td>\n",
       "    </tr>\n",
       "    <tr>\n",
       "      <th>8</th>\n",
       "      <td>32</td>\n",
       "      <td>15</td>\n",
       "      <td>38</td>\n",
       "      <td>43</td>\n",
       "      <td>61</td>\n",
       "      <td>71</td>\n",
       "      <td>71</td>\n",
       "      <td>171</td>\n",
       "      <td>89</td>\n",
       "      <td>24</td>\n",
       "      <td>22</td>\n",
       "      <td>13</td>\n",
       "      <td>650</td>\n",
       "    </tr>\n",
       "    <tr>\n",
       "      <th>9</th>\n",
       "      <td>7</td>\n",
       "      <td>2</td>\n",
       "      <td>15</td>\n",
       "      <td>12</td>\n",
       "      <td>21</td>\n",
       "      <td>24</td>\n",
       "      <td>57</td>\n",
       "      <td>77</td>\n",
       "      <td>133</td>\n",
       "      <td>54</td>\n",
       "      <td>32</td>\n",
       "      <td>25</td>\n",
       "      <td>459</td>\n",
       "    </tr>\n",
       "    <tr>\n",
       "      <th>CGA</th>\n",
       "      <td>3</td>\n",
       "      <td>2</td>\n",
       "      <td>3</td>\n",
       "      <td>4</td>\n",
       "      <td>6</td>\n",
       "      <td>9</td>\n",
       "      <td>25</td>\n",
       "      <td>36</td>\n",
       "      <td>67</td>\n",
       "      <td>48</td>\n",
       "      <td>45</td>\n",
       "      <td>50</td>\n",
       "      <td>298</td>\n",
       "    </tr>\n",
       "    <tr>\n",
       "      <th>NeoAMD</th>\n",
       "      <td>43</td>\n",
       "      <td>2</td>\n",
       "      <td>10</td>\n",
       "      <td>13</td>\n",
       "      <td>14</td>\n",
       "      <td>23</td>\n",
       "      <td>28</td>\n",
       "      <td>30</td>\n",
       "      <td>27</td>\n",
       "      <td>16</td>\n",
       "      <td>383</td>\n",
       "      <td>45</td>\n",
       "      <td>634</td>\n",
       "    </tr>\n",
       "    <tr>\n",
       "      <th>NeoAMD + CGA</th>\n",
       "      <td>0</td>\n",
       "      <td>0</td>\n",
       "      <td>2</td>\n",
       "      <td>3</td>\n",
       "      <td>0</td>\n",
       "      <td>5</td>\n",
       "      <td>10</td>\n",
       "      <td>19</td>\n",
       "      <td>26</td>\n",
       "      <td>28</td>\n",
       "      <td>61</td>\n",
       "      <td>124</td>\n",
       "      <td>278</td>\n",
       "    </tr>\n",
       "    <tr>\n",
       "      <th>Total</th>\n",
       "      <td>1347</td>\n",
       "      <td>366</td>\n",
       "      <td>813</td>\n",
       "      <td>509</td>\n",
       "      <td>565</td>\n",
       "      <td>466</td>\n",
       "      <td>470</td>\n",
       "      <td>655</td>\n",
       "      <td>464</td>\n",
       "      <td>189</td>\n",
       "      <td>684</td>\n",
       "      <td>303</td>\n",
       "      <td>6831</td>\n",
       "    </tr>\n",
       "  </tbody>\n",
       "</table>\n",
       "</div>"
      ],
      "text/plain": [
       "                 1    2    3    4    5    6    7    8    9  CGA  NeoAMD  \\\n",
       "1              410   57   62   62   26    6    5    4    2    0      16   \n",
       "2              221   81  145   72   62   20    4   19    6    2      13   \n",
       "3              196   59  172   65   71   33    6   23    3    1      16   \n",
       "4              178   60  109   85   84   35   12   19    6    0      21   \n",
       "5              130   45  121   72   81   68   28   59    9    4      25   \n",
       "6               84   29   91   55   85   81   77   77   31    2      27   \n",
       "7               43   14   45   23   54   91  147  121   65   10      23   \n",
       "8               32   15   38   43   61   71   71  171   89   24      22   \n",
       "9                7    2   15   12   21   24   57   77  133   54      32   \n",
       "CGA              3    2    3    4    6    9   25   36   67   48      45   \n",
       "NeoAMD          43    2   10   13   14   23   28   30   27   16     383   \n",
       "NeoAMD + CGA     0    0    2    3    0    5   10   19   26   28      61   \n",
       "Total         1347  366  813  509  565  466  470  655  464  189     684   \n",
       "\n",
       "              NeoAMD + CGA  Total  \n",
       "1                        0    650  \n",
       "2                        2    647  \n",
       "3                        5    650  \n",
       "4                       10    619  \n",
       "5                        8    650  \n",
       "6                        8    647  \n",
       "7                       13    649  \n",
       "8                       13    650  \n",
       "9                       25    459  \n",
       "CGA                     50    298  \n",
       "NeoAMD                  45    634  \n",
       "NeoAMD + CGA           124    278  \n",
       "Total                  303   6831  "
      ]
     },
     "execution_count": 51,
     "metadata": {},
     "output_type": "execute_result"
    }
   ],
   "source": [
    "result"
   ]
  },
  {
   "cell_type": "code",
   "execution_count": 52,
   "metadata": {
    "ExecuteTime": {
     "end_time": "2017-10-23T19:22:20.107053Z",
     "start_time": "2017-10-23T19:22:20.095041Z"
    }
   },
   "outputs": [
    {
     "name": "stdout",
     "output_type": "stream",
     "text": [
      "\\begin{tabular}{lrrrrrrrrrrrrr}\n",
      "\\toprule\n",
      "{} &     1 &    2 &    3 &    4 &    5 &    6 &    7 &    8 &    9 &  CGA &  NeoAMD &  NeoAMD + CGA &  Total \\\\\n",
      "\\midrule\n",
      "1            &   410 &   57 &   62 &   62 &   26 &    6 &    5 &    4 &    2 &    0 &      16 &             0 &    650 \\\\\n",
      "2            &   221 &   81 &  145 &   72 &   62 &   20 &    4 &   19 &    6 &    2 &      13 &             2 &    647 \\\\\n",
      "3            &   196 &   59 &  172 &   65 &   71 &   33 &    6 &   23 &    3 &    1 &      16 &             5 &    650 \\\\\n",
      "4            &   178 &   60 &  109 &   85 &   84 &   35 &   12 &   19 &    6 &    0 &      21 &            10 &    619 \\\\\n",
      "5            &   130 &   45 &  121 &   72 &   81 &   68 &   28 &   59 &    9 &    4 &      25 &             8 &    650 \\\\\n",
      "6            &    84 &   29 &   91 &   55 &   85 &   81 &   77 &   77 &   31 &    2 &      27 &             8 &    647 \\\\\n",
      "7            &    43 &   14 &   45 &   23 &   54 &   91 &  147 &  121 &   65 &   10 &      23 &            13 &    649 \\\\\n",
      "8            &    32 &   15 &   38 &   43 &   61 &   71 &   71 &  171 &   89 &   24 &      22 &            13 &    650 \\\\\n",
      "9            &     7 &    2 &   15 &   12 &   21 &   24 &   57 &   77 &  133 &   54 &      32 &            25 &    459 \\\\\n",
      "CGA          &     3 &    2 &    3 &    4 &    6 &    9 &   25 &   36 &   67 &   48 &      45 &            50 &    298 \\\\\n",
      "NeoAMD       &    43 &    2 &   10 &   13 &   14 &   23 &   28 &   30 &   27 &   16 &     383 &            45 &    634 \\\\\n",
      "NeoAMD + CGA &     0 &    0 &    2 &    3 &    0 &    5 &   10 &   19 &   26 &   28 &      61 &           124 &    278 \\\\\n",
      "Total        &  1347 &  366 &  813 &  509 &  565 &  466 &  470 &  655 &  464 &  189 &     684 &           303 &   6831 \\\\\n",
      "\\bottomrule\n",
      "\\end{tabular}\n",
      "\n"
     ]
    }
   ],
   "source": [
    "print( result.to_latex() )"
   ]
  },
  {
   "cell_type": "code",
   "execution_count": 53,
   "metadata": {
    "ExecuteTime": {
     "end_time": "2017-10-23T19:22:20.111400Z",
     "start_time": "2017-10-23T19:22:20.108611Z"
    }
   },
   "outputs": [],
   "source": [
    "cm_normal = cm.astype('float') / cm.sum(axis=1)[:, np.newaxis]"
   ]
  },
  {
   "cell_type": "code",
   "execution_count": 54,
   "metadata": {
    "ExecuteTime": {
     "end_time": "2017-10-23T19:22:20.560927Z",
     "start_time": "2017-10-23T19:22:20.112948Z"
    }
   },
   "outputs": [
    {
     "data": {
      "image/png": "[encoded data removed]",
      "text/plain": [
       "<matplotlib.figure.Figure at 0x1022df5f8>"
      ]
     },
     "metadata": {},
     "output_type": "display_data"
    }
   ],
   "source": [
    "from mpl_toolkits.axes_grid1 import make_axes_locatable\n",
    "sns.set_style(style='ticks')\n",
    "fig = plt.figure( figsize=(4,3.5), dpi=150 )\n",
    "ax = fig.gca()\n",
    "mpl_im_obj = ax.imshow( cm_normal, interpolation='nearest', cmap=plt.cm.Blues)\n",
    "#ax.set_title( \"Both Eyes 12-class SVC\" )\n",
    "ax.tick_params( axis='x', rotation=90, labeltop='on', labelbottom='off')\n",
    "ax.set_yticks( list( range(0,12) ) )\n",
    "ax.set_xticks( list( range(0,12) ) )\n",
    "ax.xaxis.set_ticks_position('none')\n",
    "ax.yaxis.set_ticks_position('none')\n",
    "labels = [str(_) for _ in range(1,10)]+ ['CGA', 'NeoAMD', \"NeoAMD+CGA\"]\n",
    "ax.set_xticklabels( labels )\n",
    "ax.set_yticklabels( labels )\n",
    "divider = make_axes_locatable(ax)\n",
    "cax = divider.append_axes(\"right\", size=\"5%\", pad=0.15)\n",
    "fig.colorbar( mpl_im_obj, cax=cax, orientation='vertical' )\n",
    "fig.tight_layout()\n",
    "fig.savefig( 'paper/images/both_eyes_12_class_svc_cm_cv.pdf' )"
   ]
  },
  {
   "cell_type": "code",
   "execution_count": 55,
   "metadata": {
    "ExecuteTime": {
     "end_time": "2017-10-23T19:22:20.566823Z",
     "start_time": "2017-10-23T19:22:20.562631Z"
    }
   },
   "outputs": [],
   "source": [
    "from sklearn.metrics import r2_score"
   ]
  },
  {
   "cell_type": "code",
   "execution_count": 56,
   "metadata": {
    "ExecuteTime": {
     "end_time": "2017-10-23T19:22:20.575646Z",
     "start_time": "2017-10-23T19:22:20.570050Z"
    }
   },
   "outputs": [
    {
     "data": {
      "text/plain": [
       "0.32940513505699509"
      ]
     },
     "execution_count": 56,
     "metadata": {},
     "output_type": "execute_result"
    }
   ],
   "source": [
    "r2_score(Y, y_pred_svc )"
   ]
  },
  {
   "cell_type": "markdown",
   "metadata": {},
   "source": [
    "# Diagonals\n",
    "\n",
    "## Full agreement"
   ]
  },
  {
   "cell_type": "code",
   "execution_count": 57,
   "metadata": {
    "ExecuteTime": {
     "end_time": "2017-10-23T19:22:20.581239Z",
     "start_time": "2017-10-23T19:22:20.577454Z"
    }
   },
   "outputs": [
    {
     "data": {
      "text/plain": [
       "1916"
      ]
     },
     "execution_count": 57,
     "metadata": {},
     "output_type": "execute_result"
    }
   ],
   "source": [
    "np.diag(cm).sum()"
   ]
  },
  {
   "cell_type": "code",
   "execution_count": 58,
   "metadata": {
    "ExecuteTime": {
     "end_time": "2017-10-23T19:22:20.588601Z",
     "start_time": "2017-10-23T19:22:20.583737Z"
    }
   },
   "outputs": [
    {
     "data": {
      "text/plain": [
       "0.28048601961645442"
      ]
     },
     "execution_count": 58,
     "metadata": {},
     "output_type": "execute_result"
    }
   ],
   "source": [
    "np.diag(cm).sum() / cm.sum()"
   ]
  },
  {
   "cell_type": "markdown",
   "metadata": {},
   "source": [
    "## One-off diagonal"
   ]
  },
  {
   "cell_type": "code",
   "execution_count": 59,
   "metadata": {
    "ExecuteTime": {
     "end_time": "2017-10-23T19:22:20.593663Z",
     "start_time": "2017-10-23T19:22:20.590109Z"
    }
   },
   "outputs": [],
   "source": [
    "one_off_diag_locations = (np.eye( *cm.shape, k=-1).astype(bool) | \n",
    " np.eye( *cm.shape, k=0).astype(bool) | \n",
    " np.eye( *cm.shape, k=1).astype(bool))"
   ]
  },
  {
   "cell_type": "code",
   "execution_count": 60,
   "metadata": {
    "ExecuteTime": {
     "end_time": "2017-10-23T19:22:20.598723Z",
     "start_time": "2017-10-23T19:22:20.595109Z"
    }
   },
   "outputs": [
    {
     "data": {
      "text/plain": [
       "3695"
      ]
     },
     "execution_count": 60,
     "metadata": {},
     "output_type": "execute_result"
    }
   ],
   "source": [
    "cm[ one_off_diag_locations ].sum()"
   ]
  },
  {
   "cell_type": "code",
   "execution_count": 61,
   "metadata": {
    "ExecuteTime": {
     "end_time": "2017-10-23T19:22:20.603784Z",
     "start_time": "2017-10-23T19:22:20.600229Z"
    }
   },
   "outputs": [
    {
     "data": {
      "text/plain": [
       "0.54091641048162786"
      ]
     },
     "execution_count": 61,
     "metadata": {},
     "output_type": "execute_result"
    }
   ],
   "source": [
    "cm[ one_off_diag_locations ].sum() / cm.sum()"
   ]
  },
  {
   "cell_type": "markdown",
   "metadata": {
    "ExecuteTime": {
     "end_time": "2017-10-23T19:22:20.609063Z",
     "start_time": "2017-10-23T19:22:20.606293Z"
    }
   },
   "source": [
    "## Two-off diagonal"
   ]
  },
  {
   "cell_type": "code",
   "execution_count": 64,
   "metadata": {
    "ExecuteTime": {
     "end_time": "2017-10-23T19:22:20.621692Z",
     "start_time": "2017-10-23T19:22:20.617031Z"
    }
   },
   "outputs": [],
   "source": [
    "two_off_diag_locations = ( one_off_diag_locations | \n",
    " np.eye( *cm.shape, k=-2).astype(bool) | \n",
    " np.eye( *cm.shape, k=2).astype(bool))"
   ]
  },
  {
   "cell_type": "code",
   "execution_count": 65,
   "metadata": {
    "ExecuteTime": {
     "end_time": "2017-10-23T19:22:20.627776Z",
     "start_time": "2017-10-23T19:22:20.623434Z"
    }
   },
   "outputs": [
    {
     "data": {
      "text/plain": [
       "4916"
      ]
     },
     "execution_count": 65,
     "metadata": {},
     "output_type": "execute_result"
    }
   ],
   "source": [
    "cm[ two_off_diag_locations ].sum()"
   ]
  },
  {
   "cell_type": "code",
   "execution_count": 66,
   "metadata": {
    "ExecuteTime": {
     "end_time": "2017-10-23T19:22:20.636121Z",
     "start_time": "2017-10-23T19:22:20.629401Z"
    }
   },
   "outputs": [
    {
     "data": {
      "text/plain": [
       "0.71966037183428488"
      ]
     },
     "execution_count": 66,
     "metadata": {},
     "output_type": "execute_result"
    }
   ],
   "source": [
    "cm[ two_off_diag_locations ].sum() / cm.sum()"
   ]
  },
  {
   "cell_type": "markdown",
   "metadata": {
    "ExecuteTime": {
     "end_time": "2017-10-23T19:22:20.614323Z",
     "start_time": "2017-10-23T19:22:20.610818Z"
    }
   },
   "source": [
    "## Cohen's Kappa\n",
    "\n",
    "# TBD\n",
    "\n",
    "# Regression Problem"
   ]
  },
  {
   "cell_type": "code",
   "execution_count": 67,
   "metadata": {
    "ExecuteTime": {
     "end_time": "2017-10-23T19:22:20.640515Z",
     "start_time": "2017-10-23T19:22:20.638037Z"
    }
   },
   "outputs": [],
   "source": [
    "from sklearn.svm import SVR"
   ]
  },
  {
   "cell_type": "code",
   "execution_count": 68,
   "metadata": {
    "ExecuteTime": {
     "end_time": "2017-10-23T19:22:20.649566Z",
     "start_time": "2017-10-23T19:22:20.643274Z"
    }
   },
   "outputs": [],
   "source": [
    "steps = []\n",
    "steps.append( ('standardize', StandardScaler() ) )\n",
    "steps.append( ('svc', SVR( C=4, gamma=2**(-12) ) ) )\n",
    "svr_model = Pipeline( steps )"
   ]
  },
  {
   "cell_type": "code",
   "execution_count": 69,
   "metadata": {
    "ExecuteTime": {
     "end_time": "2017-10-23T19:29:46.626660Z",
     "start_time": "2017-10-23T19:22:20.651947Z"
    }
   },
   "outputs": [
    {
     "name": "stdout",
     "output_type": "stream",
     "text": [
      "took 7.4min\n"
     ]
    }
   ],
   "source": [
    "t1 = time.time()\n",
    "y_pred_svr = cross_val_predict( svr_model, X, Y, cv=cv_strategy, \n",
    "                              method='predict', n_jobs=8 )\n",
    "t2 = time.time()\n",
    "print( \"took {:0.1f}min\".format( (t2-t1)/60 ) )"
   ]
  },
  {
   "cell_type": "code",
   "execution_count": 70,
   "metadata": {
    "ExecuteTime": {
     "end_time": "2017-10-23T19:29:46.650536Z",
     "start_time": "2017-10-23T19:29:46.629111Z"
    }
   },
   "outputs": [],
   "source": [
    "with open( 'both_sides_12_class_svr_y_pred.txt', 'w' ) as f:\n",
    "    for a, b in zip( Y, y_pred_svr ):\n",
    "        f.write( '{}\\t{}\\n'.format( a, b ) )"
   ]
  },
  {
   "cell_type": "code",
   "execution_count": 71,
   "metadata": {
    "ExecuteTime": {
     "end_time": "2017-10-23T19:29:46.658422Z",
     "start_time": "2017-10-23T19:29:46.652204Z"
    }
   },
   "outputs": [
    {
     "data": {
      "text/plain": [
       "0.5785218574957296"
      ]
     },
     "execution_count": 71,
     "metadata": {},
     "output_type": "execute_result"
    }
   ],
   "source": [
    "r2_score(Y, y_pred_svr)"
   ]
  },
  {
   "cell_type": "code",
   "execution_count": 72,
   "metadata": {
    "ExecuteTime": {
     "end_time": "2017-10-23T19:29:46.664380Z",
     "start_time": "2017-10-23T19:29:46.660392Z"
    }
   },
   "outputs": [
    {
     "data": {
      "text/plain": [
       "(6831, 3638)"
      ]
     },
     "execution_count": 72,
     "metadata": {},
     "output_type": "execute_result"
    }
   ],
   "source": [
    "averaged.shape"
   ]
  },
  {
   "cell_type": "code",
   "execution_count": 73,
   "metadata": {
    "ExecuteTime": {
     "end_time": "2017-10-23T19:29:46.669364Z",
     "start_time": "2017-10-23T19:29:46.666046Z"
    }
   },
   "outputs": [
    {
     "data": {
      "text/plain": [
       "6831"
      ]
     },
     "execution_count": 73,
     "metadata": {},
     "output_type": "execute_result"
    }
   ],
   "source": [
    "len(y_pred_svr)"
   ]
  },
  {
   "cell_type": "code",
   "execution_count": 74,
   "metadata": {
    "ExecuteTime": {
     "end_time": "2017-10-23T19:29:46.675958Z",
     "start_time": "2017-10-23T19:29:46.670914Z"
    }
   },
   "outputs": [],
   "source": [
    "averaged['svc_pred'] = y_pred_svc"
   ]
  },
  {
   "cell_type": "code",
   "execution_count": 75,
   "metadata": {
    "ExecuteTime": {
     "end_time": "2017-10-23T19:29:46.684602Z",
     "start_time": "2017-10-23T19:29:46.678693Z"
    }
   },
   "outputs": [],
   "source": [
    "averaged['svr_pred'] = y_pred_svr\n",
    "averaged[ 'svr_residual' ] = averaged['svr_pred'] - averaged['SevScore']"
   ]
  },
  {
   "cell_type": "code",
   "execution_count": 76,
   "metadata": {
    "ExecuteTime": {
     "end_time": "2017-10-23T19:29:46.690236Z",
     "start_time": "2017-10-23T19:29:46.686037Z"
    }
   },
   "outputs": [
    {
     "data": {
      "text/plain": [
       "Index(['Edge Features () [0]', 'Edge Features () [1]', 'Edge Features () [2]',\n",
       "       'Edge Features () [3]', 'Edge Features () [4]', 'Edge Features () [5]',\n",
       "       'Edge Features () [6]', 'Edge Features () [7]', 'Edge Features () [8]',\n",
       "       'Edge Features () [9]',\n",
       "       ...\n",
       "       'male', 'white', 'Visit', 'EyeLR', 'SevScore', 'SimpleSev', 'age',\n",
       "       'svc_pred', 'svr_pred', 'svr_residual'],\n",
       "      dtype='object', length=3641)"
      ]
     },
     "execution_count": 76,
     "metadata": {},
     "output_type": "execute_result"
    }
   ],
   "source": [
    "averaged.columns"
   ]
  },
  {
   "cell_type": "code",
   "execution_count": 77,
   "metadata": {
    "ExecuteTime": {
     "end_time": "2017-10-23T19:29:46.698565Z",
     "start_time": "2017-10-23T19:29:46.692555Z"
    }
   },
   "outputs": [],
   "source": [
    "averaged['sex'] = pd.Categorical.from_codes( codes=averaged['male'], categories=['female', 'male'] )"
   ]
  },
  {
   "cell_type": "code",
   "execution_count": 78,
   "metadata": {
    "ExecuteTime": {
     "end_time": "2017-10-23T19:29:47.588407Z",
     "start_time": "2017-10-23T19:29:46.700119Z"
    }
   },
   "outputs": [
    {
     "data": {
      "image/png": "[encoded data removed]",
      "text/plain": [
       "<matplotlib.figure.Figure at 0x13673d400>"
      ]
     },
     "metadata": {},
     "output_type": "display_data"
    }
   ],
   "source": [
    "sns.set(style=\"whitegrid\", palette=\"pastel\", color_codes=True)\n",
    "fig = plt.figure( figsize=(7,4), dpi=200 )\n",
    "ax = fig.gca()\n",
    "#ax.set_yticks( list( range( -10, 12, 2) ) )\n",
    "sns.violinplot( x='SevScore', y='svr_pred',hue=\"sex\", data=averaged, ax=ax, cut=0, split=True) #scale='width',\n",
    "#ax.set_xticks( list( range(0,13) ) )\n",
    "ax.set_xticklabels( [str(_) for _ in range(1,13)] )\n",
    "#ax.set_title( \"Residual vs. Actual, Left Eye 12-class SVR\" )\n",
    "ax.set_xlabel( \"Pathologist AMD grade\")\n",
    "ax.set_ylabel( \"Machine-predicted AMD severity\")\n",
    "sns.despine(left=True, bottom=True)\n",
    "fig.savefig( 'paper/images/both_sides_12_class_svr_pred_vs_act.pdf' )"
   ]
  }
 ],
 "metadata": {
  "kernelspec": {
   "display_name": "Python 3",
   "language": "python",
   "name": "python3"
  },
  "language_info": {
   "codemirror_mode": {
    "name": "ipython",
    "version": 3
   },
   "file_extension": ".py",
   "mimetype": "text/x-python",
   "name": "python",
   "nbconvert_exporter": "python",
   "pygments_lexer": "ipython3",
   "version": "3.6.2"
  }
 },
 "nbformat": 4,
 "nbformat_minor": 2
}
