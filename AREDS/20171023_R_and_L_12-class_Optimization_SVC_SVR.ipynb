{
 "cells": [
  {
   "cell_type": "markdown",
   "metadata": {},
   "source": [
    "# Load packages"
   ]
  },
  {
   "cell_type": "code",
   "execution_count": 1,
   "metadata": {
    "ExecuteTime": {
     "end_time": "2017-10-24T14:31:54.067655Z",
     "start_time": "2017-10-24T14:31:53.201409Z"
    }
   },
   "outputs": [],
   "source": [
    "%matplotlib inline\n",
    "import matplotlib.pyplot as plt\n",
    "import pandas as pd\n",
    "import numpy as np\n",
    "import seaborn as sns\n",
    "from collections import Counter"
   ]
  },
  {
   "cell_type": "markdown",
   "metadata": {},
   "source": [
    "# Load raw data"
   ]
  },
  {
   "cell_type": "code",
   "execution_count": 2,
   "metadata": {
    "ExecuteTime": {
     "end_time": "2017-10-24T14:31:54.071704Z",
     "start_time": "2017-10-24T14:31:54.069330Z"
    }
   },
   "outputs": [],
   "source": [
    "prefix = 'right_eye_new_severity_CLEANED_WITH_11_12_maybe'"
   ]
  },
  {
   "cell_type": "code",
   "execution_count": 3,
   "metadata": {
    "ExecuteTime": {
     "end_time": "2017-10-24T14:31:54.078109Z",
     "start_time": "2017-10-24T14:31:54.073257Z"
    }
   },
   "outputs": [],
   "source": [
    "feature_names = [ line.rstrip('\\n') for line in open( prefix + '_feature_names.txt' )]"
   ]
  },
  {
   "cell_type": "code",
   "execution_count": 4,
   "metadata": {
    "ExecuteTime": {
     "end_time": "2017-10-24T14:31:57.750503Z",
     "start_time": "2017-10-24T14:31:54.079704Z"
    }
   },
   "outputs": [],
   "source": [
    "raw = pd.DataFrame( columns=feature_names, data=np.load( prefix + '_data.npy' ) )\n",
    "raw['side'] = [1]* len(raw)\n",
    "n_samples, n_features = raw.shape\n",
    "raw['group'] = [ int(i) for i in range( int(n_samples/8) ) for j in range( 8 ) ]\n",
    "raw['actual'] = [ int(line.rstrip('\\n')) for line in open( prefix + '_values.txt' )]\n",
    "averagedr = pd.concat( [ g.mean(axis=0) for n, g in raw.groupby( 'group' ) ], \n",
    "                     axis=1, ignore_index=True).T\n",
    "averagedr.drop('group', axis=1, inplace=True)"
   ]
  },
  {
   "cell_type": "code",
   "execution_count": 5,
   "metadata": {
    "ExecuteTime": {
     "end_time": "2017-10-24T14:31:57.759739Z",
     "start_time": "2017-10-24T14:31:57.752202Z"
    }
   },
   "outputs": [
    {
     "data": {
      "text/plain": [
       "10.0    645\n",
       "8.0     325\n",
       "7.0     325\n",
       "5.0     325\n",
       "4.0     325\n",
       "3.0     325\n",
       "2.0     325\n",
       "1.0     325\n",
       "6.0     324\n",
       "9.0     192\n",
       "Name: actual, dtype: int64"
      ]
     },
     "execution_count": 5,
     "metadata": {},
     "output_type": "execute_result"
    }
   ],
   "source": [
    "averagedr.actual.value_counts()"
   ]
  },
  {
   "cell_type": "code",
   "execution_count": 6,
   "metadata": {
    "ExecuteTime": {
     "end_time": "2017-10-24T14:31:57.774480Z",
     "start_time": "2017-10-24T14:31:57.761289Z"
    }
   },
   "outputs": [],
   "source": [
    "sample_names = [ line.rstrip('\\n') for line in open( prefix + '_sample_names.txt' )]"
   ]
  },
  {
   "cell_type": "code",
   "execution_count": 7,
   "metadata": {
    "ExecuteTime": {
     "end_time": "2017-10-24T14:31:57.784804Z",
     "start_time": "2017-10-24T14:31:57.776103Z"
    }
   },
   "outputs": [],
   "source": [
    "group_names = [ _.split('/')[2].rsplit('-', 1)[0] + '-LS.tiff' for i, _ in enumerate(sample_names) if i % 8 == 0 ]"
   ]
  },
  {
   "cell_type": "code",
   "execution_count": 8,
   "metadata": {
    "ExecuteTime": {
     "end_time": "2017-10-24T14:31:57.789234Z",
     "start_time": "2017-10-24T14:31:57.786251Z"
    }
   },
   "outputs": [],
   "source": [
    "averagedr['converted_file_name'] = group_names"
   ]
  },
  {
   "cell_type": "code",
   "execution_count": 9,
   "metadata": {
    "ExecuteTime": {
     "end_time": "2017-10-24T14:31:57.793654Z",
     "start_time": "2017-10-24T14:31:57.791200Z"
    }
   },
   "outputs": [],
   "source": [
    "prefix = 'left_eye_new_severity_CLEANED_WITH_11_12'"
   ]
  },
  {
   "cell_type": "code",
   "execution_count": 10,
   "metadata": {
    "ExecuteTime": {
     "end_time": "2017-10-24T14:31:57.799840Z",
     "start_time": "2017-10-24T14:31:57.795118Z"
    }
   },
   "outputs": [],
   "source": [
    "feature_names = [ line.rstrip('\\n') for line in open( prefix + '_feature_names.txt' )]"
   ]
  },
  {
   "cell_type": "code",
   "execution_count": 11,
   "metadata": {
    "ExecuteTime": {
     "end_time": "2017-10-24T14:32:01.299637Z",
     "start_time": "2017-10-24T14:31:57.802168Z"
    }
   },
   "outputs": [],
   "source": [
    "raw = pd.DataFrame( columns=feature_names, data=np.load( prefix + '_data.npy' ) )\n",
    "raw['side'] = [1]* len(raw)\n",
    "n_samples, n_features = raw.shape\n",
    "raw['group'] = [ int(i) for i in range( int(n_samples/8) ) for j in range( 8 ) ]\n",
    "raw['actual'] = [ int(line.rstrip('\\n')) for line in open( prefix + '_values.txt' )]\n",
    "averagedl = pd.concat( [ g.mean(axis=0) for n, g in raw.groupby( 'group' ) ], \n",
    "                     axis=1, ignore_index=True).T\n",
    "averagedl.drop('group', axis=1, inplace=True)"
   ]
  },
  {
   "cell_type": "code",
   "execution_count": 12,
   "metadata": {
    "ExecuteTime": {
     "end_time": "2017-10-24T14:32:01.309726Z",
     "start_time": "2017-10-24T14:32:01.301380Z"
    }
   },
   "outputs": [
    {
     "data": {
      "text/plain": [
       "8.0     325\n",
       "7.0     325\n",
       "5.0     325\n",
       "3.0     325\n",
       "1.0     325\n",
       "6.0     324\n",
       "2.0     323\n",
       "11.0    312\n",
       "4.0     296\n",
       "9.0     270\n",
       "12.0    136\n",
       "10.0    119\n",
       "Name: actual, dtype: int64"
      ]
     },
     "execution_count": 12,
     "metadata": {},
     "output_type": "execute_result"
    }
   ],
   "source": [
    "averagedl.actual.value_counts()"
   ]
  },
  {
   "cell_type": "code",
   "execution_count": 13,
   "metadata": {
    "ExecuteTime": {
     "end_time": "2017-10-24T14:32:01.328910Z",
     "start_time": "2017-10-24T14:32:01.311877Z"
    }
   },
   "outputs": [],
   "source": [
    "sample_names = [ line.rstrip('\\n') for line in open( prefix + '_sample_names.txt' )]"
   ]
  },
  {
   "cell_type": "code",
   "execution_count": 14,
   "metadata": {
    "ExecuteTime": {
     "end_time": "2017-10-24T14:32:01.338778Z",
     "start_time": "2017-10-24T14:32:01.330723Z"
    }
   },
   "outputs": [],
   "source": [
    "group_names = [ _.split('/')[2].rsplit('-', 1)[0] + '-LS.tiff' for i, _ in enumerate(sample_names) if i % 8 == 0 ]"
   ]
  },
  {
   "cell_type": "code",
   "execution_count": 15,
   "metadata": {
    "ExecuteTime": {
     "end_time": "2017-10-24T14:32:01.454370Z",
     "start_time": "2017-10-24T14:32:01.450997Z"
    }
   },
   "outputs": [],
   "source": [
    "averagedl['converted_file_name'] = group_names"
   ]
  },
  {
   "cell_type": "code",
   "execution_count": 16,
   "metadata": {
    "ExecuteTime": {
     "end_time": "2017-10-24T14:32:05.083952Z",
     "start_time": "2017-10-24T14:32:05.079517Z"
    }
   },
   "outputs": [
    {
     "data": {
      "text/plain": [
       "(3405, 3622)"
      ]
     },
     "execution_count": 16,
     "metadata": {},
     "output_type": "execute_result"
    }
   ],
   "source": [
    "averagedl.shape"
   ]
  },
  {
   "cell_type": "code",
   "execution_count": 17,
   "metadata": {
    "ExecuteTime": {
     "end_time": "2017-10-24T14:32:05.473251Z",
     "start_time": "2017-10-24T14:32:05.469829Z"
    }
   },
   "outputs": [
    {
     "data": {
      "text/plain": [
       "(3436, 3622)"
      ]
     },
     "execution_count": 17,
     "metadata": {},
     "output_type": "execute_result"
    }
   ],
   "source": [
    "averagedr.shape"
   ]
  },
  {
   "cell_type": "code",
   "execution_count": 18,
   "metadata": {
    "ExecuteTime": {
     "end_time": "2017-10-24T14:32:05.974265Z",
     "start_time": "2017-10-24T14:32:05.837345Z"
    }
   },
   "outputs": [],
   "source": [
    "averaged = pd.concat( ( averagedl, averagedr), axis=0 )"
   ]
  },
  {
   "cell_type": "code",
   "execution_count": 19,
   "metadata": {
    "ExecuteTime": {
     "end_time": "2017-10-24T14:32:06.300957Z",
     "start_time": "2017-10-24T14:32:06.296418Z"
    }
   },
   "outputs": [
    {
     "data": {
      "text/plain": [
       "(6841, 3622)"
      ]
     },
     "execution_count": 19,
     "metadata": {},
     "output_type": "execute_result"
    }
   ],
   "source": [
    "averaged.shape"
   ]
  },
  {
   "cell_type": "code",
   "execution_count": 20,
   "metadata": {
    "ExecuteTime": {
     "end_time": "2017-10-24T14:32:09.822811Z",
     "start_time": "2017-10-24T14:32:09.404569Z"
    }
   },
   "outputs": [],
   "source": [
    "trait_db = pd.read_csv( '20170830_AREDS_DB.csv', index_col=0)"
   ]
  },
  {
   "cell_type": "markdown",
   "metadata": {},
   "source": [
    "## Merge on converted file_name"
   ]
  },
  {
   "cell_type": "code",
   "execution_count": 21,
   "metadata": {
    "ExecuteTime": {
     "end_time": "2017-10-24T14:32:13.135008Z",
     "start_time": "2017-10-24T14:32:13.092897Z"
    }
   },
   "outputs": [],
   "source": [
    "trait_db = trait_db[ trait_db.SideLR == 'LS' ].copy()"
   ]
  },
  {
   "cell_type": "code",
   "execution_count": 22,
   "metadata": {
    "ExecuteTime": {
     "end_time": "2017-10-24T14:32:13.342095Z",
     "start_time": "2017-10-24T14:32:13.330011Z"
    }
   },
   "outputs": [],
   "source": [
    "trait_db.drop( 'SideLR', axis=1, inplace=True)"
   ]
  },
  {
   "cell_type": "code",
   "execution_count": 23,
   "metadata": {
    "ExecuteTime": {
     "end_time": "2017-10-24T14:32:13.804161Z",
     "start_time": "2017-10-24T14:32:13.783201Z"
    }
   },
   "outputs": [
    {
     "data": {
      "text/html": [
       "<div>\n",
       "<style>\n",
       "    .dataframe thead tr:only-child th {\n",
       "        text-align: right;\n",
       "    }\n",
       "\n",
       "    .dataframe thead th {\n",
       "        text-align: left;\n",
       "    }\n",
       "\n",
       "    .dataframe tbody tr th {\n",
       "        vertical-align: top;\n",
       "    }\n",
       "</style>\n",
       "<table border=\"1\" class=\"dataframe\">\n",
       "  <thead>\n",
       "    <tr style=\"text-align: right;\">\n",
       "      <th></th>\n",
       "      <th>Patid</th>\n",
       "      <th>Areds_subject_id</th>\n",
       "      <th>converted_file_name</th>\n",
       "      <th>Baseline_AMD_Category</th>\n",
       "      <th>Final_AMD_Phenotype_Group</th>\n",
       "      <th>Final_AMD_Phenotype</th>\n",
       "      <th>Final_Cataract_Phenotype</th>\n",
       "      <th>Study_Visit_Year</th>\n",
       "      <th>Treatment</th>\n",
       "      <th>age_baseline</th>\n",
       "      <th>male</th>\n",
       "      <th>white</th>\n",
       "      <th>Visit</th>\n",
       "      <th>EyeLR</th>\n",
       "      <th>SevScore</th>\n",
       "      <th>SimpleSev</th>\n",
       "      <th>age</th>\n",
       "    </tr>\n",
       "  </thead>\n",
       "  <tbody>\n",
       "    <tr>\n",
       "      <th>0</th>\n",
       "      <td>51003</td>\n",
       "      <td>1890</td>\n",
       "      <td>51003-04-F2-LE-LS.tiff</td>\n",
       "      <td>2</td>\n",
       "      <td>Other</td>\n",
       "      <td>Large Drusen Questionable 1</td>\n",
       "      <td>Nuclear/Cortical</td>\n",
       "      <td>2.0</td>\n",
       "      <td>Placebo</td>\n",
       "      <td>72.484932</td>\n",
       "      <td>0</td>\n",
       "      <td>1</td>\n",
       "      <td>4</td>\n",
       "      <td>LE</td>\n",
       "      <td>2.0</td>\n",
       "      <td>1.0</td>\n",
       "      <td>74.484932</td>\n",
       "    </tr>\n",
       "    <tr>\n",
       "      <th>2</th>\n",
       "      <td>51003</td>\n",
       "      <td>1890</td>\n",
       "      <td>51003-04-F2-RE-LS.tiff</td>\n",
       "      <td>2</td>\n",
       "      <td>Other</td>\n",
       "      <td>Large Drusen Questionable 1</td>\n",
       "      <td>Nuclear/Cortical</td>\n",
       "      <td>2.0</td>\n",
       "      <td>Placebo</td>\n",
       "      <td>72.484932</td>\n",
       "      <td>0</td>\n",
       "      <td>1</td>\n",
       "      <td>4</td>\n",
       "      <td>RE</td>\n",
       "      <td>2.0</td>\n",
       "      <td>1.0</td>\n",
       "      <td>74.484932</td>\n",
       "    </tr>\n",
       "    <tr>\n",
       "      <th>4</th>\n",
       "      <td>51003</td>\n",
       "      <td>1890</td>\n",
       "      <td>51003-06-F2-LE-LS.tiff</td>\n",
       "      <td>2</td>\n",
       "      <td>Other</td>\n",
       "      <td>Large Drusen Questionable 1</td>\n",
       "      <td>Nuclear/Cortical</td>\n",
       "      <td>3.0</td>\n",
       "      <td>Placebo</td>\n",
       "      <td>72.484932</td>\n",
       "      <td>0</td>\n",
       "      <td>1</td>\n",
       "      <td>6</td>\n",
       "      <td>LE</td>\n",
       "      <td>2.0</td>\n",
       "      <td>1.0</td>\n",
       "      <td>75.484932</td>\n",
       "    </tr>\n",
       "    <tr>\n",
       "      <th>6</th>\n",
       "      <td>51003</td>\n",
       "      <td>1890</td>\n",
       "      <td>51003-06-F2-RE-LS.tiff</td>\n",
       "      <td>2</td>\n",
       "      <td>Other</td>\n",
       "      <td>Large Drusen Questionable 1</td>\n",
       "      <td>Nuclear/Cortical</td>\n",
       "      <td>3.0</td>\n",
       "      <td>Placebo</td>\n",
       "      <td>72.484932</td>\n",
       "      <td>0</td>\n",
       "      <td>1</td>\n",
       "      <td>6</td>\n",
       "      <td>RE</td>\n",
       "      <td>1.0</td>\n",
       "      <td>1.0</td>\n",
       "      <td>75.484932</td>\n",
       "    </tr>\n",
       "    <tr>\n",
       "      <th>8</th>\n",
       "      <td>51003</td>\n",
       "      <td>1890</td>\n",
       "      <td>51003-08-F2-LE-LS.tiff</td>\n",
       "      <td>2</td>\n",
       "      <td>Other</td>\n",
       "      <td>Large Drusen Questionable 1</td>\n",
       "      <td>Nuclear/Cortical</td>\n",
       "      <td>4.0</td>\n",
       "      <td>Placebo</td>\n",
       "      <td>72.484932</td>\n",
       "      <td>0</td>\n",
       "      <td>1</td>\n",
       "      <td>8</td>\n",
       "      <td>LE</td>\n",
       "      <td>3.0</td>\n",
       "      <td>1.0</td>\n",
       "      <td>76.484932</td>\n",
       "    </tr>\n",
       "  </tbody>\n",
       "</table>\n",
       "</div>"
      ],
      "text/plain": [
       "   Patid Areds_subject_id     converted_file_name Baseline_AMD_Category  \\\n",
       "0  51003             1890  51003-04-F2-LE-LS.tiff                     2   \n",
       "2  51003             1890  51003-04-F2-RE-LS.tiff                     2   \n",
       "4  51003             1890  51003-06-F2-LE-LS.tiff                     2   \n",
       "6  51003             1890  51003-06-F2-RE-LS.tiff                     2   \n",
       "8  51003             1890  51003-08-F2-LE-LS.tiff                     2   \n",
       "\n",
       "  Final_AMD_Phenotype_Group          Final_AMD_Phenotype  \\\n",
       "0                     Other  Large Drusen Questionable 1   \n",
       "2                     Other  Large Drusen Questionable 1   \n",
       "4                     Other  Large Drusen Questionable 1   \n",
       "6                     Other  Large Drusen Questionable 1   \n",
       "8                     Other  Large Drusen Questionable 1   \n",
       "\n",
       "  Final_Cataract_Phenotype  Study_Visit_Year Treatment  age_baseline  male  \\\n",
       "0         Nuclear/Cortical               2.0   Placebo     72.484932     0   \n",
       "2         Nuclear/Cortical               2.0   Placebo     72.484932     0   \n",
       "4         Nuclear/Cortical               3.0   Placebo     72.484932     0   \n",
       "6         Nuclear/Cortical               3.0   Placebo     72.484932     0   \n",
       "8         Nuclear/Cortical               4.0   Placebo     72.484932     0   \n",
       "\n",
       "   white  Visit EyeLR  SevScore  SimpleSev        age  \n",
       "0      1      4    LE       2.0        1.0  74.484932  \n",
       "2      1      4    RE       2.0        1.0  74.484932  \n",
       "4      1      6    LE       2.0        1.0  75.484932  \n",
       "6      1      6    RE       1.0        1.0  75.484932  \n",
       "8      1      8    LE       3.0        1.0  76.484932  "
      ]
     },
     "execution_count": 23,
     "metadata": {},
     "output_type": "execute_result"
    }
   ],
   "source": [
    "trait_db.head()"
   ]
  },
  {
   "cell_type": "code",
   "execution_count": 24,
   "metadata": {
    "ExecuteTime": {
     "end_time": "2017-10-24T14:32:22.050357Z",
     "start_time": "2017-10-24T14:32:22.046707Z"
    }
   },
   "outputs": [
    {
     "data": {
      "text/plain": [
       "['51034-QUA-F2-LE-LS.tiff',\n",
       " '51046-06-F2-LE-LS.tiff',\n",
       " '51054-QUA-F2-LE-LS.tiff',\n",
       " '51064-QUA-F2-LE-LS.tiff',\n",
       " '51074-QUA-F2-LE-LS.tiff']"
      ]
     },
     "execution_count": 24,
     "metadata": {},
     "output_type": "execute_result"
    }
   ],
   "source": [
    "group_names[:5]"
   ]
  },
  {
   "cell_type": "code",
   "execution_count": 25,
   "metadata": {
    "ExecuteTime": {
     "end_time": "2017-10-24T14:32:22.420885Z",
     "start_time": "2017-10-24T14:32:22.416594Z"
    }
   },
   "outputs": [
    {
     "data": {
      "text/plain": [
       "3405"
      ]
     },
     "execution_count": 25,
     "metadata": {},
     "output_type": "execute_result"
    }
   ],
   "source": [
    "len(group_names)"
   ]
  },
  {
   "cell_type": "code",
   "execution_count": 26,
   "metadata": {
    "ExecuteTime": {
     "end_time": "2017-10-24T14:32:22.824477Z",
     "start_time": "2017-10-24T14:32:22.821194Z"
    }
   },
   "outputs": [
    {
     "data": {
      "text/plain": [
       "6841"
      ]
     },
     "execution_count": 26,
     "metadata": {},
     "output_type": "execute_result"
    }
   ],
   "source": [
    "len(averaged)"
   ]
  },
  {
   "cell_type": "code",
   "execution_count": 27,
   "metadata": {
    "ExecuteTime": {
     "end_time": "2017-10-24T14:32:23.799564Z",
     "start_time": "2017-10-24T14:32:23.188803Z"
    }
   },
   "outputs": [],
   "source": [
    "averaged = averaged.merge( trait_db, how='inner', on='converted_file_name' )"
   ]
  },
  {
   "cell_type": "code",
   "execution_count": 28,
   "metadata": {
    "ExecuteTime": {
     "end_time": "2017-10-24T14:32:23.806558Z",
     "start_time": "2017-10-24T14:32:23.801216Z"
    }
   },
   "outputs": [
    {
     "data": {
      "text/plain": [
       "8.0     650\n",
       "5.0     650\n",
       "3.0     650\n",
       "1.0     650\n",
       "7.0     649\n",
       "6.0     647\n",
       "2.0     647\n",
       "11.0    634\n",
       "4.0     619\n",
       "9.0     459\n",
       "10.0    298\n",
       "12.0    278\n",
       "Name: SevScore, dtype: int64"
      ]
     },
     "execution_count": 28,
     "metadata": {},
     "output_type": "execute_result"
    }
   ],
   "source": [
    "averaged.SevScore.value_counts()"
   ]
  },
  {
   "cell_type": "code",
   "execution_count": 29,
   "metadata": {
    "ExecuteTime": {
     "end_time": "2017-10-24T14:32:26.525693Z",
     "start_time": "2017-10-24T14:32:26.521706Z"
    }
   },
   "outputs": [
    {
     "data": {
      "text/plain": [
       "Index(['Edge Features () [0]', 'Edge Features () [1]', 'Edge Features () [2]',\n",
       "       'Edge Features () [3]', 'Edge Features () [4]', 'Edge Features () [5]',\n",
       "       'Edge Features () [6]', 'Edge Features () [7]', 'Edge Features () [8]',\n",
       "       'Edge Features () [9]',\n",
       "       ...\n",
       "       'Fractal Features (Wavelet (Edge ())) [16]',\n",
       "       'Fractal Features (Wavelet (Edge ())) [17]',\n",
       "       'Fractal Features (Wavelet (Edge ())) [18]',\n",
       "       'Fractal Features (Wavelet (Edge ())) [19]',\n",
       "       'Pixel Intensity Statistics (Wavelet (Edge ())) [0]',\n",
       "       'Pixel Intensity Statistics (Wavelet (Edge ())) [1]',\n",
       "       'Pixel Intensity Statistics (Wavelet (Edge ())) [2]',\n",
       "       'Pixel Intensity Statistics (Wavelet (Edge ())) [3]',\n",
       "       'Pixel Intensity Statistics (Wavelet (Edge ())) [4]',\n",
       "       'Gini Coefficient (Wavelet (Edge ())) [0]'],\n",
       "      dtype='object', length=3619)"
      ]
     },
     "execution_count": 29,
     "metadata": {},
     "output_type": "execute_result"
    }
   ],
   "source": [
    "averaged.columns[:3619]"
   ]
  },
  {
   "cell_type": "code",
   "execution_count": 30,
   "metadata": {
    "ExecuteTime": {
     "end_time": "2017-10-24T14:32:27.277699Z",
     "start_time": "2017-10-24T14:32:27.271876Z"
    }
   },
   "outputs": [
    {
     "data": {
      "text/plain": [
       "10.0    763\n",
       "8.0     650\n",
       "5.0     650\n",
       "3.0     650\n",
       "1.0     650\n",
       "7.0     649\n",
       "6.0     647\n",
       "2.0     647\n",
       "4.0     619\n",
       "9.0     459\n",
       "11.0    311\n",
       "12.0    136\n",
       "Name: actual, dtype: int64"
      ]
     },
     "execution_count": 30,
     "metadata": {},
     "output_type": "execute_result"
    }
   ],
   "source": [
    "averaged.actual.value_counts()"
   ]
  },
  {
   "cell_type": "code",
   "execution_count": 31,
   "metadata": {
    "ExecuteTime": {
     "end_time": "2017-10-24T14:32:44.753587Z",
     "start_time": "2017-10-24T14:32:44.747648Z"
    }
   },
   "outputs": [
    {
     "data": {
      "text/plain": [
       "RE    3431\n",
       "LE    3400\n",
       "Name: EyeLR, dtype: int64"
      ]
     },
     "execution_count": 31,
     "metadata": {},
     "output_type": "execute_result"
    }
   ],
   "source": [
    "averaged.EyeLR.value_counts()"
   ]
  },
  {
   "cell_type": "code",
   "execution_count": 32,
   "metadata": {
    "ExecuteTime": {
     "end_time": "2017-10-24T14:32:50.809917Z",
     "start_time": "2017-10-24T14:32:50.699988Z"
    }
   },
   "outputs": [],
   "source": [
    "X = averaged.iloc[:,:3619]\n",
    "Y = list(averaged.SevScore.astype(int))"
   ]
  },
  {
   "cell_type": "code",
   "execution_count": 33,
   "metadata": {
    "ExecuteTime": {
     "end_time": "2017-10-24T14:32:54.417384Z",
     "start_time": "2017-10-24T14:32:54.411955Z"
    }
   },
   "outputs": [
    {
     "data": {
      "text/plain": [
       "Counter({1: 650,\n",
       "         2: 647,\n",
       "         3: 650,\n",
       "         4: 619,\n",
       "         5: 650,\n",
       "         6: 647,\n",
       "         7: 649,\n",
       "         8: 650,\n",
       "         9: 459,\n",
       "         10: 298,\n",
       "         11: 634,\n",
       "         12: 278})"
      ]
     },
     "execution_count": 33,
     "metadata": {},
     "output_type": "execute_result"
    }
   ],
   "source": [
    "Counter(Y)"
   ]
  },
  {
   "cell_type": "code",
   "execution_count": 34,
   "metadata": {
    "ExecuteTime": {
     "end_time": "2017-10-24T14:32:57.262728Z",
     "start_time": "2017-10-24T14:32:57.260219Z"
    }
   },
   "outputs": [],
   "source": [
    "import time"
   ]
  },
  {
   "cell_type": "code",
   "execution_count": 35,
   "metadata": {
    "ExecuteTime": {
     "end_time": "2017-10-24T14:32:57.822854Z",
     "start_time": "2017-10-24T14:32:57.659920Z"
    }
   },
   "outputs": [],
   "source": [
    "from sklearn.model_selection import GridSearchCV\n",
    "from sklearn.svm import SVC\n",
    "from sklearn.model_selection import KFold\n",
    "from sklearn.pipeline import Pipeline\n",
    "from sklearn.preprocessing import StandardScaler"
   ]
  },
  {
   "cell_type": "markdown",
   "metadata": {},
   "source": [
    "# Support Vector Classifier"
   ]
  },
  {
   "cell_type": "code",
   "execution_count": 36,
   "metadata": {
    "ExecuteTime": {
     "end_time": "2017-10-24T14:32:58.224314Z",
     "start_time": "2017-10-24T14:32:58.219988Z"
    },
    "deletable": false,
    "editable": false,
    "run_control": {
     "frozen": true
    }
   },
   "outputs": [],
   "source": [
    "steps = []\n",
    "steps.append( ('standardize', StandardScaler() ) )\n",
    "steps.append( ('svc', SVC( class_weight='balanced') ) )\n",
    "svc_model = Pipeline( steps )"
   ]
  },
  {
   "cell_type": "code",
   "execution_count": 37,
   "metadata": {
    "ExecuteTime": {
     "end_time": "2017-10-24T14:32:58.591334Z",
     "start_time": "2017-10-24T14:32:58.588234Z"
    },
    "deletable": false,
    "editable": false,
    "run_control": {
     "frozen": true
    }
   },
   "outputs": [],
   "source": [
    "cv_strategy = KFold( n_splits=8, shuffle=True, random_state=42)"
   ]
  },
  {
   "cell_type": "code",
   "execution_count": 38,
   "metadata": {
    "ExecuteTime": {
     "end_time": "2017-10-13T19:35:05.746839Z",
     "start_time": "2017-10-13T19:35:05.742129Z"
    },
    "deletable": false,
    "editable": false,
    "run_control": {
     "frozen": true
    }
   },
   "outputs": [],
   "source": [
    "\n",
    "fine_grain_parameters = {'svc__C': [ 2**1, 2**1.5, 2**2, 2**2.5, 2**3, 2**3.5, 2**4.0, 2*4.5, 2*5 ],\n",
    "              'svc__gamma':[ 2**(-12), 2**(-11.5), 2**(-11), 2**(-10.5), 2**(-10), \n",
    "                            2**(-9.5), 2**(-9), 2**(-8.5), 2**(-8), 2**(-7.5)]}"
   ]
  },
  {
   "cell_type": "code",
   "execution_count": 39,
   "metadata": {
    "ExecuteTime": {
     "end_time": "2017-10-13T19:35:18.890372Z",
     "start_time": "2017-10-13T19:35:18.886678Z"
    },
    "deletable": false,
    "editable": false,
    "run_control": {
     "frozen": true
    }
   },
   "outputs": [],
   "source": [
    "scorers = ['accuracy', 'r2' ]\n",
    "grid_search_kwargs = \\\n",
    "{\n",
    "    'estimator' : svc_model,\n",
    "    'param_grid' : fine_grain_parameters,\n",
    "    \"scoring\" : scorers,\n",
    "    \"n_jobs\" : 16,\n",
    "    \"pre_dispatch\" : 16,\n",
    "    \"cv\" : cv_strategy,\n",
    "    \"refit\" : False\n",
    "}"
   ]
  },
  {
   "cell_type": "code",
   "execution_count": 40,
   "metadata": {
    "ExecuteTime": {
     "end_time": "2017-10-13T19:35:33.164889Z",
     "start_time": "2017-10-13T19:35:33.162303Z"
    },
    "deletable": false,
    "editable": false,
    "run_control": {
     "frozen": true
    }
   },
   "outputs": [],
   "source": [
    "clf = GridSearchCV( **grid_search_kwargs )"
   ]
  },
  {
   "cell_type": "code",
   "execution_count": null,
   "metadata": {
    "ExecuteTime": {
     "end_time": "2017-10-13T19:36:48.489329Z",
     "start_time": "2017-10-13T19:36:39.394734Z"
    },
    "deletable": false,
    "editable": false,
    "run_control": {
     "frozen": true
    }
   },
   "outputs": [],
   "source": [
    "t0 = time.time()\n",
    "clf.fit( X, Y)\n",
    "t1 = time.time()\n",
    "print( \"took {:0.1f}min\".format( (t2-t1)/60 ) )"
   ]
  },
  {
   "cell_type": "code",
   "execution_count": 44,
   "metadata": {
    "deletable": false,
    "editable": false,
    "run_control": {
     "frozen": true
    }
   },
   "outputs": [
    {
     "name": "stdout",
     "output_type": "stream",
     "text": [
      "accuracy 0.0873956960913 0.281803542673\n",
      "r2 -0.805511417653 0.390719217211\n"
     ]
    },
    {
     "data": {
      "image/png": "[encoded data removed]",
      "text/plain": [
       "<matplotlib.figure.Figure at 0x7ff2154d3f98>"
      ]
     },
     "metadata": {},
     "output_type": "display_data"
    }
   ],
   "source": [
    "sns.set_style(style='ticks')\n",
    "fig, axes = plt.subplots( nrows=2, ncols=1, figsize=(6,10), dpi=100, squeeze=True )\n",
    "\n",
    "col_labels = np.array( clf.cv_results_['param_svc__gamma'] ).reshape( (9,10) )[0]\n",
    "row_labels = np.array( clf.cv_results_['param_svc__C'] ).reshape( (9,10) )[:,0]\n",
    "for scorer_name, ax in zip( scorers, axes.flatten() ):\n",
    "    \n",
    "    key = 'mean_test_' + scorer_name\n",
    "    result = clf.cv_results_[ key ].copy().reshape( (9,10))\n",
    "    print( scorer_name, result.min(), result.max() )\n",
    "    mpl_im_obj = ax.imshow( result,  cmap=plt.cm.Blues, vmin=0, vmax=1)# interpolation='nearest',\n",
    "    ax.set_title( scorer_name )\n",
    "    ax.set_yticks( list( range( len( row_labels ) ) ) )\n",
    "    ax.set_xticks( list( range( len( col_labels ) ) ) )\n",
    "    ax.set_yticklabels( [ \"{:0.1g}\".format(_) for _ in row_labels ] )\n",
    "    ax.set_xticklabels( [ \"{:0.1g}\".format(_) for _ in col_labels ], rotation=-45)\n",
    "    ax.set_ylabel( 'C' )\n",
    "    ax.set_xlabel( 'gamma')\n",
    "fig.colorbar(mpl_im_obj, orientation='vertical' )\n",
    "fig.tight_layout()"
   ]
  },
  {
   "cell_type": "markdown",
   "metadata": {},
   "source": [
    "# Retrain SVC Classifier with best params"
   ]
  },
  {
   "cell_type": "code",
   "execution_count": 38,
   "metadata": {
    "ExecuteTime": {
     "end_time": "2017-10-24T14:33:04.485683Z",
     "start_time": "2017-10-24T14:33:04.483146Z"
    }
   },
   "outputs": [],
   "source": [
    "from sklearn.model_selection import cross_val_predict"
   ]
  },
  {
   "cell_type": "code",
   "execution_count": null,
   "metadata": {},
   "outputs": [],
   "source": [
    "cv_strategy = KFold( n_splits=8, shuffle=True, random_state=42)"
   ]
  },
  {
   "cell_type": "code",
   "execution_count": 39,
   "metadata": {
    "ExecuteTime": {
     "end_time": "2017-10-24T14:33:06.754114Z",
     "start_time": "2017-10-24T14:33:06.749663Z"
    }
   },
   "outputs": [],
   "source": [
    "steps = []\n",
    "steps.append( ('standardize', StandardScaler() ) )\n",
    "# ROC AUC curve metric requires probabilities\n",
    "steps.append( ('svc', SVC(C=4, gamma=2**(-12), class_weight='balanced') ) )\n",
    "svc_model = Pipeline( steps )"
   ]
  },
  {
   "cell_type": "code",
   "execution_count": 40,
   "metadata": {
    "ExecuteTime": {
     "end_time": "2017-10-24T14:43:59.989732Z",
     "start_time": "2017-10-24T14:33:07.507252Z"
    }
   },
   "outputs": [],
   "source": [
    "y_pred_svc = cross_val_predict( svc_model, X, Y, cv=cv_strategy, \n",
    "                              method='predict', n_jobs=8 )"
   ]
  },
  {
   "cell_type": "markdown",
   "metadata": {},
   "source": [
    "# Classifier Metrics\n",
    "## Confusion Matrix"
   ]
  },
  {
   "cell_type": "code",
   "execution_count": 41,
   "metadata": {
    "ExecuteTime": {
     "end_time": "2017-10-24T14:44:43.144856Z",
     "start_time": "2017-10-24T14:44:43.141207Z"
    }
   },
   "outputs": [],
   "source": [
    "from sklearn.metrics import confusion_matrix"
   ]
  },
  {
   "cell_type": "code",
   "execution_count": 42,
   "metadata": {
    "ExecuteTime": {
     "end_time": "2017-10-24T14:44:43.685803Z",
     "start_time": "2017-10-24T14:44:43.674677Z"
    }
   },
   "outputs": [],
   "source": [
    "cm = confusion_matrix( Y, y_pred_svc )"
   ]
  },
  {
   "cell_type": "code",
   "execution_count": 43,
   "metadata": {
    "ExecuteTime": {
     "end_time": "2017-10-24T14:44:44.128022Z",
     "start_time": "2017-10-24T14:44:44.123536Z"
    }
   },
   "outputs": [
    {
     "data": {
      "text/plain": [
       "array([[327, 118,  59,  63,  37,  13,   8,   5,   1,   0,  19,   0],\n",
       "       [180, 127, 124,  70,  69,  24,  10,  21,   6,   1,  14,   1],\n",
       "       [132, 119, 131,  87,  89,  37,  12,  20,   2,   2,  16,   3],\n",
       "       [128, 114,  98,  75,  85,  42,  18,  23,   8,   0,  24,   4],\n",
       "       [ 89,  67, 112,  83,  92,  69,  37,  61,   5,   4,  26,   5],\n",
       "       [ 51,  42,  57,  62,  90, 106, 101,  82,  28,   4,  22,   2],\n",
       "       [ 20,  17,  37,  29,  54,  94, 170, 125,  57,   9,  30,   7],\n",
       "       [ 19,  24,  35,  38,  63,  57, 113, 184,  64,  19,  25,   9],\n",
       "       [  3,   2,  15,  11,  26,  23,  66,  96, 123,  39,  33,  22],\n",
       "       [  1,   1,   2,   3,  13,   6,  22,  41,  80,  43,  42,  44],\n",
       "       [ 23,   6,   6,  17,  17,  19,  35,  25,  28,  16, 403,  39],\n",
       "       [  0,   0,   1,   2,   3,   6,  13,  16,  30,  30,  72, 105]])"
      ]
     },
     "execution_count": 43,
     "metadata": {},
     "output_type": "execute_result"
    }
   ],
   "source": [
    "cm"
   ]
  },
  {
   "cell_type": "code",
   "execution_count": 44,
   "metadata": {
    "ExecuteTime": {
     "end_time": "2017-10-24T14:44:46.686271Z",
     "start_time": "2017-10-24T14:44:46.682760Z"
    }
   },
   "outputs": [],
   "source": [
    "result = pd.DataFrame(data=cm)#.to_latex()"
   ]
  },
  {
   "cell_type": "code",
   "execution_count": 45,
   "metadata": {
    "ExecuteTime": {
     "end_time": "2017-10-24T14:44:48.727442Z",
     "start_time": "2017-10-24T14:44:48.724184Z"
    }
   },
   "outputs": [],
   "source": [
    "labels = ['1', '2', '3', '4', '5', '6', '7', '8', '9', 'CGA', 'NeoAMD', 'NeoAMD + CGA']"
   ]
  },
  {
   "cell_type": "code",
   "execution_count": 46,
   "metadata": {
    "ExecuteTime": {
     "end_time": "2017-10-24T14:44:49.064972Z",
     "start_time": "2017-10-24T14:44:49.061912Z"
    }
   },
   "outputs": [],
   "source": [
    "result.index = labels"
   ]
  },
  {
   "cell_type": "code",
   "execution_count": 47,
   "metadata": {
    "ExecuteTime": {
     "end_time": "2017-10-24T14:44:49.414681Z",
     "start_time": "2017-10-24T14:44:49.411909Z"
    }
   },
   "outputs": [],
   "source": [
    "result.columns = labels"
   ]
  },
  {
   "cell_type": "code",
   "execution_count": 48,
   "metadata": {
    "ExecuteTime": {
     "end_time": "2017-10-24T14:44:49.743869Z",
     "start_time": "2017-10-24T14:44:49.735950Z"
    }
   },
   "outputs": [],
   "source": [
    "result.loc[ 'Total', :] = result.sum(axis=0)"
   ]
  },
  {
   "cell_type": "code",
   "execution_count": 49,
   "metadata": {
    "ExecuteTime": {
     "end_time": "2017-10-24T14:44:50.082715Z",
     "start_time": "2017-10-24T14:44:50.076103Z"
    }
   },
   "outputs": [],
   "source": [
    "result.loc[:, 'Total'] = result.sum(axis=1)"
   ]
  },
  {
   "cell_type": "code",
   "execution_count": 50,
   "metadata": {
    "ExecuteTime": {
     "end_time": "2017-10-24T14:44:50.383970Z",
     "start_time": "2017-10-24T14:44:50.381073Z"
    }
   },
   "outputs": [],
   "source": [
    "result = result.astype(int)"
   ]
  },
  {
   "cell_type": "code",
   "execution_count": 51,
   "metadata": {
    "ExecuteTime": {
     "end_time": "2017-10-24T14:44:51.475860Z",
     "start_time": "2017-10-24T14:44:51.454324Z"
    }
   },
   "outputs": [
    {
     "data": {
      "text/html": [
       "<div>\n",
       "<style>\n",
       "    .dataframe thead tr:only-child th {\n",
       "        text-align: right;\n",
       "    }\n",
       "\n",
       "    .dataframe thead th {\n",
       "        text-align: left;\n",
       "    }\n",
       "\n",
       "    .dataframe tbody tr th {\n",
       "        vertical-align: top;\n",
       "    }\n",
       "</style>\n",
       "<table border=\"1\" class=\"dataframe\">\n",
       "  <thead>\n",
       "    <tr style=\"text-align: right;\">\n",
       "      <th></th>\n",
       "      <th>1</th>\n",
       "      <th>2</th>\n",
       "      <th>3</th>\n",
       "      <th>4</th>\n",
       "      <th>5</th>\n",
       "      <th>6</th>\n",
       "      <th>7</th>\n",
       "      <th>8</th>\n",
       "      <th>9</th>\n",
       "      <th>CGA</th>\n",
       "      <th>NeoAMD</th>\n",
       "      <th>NeoAMD + CGA</th>\n",
       "      <th>Total</th>\n",
       "    </tr>\n",
       "  </thead>\n",
       "  <tbody>\n",
       "    <tr>\n",
       "      <th>1</th>\n",
       "      <td>327</td>\n",
       "      <td>118</td>\n",
       "      <td>59</td>\n",
       "      <td>63</td>\n",
       "      <td>37</td>\n",
       "      <td>13</td>\n",
       "      <td>8</td>\n",
       "      <td>5</td>\n",
       "      <td>1</td>\n",
       "      <td>0</td>\n",
       "      <td>19</td>\n",
       "      <td>0</td>\n",
       "      <td>650</td>\n",
       "    </tr>\n",
       "    <tr>\n",
       "      <th>2</th>\n",
       "      <td>180</td>\n",
       "      <td>127</td>\n",
       "      <td>124</td>\n",
       "      <td>70</td>\n",
       "      <td>69</td>\n",
       "      <td>24</td>\n",
       "      <td>10</td>\n",
       "      <td>21</td>\n",
       "      <td>6</td>\n",
       "      <td>1</td>\n",
       "      <td>14</td>\n",
       "      <td>1</td>\n",
       "      <td>647</td>\n",
       "    </tr>\n",
       "    <tr>\n",
       "      <th>3</th>\n",
       "      <td>132</td>\n",
       "      <td>119</td>\n",
       "      <td>131</td>\n",
       "      <td>87</td>\n",
       "      <td>89</td>\n",
       "      <td>37</td>\n",
       "      <td>12</td>\n",
       "      <td>20</td>\n",
       "      <td>2</td>\n",
       "      <td>2</td>\n",
       "      <td>16</td>\n",
       "      <td>3</td>\n",
       "      <td>650</td>\n",
       "    </tr>\n",
       "    <tr>\n",
       "      <th>4</th>\n",
       "      <td>128</td>\n",
       "      <td>114</td>\n",
       "      <td>98</td>\n",
       "      <td>75</td>\n",
       "      <td>85</td>\n",
       "      <td>42</td>\n",
       "      <td>18</td>\n",
       "      <td>23</td>\n",
       "      <td>8</td>\n",
       "      <td>0</td>\n",
       "      <td>24</td>\n",
       "      <td>4</td>\n",
       "      <td>619</td>\n",
       "    </tr>\n",
       "    <tr>\n",
       "      <th>5</th>\n",
       "      <td>89</td>\n",
       "      <td>67</td>\n",
       "      <td>112</td>\n",
       "      <td>83</td>\n",
       "      <td>92</td>\n",
       "      <td>69</td>\n",
       "      <td>37</td>\n",
       "      <td>61</td>\n",
       "      <td>5</td>\n",
       "      <td>4</td>\n",
       "      <td>26</td>\n",
       "      <td>5</td>\n",
       "      <td>650</td>\n",
       "    </tr>\n",
       "    <tr>\n",
       "      <th>6</th>\n",
       "      <td>51</td>\n",
       "      <td>42</td>\n",
       "      <td>57</td>\n",
       "      <td>62</td>\n",
       "      <td>90</td>\n",
       "      <td>106</td>\n",
       "      <td>101</td>\n",
       "      <td>82</td>\n",
       "      <td>28</td>\n",
       "      <td>4</td>\n",
       "      <td>22</td>\n",
       "      <td>2</td>\n",
       "      <td>647</td>\n",
       "    </tr>\n",
       "    <tr>\n",
       "      <th>7</th>\n",
       "      <td>20</td>\n",
       "      <td>17</td>\n",
       "      <td>37</td>\n",
       "      <td>29</td>\n",
       "      <td>54</td>\n",
       "      <td>94</td>\n",
       "      <td>170</td>\n",
       "      <td>125</td>\n",
       "      <td>57</td>\n",
       "      <td>9</td>\n",
       "      <td>30</td>\n",
       "      <td>7</td>\n",
       "      <td>649</td>\n",
       "    </tr>\n",
       "    <tr>\n",
       "      <th>8</th>\n",
       "      <td>19</td>\n",
       "      <td>24</td>\n",
       "      <td>35</td>\n",
       "      <td>38</td>\n",
       "      <td>63</td>\n",
       "      <td>57</td>\n",
       "      <td>113</td>\n",
       "      <td>184</td>\n",
       "      <td>64</td>\n",
       "      <td>19</td>\n",
       "      <td>25</td>\n",
       "      <td>9</td>\n",
       "      <td>650</td>\n",
       "    </tr>\n",
       "    <tr>\n",
       "      <th>9</th>\n",
       "      <td>3</td>\n",
       "      <td>2</td>\n",
       "      <td>15</td>\n",
       "      <td>11</td>\n",
       "      <td>26</td>\n",
       "      <td>23</td>\n",
       "      <td>66</td>\n",
       "      <td>96</td>\n",
       "      <td>123</td>\n",
       "      <td>39</td>\n",
       "      <td>33</td>\n",
       "      <td>22</td>\n",
       "      <td>459</td>\n",
       "    </tr>\n",
       "    <tr>\n",
       "      <th>CGA</th>\n",
       "      <td>1</td>\n",
       "      <td>1</td>\n",
       "      <td>2</td>\n",
       "      <td>3</td>\n",
       "      <td>13</td>\n",
       "      <td>6</td>\n",
       "      <td>22</td>\n",
       "      <td>41</td>\n",
       "      <td>80</td>\n",
       "      <td>43</td>\n",
       "      <td>42</td>\n",
       "      <td>44</td>\n",
       "      <td>298</td>\n",
       "    </tr>\n",
       "    <tr>\n",
       "      <th>NeoAMD</th>\n",
       "      <td>23</td>\n",
       "      <td>6</td>\n",
       "      <td>6</td>\n",
       "      <td>17</td>\n",
       "      <td>17</td>\n",
       "      <td>19</td>\n",
       "      <td>35</td>\n",
       "      <td>25</td>\n",
       "      <td>28</td>\n",
       "      <td>16</td>\n",
       "      <td>403</td>\n",
       "      <td>39</td>\n",
       "      <td>634</td>\n",
       "    </tr>\n",
       "    <tr>\n",
       "      <th>NeoAMD + CGA</th>\n",
       "      <td>0</td>\n",
       "      <td>0</td>\n",
       "      <td>1</td>\n",
       "      <td>2</td>\n",
       "      <td>3</td>\n",
       "      <td>6</td>\n",
       "      <td>13</td>\n",
       "      <td>16</td>\n",
       "      <td>30</td>\n",
       "      <td>30</td>\n",
       "      <td>72</td>\n",
       "      <td>105</td>\n",
       "      <td>278</td>\n",
       "    </tr>\n",
       "    <tr>\n",
       "      <th>Total</th>\n",
       "      <td>973</td>\n",
       "      <td>637</td>\n",
       "      <td>677</td>\n",
       "      <td>540</td>\n",
       "      <td>638</td>\n",
       "      <td>496</td>\n",
       "      <td>605</td>\n",
       "      <td>699</td>\n",
       "      <td>432</td>\n",
       "      <td>167</td>\n",
       "      <td>726</td>\n",
       "      <td>241</td>\n",
       "      <td>6831</td>\n",
       "    </tr>\n",
       "  </tbody>\n",
       "</table>\n",
       "</div>"
      ],
      "text/plain": [
       "                1    2    3    4    5    6    7    8    9  CGA  NeoAMD  \\\n",
       "1             327  118   59   63   37   13    8    5    1    0      19   \n",
       "2             180  127  124   70   69   24   10   21    6    1      14   \n",
       "3             132  119  131   87   89   37   12   20    2    2      16   \n",
       "4             128  114   98   75   85   42   18   23    8    0      24   \n",
       "5              89   67  112   83   92   69   37   61    5    4      26   \n",
       "6              51   42   57   62   90  106  101   82   28    4      22   \n",
       "7              20   17   37   29   54   94  170  125   57    9      30   \n",
       "8              19   24   35   38   63   57  113  184   64   19      25   \n",
       "9               3    2   15   11   26   23   66   96  123   39      33   \n",
       "CGA             1    1    2    3   13    6   22   41   80   43      42   \n",
       "NeoAMD         23    6    6   17   17   19   35   25   28   16     403   \n",
       "NeoAMD + CGA    0    0    1    2    3    6   13   16   30   30      72   \n",
       "Total         973  637  677  540  638  496  605  699  432  167     726   \n",
       "\n",
       "              NeoAMD + CGA  Total  \n",
       "1                        0    650  \n",
       "2                        1    647  \n",
       "3                        3    650  \n",
       "4                        4    619  \n",
       "5                        5    650  \n",
       "6                        2    647  \n",
       "7                        7    649  \n",
       "8                        9    650  \n",
       "9                       22    459  \n",
       "CGA                     44    298  \n",
       "NeoAMD                  39    634  \n",
       "NeoAMD + CGA           105    278  \n",
       "Total                  241   6831  "
      ]
     },
     "execution_count": 51,
     "metadata": {},
     "output_type": "execute_result"
    }
   ],
   "source": [
    "result"
   ]
  },
  {
   "cell_type": "code",
   "execution_count": 52,
   "metadata": {
    "ExecuteTime": {
     "end_time": "2017-10-24T14:44:53.823603Z",
     "start_time": "2017-10-24T14:44:53.812423Z"
    }
   },
   "outputs": [
    {
     "name": "stdout",
     "output_type": "stream",
     "text": [
      "\\begin{tabular}{lrrrrrrrrrrrrr}\n",
      "\\toprule\n",
      "{} &    1 &    2 &    3 &    4 &    5 &    6 &    7 &    8 &    9 &  CGA &  NeoAMD &  NeoAMD + CGA &  Total \\\\\n",
      "\\midrule\n",
      "1            &  327 &  118 &   59 &   63 &   37 &   13 &    8 &    5 &    1 &    0 &      19 &             0 &    650 \\\\\n",
      "2            &  180 &  127 &  124 &   70 &   69 &   24 &   10 &   21 &    6 &    1 &      14 &             1 &    647 \\\\\n",
      "3            &  132 &  119 &  131 &   87 &   89 &   37 &   12 &   20 &    2 &    2 &      16 &             3 &    650 \\\\\n",
      "4            &  128 &  114 &   98 &   75 &   85 &   42 &   18 &   23 &    8 &    0 &      24 &             4 &    619 \\\\\n",
      "5            &   89 &   67 &  112 &   83 &   92 &   69 &   37 &   61 &    5 &    4 &      26 &             5 &    650 \\\\\n",
      "6            &   51 &   42 &   57 &   62 &   90 &  106 &  101 &   82 &   28 &    4 &      22 &             2 &    647 \\\\\n",
      "7            &   20 &   17 &   37 &   29 &   54 &   94 &  170 &  125 &   57 &    9 &      30 &             7 &    649 \\\\\n",
      "8            &   19 &   24 &   35 &   38 &   63 &   57 &  113 &  184 &   64 &   19 &      25 &             9 &    650 \\\\\n",
      "9            &    3 &    2 &   15 &   11 &   26 &   23 &   66 &   96 &  123 &   39 &      33 &            22 &    459 \\\\\n",
      "CGA          &    1 &    1 &    2 &    3 &   13 &    6 &   22 &   41 &   80 &   43 &      42 &            44 &    298 \\\\\n",
      "NeoAMD       &   23 &    6 &    6 &   17 &   17 &   19 &   35 &   25 &   28 &   16 &     403 &            39 &    634 \\\\\n",
      "NeoAMD + CGA &    0 &    0 &    1 &    2 &    3 &    6 &   13 &   16 &   30 &   30 &      72 &           105 &    278 \\\\\n",
      "Total        &  973 &  637 &  677 &  540 &  638 &  496 &  605 &  699 &  432 &  167 &     726 &           241 &   6831 \\\\\n",
      "\\bottomrule\n",
      "\\end{tabular}\n",
      "\n"
     ]
    }
   ],
   "source": [
    "print( result.to_latex() )"
   ]
  },
  {
   "cell_type": "code",
   "execution_count": 53,
   "metadata": {
    "ExecuteTime": {
     "end_time": "2017-10-24T14:44:56.383413Z",
     "start_time": "2017-10-24T14:44:56.380501Z"
    }
   },
   "outputs": [],
   "source": [
    "cm_normal = cm.astype('float') / cm.sum(axis=1)[:, np.newaxis]"
   ]
  },
  {
   "cell_type": "code",
   "execution_count": 54,
   "metadata": {
    "ExecuteTime": {
     "end_time": "2017-10-24T14:44:58.182983Z",
     "start_time": "2017-10-24T14:44:57.739512Z"
    }
   },
   "outputs": [
    {
     "data": {
      "image/png": "[encoded data removed]",
      "text/plain": [
       "<matplotlib.figure.Figure at 0x1060aeac8>"
      ]
     },
     "metadata": {},
     "output_type": "display_data"
    }
   ],
   "source": [
    "from mpl_toolkits.axes_grid1 import make_axes_locatable\n",
    "sns.set_style(style='ticks')\n",
    "fig = plt.figure( figsize=(4,3.5), dpi=150 )\n",
    "ax = fig.gca()\n",
    "mpl_im_obj = ax.imshow( cm_normal, interpolation='nearest', cmap=plt.cm.Blues)\n",
    "#ax.set_title( \"Both Eyes 12-class SVC\" )\n",
    "ax.tick_params( axis='x', rotation=90, labeltop='on', labelbottom='off')\n",
    "ax.set_yticks( list( range(0,12) ) )\n",
    "ax.set_xticks( list( range(0,12) ) )\n",
    "ax.xaxis.set_ticks_position('none')\n",
    "ax.yaxis.set_ticks_position('none')\n",
    "labels = [str(_) for _ in range(1,10)]+ ['CGA', 'NeoAMD', \"NeoAMD+CGA\"]\n",
    "ax.set_xticklabels( labels )\n",
    "ax.set_yticklabels( labels )\n",
    "divider = make_axes_locatable(ax)\n",
    "cax = divider.append_axes(\"right\", size=\"5%\", pad=0.15)\n",
    "fig.colorbar( mpl_im_obj, cax=cax, orientation='vertical' )\n",
    "fig.tight_layout()\n",
    "fig.savefig( 'paper/images/both_eyes_12_class_svc_cm_cv.pdf' )"
   ]
  },
  {
   "cell_type": "code",
   "execution_count": 55,
   "metadata": {
    "ExecuteTime": {
     "end_time": "2017-10-24T14:45:02.021460Z",
     "start_time": "2017-10-24T14:45:02.018708Z"
    }
   },
   "outputs": [],
   "source": [
    "from sklearn.metrics import r2_score"
   ]
  },
  {
   "cell_type": "code",
   "execution_count": 56,
   "metadata": {
    "ExecuteTime": {
     "end_time": "2017-10-24T14:45:02.871211Z",
     "start_time": "2017-10-24T14:45:02.866066Z"
    }
   },
   "outputs": [
    {
     "data": {
      "text/plain": [
       "0.39263828214759733"
      ]
     },
     "execution_count": 56,
     "metadata": {},
     "output_type": "execute_result"
    }
   ],
   "source": [
    "r2_score(Y, y_pred_svc )"
   ]
  },
  {
   "cell_type": "markdown",
   "metadata": {},
   "source": [
    "# Diagonals\n",
    "\n",
    "## Full agreement"
   ]
  },
  {
   "cell_type": "code",
   "execution_count": 57,
   "metadata": {
    "ExecuteTime": {
     "end_time": "2017-10-24T14:45:13.943651Z",
     "start_time": "2017-10-24T14:45:13.939902Z"
    }
   },
   "outputs": [
    {
     "data": {
      "text/plain": [
       "1886"
      ]
     },
     "execution_count": 57,
     "metadata": {},
     "output_type": "execute_result"
    }
   ],
   "source": [
    "np.diag(cm).sum()"
   ]
  },
  {
   "cell_type": "code",
   "execution_count": 58,
   "metadata": {
    "ExecuteTime": {
     "end_time": "2017-10-24T14:45:14.384439Z",
     "start_time": "2017-10-24T14:45:14.378946Z"
    }
   },
   "outputs": [
    {
     "data": {
      "text/plain": [
       "0.27609427609427611"
      ]
     },
     "execution_count": 58,
     "metadata": {},
     "output_type": "execute_result"
    }
   ],
   "source": [
    "np.diag(cm).sum() / cm.sum()"
   ]
  },
  {
   "cell_type": "markdown",
   "metadata": {},
   "source": [
    "## One-off diagonal"
   ]
  },
  {
   "cell_type": "code",
   "execution_count": 59,
   "metadata": {
    "ExecuteTime": {
     "end_time": "2017-10-24T14:45:19.470031Z",
     "start_time": "2017-10-24T14:45:19.466357Z"
    }
   },
   "outputs": [],
   "source": [
    "one_off_diag_locations = (np.eye( *cm.shape, k=-1).astype(bool) | \n",
    " np.eye( *cm.shape, k=0).astype(bool) | \n",
    " np.eye( *cm.shape, k=1).astype(bool))"
   ]
  },
  {
   "cell_type": "code",
   "execution_count": 60,
   "metadata": {
    "ExecuteTime": {
     "end_time": "2017-10-24T14:45:19.917672Z",
     "start_time": "2017-10-24T14:45:19.913234Z"
    }
   },
   "outputs": [
    {
     "data": {
      "text/plain": [
       "3820"
      ]
     },
     "execution_count": 60,
     "metadata": {},
     "output_type": "execute_result"
    }
   ],
   "source": [
    "cm[ one_off_diag_locations ].sum()"
   ]
  },
  {
   "cell_type": "code",
   "execution_count": 61,
   "metadata": {
    "ExecuteTime": {
     "end_time": "2017-10-24T14:45:21.030482Z",
     "start_time": "2017-10-24T14:45:21.026317Z"
    }
   },
   "outputs": [
    {
     "data": {
      "text/plain": [
       "0.55921534182403743"
      ]
     },
     "execution_count": 61,
     "metadata": {},
     "output_type": "execute_result"
    }
   ],
   "source": [
    "cm[ one_off_diag_locations ].sum() / cm.sum()"
   ]
  },
  {
   "cell_type": "markdown",
   "metadata": {
    "ExecuteTime": {
     "end_time": "2017-10-23T19:22:20.609063Z",
     "start_time": "2017-10-23T19:22:20.606293Z"
    }
   },
   "source": [
    "## Two-off diagonal"
   ]
  },
  {
   "cell_type": "code",
   "execution_count": 62,
   "metadata": {
    "ExecuteTime": {
     "end_time": "2017-10-24T14:45:38.759150Z",
     "start_time": "2017-10-24T14:45:38.755898Z"
    }
   },
   "outputs": [],
   "source": [
    "two_off_diag_locations = ( one_off_diag_locations | \n",
    " np.eye( *cm.shape, k=-2).astype(bool) | \n",
    " np.eye( *cm.shape, k=2).astype(bool))"
   ]
  },
  {
   "cell_type": "code",
   "execution_count": 63,
   "metadata": {
    "ExecuteTime": {
     "end_time": "2017-10-24T14:45:39.260700Z",
     "start_time": "2017-10-24T14:45:39.256605Z"
    }
   },
   "outputs": [
    {
     "data": {
      "text/plain": [
       "5048"
      ]
     },
     "execution_count": 63,
     "metadata": {},
     "output_type": "execute_result"
    }
   ],
   "source": [
    "cm[ two_off_diag_locations ].sum()"
   ]
  },
  {
   "cell_type": "code",
   "execution_count": 64,
   "metadata": {
    "ExecuteTime": {
     "end_time": "2017-10-24T14:45:39.786043Z",
     "start_time": "2017-10-24T14:45:39.782144Z"
    }
   },
   "outputs": [
    {
     "data": {
      "text/plain": [
       "0.7389840433318694"
      ]
     },
     "execution_count": 64,
     "metadata": {},
     "output_type": "execute_result"
    }
   ],
   "source": [
    "cm[ two_off_diag_locations ].sum() / cm.sum()"
   ]
  },
  {
   "cell_type": "markdown",
   "metadata": {
    "ExecuteTime": {
     "end_time": "2017-10-23T19:22:20.614323Z",
     "start_time": "2017-10-23T19:22:20.610818Z"
    }
   },
   "source": [
    "## Cohen's Kappa"
   ]
  },
  {
   "cell_type": "code",
   "execution_count": 65,
   "metadata": {
    "ExecuteTime": {
     "end_time": "2017-10-24T14:46:17.456479Z",
     "start_time": "2017-10-24T14:46:17.453943Z"
    }
   },
   "outputs": [],
   "source": [
    "from sklearn.metrics import cohen_kappa_score"
   ]
  },
  {
   "cell_type": "code",
   "execution_count": 66,
   "metadata": {
    "ExecuteTime": {
     "end_time": "2017-10-24T14:47:18.561106Z",
     "start_time": "2017-10-24T14:47:18.550171Z"
    }
   },
   "outputs": [
    {
     "data": {
      "text/plain": [
       "0.20492589521669613"
      ]
     },
     "execution_count": 66,
     "metadata": {},
     "output_type": "execute_result"
    }
   ],
   "source": [
    "cohen_kappa_score(Y, y_pred_svc )"
   ]
  },
  {
   "cell_type": "code",
   "execution_count": 67,
   "metadata": {
    "ExecuteTime": {
     "end_time": "2017-10-24T14:47:42.492153Z",
     "start_time": "2017-10-24T14:47:42.480985Z"
    }
   },
   "outputs": [
    {
     "data": {
      "text/plain": [
       "0.54132752738687395"
      ]
     },
     "execution_count": 67,
     "metadata": {},
     "output_type": "execute_result"
    }
   ],
   "source": [
    "cohen_kappa_score(Y, y_pred_svc, weights='linear' )"
   ]
  },
  {
   "cell_type": "code",
   "execution_count": 68,
   "metadata": {
    "ExecuteTime": {
     "end_time": "2017-10-24T14:47:52.068937Z",
     "start_time": "2017-10-24T14:47:52.057999Z"
    }
   },
   "outputs": [
    {
     "data": {
      "text/plain": [
       "0.70905805883476902"
      ]
     },
     "execution_count": 68,
     "metadata": {},
     "output_type": "execute_result"
    }
   ],
   "source": [
    "cohen_kappa_score(Y, y_pred_svc, weights='quadratic' )"
   ]
  },
  {
   "cell_type": "markdown",
   "metadata": {
    "ExecuteTime": {
     "end_time": "2017-10-23T19:22:20.614323Z",
     "start_time": "2017-10-23T19:22:20.610818Z"
    }
   },
   "source": [
    "# Regression Problem"
   ]
  },
  {
   "cell_type": "code",
   "execution_count": 67,
   "metadata": {
    "ExecuteTime": {
     "end_time": "2017-10-23T19:22:20.640515Z",
     "start_time": "2017-10-23T19:22:20.638037Z"
    }
   },
   "outputs": [],
   "source": [
    "from sklearn.svm import SVR"
   ]
  },
  {
   "cell_type": "code",
   "execution_count": 68,
   "metadata": {
    "ExecuteTime": {
     "end_time": "2017-10-23T19:22:20.649566Z",
     "start_time": "2017-10-23T19:22:20.643274Z"
    }
   },
   "outputs": [],
   "source": [
    "steps = []\n",
    "steps.append( ('standardize', StandardScaler() ) )\n",
    "steps.append( ('svc', SVR( C=4, gamma=2**(-12) ) ) )\n",
    "svr_model = Pipeline( steps )"
   ]
  },
  {
   "cell_type": "code",
   "execution_count": 69,
   "metadata": {
    "ExecuteTime": {
     "end_time": "2017-10-23T19:29:46.626660Z",
     "start_time": "2017-10-23T19:22:20.651947Z"
    }
   },
   "outputs": [
    {
     "name": "stdout",
     "output_type": "stream",
     "text": [
      "took 7.4min\n"
     ]
    }
   ],
   "source": [
    "t1 = time.time()\n",
    "y_pred_svr = cross_val_predict( svr_model, X, Y, cv=cv_strategy, \n",
    "                              method='predict', n_jobs=8 )\n",
    "t2 = time.time()\n",
    "print( \"took {:0.1f}min\".format( (t2-t1)/60 ) )"
   ]
  },
  {
   "cell_type": "code",
   "execution_count": 70,
   "metadata": {
    "ExecuteTime": {
     "end_time": "2017-10-23T19:29:46.650536Z",
     "start_time": "2017-10-23T19:29:46.629111Z"
    }
   },
   "outputs": [],
   "source": [
    "with open( 'both_sides_12_class_svr_y_pred.txt', 'w' ) as f:\n",
    "    for a, b in zip( Y, y_pred_svr ):\n",
    "        f.write( '{}\\t{}\\n'.format( a, b ) )"
   ]
  },
  {
   "cell_type": "code",
   "execution_count": 71,
   "metadata": {
    "ExecuteTime": {
     "end_time": "2017-10-23T19:29:46.658422Z",
     "start_time": "2017-10-23T19:29:46.652204Z"
    }
   },
   "outputs": [
    {
     "data": {
      "text/plain": [
       "0.5785218574957296"
      ]
     },
     "execution_count": 71,
     "metadata": {},
     "output_type": "execute_result"
    }
   ],
   "source": [
    "r2_score(Y, y_pred_svr)"
   ]
  },
  {
   "cell_type": "code",
   "execution_count": 72,
   "metadata": {
    "ExecuteTime": {
     "end_time": "2017-10-23T19:29:46.664380Z",
     "start_time": "2017-10-23T19:29:46.660392Z"
    }
   },
   "outputs": [
    {
     "data": {
      "text/plain": [
       "(6831, 3638)"
      ]
     },
     "execution_count": 72,
     "metadata": {},
     "output_type": "execute_result"
    }
   ],
   "source": [
    "averaged.shape"
   ]
  },
  {
   "cell_type": "code",
   "execution_count": 73,
   "metadata": {
    "ExecuteTime": {
     "end_time": "2017-10-23T19:29:46.669364Z",
     "start_time": "2017-10-23T19:29:46.666046Z"
    }
   },
   "outputs": [
    {
     "data": {
      "text/plain": [
       "6831"
      ]
     },
     "execution_count": 73,
     "metadata": {},
     "output_type": "execute_result"
    }
   ],
   "source": [
    "len(y_pred_svr)"
   ]
  },
  {
   "cell_type": "code",
   "execution_count": 74,
   "metadata": {
    "ExecuteTime": {
     "end_time": "2017-10-23T19:29:46.675958Z",
     "start_time": "2017-10-23T19:29:46.670914Z"
    }
   },
   "outputs": [],
   "source": [
    "averaged['svc_pred'] = y_pred_svc"
   ]
  },
  {
   "cell_type": "code",
   "execution_count": 75,
   "metadata": {
    "ExecuteTime": {
     "end_time": "2017-10-23T19:29:46.684602Z",
     "start_time": "2017-10-23T19:29:46.678693Z"
    }
   },
   "outputs": [],
   "source": [
    "averaged['svr_pred'] = y_pred_svr\n",
    "averaged[ 'svr_residual' ] = averaged['svr_pred'] - averaged['SevScore']"
   ]
  },
  {
   "cell_type": "code",
   "execution_count": 76,
   "metadata": {
    "ExecuteTime": {
     "end_time": "2017-10-23T19:29:46.690236Z",
     "start_time": "2017-10-23T19:29:46.686037Z"
    }
   },
   "outputs": [
    {
     "data": {
      "text/plain": [
       "Index(['Edge Features () [0]', 'Edge Features () [1]', 'Edge Features () [2]',\n",
       "       'Edge Features () [3]', 'Edge Features () [4]', 'Edge Features () [5]',\n",
       "       'Edge Features () [6]', 'Edge Features () [7]', 'Edge Features () [8]',\n",
       "       'Edge Features () [9]',\n",
       "       ...\n",
       "       'male', 'white', 'Visit', 'EyeLR', 'SevScore', 'SimpleSev', 'age',\n",
       "       'svc_pred', 'svr_pred', 'svr_residual'],\n",
       "      dtype='object', length=3641)"
      ]
     },
     "execution_count": 76,
     "metadata": {},
     "output_type": "execute_result"
    }
   ],
   "source": [
    "averaged.columns"
   ]
  },
  {
   "cell_type": "code",
   "execution_count": 77,
   "metadata": {
    "ExecuteTime": {
     "end_time": "2017-10-23T19:29:46.698565Z",
     "start_time": "2017-10-23T19:29:46.692555Z"
    }
   },
   "outputs": [],
   "source": [
    "averaged['sex'] = pd.Categorical.from_codes( codes=averaged['male'], categories=['female', 'male'] )"
   ]
  },
  {
   "cell_type": "code",
   "execution_count": 78,
   "metadata": {
    "ExecuteTime": {
     "end_time": "2017-10-23T19:29:47.588407Z",
     "start_time": "2017-10-23T19:29:46.700119Z"
    }
   },
   "outputs": [
    {
     "data": {
      "image/png": "[encoded data removed]",
      "text/plain": [
       "<matplotlib.figure.Figure at 0x13673d400>"
      ]
     },
     "metadata": {},
     "output_type": "display_data"
    }
   ],
   "source": [
    "sns.set(style=\"whitegrid\", palette=\"pastel\", color_codes=True)\n",
    "fig = plt.figure( figsize=(7,4), dpi=200 )\n",
    "ax = fig.gca()\n",
    "#ax.set_yticks( list( range( -10, 12, 2) ) )\n",
    "sns.violinplot( x='SevScore', y='svr_pred',hue=\"sex\", data=averaged, ax=ax, cut=0, split=True) #scale='width',\n",
    "#ax.set_xticks( list( range(0,13) ) )\n",
    "ax.set_xticklabels( [str(_) for _ in range(1,13)] )\n",
    "#ax.set_title( \"Residual vs. Actual, Left Eye 12-class SVR\" )\n",
    "ax.set_xlabel( \"Pathologist AMD grade\")\n",
    "ax.set_ylabel( \"Machine-predicted AMD severity\")\n",
    "sns.despine(left=True, bottom=True)\n",
    "fig.savefig( 'paper/images/both_sides_12_class_svr_pred_vs_act.pdf' )"
   ]
  },
  {
   "cell_type": "code",
   "execution_count": 79,
   "metadata": {
    "ExecuteTime": {
     "end_time": "2017-10-23T19:48:32.868202Z",
     "start_time": "2017-10-23T19:48:32.789293Z"
    }
   },
   "outputs": [],
   "source": [
    "import statsmodels.formula.api as smf"
   ]
  },
  {
   "cell_type": "code",
   "execution_count": 80,
   "metadata": {
    "ExecuteTime": {
     "end_time": "2017-10-23T19:49:09.701954Z",
     "start_time": "2017-10-23T19:49:09.685238Z"
    }
   },
   "outputs": [],
   "source": [
    "ols_results = smf.ols('svr_pred ~ SevScore', data=averaged).fit()"
   ]
  },
  {
   "cell_type": "code",
   "execution_count": 81,
   "metadata": {
    "ExecuteTime": {
     "end_time": "2017-10-23T19:49:16.529466Z",
     "start_time": "2017-10-23T19:49:16.509483Z"
    }
   },
   "outputs": [
    {
     "name": "stdout",
     "output_type": "stream",
     "text": [
      "                            OLS Regression Results                            \n",
      "==============================================================================\n",
      "Dep. Variable:               svr_pred   R-squared:                       0.580\n",
      "Model:                            OLS   Adj. R-squared:                  0.580\n",
      "Method:                 Least Squares   F-statistic:                     9438.\n",
      "Date:                Mon, 23 Oct 2017   Prob (F-statistic):               0.00\n",
      "Time:                        15:49:16   Log-Likelihood:                -13259.\n",
      "No. Observations:                6831   AIC:                         2.652e+04\n",
      "Df Residuals:                    6829   BIC:                         2.654e+04\n",
      "Df Model:                           1                                         \n",
      "Covariance Type:            nonrobust                                         \n",
      "==============================================================================\n",
      "                 coef    std err          t      P>|t|      [0.025      0.975]\n",
      "------------------------------------------------------------------------------\n",
      "Intercept      2.2716      0.042     53.766      0.000       2.189       2.354\n",
      "SevScore       0.6038      0.006     97.148      0.000       0.592       0.616\n",
      "==============================================================================\n",
      "Omnibus:                       19.948   Durbin-Watson:                   1.904\n",
      "Prob(Omnibus):                  0.000   Jarque-Bera (JB):               24.855\n",
      "Skew:                          -0.037   Prob(JB):                     4.01e-06\n",
      "Kurtosis:                       3.286   Cond. No.                         14.3\n",
      "==============================================================================\n",
      "\n",
      "Warnings:\n",
      "[1] Standard Errors assume that the covariance matrix of the errors is correctly specified.\n"
     ]
    }
   ],
   "source": [
    "print(ols_results.summary())"
   ]
  }
 ],
 "metadata": {
  "kernelspec": {
   "display_name": "Python 3",
   "language": "python",
   "name": "python3"
  },
  "language_info": {
   "codemirror_mode": {
    "name": "ipython",
    "version": 3
   },
   "file_extension": ".py",
   "mimetype": "text/x-python",
   "name": "python",
   "nbconvert_exporter": "python",
   "pygments_lexer": "ipython3",
   "version": "3.6.2"
  }
 },
 "nbformat": 4,
 "nbformat_minor": 2
}
