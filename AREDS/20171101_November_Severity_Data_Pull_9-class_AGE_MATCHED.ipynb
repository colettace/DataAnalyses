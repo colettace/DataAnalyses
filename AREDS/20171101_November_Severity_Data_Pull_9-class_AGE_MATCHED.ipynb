{
 "cells": [
  {
   "cell_type": "code",
   "execution_count": 1,
   "metadata": {
    "ExecuteTime": {
     "end_time": "2017-11-03T19:48:07.009760Z",
     "start_time": "2017-11-03T19:48:06.738342Z"
    }
   },
   "outputs": [],
   "source": [
    "import pandas as pd\n",
    "import numpy as np"
   ]
  },
  {
   "cell_type": "code",
   "execution_count": 2,
   "metadata": {
    "ExecuteTime": {
     "end_time": "2017-11-03T19:48:07.424527Z",
     "start_time": "2017-11-03T19:48:07.011323Z"
    }
   },
   "outputs": [],
   "source": [
    "pool = pd.read_csv('20170830_AREDS_DB.csv',index_col=0)"
   ]
  },
  {
   "cell_type": "code",
   "execution_count": 3,
   "metadata": {
    "ExecuteTime": {
     "end_time": "2017-11-03T19:48:07.435857Z",
     "start_time": "2017-11-03T19:48:07.426557Z"
    }
   },
   "outputs": [
    {
     "data": {
      "text/plain": [
       "132617"
      ]
     },
     "execution_count": 3,
     "metadata": {},
     "output_type": "execute_result"
    }
   ],
   "source": [
    "len(pool)"
   ]
  },
  {
   "cell_type": "code",
   "execution_count": 4,
   "metadata": {
    "ExecuteTime": {
     "end_time": "2017-11-03T19:48:07.463260Z",
     "start_time": "2017-11-03T19:48:07.438713Z"
    }
   },
   "outputs": [
    {
     "data": {
      "text/html": [
       "<div>\n",
       "<style scoped>\n",
       "    .dataframe tbody tr th:only-of-type {\n",
       "        vertical-align: middle;\n",
       "    }\n",
       "\n",
       "    .dataframe tbody tr th {\n",
       "        vertical-align: top;\n",
       "    }\n",
       "\n",
       "    .dataframe thead th {\n",
       "        text-align: right;\n",
       "    }\n",
       "</style>\n",
       "<table border=\"1\" class=\"dataframe\">\n",
       "  <thead>\n",
       "    <tr style=\"text-align: right;\">\n",
       "      <th></th>\n",
       "      <th>Patid</th>\n",
       "      <th>Areds_subject_id</th>\n",
       "      <th>converted_file_name</th>\n",
       "      <th>Baseline_AMD_Category</th>\n",
       "      <th>Final_AMD_Phenotype_Group</th>\n",
       "      <th>Final_AMD_Phenotype</th>\n",
       "      <th>Final_Cataract_Phenotype</th>\n",
       "      <th>Study_Visit_Year</th>\n",
       "      <th>Treatment</th>\n",
       "      <th>age_baseline</th>\n",
       "      <th>male</th>\n",
       "      <th>white</th>\n",
       "      <th>Visit</th>\n",
       "      <th>EyeLR</th>\n",
       "      <th>SideLR</th>\n",
       "      <th>SevScore</th>\n",
       "      <th>SimpleSev</th>\n",
       "      <th>age</th>\n",
       "    </tr>\n",
       "  </thead>\n",
       "  <tbody>\n",
       "    <tr>\n",
       "      <th>0</th>\n",
       "      <td>51003</td>\n",
       "      <td>1890</td>\n",
       "      <td>51003-04-F2-LE-LS.tiff</td>\n",
       "      <td>2</td>\n",
       "      <td>Other</td>\n",
       "      <td>Large Drusen Questionable 1</td>\n",
       "      <td>Nuclear/Cortical</td>\n",
       "      <td>2.0</td>\n",
       "      <td>Placebo</td>\n",
       "      <td>72.484932</td>\n",
       "      <td>0</td>\n",
       "      <td>1</td>\n",
       "      <td>4</td>\n",
       "      <td>LE</td>\n",
       "      <td>LS</td>\n",
       "      <td>2.0</td>\n",
       "      <td>1.0</td>\n",
       "      <td>74.484932</td>\n",
       "    </tr>\n",
       "    <tr>\n",
       "      <th>1</th>\n",
       "      <td>51003</td>\n",
       "      <td>1890</td>\n",
       "      <td>51003-04-F2-LE-RS.tiff</td>\n",
       "      <td>2</td>\n",
       "      <td>Other</td>\n",
       "      <td>Large Drusen Questionable 1</td>\n",
       "      <td>Nuclear/Cortical</td>\n",
       "      <td>2.0</td>\n",
       "      <td>Placebo</td>\n",
       "      <td>72.484932</td>\n",
       "      <td>0</td>\n",
       "      <td>1</td>\n",
       "      <td>4</td>\n",
       "      <td>LE</td>\n",
       "      <td>RS</td>\n",
       "      <td>2.0</td>\n",
       "      <td>1.0</td>\n",
       "      <td>74.484932</td>\n",
       "    </tr>\n",
       "    <tr>\n",
       "      <th>2</th>\n",
       "      <td>51003</td>\n",
       "      <td>1890</td>\n",
       "      <td>51003-04-F2-RE-LS.tiff</td>\n",
       "      <td>2</td>\n",
       "      <td>Other</td>\n",
       "      <td>Large Drusen Questionable 1</td>\n",
       "      <td>Nuclear/Cortical</td>\n",
       "      <td>2.0</td>\n",
       "      <td>Placebo</td>\n",
       "      <td>72.484932</td>\n",
       "      <td>0</td>\n",
       "      <td>1</td>\n",
       "      <td>4</td>\n",
       "      <td>RE</td>\n",
       "      <td>LS</td>\n",
       "      <td>2.0</td>\n",
       "      <td>1.0</td>\n",
       "      <td>74.484932</td>\n",
       "    </tr>\n",
       "    <tr>\n",
       "      <th>3</th>\n",
       "      <td>51003</td>\n",
       "      <td>1890</td>\n",
       "      <td>51003-04-F2-RE-RS.tiff</td>\n",
       "      <td>2</td>\n",
       "      <td>Other</td>\n",
       "      <td>Large Drusen Questionable 1</td>\n",
       "      <td>Nuclear/Cortical</td>\n",
       "      <td>2.0</td>\n",
       "      <td>Placebo</td>\n",
       "      <td>72.484932</td>\n",
       "      <td>0</td>\n",
       "      <td>1</td>\n",
       "      <td>4</td>\n",
       "      <td>RE</td>\n",
       "      <td>RS</td>\n",
       "      <td>2.0</td>\n",
       "      <td>1.0</td>\n",
       "      <td>74.484932</td>\n",
       "    </tr>\n",
       "    <tr>\n",
       "      <th>4</th>\n",
       "      <td>51003</td>\n",
       "      <td>1890</td>\n",
       "      <td>51003-06-F2-LE-LS.tiff</td>\n",
       "      <td>2</td>\n",
       "      <td>Other</td>\n",
       "      <td>Large Drusen Questionable 1</td>\n",
       "      <td>Nuclear/Cortical</td>\n",
       "      <td>3.0</td>\n",
       "      <td>Placebo</td>\n",
       "      <td>72.484932</td>\n",
       "      <td>0</td>\n",
       "      <td>1</td>\n",
       "      <td>6</td>\n",
       "      <td>LE</td>\n",
       "      <td>LS</td>\n",
       "      <td>2.0</td>\n",
       "      <td>1.0</td>\n",
       "      <td>75.484932</td>\n",
       "    </tr>\n",
       "  </tbody>\n",
       "</table>\n",
       "</div>"
      ],
      "text/plain": [
       "   Patid Areds_subject_id     converted_file_name Baseline_AMD_Category  \\\n",
       "0  51003             1890  51003-04-F2-LE-LS.tiff                     2   \n",
       "1  51003             1890  51003-04-F2-LE-RS.tiff                     2   \n",
       "2  51003             1890  51003-04-F2-RE-LS.tiff                     2   \n",
       "3  51003             1890  51003-04-F2-RE-RS.tiff                     2   \n",
       "4  51003             1890  51003-06-F2-LE-LS.tiff                     2   \n",
       "\n",
       "  Final_AMD_Phenotype_Group          Final_AMD_Phenotype  \\\n",
       "0                     Other  Large Drusen Questionable 1   \n",
       "1                     Other  Large Drusen Questionable 1   \n",
       "2                     Other  Large Drusen Questionable 1   \n",
       "3                     Other  Large Drusen Questionable 1   \n",
       "4                     Other  Large Drusen Questionable 1   \n",
       "\n",
       "  Final_Cataract_Phenotype  Study_Visit_Year Treatment  age_baseline  male  \\\n",
       "0         Nuclear/Cortical               2.0   Placebo     72.484932     0   \n",
       "1         Nuclear/Cortical               2.0   Placebo     72.484932     0   \n",
       "2         Nuclear/Cortical               2.0   Placebo     72.484932     0   \n",
       "3         Nuclear/Cortical               2.0   Placebo     72.484932     0   \n",
       "4         Nuclear/Cortical               3.0   Placebo     72.484932     0   \n",
       "\n",
       "   white  Visit EyeLR SideLR  SevScore  SimpleSev        age  \n",
       "0      1      4    LE     LS       2.0        1.0  74.484932  \n",
       "1      1      4    LE     RS       2.0        1.0  74.484932  \n",
       "2      1      4    RE     LS       2.0        1.0  74.484932  \n",
       "3      1      4    RE     RS       2.0        1.0  74.484932  \n",
       "4      1      6    LE     LS       2.0        1.0  75.484932  "
      ]
     },
     "execution_count": 4,
     "metadata": {},
     "output_type": "execute_result"
    }
   ],
   "source": [
    "pool.head()"
   ]
  },
  {
   "cell_type": "code",
   "execution_count": 5,
   "metadata": {
    "ExecuteTime": {
     "end_time": "2017-11-03T19:48:07.468996Z",
     "start_time": "2017-11-03T19:48:07.464846Z"
    }
   },
   "outputs": [
    {
     "data": {
      "text/plain": [
       "132617"
      ]
     },
     "execution_count": 5,
     "metadata": {},
     "output_type": "execute_result"
    }
   ],
   "source": [
    "pool.SevScore.count()"
   ]
  },
  {
   "cell_type": "markdown",
   "metadata": {},
   "source": [
    "# No matching left and right side? You're out!"
   ]
  },
  {
   "cell_type": "code",
   "execution_count": 6,
   "metadata": {
    "ExecuteTime": {
     "end_time": "2017-11-03T19:48:15.655521Z",
     "start_time": "2017-11-03T19:48:07.470620Z"
    }
   },
   "outputs": [],
   "source": [
    "weird_indices = []\n",
    "for _id, df in iter(pool.groupby( ['Patid', 'Visit', 'EyeLR'] )):\n",
    "    if len(df) != 2:\n",
    "        weird_indices.extend( list(df.index))"
   ]
  },
  {
   "cell_type": "code",
   "execution_count": 7,
   "metadata": {
    "ExecuteTime": {
     "end_time": "2017-11-03T19:48:15.661157Z",
     "start_time": "2017-11-03T19:48:15.657301Z"
    }
   },
   "outputs": [
    {
     "data": {
      "text/plain": [
       "3"
      ]
     },
     "execution_count": 7,
     "metadata": {},
     "output_type": "execute_result"
    }
   ],
   "source": [
    "len(weird_indices)"
   ]
  },
  {
   "cell_type": "code",
   "execution_count": 8,
   "metadata": {
    "ExecuteTime": {
     "end_time": "2017-11-03T19:48:15.684457Z",
     "start_time": "2017-11-03T19:48:15.662911Z"
    }
   },
   "outputs": [],
   "source": [
    "pool.drop( weird_indices, inplace=True )"
   ]
  },
  {
   "cell_type": "code",
   "execution_count": 9,
   "metadata": {
    "ExecuteTime": {
     "end_time": "2017-11-03T19:48:15.718403Z",
     "start_time": "2017-11-03T19:48:15.686163Z"
    }
   },
   "outputs": [],
   "source": [
    "pool = pool[ pool.SideLR == 'LS' ].copy()"
   ]
  },
  {
   "cell_type": "code",
   "execution_count": 10,
   "metadata": {
    "ExecuteTime": {
     "end_time": "2017-11-03T19:48:15.730749Z",
     "start_time": "2017-11-03T19:48:15.720903Z"
    }
   },
   "outputs": [],
   "source": [
    "pool.drop( 'SideLR', axis=1, inplace=True)"
   ]
  },
  {
   "cell_type": "code",
   "execution_count": 11,
   "metadata": {
    "ExecuteTime": {
     "end_time": "2017-11-03T19:48:15.746911Z",
     "start_time": "2017-11-03T19:48:15.732301Z"
    }
   },
   "outputs": [
    {
     "data": {
      "text/plain": [
       "RE    33161\n",
       "LE    33146\n",
       "Name: EyeLR, dtype: int64"
      ]
     },
     "execution_count": 11,
     "metadata": {},
     "output_type": "execute_result"
    }
   ],
   "source": [
    "pool.EyeLR.value_counts()"
   ]
  },
  {
   "cell_type": "code",
   "execution_count": 12,
   "metadata": {
    "ExecuteTime": {
     "end_time": "2017-11-03T19:48:15.771013Z",
     "start_time": "2017-11-03T19:48:15.748237Z"
    }
   },
   "outputs": [],
   "source": [
    "pool = pool[ pool.SevScore < 10 ].copy()"
   ]
  },
  {
   "cell_type": "code",
   "execution_count": 13,
   "metadata": {
    "ExecuteTime": {
     "end_time": "2017-11-03T19:48:15.782474Z",
     "start_time": "2017-11-03T19:48:15.776525Z"
    }
   },
   "outputs": [],
   "source": [
    "pool.SevScore = pool.SevScore.astype(int)"
   ]
  },
  {
   "cell_type": "code",
   "execution_count": 14,
   "metadata": {
    "ExecuteTime": {
     "end_time": "2017-11-03T19:48:15.791474Z",
     "start_time": "2017-11-03T19:48:15.783970Z"
    }
   },
   "outputs": [
    {
     "data": {
      "text/plain": [
       "1    24149\n",
       "2     7616\n",
       "4     5830\n",
       "6     4538\n",
       "7     3918\n",
       "5     3672\n",
       "8     3337\n",
       "3     3256\n",
       "9     1135\n",
       "Name: SevScore, dtype: int64"
      ]
     },
     "execution_count": 14,
     "metadata": {},
     "output_type": "execute_result"
    }
   ],
   "source": [
    "pool.SevScore.value_counts()"
   ]
  },
  {
   "cell_type": "code",
   "execution_count": 15,
   "metadata": {
    "ExecuteTime": {
     "end_time": "2017-11-03T19:48:15.799000Z",
     "start_time": "2017-11-03T19:48:15.792953Z"
    }
   },
   "outputs": [
    {
     "data": {
      "text/plain": [
       "0.0    23166\n",
       "1.0    11539\n",
       "2.0     8318\n",
       "4.0     7404\n",
       "3.0     6748\n",
       "Name: SimpleSev, dtype: int64"
      ]
     },
     "execution_count": 15,
     "metadata": {},
     "output_type": "execute_result"
    }
   ],
   "source": [
    "pool.SimpleSev.value_counts()"
   ]
  },
  {
   "cell_type": "code",
   "execution_count": 16,
   "metadata": {
    "ExecuteTime": {
     "end_time": "2017-11-03T19:48:15.862850Z",
     "start_time": "2017-11-03T19:48:15.800481Z"
    }
   },
   "outputs": [],
   "source": [
    "pool.index = pd.MultiIndex.from_arrays( [list(pool.Patid), list(pool.EyeLR), list(pool.Visit)],\n",
    "                                      names=['Patid', 'EyeLR', 'Visit'])"
   ]
  },
  {
   "cell_type": "code",
   "execution_count": 17,
   "metadata": {
    "ExecuteTime": {
     "end_time": "2017-11-03T19:48:15.910950Z",
     "start_time": "2017-11-03T19:48:15.864528Z"
    }
   },
   "outputs": [],
   "source": [
    "pool.sort_index(inplace=True)"
   ]
  },
  {
   "cell_type": "code",
   "execution_count": 18,
   "metadata": {
    "ExecuteTime": {
     "end_time": "2017-11-03T19:48:15.941927Z",
     "start_time": "2017-11-03T19:48:15.913016Z"
    }
   },
   "outputs": [
    {
     "data": {
      "text/html": [
       "<div>\n",
       "<style scoped>\n",
       "    .dataframe tbody tr th:only-of-type {\n",
       "        vertical-align: middle;\n",
       "    }\n",
       "\n",
       "    .dataframe tbody tr th {\n",
       "        vertical-align: top;\n",
       "    }\n",
       "\n",
       "    .dataframe thead th {\n",
       "        text-align: right;\n",
       "    }\n",
       "</style>\n",
       "<table border=\"1\" class=\"dataframe\">\n",
       "  <thead>\n",
       "    <tr style=\"text-align: right;\">\n",
       "      <th></th>\n",
       "      <th></th>\n",
       "      <th></th>\n",
       "      <th>Patid</th>\n",
       "      <th>Areds_subject_id</th>\n",
       "      <th>converted_file_name</th>\n",
       "      <th>Baseline_AMD_Category</th>\n",
       "      <th>Final_AMD_Phenotype_Group</th>\n",
       "      <th>Final_AMD_Phenotype</th>\n",
       "      <th>Final_Cataract_Phenotype</th>\n",
       "      <th>Study_Visit_Year</th>\n",
       "      <th>Treatment</th>\n",
       "      <th>age_baseline</th>\n",
       "      <th>male</th>\n",
       "      <th>white</th>\n",
       "      <th>Visit</th>\n",
       "      <th>EyeLR</th>\n",
       "      <th>SevScore</th>\n",
       "      <th>SimpleSev</th>\n",
       "      <th>age</th>\n",
       "    </tr>\n",
       "    <tr>\n",
       "      <th>Patid</th>\n",
       "      <th>EyeLR</th>\n",
       "      <th>Visit</th>\n",
       "      <th></th>\n",
       "      <th></th>\n",
       "      <th></th>\n",
       "      <th></th>\n",
       "      <th></th>\n",
       "      <th></th>\n",
       "      <th></th>\n",
       "      <th></th>\n",
       "      <th></th>\n",
       "      <th></th>\n",
       "      <th></th>\n",
       "      <th></th>\n",
       "      <th></th>\n",
       "      <th></th>\n",
       "      <th></th>\n",
       "      <th></th>\n",
       "      <th></th>\n",
       "    </tr>\n",
       "  </thead>\n",
       "  <tbody>\n",
       "    <tr>\n",
       "      <th rowspan=\"6\" valign=\"top\">62034</th>\n",
       "      <th rowspan=\"3\" valign=\"top\">LE</th>\n",
       "      <th>6</th>\n",
       "      <td>62034</td>\n",
       "      <td>3081</td>\n",
       "      <td>62034-06-F2-LE-LS.tiff</td>\n",
       "      <td>1</td>\n",
       "      <td>Control</td>\n",
       "      <td>Control Questionable 1</td>\n",
       "      <td>Cortical alone</td>\n",
       "      <td>3.0</td>\n",
       "      <td>Placebo</td>\n",
       "      <td>62.764384</td>\n",
       "      <td>0</td>\n",
       "      <td>1</td>\n",
       "      <td>6</td>\n",
       "      <td>LE</td>\n",
       "      <td>1</td>\n",
       "      <td>0.0</td>\n",
       "      <td>65.764384</td>\n",
       "    </tr>\n",
       "    <tr>\n",
       "      <th>10</th>\n",
       "      <td>62034</td>\n",
       "      <td>3081</td>\n",
       "      <td>62034-10-F2-LE-LS.tiff</td>\n",
       "      <td>1</td>\n",
       "      <td>Control</td>\n",
       "      <td>Control Questionable 1</td>\n",
       "      <td>Cortical alone</td>\n",
       "      <td>5.0</td>\n",
       "      <td>Placebo</td>\n",
       "      <td>62.764384</td>\n",
       "      <td>0</td>\n",
       "      <td>1</td>\n",
       "      <td>10</td>\n",
       "      <td>LE</td>\n",
       "      <td>1</td>\n",
       "      <td>0.0</td>\n",
       "      <td>67.764384</td>\n",
       "    </tr>\n",
       "    <tr>\n",
       "      <th>14</th>\n",
       "      <td>62034</td>\n",
       "      <td>3081</td>\n",
       "      <td>62034-14-F2-LE-LS.tiff</td>\n",
       "      <td>1</td>\n",
       "      <td>Control</td>\n",
       "      <td>Control Questionable 1</td>\n",
       "      <td>Cortical alone</td>\n",
       "      <td>7.0</td>\n",
       "      <td>Placebo</td>\n",
       "      <td>62.764384</td>\n",
       "      <td>0</td>\n",
       "      <td>1</td>\n",
       "      <td>14</td>\n",
       "      <td>LE</td>\n",
       "      <td>1</td>\n",
       "      <td>0.0</td>\n",
       "      <td>69.764384</td>\n",
       "    </tr>\n",
       "    <tr>\n",
       "      <th rowspan=\"3\" valign=\"top\">RE</th>\n",
       "      <th>6</th>\n",
       "      <td>62034</td>\n",
       "      <td>3081</td>\n",
       "      <td>62034-06-F2-RE-LS.tiff</td>\n",
       "      <td>1</td>\n",
       "      <td>Control</td>\n",
       "      <td>Control Questionable 1</td>\n",
       "      <td>Cortical alone</td>\n",
       "      <td>3.0</td>\n",
       "      <td>Placebo</td>\n",
       "      <td>62.764384</td>\n",
       "      <td>0</td>\n",
       "      <td>1</td>\n",
       "      <td>6</td>\n",
       "      <td>RE</td>\n",
       "      <td>1</td>\n",
       "      <td>0.0</td>\n",
       "      <td>65.764384</td>\n",
       "    </tr>\n",
       "    <tr>\n",
       "      <th>10</th>\n",
       "      <td>62034</td>\n",
       "      <td>3081</td>\n",
       "      <td>62034-10-F2-RE-LS.tiff</td>\n",
       "      <td>1</td>\n",
       "      <td>Control</td>\n",
       "      <td>Control Questionable 1</td>\n",
       "      <td>Cortical alone</td>\n",
       "      <td>5.0</td>\n",
       "      <td>Placebo</td>\n",
       "      <td>62.764384</td>\n",
       "      <td>0</td>\n",
       "      <td>1</td>\n",
       "      <td>10</td>\n",
       "      <td>RE</td>\n",
       "      <td>1</td>\n",
       "      <td>0.0</td>\n",
       "      <td>67.764384</td>\n",
       "    </tr>\n",
       "    <tr>\n",
       "      <th>14</th>\n",
       "      <td>62034</td>\n",
       "      <td>3081</td>\n",
       "      <td>62034-14-F2-RE-LS.tiff</td>\n",
       "      <td>1</td>\n",
       "      <td>Control</td>\n",
       "      <td>Control Questionable 1</td>\n",
       "      <td>Cortical alone</td>\n",
       "      <td>7.0</td>\n",
       "      <td>Placebo</td>\n",
       "      <td>62.764384</td>\n",
       "      <td>0</td>\n",
       "      <td>1</td>\n",
       "      <td>14</td>\n",
       "      <td>RE</td>\n",
       "      <td>1</td>\n",
       "      <td>0.0</td>\n",
       "      <td>69.764384</td>\n",
       "    </tr>\n",
       "    <tr>\n",
       "      <th rowspan=\"4\" valign=\"top\">62035</th>\n",
       "      <th rowspan=\"4\" valign=\"top\">RE</th>\n",
       "      <th>0</th>\n",
       "      <td>62035</td>\n",
       "      <td>3273</td>\n",
       "      <td>62035-QUA-F2-RE-LS.tiff</td>\n",
       "      <td>4a</td>\n",
       "      <td>Case</td>\n",
       "      <td>GA (Geographic Atrophy)</td>\n",
       "      <td>Absent</td>\n",
       "      <td>0.0</td>\n",
       "      <td>Antiox</td>\n",
       "      <td>61.572603</td>\n",
       "      <td>1</td>\n",
       "      <td>1</td>\n",
       "      <td>0</td>\n",
       "      <td>RE</td>\n",
       "      <td>7</td>\n",
       "      <td>4.0</td>\n",
       "      <td>61.572603</td>\n",
       "    </tr>\n",
       "    <tr>\n",
       "      <th>4</th>\n",
       "      <td>62035</td>\n",
       "      <td>3273</td>\n",
       "      <td>62035-04-F2-RE-LS.tiff</td>\n",
       "      <td>4a</td>\n",
       "      <td>Case</td>\n",
       "      <td>GA (Geographic Atrophy)</td>\n",
       "      <td>Absent</td>\n",
       "      <td>2.0</td>\n",
       "      <td>Antiox</td>\n",
       "      <td>61.572603</td>\n",
       "      <td>1</td>\n",
       "      <td>1</td>\n",
       "      <td>4</td>\n",
       "      <td>RE</td>\n",
       "      <td>7</td>\n",
       "      <td>4.0</td>\n",
       "      <td>63.572603</td>\n",
       "    </tr>\n",
       "    <tr>\n",
       "      <th>6</th>\n",
       "      <td>62035</td>\n",
       "      <td>3273</td>\n",
       "      <td>62035-06-F2-RE-LS.tiff</td>\n",
       "      <td>4a</td>\n",
       "      <td>Case</td>\n",
       "      <td>GA (Geographic Atrophy)</td>\n",
       "      <td>Absent</td>\n",
       "      <td>3.0</td>\n",
       "      <td>Antiox</td>\n",
       "      <td>61.572603</td>\n",
       "      <td>1</td>\n",
       "      <td>1</td>\n",
       "      <td>6</td>\n",
       "      <td>RE</td>\n",
       "      <td>7</td>\n",
       "      <td>4.0</td>\n",
       "      <td>64.572603</td>\n",
       "    </tr>\n",
       "    <tr>\n",
       "      <th>8</th>\n",
       "      <td>62035</td>\n",
       "      <td>3273</td>\n",
       "      <td>62035-08-F2-RE-LS.tiff</td>\n",
       "      <td>4a</td>\n",
       "      <td>Case</td>\n",
       "      <td>GA (Geographic Atrophy)</td>\n",
       "      <td>Absent</td>\n",
       "      <td>4.0</td>\n",
       "      <td>Antiox</td>\n",
       "      <td>61.572603</td>\n",
       "      <td>1</td>\n",
       "      <td>1</td>\n",
       "      <td>8</td>\n",
       "      <td>RE</td>\n",
       "      <td>9</td>\n",
       "      <td>4.0</td>\n",
       "      <td>65.572603</td>\n",
       "    </tr>\n",
       "  </tbody>\n",
       "</table>\n",
       "</div>"
      ],
      "text/plain": [
       "                   Patid Areds_subject_id      converted_file_name  \\\n",
       "Patid EyeLR Visit                                                    \n",
       "62034 LE    6      62034             3081   62034-06-F2-LE-LS.tiff   \n",
       "            10     62034             3081   62034-10-F2-LE-LS.tiff   \n",
       "            14     62034             3081   62034-14-F2-LE-LS.tiff   \n",
       "      RE    6      62034             3081   62034-06-F2-RE-LS.tiff   \n",
       "            10     62034             3081   62034-10-F2-RE-LS.tiff   \n",
       "            14     62034             3081   62034-14-F2-RE-LS.tiff   \n",
       "62035 RE    0      62035             3273  62035-QUA-F2-RE-LS.tiff   \n",
       "            4      62035             3273   62035-04-F2-RE-LS.tiff   \n",
       "            6      62035             3273   62035-06-F2-RE-LS.tiff   \n",
       "            8      62035             3273   62035-08-F2-RE-LS.tiff   \n",
       "\n",
       "                  Baseline_AMD_Category Final_AMD_Phenotype_Group  \\\n",
       "Patid EyeLR Visit                                                   \n",
       "62034 LE    6                         1                   Control   \n",
       "            10                        1                   Control   \n",
       "            14                        1                   Control   \n",
       "      RE    6                         1                   Control   \n",
       "            10                        1                   Control   \n",
       "            14                        1                   Control   \n",
       "62035 RE    0                        4a                      Case   \n",
       "            4                        4a                      Case   \n",
       "            6                        4a                      Case   \n",
       "            8                        4a                      Case   \n",
       "\n",
       "                       Final_AMD_Phenotype Final_Cataract_Phenotype  \\\n",
       "Patid EyeLR Visit                                                     \n",
       "62034 LE    6       Control Questionable 1           Cortical alone   \n",
       "            10      Control Questionable 1           Cortical alone   \n",
       "            14      Control Questionable 1           Cortical alone   \n",
       "      RE    6       Control Questionable 1           Cortical alone   \n",
       "            10      Control Questionable 1           Cortical alone   \n",
       "            14      Control Questionable 1           Cortical alone   \n",
       "62035 RE    0      GA (Geographic Atrophy)                   Absent   \n",
       "            4      GA (Geographic Atrophy)                   Absent   \n",
       "            6      GA (Geographic Atrophy)                   Absent   \n",
       "            8      GA (Geographic Atrophy)                   Absent   \n",
       "\n",
       "                   Study_Visit_Year Treatment  age_baseline  male  white  \\\n",
       "Patid EyeLR Visit                                                          \n",
       "62034 LE    6                   3.0   Placebo     62.764384     0      1   \n",
       "            10                  5.0   Placebo     62.764384     0      1   \n",
       "            14                  7.0   Placebo     62.764384     0      1   \n",
       "      RE    6                   3.0   Placebo     62.764384     0      1   \n",
       "            10                  5.0   Placebo     62.764384     0      1   \n",
       "            14                  7.0   Placebo     62.764384     0      1   \n",
       "62035 RE    0                   0.0    Antiox     61.572603     1      1   \n",
       "            4                   2.0    Antiox     61.572603     1      1   \n",
       "            6                   3.0    Antiox     61.572603     1      1   \n",
       "            8                   4.0    Antiox     61.572603     1      1   \n",
       "\n",
       "                   Visit EyeLR  SevScore  SimpleSev        age  \n",
       "Patid EyeLR Visit                                               \n",
       "62034 LE    6          6    LE         1        0.0  65.764384  \n",
       "            10        10    LE         1        0.0  67.764384  \n",
       "            14        14    LE         1        0.0  69.764384  \n",
       "      RE    6          6    RE         1        0.0  65.764384  \n",
       "            10        10    RE         1        0.0  67.764384  \n",
       "            14        14    RE         1        0.0  69.764384  \n",
       "62035 RE    0          0    RE         7        4.0  61.572603  \n",
       "            4          4    RE         7        4.0  63.572603  \n",
       "            6          6    RE         7        4.0  64.572603  \n",
       "            8          8    RE         9        4.0  65.572603  "
      ]
     },
     "execution_count": 18,
     "metadata": {},
     "output_type": "execute_result"
    }
   ],
   "source": [
    "pool.tail(10)"
   ]
  },
  {
   "cell_type": "code",
   "execution_count": 19,
   "metadata": {
    "ExecuteTime": {
     "end_time": "2017-11-03T19:48:16.134244Z",
     "start_time": "2017-11-03T19:48:15.943800Z"
    }
   },
   "outputs": [],
   "source": [
    "from numpy.random import RandomState\n",
    "def pull_smallest_first( df_in, desired_n=700 ):\n",
    "    \"\"\"Maximize number of samples from each severity category,\n",
    "    matching age distribution across categories as best as possible\"\"\"\n",
    "    # initialize a reproducible shuffler\n",
    "    rndst = RandomState(seed=42)\n",
    "    pulled_indices = None # instance of pd.MultiIndex with 3 levels\n",
    "    pulled_severities = []\n",
    "    pool_eyes = list( zip( list( df_in.Patid ), list( df_in.EyeLR ) ) )\n",
    "    orig_counts = dict( zip( list(df_in.SevScore.value_counts().index), list(df_in.SevScore.value_counts()) ))\n",
    "    print( \"Eyes available:\", len(set(pool_eyes)), \"Target pull:\", desired_n*len(orig_counts))\n",
    "    severity9 = None\n",
    "    while True:\n",
    "        if set( pulled_severities ) == set( orig_counts.keys() ):\n",
    "            # We have pulled for all severity scores\n",
    "            break\n",
    "        if pulled_indices is not None:\n",
    "            pulled_eyes = pulled_indices.to_frame()\n",
    "            pulled_eyes = set( zip( list( pulled_eyes.Patid ), list( pulled_eyes.EyeLR ) ) )\n",
    "            unpulled_pool = df_in.loc[ np.array( [ _ not in pulled_eyes for _ in pool_eyes] ) &\n",
    "                                       np.array( ~df_in.SevScore.isin( pulled_severities ) ) ]\n",
    "        else:\n",
    "            unpulled_pool = df_in\n",
    "        counts = unpulled_pool.SevScore.value_counts()\n",
    "        # Pull from unused pool in order of smallest to largest amount of images for that\n",
    "        # severity in the pool\n",
    "        nimgs_left, severity = sorted( list(zip(counts, counts.index)), key=lambda x: x[0] )[0]\n",
    "        subset = unpulled_pool[ unpulled_pool.SevScore == severity ]\n",
    "        if severity == 9:\n",
    "            # We know severity 9 is the smallest and oldest class\n",
    "            # Take the earliest diagnosis for each individual to ease age matching\n",
    "            # They are sorted in Visit order so take the top one.\n",
    "            subset = subset.groupby( ['Patid', 'EyeLR'] ).head(1)\n",
    "            severity9 = subset # save for age-matching later\n",
    "        else:\n",
    "            # Do age-matching\n",
    "            wanted_indices = None\n",
    "            subset_eyes = list( zip( list( subset.Patid ), list( subset.EyeLR ) ) )\n",
    "            while True:\n",
    "                if wanted_indices is not None:\n",
    "                    wanted_eyes = wanted_indices.to_frame()\n",
    "                    #print (wanted_eyes)\n",
    "                    wanted_eyes = set( zip( list( wanted_eyes.Patid ), list( wanted_eyes.EyeLR ) ) )\n",
    "                    unpulled_subset = subset.loc[ np.array( [ _ not in wanted_eyes for _ in subset_eyes ] ) ]\n",
    "                    if len(unpulled_subset) == 0:\n",
    "                        break\n",
    "                else:\n",
    "                    unpulled_subset = subset\n",
    "                match_me = float( severity9.age.sample() )\n",
    "                picked = unpulled_subset.loc[ (unpulled_subset.age - match_me).abs().argmin() ]\n",
    "                picked_index = pd.MultiIndex.from_tuples( [(picked.Patid, picked.EyeLR, picked.Visit)],\n",
    "                                                              names=['Patid', 'EyeLR', 'Visit'] )\n",
    "                if wanted_indices is not None:\n",
    "                    wanted_indices = wanted_indices.append( picked_index )\n",
    "                else:\n",
    "                    wanted_indices = picked_index\n",
    "                if len(wanted_indices) >= desired_n:\n",
    "                    break\n",
    "            subset = subset.loc[ wanted_indices ]\n",
    "\n",
    "        print( \"Severity {}, originally {}, got {}\".format(\n",
    "            severity, orig_counts[severity], len(subset) ) )\n",
    "        if pulled_indices is None:\n",
    "            pulled_indices = subset.index\n",
    "        else:\n",
    "            pulled_indices = pulled_indices.union( subset.index )\n",
    "        pulled_severities.append( severity )\n",
    "        pulled_eyes = pulled_indices.to_frame()\n",
    "        pulled_eyes = set( zip( list( pulled_eyes.Patid ), list( pulled_eyes.EyeLR ) ) )\n",
    "    print( \"Total n pulled:\", len( pulled_indices), len( pulled_eyes ))\n",
    "    return pulled_indices"
   ]
  },
  {
   "cell_type": "code",
   "execution_count": 20,
   "metadata": {
    "ExecuteTime": {
     "end_time": "2017-11-03T19:48:50.007142Z",
     "start_time": "2017-11-03T19:48:16.135947Z"
    }
   },
   "outputs": [
    {
     "name": "stdout",
     "output_type": "stream",
     "text": [
      "Eyes available: 8256 Target pull: 5400\n",
      "Severity 9, originally 1135, got 593\n"
     ]
    },
    {
     "name": "stderr",
     "output_type": "stream",
     "text": [
      "/usr/local/lib/python3.6/site-packages/ipykernel_launcher.py:33: FutureWarning: 'Patid' is both a column name and an index level.\n",
      "Defaulting to column but this will raise an ambiguity error in a future version\n",
      "/usr/local/lib/python3.6/site-packages/ipykernel_launcher.py:33: FutureWarning: 'EyeLR' is both a column name and an index level.\n",
      "Defaulting to column but this will raise an ambiguity error in a future version\n",
      "/usr/local/lib/python3.6/site-packages/ipykernel_launcher.py:50: FutureWarning: 'argmin' is deprecated. Use 'idxmin' instead. The behavior of 'argmin' will be corrected to return the positional minimum in the future. Use 'series.values.argmin' to get the position of the minimum now.\n"
     ]
    },
    {
     "name": "stdout",
     "output_type": "stream",
     "text": [
      "Severity 8, originally 3337, got 600\n",
      "Severity 7, originally 3918, got 600\n",
      "Severity 6, originally 4538, got 600\n",
      "Severity 5, originally 3672, got 600\n",
      "Severity 3, originally 3256, got 600\n",
      "Severity 4, originally 5830, got 600\n",
      "Severity 2, originally 7616, got 600\n",
      "Severity 1, originally 24149, got 600\n",
      "Total n pulled: 5393 5393\n"
     ]
    }
   ],
   "source": [
    "wanted_indices = pull_smallest_first( pool, desired_n=600 )"
   ]
  },
  {
   "cell_type": "code",
   "execution_count": 21,
   "metadata": {
    "ExecuteTime": {
     "end_time": "2017-11-03T19:48:50.032273Z",
     "start_time": "2017-11-03T19:48:50.010144Z"
    }
   },
   "outputs": [],
   "source": [
    "pulled = pool.loc[wanted_indices]"
   ]
  },
  {
   "cell_type": "code",
   "execution_count": 22,
   "metadata": {
    "ExecuteTime": {
     "end_time": "2017-11-03T19:48:50.040881Z",
     "start_time": "2017-11-03T19:48:50.035122Z"
    }
   },
   "outputs": [
    {
     "data": {
      "text/plain": [
       "7    600\n",
       "3    600\n",
       "6    600\n",
       "2    600\n",
       "5    600\n",
       "1    600\n",
       "8    600\n",
       "4    600\n",
       "9    593\n",
       "Name: SevScore, dtype: int64"
      ]
     },
     "execution_count": 22,
     "metadata": {},
     "output_type": "execute_result"
    }
   ],
   "source": [
    "pulled.SevScore.value_counts()"
   ]
  },
  {
   "cell_type": "markdown",
   "metadata": {},
   "source": [
    "# See what we got"
   ]
  },
  {
   "cell_type": "code",
   "execution_count": 23,
   "metadata": {
    "ExecuteTime": {
     "end_time": "2017-11-03T19:48:50.732203Z",
     "start_time": "2017-11-03T19:48:50.043261Z"
    }
   },
   "outputs": [],
   "source": [
    "%matplotlib inline\n",
    "import seaborn as sns"
   ]
  },
  {
   "cell_type": "markdown",
   "metadata": {},
   "source": [
    "## Original age distributions"
   ]
  },
  {
   "cell_type": "code",
   "execution_count": 36,
   "metadata": {
    "ExecuteTime": {
     "end_time": "2017-11-03T19:49:12.900504Z",
     "start_time": "2017-11-03T19:49:12.524503Z"
    }
   },
   "outputs": [
    {
     "name": "stderr",
     "output_type": "stream",
     "text": [
      "/usr/local/lib/python3.6/site-packages/seaborn/categorical.py:588: FutureWarning: remove_na is deprecated and is a private function. Do not use.\n",
      "  kde_data = remove_na(group_data)\n",
      "/usr/local/lib/python3.6/site-packages/seaborn/categorical.py:816: FutureWarning: remove_na is deprecated and is a private function. Do not use.\n",
      "  violin_data = remove_na(group_data)\n"
     ]
    },
    {
     "data": {
      "text/plain": [
       "<matplotlib.axes._subplots.AxesSubplot at 0x115d136a0>"
      ]
     },
     "execution_count": 36,
     "metadata": {},
     "output_type": "execute_result"
    },
    {
     "data": {
      "image/png": "[encoded data removed]",
      "text/plain": [
       "<matplotlib.figure.Figure at 0x115d18cf8>"
      ]
     },
     "metadata": {},
     "output_type": "display_data"
    }
   ],
   "source": [
    "sns.violinplot( x='SevScore', y='age', data=pool)"
   ]
  },
  {
   "cell_type": "markdown",
   "metadata": {},
   "source": [
    "## This pull's age distributions"
   ]
  },
  {
   "cell_type": "code",
   "execution_count": 24,
   "metadata": {
    "ExecuteTime": {
     "end_time": "2017-11-03T19:48:51.084996Z",
     "start_time": "2017-11-03T19:48:50.734087Z"
    }
   },
   "outputs": [
    {
     "name": "stderr",
     "output_type": "stream",
     "text": [
      "/usr/local/lib/python3.6/site-packages/seaborn/categorical.py:588: FutureWarning: remove_na is deprecated and is a private function. Do not use.\n",
      "  kde_data = remove_na(group_data)\n",
      "/usr/local/lib/python3.6/site-packages/seaborn/categorical.py:816: FutureWarning: remove_na is deprecated and is a private function. Do not use.\n",
      "  violin_data = remove_na(group_data)\n"
     ]
    },
    {
     "data": {
      "text/plain": [
       "<matplotlib.axes._subplots.AxesSubplot at 0x114ad49b0>"
      ]
     },
     "execution_count": 24,
     "metadata": {},
     "output_type": "execute_result"
    },
    {
     "data": {
      "image/png": "[encoded data removed]",
      "text/plain": [
       "<matplotlib.figure.Figure at 0x10bddc400>"
      ]
     },
     "metadata": {},
     "output_type": "display_data"
    }
   ],
   "source": [
    "sns.violinplot( x='SevScore', y='age', data=pulled)"
   ]
  },
  {
   "cell_type": "code",
   "execution_count": 25,
   "metadata": {
    "ExecuteTime": {
     "end_time": "2017-11-03T19:48:51.273940Z",
     "start_time": "2017-11-03T19:48:51.086792Z"
    }
   },
   "outputs": [
    {
     "name": "stderr",
     "output_type": "stream",
     "text": [
      "/usr/local/lib/python3.6/site-packages/statsmodels/compat/pandas.py:56: FutureWarning: The pandas.core.datetools module is deprecated and will be removed in a future version. Please use the pandas.tseries module instead.\n",
      "  from pandas.core import datetools\n"
     ]
    }
   ],
   "source": [
    "import statsmodels.api as sm\n",
    "from statsmodels.formula.api import ols"
   ]
  },
  {
   "cell_type": "code",
   "execution_count": 26,
   "metadata": {
    "ExecuteTime": {
     "end_time": "2017-11-03T19:48:51.302481Z",
     "start_time": "2017-11-03T19:48:51.276503Z"
    }
   },
   "outputs": [
    {
     "name": "stdout",
     "output_type": "stream",
     "text": [
      "              df         sum_sq    mean_sq         F    PR(>F)\n",
      "SevScore     1.0      58.932538  58.932538  1.762061  0.184424\n",
      "Residual  5391.0  180303.281223  33.445239       NaN       NaN\n"
     ]
    },
    {
     "name": "stderr",
     "output_type": "stream",
     "text": [
      "/usr/local/lib/python3.6/site-packages/scipy/stats/_distn_infrastructure.py:879: RuntimeWarning: invalid value encountered in greater\n",
      "  return (self.a < x) & (x < self.b)\n",
      "/usr/local/lib/python3.6/site-packages/scipy/stats/_distn_infrastructure.py:879: RuntimeWarning: invalid value encountered in less\n",
      "  return (self.a < x) & (x < self.b)\n",
      "/usr/local/lib/python3.6/site-packages/scipy/stats/_distn_infrastructure.py:1821: RuntimeWarning: invalid value encountered in less_equal\n",
      "  cond2 = cond0 & (x <= self.a)\n"
     ]
    }
   ],
   "source": [
    "mod = ols('age ~ SevScore', data=pulled).fit()\n",
    "aov_table = sm.stats.anova_lm(mod, typ=1)\n",
    "print (aov_table)"
   ]
  },
  {
   "cell_type": "code",
   "execution_count": 27,
   "metadata": {
    "ExecuteTime": {
     "end_time": "2017-11-03T19:48:51.307120Z",
     "start_time": "2017-11-03T19:48:51.304252Z"
    }
   },
   "outputs": [],
   "source": [
    "from statsmodels.stats.multicomp import pairwise_tukeyhsd\n",
    "from statsmodels.stats.multicomp import MultiComparison"
   ]
  },
  {
   "cell_type": "code",
   "execution_count": 28,
   "metadata": {
    "ExecuteTime": {
     "end_time": "2017-11-03T19:48:51.337053Z",
     "start_time": "2017-11-03T19:48:51.310251Z"
    }
   },
   "outputs": [
    {
     "name": "stdout",
     "output_type": "stream",
     "text": [
      "Multiple Comparison of Means - Tukey HSD,FWER=0.05\n",
      "============================================\n",
      "group1 group2 meandiff  lower  upper  reject\n",
      "--------------------------------------------\n",
      "  1      2     -0.361  -1.3973 0.6754 False \n",
      "  1      3    -0.4495  -1.4858 0.5868 False \n",
      "  1      4    -0.1589  -1.1952 0.8775 False \n",
      "  1      5     0.032   -1.0043 1.0683 False \n",
      "  1      6    -0.2329  -1.2692 0.8035 False \n",
      "  1      7     0.0435  -0.9928 1.0798 False \n",
      "  1      8     0.1796  -0.8568 1.2159 False \n",
      "  1      9    -0.0265  -1.0658 1.0129 False \n",
      "  2      3    -0.0885  -1.1248 0.9478 False \n",
      "  2      4     0.2021  -0.8342 1.2384 False \n",
      "  2      5     0.3929  -0.6434 1.4293 False \n",
      "  2      6     0.1281  -0.9082 1.1644 False \n",
      "  2      7     0.4044  -0.6319 1.4408 False \n",
      "  2      8     0.5405  -0.4958 1.5768 False \n",
      "  2      9     0.3345  -0.7049 1.3739 False \n",
      "  3      4     0.2906  -0.7457 1.3269 False \n",
      "  3      5     0.4815  -0.5549 1.5178 False \n",
      "  3      6     0.2166  -0.8197 1.2529 False \n",
      "  3      7     0.493   -0.5433 1.5293 False \n",
      "  3      8     0.629   -0.4073 1.6654 False \n",
      "  3      9     0.423   -0.6164 1.4624 False \n",
      "  4      5     0.1908  -0.8455 1.2272 False \n",
      "  4      6     -0.074  -1.1103 0.9623 False \n",
      "  4      7     0.2024   -0.834 1.2387 False \n",
      "  4      8     0.3384  -0.6979 1.3747 False \n",
      "  4      9     0.1324   -0.907 1.1718 False \n",
      "  5      6    -0.2649  -1.3012 0.7715 False \n",
      "  5      7     0.0115  -1.0248 1.0478 False \n",
      "  5      8     0.1476  -0.8887 1.1839 False \n",
      "  5      9    -0.0584  -1.0978 0.9809 False \n",
      "  6      7     0.2764   -0.76  1.3127 False \n",
      "  6      8     0.4124  -0.6239 1.4487 False \n",
      "  6      9     0.2064   -0.833 1.2458 False \n",
      "  7      8     0.1361  -0.9003 1.1724 False \n",
      "  7      9    -0.0699  -1.1093 0.9694 False \n",
      "  8      9     -0.206  -1.2454 0.8334 False \n",
      "--------------------------------------------\n",
      "[1 2 3 4 5 6 7 8 9]\n"
     ]
    }
   ],
   "source": [
    "mc = MultiComparison(pulled['age'], pulled['SevScore'])\n",
    "result = mc.tukeyhsd()\n",
    "print(result)\n",
    "print(mc.groupsunique)"
   ]
  },
  {
   "cell_type": "code",
   "execution_count": 29,
   "metadata": {
    "ExecuteTime": {
     "end_time": "2017-11-03T19:48:51.341139Z",
     "start_time": "2017-11-03T19:48:51.338544Z"
    }
   },
   "outputs": [],
   "source": [
    "import matplotlib.pyplot as plt"
   ]
  },
  {
   "cell_type": "code",
   "execution_count": 30,
   "metadata": {
    "ExecuteTime": {
     "end_time": "2017-11-03T19:48:51.572629Z",
     "start_time": "2017-11-03T19:48:51.345633Z"
    }
   },
   "outputs": [
    {
     "data": {
      "text/plain": [
       "(array([ 326.,  414.,  407.,  318.,  341.,  264.,  267.,  323.,  308.,  391.]),\n",
       " array([ 51003. ,  52106.2,  53209.4,  54312.6,  55415.8,  56519. ,\n",
       "         57622.2,  58725.4,  59828.6,  60931.8,  62035. ]),\n",
       " <a list of 10 Patch objects>)"
      ]
     },
     "execution_count": 30,
     "metadata": {},
     "output_type": "execute_result"
    },
    {
     "data": {
      "image/png": "[encoded data removed]",
      "text/plain": [
       "<matplotlib.figure.Figure at 0x115b76f60>"
      ]
     },
     "metadata": {},
     "output_type": "display_data"
    }
   ],
   "source": [
    "plt.hist( list(set(pulled.Patid)) )"
   ]
  },
  {
   "cell_type": "code",
   "execution_count": 31,
   "metadata": {
    "ExecuteTime": {
     "end_time": "2017-11-03T19:48:51.584447Z",
     "start_time": "2017-11-03T19:48:51.575234Z"
    }
   },
   "outputs": [
    {
     "data": {
      "text/plain": [
       "LE    2773\n",
       "RE    2620\n",
       "Name: EyeLR, dtype: int64"
      ]
     },
     "execution_count": 31,
     "metadata": {},
     "output_type": "execute_result"
    }
   ],
   "source": [
    "pulled.EyeLR.value_counts()"
   ]
  },
  {
   "cell_type": "code",
   "execution_count": 32,
   "metadata": {
    "ExecuteTime": {
     "end_time": "2017-11-03T19:48:51.591138Z",
     "start_time": "2017-11-03T19:48:51.586184Z"
    }
   },
   "outputs": [
    {
     "data": {
      "text/plain": [
       "0    3103\n",
       "1    2290\n",
       "Name: male, dtype: int64"
      ]
     },
     "execution_count": 32,
     "metadata": {},
     "output_type": "execute_result"
    }
   ],
   "source": [
    "pulled.male.value_counts()"
   ]
  },
  {
   "cell_type": "code",
   "execution_count": 33,
   "metadata": {
    "ExecuteTime": {
     "end_time": "2017-11-03T19:48:51.616041Z",
     "start_time": "2017-11-03T19:48:51.594587Z"
    }
   },
   "outputs": [],
   "source": [
    "pulled.Visit = pulled.Visit.astype(str).apply( lambda x: x.zfill(2))"
   ]
  },
  {
   "cell_type": "code",
   "execution_count": 34,
   "metadata": {
    "ExecuteTime": {
     "end_time": "2017-11-03T19:48:52.081316Z",
     "start_time": "2017-11-03T19:48:51.618179Z"
    }
   },
   "outputs": [],
   "source": [
    "strfrmt = '/data/areds/44770/AREDS/AREDS_2014/tiff/AMD_Category_{}_{}/{}-{}-F2-{}-{}.tiff\\t{}\\n'\n",
    "infos = pulled[ ['Baseline_AMD_Category', 'Final_AMD_Phenotype_Group', 'Patid', 'Visit', 'EyeLR', 'SevScore'] ]\n",
    "with open('LR_november2017_severity_agematched.txt', 'w') as f:\n",
    "    for _, row in infos.sort_values(by=['SevScore', 'Patid']).iterrows():\n",
    "        cat, phen, patid, visit, eyelr, _dir = row\n",
    "        if visit == '00':\n",
    "            visit = 'QUA'\n",
    "        f.write( strfrmt.format( cat, phen, patid, visit, eyelr, 'LS', _dir ) )\n",
    "        f.write( strfrmt.format( cat, phen, patid, visit, eyelr, 'RS', _dir ) )"
   ]
  },
  {
   "cell_type": "code",
   "execution_count": 35,
   "metadata": {
    "ExecuteTime": {
     "end_time": "2017-11-03T19:48:52.207146Z",
     "start_time": "2017-11-03T19:48:52.083733Z"
    }
   },
   "outputs": [
    {
     "name": "stdout",
     "output_type": "stream",
     "text": [
      "/data/areds/44770/AREDS/AREDS_2014/tiff/AMD_Category_1_Control/51011-QUA-F2-LE-LS.tiff\t1\r\n",
      "/data/areds/44770/AREDS/AREDS_2014/tiff/AMD_Category_1_Control/51011-QUA-F2-LE-RS.tiff\t1\r\n",
      "/data/areds/44770/AREDS/AREDS_2014/tiff/AMD_Category_1_Other/51019-20-F2-LE-LS.tiff\t1\r\n",
      "/data/areds/44770/AREDS/AREDS_2014/tiff/AMD_Category_1_Other/51019-20-F2-LE-RS.tiff\t1\r\n",
      "/data/areds/44770/AREDS/AREDS_2014/tiff/AMD_Category_2_Other/51027-22-F2-LE-LS.tiff\t1\r\n",
      "/data/areds/44770/AREDS/AREDS_2014/tiff/AMD_Category_2_Other/51027-22-F2-LE-RS.tiff\t1\r\n",
      "/data/areds/44770/AREDS/AREDS_2014/tiff/AMD_Category_2_Other/51027-20-F2-RE-LS.tiff\t1\r\n",
      "/data/areds/44770/AREDS/AREDS_2014/tiff/AMD_Category_2_Other/51027-20-F2-RE-RS.tiff\t1\r\n",
      "/data/areds/44770/AREDS/AREDS_2014/tiff/AMD_Category_1_Other/51034-06-F2-RE-LS.tiff\t1\r\n",
      "/data/areds/44770/AREDS/AREDS_2014/tiff/AMD_Category_1_Other/51034-06-F2-RE-RS.tiff\t1\r\n"
     ]
    }
   ],
   "source": [
    "!head LR_november2017_severity_agematched.txt"
   ]
  },
  {
   "cell_type": "code",
   "execution_count": null,
   "metadata": {},
   "outputs": [],
   "source": []
  }
 ],
 "metadata": {
  "kernelspec": {
   "display_name": "Python 3",
   "language": "python",
   "name": "python3"
  },
  "language_info": {
   "codemirror_mode": {
    "name": "ipython",
    "version": 3
   },
   "file_extension": ".py",
   "mimetype": "text/x-python",
   "name": "python",
   "nbconvert_exporter": "python",
   "pygments_lexer": "ipython3",
   "version": "3.6.2"
  }
 },
 "nbformat": 4,
 "nbformat_minor": 2
}
