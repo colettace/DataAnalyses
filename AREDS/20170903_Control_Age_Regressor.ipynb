{
 "cells": [
  {
   "cell_type": "code",
   "execution_count": 1,
   "metadata": {
    "collapsed": true
   },
   "outputs": [],
   "source": [
    "import pandas as pd\n",
    "import numpy as np\n",
    "%matplotlib inline"
   ]
  },
  {
   "cell_type": "markdown",
   "metadata": {},
   "source": [
    "# Load Cleaned AREDS DB file"
   ]
  },
  {
   "cell_type": "code",
   "execution_count": 2,
   "metadata": {
    "collapsed": true
   },
   "outputs": [],
   "source": [
    "pool = pd.read_csv('20170830_AREDS_DB.csv', index_col=0)"
   ]
  },
  {
   "cell_type": "code",
   "execution_count": 3,
   "metadata": {},
   "outputs": [
    {
     "data": {
      "text/plain": [
       "132617"
      ]
     },
     "execution_count": 3,
     "metadata": {},
     "output_type": "execute_result"
    }
   ],
   "source": [
    "len(pool)"
   ]
  },
  {
   "cell_type": "code",
   "execution_count": 4,
   "metadata": {},
   "outputs": [
    {
     "data": {
      "text/plain": [
       "4540"
      ]
     },
     "execution_count": 4,
     "metadata": {},
     "output_type": "execute_result"
    }
   ],
   "source": [
    "len(pool.Patid.unique())"
   ]
  },
  {
   "cell_type": "code",
   "execution_count": 5,
   "metadata": {
    "collapsed": true
   },
   "outputs": [],
   "source": [
    "pool = pool.loc[ pool.SideLR == 'LS']"
   ]
  },
  {
   "cell_type": "code",
   "execution_count": 6,
   "metadata": {
    "collapsed": true
   },
   "outputs": [],
   "source": [
    "pool.drop( 'SideLR', axis=1, inplace=True)"
   ]
  },
  {
   "cell_type": "code",
   "execution_count": 7,
   "metadata": {},
   "outputs": [
    {
     "data": {
      "text/plain": [
       "66308"
      ]
     },
     "execution_count": 7,
     "metadata": {},
     "output_type": "execute_result"
    }
   ],
   "source": [
    "len(pool)"
   ]
  },
  {
   "cell_type": "markdown",
   "metadata": {},
   "source": [
    "### New experiment only deals with Baseline AMD Category 1"
   ]
  },
  {
   "cell_type": "code",
   "execution_count": 8,
   "metadata": {
    "collapsed": true
   },
   "outputs": [],
   "source": [
    "pool = pool.loc[ pool.Baseline_AMD_Category == '1']"
   ]
  },
  {
   "cell_type": "code",
   "execution_count": 9,
   "metadata": {},
   "outputs": [
    {
     "data": {
      "text/plain": [
       "15837"
      ]
     },
     "execution_count": 9,
     "metadata": {},
     "output_type": "execute_result"
    }
   ],
   "source": [
    "len( pool)"
   ]
  },
  {
   "cell_type": "code",
   "execution_count": 10,
   "metadata": {
    "collapsed": true
   },
   "outputs": [],
   "source": [
    "pool.drop( 'Baseline_AMD_Category', axis=1, inplace=True)"
   ]
  },
  {
   "cell_type": "code",
   "execution_count": 11,
   "metadata": {},
   "outputs": [
    {
     "data": {
      "text/html": [
       "<div>\n",
       "<style>\n",
       "    .dataframe thead tr:only-child th {\n",
       "        text-align: right;\n",
       "    }\n",
       "\n",
       "    .dataframe thead th {\n",
       "        text-align: left;\n",
       "    }\n",
       "\n",
       "    .dataframe tbody tr th {\n",
       "        vertical-align: top;\n",
       "    }\n",
       "</style>\n",
       "<table border=\"1\" class=\"dataframe\">\n",
       "  <thead>\n",
       "    <tr style=\"text-align: right;\">\n",
       "      <th></th>\n",
       "      <th>Patid</th>\n",
       "      <th>Areds_subject_id</th>\n",
       "      <th>converted_file_name</th>\n",
       "      <th>Final_AMD_Phenotype_Group</th>\n",
       "      <th>Final_AMD_Phenotype</th>\n",
       "      <th>Final_Cataract_Phenotype</th>\n",
       "      <th>Study_Visit_Year</th>\n",
       "      <th>Treatment</th>\n",
       "      <th>age_baseline</th>\n",
       "      <th>male</th>\n",
       "      <th>white</th>\n",
       "      <th>Visit</th>\n",
       "      <th>EyeLR</th>\n",
       "      <th>SevScore</th>\n",
       "      <th>SimpleSev</th>\n",
       "      <th>age</th>\n",
       "    </tr>\n",
       "  </thead>\n",
       "  <tbody>\n",
       "    <tr>\n",
       "      <th>56</th>\n",
       "      <td>51011</td>\n",
       "      <td>3587</td>\n",
       "      <td>51011-QUA-F2-LE-LS.tiff</td>\n",
       "      <td>Control</td>\n",
       "      <td>Control</td>\n",
       "      <td>Absent</td>\n",
       "      <td>0.0</td>\n",
       "      <td>Antiox</td>\n",
       "      <td>75.690411</td>\n",
       "      <td>0</td>\n",
       "      <td>1</td>\n",
       "      <td>0</td>\n",
       "      <td>LE</td>\n",
       "      <td>1.0</td>\n",
       "      <td>0.0</td>\n",
       "      <td>75.690411</td>\n",
       "    </tr>\n",
       "    <tr>\n",
       "      <th>58</th>\n",
       "      <td>51011</td>\n",
       "      <td>3587</td>\n",
       "      <td>51011-QUA-F2-RE-LS.tiff</td>\n",
       "      <td>Control</td>\n",
       "      <td>Control</td>\n",
       "      <td>Absent</td>\n",
       "      <td>0.0</td>\n",
       "      <td>Antiox</td>\n",
       "      <td>75.690411</td>\n",
       "      <td>0</td>\n",
       "      <td>1</td>\n",
       "      <td>0</td>\n",
       "      <td>RE</td>\n",
       "      <td>1.0</td>\n",
       "      <td>0.0</td>\n",
       "      <td>75.690411</td>\n",
       "    </tr>\n",
       "    <tr>\n",
       "      <th>98</th>\n",
       "      <td>51019</td>\n",
       "      <td>G022</td>\n",
       "      <td>51019-04-F2-LE-LS.tiff</td>\n",
       "      <td>Other</td>\n",
       "      <td>Large Drusen Questionable 3</td>\n",
       "      <td>Absent</td>\n",
       "      <td>2.0</td>\n",
       "      <td>Placebo</td>\n",
       "      <td>63.630137</td>\n",
       "      <td>1</td>\n",
       "      <td>1</td>\n",
       "      <td>4</td>\n",
       "      <td>LE</td>\n",
       "      <td>1.0</td>\n",
       "      <td>0.0</td>\n",
       "      <td>65.630137</td>\n",
       "    </tr>\n",
       "    <tr>\n",
       "      <th>100</th>\n",
       "      <td>51019</td>\n",
       "      <td>G022</td>\n",
       "      <td>51019-04-F2-RE-LS.tiff</td>\n",
       "      <td>Other</td>\n",
       "      <td>Large Drusen Questionable 3</td>\n",
       "      <td>Absent</td>\n",
       "      <td>2.0</td>\n",
       "      <td>Placebo</td>\n",
       "      <td>63.630137</td>\n",
       "      <td>1</td>\n",
       "      <td>1</td>\n",
       "      <td>4</td>\n",
       "      <td>RE</td>\n",
       "      <td>1.0</td>\n",
       "      <td>0.0</td>\n",
       "      <td>65.630137</td>\n",
       "    </tr>\n",
       "    <tr>\n",
       "      <th>102</th>\n",
       "      <td>51019</td>\n",
       "      <td>G022</td>\n",
       "      <td>51019-06-F2-LE-LS.tiff</td>\n",
       "      <td>Other</td>\n",
       "      <td>Large Drusen Questionable 3</td>\n",
       "      <td>Absent</td>\n",
       "      <td>3.0</td>\n",
       "      <td>Placebo</td>\n",
       "      <td>63.630137</td>\n",
       "      <td>1</td>\n",
       "      <td>1</td>\n",
       "      <td>6</td>\n",
       "      <td>LE</td>\n",
       "      <td>1.0</td>\n",
       "      <td>0.0</td>\n",
       "      <td>66.630137</td>\n",
       "    </tr>\n",
       "  </tbody>\n",
       "</table>\n",
       "</div>"
      ],
      "text/plain": [
       "     Patid Areds_subject_id      converted_file_name  \\\n",
       "56   51011             3587  51011-QUA-F2-LE-LS.tiff   \n",
       "58   51011             3587  51011-QUA-F2-RE-LS.tiff   \n",
       "98   51019             G022   51019-04-F2-LE-LS.tiff   \n",
       "100  51019             G022   51019-04-F2-RE-LS.tiff   \n",
       "102  51019             G022   51019-06-F2-LE-LS.tiff   \n",
       "\n",
       "    Final_AMD_Phenotype_Group          Final_AMD_Phenotype  \\\n",
       "56                    Control                      Control   \n",
       "58                    Control                      Control   \n",
       "98                      Other  Large Drusen Questionable 3   \n",
       "100                     Other  Large Drusen Questionable 3   \n",
       "102                     Other  Large Drusen Questionable 3   \n",
       "\n",
       "    Final_Cataract_Phenotype  Study_Visit_Year Treatment  age_baseline  male  \\\n",
       "56                    Absent               0.0    Antiox     75.690411     0   \n",
       "58                    Absent               0.0    Antiox     75.690411     0   \n",
       "98                    Absent               2.0   Placebo     63.630137     1   \n",
       "100                   Absent               2.0   Placebo     63.630137     1   \n",
       "102                   Absent               3.0   Placebo     63.630137     1   \n",
       "\n",
       "     white  Visit EyeLR  SevScore  SimpleSev        age  \n",
       "56       1      0    LE       1.0        0.0  75.690411  \n",
       "58       1      0    RE       1.0        0.0  75.690411  \n",
       "98       1      4    LE       1.0        0.0  65.630137  \n",
       "100      1      4    RE       1.0        0.0  65.630137  \n",
       "102      1      6    LE       1.0        0.0  66.630137  "
      ]
     },
     "execution_count": 11,
     "metadata": {},
     "output_type": "execute_result"
    }
   ],
   "source": [
    "pool.head()"
   ]
  },
  {
   "cell_type": "markdown",
   "metadata": {},
   "source": [
    "### Create join key\n",
    "\n",
    "Need a way to join Freekje's AREDS database with the WND-CHARM features dataset coming in."
   ]
  },
  {
   "cell_type": "code",
   "execution_count": 12,
   "metadata": {
    "collapsed": true
   },
   "outputs": [],
   "source": [
    "pool['join_key'] = [ '-'.join( _.split('-')[:4] ) for _ in list(pool.converted_file_name) ]"
   ]
  },
  {
   "cell_type": "code",
   "execution_count": 13,
   "metadata": {},
   "outputs": [
    {
     "data": {
      "text/html": [
       "<div>\n",
       "<style>\n",
       "    .dataframe thead tr:only-child th {\n",
       "        text-align: right;\n",
       "    }\n",
       "\n",
       "    .dataframe thead th {\n",
       "        text-align: left;\n",
       "    }\n",
       "\n",
       "    .dataframe tbody tr th {\n",
       "        vertical-align: top;\n",
       "    }\n",
       "</style>\n",
       "<table border=\"1\" class=\"dataframe\">\n",
       "  <thead>\n",
       "    <tr style=\"text-align: right;\">\n",
       "      <th></th>\n",
       "      <th>Patid</th>\n",
       "      <th>Areds_subject_id</th>\n",
       "      <th>converted_file_name</th>\n",
       "      <th>Final_AMD_Phenotype_Group</th>\n",
       "      <th>Final_AMD_Phenotype</th>\n",
       "      <th>Final_Cataract_Phenotype</th>\n",
       "      <th>Study_Visit_Year</th>\n",
       "      <th>Treatment</th>\n",
       "      <th>age_baseline</th>\n",
       "      <th>male</th>\n",
       "      <th>white</th>\n",
       "      <th>Visit</th>\n",
       "      <th>EyeLR</th>\n",
       "      <th>SevScore</th>\n",
       "      <th>SimpleSev</th>\n",
       "      <th>age</th>\n",
       "      <th>join_key</th>\n",
       "    </tr>\n",
       "  </thead>\n",
       "  <tbody>\n",
       "    <tr>\n",
       "      <th>56</th>\n",
       "      <td>51011</td>\n",
       "      <td>3587</td>\n",
       "      <td>51011-QUA-F2-LE-LS.tiff</td>\n",
       "      <td>Control</td>\n",
       "      <td>Control</td>\n",
       "      <td>Absent</td>\n",
       "      <td>0.0</td>\n",
       "      <td>Antiox</td>\n",
       "      <td>75.690411</td>\n",
       "      <td>0</td>\n",
       "      <td>1</td>\n",
       "      <td>0</td>\n",
       "      <td>LE</td>\n",
       "      <td>1.0</td>\n",
       "      <td>0.0</td>\n",
       "      <td>75.690411</td>\n",
       "      <td>51011-QUA-F2-LE</td>\n",
       "    </tr>\n",
       "    <tr>\n",
       "      <th>58</th>\n",
       "      <td>51011</td>\n",
       "      <td>3587</td>\n",
       "      <td>51011-QUA-F2-RE-LS.tiff</td>\n",
       "      <td>Control</td>\n",
       "      <td>Control</td>\n",
       "      <td>Absent</td>\n",
       "      <td>0.0</td>\n",
       "      <td>Antiox</td>\n",
       "      <td>75.690411</td>\n",
       "      <td>0</td>\n",
       "      <td>1</td>\n",
       "      <td>0</td>\n",
       "      <td>RE</td>\n",
       "      <td>1.0</td>\n",
       "      <td>0.0</td>\n",
       "      <td>75.690411</td>\n",
       "      <td>51011-QUA-F2-RE</td>\n",
       "    </tr>\n",
       "    <tr>\n",
       "      <th>98</th>\n",
       "      <td>51019</td>\n",
       "      <td>G022</td>\n",
       "      <td>51019-04-F2-LE-LS.tiff</td>\n",
       "      <td>Other</td>\n",
       "      <td>Large Drusen Questionable 3</td>\n",
       "      <td>Absent</td>\n",
       "      <td>2.0</td>\n",
       "      <td>Placebo</td>\n",
       "      <td>63.630137</td>\n",
       "      <td>1</td>\n",
       "      <td>1</td>\n",
       "      <td>4</td>\n",
       "      <td>LE</td>\n",
       "      <td>1.0</td>\n",
       "      <td>0.0</td>\n",
       "      <td>65.630137</td>\n",
       "      <td>51019-04-F2-LE</td>\n",
       "    </tr>\n",
       "    <tr>\n",
       "      <th>100</th>\n",
       "      <td>51019</td>\n",
       "      <td>G022</td>\n",
       "      <td>51019-04-F2-RE-LS.tiff</td>\n",
       "      <td>Other</td>\n",
       "      <td>Large Drusen Questionable 3</td>\n",
       "      <td>Absent</td>\n",
       "      <td>2.0</td>\n",
       "      <td>Placebo</td>\n",
       "      <td>63.630137</td>\n",
       "      <td>1</td>\n",
       "      <td>1</td>\n",
       "      <td>4</td>\n",
       "      <td>RE</td>\n",
       "      <td>1.0</td>\n",
       "      <td>0.0</td>\n",
       "      <td>65.630137</td>\n",
       "      <td>51019-04-F2-RE</td>\n",
       "    </tr>\n",
       "    <tr>\n",
       "      <th>102</th>\n",
       "      <td>51019</td>\n",
       "      <td>G022</td>\n",
       "      <td>51019-06-F2-LE-LS.tiff</td>\n",
       "      <td>Other</td>\n",
       "      <td>Large Drusen Questionable 3</td>\n",
       "      <td>Absent</td>\n",
       "      <td>3.0</td>\n",
       "      <td>Placebo</td>\n",
       "      <td>63.630137</td>\n",
       "      <td>1</td>\n",
       "      <td>1</td>\n",
       "      <td>6</td>\n",
       "      <td>LE</td>\n",
       "      <td>1.0</td>\n",
       "      <td>0.0</td>\n",
       "      <td>66.630137</td>\n",
       "      <td>51019-06-F2-LE</td>\n",
       "    </tr>\n",
       "  </tbody>\n",
       "</table>\n",
       "</div>"
      ],
      "text/plain": [
       "     Patid Areds_subject_id      converted_file_name  \\\n",
       "56   51011             3587  51011-QUA-F2-LE-LS.tiff   \n",
       "58   51011             3587  51011-QUA-F2-RE-LS.tiff   \n",
       "98   51019             G022   51019-04-F2-LE-LS.tiff   \n",
       "100  51019             G022   51019-04-F2-RE-LS.tiff   \n",
       "102  51019             G022   51019-06-F2-LE-LS.tiff   \n",
       "\n",
       "    Final_AMD_Phenotype_Group          Final_AMD_Phenotype  \\\n",
       "56                    Control                      Control   \n",
       "58                    Control                      Control   \n",
       "98                      Other  Large Drusen Questionable 3   \n",
       "100                     Other  Large Drusen Questionable 3   \n",
       "102                     Other  Large Drusen Questionable 3   \n",
       "\n",
       "    Final_Cataract_Phenotype  Study_Visit_Year Treatment  age_baseline  male  \\\n",
       "56                    Absent               0.0    Antiox     75.690411     0   \n",
       "58                    Absent               0.0    Antiox     75.690411     0   \n",
       "98                    Absent               2.0   Placebo     63.630137     1   \n",
       "100                   Absent               2.0   Placebo     63.630137     1   \n",
       "102                   Absent               3.0   Placebo     63.630137     1   \n",
       "\n",
       "     white  Visit EyeLR  SevScore  SimpleSev        age         join_key  \n",
       "56       1      0    LE       1.0        0.0  75.690411  51011-QUA-F2-LE  \n",
       "58       1      0    RE       1.0        0.0  75.690411  51011-QUA-F2-RE  \n",
       "98       1      4    LE       1.0        0.0  65.630137   51019-04-F2-LE  \n",
       "100      1      4    RE       1.0        0.0  65.630137   51019-04-F2-RE  \n",
       "102      1      6    LE       1.0        0.0  66.630137   51019-06-F2-LE  "
      ]
     },
     "execution_count": 13,
     "metadata": {},
     "output_type": "execute_result"
    }
   ],
   "source": [
    "pool.head()"
   ]
  },
  {
   "cell_type": "markdown",
   "metadata": {},
   "source": [
    "# Load features"
   ]
  },
  {
   "cell_type": "code",
   "execution_count": 14,
   "metadata": {
    "collapsed": true
   },
   "outputs": [],
   "source": [
    "pre = \"sept_progression\"\n",
    "feat_file = pre + '_data.npy'\n",
    "feat_names_file = pre + '_feature_names.txt'\n",
    "samp_names_file = pre + '_sample_names.txt'\n",
    "labels_file = pre + '_values.txt'"
   ]
  },
  {
   "cell_type": "code",
   "execution_count": 15,
   "metadata": {
    "collapsed": true
   },
   "outputs": [],
   "source": [
    "with open( feat_names_file ) as f:\n",
    "    feature_names = [ line.rstrip('\\n') for line in f ]"
   ]
  },
  {
   "cell_type": "code",
   "execution_count": 16,
   "metadata": {
    "collapsed": true
   },
   "outputs": [],
   "source": [
    "with open( samp_names_file ) as f:\n",
    "    sample_names = [ line.rstrip('\\n') for line in f ]"
   ]
  },
  {
   "cell_type": "code",
   "execution_count": 17,
   "metadata": {
    "collapsed": true
   },
   "outputs": [],
   "source": [
    "with open( labels_file ) as f:\n",
    "    labels = [ line.rstrip('\\n') for line in f ]"
   ]
  },
  {
   "cell_type": "code",
   "execution_count": 18,
   "metadata": {},
   "outputs": [
    {
     "data": {
      "text/plain": [
       "1617.0"
      ]
     },
     "execution_count": 18,
     "metadata": {},
     "output_type": "execute_result"
    }
   ],
   "source": [
    "len(labels)/8"
   ]
  },
  {
   "cell_type": "code",
   "execution_count": 19,
   "metadata": {
    "collapsed": true
   },
   "outputs": [],
   "source": [
    "from collections import Counter"
   ]
  },
  {
   "cell_type": "code",
   "execution_count": 20,
   "metadata": {},
   "outputs": [
    {
     "data": {
      "text/plain": [
       "Counter({'case_p_l': 231,\n",
       "         'case_p_r': 149,\n",
       "         'case_t_l': 14,\n",
       "         'case_t_r': 49,\n",
       "         'control_p_l': 246,\n",
       "         'control_p_r': 246,\n",
       "         'control_t_l': 341,\n",
       "         'control_t_r': 341})"
      ]
     },
     "execution_count": 20,
     "metadata": {},
     "output_type": "execute_result"
    }
   ],
   "source": [
    "Counter( labels[::8] )"
   ]
  },
  {
   "cell_type": "code",
   "execution_count": 21,
   "metadata": {
    "collapsed": true
   },
   "outputs": [],
   "source": [
    "raw = pd.DataFrame( columns=feature_names, data=np.load( feat_file ) )"
   ]
  },
  {
   "cell_type": "code",
   "execution_count": 22,
   "metadata": {},
   "outputs": [
    {
     "data": {
      "text/plain": [
       "(12936, 4059)"
      ]
     },
     "execution_count": 22,
     "metadata": {},
     "output_type": "execute_result"
    }
   ],
   "source": [
    "raw.shape"
   ]
  },
  {
   "cell_type": "code",
   "execution_count": 23,
   "metadata": {},
   "outputs": [
    {
     "data": {
      "text/plain": [
       "1617.0"
      ]
     },
     "execution_count": 23,
     "metadata": {},
     "output_type": "execute_result"
    }
   ],
   "source": [
    "len(raw)/8"
   ]
  },
  {
   "cell_type": "code",
   "execution_count": 24,
   "metadata": {
    "collapsed": true
   },
   "outputs": [],
   "source": [
    "sample_groups = [ '-'.join( _.split('/')[2].split('-')[:4] ) \n",
    "                          for _ in sample_names ]"
   ]
  },
  {
   "cell_type": "code",
   "execution_count": 25,
   "metadata": {
    "collapsed": true
   },
   "outputs": [],
   "source": [
    "raw[ 'groups' ] = sample_groups"
   ]
  },
  {
   "cell_type": "markdown",
   "metadata": {},
   "source": [
    "### Warning: taking mean does not preserve order of samples\n",
    "\n",
    "The group string becomes the new index, and things get sorted on that index, so need a way to preserve class composition."
   ]
  },
  {
   "cell_type": "code",
   "execution_count": 26,
   "metadata": {
    "collapsed": true
   },
   "outputs": [],
   "source": [
    "class_dict = dict( set( zip( sample_groups, labels)))"
   ]
  },
  {
   "cell_type": "code",
   "execution_count": 27,
   "metadata": {},
   "outputs": [
    {
     "data": {
      "text/plain": [
       "1617"
      ]
     },
     "execution_count": 27,
     "metadata": {},
     "output_type": "execute_result"
    }
   ],
   "source": [
    "len(class_dict)"
   ]
  },
  {
   "cell_type": "markdown",
   "metadata": {},
   "source": [
    "## Average over all samples"
   ]
  },
  {
   "cell_type": "code",
   "execution_count": 28,
   "metadata": {
    "collapsed": true
   },
   "outputs": [],
   "source": [
    "averaged = raw.groupby('groups').mean()"
   ]
  },
  {
   "cell_type": "code",
   "execution_count": 29,
   "metadata": {},
   "outputs": [
    {
     "data": {
      "text/plain": [
       "(1617, 4059)"
      ]
     },
     "execution_count": 29,
     "metadata": {},
     "output_type": "execute_result"
    }
   ],
   "source": [
    "averaged.shape"
   ]
  },
  {
   "cell_type": "markdown",
   "metadata": {},
   "source": [
    "### Add the class identity back in"
   ]
  },
  {
   "cell_type": "code",
   "execution_count": 30,
   "metadata": {
    "collapsed": true
   },
   "outputs": [],
   "source": [
    "averaged['progressor_class'] = [ class_dict[_] for _ in list( averaged.index ) ]"
   ]
  },
  {
   "cell_type": "code",
   "execution_count": 31,
   "metadata": {
    "collapsed": true
   },
   "outputs": [],
   "source": [
    "averaged['progressor_group'] = [ _.split('_')[0] for _ in list(averaged['progressor_class'])]"
   ]
  },
  {
   "cell_type": "markdown",
   "metadata": {},
   "source": [
    "### Merge with Freekje data"
   ]
  },
  {
   "cell_type": "code",
   "execution_count": 32,
   "metadata": {
    "collapsed": true
   },
   "outputs": [],
   "source": [
    "merged = averaged.merge( pool, how='inner', left_index=True, right_on='join_key')"
   ]
  },
  {
   "cell_type": "code",
   "execution_count": 33,
   "metadata": {},
   "outputs": [
    {
     "data": {
      "text/html": [
       "<div>\n",
       "<style>\n",
       "    .dataframe thead tr:only-child th {\n",
       "        text-align: right;\n",
       "    }\n",
       "\n",
       "    .dataframe thead th {\n",
       "        text-align: left;\n",
       "    }\n",
       "\n",
       "    .dataframe tbody tr th {\n",
       "        vertical-align: top;\n",
       "    }\n",
       "</style>\n",
       "<table border=\"1\" class=\"dataframe\">\n",
       "  <thead>\n",
       "    <tr style=\"text-align: right;\">\n",
       "      <th></th>\n",
       "      <th>progressor_class</th>\n",
       "      <th>progressor_group</th>\n",
       "      <th>Patid</th>\n",
       "      <th>Areds_subject_id</th>\n",
       "      <th>converted_file_name</th>\n",
       "      <th>Final_AMD_Phenotype_Group</th>\n",
       "      <th>Final_AMD_Phenotype</th>\n",
       "      <th>Final_Cataract_Phenotype</th>\n",
       "      <th>Study_Visit_Year</th>\n",
       "      <th>Treatment</th>\n",
       "      <th>age_baseline</th>\n",
       "      <th>male</th>\n",
       "      <th>white</th>\n",
       "      <th>Visit</th>\n",
       "      <th>EyeLR</th>\n",
       "      <th>SevScore</th>\n",
       "      <th>SimpleSev</th>\n",
       "      <th>age</th>\n",
       "      <th>join_key</th>\n",
       "    </tr>\n",
       "  </thead>\n",
       "  <tbody>\n",
       "    <tr>\n",
       "      <th>176</th>\n",
       "      <td>control_p_l</td>\n",
       "      <td>control</td>\n",
       "      <td>51026</td>\n",
       "      <td>2147</td>\n",
       "      <td>51026-04-F2-LE-LS.tiff</td>\n",
       "      <td>Control</td>\n",
       "      <td>Control</td>\n",
       "      <td>Absent</td>\n",
       "      <td>2.0</td>\n",
       "      <td>Placebo</td>\n",
       "      <td>64.117808</td>\n",
       "      <td>0</td>\n",
       "      <td>1</td>\n",
       "      <td>4</td>\n",
       "      <td>LE</td>\n",
       "      <td>1.0</td>\n",
       "      <td>0.0</td>\n",
       "      <td>66.117808</td>\n",
       "      <td>51026-04-F2-LE</td>\n",
       "    </tr>\n",
       "    <tr>\n",
       "      <th>178</th>\n",
       "      <td>control_p_r</td>\n",
       "      <td>control</td>\n",
       "      <td>51026</td>\n",
       "      <td>2147</td>\n",
       "      <td>51026-04-F2-RE-LS.tiff</td>\n",
       "      <td>Control</td>\n",
       "      <td>Control</td>\n",
       "      <td>Absent</td>\n",
       "      <td>2.0</td>\n",
       "      <td>Placebo</td>\n",
       "      <td>64.117808</td>\n",
       "      <td>0</td>\n",
       "      <td>1</td>\n",
       "      <td>4</td>\n",
       "      <td>RE</td>\n",
       "      <td>1.0</td>\n",
       "      <td>0.0</td>\n",
       "      <td>66.117808</td>\n",
       "      <td>51026-04-F2-RE</td>\n",
       "    </tr>\n",
       "    <tr>\n",
       "      <th>180</th>\n",
       "      <td>control_p_l</td>\n",
       "      <td>control</td>\n",
       "      <td>51026</td>\n",
       "      <td>2147</td>\n",
       "      <td>51026-06-F2-LE-LS.tiff</td>\n",
       "      <td>Control</td>\n",
       "      <td>Control</td>\n",
       "      <td>Absent</td>\n",
       "      <td>3.0</td>\n",
       "      <td>Placebo</td>\n",
       "      <td>64.117808</td>\n",
       "      <td>0</td>\n",
       "      <td>1</td>\n",
       "      <td>6</td>\n",
       "      <td>LE</td>\n",
       "      <td>1.0</td>\n",
       "      <td>0.0</td>\n",
       "      <td>67.117808</td>\n",
       "      <td>51026-06-F2-LE</td>\n",
       "    </tr>\n",
       "    <tr>\n",
       "      <th>182</th>\n",
       "      <td>control_p_r</td>\n",
       "      <td>control</td>\n",
       "      <td>51026</td>\n",
       "      <td>2147</td>\n",
       "      <td>51026-06-F2-RE-LS.tiff</td>\n",
       "      <td>Control</td>\n",
       "      <td>Control</td>\n",
       "      <td>Absent</td>\n",
       "      <td>3.0</td>\n",
       "      <td>Placebo</td>\n",
       "      <td>64.117808</td>\n",
       "      <td>0</td>\n",
       "      <td>1</td>\n",
       "      <td>6</td>\n",
       "      <td>RE</td>\n",
       "      <td>1.0</td>\n",
       "      <td>0.0</td>\n",
       "      <td>67.117808</td>\n",
       "      <td>51026-06-F2-RE</td>\n",
       "    </tr>\n",
       "    <tr>\n",
       "      <th>184</th>\n",
       "      <td>control_p_l</td>\n",
       "      <td>control</td>\n",
       "      <td>51026</td>\n",
       "      <td>2147</td>\n",
       "      <td>51026-08-F2-LE-LS.tiff</td>\n",
       "      <td>Control</td>\n",
       "      <td>Control</td>\n",
       "      <td>Absent</td>\n",
       "      <td>4.0</td>\n",
       "      <td>Placebo</td>\n",
       "      <td>64.117808</td>\n",
       "      <td>0</td>\n",
       "      <td>1</td>\n",
       "      <td>8</td>\n",
       "      <td>LE</td>\n",
       "      <td>1.0</td>\n",
       "      <td>0.0</td>\n",
       "      <td>68.117808</td>\n",
       "      <td>51026-08-F2-LE</td>\n",
       "    </tr>\n",
       "    <tr>\n",
       "      <th>186</th>\n",
       "      <td>control_p_r</td>\n",
       "      <td>control</td>\n",
       "      <td>51026</td>\n",
       "      <td>2147</td>\n",
       "      <td>51026-08-F2-RE-LS.tiff</td>\n",
       "      <td>Control</td>\n",
       "      <td>Control</td>\n",
       "      <td>Absent</td>\n",
       "      <td>4.0</td>\n",
       "      <td>Placebo</td>\n",
       "      <td>64.117808</td>\n",
       "      <td>0</td>\n",
       "      <td>1</td>\n",
       "      <td>8</td>\n",
       "      <td>RE</td>\n",
       "      <td>1.0</td>\n",
       "      <td>0.0</td>\n",
       "      <td>68.117808</td>\n",
       "      <td>51026-08-F2-RE</td>\n",
       "    </tr>\n",
       "    <tr>\n",
       "      <th>188</th>\n",
       "      <td>control_p_l</td>\n",
       "      <td>control</td>\n",
       "      <td>51026</td>\n",
       "      <td>2147</td>\n",
       "      <td>51026-10-F2-LE-LS.tiff</td>\n",
       "      <td>Control</td>\n",
       "      <td>Control</td>\n",
       "      <td>Absent</td>\n",
       "      <td>5.0</td>\n",
       "      <td>Placebo</td>\n",
       "      <td>64.117808</td>\n",
       "      <td>0</td>\n",
       "      <td>1</td>\n",
       "      <td>10</td>\n",
       "      <td>LE</td>\n",
       "      <td>1.0</td>\n",
       "      <td>0.0</td>\n",
       "      <td>69.117808</td>\n",
       "      <td>51026-10-F2-LE</td>\n",
       "    </tr>\n",
       "    <tr>\n",
       "      <th>190</th>\n",
       "      <td>control_p_r</td>\n",
       "      <td>control</td>\n",
       "      <td>51026</td>\n",
       "      <td>2147</td>\n",
       "      <td>51026-10-F2-RE-LS.tiff</td>\n",
       "      <td>Control</td>\n",
       "      <td>Control</td>\n",
       "      <td>Absent</td>\n",
       "      <td>5.0</td>\n",
       "      <td>Placebo</td>\n",
       "      <td>64.117808</td>\n",
       "      <td>0</td>\n",
       "      <td>1</td>\n",
       "      <td>10</td>\n",
       "      <td>RE</td>\n",
       "      <td>1.0</td>\n",
       "      <td>0.0</td>\n",
       "      <td>69.117808</td>\n",
       "      <td>51026-10-F2-RE</td>\n",
       "    </tr>\n",
       "    <tr>\n",
       "      <th>192</th>\n",
       "      <td>control_p_l</td>\n",
       "      <td>control</td>\n",
       "      <td>51026</td>\n",
       "      <td>2147</td>\n",
       "      <td>51026-12-F2-LE-LS.tiff</td>\n",
       "      <td>Control</td>\n",
       "      <td>Control</td>\n",
       "      <td>Absent</td>\n",
       "      <td>6.0</td>\n",
       "      <td>Placebo</td>\n",
       "      <td>64.117808</td>\n",
       "      <td>0</td>\n",
       "      <td>1</td>\n",
       "      <td>12</td>\n",
       "      <td>LE</td>\n",
       "      <td>1.0</td>\n",
       "      <td>0.0</td>\n",
       "      <td>70.117808</td>\n",
       "      <td>51026-12-F2-LE</td>\n",
       "    </tr>\n",
       "    <tr>\n",
       "      <th>194</th>\n",
       "      <td>control_p_r</td>\n",
       "      <td>control</td>\n",
       "      <td>51026</td>\n",
       "      <td>2147</td>\n",
       "      <td>51026-12-F2-RE-LS.tiff</td>\n",
       "      <td>Control</td>\n",
       "      <td>Control</td>\n",
       "      <td>Absent</td>\n",
       "      <td>6.0</td>\n",
       "      <td>Placebo</td>\n",
       "      <td>64.117808</td>\n",
       "      <td>0</td>\n",
       "      <td>1</td>\n",
       "      <td>12</td>\n",
       "      <td>RE</td>\n",
       "      <td>1.0</td>\n",
       "      <td>0.0</td>\n",
       "      <td>70.117808</td>\n",
       "      <td>51026-12-F2-RE</td>\n",
       "    </tr>\n",
       "    <tr>\n",
       "      <th>196</th>\n",
       "      <td>control_p_l</td>\n",
       "      <td>control</td>\n",
       "      <td>51026</td>\n",
       "      <td>2147</td>\n",
       "      <td>51026-16-F2-LE-LS.tiff</td>\n",
       "      <td>Control</td>\n",
       "      <td>Control</td>\n",
       "      <td>Absent</td>\n",
       "      <td>8.0</td>\n",
       "      <td>Placebo</td>\n",
       "      <td>64.117808</td>\n",
       "      <td>0</td>\n",
       "      <td>1</td>\n",
       "      <td>16</td>\n",
       "      <td>LE</td>\n",
       "      <td>1.0</td>\n",
       "      <td>0.0</td>\n",
       "      <td>72.117808</td>\n",
       "      <td>51026-16-F2-LE</td>\n",
       "    </tr>\n",
       "    <tr>\n",
       "      <th>198</th>\n",
       "      <td>control_p_r</td>\n",
       "      <td>control</td>\n",
       "      <td>51026</td>\n",
       "      <td>2147</td>\n",
       "      <td>51026-16-F2-RE-LS.tiff</td>\n",
       "      <td>Control</td>\n",
       "      <td>Control</td>\n",
       "      <td>Absent</td>\n",
       "      <td>8.0</td>\n",
       "      <td>Placebo</td>\n",
       "      <td>64.117808</td>\n",
       "      <td>0</td>\n",
       "      <td>1</td>\n",
       "      <td>16</td>\n",
       "      <td>RE</td>\n",
       "      <td>1.0</td>\n",
       "      <td>0.0</td>\n",
       "      <td>72.117808</td>\n",
       "      <td>51026-16-F2-RE</td>\n",
       "    </tr>\n",
       "    <tr>\n",
       "      <th>200</th>\n",
       "      <td>control_p_l</td>\n",
       "      <td>control</td>\n",
       "      <td>51026</td>\n",
       "      <td>2147</td>\n",
       "      <td>51026-18-F2-LE-LS.tiff</td>\n",
       "      <td>Control</td>\n",
       "      <td>Control</td>\n",
       "      <td>Absent</td>\n",
       "      <td>9.0</td>\n",
       "      <td>Placebo</td>\n",
       "      <td>64.117808</td>\n",
       "      <td>0</td>\n",
       "      <td>1</td>\n",
       "      <td>18</td>\n",
       "      <td>LE</td>\n",
       "      <td>1.0</td>\n",
       "      <td>0.0</td>\n",
       "      <td>73.117808</td>\n",
       "      <td>51026-18-F2-LE</td>\n",
       "    </tr>\n",
       "    <tr>\n",
       "      <th>202</th>\n",
       "      <td>control_p_r</td>\n",
       "      <td>control</td>\n",
       "      <td>51026</td>\n",
       "      <td>2147</td>\n",
       "      <td>51026-18-F2-RE-LS.tiff</td>\n",
       "      <td>Control</td>\n",
       "      <td>Control</td>\n",
       "      <td>Absent</td>\n",
       "      <td>9.0</td>\n",
       "      <td>Placebo</td>\n",
       "      <td>64.117808</td>\n",
       "      <td>0</td>\n",
       "      <td>1</td>\n",
       "      <td>18</td>\n",
       "      <td>RE</td>\n",
       "      <td>1.0</td>\n",
       "      <td>0.0</td>\n",
       "      <td>73.117808</td>\n",
       "      <td>51026-18-F2-RE</td>\n",
       "    </tr>\n",
       "    <tr>\n",
       "      <th>204</th>\n",
       "      <td>control_p_l</td>\n",
       "      <td>control</td>\n",
       "      <td>51026</td>\n",
       "      <td>2147</td>\n",
       "      <td>51026-20-F2-LE-LS.tiff</td>\n",
       "      <td>Control</td>\n",
       "      <td>Control</td>\n",
       "      <td>Absent</td>\n",
       "      <td>10.0</td>\n",
       "      <td>Placebo</td>\n",
       "      <td>64.117808</td>\n",
       "      <td>0</td>\n",
       "      <td>1</td>\n",
       "      <td>20</td>\n",
       "      <td>LE</td>\n",
       "      <td>1.0</td>\n",
       "      <td>0.0</td>\n",
       "      <td>74.117808</td>\n",
       "      <td>51026-20-F2-LE</td>\n",
       "    </tr>\n",
       "    <tr>\n",
       "      <th>206</th>\n",
       "      <td>control_p_r</td>\n",
       "      <td>control</td>\n",
       "      <td>51026</td>\n",
       "      <td>2147</td>\n",
       "      <td>51026-20-F2-RE-LS.tiff</td>\n",
       "      <td>Control</td>\n",
       "      <td>Control</td>\n",
       "      <td>Absent</td>\n",
       "      <td>10.0</td>\n",
       "      <td>Placebo</td>\n",
       "      <td>64.117808</td>\n",
       "      <td>0</td>\n",
       "      <td>1</td>\n",
       "      <td>20</td>\n",
       "      <td>RE</td>\n",
       "      <td>1.0</td>\n",
       "      <td>0.0</td>\n",
       "      <td>74.117808</td>\n",
       "      <td>51026-20-F2-RE</td>\n",
       "    </tr>\n",
       "    <tr>\n",
       "      <th>208</th>\n",
       "      <td>control_p_l</td>\n",
       "      <td>control</td>\n",
       "      <td>51026</td>\n",
       "      <td>2147</td>\n",
       "      <td>51026-22-F2-LE-LS.tiff</td>\n",
       "      <td>Control</td>\n",
       "      <td>Control</td>\n",
       "      <td>Absent</td>\n",
       "      <td>11.0</td>\n",
       "      <td>Placebo</td>\n",
       "      <td>64.117808</td>\n",
       "      <td>0</td>\n",
       "      <td>1</td>\n",
       "      <td>22</td>\n",
       "      <td>LE</td>\n",
       "      <td>1.0</td>\n",
       "      <td>0.0</td>\n",
       "      <td>75.117808</td>\n",
       "      <td>51026-22-F2-LE</td>\n",
       "    </tr>\n",
       "    <tr>\n",
       "      <th>210</th>\n",
       "      <td>control_p_r</td>\n",
       "      <td>control</td>\n",
       "      <td>51026</td>\n",
       "      <td>2147</td>\n",
       "      <td>51026-22-F2-RE-LS.tiff</td>\n",
       "      <td>Control</td>\n",
       "      <td>Control</td>\n",
       "      <td>Absent</td>\n",
       "      <td>11.0</td>\n",
       "      <td>Placebo</td>\n",
       "      <td>64.117808</td>\n",
       "      <td>0</td>\n",
       "      <td>1</td>\n",
       "      <td>22</td>\n",
       "      <td>RE</td>\n",
       "      <td>1.0</td>\n",
       "      <td>0.0</td>\n",
       "      <td>75.117808</td>\n",
       "      <td>51026-22-F2-RE</td>\n",
       "    </tr>\n",
       "    <tr>\n",
       "      <th>212</th>\n",
       "      <td>control_p_l</td>\n",
       "      <td>control</td>\n",
       "      <td>51026</td>\n",
       "      <td>2147</td>\n",
       "      <td>51026-QUA-F2-LE-LS.tiff</td>\n",
       "      <td>Control</td>\n",
       "      <td>Control</td>\n",
       "      <td>Absent</td>\n",
       "      <td>0.0</td>\n",
       "      <td>Placebo</td>\n",
       "      <td>64.117808</td>\n",
       "      <td>0</td>\n",
       "      <td>1</td>\n",
       "      <td>0</td>\n",
       "      <td>LE</td>\n",
       "      <td>1.0</td>\n",
       "      <td>0.0</td>\n",
       "      <td>64.117808</td>\n",
       "      <td>51026-QUA-F2-LE</td>\n",
       "    </tr>\n",
       "    <tr>\n",
       "      <th>214</th>\n",
       "      <td>control_p_r</td>\n",
       "      <td>control</td>\n",
       "      <td>51026</td>\n",
       "      <td>2147</td>\n",
       "      <td>51026-QUA-F2-RE-LS.tiff</td>\n",
       "      <td>Control</td>\n",
       "      <td>Control</td>\n",
       "      <td>Absent</td>\n",
       "      <td>0.0</td>\n",
       "      <td>Placebo</td>\n",
       "      <td>64.117808</td>\n",
       "      <td>0</td>\n",
       "      <td>1</td>\n",
       "      <td>0</td>\n",
       "      <td>RE</td>\n",
       "      <td>1.0</td>\n",
       "      <td>0.0</td>\n",
       "      <td>64.117808</td>\n",
       "      <td>51026-QUA-F2-RE</td>\n",
       "    </tr>\n",
       "    <tr>\n",
       "      <th>714</th>\n",
       "      <td>case_t_r</td>\n",
       "      <td>case</td>\n",
       "      <td>51057</td>\n",
       "      <td>4847</td>\n",
       "      <td>51057-04-F2-RE-LS.tiff</td>\n",
       "      <td>Other</td>\n",
       "      <td>Other non-control phenotype</td>\n",
       "      <td>Nuclear alone</td>\n",
       "      <td>2.0</td>\n",
       "      <td>Antiox</td>\n",
       "      <td>75.663014</td>\n",
       "      <td>0</td>\n",
       "      <td>1</td>\n",
       "      <td>4</td>\n",
       "      <td>RE</td>\n",
       "      <td>1.0</td>\n",
       "      <td>0.0</td>\n",
       "      <td>77.663014</td>\n",
       "      <td>51057-04-F2-RE</td>\n",
       "    </tr>\n",
       "    <tr>\n",
       "      <th>718</th>\n",
       "      <td>case_t_r</td>\n",
       "      <td>case</td>\n",
       "      <td>51057</td>\n",
       "      <td>4847</td>\n",
       "      <td>51057-08-F2-RE-LS.tiff</td>\n",
       "      <td>Other</td>\n",
       "      <td>Other non-control phenotype</td>\n",
       "      <td>Nuclear alone</td>\n",
       "      <td>4.0</td>\n",
       "      <td>Antiox</td>\n",
       "      <td>75.663014</td>\n",
       "      <td>0</td>\n",
       "      <td>1</td>\n",
       "      <td>8</td>\n",
       "      <td>RE</td>\n",
       "      <td>3.0</td>\n",
       "      <td>1.0</td>\n",
       "      <td>79.663014</td>\n",
       "      <td>51057-08-F2-RE</td>\n",
       "    </tr>\n",
       "    <tr>\n",
       "      <th>722</th>\n",
       "      <td>case_t_r</td>\n",
       "      <td>case</td>\n",
       "      <td>51057</td>\n",
       "      <td>4847</td>\n",
       "      <td>51057-10-F2-RE-LS.tiff</td>\n",
       "      <td>Other</td>\n",
       "      <td>Other non-control phenotype</td>\n",
       "      <td>Nuclear alone</td>\n",
       "      <td>5.0</td>\n",
       "      <td>Antiox</td>\n",
       "      <td>75.663014</td>\n",
       "      <td>0</td>\n",
       "      <td>1</td>\n",
       "      <td>10</td>\n",
       "      <td>RE</td>\n",
       "      <td>2.0</td>\n",
       "      <td>0.0</td>\n",
       "      <td>80.663014</td>\n",
       "      <td>51057-10-F2-RE</td>\n",
       "    </tr>\n",
       "    <tr>\n",
       "      <th>726</th>\n",
       "      <td>case_t_r</td>\n",
       "      <td>case</td>\n",
       "      <td>51057</td>\n",
       "      <td>4847</td>\n",
       "      <td>51057-12-F2-RE-LS.tiff</td>\n",
       "      <td>Other</td>\n",
       "      <td>Other non-control phenotype</td>\n",
       "      <td>Nuclear alone</td>\n",
       "      <td>6.0</td>\n",
       "      <td>Antiox</td>\n",
       "      <td>75.663014</td>\n",
       "      <td>0</td>\n",
       "      <td>1</td>\n",
       "      <td>12</td>\n",
       "      <td>RE</td>\n",
       "      <td>2.0</td>\n",
       "      <td>1.0</td>\n",
       "      <td>81.663014</td>\n",
       "      <td>51057-12-F2-RE</td>\n",
       "    </tr>\n",
       "    <tr>\n",
       "      <th>730</th>\n",
       "      <td>case_t_r</td>\n",
       "      <td>case</td>\n",
       "      <td>51057</td>\n",
       "      <td>4847</td>\n",
       "      <td>51057-14-F2-RE-LS.tiff</td>\n",
       "      <td>Other</td>\n",
       "      <td>Other non-control phenotype</td>\n",
       "      <td>Nuclear alone</td>\n",
       "      <td>7.0</td>\n",
       "      <td>Antiox</td>\n",
       "      <td>75.663014</td>\n",
       "      <td>0</td>\n",
       "      <td>1</td>\n",
       "      <td>14</td>\n",
       "      <td>RE</td>\n",
       "      <td>2.0</td>\n",
       "      <td>1.0</td>\n",
       "      <td>82.663014</td>\n",
       "      <td>51057-14-F2-RE</td>\n",
       "    </tr>\n",
       "    <tr>\n",
       "      <th>734</th>\n",
       "      <td>case_t_r</td>\n",
       "      <td>case</td>\n",
       "      <td>51057</td>\n",
       "      <td>4847</td>\n",
       "      <td>51057-22-F2-RE-LS.tiff</td>\n",
       "      <td>Other</td>\n",
       "      <td>Other non-control phenotype</td>\n",
       "      <td>Nuclear alone</td>\n",
       "      <td>11.0</td>\n",
       "      <td>Antiox</td>\n",
       "      <td>75.663014</td>\n",
       "      <td>0</td>\n",
       "      <td>1</td>\n",
       "      <td>22</td>\n",
       "      <td>RE</td>\n",
       "      <td>5.0</td>\n",
       "      <td>1.0</td>\n",
       "      <td>86.663014</td>\n",
       "      <td>51057-22-F2-RE</td>\n",
       "    </tr>\n",
       "    <tr>\n",
       "      <th>738</th>\n",
       "      <td>case_t_r</td>\n",
       "      <td>case</td>\n",
       "      <td>51057</td>\n",
       "      <td>4847</td>\n",
       "      <td>51057-QUA-F2-RE-LS.tiff</td>\n",
       "      <td>Other</td>\n",
       "      <td>Other non-control phenotype</td>\n",
       "      <td>Nuclear alone</td>\n",
       "      <td>0.0</td>\n",
       "      <td>Antiox</td>\n",
       "      <td>75.663014</td>\n",
       "      <td>0</td>\n",
       "      <td>1</td>\n",
       "      <td>0</td>\n",
       "      <td>RE</td>\n",
       "      <td>1.0</td>\n",
       "      <td>0.0</td>\n",
       "      <td>75.663014</td>\n",
       "      <td>51057-QUA-F2-RE</td>\n",
       "    </tr>\n",
       "    <tr>\n",
       "      <th>1524</th>\n",
       "      <td>control_t_l</td>\n",
       "      <td>control</td>\n",
       "      <td>51111</td>\n",
       "      <td>G103</td>\n",
       "      <td>51111-04-F2-LE-LS.tiff</td>\n",
       "      <td>Control</td>\n",
       "      <td>Control</td>\n",
       "      <td>Absent</td>\n",
       "      <td>2.0</td>\n",
       "      <td>Antiox</td>\n",
       "      <td>76.230137</td>\n",
       "      <td>0</td>\n",
       "      <td>1</td>\n",
       "      <td>4</td>\n",
       "      <td>LE</td>\n",
       "      <td>1.0</td>\n",
       "      <td>0.0</td>\n",
       "      <td>78.230137</td>\n",
       "      <td>51111-04-F2-LE</td>\n",
       "    </tr>\n",
       "    <tr>\n",
       "      <th>1526</th>\n",
       "      <td>control_t_r</td>\n",
       "      <td>control</td>\n",
       "      <td>51111</td>\n",
       "      <td>G103</td>\n",
       "      <td>51111-04-F2-RE-LS.tiff</td>\n",
       "      <td>Control</td>\n",
       "      <td>Control</td>\n",
       "      <td>Absent</td>\n",
       "      <td>2.0</td>\n",
       "      <td>Antiox</td>\n",
       "      <td>76.230137</td>\n",
       "      <td>0</td>\n",
       "      <td>1</td>\n",
       "      <td>4</td>\n",
       "      <td>RE</td>\n",
       "      <td>1.0</td>\n",
       "      <td>0.0</td>\n",
       "      <td>78.230137</td>\n",
       "      <td>51111-04-F2-RE</td>\n",
       "    </tr>\n",
       "    <tr>\n",
       "      <th>1528</th>\n",
       "      <td>control_t_l</td>\n",
       "      <td>control</td>\n",
       "      <td>51111</td>\n",
       "      <td>G103</td>\n",
       "      <td>51111-06-F2-LE-LS.tiff</td>\n",
       "      <td>Control</td>\n",
       "      <td>Control</td>\n",
       "      <td>Absent</td>\n",
       "      <td>3.0</td>\n",
       "      <td>Antiox</td>\n",
       "      <td>76.230137</td>\n",
       "      <td>0</td>\n",
       "      <td>1</td>\n",
       "      <td>6</td>\n",
       "      <td>LE</td>\n",
       "      <td>1.0</td>\n",
       "      <td>0.0</td>\n",
       "      <td>79.230137</td>\n",
       "      <td>51111-06-F2-LE</td>\n",
       "    </tr>\n",
       "    <tr>\n",
       "      <th>...</th>\n",
       "      <td>...</td>\n",
       "      <td>...</td>\n",
       "      <td>...</td>\n",
       "      <td>...</td>\n",
       "      <td>...</td>\n",
       "      <td>...</td>\n",
       "      <td>...</td>\n",
       "      <td>...</td>\n",
       "      <td>...</td>\n",
       "      <td>...</td>\n",
       "      <td>...</td>\n",
       "      <td>...</td>\n",
       "      <td>...</td>\n",
       "      <td>...</td>\n",
       "      <td>...</td>\n",
       "      <td>...</td>\n",
       "      <td>...</td>\n",
       "      <td>...</td>\n",
       "      <td>...</td>\n",
       "    </tr>\n",
       "    <tr>\n",
       "      <th>127735</th>\n",
       "      <td>control_p_r</td>\n",
       "      <td>control</td>\n",
       "      <td>61561</td>\n",
       "      <td>5392</td>\n",
       "      <td>61561-10-F2-RE-LS.tiff</td>\n",
       "      <td>Control</td>\n",
       "      <td>Control</td>\n",
       "      <td>Absent</td>\n",
       "      <td>5.0</td>\n",
       "      <td>Placebo</td>\n",
       "      <td>61.301370</td>\n",
       "      <td>0</td>\n",
       "      <td>1</td>\n",
       "      <td>10</td>\n",
       "      <td>RE</td>\n",
       "      <td>1.0</td>\n",
       "      <td>0.0</td>\n",
       "      <td>66.301370</td>\n",
       "      <td>61561-10-F2-RE</td>\n",
       "    </tr>\n",
       "    <tr>\n",
       "      <th>127737</th>\n",
       "      <td>control_p_l</td>\n",
       "      <td>control</td>\n",
       "      <td>61561</td>\n",
       "      <td>5392</td>\n",
       "      <td>61561-14-F2-LE-LS.tiff</td>\n",
       "      <td>Control</td>\n",
       "      <td>Control</td>\n",
       "      <td>Absent</td>\n",
       "      <td>7.0</td>\n",
       "      <td>Placebo</td>\n",
       "      <td>61.301370</td>\n",
       "      <td>0</td>\n",
       "      <td>1</td>\n",
       "      <td>14</td>\n",
       "      <td>LE</td>\n",
       "      <td>1.0</td>\n",
       "      <td>0.0</td>\n",
       "      <td>68.301370</td>\n",
       "      <td>61561-14-F2-LE</td>\n",
       "    </tr>\n",
       "    <tr>\n",
       "      <th>127739</th>\n",
       "      <td>control_p_r</td>\n",
       "      <td>control</td>\n",
       "      <td>61561</td>\n",
       "      <td>5392</td>\n",
       "      <td>61561-14-F2-RE-LS.tiff</td>\n",
       "      <td>Control</td>\n",
       "      <td>Control</td>\n",
       "      <td>Absent</td>\n",
       "      <td>7.0</td>\n",
       "      <td>Placebo</td>\n",
       "      <td>61.301370</td>\n",
       "      <td>0</td>\n",
       "      <td>1</td>\n",
       "      <td>14</td>\n",
       "      <td>RE</td>\n",
       "      <td>1.0</td>\n",
       "      <td>0.0</td>\n",
       "      <td>68.301370</td>\n",
       "      <td>61561-14-F2-RE</td>\n",
       "    </tr>\n",
       "    <tr>\n",
       "      <th>127741</th>\n",
       "      <td>control_p_l</td>\n",
       "      <td>control</td>\n",
       "      <td>61561</td>\n",
       "      <td>5392</td>\n",
       "      <td>61561-18-F2-LE-LS.tiff</td>\n",
       "      <td>Control</td>\n",
       "      <td>Control</td>\n",
       "      <td>Absent</td>\n",
       "      <td>9.0</td>\n",
       "      <td>Placebo</td>\n",
       "      <td>61.301370</td>\n",
       "      <td>0</td>\n",
       "      <td>1</td>\n",
       "      <td>18</td>\n",
       "      <td>LE</td>\n",
       "      <td>1.0</td>\n",
       "      <td>0.0</td>\n",
       "      <td>70.301370</td>\n",
       "      <td>61561-18-F2-LE</td>\n",
       "    </tr>\n",
       "    <tr>\n",
       "      <th>127743</th>\n",
       "      <td>control_p_r</td>\n",
       "      <td>control</td>\n",
       "      <td>61561</td>\n",
       "      <td>5392</td>\n",
       "      <td>61561-18-F2-RE-LS.tiff</td>\n",
       "      <td>Control</td>\n",
       "      <td>Control</td>\n",
       "      <td>Absent</td>\n",
       "      <td>9.0</td>\n",
       "      <td>Placebo</td>\n",
       "      <td>61.301370</td>\n",
       "      <td>0</td>\n",
       "      <td>1</td>\n",
       "      <td>18</td>\n",
       "      <td>RE</td>\n",
       "      <td>1.0</td>\n",
       "      <td>0.0</td>\n",
       "      <td>70.301370</td>\n",
       "      <td>61561-18-F2-RE</td>\n",
       "    </tr>\n",
       "    <tr>\n",
       "      <th>130867</th>\n",
       "      <td>case_p_l</td>\n",
       "      <td>case</td>\n",
       "      <td>61697</td>\n",
       "      <td>4763</td>\n",
       "      <td>61697-04-F2-LE-LS.tiff</td>\n",
       "      <td>Other</td>\n",
       "      <td>Large Drusen Questionable 2</td>\n",
       "      <td>Cortical alone</td>\n",
       "      <td>2.0</td>\n",
       "      <td>Placebo</td>\n",
       "      <td>73.104110</td>\n",
       "      <td>1</td>\n",
       "      <td>1</td>\n",
       "      <td>4</td>\n",
       "      <td>LE</td>\n",
       "      <td>1.0</td>\n",
       "      <td>0.0</td>\n",
       "      <td>75.104110</td>\n",
       "      <td>61697-04-F2-LE</td>\n",
       "    </tr>\n",
       "    <tr>\n",
       "      <th>130871</th>\n",
       "      <td>case_p_l</td>\n",
       "      <td>case</td>\n",
       "      <td>61697</td>\n",
       "      <td>4763</td>\n",
       "      <td>61697-06-F2-LE-LS.tiff</td>\n",
       "      <td>Other</td>\n",
       "      <td>Large Drusen Questionable 2</td>\n",
       "      <td>Cortical alone</td>\n",
       "      <td>3.0</td>\n",
       "      <td>Placebo</td>\n",
       "      <td>73.104110</td>\n",
       "      <td>1</td>\n",
       "      <td>1</td>\n",
       "      <td>6</td>\n",
       "      <td>LE</td>\n",
       "      <td>1.0</td>\n",
       "      <td>0.0</td>\n",
       "      <td>76.104110</td>\n",
       "      <td>61697-06-F2-LE</td>\n",
       "    </tr>\n",
       "    <tr>\n",
       "      <th>130875</th>\n",
       "      <td>case_p_l</td>\n",
       "      <td>case</td>\n",
       "      <td>61697</td>\n",
       "      <td>4763</td>\n",
       "      <td>61697-08-F2-LE-LS.tiff</td>\n",
       "      <td>Other</td>\n",
       "      <td>Large Drusen Questionable 2</td>\n",
       "      <td>Cortical alone</td>\n",
       "      <td>4.0</td>\n",
       "      <td>Placebo</td>\n",
       "      <td>73.104110</td>\n",
       "      <td>1</td>\n",
       "      <td>1</td>\n",
       "      <td>8</td>\n",
       "      <td>LE</td>\n",
       "      <td>1.0</td>\n",
       "      <td>0.0</td>\n",
       "      <td>77.104110</td>\n",
       "      <td>61697-08-F2-LE</td>\n",
       "    </tr>\n",
       "    <tr>\n",
       "      <th>130879</th>\n",
       "      <td>case_p_l</td>\n",
       "      <td>case</td>\n",
       "      <td>61697</td>\n",
       "      <td>4763</td>\n",
       "      <td>61697-10-F2-LE-LS.tiff</td>\n",
       "      <td>Other</td>\n",
       "      <td>Large Drusen Questionable 2</td>\n",
       "      <td>Cortical alone</td>\n",
       "      <td>5.0</td>\n",
       "      <td>Placebo</td>\n",
       "      <td>73.104110</td>\n",
       "      <td>1</td>\n",
       "      <td>1</td>\n",
       "      <td>10</td>\n",
       "      <td>LE</td>\n",
       "      <td>1.0</td>\n",
       "      <td>0.0</td>\n",
       "      <td>78.104110</td>\n",
       "      <td>61697-10-F2-LE</td>\n",
       "    </tr>\n",
       "    <tr>\n",
       "      <th>130883</th>\n",
       "      <td>case_p_l</td>\n",
       "      <td>case</td>\n",
       "      <td>61697</td>\n",
       "      <td>4763</td>\n",
       "      <td>61697-12-F2-LE-LS.tiff</td>\n",
       "      <td>Other</td>\n",
       "      <td>Large Drusen Questionable 2</td>\n",
       "      <td>Cortical alone</td>\n",
       "      <td>6.0</td>\n",
       "      <td>Placebo</td>\n",
       "      <td>73.104110</td>\n",
       "      <td>1</td>\n",
       "      <td>1</td>\n",
       "      <td>12</td>\n",
       "      <td>LE</td>\n",
       "      <td>1.0</td>\n",
       "      <td>0.0</td>\n",
       "      <td>79.104110</td>\n",
       "      <td>61697-12-F2-LE</td>\n",
       "    </tr>\n",
       "    <tr>\n",
       "      <th>130887</th>\n",
       "      <td>case_p_l</td>\n",
       "      <td>case</td>\n",
       "      <td>61697</td>\n",
       "      <td>4763</td>\n",
       "      <td>61697-13-F2-LE-LS.tiff</td>\n",
       "      <td>Other</td>\n",
       "      <td>Large Drusen Questionable 2</td>\n",
       "      <td>Cortical alone</td>\n",
       "      <td>6.5</td>\n",
       "      <td>Placebo</td>\n",
       "      <td>73.104110</td>\n",
       "      <td>1</td>\n",
       "      <td>1</td>\n",
       "      <td>13</td>\n",
       "      <td>LE</td>\n",
       "      <td>1.0</td>\n",
       "      <td>2.0</td>\n",
       "      <td>79.604110</td>\n",
       "      <td>61697-13-F2-LE</td>\n",
       "    </tr>\n",
       "    <tr>\n",
       "      <th>130891</th>\n",
       "      <td>case_p_l</td>\n",
       "      <td>case</td>\n",
       "      <td>61697</td>\n",
       "      <td>4763</td>\n",
       "      <td>61697-16-F2-LE-LS.tiff</td>\n",
       "      <td>Other</td>\n",
       "      <td>Large Drusen Questionable 2</td>\n",
       "      <td>Cortical alone</td>\n",
       "      <td>8.0</td>\n",
       "      <td>Placebo</td>\n",
       "      <td>73.104110</td>\n",
       "      <td>1</td>\n",
       "      <td>1</td>\n",
       "      <td>16</td>\n",
       "      <td>LE</td>\n",
       "      <td>1.0</td>\n",
       "      <td>0.0</td>\n",
       "      <td>81.104110</td>\n",
       "      <td>61697-16-F2-LE</td>\n",
       "    </tr>\n",
       "    <tr>\n",
       "      <th>130895</th>\n",
       "      <td>case_p_l</td>\n",
       "      <td>case</td>\n",
       "      <td>61697</td>\n",
       "      <td>4763</td>\n",
       "      <td>61697-20-F2-LE-LS.tiff</td>\n",
       "      <td>Other</td>\n",
       "      <td>Large Drusen Questionable 2</td>\n",
       "      <td>Cortical alone</td>\n",
       "      <td>10.0</td>\n",
       "      <td>Placebo</td>\n",
       "      <td>73.104110</td>\n",
       "      <td>1</td>\n",
       "      <td>1</td>\n",
       "      <td>20</td>\n",
       "      <td>LE</td>\n",
       "      <td>8.0</td>\n",
       "      <td>3.0</td>\n",
       "      <td>83.104110</td>\n",
       "      <td>61697-20-F2-LE</td>\n",
       "    </tr>\n",
       "    <tr>\n",
       "      <th>130899</th>\n",
       "      <td>case_p_l</td>\n",
       "      <td>case</td>\n",
       "      <td>61697</td>\n",
       "      <td>4763</td>\n",
       "      <td>61697-QUA-F2-LE-LS.tiff</td>\n",
       "      <td>Other</td>\n",
       "      <td>Large Drusen Questionable 2</td>\n",
       "      <td>Cortical alone</td>\n",
       "      <td>0.0</td>\n",
       "      <td>Placebo</td>\n",
       "      <td>73.104110</td>\n",
       "      <td>1</td>\n",
       "      <td>1</td>\n",
       "      <td>0</td>\n",
       "      <td>LE</td>\n",
       "      <td>1.0</td>\n",
       "      <td>0.0</td>\n",
       "      <td>73.104110</td>\n",
       "      <td>61697-QUA-F2-LE</td>\n",
       "    </tr>\n",
       "    <tr>\n",
       "      <th>131253</th>\n",
       "      <td>control_p_l</td>\n",
       "      <td>control</td>\n",
       "      <td>61712</td>\n",
       "      <td>G572</td>\n",
       "      <td>61712-06-F2-LE-LS.tiff</td>\n",
       "      <td>Control</td>\n",
       "      <td>Control</td>\n",
       "      <td>Absent</td>\n",
       "      <td>3.0</td>\n",
       "      <td>Placebo</td>\n",
       "      <td>62.821918</td>\n",
       "      <td>1</td>\n",
       "      <td>1</td>\n",
       "      <td>6</td>\n",
       "      <td>LE</td>\n",
       "      <td>1.0</td>\n",
       "      <td>0.0</td>\n",
       "      <td>65.821918</td>\n",
       "      <td>61712-06-F2-LE</td>\n",
       "    </tr>\n",
       "    <tr>\n",
       "      <th>131255</th>\n",
       "      <td>control_p_r</td>\n",
       "      <td>control</td>\n",
       "      <td>61712</td>\n",
       "      <td>G572</td>\n",
       "      <td>61712-06-F2-RE-LS.tiff</td>\n",
       "      <td>Control</td>\n",
       "      <td>Control</td>\n",
       "      <td>Absent</td>\n",
       "      <td>3.0</td>\n",
       "      <td>Placebo</td>\n",
       "      <td>62.821918</td>\n",
       "      <td>1</td>\n",
       "      <td>1</td>\n",
       "      <td>6</td>\n",
       "      <td>RE</td>\n",
       "      <td>1.0</td>\n",
       "      <td>0.0</td>\n",
       "      <td>65.821918</td>\n",
       "      <td>61712-06-F2-RE</td>\n",
       "    </tr>\n",
       "    <tr>\n",
       "      <th>131257</th>\n",
       "      <td>control_p_l</td>\n",
       "      <td>control</td>\n",
       "      <td>61712</td>\n",
       "      <td>G572</td>\n",
       "      <td>61712-10-F2-LE-LS.tiff</td>\n",
       "      <td>Control</td>\n",
       "      <td>Control</td>\n",
       "      <td>Absent</td>\n",
       "      <td>5.0</td>\n",
       "      <td>Placebo</td>\n",
       "      <td>62.821918</td>\n",
       "      <td>1</td>\n",
       "      <td>1</td>\n",
       "      <td>10</td>\n",
       "      <td>LE</td>\n",
       "      <td>1.0</td>\n",
       "      <td>0.0</td>\n",
       "      <td>67.821918</td>\n",
       "      <td>61712-10-F2-LE</td>\n",
       "    </tr>\n",
       "    <tr>\n",
       "      <th>131259</th>\n",
       "      <td>control_p_r</td>\n",
       "      <td>control</td>\n",
       "      <td>61712</td>\n",
       "      <td>G572</td>\n",
       "      <td>61712-10-F2-RE-LS.tiff</td>\n",
       "      <td>Control</td>\n",
       "      <td>Control</td>\n",
       "      <td>Absent</td>\n",
       "      <td>5.0</td>\n",
       "      <td>Placebo</td>\n",
       "      <td>62.821918</td>\n",
       "      <td>1</td>\n",
       "      <td>1</td>\n",
       "      <td>10</td>\n",
       "      <td>RE</td>\n",
       "      <td>1.0</td>\n",
       "      <td>0.0</td>\n",
       "      <td>67.821918</td>\n",
       "      <td>61712-10-F2-RE</td>\n",
       "    </tr>\n",
       "    <tr>\n",
       "      <th>131261</th>\n",
       "      <td>control_p_l</td>\n",
       "      <td>control</td>\n",
       "      <td>61712</td>\n",
       "      <td>G572</td>\n",
       "      <td>61712-14-F2-LE-LS.tiff</td>\n",
       "      <td>Control</td>\n",
       "      <td>Control</td>\n",
       "      <td>Absent</td>\n",
       "      <td>7.0</td>\n",
       "      <td>Placebo</td>\n",
       "      <td>62.821918</td>\n",
       "      <td>1</td>\n",
       "      <td>1</td>\n",
       "      <td>14</td>\n",
       "      <td>LE</td>\n",
       "      <td>1.0</td>\n",
       "      <td>0.0</td>\n",
       "      <td>69.821918</td>\n",
       "      <td>61712-14-F2-LE</td>\n",
       "    </tr>\n",
       "    <tr>\n",
       "      <th>131263</th>\n",
       "      <td>control_p_r</td>\n",
       "      <td>control</td>\n",
       "      <td>61712</td>\n",
       "      <td>G572</td>\n",
       "      <td>61712-14-F2-RE-LS.tiff</td>\n",
       "      <td>Control</td>\n",
       "      <td>Control</td>\n",
       "      <td>Absent</td>\n",
       "      <td>7.0</td>\n",
       "      <td>Placebo</td>\n",
       "      <td>62.821918</td>\n",
       "      <td>1</td>\n",
       "      <td>1</td>\n",
       "      <td>14</td>\n",
       "      <td>RE</td>\n",
       "      <td>1.0</td>\n",
       "      <td>0.0</td>\n",
       "      <td>69.821918</td>\n",
       "      <td>61712-14-F2-RE</td>\n",
       "    </tr>\n",
       "    <tr>\n",
       "      <th>131265</th>\n",
       "      <td>control_p_l</td>\n",
       "      <td>control</td>\n",
       "      <td>61712</td>\n",
       "      <td>G572</td>\n",
       "      <td>61712-18-F2-LE-LS.tiff</td>\n",
       "      <td>Control</td>\n",
       "      <td>Control</td>\n",
       "      <td>Absent</td>\n",
       "      <td>9.0</td>\n",
       "      <td>Placebo</td>\n",
       "      <td>62.821918</td>\n",
       "      <td>1</td>\n",
       "      <td>1</td>\n",
       "      <td>18</td>\n",
       "      <td>LE</td>\n",
       "      <td>1.0</td>\n",
       "      <td>0.0</td>\n",
       "      <td>71.821918</td>\n",
       "      <td>61712-18-F2-LE</td>\n",
       "    </tr>\n",
       "    <tr>\n",
       "      <th>131267</th>\n",
       "      <td>control_p_r</td>\n",
       "      <td>control</td>\n",
       "      <td>61712</td>\n",
       "      <td>G572</td>\n",
       "      <td>61712-18-F2-RE-LS.tiff</td>\n",
       "      <td>Control</td>\n",
       "      <td>Control</td>\n",
       "      <td>Absent</td>\n",
       "      <td>9.0</td>\n",
       "      <td>Placebo</td>\n",
       "      <td>62.821918</td>\n",
       "      <td>1</td>\n",
       "      <td>1</td>\n",
       "      <td>18</td>\n",
       "      <td>RE</td>\n",
       "      <td>1.0</td>\n",
       "      <td>0.0</td>\n",
       "      <td>71.821918</td>\n",
       "      <td>61712-18-F2-RE</td>\n",
       "    </tr>\n",
       "    <tr>\n",
       "      <th>132051</th>\n",
       "      <td>control_p_l</td>\n",
       "      <td>control</td>\n",
       "      <td>61754</td>\n",
       "      <td>3263</td>\n",
       "      <td>61754-06-F2-LE-LS.tiff</td>\n",
       "      <td>Control</td>\n",
       "      <td>Control</td>\n",
       "      <td>Absent</td>\n",
       "      <td>3.0</td>\n",
       "      <td>Placebo</td>\n",
       "      <td>63.786301</td>\n",
       "      <td>0</td>\n",
       "      <td>1</td>\n",
       "      <td>6</td>\n",
       "      <td>LE</td>\n",
       "      <td>1.0</td>\n",
       "      <td>0.0</td>\n",
       "      <td>66.786301</td>\n",
       "      <td>61754-06-F2-LE</td>\n",
       "    </tr>\n",
       "    <tr>\n",
       "      <th>132053</th>\n",
       "      <td>control_p_r</td>\n",
       "      <td>control</td>\n",
       "      <td>61754</td>\n",
       "      <td>3263</td>\n",
       "      <td>61754-06-F2-RE-LS.tiff</td>\n",
       "      <td>Control</td>\n",
       "      <td>Control</td>\n",
       "      <td>Absent</td>\n",
       "      <td>3.0</td>\n",
       "      <td>Placebo</td>\n",
       "      <td>63.786301</td>\n",
       "      <td>0</td>\n",
       "      <td>1</td>\n",
       "      <td>6</td>\n",
       "      <td>RE</td>\n",
       "      <td>1.0</td>\n",
       "      <td>0.0</td>\n",
       "      <td>66.786301</td>\n",
       "      <td>61754-06-F2-RE</td>\n",
       "    </tr>\n",
       "    <tr>\n",
       "      <th>132055</th>\n",
       "      <td>control_p_l</td>\n",
       "      <td>control</td>\n",
       "      <td>61754</td>\n",
       "      <td>3263</td>\n",
       "      <td>61754-10-F2-LE-LS.tiff</td>\n",
       "      <td>Control</td>\n",
       "      <td>Control</td>\n",
       "      <td>Absent</td>\n",
       "      <td>5.0</td>\n",
       "      <td>Placebo</td>\n",
       "      <td>63.786301</td>\n",
       "      <td>0</td>\n",
       "      <td>1</td>\n",
       "      <td>10</td>\n",
       "      <td>LE</td>\n",
       "      <td>1.0</td>\n",
       "      <td>0.0</td>\n",
       "      <td>68.786301</td>\n",
       "      <td>61754-10-F2-LE</td>\n",
       "    </tr>\n",
       "    <tr>\n",
       "      <th>132057</th>\n",
       "      <td>control_p_r</td>\n",
       "      <td>control</td>\n",
       "      <td>61754</td>\n",
       "      <td>3263</td>\n",
       "      <td>61754-10-F2-RE-LS.tiff</td>\n",
       "      <td>Control</td>\n",
       "      <td>Control</td>\n",
       "      <td>Absent</td>\n",
       "      <td>5.0</td>\n",
       "      <td>Placebo</td>\n",
       "      <td>63.786301</td>\n",
       "      <td>0</td>\n",
       "      <td>1</td>\n",
       "      <td>10</td>\n",
       "      <td>RE</td>\n",
       "      <td>1.0</td>\n",
       "      <td>0.0</td>\n",
       "      <td>68.786301</td>\n",
       "      <td>61754-10-F2-RE</td>\n",
       "    </tr>\n",
       "    <tr>\n",
       "      <th>132059</th>\n",
       "      <td>control_p_l</td>\n",
       "      <td>control</td>\n",
       "      <td>61754</td>\n",
       "      <td>3263</td>\n",
       "      <td>61754-14-F2-LE-LS.tiff</td>\n",
       "      <td>Control</td>\n",
       "      <td>Control</td>\n",
       "      <td>Absent</td>\n",
       "      <td>7.0</td>\n",
       "      <td>Placebo</td>\n",
       "      <td>63.786301</td>\n",
       "      <td>0</td>\n",
       "      <td>1</td>\n",
       "      <td>14</td>\n",
       "      <td>LE</td>\n",
       "      <td>1.0</td>\n",
       "      <td>0.0</td>\n",
       "      <td>70.786301</td>\n",
       "      <td>61754-14-F2-LE</td>\n",
       "    </tr>\n",
       "    <tr>\n",
       "      <th>132061</th>\n",
       "      <td>control_p_r</td>\n",
       "      <td>control</td>\n",
       "      <td>61754</td>\n",
       "      <td>3263</td>\n",
       "      <td>61754-14-F2-RE-LS.tiff</td>\n",
       "      <td>Control</td>\n",
       "      <td>Control</td>\n",
       "      <td>Absent</td>\n",
       "      <td>7.0</td>\n",
       "      <td>Placebo</td>\n",
       "      <td>63.786301</td>\n",
       "      <td>0</td>\n",
       "      <td>1</td>\n",
       "      <td>14</td>\n",
       "      <td>RE</td>\n",
       "      <td>1.0</td>\n",
       "      <td>0.0</td>\n",
       "      <td>70.786301</td>\n",
       "      <td>61754-14-F2-RE</td>\n",
       "    </tr>\n",
       "    <tr>\n",
       "      <th>132063</th>\n",
       "      <td>control_p_l</td>\n",
       "      <td>control</td>\n",
       "      <td>61754</td>\n",
       "      <td>3263</td>\n",
       "      <td>61754-18-F2-LE-LS.tiff</td>\n",
       "      <td>Control</td>\n",
       "      <td>Control</td>\n",
       "      <td>Absent</td>\n",
       "      <td>9.0</td>\n",
       "      <td>Placebo</td>\n",
       "      <td>63.786301</td>\n",
       "      <td>0</td>\n",
       "      <td>1</td>\n",
       "      <td>18</td>\n",
       "      <td>LE</td>\n",
       "      <td>1.0</td>\n",
       "      <td>0.0</td>\n",
       "      <td>72.786301</td>\n",
       "      <td>61754-18-F2-LE</td>\n",
       "    </tr>\n",
       "    <tr>\n",
       "      <th>132065</th>\n",
       "      <td>control_p_r</td>\n",
       "      <td>control</td>\n",
       "      <td>61754</td>\n",
       "      <td>3263</td>\n",
       "      <td>61754-18-F2-RE-LS.tiff</td>\n",
       "      <td>Control</td>\n",
       "      <td>Control</td>\n",
       "      <td>Absent</td>\n",
       "      <td>9.0</td>\n",
       "      <td>Placebo</td>\n",
       "      <td>63.786301</td>\n",
       "      <td>0</td>\n",
       "      <td>1</td>\n",
       "      <td>18</td>\n",
       "      <td>RE</td>\n",
       "      <td>1.0</td>\n",
       "      <td>0.0</td>\n",
       "      <td>72.786301</td>\n",
       "      <td>61754-18-F2-RE</td>\n",
       "    </tr>\n",
       "  </tbody>\n",
       "</table>\n",
       "<p>1617 rows × 19 columns</p>\n",
       "</div>"
      ],
      "text/plain": [
       "       progressor_class progressor_group  Patid Areds_subject_id  \\\n",
       "176         control_p_l          control  51026             2147   \n",
       "178         control_p_r          control  51026             2147   \n",
       "180         control_p_l          control  51026             2147   \n",
       "182         control_p_r          control  51026             2147   \n",
       "184         control_p_l          control  51026             2147   \n",
       "186         control_p_r          control  51026             2147   \n",
       "188         control_p_l          control  51026             2147   \n",
       "190         control_p_r          control  51026             2147   \n",
       "192         control_p_l          control  51026             2147   \n",
       "194         control_p_r          control  51026             2147   \n",
       "196         control_p_l          control  51026             2147   \n",
       "198         control_p_r          control  51026             2147   \n",
       "200         control_p_l          control  51026             2147   \n",
       "202         control_p_r          control  51026             2147   \n",
       "204         control_p_l          control  51026             2147   \n",
       "206         control_p_r          control  51026             2147   \n",
       "208         control_p_l          control  51026             2147   \n",
       "210         control_p_r          control  51026             2147   \n",
       "212         control_p_l          control  51026             2147   \n",
       "214         control_p_r          control  51026             2147   \n",
       "714            case_t_r             case  51057             4847   \n",
       "718            case_t_r             case  51057             4847   \n",
       "722            case_t_r             case  51057             4847   \n",
       "726            case_t_r             case  51057             4847   \n",
       "730            case_t_r             case  51057             4847   \n",
       "734            case_t_r             case  51057             4847   \n",
       "738            case_t_r             case  51057             4847   \n",
       "1524        control_t_l          control  51111             G103   \n",
       "1526        control_t_r          control  51111             G103   \n",
       "1528        control_t_l          control  51111             G103   \n",
       "...                 ...              ...    ...              ...   \n",
       "127735      control_p_r          control  61561             5392   \n",
       "127737      control_p_l          control  61561             5392   \n",
       "127739      control_p_r          control  61561             5392   \n",
       "127741      control_p_l          control  61561             5392   \n",
       "127743      control_p_r          control  61561             5392   \n",
       "130867         case_p_l             case  61697             4763   \n",
       "130871         case_p_l             case  61697             4763   \n",
       "130875         case_p_l             case  61697             4763   \n",
       "130879         case_p_l             case  61697             4763   \n",
       "130883         case_p_l             case  61697             4763   \n",
       "130887         case_p_l             case  61697             4763   \n",
       "130891         case_p_l             case  61697             4763   \n",
       "130895         case_p_l             case  61697             4763   \n",
       "130899         case_p_l             case  61697             4763   \n",
       "131253      control_p_l          control  61712             G572   \n",
       "131255      control_p_r          control  61712             G572   \n",
       "131257      control_p_l          control  61712             G572   \n",
       "131259      control_p_r          control  61712             G572   \n",
       "131261      control_p_l          control  61712             G572   \n",
       "131263      control_p_r          control  61712             G572   \n",
       "131265      control_p_l          control  61712             G572   \n",
       "131267      control_p_r          control  61712             G572   \n",
       "132051      control_p_l          control  61754             3263   \n",
       "132053      control_p_r          control  61754             3263   \n",
       "132055      control_p_l          control  61754             3263   \n",
       "132057      control_p_r          control  61754             3263   \n",
       "132059      control_p_l          control  61754             3263   \n",
       "132061      control_p_r          control  61754             3263   \n",
       "132063      control_p_l          control  61754             3263   \n",
       "132065      control_p_r          control  61754             3263   \n",
       "\n",
       "            converted_file_name Final_AMD_Phenotype_Group  \\\n",
       "176      51026-04-F2-LE-LS.tiff                   Control   \n",
       "178      51026-04-F2-RE-LS.tiff                   Control   \n",
       "180      51026-06-F2-LE-LS.tiff                   Control   \n",
       "182      51026-06-F2-RE-LS.tiff                   Control   \n",
       "184      51026-08-F2-LE-LS.tiff                   Control   \n",
       "186      51026-08-F2-RE-LS.tiff                   Control   \n",
       "188      51026-10-F2-LE-LS.tiff                   Control   \n",
       "190      51026-10-F2-RE-LS.tiff                   Control   \n",
       "192      51026-12-F2-LE-LS.tiff                   Control   \n",
       "194      51026-12-F2-RE-LS.tiff                   Control   \n",
       "196      51026-16-F2-LE-LS.tiff                   Control   \n",
       "198      51026-16-F2-RE-LS.tiff                   Control   \n",
       "200      51026-18-F2-LE-LS.tiff                   Control   \n",
       "202      51026-18-F2-RE-LS.tiff                   Control   \n",
       "204      51026-20-F2-LE-LS.tiff                   Control   \n",
       "206      51026-20-F2-RE-LS.tiff                   Control   \n",
       "208      51026-22-F2-LE-LS.tiff                   Control   \n",
       "210      51026-22-F2-RE-LS.tiff                   Control   \n",
       "212     51026-QUA-F2-LE-LS.tiff                   Control   \n",
       "214     51026-QUA-F2-RE-LS.tiff                   Control   \n",
       "714      51057-04-F2-RE-LS.tiff                     Other   \n",
       "718      51057-08-F2-RE-LS.tiff                     Other   \n",
       "722      51057-10-F2-RE-LS.tiff                     Other   \n",
       "726      51057-12-F2-RE-LS.tiff                     Other   \n",
       "730      51057-14-F2-RE-LS.tiff                     Other   \n",
       "734      51057-22-F2-RE-LS.tiff                     Other   \n",
       "738     51057-QUA-F2-RE-LS.tiff                     Other   \n",
       "1524     51111-04-F2-LE-LS.tiff                   Control   \n",
       "1526     51111-04-F2-RE-LS.tiff                   Control   \n",
       "1528     51111-06-F2-LE-LS.tiff                   Control   \n",
       "...                         ...                       ...   \n",
       "127735   61561-10-F2-RE-LS.tiff                   Control   \n",
       "127737   61561-14-F2-LE-LS.tiff                   Control   \n",
       "127739   61561-14-F2-RE-LS.tiff                   Control   \n",
       "127741   61561-18-F2-LE-LS.tiff                   Control   \n",
       "127743   61561-18-F2-RE-LS.tiff                   Control   \n",
       "130867   61697-04-F2-LE-LS.tiff                     Other   \n",
       "130871   61697-06-F2-LE-LS.tiff                     Other   \n",
       "130875   61697-08-F2-LE-LS.tiff                     Other   \n",
       "130879   61697-10-F2-LE-LS.tiff                     Other   \n",
       "130883   61697-12-F2-LE-LS.tiff                     Other   \n",
       "130887   61697-13-F2-LE-LS.tiff                     Other   \n",
       "130891   61697-16-F2-LE-LS.tiff                     Other   \n",
       "130895   61697-20-F2-LE-LS.tiff                     Other   \n",
       "130899  61697-QUA-F2-LE-LS.tiff                     Other   \n",
       "131253   61712-06-F2-LE-LS.tiff                   Control   \n",
       "131255   61712-06-F2-RE-LS.tiff                   Control   \n",
       "131257   61712-10-F2-LE-LS.tiff                   Control   \n",
       "131259   61712-10-F2-RE-LS.tiff                   Control   \n",
       "131261   61712-14-F2-LE-LS.tiff                   Control   \n",
       "131263   61712-14-F2-RE-LS.tiff                   Control   \n",
       "131265   61712-18-F2-LE-LS.tiff                   Control   \n",
       "131267   61712-18-F2-RE-LS.tiff                   Control   \n",
       "132051   61754-06-F2-LE-LS.tiff                   Control   \n",
       "132053   61754-06-F2-RE-LS.tiff                   Control   \n",
       "132055   61754-10-F2-LE-LS.tiff                   Control   \n",
       "132057   61754-10-F2-RE-LS.tiff                   Control   \n",
       "132059   61754-14-F2-LE-LS.tiff                   Control   \n",
       "132061   61754-14-F2-RE-LS.tiff                   Control   \n",
       "132063   61754-18-F2-LE-LS.tiff                   Control   \n",
       "132065   61754-18-F2-RE-LS.tiff                   Control   \n",
       "\n",
       "                Final_AMD_Phenotype Final_Cataract_Phenotype  \\\n",
       "176                         Control                   Absent   \n",
       "178                         Control                   Absent   \n",
       "180                         Control                   Absent   \n",
       "182                         Control                   Absent   \n",
       "184                         Control                   Absent   \n",
       "186                         Control                   Absent   \n",
       "188                         Control                   Absent   \n",
       "190                         Control                   Absent   \n",
       "192                         Control                   Absent   \n",
       "194                         Control                   Absent   \n",
       "196                         Control                   Absent   \n",
       "198                         Control                   Absent   \n",
       "200                         Control                   Absent   \n",
       "202                         Control                   Absent   \n",
       "204                         Control                   Absent   \n",
       "206                         Control                   Absent   \n",
       "208                         Control                   Absent   \n",
       "210                         Control                   Absent   \n",
       "212                         Control                   Absent   \n",
       "214                         Control                   Absent   \n",
       "714     Other non-control phenotype            Nuclear alone   \n",
       "718     Other non-control phenotype            Nuclear alone   \n",
       "722     Other non-control phenotype            Nuclear alone   \n",
       "726     Other non-control phenotype            Nuclear alone   \n",
       "730     Other non-control phenotype            Nuclear alone   \n",
       "734     Other non-control phenotype            Nuclear alone   \n",
       "738     Other non-control phenotype            Nuclear alone   \n",
       "1524                        Control                   Absent   \n",
       "1526                        Control                   Absent   \n",
       "1528                        Control                   Absent   \n",
       "...                             ...                      ...   \n",
       "127735                      Control                   Absent   \n",
       "127737                      Control                   Absent   \n",
       "127739                      Control                   Absent   \n",
       "127741                      Control                   Absent   \n",
       "127743                      Control                   Absent   \n",
       "130867  Large Drusen Questionable 2           Cortical alone   \n",
       "130871  Large Drusen Questionable 2           Cortical alone   \n",
       "130875  Large Drusen Questionable 2           Cortical alone   \n",
       "130879  Large Drusen Questionable 2           Cortical alone   \n",
       "130883  Large Drusen Questionable 2           Cortical alone   \n",
       "130887  Large Drusen Questionable 2           Cortical alone   \n",
       "130891  Large Drusen Questionable 2           Cortical alone   \n",
       "130895  Large Drusen Questionable 2           Cortical alone   \n",
       "130899  Large Drusen Questionable 2           Cortical alone   \n",
       "131253                      Control                   Absent   \n",
       "131255                      Control                   Absent   \n",
       "131257                      Control                   Absent   \n",
       "131259                      Control                   Absent   \n",
       "131261                      Control                   Absent   \n",
       "131263                      Control                   Absent   \n",
       "131265                      Control                   Absent   \n",
       "131267                      Control                   Absent   \n",
       "132051                      Control                   Absent   \n",
       "132053                      Control                   Absent   \n",
       "132055                      Control                   Absent   \n",
       "132057                      Control                   Absent   \n",
       "132059                      Control                   Absent   \n",
       "132061                      Control                   Absent   \n",
       "132063                      Control                   Absent   \n",
       "132065                      Control                   Absent   \n",
       "\n",
       "        Study_Visit_Year Treatment  age_baseline  male  white  Visit EyeLR  \\\n",
       "176                  2.0   Placebo     64.117808     0      1      4    LE   \n",
       "178                  2.0   Placebo     64.117808     0      1      4    RE   \n",
       "180                  3.0   Placebo     64.117808     0      1      6    LE   \n",
       "182                  3.0   Placebo     64.117808     0      1      6    RE   \n",
       "184                  4.0   Placebo     64.117808     0      1      8    LE   \n",
       "186                  4.0   Placebo     64.117808     0      1      8    RE   \n",
       "188                  5.0   Placebo     64.117808     0      1     10    LE   \n",
       "190                  5.0   Placebo     64.117808     0      1     10    RE   \n",
       "192                  6.0   Placebo     64.117808     0      1     12    LE   \n",
       "194                  6.0   Placebo     64.117808     0      1     12    RE   \n",
       "196                  8.0   Placebo     64.117808     0      1     16    LE   \n",
       "198                  8.0   Placebo     64.117808     0      1     16    RE   \n",
       "200                  9.0   Placebo     64.117808     0      1     18    LE   \n",
       "202                  9.0   Placebo     64.117808     0      1     18    RE   \n",
       "204                 10.0   Placebo     64.117808     0      1     20    LE   \n",
       "206                 10.0   Placebo     64.117808     0      1     20    RE   \n",
       "208                 11.0   Placebo     64.117808     0      1     22    LE   \n",
       "210                 11.0   Placebo     64.117808     0      1     22    RE   \n",
       "212                  0.0   Placebo     64.117808     0      1      0    LE   \n",
       "214                  0.0   Placebo     64.117808     0      1      0    RE   \n",
       "714                  2.0    Antiox     75.663014     0      1      4    RE   \n",
       "718                  4.0    Antiox     75.663014     0      1      8    RE   \n",
       "722                  5.0    Antiox     75.663014     0      1     10    RE   \n",
       "726                  6.0    Antiox     75.663014     0      1     12    RE   \n",
       "730                  7.0    Antiox     75.663014     0      1     14    RE   \n",
       "734                 11.0    Antiox     75.663014     0      1     22    RE   \n",
       "738                  0.0    Antiox     75.663014     0      1      0    RE   \n",
       "1524                 2.0    Antiox     76.230137     0      1      4    LE   \n",
       "1526                 2.0    Antiox     76.230137     0      1      4    RE   \n",
       "1528                 3.0    Antiox     76.230137     0      1      6    LE   \n",
       "...                  ...       ...           ...   ...    ...    ...   ...   \n",
       "127735               5.0   Placebo     61.301370     0      1     10    RE   \n",
       "127737               7.0   Placebo     61.301370     0      1     14    LE   \n",
       "127739               7.0   Placebo     61.301370     0      1     14    RE   \n",
       "127741               9.0   Placebo     61.301370     0      1     18    LE   \n",
       "127743               9.0   Placebo     61.301370     0      1     18    RE   \n",
       "130867               2.0   Placebo     73.104110     1      1      4    LE   \n",
       "130871               3.0   Placebo     73.104110     1      1      6    LE   \n",
       "130875               4.0   Placebo     73.104110     1      1      8    LE   \n",
       "130879               5.0   Placebo     73.104110     1      1     10    LE   \n",
       "130883               6.0   Placebo     73.104110     1      1     12    LE   \n",
       "130887               6.5   Placebo     73.104110     1      1     13    LE   \n",
       "130891               8.0   Placebo     73.104110     1      1     16    LE   \n",
       "130895              10.0   Placebo     73.104110     1      1     20    LE   \n",
       "130899               0.0   Placebo     73.104110     1      1      0    LE   \n",
       "131253               3.0   Placebo     62.821918     1      1      6    LE   \n",
       "131255               3.0   Placebo     62.821918     1      1      6    RE   \n",
       "131257               5.0   Placebo     62.821918     1      1     10    LE   \n",
       "131259               5.0   Placebo     62.821918     1      1     10    RE   \n",
       "131261               7.0   Placebo     62.821918     1      1     14    LE   \n",
       "131263               7.0   Placebo     62.821918     1      1     14    RE   \n",
       "131265               9.0   Placebo     62.821918     1      1     18    LE   \n",
       "131267               9.0   Placebo     62.821918     1      1     18    RE   \n",
       "132051               3.0   Placebo     63.786301     0      1      6    LE   \n",
       "132053               3.0   Placebo     63.786301     0      1      6    RE   \n",
       "132055               5.0   Placebo     63.786301     0      1     10    LE   \n",
       "132057               5.0   Placebo     63.786301     0      1     10    RE   \n",
       "132059               7.0   Placebo     63.786301     0      1     14    LE   \n",
       "132061               7.0   Placebo     63.786301     0      1     14    RE   \n",
       "132063               9.0   Placebo     63.786301     0      1     18    LE   \n",
       "132065               9.0   Placebo     63.786301     0      1     18    RE   \n",
       "\n",
       "        SevScore  SimpleSev        age         join_key  \n",
       "176          1.0        0.0  66.117808   51026-04-F2-LE  \n",
       "178          1.0        0.0  66.117808   51026-04-F2-RE  \n",
       "180          1.0        0.0  67.117808   51026-06-F2-LE  \n",
       "182          1.0        0.0  67.117808   51026-06-F2-RE  \n",
       "184          1.0        0.0  68.117808   51026-08-F2-LE  \n",
       "186          1.0        0.0  68.117808   51026-08-F2-RE  \n",
       "188          1.0        0.0  69.117808   51026-10-F2-LE  \n",
       "190          1.0        0.0  69.117808   51026-10-F2-RE  \n",
       "192          1.0        0.0  70.117808   51026-12-F2-LE  \n",
       "194          1.0        0.0  70.117808   51026-12-F2-RE  \n",
       "196          1.0        0.0  72.117808   51026-16-F2-LE  \n",
       "198          1.0        0.0  72.117808   51026-16-F2-RE  \n",
       "200          1.0        0.0  73.117808   51026-18-F2-LE  \n",
       "202          1.0        0.0  73.117808   51026-18-F2-RE  \n",
       "204          1.0        0.0  74.117808   51026-20-F2-LE  \n",
       "206          1.0        0.0  74.117808   51026-20-F2-RE  \n",
       "208          1.0        0.0  75.117808   51026-22-F2-LE  \n",
       "210          1.0        0.0  75.117808   51026-22-F2-RE  \n",
       "212          1.0        0.0  64.117808  51026-QUA-F2-LE  \n",
       "214          1.0        0.0  64.117808  51026-QUA-F2-RE  \n",
       "714          1.0        0.0  77.663014   51057-04-F2-RE  \n",
       "718          3.0        1.0  79.663014   51057-08-F2-RE  \n",
       "722          2.0        0.0  80.663014   51057-10-F2-RE  \n",
       "726          2.0        1.0  81.663014   51057-12-F2-RE  \n",
       "730          2.0        1.0  82.663014   51057-14-F2-RE  \n",
       "734          5.0        1.0  86.663014   51057-22-F2-RE  \n",
       "738          1.0        0.0  75.663014  51057-QUA-F2-RE  \n",
       "1524         1.0        0.0  78.230137   51111-04-F2-LE  \n",
       "1526         1.0        0.0  78.230137   51111-04-F2-RE  \n",
       "1528         1.0        0.0  79.230137   51111-06-F2-LE  \n",
       "...          ...        ...        ...              ...  \n",
       "127735       1.0        0.0  66.301370   61561-10-F2-RE  \n",
       "127737       1.0        0.0  68.301370   61561-14-F2-LE  \n",
       "127739       1.0        0.0  68.301370   61561-14-F2-RE  \n",
       "127741       1.0        0.0  70.301370   61561-18-F2-LE  \n",
       "127743       1.0        0.0  70.301370   61561-18-F2-RE  \n",
       "130867       1.0        0.0  75.104110   61697-04-F2-LE  \n",
       "130871       1.0        0.0  76.104110   61697-06-F2-LE  \n",
       "130875       1.0        0.0  77.104110   61697-08-F2-LE  \n",
       "130879       1.0        0.0  78.104110   61697-10-F2-LE  \n",
       "130883       1.0        0.0  79.104110   61697-12-F2-LE  \n",
       "130887       1.0        2.0  79.604110   61697-13-F2-LE  \n",
       "130891       1.0        0.0  81.104110   61697-16-F2-LE  \n",
       "130895       8.0        3.0  83.104110   61697-20-F2-LE  \n",
       "130899       1.0        0.0  73.104110  61697-QUA-F2-LE  \n",
       "131253       1.0        0.0  65.821918   61712-06-F2-LE  \n",
       "131255       1.0        0.0  65.821918   61712-06-F2-RE  \n",
       "131257       1.0        0.0  67.821918   61712-10-F2-LE  \n",
       "131259       1.0        0.0  67.821918   61712-10-F2-RE  \n",
       "131261       1.0        0.0  69.821918   61712-14-F2-LE  \n",
       "131263       1.0        0.0  69.821918   61712-14-F2-RE  \n",
       "131265       1.0        0.0  71.821918   61712-18-F2-LE  \n",
       "131267       1.0        0.0  71.821918   61712-18-F2-RE  \n",
       "132051       1.0        0.0  66.786301   61754-06-F2-LE  \n",
       "132053       1.0        0.0  66.786301   61754-06-F2-RE  \n",
       "132055       1.0        0.0  68.786301   61754-10-F2-LE  \n",
       "132057       1.0        0.0  68.786301   61754-10-F2-RE  \n",
       "132059       1.0        0.0  70.786301   61754-14-F2-LE  \n",
       "132061       1.0        0.0  70.786301   61754-14-F2-RE  \n",
       "132063       1.0        0.0  72.786301   61754-18-F2-LE  \n",
       "132065       1.0        0.0  72.786301   61754-18-F2-RE  \n",
       "\n",
       "[1617 rows x 19 columns]"
      ]
     },
     "execution_count": 33,
     "metadata": {},
     "output_type": "execute_result"
    }
   ],
   "source": [
    "merged.iloc[ :, 4059:]"
   ]
  },
  {
   "cell_type": "code",
   "execution_count": 34,
   "metadata": {},
   "outputs": [
    {
     "data": {
      "text/plain": [
       "control    1174\n",
       "case        443\n",
       "Name: progressor_group, dtype: int64"
      ]
     },
     "execution_count": 34,
     "metadata": {},
     "output_type": "execute_result"
    }
   ],
   "source": [
    "merged['progressor_group'].value_counts()"
   ]
  },
  {
   "cell_type": "markdown",
   "metadata": {},
   "source": [
    "## Sanity check: Progressor groups should not share participants\n",
    "\n",
    "Should be no overlap."
   ]
  },
  {
   "cell_type": "code",
   "execution_count": 35,
   "metadata": {},
   "outputs": [
    {
     "data": {
      "text/plain": [
       "0"
      ]
     },
     "execution_count": 35,
     "metadata": {},
     "output_type": "execute_result"
    }
   ],
   "source": [
    "len( set( list( merged['Patid'][ merged['progressor_group'] == 'control' ] )) & \n",
    "    set( list( merged['Patid'][ merged['progressor_group'] == 'case' ] )) )"
   ]
  },
  {
   "cell_type": "markdown",
   "metadata": {},
   "source": [
    "Good!"
   ]
  },
  {
   "cell_type": "markdown",
   "metadata": {},
   "source": [
    "# Select single images per participant\n",
    "\n",
    "Get the percentile boundaries for the age data for each cohort. Need to make sure that younger cases and older controls are represented.\n",
    "\n",
    "### Criteria for selecting images for age regression problem\n",
    "1. Evenly sample from age range\n",
    "2. One image per participant only\n",
    "\n",
    "### Criteria for selecting images for progressor classification problem\n",
    "1. Case group: Take the most-recent image that was graded 1 (plus other caviats)\n",
    "2. Control group: Take images such that the distribution of ages is the same as the case group (matched ages?)"
   ]
  },
  {
   "cell_type": "code",
   "execution_count": 36,
   "metadata": {},
   "outputs": [
    {
     "data": {
      "text/plain": [
       "count    1617.000000\n",
       "mean       71.618588\n",
       "std         4.819175\n",
       "min        60.654795\n",
       "25%        68.087671\n",
       "50%        71.265753\n",
       "75%        74.832877\n",
       "max        87.912329\n",
       "Name: age, dtype: float64"
      ]
     },
     "execution_count": 36,
     "metadata": {},
     "output_type": "execute_result"
    }
   ],
   "source": [
    "merged['age'].describe()"
   ]
  },
  {
   "cell_type": "code",
   "execution_count": 37,
   "metadata": {},
   "outputs": [
    {
     "data": {
      "text/plain": [
       "<matplotlib.axes._subplots.AxesSubplot at 0x10c46e630>"
      ]
     },
     "execution_count": 37,
     "metadata": {},
     "output_type": "execute_result"
    },
    {
     "data": {
      "image/png": "[encoded data removed]",
      "text/plain": [
       "<matplotlib.figure.Figure at 0x10e8f6160>"
      ]
     },
     "metadata": {},
     "output_type": "display_data"
    }
   ],
   "source": [
    "merged['age'][ merged['progressor_group'] == 'control' ].hist()"
   ]
  },
  {
   "cell_type": "code",
   "execution_count": 38,
   "metadata": {},
   "outputs": [
    {
     "data": {
      "text/plain": [
       "count    1174.000000\n",
       "mean       70.503475\n",
       "std         4.191305\n",
       "min        60.654795\n",
       "25%        67.332877\n",
       "50%        70.309589\n",
       "75%        73.441096\n",
       "max        83.073973\n",
       "Name: age, dtype: float64"
      ]
     },
     "execution_count": 38,
     "metadata": {},
     "output_type": "execute_result"
    }
   ],
   "source": [
    "merged['age'][ merged['progressor_group'] == 'control' ].describe()"
   ]
  },
  {
   "cell_type": "code",
   "execution_count": 39,
   "metadata": {},
   "outputs": [
    {
     "data": {
      "text/plain": [
       "<matplotlib.axes._subplots.AxesSubplot at 0x10c3ab518>"
      ]
     },
     "execution_count": 39,
     "metadata": {},
     "output_type": "execute_result"
    },
    {
     "data": {
      "image/png": "[encoded data removed]",
      "text/plain": [
       "<matplotlib.figure.Figure at 0x10e8f7518>"
      ]
     },
     "metadata": {},
     "output_type": "display_data"
    }
   ],
   "source": [
    "merged['age'][ merged['progressor_group'] == 'case' ].hist()"
   ]
  },
  {
   "cell_type": "code",
   "execution_count": 40,
   "metadata": {},
   "outputs": [
    {
     "data": {
      "text/plain": [
       "count    443.000000\n",
       "mean      74.573762\n",
       "std        5.122038\n",
       "min       61.649315\n",
       "25%       70.994521\n",
       "50%       74.512329\n",
       "75%       78.101370\n",
       "max       87.912329\n",
       "Name: age, dtype: float64"
      ]
     },
     "execution_count": 40,
     "metadata": {},
     "output_type": "execute_result"
    }
   ],
   "source": [
    "merged['age'][ merged['progressor_group'] == 'case' ].describe()"
   ]
  },
  {
   "cell_type": "markdown",
   "metadata": {},
   "source": [
    "### Young cases"
   ]
  },
  {
   "cell_type": "code",
   "execution_count": 41,
   "metadata": {},
   "outputs": [
    {
     "data": {
      "text/plain": [
       "41"
      ]
     },
     "execution_count": 41,
     "metadata": {},
     "output_type": "execute_result"
    }
   ],
   "source": [
    "len( merged[ (merged['progressor_group'] == 'case') & (merged['age'] < 67.5 ) ] )"
   ]
  },
  {
   "cell_type": "code",
   "execution_count": 42,
   "metadata": {},
   "outputs": [
    {
     "data": {
      "text/plain": [
       "16"
      ]
     },
     "execution_count": 42,
     "metadata": {},
     "output_type": "execute_result"
    }
   ],
   "source": [
    "len(merged.loc[ (merged['progressor_group'] == 'case') & (merged['age'] < 67.5 ), 'Patid' ].unique())"
   ]
  },
  {
   "cell_type": "markdown",
   "metadata": {},
   "source": [
    "### Older controls"
   ]
  },
  {
   "cell_type": "code",
   "execution_count": 43,
   "metadata": {},
   "outputs": [
    {
     "data": {
      "text/plain": [
       "48"
      ]
     },
     "execution_count": 43,
     "metadata": {},
     "output_type": "execute_result"
    }
   ],
   "source": [
    "len( merged[ (merged['progressor_group'] == 'control') & (merged['age'] > 78 ) ] )"
   ]
  },
  {
   "cell_type": "code",
   "execution_count": 44,
   "metadata": {},
   "outputs": [
    {
     "data": {
      "text/plain": [
       "11"
      ]
     },
     "execution_count": 44,
     "metadata": {},
     "output_type": "execute_result"
    }
   ],
   "source": [
    "len(merged.loc[ (merged['progressor_group'] == 'control') & (merged['age'] > 78 ), 'Patid' ].unique())"
   ]
  },
  {
   "cell_type": "markdown",
   "metadata": {},
   "source": [
    "# Control Regressor"
   ]
  },
  {
   "cell_type": "code",
   "execution_count": 45,
   "metadata": {
    "collapsed": true
   },
   "outputs": [],
   "source": [
    "from scipy.stats import gaussian_kde"
   ]
  },
  {
   "cell_type": "code",
   "execution_count": 46,
   "metadata": {
    "collapsed": true
   },
   "outputs": [],
   "source": [
    "kernel = gaussian_kde( list( merged['age']))"
   ]
  },
  {
   "cell_type": "code",
   "execution_count": 47,
   "metadata": {
    "collapsed": true
   },
   "outputs": [],
   "source": [
    "import matplotlib.pyplot as plt"
   ]
  },
  {
   "cell_type": "code",
   "execution_count": 48,
   "metadata": {
    "collapsed": true
   },
   "outputs": [],
   "source": [
    "case = merged[ merged['progressor_group'] == 'case' ].copy()"
   ]
  },
  {
   "cell_type": "code",
   "execution_count": 49,
   "metadata": {
    "collapsed": true
   },
   "outputs": [],
   "source": [
    "control = merged[ merged['progressor_group'] == 'control' ].copy()"
   ]
  },
  {
   "cell_type": "code",
   "execution_count": 50,
   "metadata": {
    "collapsed": true
   },
   "outputs": [],
   "source": [
    "case_kdeX = np.mgrid[case.age.min():case.age.max():100j]\n",
    "control_kdeX = np.mgrid[control.age.min():control.age.max():100j]"
   ]
  },
  {
   "cell_type": "code",
   "execution_count": 51,
   "metadata": {
    "collapsed": true
   },
   "outputs": [],
   "source": [
    "case_kernel = gaussian_kde( list(case.age) )\n",
    "control_kernel = gaussian_kde( list(control.age) )"
   ]
  },
  {
   "cell_type": "code",
   "execution_count": 52,
   "metadata": {
    "collapsed": true
   },
   "outputs": [],
   "source": [
    "case_kdeY = case_kernel( case_kdeX )\n",
    "control_kdeY = control_kernel( control_kdeX )"
   ]
  },
  {
   "cell_type": "code",
   "execution_count": 53,
   "metadata": {},
   "outputs": [
    {
     "data": {
      "text/plain": [
       "[<matplotlib.lines.Line2D at 0x10e64c128>]"
      ]
     },
     "execution_count": 53,
     "metadata": {},
     "output_type": "execute_result"
    },
    {
     "data": {
      "image/png": "[encoded data removed]",
      "text/plain": [
       "<matplotlib.figure.Figure at 0x10e64c4e0>"
      ]
     },
     "metadata": {},
     "output_type": "display_data"
    }
   ],
   "source": [
    "plt.plot( case_kdeX, case_kdeY.max() / (case_kdeY.max() + case_kdeY) )\n",
    "plt.plot( control_kdeX, control_kdeY.max() / (control_kdeY.max() + control_kdeY) )"
   ]
  },
  {
   "cell_type": "code",
   "execution_count": 54,
   "metadata": {},
   "outputs": [
    {
     "data": {
      "text/plain": [
       "[<matplotlib.lines.Line2D at 0x10e7d0a20>]"
      ]
     },
     "execution_count": 54,
     "metadata": {},
     "output_type": "execute_result"
    },
    {
     "data": {
      "image/png": "[encoded data removed]",
      "text/plain": [
       "<matplotlib.figure.Figure at 0x10e7d0c18>"
      ]
     },
     "metadata": {},
     "output_type": "display_data"
    }
   ],
   "source": [
    "control_X_sorted = sorted( list(control.age) )\n",
    "control_sorted_pdf = control_kernel( control_X_sorted )\n",
    "plt.plot( control_X_sorted, control_sorted_pdf )\n",
    "plt.plot( control_X_sorted, control_sorted_pdf.max() / (control_sorted_pdf.max() + control_sorted_pdf ) )"
   ]
  },
  {
   "cell_type": "code",
   "execution_count": 150,
   "metadata": {
    "collapsed": true
   },
   "outputs": [],
   "source": [
    "control_pdf = control_kernel( list(control.age) )\n",
    "weights = control_pdf.max() / (control_pdf.max() + control_pdf ) \n",
    "#control.loc[:, 'weights'] = weights\n",
    "control.loc[:, 'weights'] = [1]*len( control )"
   ]
  },
  {
   "cell_type": "code",
   "execution_count": 147,
   "metadata": {},
   "outputs": [
    {
     "data": {
      "text/plain": [
       "<matplotlib.axes._subplots.AxesSubplot at 0x110467470>"
      ]
     },
     "execution_count": 147,
     "metadata": {},
     "output_type": "execute_result"
    },
    {
     "data": {
      "image/png": "[encoded data removed]",
      "text/plain": [
       "<matplotlib.figure.Figure at 0x11039dd68>"
      ]
     },
     "metadata": {},
     "output_type": "display_data"
    }
   ],
   "source": [
    "control.plot.scatter( 'age', 'weights')"
   ]
  },
  {
   "cell_type": "code",
   "execution_count": 118,
   "metadata": {
    "collapsed": true
   },
   "outputs": [],
   "source": [
    "from sklearn.svm import SVR\n",
    "from sklearn.pipeline import Pipeline\n",
    "from sklearn.preprocessing import StandardScaler\n",
    "from sklearn.metrics import r2_score\n",
    "import time"
   ]
  },
  {
   "cell_type": "code",
   "execution_count": 153,
   "metadata": {
    "collapsed": true
   },
   "outputs": [],
   "source": [
    "def RegressControls( control, niter=30, seed=42, split_ratio=0.75):\n",
    "    \n",
    "    svr_model = Pipeline( [ ('standardize', StandardScaler() ), ('svr', SVR( cache_size=5000) )] )\n",
    "    # Not having a standard scaler makes bad results worse\n",
    "    #svr_model = Pipeline( [ ('svr', SVR( cache_size=5000) )] )\n",
    "\n",
    "    patids = list( control.Patid )\n",
    "    eyelrs = list( control.EyeLR )\n",
    "    subset = control[ ['Patid', 'EyeLR', 'weights'] ]\n",
    "    all_combos = set( zip( patids, eyelrs ) )\n",
    "    N = len( all_combos )\n",
    "    rndstate = np.random.RandomState( seed )\n",
    "    testids = []\n",
    "    testeyes = []\n",
    "    testvisits = []\n",
    "    test_pred = []\n",
    "    test_actual = []\n",
    "    #train_stats = []\n",
    "    #test_stats = []\n",
    "    for i in range( niter ):\n",
    "        t1=time.time()\n",
    "        used = set()\n",
    "        train_indices = []\n",
    "        while len( used ) < split_ratio * N:\n",
    "            row = subset.sample( n=1, weights='weights', random_state=rndstate )\n",
    "            row_index = int(row.index[0])\n",
    "            patid, eyelr, w = row.iloc[0].tolist()\n",
    "            key = ( patid, eyelr ) # Only use a given eye once for training\n",
    "            if key in used:\n",
    "                continue\n",
    "            used.add( key )\n",
    "            train_indices.append( row_index )\n",
    "        train_set = control.loc[ train_indices ]\n",
    "        train_Y = list( train_set.age )\n",
    "        train_X = train_set.iloc[:, :4059 ].as_matrix()\n",
    "        test_set = control.loc[ [ c not in used for c in zip( patids, eyelrs ) ] ]\n",
    "        # Assert no test data in the training set\n",
    "        assert( len( set( train_indices ) & set( list( test_set.index ) ) ) == 0 )\n",
    "        #train_stats.extend( list( zip( [i]*len( train_set ), list( train_set.Patid ), \n",
    "        #                                 list( train_set.EyeLR ), list( train_set.Visit ),\n",
    "        #                                 list( train_set.age ) ) ) )\n",
    "        #test_stats.extend( list( zip( [i]*len( test_set ), list( test_set.Patid ), \n",
    "        #                                 list( test_set.EyeLR ), list( test_set.Visit ),\n",
    "        #                                 list( test_set.age ) ) ) )\n",
    "        test_Y = list( test_set.age )\n",
    "        test_X = test_set.iloc[:, :4059 ].as_matrix()\n",
    "        svr_model.fit( train_X, train_Y )\n",
    "        train_predY = svr_model.predict( train_X )\n",
    "        test_predY = svr_model.predict( test_X )\n",
    "        testids.extend( list( test_set.Patid ) )\n",
    "        testeyes.extend( list( test_set.EyeLR ) )\n",
    "        testvisits.extend( list( test_set.Visit ) )\n",
    "        test_pred.extend( list( test_predY ) )\n",
    "        test_actual.extend( list( test_set.age ) )\n",
    "\n",
    "        trainr2 = r2_score( list( train_set.age ), train_predY )        \n",
    "        testr2 = r2_score( list( test_set.age ), test_predY )\n",
    "        \n",
    "        t2=time.time()\n",
    "        print( \"iter{}: tested {}, train R^2={:0.2f}, test R^2={:0.2f}, time={:0.1f}s\".format(\n",
    "            i, len(test_set), trainr2, testr2, t2-t1 ) )\n",
    "\n",
    "    #return train_stats, test_stats\n",
    "    return pd.DataFrame.from_dict( {'Patid': testids, 'EyeLR': testeyes, \n",
    "                                    'Visit': testvisits, 'Pred': test_pred, 'Act': test_actual} )"
   ]
  },
  {
   "cell_type": "code",
   "execution_count": 128,
   "metadata": {},
   "outputs": [
    {
     "data": {
      "text/plain": [
       "count    1174.000000\n",
       "mean       70.503475\n",
       "std         4.191305\n",
       "min        60.654795\n",
       "25%        67.332877\n",
       "50%        70.309589\n",
       "75%        73.441096\n",
       "max        83.073973\n",
       "Name: age, dtype: float64"
      ]
     },
     "execution_count": 128,
     "metadata": {},
     "output_type": "execute_result"
    }
   ],
   "source": [
    "control.age.describe()"
   ]
  },
  {
   "cell_type": "markdown",
   "metadata": {},
   "source": [
    "# Weights ^ 4"
   ]
  },
  {
   "cell_type": "code",
   "execution_count": 142,
   "metadata": {},
   "outputs": [
    {
     "name": "stdout",
     "output_type": "stream",
     "text": [
      "iter0: tested 85, train R^2=0.32, test R^2=0.13, time=1.3s\n",
      "iter1: tested 77, train R^2=0.35, test R^2=-0.03, time=1.6s\n",
      "iter2: tested 81, train R^2=0.35, test R^2=0.21, time=1.5s\n",
      "iter3: tested 78, train R^2=0.35, test R^2=0.01, time=1.5s\n",
      "iter4: tested 77, train R^2=0.33, test R^2=0.08, time=1.4s\n",
      "iter5: tested 88, train R^2=0.33, test R^2=0.06, time=1.4s\n",
      "iter6: tested 82, train R^2=0.33, test R^2=0.20, time=1.5s\n",
      "iter7: tested 78, train R^2=0.33, test R^2=0.03, time=1.5s\n",
      "iter8: tested 85, train R^2=0.37, test R^2=-0.09, time=1.5s\n",
      "iter9: tested 82, train R^2=0.36, test R^2=-0.21, time=1.7s\n",
      "iter10: tested 78, train R^2=0.36, test R^2=0.04, time=1.6s\n",
      "iter11: tested 78, train R^2=0.33, test R^2=0.10, time=1.7s\n",
      "iter12: tested 77, train R^2=0.39, test R^2=0.13, time=1.6s\n",
      "iter13: tested 80, train R^2=0.36, test R^2=-0.19, time=1.5s\n",
      "iter14: tested 86, train R^2=0.39, test R^2=-0.10, time=1.5s\n",
      "iter15: tested 88, train R^2=0.38, test R^2=0.01, time=1.6s\n",
      "iter16: tested 83, train R^2=0.32, test R^2=0.03, time=1.4s\n",
      "iter17: tested 86, train R^2=0.37, test R^2=-0.10, time=1.4s\n",
      "iter18: tested 79, train R^2=0.38, test R^2=-0.35, time=1.6s\n",
      "iter19: tested 88, train R^2=0.38, test R^2=0.07, time=1.3s\n",
      "iter20: tested 80, train R^2=0.35, test R^2=0.19, time=1.5s\n",
      "iter21: tested 89, train R^2=0.33, test R^2=0.11, time=1.4s\n",
      "iter22: tested 72, train R^2=0.43, test R^2=-0.12, time=1.7s\n",
      "iter23: tested 85, train R^2=0.36, test R^2=-0.00, time=1.5s\n",
      "iter24: tested 80, train R^2=0.32, test R^2=0.07, time=1.4s\n",
      "iter25: tested 91, train R^2=0.36, test R^2=0.00, time=1.4s\n",
      "iter26: tested 72, train R^2=0.34, test R^2=0.06, time=1.4s\n",
      "iter27: tested 80, train R^2=0.35, test R^2=0.15, time=1.6s\n",
      "iter28: tested 71, train R^2=0.32, test R^2=0.06, time=1.7s\n",
      "iter29: tested 86, train R^2=0.38, test R^2=-0.05, time=1.5s\n",
      "iter30: tested 94, train R^2=0.38, test R^2=-0.18, time=1.5s\n",
      "iter31: tested 82, train R^2=0.32, test R^2=0.21, time=1.6s\n",
      "iter32: tested 80, train R^2=0.36, test R^2=0.10, time=1.4s\n",
      "iter33: tested 85, train R^2=0.35, test R^2=0.07, time=1.4s\n",
      "iter34: tested 70, train R^2=0.33, test R^2=0.11, time=1.3s\n",
      "iter35: tested 77, train R^2=0.36, test R^2=-0.00, time=1.4s\n",
      "iter36: tested 85, train R^2=0.34, test R^2=0.22, time=1.3s\n",
      "iter37: tested 80, train R^2=0.34, test R^2=0.01, time=1.5s\n",
      "iter38: tested 77, train R^2=0.32, test R^2=0.07, time=1.5s\n",
      "iter39: tested 80, train R^2=0.33, test R^2=-0.18, time=1.6s\n",
      "iter40: tested 80, train R^2=0.30, test R^2=0.03, time=1.5s\n",
      "iter41: tested 79, train R^2=0.39, test R^2=0.04, time=1.6s\n",
      "iter42: tested 82, train R^2=0.36, test R^2=0.02, time=1.6s\n",
      "iter43: tested 76, train R^2=0.37, test R^2=0.04, time=1.5s\n",
      "iter44: tested 85, train R^2=0.32, test R^2=0.14, time=1.5s\n",
      "iter45: tested 74, train R^2=0.31, test R^2=0.20, time=1.9s\n",
      "iter46: tested 81, train R^2=0.38, test R^2=0.05, time=1.5s\n",
      "iter47: tested 95, train R^2=0.32, test R^2=-0.00, time=1.3s\n",
      "iter48: tested 86, train R^2=0.32, test R^2=0.15, time=1.5s\n",
      "iter49: tested 88, train R^2=0.34, test R^2=0.18, time=1.3s\n"
     ]
    }
   ],
   "source": [
    "results = RegressControls( control, niter=50, seed=None, split_ratio=0.90 )"
   ]
  },
  {
   "cell_type": "code",
   "execution_count": 143,
   "metadata": {},
   "outputs": [
    {
     "name": "stdout",
     "output_type": "stream",
     "text": [
      "           Act      Pred\n",
      "Act   1.000000  0.332514\n",
      "Pred  0.332514  1.000000\n"
     ]
    },
    {
     "data": {
      "text/plain": [
       "[<matplotlib.lines.Line2D at 0x10fd3c390>]"
      ]
     },
     "execution_count": 143,
     "metadata": {},
     "output_type": "execute_result"
    },
    {
     "data": {
      "image/png": "[encoded data removed]",
      "text/plain": [
       "<matplotlib.figure.Figure at 0x112c36a90>"
      ]
     },
     "metadata": {},
     "output_type": "display_data"
    }
   ],
   "source": [
    "macro_results = results.groupby( ['Patid', 'EyeLR', 'Visit'] ).mean()\n",
    "print( macro_results.corr() )\n",
    "macro_results.plot.scatter( 'Act', 'Pred')\n",
    "plt.plot( (60,80), (60,80))"
   ]
  },
  {
   "cell_type": "markdown",
   "metadata": {},
   "source": [
    "# weights ^1"
   ]
  },
  {
   "cell_type": "code",
   "execution_count": 148,
   "metadata": {},
   "outputs": [
    {
     "name": "stdout",
     "output_type": "stream",
     "text": [
      "iter0: tested 93, train R^2=0.34, test R^2=0.07, time=1.2s\n",
      "iter1: tested 79, train R^2=0.31, test R^2=0.03, time=1.2s\n",
      "iter2: tested 92, train R^2=0.35, test R^2=0.12, time=1.3s\n",
      "iter3: tested 81, train R^2=0.30, test R^2=0.02, time=1.2s\n",
      "iter4: tested 77, train R^2=0.28, test R^2=0.01, time=1.2s\n",
      "iter5: tested 81, train R^2=0.30, test R^2=0.10, time=1.3s\n",
      "iter6: tested 95, train R^2=0.31, test R^2=0.00, time=1.3s\n",
      "iter7: tested 80, train R^2=0.30, test R^2=0.14, time=1.2s\n",
      "iter8: tested 82, train R^2=0.28, test R^2=-0.75, time=1.2s\n",
      "iter9: tested 74, train R^2=0.31, test R^2=-0.12, time=1.3s\n",
      "iter10: tested 74, train R^2=0.31, test R^2=0.10, time=1.1s\n",
      "iter11: tested 93, train R^2=0.28, test R^2=0.03, time=1.3s\n",
      "iter12: tested 82, train R^2=0.32, test R^2=0.12, time=1.4s\n",
      "iter13: tested 83, train R^2=0.29, test R^2=0.12, time=1.3s\n",
      "iter14: tested 77, train R^2=0.34, test R^2=-0.02, time=1.4s\n",
      "iter15: tested 72, train R^2=0.38, test R^2=0.03, time=1.3s\n",
      "iter16: tested 72, train R^2=0.30, test R^2=-0.00, time=1.1s\n",
      "iter17: tested 78, train R^2=0.28, test R^2=-0.06, time=1.2s\n",
      "iter18: tested 77, train R^2=0.38, test R^2=0.19, time=1.2s\n",
      "iter19: tested 88, train R^2=0.35, test R^2=0.17, time=1.2s\n",
      "iter20: tested 67, train R^2=0.39, test R^2=0.18, time=1.3s\n",
      "iter21: tested 71, train R^2=0.29, test R^2=0.10, time=1.3s\n",
      "iter22: tested 77, train R^2=0.30, test R^2=0.12, time=1.2s\n",
      "iter23: tested 84, train R^2=0.30, test R^2=0.13, time=1.3s\n",
      "iter24: tested 73, train R^2=0.31, test R^2=0.17, time=1.2s\n",
      "iter25: tested 80, train R^2=0.30, test R^2=-0.18, time=1.2s\n",
      "iter26: tested 72, train R^2=0.36, test R^2=0.14, time=1.3s\n",
      "iter27: tested 79, train R^2=0.33, test R^2=0.11, time=1.2s\n",
      "iter28: tested 73, train R^2=0.25, test R^2=0.00, time=1.3s\n",
      "iter29: tested 80, train R^2=0.33, test R^2=0.12, time=1.2s\n",
      "iter30: tested 73, train R^2=0.31, test R^2=0.12, time=1.3s\n",
      "iter31: tested 74, train R^2=0.34, test R^2=0.10, time=1.3s\n",
      "iter32: tested 75, train R^2=0.29, test R^2=0.04, time=1.3s\n",
      "iter33: tested 85, train R^2=0.34, test R^2=0.11, time=1.3s\n",
      "iter34: tested 79, train R^2=0.32, test R^2=0.00, time=1.3s\n",
      "iter35: tested 76, train R^2=0.33, test R^2=0.09, time=1.3s\n",
      "iter36: tested 81, train R^2=0.31, test R^2=0.15, time=1.4s\n",
      "iter37: tested 78, train R^2=0.34, test R^2=-0.03, time=1.3s\n",
      "iter38: tested 86, train R^2=0.30, test R^2=-0.02, time=1.2s\n",
      "iter39: tested 79, train R^2=0.30, test R^2=0.14, time=1.3s\n",
      "iter40: tested 69, train R^2=0.30, test R^2=-0.07, time=1.2s\n",
      "iter41: tested 74, train R^2=0.33, test R^2=0.14, time=1.4s\n",
      "iter42: tested 79, train R^2=0.33, test R^2=0.12, time=1.3s\n",
      "iter43: tested 82, train R^2=0.30, test R^2=-0.02, time=1.0s\n",
      "iter44: tested 82, train R^2=0.34, test R^2=0.10, time=1.3s\n",
      "iter45: tested 83, train R^2=0.29, test R^2=0.09, time=1.4s\n",
      "iter46: tested 75, train R^2=0.28, test R^2=0.14, time=1.5s\n",
      "iter47: tested 77, train R^2=0.27, test R^2=0.03, time=1.2s\n",
      "iter48: tested 79, train R^2=0.30, test R^2=0.06, time=1.2s\n",
      "iter49: tested 75, train R^2=0.33, test R^2=0.05, time=1.3s\n"
     ]
    }
   ],
   "source": [
    "results = RegressControls( control, niter=50, seed=None, split_ratio=0.90 )"
   ]
  },
  {
   "cell_type": "code",
   "execution_count": 149,
   "metadata": {},
   "outputs": [
    {
     "name": "stdout",
     "output_type": "stream",
     "text": [
      "           Act      Pred\n",
      "Act   1.000000  0.343749\n",
      "Pred  0.343749  1.000000\n"
     ]
    },
    {
     "data": {
      "text/plain": [
       "[<matplotlib.lines.Line2D at 0x112a03710>]"
      ]
     },
     "execution_count": 149,
     "metadata": {},
     "output_type": "execute_result"
    },
    {
     "data": {
      "image/png": "[encoded data removed]",
      "text/plain": [
       "<matplotlib.figure.Figure at 0x112c45470>"
      ]
     },
     "metadata": {},
     "output_type": "display_data"
    }
   ],
   "source": [
    "macro_results = results.groupby( ['Patid', 'EyeLR', 'Visit'] ).mean()\n",
    "print( macro_results.corr() )\n",
    "macro_results.plot.scatter( 'Act', 'Pred')\n",
    "plt.plot( (60,80), (60,80))"
   ]
  },
  {
   "cell_type": "markdown",
   "metadata": {},
   "source": [
    "# No weights, without standard scaling"
   ]
  },
  {
   "cell_type": "code",
   "execution_count": 154,
   "metadata": {},
   "outputs": [
    {
     "name": "stdout",
     "output_type": "stream",
     "text": [
      "iter0: tested 76, train R^2=0.33, test R^2=-0.17, time=1.2s\n",
      "iter1: tested 78, train R^2=0.34, test R^2=-0.05, time=1.2s\n",
      "iter2: tested 66, train R^2=0.31, test R^2=-0.01, time=1.6s\n",
      "iter3: tested 82, train R^2=0.34, test R^2=-0.00, time=1.3s\n",
      "iter4: tested 89, train R^2=0.33, test R^2=-0.09, time=1.2s\n",
      "iter5: tested 80, train R^2=0.33, test R^2=-0.00, time=1.2s\n",
      "iter6: tested 76, train R^2=0.33, test R^2=-0.21, time=1.4s\n",
      "iter7: tested 69, train R^2=0.31, test R^2=-0.03, time=1.3s\n",
      "iter8: tested 71, train R^2=0.35, test R^2=-0.07, time=1.3s\n",
      "iter9: tested 78, train R^2=0.32, test R^2=-0.05, time=1.1s\n",
      "iter10: tested 75, train R^2=0.35, test R^2=-0.06, time=1.2s\n",
      "iter11: tested 75, train R^2=0.35, test R^2=-0.01, time=1.2s\n",
      "iter12: tested 68, train R^2=0.34, test R^2=-0.27, time=1.2s\n",
      "iter13: tested 84, train R^2=0.32, test R^2=-0.06, time=1.2s\n",
      "iter14: tested 73, train R^2=0.35, test R^2=-0.13, time=1.2s\n",
      "iter15: tested 79, train R^2=0.32, test R^2=-0.10, time=1.2s\n",
      "iter16: tested 73, train R^2=0.34, test R^2=-0.03, time=1.3s\n",
      "iter17: tested 81, train R^2=0.34, test R^2=-0.03, time=1.2s\n",
      "iter18: tested 77, train R^2=0.35, test R^2=-0.01, time=1.1s\n",
      "iter19: tested 86, train R^2=0.32, test R^2=-0.05, time=1.1s\n",
      "iter20: tested 83, train R^2=0.32, test R^2=-0.08, time=1.2s\n",
      "iter21: tested 80, train R^2=0.35, test R^2=-0.21, time=1.2s\n",
      "iter22: tested 78, train R^2=0.34, test R^2=-0.03, time=1.1s\n",
      "iter23: tested 77, train R^2=0.33, test R^2=-0.01, time=1.2s\n",
      "iter24: tested 76, train R^2=0.34, test R^2=-0.00, time=1.2s\n",
      "iter25: tested 78, train R^2=0.34, test R^2=-0.00, time=1.4s\n",
      "iter26: tested 74, train R^2=0.34, test R^2=-0.00, time=1.3s\n",
      "iter27: tested 73, train R^2=0.32, test R^2=-0.02, time=1.3s\n",
      "iter28: tested 74, train R^2=0.33, test R^2=-0.00, time=1.3s\n",
      "iter29: tested 88, train R^2=0.35, test R^2=-0.11, time=1.3s\n",
      "iter30: tested 79, train R^2=0.32, test R^2=-0.14, time=1.4s\n",
      "iter31: tested 70, train R^2=0.34, test R^2=-0.15, time=1.3s\n",
      "iter32: tested 81, train R^2=0.32, test R^2=-0.27, time=1.4s\n",
      "iter33: tested 89, train R^2=0.32, test R^2=-0.00, time=1.3s\n",
      "iter34: tested 79, train R^2=0.33, test R^2=-0.38, time=1.3s\n",
      "iter35: tested 80, train R^2=0.32, test R^2=-0.03, time=1.2s\n",
      "iter36: tested 76, train R^2=0.35, test R^2=-0.10, time=1.5s\n",
      "iter37: tested 78, train R^2=0.32, test R^2=-0.00, time=1.3s\n",
      "iter38: tested 71, train R^2=0.34, test R^2=-0.01, time=1.4s\n",
      "iter39: tested 80, train R^2=0.34, test R^2=-0.02, time=1.2s\n",
      "iter40: tested 79, train R^2=0.34, test R^2=-0.13, time=1.3s\n",
      "iter41: tested 67, train R^2=0.33, test R^2=-0.21, time=1.4s\n",
      "iter42: tested 74, train R^2=0.32, test R^2=-0.01, time=1.1s\n",
      "iter43: tested 89, train R^2=0.34, test R^2=-0.00, time=1.1s\n",
      "iter44: tested 76, train R^2=0.33, test R^2=-0.03, time=1.2s\n",
      "iter45: tested 73, train R^2=0.34, test R^2=-0.09, time=1.2s\n",
      "iter46: tested 74, train R^2=0.34, test R^2=-0.16, time=1.3s\n",
      "iter47: tested 76, train R^2=0.32, test R^2=-0.00, time=1.2s\n",
      "iter48: tested 84, train R^2=0.34, test R^2=-0.00, time=1.0s\n",
      "iter49: tested 81, train R^2=0.35, test R^2=-0.00, time=1.3s\n"
     ]
    }
   ],
   "source": [
    "results = RegressControls( control, niter=50, seed=None, split_ratio=0.90 )"
   ]
  },
  {
   "cell_type": "code",
   "execution_count": 155,
   "metadata": {},
   "outputs": [
    {
     "name": "stdout",
     "output_type": "stream",
     "text": [
      "           Act      Pred\n",
      "Act   1.000000 -0.088566\n",
      "Pred -0.088566  1.000000\n"
     ]
    },
    {
     "data": {
      "text/plain": [
       "[<matplotlib.lines.Line2D at 0x132884908>]"
      ]
     },
     "execution_count": 155,
     "metadata": {},
     "output_type": "execute_result"
    },
    {
     "data": {
      "image/png": "[encoded data removed]",
      "text/plain": [
       "<matplotlib.figure.Figure at 0x132884f60>"
      ]
     },
     "metadata": {},
     "output_type": "display_data"
    }
   ],
   "source": [
    "macro_results = results.groupby( ['Patid', 'EyeLR', 'Visit'] ).mean()\n",
    "print( macro_results.corr() )\n",
    "macro_results.plot.scatter( 'Act', 'Pred')\n",
    "plt.plot( (60,80), (60,80))"
   ]
  },
  {
   "cell_type": "code",
   "execution_count": 116,
   "metadata": {},
   "outputs": [
    {
     "name": "stdout",
     "output_type": "stream",
     "text": [
      "count    8400.000000\n",
      "mean       70.542134\n",
      "std         5.366785\n",
      "min        60.654795\n",
      "25%        65.832877\n",
      "50%        70.375342\n",
      "75%        75.117808\n",
      "max        83.073973\n",
      "dtype: float64\n",
      "count    8984.000000\n",
      "mean       69.792071\n",
      "std         3.205677\n",
      "min        60.654795\n",
      "25%        67.364384\n",
      "50%        69.638356\n",
      "75%        71.890411\n",
      "max        79.071233\n",
      "dtype: float64\n"
     ]
    },
    {
     "data": {
      "text/plain": [
       "[<matplotlib.lines.Line2D at 0x10ffc6a90>]"
      ]
     },
     "execution_count": 116,
     "metadata": {},
     "output_type": "execute_result"
    },
    {
     "data": {
      "image/png": "[encoded data removed]",
      "text/plain": [
       "<matplotlib.figure.Figure at 0x110072f28>"
      ]
     },
     "metadata": {},
     "output_type": "display_data"
    }
   ],
   "source": [
    "#train_stats, test_stats = RegressControls( control, niter=10, seed=None, split_ratio=0.80 )\n",
    "#plt.plot( control_kdeX, control_kdeY )\n",
    "\n",
    "#sampled_train_ages = list( zip(*train_stats))[-1]\n",
    "#print( pd.Series( sampled_train_ages ).describe() )\n",
    "#train_sample_kdeX = np.mgrid[ min(sampled_train_ages) : max(sampled_train_ages) : 100j ]\n",
    "#train_sample_kernel = gaussian_kde( sampled_train_ages )\n",
    "#train_sample_kdeY = train_sample_kernel( train_sample_kdeX )\n",
    "#plt.plot( X2, Y2 )\n",
    "#plt.plot( train_sample_kdeX, train_sample_kdeY  )\n",
    "\n",
    "#sampled_test_ages = list( zip(*test_stats))[-1]\n",
    "#print( pd.Series( sampled_test_ages ).describe() )\n",
    "#test_sample_kdeX = np.mgrid[ min(sampled_test_ages) : max(sampled_test_ages) : 100j ]\n",
    "#test_sample_kernel = gaussian_kde( sampled_test_ages )\n",
    "#test_sample_kdeY = test_sample_kernel( test_sample_kdeX )\n",
    "#plt.plot( X2, Y2 )\n",
    "#plt.plot( test_sample_kdeX, test_sample_kdeY  )"
   ]
  },
  {
   "cell_type": "markdown",
   "metadata": {},
   "source": [
    "# Progressor classifier: Define 5 bin boundaries to evenly sample from\n",
    "\n",
    "60-67.5, 67.5-70.6, 70.6-74.0, 74.0-78.0, 78.0-88"
   ]
  },
  {
   "cell_type": "code",
   "execution_count": null,
   "metadata": {
    "collapsed": true
   },
   "outputs": [],
   "source": [
    "merged['age'][ merged['progressor_group'] == 'control' ].hist(bins=[60, 67.5, 70.6, 74.0, 78.0, 88], edgecolor='black' )"
   ]
  },
  {
   "cell_type": "code",
   "execution_count": null,
   "metadata": {
    "collapsed": true
   },
   "outputs": [],
   "source": [
    "merged['age'][ merged['progressor_group'] == 'case' ].hist(bins=[60, 67.5, 70.6, 74.0, 78.0, 88], edgecolor='black' )"
   ]
  },
  {
   "cell_type": "markdown",
   "metadata": {},
   "source": [
    "# Add bin assignment to spreadsheet\n",
    "\n",
    "Discretize age data two ways: a crossover bin when comparing cases and controls, as well as a in-group bin based on in-group quartiles."
   ]
  },
  {
   "cell_type": "code",
   "execution_count": null,
   "metadata": {
    "collapsed": true
   },
   "outputs": [],
   "source": [
    "merged['crossover_bin'] = pd.cut( merged['age'], bins=[60, 67.5, 70.6, 74.0, 78.0, 88], labels=['A', 'B', 'C', 'D', 'E'] )"
   ]
  },
  {
   "cell_type": "code",
   "execution_count": null,
   "metadata": {
    "collapsed": true
   },
   "outputs": [],
   "source": [
    "merged['crossover_bin'][ merged['progressor_group'] == 'case' ].value_counts()"
   ]
  },
  {
   "cell_type": "code",
   "execution_count": null,
   "metadata": {
    "collapsed": true
   },
   "outputs": [],
   "source": [
    "merged['crossover_bin'][ merged['progressor_group'] == 'control' ].value_counts()"
   ]
  },
  {
   "cell_type": "markdown",
   "metadata": {},
   "source": [
    "# Pivot all observations for a given participant onto a single row"
   ]
  },
  {
   "cell_type": "code",
   "execution_count": null,
   "metadata": {
    "collapsed": true
   },
   "outputs": [],
   "source": [
    "longitudinal = right_eye.pivot( index='DB_ID', columns='Visit', values='SevScore')"
   ]
  },
  {
   "cell_type": "code",
   "execution_count": null,
   "metadata": {
    "collapsed": true
   },
   "outputs": [],
   "source": [
    "len(longitudinal)"
   ]
  },
  {
   "cell_type": "code",
   "execution_count": null,
   "metadata": {
    "collapsed": true
   },
   "outputs": [],
   "source": [
    "longitudinal.sort_index(inplace=True)"
   ]
  },
  {
   "cell_type": "markdown",
   "metadata": {},
   "source": [
    "# Identify progressors last 1grade before taking off"
   ]
  },
  {
   "cell_type": "code",
   "execution_count": null,
   "metadata": {
    "collapsed": true
   },
   "outputs": [],
   "source": [
    "longitudinal['Last1BeforeChange'] = [np.nan]*len(longitudinal)"
   ]
  },
  {
   "cell_type": "code",
   "execution_count": null,
   "metadata": {
    "collapsed": true
   },
   "outputs": [],
   "source": [
    "def shiftleft( row ):\n",
    "    wanted_indices = list(row.index)[:-1]\n",
    "    #print zip(wanted_indices, row.index)\n",
    "    sub = row.loc[ wanted_indices ]\n",
    "    n_unique_vals = len( set( list( sub.dropna() ) ) )\n",
    "    assert( n_unique_vals ) # are there actually graded images in this row?\n",
    "    if n_unique_vals == 1:\n",
    "        # Grade stays constant throughout, do a simple shift\n",
    "        # This will also catch the case if there's only one graded image\n",
    "        for i, val in sub.iteritems():\n",
    "            if not np.isnan(val):\n",
    "                break\n",
    "        shifted = sub[i:]\n",
    "        shifted.index = range(len(shifted))\n",
    "        return shifted.reindex(row.index, fill_value=np.nan)\n",
    "    else:\n",
    "        # figure out the column that has the last grade of \"1\" before changing to something else\n",
    "        crop_index = 0\n",
    "        last_grade = None\n",
    "        # iterate over all entries in the row\n",
    "        for i, curr_grade in sub.iteritems():\n",
    "            if not np.isnan( curr_grade ):\n",
    "                if( last_grade == None ) or ( last_grade == curr_grade ):\n",
    "                    # The first time we see a grade, or the grade we see is the same as the last\n",
    "                    crop_index = i\n",
    "                    last_grade = curr_grade\n",
    "                else:\n",
    "                    # Break out now, the grade we see is different than the last one we saw\n",
    "                    break\n",
    "\n",
    "        shifted = sub[ crop_index:]\n",
    "        shifted.index = range(len(shifted))\n",
    "        retval = shifted.reindex(row.index, fill_value=np.nan)\n",
    "        retval['Last1BeforeChange'] = crop_index\n",
    "        return retval"
   ]
  },
  {
   "cell_type": "code",
   "execution_count": null,
   "metadata": {
    "collapsed": true
   },
   "outputs": [],
   "source": [
    "shifted_longitudinal = longitudinal.apply( func=shiftleft, axis=1 )\n",
    "shifted_longitudinal.sort_index(inplace=True)"
   ]
  },
  {
   "cell_type": "markdown",
   "metadata": {},
   "source": [
    "# Filter out rows that don't start on the low end"
   ]
  },
  {
   "cell_type": "code",
   "execution_count": null,
   "metadata": {
    "collapsed": true
   },
   "outputs": [],
   "source": [
    "shifted_longitudinal = shifted_longitudinal[ shifted_longitudinal[0] == 1]"
   ]
  },
  {
   "cell_type": "code",
   "execution_count": null,
   "metadata": {
    "collapsed": true
   },
   "outputs": [],
   "source": [
    "len(shifted_longitudinal)"
   ]
  },
  {
   "cell_type": "markdown",
   "metadata": {},
   "source": [
    "# Control: rows that don't change \n",
    "\n",
    "Will have value nan for cell Last1BeforeChange"
   ]
  },
  {
   "cell_type": "code",
   "execution_count": null,
   "metadata": {
    "collapsed": true
   },
   "outputs": [],
   "source": [
    "control = shifted_longitudinal[shifted_longitudinal['Last1BeforeChange'].isnull()]"
   ]
  },
  {
   "cell_type": "code",
   "execution_count": null,
   "metadata": {
    "collapsed": true
   },
   "outputs": [],
   "source": [
    "len(control)"
   ]
  },
  {
   "cell_type": "code",
   "execution_count": null,
   "metadata": {
    "collapsed": true
   },
   "outputs": [],
   "source": [
    "control = control[ control[22] == 1 ]"
   ]
  },
  {
   "cell_type": "code",
   "execution_count": null,
   "metadata": {
    "collapsed": true
   },
   "outputs": [],
   "source": [
    "len(control)"
   ]
  },
  {
   "cell_type": "markdown",
   "metadata": {},
   "source": [
    "# Case\n",
    "\n",
    "Now: if you started off as a 1 but you had a score of 5 or higher at any point subsequently\n",
    "Future: Use image that was your last grade 1 before you increased"
   ]
  },
  {
   "cell_type": "code",
   "execution_count": null,
   "metadata": {
    "collapsed": true
   },
   "outputs": [],
   "source": [
    "last_visit_before_change = shifted_longitudinal['Last1BeforeChange']"
   ]
  },
  {
   "cell_type": "code",
   "execution_count": null,
   "metadata": {
    "collapsed": true
   },
   "outputs": [],
   "source": [
    "shifted_longitudinal.drop('Last1BeforeChange', axis=1, inplace=True)"
   ]
  },
  {
   "cell_type": "code",
   "execution_count": null,
   "metadata": {
    "collapsed": true
   },
   "outputs": [],
   "source": [
    "cases = shifted_longitudinal[ shifted_longitudinal.max(axis=1) >= 5 ]"
   ]
  },
  {
   "cell_type": "code",
   "execution_count": null,
   "metadata": {
    "collapsed": true
   },
   "outputs": [],
   "source": [
    "len(cases)"
   ]
  }
 ],
 "metadata": {
  "kernelspec": {
   "display_name": "Python 2",
   "language": "python",
   "name": "python2"
  },
  "language_info": {
   "codemirror_mode": {
    "name": "ipython",
    "version": 3
   },
   "file_extension": ".py",
   "mimetype": "text/x-python",
   "name": "python",
   "nbconvert_exporter": "python",
   "pygments_lexer": "ipython3",
   "version": "3.6.2"
  }
 },
 "nbformat": 4,
 "nbformat_minor": 2
}
