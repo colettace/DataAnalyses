{
 "cells": [
  {
   "cell_type": "markdown",
   "metadata": {},
   "source": [
    "# Load SardiNIA Database"
   ]
  },
  {
   "cell_type": "code",
   "execution_count": 1,
   "metadata": {
    "ExecuteTime": {
     "end_time": "2017-10-18T20:47:17.707830Z",
     "start_time": "2017-10-18T20:47:17.346Z"
    }
   },
   "outputs": [],
   "source": [
    "library(readr)"
   ]
  },
  {
   "cell_type": "code",
   "execution_count": 2,
   "metadata": {
    "ExecuteTime": {
     "end_time": "2017-10-18T20:47:19.351481Z",
     "start_time": "2017-10-18T20:47:17.351Z"
    }
   },
   "outputs": [
    {
     "name": "stderr",
     "output_type": "stream",
     "text": [
      "Parsed with column specification:\n",
      "cols(\n",
      "  .default = col_double(),\n",
      "  id_individual = col_integer(),\n",
      "  Wave = col_integer(),\n",
      "  FirstVisitDate = col_date(format = \"\"),\n",
      "  SecondVisitDate = col_date(format = \"\"),\n",
      "  ThirdVisitDate = col_date(format = \"\"),\n",
      "  FourthVisitDate = col_date(format = \"\"),\n",
      "  labsHbA1Cdx = col_character(),\n",
      "  labsG6PD = col_character(),\n",
      "  labsZnPP = col_character(),\n",
      "  labsBilirubinad = col_character(),\n",
      "  labsBilirubinat = col_character(),\n",
      "  labsSodiemia = col_character(),\n",
      "  labsPotassiemia = col_character(),\n",
      "  labsPCR = col_character(),\n",
      "  labsTie = col_character(),\n",
      "  disMIname = col_character(),\n",
      "  disMIwhen = col_date(format = \"\"),\n",
      "  disAPname = col_character(),\n",
      "  disAPwhen = col_date(format = \"\"),\n",
      "  disHFname = col_character()\n",
      "  # ... with 192 more columns\n",
      ")\n",
      "See spec(...) for full column specifications.\n"
     ]
    }
   ],
   "source": [
    "full_db <- read_tsv( '20171017_SardiNIA_WaveIV_only.txt')"
   ]
  },
  {
   "cell_type": "code",
   "execution_count": 3,
   "metadata": {
    "ExecuteTime": {
     "end_time": "2017-10-18T20:47:19.408328Z",
     "start_time": "2017-10-18T20:47:17.354Z"
    }
   },
   "outputs": [
    {
     "data": {
      "text/html": [
       "<ol class=list-inline>\n",
       "\t<li>4705</li>\n",
       "\t<li>1286</li>\n",
       "</ol>\n"
      ],
      "text/latex": [
       "\\begin{enumerate*}\n",
       "\\item 4705\n",
       "\\item 1286\n",
       "\\end{enumerate*}\n"
      ],
      "text/markdown": [
       "1. 4705\n",
       "2. 1286\n",
       "\n",
       "\n"
      ],
      "text/plain": [
       "[1] 4705 1286"
      ]
     },
     "metadata": {},
     "output_type": "display_data"
    }
   ],
   "source": [
    "# print # rows, # cols\n",
    "dim(full_db)"
   ]
  },
  {
   "cell_type": "code",
   "execution_count": 4,
   "metadata": {
    "ExecuteTime": {
     "end_time": "2017-10-18T20:47:19.601856Z",
     "start_time": "2017-10-18T20:47:17.358Z"
    }
   },
   "outputs": [
    {
     "data": {
      "text/html": [
       "<table>\n",
       "<thead><tr><th scope=col>id_individual</th><th scope=col>id_sir</th><th scope=col>id_mad</th><th scope=col>Wave</th><th scope=col>Visit</th><th scope=col>Age</th><th scope=col>Sex</th><th scope=col>Education</th><th scope=col>Occupation</th><th scope=col>MaritalStatus</th><th scope=col>⋯</th><th scope=col>SphPWVSecondM_DT_DIST</th><th scope=col>SphPWVSecondM_N_Measurements</th><th scope=col>SphPWVSecondM_PP_DEVIATION</th><th scope=col>SphPWVSecondM_PP_MDT</th><th scope=col>SphPWVSecondM_PWV</th><th scope=col>SphPWVSecondM_PWVERR</th><th scope=col>SphPWVSecondM_PWV_DIST</th><th scope=col>SphPWVSecondM_PX_DIST</th><th scope=col>SphPWVSecondM_SP</th><th scope=col>SphPWVSecondM_date</th></tr></thead>\n",
       "<tbody>\n",
       "\t<tr><td> 2       </td><td> 1573    </td><td>    1    </td><td>4        </td><td>3        </td><td>36.8     </td><td>1        </td><td>5        </td><td> 71      </td><td>1        </td><td>⋯        </td><td> NA      </td><td>NA       </td><td>    NA   </td><td>      NA </td><td>      NA </td><td>       NA</td><td> NA      </td><td>NA       </td><td> NA      </td><td>NA       </td></tr>\n",
       "\t<tr><td> 7       </td><td> 6756    </td><td>16525    </td><td>4        </td><td>4        </td><td>72.8     </td><td>1        </td><td>3        </td><td> 92      </td><td>2        </td><td>⋯        </td><td> NA      </td><td>NA       </td><td>    NA   </td><td>      NA </td><td>      NA </td><td>       NA</td><td> NA      </td><td>NA       </td><td> NA      </td><td>NA       </td></tr>\n",
       "\t<tr><td> 8       </td><td>    7    </td><td> 8546    </td><td>4        </td><td>3        </td><td>43.6     </td><td>1        </td><td>5        </td><td>140      </td><td>3        </td><td>⋯        </td><td> NA      </td><td>NA       </td><td>    NA   </td><td>      NA </td><td>      NA </td><td>       NA</td><td> NA      </td><td>NA       </td><td> NA      </td><td>NA       </td></tr>\n",
       "\t<tr><td>10       </td><td>    7    </td><td> 8546    </td><td>4        </td><td>3        </td><td>37.3     </td><td>0        </td><td>4        </td><td> 72      </td><td>3        </td><td>⋯        </td><td> NA      </td><td>NA       </td><td>    NA   </td><td>      NA </td><td>      NA </td><td>       NA</td><td> NA      </td><td>NA       </td><td> NA      </td><td>NA       </td></tr>\n",
       "\t<tr><td>12       </td><td>    7    </td><td> 8546    </td><td>4        </td><td>1        </td><td>22.9     </td><td>0        </td><td>4        </td><td> 97      </td><td>0        </td><td>⋯        </td><td> NA      </td><td>NA       </td><td>    NA   </td><td>      NA </td><td>      NA </td><td>       NA</td><td> NA      </td><td>NA       </td><td> NA      </td><td>NA       </td></tr>\n",
       "\t<tr><td>13        </td><td>16137     </td><td>15362     </td><td>4         </td><td>4         </td><td>76.3      </td><td>1         </td><td>2         </td><td> 70       </td><td>1         </td><td>⋯         </td><td>570       </td><td> 3        </td><td>4.0651    </td><td>62.90355  </td><td>7.708743  </td><td>0.5383492 </td><td>480       </td><td>90        </td><td>106       </td><td>2015-12-01</td></tr>\n",
       "</tbody>\n",
       "</table>\n"
      ],
      "text/latex": [
       "\\begin{tabular}{r|llllllllllllllllllllllllllllllllllllllllllllllllllllllllllllllllllllllllllllllllllllllllllllllllllllllllllllllllllllllllllllllllllllllllllllllllllllllllllllllllllllllllllllllllllllllllllllllllllllllllllllllllllllllllllllllllllllllllllllllllllllllllllllllllllllllllllllllllllllllllllllllllllllllllllllllllllllllllllllllllllllllllllllllllllllllllllllllllllllllllllllllllllllllllllllllllllllllllllllllllllllllllllllllllllllllllllllllllllllllllllllllllllllllllllllllllllllllllllllllllllllllllllllllllllllllllllllllllllllllllllllllllllllllllllllllllllllllllllllllllllllllllllllllllllllllllllllllllllllllllllllllllllllllllllllllllllllllllllllllllllllllllllllllllllllllllllllllllllllllllllllllllllllllllllllllllllllllllllllllllllllllllllllllllllllllllllllllllllllllllllllllllllllllllllllllllllllllllllllllllllllllllllllllllllllllllllllllllllllllllllllllllllllllllllllllllllllllllllllllllllllllllllllllllllllllllllllllllllllllllllllllllllllllllllllllllllllllllllllllllllllllllllllllllllllllllllllllllllllllllllllllllllllllllllllllllllllllllllllllllllllllllllllllllllllllllllllllllllllllllllllllllllllllllllllllllllllllllllllllllllllllllllllllllllllllllllllllllllllllllllllllllllllllllllllllllllllllllllllllllllllllllllllllllllllllllllllllllllllllllllllllllllllllllllllllllllllllllllllllllllllll}\n",
       " id\\_individual & id\\_sir & id\\_mad & Wave & Visit & Age & Sex & Education & Occupation & MaritalStatus & ⋯ & SphPWVSecondM\\_DT\\_DIST & SphPWVSecondM\\_N\\_Measurements & SphPWVSecondM\\_PP\\_DEVIATION & SphPWVSecondM\\_PP\\_MDT & SphPWVSecondM\\_PWV & SphPWVSecondM\\_PWVERR & SphPWVSecondM\\_PWV\\_DIST & SphPWVSecondM\\_PX\\_DIST & SphPWVSecondM\\_SP & SphPWVSecondM\\_date\\\\\n",
       "\\hline\n",
       "\t  2        &  1573     &     1     & 4         & 3         & 36.8      & 1         & 5         &  71       & 1         & ⋯         &  NA       & NA        &     NA    &       NA  &       NA  &        NA &  NA       & NA        &  NA       & NA       \\\\\n",
       "\t  7        &  6756     & 16525     & 4         & 4         & 72.8      & 1         & 3         &  92       & 2         & ⋯         &  NA       & NA        &     NA    &       NA  &       NA  &        NA &  NA       & NA        &  NA       & NA       \\\\\n",
       "\t  8        &     7     &  8546     & 4         & 3         & 43.6      & 1         & 5         & 140       & 3         & ⋯         &  NA       & NA        &     NA    &       NA  &       NA  &        NA &  NA       & NA        &  NA       & NA       \\\\\n",
       "\t 10        &     7     &  8546     & 4         & 3         & 37.3      & 0         & 4         &  72       & 3         & ⋯         &  NA       & NA        &     NA    &       NA  &       NA  &        NA &  NA       & NA        &  NA       & NA       \\\\\n",
       "\t 12        &     7     &  8546     & 4         & 1         & 22.9      & 0         & 4         &  97       & 0         & ⋯         &  NA       & NA        &     NA    &       NA  &       NA  &        NA &  NA       & NA        &  NA       & NA       \\\\\n",
       "\t 13         & 16137      & 15362      & 4          & 4          & 76.3       & 1          & 2          &  70        & 1          & ⋯          & 570        &  3         & 4.0651     & 62.90355   & 7.708743   & 0.5383492  & 480        & 90         & 106        & 2015-12-01\\\\\n",
       "\\end{tabular}\n"
      ],
      "text/markdown": [
       "\n",
       "id_individual | id_sir | id_mad | Wave | Visit | Age | Sex | Education | Occupation | MaritalStatus | ⋯ | SphPWVSecondM_DT_DIST | SphPWVSecondM_N_Measurements | SphPWVSecondM_PP_DEVIATION | SphPWVSecondM_PP_MDT | SphPWVSecondM_PWV | SphPWVSecondM_PWVERR | SphPWVSecondM_PWV_DIST | SphPWVSecondM_PX_DIST | SphPWVSecondM_SP | SphPWVSecondM_date | \n",
       "|---|---|---|---|---|---|\n",
       "|  2        |  1573     |     1     | 4         | 3         | 36.8      | 1         | 5         |  71       | 1         | ⋯         |  NA       | NA        |     NA    |       NA  |       NA  |        NA |  NA       | NA        |  NA       | NA        | \n",
       "|  7        |  6756     | 16525     | 4         | 4         | 72.8      | 1         | 3         |  92       | 2         | ⋯         |  NA       | NA        |     NA    |       NA  |       NA  |        NA |  NA       | NA        |  NA       | NA        | \n",
       "|  8        |     7     |  8546     | 4         | 3         | 43.6      | 1         | 5         | 140       | 3         | ⋯         |  NA       | NA        |     NA    |       NA  |       NA  |        NA |  NA       | NA        |  NA       | NA        | \n",
       "| 10        |     7     |  8546     | 4         | 3         | 37.3      | 0         | 4         |  72       | 3         | ⋯         |  NA       | NA        |     NA    |       NA  |       NA  |        NA |  NA       | NA        |  NA       | NA        | \n",
       "| 12        |     7     |  8546     | 4         | 1         | 22.9      | 0         | 4         |  97       | 0         | ⋯         |  NA       | NA        |     NA    |       NA  |       NA  |        NA |  NA       | NA        |  NA       | NA        | \n",
       "| 13         | 16137      | 15362      | 4          | 4          | 76.3       | 1          | 2          |  70        | 1          | ⋯          | 570        |  3         | 4.0651     | 62.90355   | 7.708743   | 0.5383492  | 480        | 90         | 106        | 2015-12-01 | \n",
       "\n",
       "\n"
      ],
      "text/plain": [
       "  id_individual id_sir id_mad Wave Visit Age  Sex Education Occupation\n",
       "1  2             1573      1  4    3     36.8 1   5          71       \n",
       "2  7             6756  16525  4    4     72.8 1   3          92       \n",
       "3  8                7   8546  4    3     43.6 1   5         140       \n",
       "4 10                7   8546  4    3     37.3 0   4          72       \n",
       "5 12                7   8546  4    1     22.9 0   4          97       \n",
       "6 13            16137  15362  4    4     76.3 1   2          70       \n",
       "  MaritalStatus ⋯ SphPWVSecondM_DT_DIST SphPWVSecondM_N_Measurements\n",
       "1 1             ⋯  NA                   NA                          \n",
       "2 2             ⋯  NA                   NA                          \n",
       "3 3             ⋯  NA                   NA                          \n",
       "4 3             ⋯  NA                   NA                          \n",
       "5 0             ⋯  NA                   NA                          \n",
       "6 1             ⋯ 570                    3                          \n",
       "  SphPWVSecondM_PP_DEVIATION SphPWVSecondM_PP_MDT SphPWVSecondM_PWV\n",
       "1     NA                           NA                   NA         \n",
       "2     NA                           NA                   NA         \n",
       "3     NA                           NA                   NA         \n",
       "4     NA                           NA                   NA         \n",
       "5     NA                           NA                   NA         \n",
       "6 4.0651                     62.90355             7.708743         \n",
       "  SphPWVSecondM_PWVERR SphPWVSecondM_PWV_DIST SphPWVSecondM_PX_DIST\n",
       "1        NA             NA                    NA                   \n",
       "2        NA             NA                    NA                   \n",
       "3        NA             NA                    NA                   \n",
       "4        NA             NA                    NA                   \n",
       "5        NA             NA                    NA                   \n",
       "6 0.5383492            480                    90                   \n",
       "  SphPWVSecondM_SP SphPWVSecondM_date\n",
       "1  NA              <NA>              \n",
       "2  NA              <NA>              \n",
       "3  NA              <NA>              \n",
       "4  NA              <NA>              \n",
       "5  NA              <NA>              \n",
       "6 106              2015-12-01        "
      ]
     },
     "metadata": {},
     "output_type": "display_data"
    }
   ],
   "source": [
    "head(full_db)"
   ]
  },
  {
   "cell_type": "markdown",
   "metadata": {},
   "source": [
    "# Get the trait names for the OLD SphygmoCor machine\n",
    "\n",
    "Grab all the column names starting with the prefix \"SphfirstM_\""
   ]
  },
  {
   "cell_type": "code",
   "execution_count": 5,
   "metadata": {
    "ExecuteTime": {
     "end_time": "2017-10-18T20:47:19.621328Z",
     "start_time": "2017-10-18T20:47:17.361Z"
    }
   },
   "outputs": [],
   "source": [
    "library(stringr)"
   ]
  },
  {
   "cell_type": "code",
   "execution_count": 6,
   "metadata": {
    "ExecuteTime": {
     "end_time": "2017-10-18T20:47:19.632363Z",
     "start_time": "2017-10-18T20:47:17.365Z"
    }
   },
   "outputs": [],
   "source": [
    "old_names <- sort( str_subset( names(full_db), \"SphfirstM_\" ) )"
   ]
  },
  {
   "cell_type": "code",
   "execution_count": 7,
   "metadata": {
    "ExecuteTime": {
     "end_time": "2017-10-18T20:47:19.648366Z",
     "start_time": "2017-10-18T20:47:17.367Z"
    }
   },
   "outputs": [
    {
     "data": {
      "text/html": [
       "<ol class=list-inline>\n",
       "\t<li>'SphfirstM_C_AGPH'</li>\n",
       "\t<li>'SphfirstM_C_AGPH_HR75'</li>\n",
       "\t<li>'SphfirstM_C_AI'</li>\n",
       "\t<li>'SphfirstM_C_AP'</li>\n",
       "\t<li>'SphfirstM_C_AP_HR75'</li>\n",
       "\t<li>'SphfirstM_C_DD'</li>\n",
       "</ol>\n"
      ],
      "text/latex": [
       "\\begin{enumerate*}\n",
       "\\item 'SphfirstM\\_C\\_AGPH'\n",
       "\\item 'SphfirstM\\_C\\_AGPH\\_HR75'\n",
       "\\item 'SphfirstM\\_C\\_AI'\n",
       "\\item 'SphfirstM\\_C\\_AP'\n",
       "\\item 'SphfirstM\\_C\\_AP\\_HR75'\n",
       "\\item 'SphfirstM\\_C\\_DD'\n",
       "\\end{enumerate*}\n"
      ],
      "text/markdown": [
       "1. 'SphfirstM_C_AGPH'\n",
       "2. 'SphfirstM_C_AGPH_HR75'\n",
       "3. 'SphfirstM_C_AI'\n",
       "4. 'SphfirstM_C_AP'\n",
       "5. 'SphfirstM_C_AP_HR75'\n",
       "6. 'SphfirstM_C_DD'\n",
       "\n",
       "\n"
      ],
      "text/plain": [
       "[1] \"SphfirstM_C_AGPH\"      \"SphfirstM_C_AGPH_HR75\" \"SphfirstM_C_AI\"       \n",
       "[4] \"SphfirstM_C_AP\"        \"SphfirstM_C_AP_HR75\"   \"SphfirstM_C_DD\"       "
      ]
     },
     "metadata": {},
     "output_type": "display_data"
    }
   ],
   "source": [
    "head(old_names)"
   ]
  },
  {
   "cell_type": "markdown",
   "metadata": {},
   "source": [
    "Drop the prefix \"SphfirstM_\" from the variable name by taking the substring 11 characters from the beginning of the name."
   ]
  },
  {
   "cell_type": "code",
   "execution_count": 8,
   "metadata": {
    "ExecuteTime": {
     "end_time": "2017-10-18T20:47:19.665757Z",
     "start_time": "2017-10-18T20:47:17.368Z"
    }
   },
   "outputs": [],
   "source": [
    "old_names <- sort( sapply( old_names, function(x) str_sub( x, 11), USE.NAMES=F ) )"
   ]
  },
  {
   "cell_type": "code",
   "execution_count": 9,
   "metadata": {
    "ExecuteTime": {
     "end_time": "2017-10-18T20:47:19.684220Z",
     "start_time": "2017-10-18T20:47:17.370Z"
    }
   },
   "outputs": [
    {
     "data": {
      "text/html": [
       "<ol class=list-inline>\n",
       "\t<li>'C_AGPH'</li>\n",
       "\t<li>'C_AGPH_HR75'</li>\n",
       "\t<li>'C_AI'</li>\n",
       "\t<li>'C_AP'</li>\n",
       "\t<li>'C_AP_HR75'</li>\n",
       "\t<li>'C_DD'</li>\n",
       "</ol>\n"
      ],
      "text/latex": [
       "\\begin{enumerate*}\n",
       "\\item 'C\\_AGPH'\n",
       "\\item 'C\\_AGPH\\_HR75'\n",
       "\\item 'C\\_AI'\n",
       "\\item 'C\\_AP'\n",
       "\\item 'C\\_AP\\_HR75'\n",
       "\\item 'C\\_DD'\n",
       "\\end{enumerate*}\n"
      ],
      "text/markdown": [
       "1. 'C_AGPH'\n",
       "2. 'C_AGPH_HR75'\n",
       "3. 'C_AI'\n",
       "4. 'C_AP'\n",
       "5. 'C_AP_HR75'\n",
       "6. 'C_DD'\n",
       "\n",
       "\n"
      ],
      "text/plain": [
       "[1] \"C_AGPH\"      \"C_AGPH_HR75\" \"C_AI\"        \"C_AP\"        \"C_AP_HR75\"  \n",
       "[6] \"C_DD\"       "
      ]
     },
     "metadata": {},
     "output_type": "display_data"
    }
   ],
   "source": [
    "head( old_names )"
   ]
  },
  {
   "cell_type": "markdown",
   "metadata": {},
   "source": [
    "# Get the trait names for the NEW SphygmoCor machine\n",
    "\n",
    "Grab all the column names starting with the prefix \"SphfirstM_\""
   ]
  },
  {
   "cell_type": "code",
   "execution_count": 10,
   "metadata": {
    "ExecuteTime": {
     "end_time": "2017-10-18T20:47:19.696138Z",
     "start_time": "2017-10-18T20:47:17.372Z"
    }
   },
   "outputs": [],
   "source": [
    "new_names <- sort( str_subset( names(full_db), \"SphPWAFirstM_\" ) )"
   ]
  },
  {
   "cell_type": "code",
   "execution_count": 11,
   "metadata": {
    "ExecuteTime": {
     "end_time": "2017-10-18T20:47:19.712043Z",
     "start_time": "2017-10-18T20:47:17.374Z"
    }
   },
   "outputs": [
    {
     "data": {
      "text/html": [
       "54"
      ],
      "text/latex": [
       "54"
      ],
      "text/markdown": [
       "54"
      ],
      "text/plain": [
       "[1] 54"
      ]
     },
     "metadata": {},
     "output_type": "display_data"
    }
   ],
   "source": [
    "length( new_names )"
   ]
  },
  {
   "cell_type": "code",
   "execution_count": 12,
   "metadata": {
    "ExecuteTime": {
     "end_time": "2017-10-18T20:47:19.728650Z",
     "start_time": "2017-10-18T20:47:17.376Z"
    }
   },
   "outputs": [
    {
     "data": {
      "text/html": [
       "<ol class=list-inline>\n",
       "\t<li>'SphPWAFirstM_C_AGPH'</li>\n",
       "\t<li>'SphPWAFirstM_C_AI'</li>\n",
       "\t<li>'SphPWAFirstM_C_AL'</li>\n",
       "\t<li>'SphPWAFirstM_C_AP'</li>\n",
       "\t<li>'SphPWAFirstM_C_ATI'</li>\n",
       "\t<li>'SphPWAFirstM_C_DD'</li>\n",
       "</ol>\n"
      ],
      "text/latex": [
       "\\begin{enumerate*}\n",
       "\\item 'SphPWAFirstM\\_C\\_AGPH'\n",
       "\\item 'SphPWAFirstM\\_C\\_AI'\n",
       "\\item 'SphPWAFirstM\\_C\\_AL'\n",
       "\\item 'SphPWAFirstM\\_C\\_AP'\n",
       "\\item 'SphPWAFirstM\\_C\\_ATI'\n",
       "\\item 'SphPWAFirstM\\_C\\_DD'\n",
       "\\end{enumerate*}\n"
      ],
      "text/markdown": [
       "1. 'SphPWAFirstM_C_AGPH'\n",
       "2. 'SphPWAFirstM_C_AI'\n",
       "3. 'SphPWAFirstM_C_AL'\n",
       "4. 'SphPWAFirstM_C_AP'\n",
       "5. 'SphPWAFirstM_C_ATI'\n",
       "6. 'SphPWAFirstM_C_DD'\n",
       "\n",
       "\n"
      ],
      "text/plain": [
       "[1] \"SphPWAFirstM_C_AGPH\" \"SphPWAFirstM_C_AI\"   \"SphPWAFirstM_C_AL\"  \n",
       "[4] \"SphPWAFirstM_C_AP\"   \"SphPWAFirstM_C_ATI\"  \"SphPWAFirstM_C_DD\"  "
      ]
     },
     "metadata": {},
     "output_type": "display_data"
    }
   ],
   "source": [
    "head(new_names)"
   ]
  },
  {
   "cell_type": "code",
   "execution_count": 13,
   "metadata": {
    "ExecuteTime": {
     "end_time": "2017-10-18T20:47:19.745049Z",
     "start_time": "2017-10-18T20:47:17.377Z"
    }
   },
   "outputs": [],
   "source": [
    "new_names <- sort( sapply( new_names, function(x) str_sub( x, 14), USE.NAMES=F ) )"
   ]
  },
  {
   "cell_type": "code",
   "execution_count": 14,
   "metadata": {
    "ExecuteTime": {
     "end_time": "2017-10-18T20:47:19.761165Z",
     "start_time": "2017-10-18T20:47:17.379Z"
    }
   },
   "outputs": [
    {
     "data": {
      "text/html": [
       "<ol class=list-inline>\n",
       "\t<li>'C_AGPH'</li>\n",
       "\t<li>'C_AI'</li>\n",
       "\t<li>'C_AL'</li>\n",
       "\t<li>'C_AP'</li>\n",
       "\t<li>'C_ATI'</li>\n",
       "\t<li>'C_DD'</li>\n",
       "</ol>\n"
      ],
      "text/latex": [
       "\\begin{enumerate*}\n",
       "\\item 'C\\_AGPH'\n",
       "\\item 'C\\_AI'\n",
       "\\item 'C\\_AL'\n",
       "\\item 'C\\_AP'\n",
       "\\item 'C\\_ATI'\n",
       "\\item 'C\\_DD'\n",
       "\\end{enumerate*}\n"
      ],
      "text/markdown": [
       "1. 'C_AGPH'\n",
       "2. 'C_AI'\n",
       "3. 'C_AL'\n",
       "4. 'C_AP'\n",
       "5. 'C_ATI'\n",
       "6. 'C_DD'\n",
       "\n",
       "\n"
      ],
      "text/plain": [
       "[1] \"C_AGPH\" \"C_AI\"   \"C_AL\"   \"C_AP\"   \"C_ATI\"  \"C_DD\"  "
      ]
     },
     "metadata": {},
     "output_type": "display_data"
    }
   ],
   "source": [
    "head( new_names )"
   ]
  },
  {
   "cell_type": "markdown",
   "metadata": {},
   "source": [
    "# Get the intersection of traits names measured by BOTH new and old machines"
   ]
  },
  {
   "cell_type": "code",
   "execution_count": 15,
   "metadata": {
    "ExecuteTime": {
     "end_time": "2017-10-18T20:47:19.774086Z",
     "start_time": "2017-10-18T20:47:17.380Z"
    }
   },
   "outputs": [],
   "source": [
    "intersection <- sort( intersect( new_names, old_names ) )"
   ]
  },
  {
   "cell_type": "code",
   "execution_count": 16,
   "metadata": {
    "ExecuteTime": {
     "end_time": "2017-10-18T20:47:19.790493Z",
     "start_time": "2017-10-18T20:47:17.382Z"
    }
   },
   "outputs": [
    {
     "data": {
      "text/html": [
       "<ol class=list-inline>\n",
       "\t<li>'C_AGPH'</li>\n",
       "\t<li>'C_AI'</li>\n",
       "\t<li>'C_AP'</li>\n",
       "\t<li>'C_DD'</li>\n",
       "\t<li>'C_DD_PERIOD'</li>\n",
       "\t<li>'C_DP'</li>\n",
       "\t<li>'C_DTI'</li>\n",
       "\t<li>'C_ED_PERIOD'</li>\n",
       "\t<li>'C_ESP'</li>\n",
       "\t<li>'C_MEANP'</li>\n",
       "\t<li>'C_P1'</li>\n",
       "\t<li>'C_P1_HEIGHT'</li>\n",
       "\t<li>'C_P2'</li>\n",
       "\t<li>'C_PERIOD'</li>\n",
       "\t<li>'C_PH'</li>\n",
       "\t<li>'C_SP'</li>\n",
       "\t<li>'C_SVI'</li>\n",
       "\t<li>'C_T1'</li>\n",
       "\t<li>'C_T1ED'</li>\n",
       "\t<li>'C_T2'</li>\n",
       "\t<li>'C_T2ED'</li>\n",
       "\t<li>'C_TTI'</li>\n",
       "\t<li>'DP'</li>\n",
       "\t<li>'ED'</li>\n",
       "\t<li>'HR'</li>\n",
       "\t<li>'P_AI'</li>\n",
       "\t<li>'P_DP'</li>\n",
       "\t<li>'P_ESP'</li>\n",
       "\t<li>'P_MAX_DPDT'</li>\n",
       "\t<li>'P_MEANP'</li>\n",
       "\t<li>'P_P1'</li>\n",
       "\t<li>'P_P2'</li>\n",
       "\t<li>'P_SP'</li>\n",
       "\t<li>'P_T1'</li>\n",
       "\t<li>'P_T1ED'</li>\n",
       "\t<li>'P_T2'</li>\n",
       "\t<li>'P_T2ED'</li>\n",
       "\t<li>'QUALITY_ED'</li>\n",
       "\t<li>'SP'</li>\n",
       "</ol>\n"
      ],
      "text/latex": [
       "\\begin{enumerate*}\n",
       "\\item 'C\\_AGPH'\n",
       "\\item 'C\\_AI'\n",
       "\\item 'C\\_AP'\n",
       "\\item 'C\\_DD'\n",
       "\\item 'C\\_DD\\_PERIOD'\n",
       "\\item 'C\\_DP'\n",
       "\\item 'C\\_DTI'\n",
       "\\item 'C\\_ED\\_PERIOD'\n",
       "\\item 'C\\_ESP'\n",
       "\\item 'C\\_MEANP'\n",
       "\\item 'C\\_P1'\n",
       "\\item 'C\\_P1\\_HEIGHT'\n",
       "\\item 'C\\_P2'\n",
       "\\item 'C\\_PERIOD'\n",
       "\\item 'C\\_PH'\n",
       "\\item 'C\\_SP'\n",
       "\\item 'C\\_SVI'\n",
       "\\item 'C\\_T1'\n",
       "\\item 'C\\_T1ED'\n",
       "\\item 'C\\_T2'\n",
       "\\item 'C\\_T2ED'\n",
       "\\item 'C\\_TTI'\n",
       "\\item 'DP'\n",
       "\\item 'ED'\n",
       "\\item 'HR'\n",
       "\\item 'P\\_AI'\n",
       "\\item 'P\\_DP'\n",
       "\\item 'P\\_ESP'\n",
       "\\item 'P\\_MAX\\_DPDT'\n",
       "\\item 'P\\_MEANP'\n",
       "\\item 'P\\_P1'\n",
       "\\item 'P\\_P2'\n",
       "\\item 'P\\_SP'\n",
       "\\item 'P\\_T1'\n",
       "\\item 'P\\_T1ED'\n",
       "\\item 'P\\_T2'\n",
       "\\item 'P\\_T2ED'\n",
       "\\item 'QUALITY\\_ED'\n",
       "\\item 'SP'\n",
       "\\end{enumerate*}\n"
      ],
      "text/markdown": [
       "1. 'C_AGPH'\n",
       "2. 'C_AI'\n",
       "3. 'C_AP'\n",
       "4. 'C_DD'\n",
       "5. 'C_DD_PERIOD'\n",
       "6. 'C_DP'\n",
       "7. 'C_DTI'\n",
       "8. 'C_ED_PERIOD'\n",
       "9. 'C_ESP'\n",
       "10. 'C_MEANP'\n",
       "11. 'C_P1'\n",
       "12. 'C_P1_HEIGHT'\n",
       "13. 'C_P2'\n",
       "14. 'C_PERIOD'\n",
       "15. 'C_PH'\n",
       "16. 'C_SP'\n",
       "17. 'C_SVI'\n",
       "18. 'C_T1'\n",
       "19. 'C_T1ED'\n",
       "20. 'C_T2'\n",
       "21. 'C_T2ED'\n",
       "22. 'C_TTI'\n",
       "23. 'DP'\n",
       "24. 'ED'\n",
       "25. 'HR'\n",
       "26. 'P_AI'\n",
       "27. 'P_DP'\n",
       "28. 'P_ESP'\n",
       "29. 'P_MAX_DPDT'\n",
       "30. 'P_MEANP'\n",
       "31. 'P_P1'\n",
       "32. 'P_P2'\n",
       "33. 'P_SP'\n",
       "34. 'P_T1'\n",
       "35. 'P_T1ED'\n",
       "36. 'P_T2'\n",
       "37. 'P_T2ED'\n",
       "38. 'QUALITY_ED'\n",
       "39. 'SP'\n",
       "\n",
       "\n"
      ],
      "text/plain": [
       " [1] \"C_AGPH\"      \"C_AI\"        \"C_AP\"        \"C_DD\"        \"C_DD_PERIOD\"\n",
       " [6] \"C_DP\"        \"C_DTI\"       \"C_ED_PERIOD\" \"C_ESP\"       \"C_MEANP\"    \n",
       "[11] \"C_P1\"        \"C_P1_HEIGHT\" \"C_P2\"        \"C_PERIOD\"    \"C_PH\"       \n",
       "[16] \"C_SP\"        \"C_SVI\"       \"C_T1\"        \"C_T1ED\"      \"C_T2\"       \n",
       "[21] \"C_T2ED\"      \"C_TTI\"       \"DP\"          \"ED\"          \"HR\"         \n",
       "[26] \"P_AI\"        \"P_DP\"        \"P_ESP\"       \"P_MAX_DPDT\"  \"P_MEANP\"    \n",
       "[31] \"P_P1\"        \"P_P2\"        \"P_SP\"        \"P_T1\"        \"P_T1ED\"     \n",
       "[36] \"P_T2\"        \"P_T2ED\"      \"QUALITY_ED\"  \"SP\"         "
      ]
     },
     "metadata": {},
     "output_type": "display_data"
    }
   ],
   "source": [
    "intersection"
   ]
  },
  {
   "cell_type": "markdown",
   "metadata": {},
   "source": [
    "# For each trait, do a pairwise t-test"
   ]
  },
  {
   "cell_type": "code",
   "execution_count": 17,
   "metadata": {
    "ExecuteTime": {
     "end_time": "2017-10-18T20:47:19.953511Z",
     "start_time": "2017-10-18T20:47:17.384Z"
    }
   },
   "outputs": [
    {
     "name": "stderr",
     "output_type": "stream",
     "text": [
      "\n",
      "Attaching package: ‘dplyr’\n",
      "\n",
      "The following objects are masked from ‘package:stats’:\n",
      "\n",
      "    filter, lag\n",
      "\n",
      "The following objects are masked from ‘package:base’:\n",
      "\n",
      "    intersect, setdiff, setequal, union\n",
      "\n"
     ]
    }
   ],
   "source": [
    "library(tidyr)\n",
    "library(dplyr)"
   ]
  },
  {
   "cell_type": "code",
   "execution_count": 18,
   "metadata": {
    "ExecuteTime": {
     "end_time": "2017-10-18T20:47:22.827007Z",
     "start_time": "2017-10-18T20:47:17.386Z"
    }
   },
   "outputs": [],
   "source": [
    "n_vars <- length(intersection)\n",
    "# initialize empty results table\n",
    "results <- tibble( name=intersection,\n",
    "                   n_obs=rep(NA_integer_, n_vars), #n_obs=rep(NA_integer_, n_vars),\n",
    "                   old_mean=rep('', n_vars),       #old_mean=rep(NA_real_, n_vars),\n",
    "                   new_mean=rep('', n_vars),       #new_mean=rep(NA_real_, n_vars),\n",
    "                   diff=rep('', n_vars),           #diff=rep(NA_real_, n_vars),\n",
    "                   old_std=rep('', n_vars),        #old_std=rep(NA_real_, n_vars),\n",
    "                   new_std=rep('', n_vars),        \n",
    "                   p_value=rep('', n_vars),\n",
    "                 )\n",
    "for( name in intersection ){\n",
    "    old_col_name <- paste0( 'SphfirstM_', name )\n",
    "    new_col_name <- paste0( 'SphPWAFirstM_', name )\n",
    "    subset <- full_db %>% select( id_individual, old_col_name, new_col_name ) %>% drop_na()\n",
    "    old <- subset[[old_col_name]]\n",
    "    new <- subset[[new_col_name]]\n",
    "    test_result <- t.test( old, new, paired=T )\n",
    "    results[ results$name == name, -1] <- c( \n",
    "        length(old),\n",
    "        sprintf( \"%0.1f\", mean(old) ), \n",
    "        sprintf( \"%0.1f\", mean(new) ), \n",
    "        sprintf( \"%0.1f\", test_result$estimate ), \n",
    "        sprintf( \"%0.1f\", sd(old) ),\n",
    "        sprintf( \"%0.1f\", sd(new) ), \n",
    "        sprintf( \"%0.3f\", test_result$p.value ) )\n",
    "}"
   ]
  },
  {
   "cell_type": "markdown",
   "metadata": {},
   "source": [
    "# Results"
   ]
  },
  {
   "cell_type": "code",
   "execution_count": 19,
   "metadata": {
    "ExecuteTime": {
     "end_time": "2017-10-18T20:47:22.898382Z",
     "start_time": "2017-10-18T20:47:17.391Z"
    }
   },
   "outputs": [
    {
     "data": {
      "text/html": [
       "<table>\n",
       "<thead><tr><th scope=col>name</th><th scope=col>n_obs</th><th scope=col>old_mean</th><th scope=col>new_mean</th><th scope=col>diff</th><th scope=col>old_std</th><th scope=col>new_std</th><th scope=col>p_value</th></tr></thead>\n",
       "<tbody>\n",
       "\t<tr><td>C_AGPH     </td><td>73         </td><td>23.9       </td><td>26.0       </td><td>-2.2       </td><td>13.8       </td><td>14.7       </td><td>0.022      </td></tr>\n",
       "\t<tr><td>C_AI       </td><td>73         </td><td>136.0      </td><td>141.9      </td><td>-5.9       </td><td>26.5       </td><td>31.5       </td><td>0.017      </td></tr>\n",
       "\t<tr><td>C_AP       </td><td>73         </td><td>8.3        </td><td>10.4       </td><td>-2.1       </td><td>6.0        </td><td>7.8        </td><td>0.000      </td></tr>\n",
       "\t<tr><td>C_DD       </td><td>73         </td><td>574.9      </td><td>599.2      </td><td>-24.4      </td><td>127.0      </td><td>132.7      </td><td>0.042      </td></tr>\n",
       "\t<tr><td>C_DD_PERIOD</td><td>73         </td><td>63.8       </td><td>64.3       </td><td>-0.5       </td><td>4.1        </td><td>3.8        </td><td>0.195      </td></tr>\n",
       "\t<tr><td>C_DP       </td><td>73         </td><td>74.0       </td><td>77.6       </td><td>-3.7       </td><td>10.1       </td><td>11.2       </td><td>0.002      </td></tr>\n",
       "\t<tr><td>C_DTI      </td><td>73         </td><td>3211.4     </td><td>3403.9     </td><td>-192.5     </td><td>504.9      </td><td>533.1      </td><td>0.000      </td></tr>\n",
       "\t<tr><td>C_ED_PERIOD</td><td>73         </td><td>36.2       </td><td>35.7       </td><td>0.5        </td><td>4.2        </td><td>3.8        </td><td>0.162      </td></tr>\n",
       "\t<tr><td>C_ESP      </td><td>73         </td><td>98.1       </td><td>104.5      </td><td>-6.4       </td><td>14.5       </td><td>15.9       </td><td>0.000      </td></tr>\n",
       "\t<tr><td>C_MEANP    </td><td>73         </td><td>88.8       </td><td>93.7       </td><td>-5.0       </td><td>12.0       </td><td>12.8       </td><td>0.000      </td></tr>\n",
       "\t<tr><td>C_P1       </td><td>73         </td><td>98.4       </td><td>103.9      </td><td>-5.5       </td><td>13.3       </td><td>13.8       </td><td>0.000      </td></tr>\n",
       "\t<tr><td>C_P1_HEIGHT</td><td>73         </td><td>24.4       </td><td>26.2       </td><td>-1.8       </td><td>6.0        </td><td>6.3        </td><td>0.013      </td></tr>\n",
       "\t<tr><td>C_P2       </td><td>73         </td><td>106.7      </td><td>114.3      </td><td>-7.6       </td><td>15.8       </td><td>17.4       </td><td>0.000      </td></tr>\n",
       "\t<tr><td>C_PERIOD   </td><td>73         </td><td>892.4      </td><td>923.6      </td><td>-31.2      </td><td>141.4      </td><td>152.8      </td><td>0.025      </td></tr>\n",
       "\t<tr><td>C_PH       </td><td>73         </td><td>32.8       </td><td>36.7       </td><td>-3.9       </td><td>8.7        </td><td>10.5       </td><td>0.000      </td></tr>\n",
       "\t<tr><td>C_SP       </td><td>73         </td><td>106.7      </td><td>114.3      </td><td>-7.6       </td><td>15.9       </td><td>17.3       </td><td>0.000      </td></tr>\n",
       "\t<tr><td>C_SVI      </td><td>73         </td><td>154.9      </td><td>155.9      </td><td>-0.9       </td><td>29.3       </td><td>27.3       </td><td>0.728      </td></tr>\n",
       "\t<tr><td>C_T1       </td><td>73         </td><td>108.2      </td><td>108.1      </td><td>0.1        </td><td>10.6       </td><td>12.5       </td><td>0.936      </td></tr>\n",
       "\t<tr><td>C_T1ED     </td><td>73         </td><td>34.3       </td><td>33.5       </td><td>0.8        </td><td>4.0        </td><td>4.0        </td><td>0.085      </td></tr>\n",
       "\t<tr><td>C_T2       </td><td>73         </td><td>225.9      </td><td>229.8      </td><td>-3.8       </td><td>25.0       </td><td>26.9       </td><td>0.156      </td></tr>\n",
       "\t<tr><td>C_T2ED     </td><td>73         </td><td>71.1       </td><td>70.7       </td><td>0.4        </td><td>4.8        </td><td>4.3        </td><td>0.454      </td></tr>\n",
       "\t<tr><td>C_TTI      </td><td>73         </td><td>2114.0     </td><td>2220.0     </td><td>-105.9     </td><td>361.7      </td><td>359.4      </td><td>0.001      </td></tr>\n",
       "\t<tr><td>DP         </td><td>73         </td><td>72.8       </td><td>76.6       </td><td>-3.8       </td><td>10.0       </td><td>11.1       </td><td>0.002      </td></tr>\n",
       "\t<tr><td>ED         </td><td>73         </td><td>317.5      </td><td>324.3      </td><td>-6.8       </td><td>22.1       </td><td>26.7       </td><td>0.010      </td></tr>\n",
       "\t<tr><td>HR         </td><td>73         </td><td>68.8       </td><td>66.7       </td><td>2.1        </td><td>10.6       </td><td>10.7       </td><td>0.036      </td></tr>\n",
       "\t<tr><td>P_AI       </td><td>73         </td><td>78.7       </td><td>82.8       </td><td>-4.1       </td><td>20.7       </td><td>26.8       </td><td>0.069      </td></tr>\n",
       "\t<tr><td>P_DP       </td><td>73         </td><td>72.8       </td><td>76.6       </td><td>-3.8       </td><td>10.0       </td><td>11.1       </td><td>0.002      </td></tr>\n",
       "\t<tr><td>P_ESP      </td><td>73         </td><td>90.5       </td><td>96.1       </td><td>-5.6       </td><td>13.3       </td><td>14.7       </td><td>0.000      </td></tr>\n",
       "\t<tr><td>P_MAX_DPDT </td><td>73         </td><td>652.0      </td><td>688.2      </td><td>-36.2      </td><td>173.6      </td><td>189.4      </td><td>0.087      </td></tr>\n",
       "\t<tr><td>P_MEANP    </td><td>73         </td><td>88.8       </td><td>93.7       </td><td>-5.0       </td><td>12.0       </td><td>12.8       </td><td>0.000      </td></tr>\n",
       "\t<tr><td>P_P1       </td><td>73         </td><td>115.9      </td><td>122.5      </td><td>-6.6       </td><td>16.6       </td><td>17.1       </td><td>0.000      </td></tr>\n",
       "\t<tr><td>P_P2       </td><td>73         </td><td>106.1      </td><td>114.0      </td><td>-7.9       </td><td>17.2       </td><td>19.1       </td><td>0.000      </td></tr>\n",
       "\t<tr><td>P_SP       </td><td>73         </td><td>116.6      </td><td>124.0      </td><td>-7.4       </td><td>16.5       </td><td>17.4       </td><td>0.000      </td></tr>\n",
       "\t<tr><td>P_T1       </td><td>73         </td><td>108.3      </td><td>109.8      </td><td>-1.4       </td><td>11.5       </td><td>14.5       </td><td>0.396      </td></tr>\n",
       "\t<tr><td>P_T1ED     </td><td>73         </td><td>34.2       </td><td>34.0       </td><td>0.2        </td><td>3.5        </td><td>4.5        </td><td>0.643      </td></tr>\n",
       "\t<tr><td>P_T2       </td><td>73         </td><td>215.5      </td><td>218.2      </td><td>-2.7       </td><td>24.7       </td><td>20.4       </td><td>0.334      </td></tr>\n",
       "\t<tr><td>P_T2ED     </td><td>73         </td><td>67.9       </td><td>67.4       </td><td>0.5        </td><td>5.8        </td><td>4.9        </td><td>0.447      </td></tr>\n",
       "\t<tr><td>QUALITY_ED </td><td>73         </td><td>0.0        </td><td>0.0        </td><td>-0.0       </td><td>0.0        </td><td>0.1        </td><td>0.321      </td></tr>\n",
       "\t<tr><td>SP         </td><td>73         </td><td>116.6      </td><td>124.0      </td><td>-7.4       </td><td>16.5       </td><td>17.4       </td><td>0.000      </td></tr>\n",
       "</tbody>\n",
       "</table>\n"
      ],
      "text/latex": [
       "\\begin{tabular}{r|llllllll}\n",
       " name & n\\_obs & old\\_mean & new\\_mean & diff & old\\_std & new\\_std & p\\_value\\\\\n",
       "\\hline\n",
       "\t C\\_AGPH      & 73            & 23.9          & 26.0          & -2.2          & 13.8          & 14.7          & 0.022        \\\\\n",
       "\t C\\_AI        & 73            & 136.0         & 141.9         & -5.9          & 26.5          & 31.5          & 0.017        \\\\\n",
       "\t C\\_AP        & 73            & 8.3           & 10.4          & -2.1          & 6.0           & 7.8           & 0.000        \\\\\n",
       "\t C\\_DD        & 73            & 574.9         & 599.2         & -24.4         & 127.0         & 132.7         & 0.042        \\\\\n",
       "\t C\\_DD\\_PERIOD & 73              & 63.8            & 64.3            & -0.5            & 4.1             & 3.8             & 0.195          \\\\\n",
       "\t C\\_DP        & 73            & 74.0          & 77.6          & -3.7          & 10.1          & 11.2          & 0.002        \\\\\n",
       "\t C\\_DTI       & 73            & 3211.4        & 3403.9        & -192.5        & 504.9         & 533.1         & 0.000        \\\\\n",
       "\t C\\_ED\\_PERIOD & 73              & 36.2            & 35.7            & 0.5             & 4.2             & 3.8             & 0.162          \\\\\n",
       "\t C\\_ESP       & 73            & 98.1          & 104.5         & -6.4          & 14.5          & 15.9          & 0.000        \\\\\n",
       "\t C\\_MEANP     & 73            & 88.8          & 93.7          & -5.0          & 12.0          & 12.8          & 0.000        \\\\\n",
       "\t C\\_P1        & 73            & 98.4          & 103.9         & -5.5          & 13.3          & 13.8          & 0.000        \\\\\n",
       "\t C\\_P1\\_HEIGHT & 73              & 24.4            & 26.2            & -1.8            & 6.0             & 6.3             & 0.013          \\\\\n",
       "\t C\\_P2        & 73            & 106.7         & 114.3         & -7.6          & 15.8          & 17.4          & 0.000        \\\\\n",
       "\t C\\_PERIOD    & 73            & 892.4         & 923.6         & -31.2         & 141.4         & 152.8         & 0.025        \\\\\n",
       "\t C\\_PH        & 73            & 32.8          & 36.7          & -3.9          & 8.7           & 10.5          & 0.000        \\\\\n",
       "\t C\\_SP        & 73            & 106.7         & 114.3         & -7.6          & 15.9          & 17.3          & 0.000        \\\\\n",
       "\t C\\_SVI       & 73            & 154.9         & 155.9         & -0.9          & 29.3          & 27.3          & 0.728        \\\\\n",
       "\t C\\_T1        & 73            & 108.2         & 108.1         & 0.1           & 10.6          & 12.5          & 0.936        \\\\\n",
       "\t C\\_T1ED      & 73            & 34.3          & 33.5          & 0.8           & 4.0           & 4.0           & 0.085        \\\\\n",
       "\t C\\_T2        & 73            & 225.9         & 229.8         & -3.8          & 25.0          & 26.9          & 0.156        \\\\\n",
       "\t C\\_T2ED      & 73            & 71.1          & 70.7          & 0.4           & 4.8           & 4.3           & 0.454        \\\\\n",
       "\t C\\_TTI       & 73            & 2114.0        & 2220.0        & -105.9        & 361.7         & 359.4         & 0.001        \\\\\n",
       "\t DP          & 73          & 72.8        & 76.6        & -3.8        & 10.0        & 11.1        & 0.002      \\\\\n",
       "\t ED          & 73          & 317.5       & 324.3       & -6.8        & 22.1        & 26.7        & 0.010      \\\\\n",
       "\t HR          & 73          & 68.8        & 66.7        & 2.1         & 10.6        & 10.7        & 0.036      \\\\\n",
       "\t P\\_AI        & 73            & 78.7          & 82.8          & -4.1          & 20.7          & 26.8          & 0.069        \\\\\n",
       "\t P\\_DP        & 73            & 72.8          & 76.6          & -3.8          & 10.0          & 11.1          & 0.002        \\\\\n",
       "\t P\\_ESP       & 73            & 90.5          & 96.1          & -5.6          & 13.3          & 14.7          & 0.000        \\\\\n",
       "\t P\\_MAX\\_DPDT  & 73              & 652.0           & 688.2           & -36.2           & 173.6           & 189.4           & 0.087          \\\\\n",
       "\t P\\_MEANP     & 73            & 88.8          & 93.7          & -5.0          & 12.0          & 12.8          & 0.000        \\\\\n",
       "\t P\\_P1        & 73            & 115.9         & 122.5         & -6.6          & 16.6          & 17.1          & 0.000        \\\\\n",
       "\t P\\_P2        & 73            & 106.1         & 114.0         & -7.9          & 17.2          & 19.1          & 0.000        \\\\\n",
       "\t P\\_SP        & 73            & 116.6         & 124.0         & -7.4          & 16.5          & 17.4          & 0.000        \\\\\n",
       "\t P\\_T1        & 73            & 108.3         & 109.8         & -1.4          & 11.5          & 14.5          & 0.396        \\\\\n",
       "\t P\\_T1ED      & 73            & 34.2          & 34.0          & 0.2           & 3.5           & 4.5           & 0.643        \\\\\n",
       "\t P\\_T2        & 73            & 215.5         & 218.2         & -2.7          & 24.7          & 20.4          & 0.334        \\\\\n",
       "\t P\\_T2ED      & 73            & 67.9          & 67.4          & 0.5           & 5.8           & 4.9           & 0.447        \\\\\n",
       "\t QUALITY\\_ED  & 73            & 0.0           & 0.0           & -0.0          & 0.0           & 0.1           & 0.321        \\\\\n",
       "\t SP          & 73          & 116.6       & 124.0       & -7.4        & 16.5        & 17.4        & 0.000      \\\\\n",
       "\\end{tabular}\n"
      ],
      "text/markdown": [
       "\n",
       "name | n_obs | old_mean | new_mean | diff | old_std | new_std | p_value | \n",
       "|---|---|---|---|---|---|---|---|---|---|---|---|---|---|---|---|---|---|---|---|---|---|---|---|---|---|---|---|---|---|---|---|---|---|---|---|---|---|---|\n",
       "| C_AGPH      | 73          | 23.9        | 26.0        | -2.2        | 13.8        | 14.7        | 0.022       | \n",
       "| C_AI        | 73          | 136.0       | 141.9       | -5.9        | 26.5        | 31.5        | 0.017       | \n",
       "| C_AP        | 73          | 8.3         | 10.4        | -2.1        | 6.0         | 7.8         | 0.000       | \n",
       "| C_DD        | 73          | 574.9       | 599.2       | -24.4       | 127.0       | 132.7       | 0.042       | \n",
       "| C_DD_PERIOD | 73          | 63.8        | 64.3        | -0.5        | 4.1         | 3.8         | 0.195       | \n",
       "| C_DP        | 73          | 74.0        | 77.6        | -3.7        | 10.1        | 11.2        | 0.002       | \n",
       "| C_DTI       | 73          | 3211.4      | 3403.9      | -192.5      | 504.9       | 533.1       | 0.000       | \n",
       "| C_ED_PERIOD | 73          | 36.2        | 35.7        | 0.5         | 4.2         | 3.8         | 0.162       | \n",
       "| C_ESP       | 73          | 98.1        | 104.5       | -6.4        | 14.5        | 15.9        | 0.000       | \n",
       "| C_MEANP     | 73          | 88.8        | 93.7        | -5.0        | 12.0        | 12.8        | 0.000       | \n",
       "| C_P1        | 73          | 98.4        | 103.9       | -5.5        | 13.3        | 13.8        | 0.000       | \n",
       "| C_P1_HEIGHT | 73          | 24.4        | 26.2        | -1.8        | 6.0         | 6.3         | 0.013       | \n",
       "| C_P2        | 73          | 106.7       | 114.3       | -7.6        | 15.8        | 17.4        | 0.000       | \n",
       "| C_PERIOD    | 73          | 892.4       | 923.6       | -31.2       | 141.4       | 152.8       | 0.025       | \n",
       "| C_PH        | 73          | 32.8        | 36.7        | -3.9        | 8.7         | 10.5        | 0.000       | \n",
       "| C_SP        | 73          | 106.7       | 114.3       | -7.6        | 15.9        | 17.3        | 0.000       | \n",
       "| C_SVI       | 73          | 154.9       | 155.9       | -0.9        | 29.3        | 27.3        | 0.728       | \n",
       "| C_T1        | 73          | 108.2       | 108.1       | 0.1         | 10.6        | 12.5        | 0.936       | \n",
       "| C_T1ED      | 73          | 34.3        | 33.5        | 0.8         | 4.0         | 4.0         | 0.085       | \n",
       "| C_T2        | 73          | 225.9       | 229.8       | -3.8        | 25.0        | 26.9        | 0.156       | \n",
       "| C_T2ED      | 73          | 71.1        | 70.7        | 0.4         | 4.8         | 4.3         | 0.454       | \n",
       "| C_TTI       | 73          | 2114.0      | 2220.0      | -105.9      | 361.7       | 359.4       | 0.001       | \n",
       "| DP          | 73          | 72.8        | 76.6        | -3.8        | 10.0        | 11.1        | 0.002       | \n",
       "| ED          | 73          | 317.5       | 324.3       | -6.8        | 22.1        | 26.7        | 0.010       | \n",
       "| HR          | 73          | 68.8        | 66.7        | 2.1         | 10.6        | 10.7        | 0.036       | \n",
       "| P_AI        | 73          | 78.7        | 82.8        | -4.1        | 20.7        | 26.8        | 0.069       | \n",
       "| P_DP        | 73          | 72.8        | 76.6        | -3.8        | 10.0        | 11.1        | 0.002       | \n",
       "| P_ESP       | 73          | 90.5        | 96.1        | -5.6        | 13.3        | 14.7        | 0.000       | \n",
       "| P_MAX_DPDT  | 73          | 652.0       | 688.2       | -36.2       | 173.6       | 189.4       | 0.087       | \n",
       "| P_MEANP     | 73          | 88.8        | 93.7        | -5.0        | 12.0        | 12.8        | 0.000       | \n",
       "| P_P1        | 73          | 115.9       | 122.5       | -6.6        | 16.6        | 17.1        | 0.000       | \n",
       "| P_P2        | 73          | 106.1       | 114.0       | -7.9        | 17.2        | 19.1        | 0.000       | \n",
       "| P_SP        | 73          | 116.6       | 124.0       | -7.4        | 16.5        | 17.4        | 0.000       | \n",
       "| P_T1        | 73          | 108.3       | 109.8       | -1.4        | 11.5        | 14.5        | 0.396       | \n",
       "| P_T1ED      | 73          | 34.2        | 34.0        | 0.2         | 3.5         | 4.5         | 0.643       | \n",
       "| P_T2        | 73          | 215.5       | 218.2       | -2.7        | 24.7        | 20.4        | 0.334       | \n",
       "| P_T2ED      | 73          | 67.9        | 67.4        | 0.5         | 5.8         | 4.9         | 0.447       | \n",
       "| QUALITY_ED  | 73          | 0.0         | 0.0         | -0.0        | 0.0         | 0.1         | 0.321       | \n",
       "| SP          | 73          | 116.6       | 124.0       | -7.4        | 16.5        | 17.4        | 0.000       | \n",
       "\n",
       "\n"
      ],
      "text/plain": [
       "   name        n_obs old_mean new_mean diff   old_std new_std p_value\n",
       "1  C_AGPH      73    23.9     26.0     -2.2   13.8    14.7    0.022  \n",
       "2  C_AI        73    136.0    141.9    -5.9   26.5    31.5    0.017  \n",
       "3  C_AP        73    8.3      10.4     -2.1   6.0     7.8     0.000  \n",
       "4  C_DD        73    574.9    599.2    -24.4  127.0   132.7   0.042  \n",
       "5  C_DD_PERIOD 73    63.8     64.3     -0.5   4.1     3.8     0.195  \n",
       "6  C_DP        73    74.0     77.6     -3.7   10.1    11.2    0.002  \n",
       "7  C_DTI       73    3211.4   3403.9   -192.5 504.9   533.1   0.000  \n",
       "8  C_ED_PERIOD 73    36.2     35.7     0.5    4.2     3.8     0.162  \n",
       "9  C_ESP       73    98.1     104.5    -6.4   14.5    15.9    0.000  \n",
       "10 C_MEANP     73    88.8     93.7     -5.0   12.0    12.8    0.000  \n",
       "11 C_P1        73    98.4     103.9    -5.5   13.3    13.8    0.000  \n",
       "12 C_P1_HEIGHT 73    24.4     26.2     -1.8   6.0     6.3     0.013  \n",
       "13 C_P2        73    106.7    114.3    -7.6   15.8    17.4    0.000  \n",
       "14 C_PERIOD    73    892.4    923.6    -31.2  141.4   152.8   0.025  \n",
       "15 C_PH        73    32.8     36.7     -3.9   8.7     10.5    0.000  \n",
       "16 C_SP        73    106.7    114.3    -7.6   15.9    17.3    0.000  \n",
       "17 C_SVI       73    154.9    155.9    -0.9   29.3    27.3    0.728  \n",
       "18 C_T1        73    108.2    108.1    0.1    10.6    12.5    0.936  \n",
       "19 C_T1ED      73    34.3     33.5     0.8    4.0     4.0     0.085  \n",
       "20 C_T2        73    225.9    229.8    -3.8   25.0    26.9    0.156  \n",
       "21 C_T2ED      73    71.1     70.7     0.4    4.8     4.3     0.454  \n",
       "22 C_TTI       73    2114.0   2220.0   -105.9 361.7   359.4   0.001  \n",
       "23 DP          73    72.8     76.6     -3.8   10.0    11.1    0.002  \n",
       "24 ED          73    317.5    324.3    -6.8   22.1    26.7    0.010  \n",
       "25 HR          73    68.8     66.7     2.1    10.6    10.7    0.036  \n",
       "26 P_AI        73    78.7     82.8     -4.1   20.7    26.8    0.069  \n",
       "27 P_DP        73    72.8     76.6     -3.8   10.0    11.1    0.002  \n",
       "28 P_ESP       73    90.5     96.1     -5.6   13.3    14.7    0.000  \n",
       "29 P_MAX_DPDT  73    652.0    688.2    -36.2  173.6   189.4   0.087  \n",
       "30 P_MEANP     73    88.8     93.7     -5.0   12.0    12.8    0.000  \n",
       "31 P_P1        73    115.9    122.5    -6.6   16.6    17.1    0.000  \n",
       "32 P_P2        73    106.1    114.0    -7.9   17.2    19.1    0.000  \n",
       "33 P_SP        73    116.6    124.0    -7.4   16.5    17.4    0.000  \n",
       "34 P_T1        73    108.3    109.8    -1.4   11.5    14.5    0.396  \n",
       "35 P_T1ED      73    34.2     34.0     0.2    3.5     4.5     0.643  \n",
       "36 P_T2        73    215.5    218.2    -2.7   24.7    20.4    0.334  \n",
       "37 P_T2ED      73    67.9     67.4     0.5    5.8     4.9     0.447  \n",
       "38 QUALITY_ED  73    0.0      0.0      -0.0   0.0     0.1     0.321  \n",
       "39 SP          73    116.6    124.0    -7.4   16.5    17.4    0.000  "
      ]
     },
     "metadata": {},
     "output_type": "display_data"
    }
   ],
   "source": [
    "results"
   ]
  }
 ],
 "metadata": {
  "kernelspec": {
   "display_name": "R",
   "language": "R",
   "name": "ir"
  },
  "language_info": {
   "codemirror_mode": "r",
   "file_extension": ".r",
   "mimetype": "text/x-r-source",
   "name": "R",
   "pygments_lexer": "r",
   "version": "3.4.1"
  }
 },
 "nbformat": 4,
 "nbformat_minor": 2
}
