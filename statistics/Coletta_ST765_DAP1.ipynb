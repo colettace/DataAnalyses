{
 "cells": [
  {
   "cell_type": "markdown",
   "metadata": {},
   "source": [
    "# Comparing the SphygmoCor v8 and v9\n",
    "\n",
    "* 1821 participants measured by OLD (v8) machine TWICE\n",
    "* 786 participants measured by NEW (v9) machine TWICE\n",
    "    * 1656 participants measured by NEW (v9) machine at least ONCE\n",
    "* 73 partipicants measured by both NEW and OLD machine\n",
    "* Goal: Pairwise t-test among overlapping 73 participants to ascertain if machines are calibrated.\n",
    "\n",
    "# Load SardiNIA Database"
   ]
  },
  {
   "cell_type": "code",
   "execution_count": 1,
   "metadata": {
    "ExecuteTime": {
     "end_time": "2017-10-19T17:55:03.700432Z",
     "start_time": "2017-10-19T17:55:03.363Z"
    }
   },
   "outputs": [],
   "source": [
    "library(readr)"
   ]
  },
  {
   "cell_type": "code",
   "execution_count": 2,
   "metadata": {
    "ExecuteTime": {
     "end_time": "2017-10-19T17:55:05.183431Z",
     "start_time": "2017-10-19T17:55:03.366Z"
    }
   },
   "outputs": [
    {
     "name": "stderr",
     "output_type": "stream",
     "text": [
      "Parsed with column specification:\n",
      "cols(\n",
      "  .default = col_double(),\n",
      "  id_individual = col_integer(),\n",
      "  Wave = col_integer(),\n",
      "  FirstVisitDate = col_date(format = \"\"),\n",
      "  SecondVisitDate = col_date(format = \"\"),\n",
      "  ThirdVisitDate = col_date(format = \"\"),\n",
      "  FourthVisitDate = col_date(format = \"\"),\n",
      "  labsHbA1Cdx = col_character(),\n",
      "  labsG6PD = col_character(),\n",
      "  labsZnPP = col_character(),\n",
      "  labsBilirubinad = col_character(),\n",
      "  labsBilirubinat = col_character(),\n",
      "  labsSodiemia = col_character(),\n",
      "  labsPotassiemia = col_character(),\n",
      "  labsPCR = col_character(),\n",
      "  labsTie = col_character(),\n",
      "  disMIname = col_character(),\n",
      "  disMIwhen = col_date(format = \"\"),\n",
      "  disAPname = col_character(),\n",
      "  disAPwhen = col_date(format = \"\"),\n",
      "  disHFname = col_character()\n",
      "  # ... with 192 more columns\n",
      ")\n",
      "See spec(...) for full column specifications.\n"
     ]
    }
   ],
   "source": [
    "full_db <- read_tsv( '20171017_SardiNIA_WaveIV_only.txt')"
   ]
  },
  {
   "cell_type": "code",
   "execution_count": 3,
   "metadata": {
    "ExecuteTime": {
     "end_time": "2017-10-19T17:55:05.229701Z",
     "start_time": "2017-10-19T17:55:03.370Z"
    }
   },
   "outputs": [
    {
     "data": {
      "text/html": [
       "<ol class=list-inline>\n",
       "\t<li>4705</li>\n",
       "\t<li>1286</li>\n",
       "</ol>\n"
      ],
      "text/latex": [
       "\\begin{enumerate*}\n",
       "\\item 4705\n",
       "\\item 1286\n",
       "\\end{enumerate*}\n"
      ],
      "text/markdown": [
       "1. 4705\n",
       "2. 1286\n",
       "\n",
       "\n"
      ],
      "text/plain": [
       "[1] 4705 1286"
      ]
     },
     "metadata": {},
     "output_type": "display_data"
    }
   ],
   "source": [
    "# print # rows, # cols\n",
    "dim(full_db)"
   ]
  },
  {
   "cell_type": "code",
   "execution_count": 4,
   "metadata": {
    "ExecuteTime": {
     "end_time": "2017-10-19T17:55:05.420157Z",
     "start_time": "2017-10-19T17:55:03.378Z"
    }
   },
   "outputs": [
    {
     "data": {
      "text/html": [
       "<table>\n",
       "<thead><tr><th scope=col>id_individual</th><th scope=col>id_sir</th><th scope=col>id_mad</th><th scope=col>Wave</th><th scope=col>Visit</th><th scope=col>Age</th><th scope=col>Sex</th><th scope=col>Education</th><th scope=col>Occupation</th><th scope=col>MaritalStatus</th><th scope=col>⋯</th><th scope=col>SphPWVSecondM_DT_DIST</th><th scope=col>SphPWVSecondM_N_Measurements</th><th scope=col>SphPWVSecondM_PP_DEVIATION</th><th scope=col>SphPWVSecondM_PP_MDT</th><th scope=col>SphPWVSecondM_PWV</th><th scope=col>SphPWVSecondM_PWVERR</th><th scope=col>SphPWVSecondM_PWV_DIST</th><th scope=col>SphPWVSecondM_PX_DIST</th><th scope=col>SphPWVSecondM_SP</th><th scope=col>SphPWVSecondM_date</th></tr></thead>\n",
       "<tbody>\n",
       "\t<tr><td> 2       </td><td> 1573    </td><td>    1    </td><td>4        </td><td>3        </td><td>36.8     </td><td>1        </td><td>5        </td><td> 71      </td><td>1        </td><td>⋯        </td><td> NA      </td><td>NA       </td><td>    NA   </td><td>      NA </td><td>      NA </td><td>       NA</td><td> NA      </td><td>NA       </td><td> NA      </td><td>NA       </td></tr>\n",
       "\t<tr><td> 7       </td><td> 6756    </td><td>16525    </td><td>4        </td><td>4        </td><td>72.8     </td><td>1        </td><td>3        </td><td> 92      </td><td>2        </td><td>⋯        </td><td> NA      </td><td>NA       </td><td>    NA   </td><td>      NA </td><td>      NA </td><td>       NA</td><td> NA      </td><td>NA       </td><td> NA      </td><td>NA       </td></tr>\n",
       "\t<tr><td> 8       </td><td>    7    </td><td> 8546    </td><td>4        </td><td>3        </td><td>43.6     </td><td>1        </td><td>5        </td><td>140      </td><td>3        </td><td>⋯        </td><td> NA      </td><td>NA       </td><td>    NA   </td><td>      NA </td><td>      NA </td><td>       NA</td><td> NA      </td><td>NA       </td><td> NA      </td><td>NA       </td></tr>\n",
       "\t<tr><td>10       </td><td>    7    </td><td> 8546    </td><td>4        </td><td>3        </td><td>37.3     </td><td>0        </td><td>4        </td><td> 72      </td><td>3        </td><td>⋯        </td><td> NA      </td><td>NA       </td><td>    NA   </td><td>      NA </td><td>      NA </td><td>       NA</td><td> NA      </td><td>NA       </td><td> NA      </td><td>NA       </td></tr>\n",
       "\t<tr><td>12       </td><td>    7    </td><td> 8546    </td><td>4        </td><td>1        </td><td>22.9     </td><td>0        </td><td>4        </td><td> 97      </td><td>0        </td><td>⋯        </td><td> NA      </td><td>NA       </td><td>    NA   </td><td>      NA </td><td>      NA </td><td>       NA</td><td> NA      </td><td>NA       </td><td> NA      </td><td>NA       </td></tr>\n",
       "\t<tr><td>13        </td><td>16137     </td><td>15362     </td><td>4         </td><td>4         </td><td>76.3      </td><td>1         </td><td>2         </td><td> 70       </td><td>1         </td><td>⋯         </td><td>570       </td><td> 3        </td><td>4.0651    </td><td>62.90355  </td><td>7.708743  </td><td>0.5383492 </td><td>480       </td><td>90        </td><td>106       </td><td>2015-12-01</td></tr>\n",
       "</tbody>\n",
       "</table>\n"
      ],
      "text/latex": [
       "\\begin{tabular}{r|llllllllllllllllllllllllllllllllllllllllllllllllllllllllllllllllllllllllllllllllllllllllllllllllllllllllllllllllllllllllllllllllllllllllllllllllllllllllllllllllllllllllllllllllllllllllllllllllllllllllllllllllllllllllllllllllllllllllllllllllllllllllllllllllllllllllllllllllllllllllllllllllllllllllllllllllllllllllllllllllllllllllllllllllllllllllllllllllllllllllllllllllllllllllllllllllllllllllllllllllllllllllllllllllllllllllllllllllllllllllllllllllllllllllllllllllllllllllllllllllllllllllllllllllllllllllllllllllllllllllllllllllllllllllllllllllllllllllllllllllllllllllllllllllllllllllllllllllllllllllllllllllllllllllllllllllllllllllllllllllllllllllllllllllllllllllllllllllllllllllllllllllllllllllllllllllllllllllllllllllllllllllllllllllllllllllllllllllllllllllllllllllllllllllllllllllllllllllllllllllllllllllllllllllllllllllllllllllllllllllllllllllllllllllllllllllllllllllllllllllllllllllllllllllllllllllllllllllllllllllllllllllllllllllllllllllllllllllllllllllllllllllllllllllllllllllllllllllllllllllllllllllllllllllllllllllllllllllllllllllllllllllllllllllllllllllllllllllllllllllllllllllllllllllllllllllllllllllllllllllllllllllllllllllllllllllllllllllllllllllllllllllllllllllllllllllllllllllllllllllllllllllllllllllllllllllllllllllllllllllllllllllllllllllllllllllllllllllllllllllllllll}\n",
       " id\\_individual & id\\_sir & id\\_mad & Wave & Visit & Age & Sex & Education & Occupation & MaritalStatus & ⋯ & SphPWVSecondM\\_DT\\_DIST & SphPWVSecondM\\_N\\_Measurements & SphPWVSecondM\\_PP\\_DEVIATION & SphPWVSecondM\\_PP\\_MDT & SphPWVSecondM\\_PWV & SphPWVSecondM\\_PWVERR & SphPWVSecondM\\_PWV\\_DIST & SphPWVSecondM\\_PX\\_DIST & SphPWVSecondM\\_SP & SphPWVSecondM\\_date\\\\\n",
       "\\hline\n",
       "\t  2        &  1573     &     1     & 4         & 3         & 36.8      & 1         & 5         &  71       & 1         & ⋯         &  NA       & NA        &     NA    &       NA  &       NA  &        NA &  NA       & NA        &  NA       & NA       \\\\\n",
       "\t  7        &  6756     & 16525     & 4         & 4         & 72.8      & 1         & 3         &  92       & 2         & ⋯         &  NA       & NA        &     NA    &       NA  &       NA  &        NA &  NA       & NA        &  NA       & NA       \\\\\n",
       "\t  8        &     7     &  8546     & 4         & 3         & 43.6      & 1         & 5         & 140       & 3         & ⋯         &  NA       & NA        &     NA    &       NA  &       NA  &        NA &  NA       & NA        &  NA       & NA       \\\\\n",
       "\t 10        &     7     &  8546     & 4         & 3         & 37.3      & 0         & 4         &  72       & 3         & ⋯         &  NA       & NA        &     NA    &       NA  &       NA  &        NA &  NA       & NA        &  NA       & NA       \\\\\n",
       "\t 12        &     7     &  8546     & 4         & 1         & 22.9      & 0         & 4         &  97       & 0         & ⋯         &  NA       & NA        &     NA    &       NA  &       NA  &        NA &  NA       & NA        &  NA       & NA       \\\\\n",
       "\t 13         & 16137      & 15362      & 4          & 4          & 76.3       & 1          & 2          &  70        & 1          & ⋯          & 570        &  3         & 4.0651     & 62.90355   & 7.708743   & 0.5383492  & 480        & 90         & 106        & 2015-12-01\\\\\n",
       "\\end{tabular}\n"
      ],
      "text/markdown": [
       "\n",
       "id_individual | id_sir | id_mad | Wave | Visit | Age | Sex | Education | Occupation | MaritalStatus | ⋯ | SphPWVSecondM_DT_DIST | SphPWVSecondM_N_Measurements | SphPWVSecondM_PP_DEVIATION | SphPWVSecondM_PP_MDT | SphPWVSecondM_PWV | SphPWVSecondM_PWVERR | SphPWVSecondM_PWV_DIST | SphPWVSecondM_PX_DIST | SphPWVSecondM_SP | SphPWVSecondM_date | \n",
       "|---|---|---|---|---|---|\n",
       "|  2        |  1573     |     1     | 4         | 3         | 36.8      | 1         | 5         |  71       | 1         | ⋯         |  NA       | NA        |     NA    |       NA  |       NA  |        NA |  NA       | NA        |  NA       | NA        | \n",
       "|  7        |  6756     | 16525     | 4         | 4         | 72.8      | 1         | 3         |  92       | 2         | ⋯         |  NA       | NA        |     NA    |       NA  |       NA  |        NA |  NA       | NA        |  NA       | NA        | \n",
       "|  8        |     7     |  8546     | 4         | 3         | 43.6      | 1         | 5         | 140       | 3         | ⋯         |  NA       | NA        |     NA    |       NA  |       NA  |        NA |  NA       | NA        |  NA       | NA        | \n",
       "| 10        |     7     |  8546     | 4         | 3         | 37.3      | 0         | 4         |  72       | 3         | ⋯         |  NA       | NA        |     NA    |       NA  |       NA  |        NA |  NA       | NA        |  NA       | NA        | \n",
       "| 12        |     7     |  8546     | 4         | 1         | 22.9      | 0         | 4         |  97       | 0         | ⋯         |  NA       | NA        |     NA    |       NA  |       NA  |        NA |  NA       | NA        |  NA       | NA        | \n",
       "| 13         | 16137      | 15362      | 4          | 4          | 76.3       | 1          | 2          |  70        | 1          | ⋯          | 570        |  3         | 4.0651     | 62.90355   | 7.708743   | 0.5383492  | 480        | 90         | 106        | 2015-12-01 | \n",
       "\n",
       "\n"
      ],
      "text/plain": [
       "  id_individual id_sir id_mad Wave Visit Age  Sex Education Occupation\n",
       "1  2             1573      1  4    3     36.8 1   5          71       \n",
       "2  7             6756  16525  4    4     72.8 1   3          92       \n",
       "3  8                7   8546  4    3     43.6 1   5         140       \n",
       "4 10                7   8546  4    3     37.3 0   4          72       \n",
       "5 12                7   8546  4    1     22.9 0   4          97       \n",
       "6 13            16137  15362  4    4     76.3 1   2          70       \n",
       "  MaritalStatus ⋯ SphPWVSecondM_DT_DIST SphPWVSecondM_N_Measurements\n",
       "1 1             ⋯  NA                   NA                          \n",
       "2 2             ⋯  NA                   NA                          \n",
       "3 3             ⋯  NA                   NA                          \n",
       "4 3             ⋯  NA                   NA                          \n",
       "5 0             ⋯  NA                   NA                          \n",
       "6 1             ⋯ 570                    3                          \n",
       "  SphPWVSecondM_PP_DEVIATION SphPWVSecondM_PP_MDT SphPWVSecondM_PWV\n",
       "1     NA                           NA                   NA         \n",
       "2     NA                           NA                   NA         \n",
       "3     NA                           NA                   NA         \n",
       "4     NA                           NA                   NA         \n",
       "5     NA                           NA                   NA         \n",
       "6 4.0651                     62.90355             7.708743         \n",
       "  SphPWVSecondM_PWVERR SphPWVSecondM_PWV_DIST SphPWVSecondM_PX_DIST\n",
       "1        NA             NA                    NA                   \n",
       "2        NA             NA                    NA                   \n",
       "3        NA             NA                    NA                   \n",
       "4        NA             NA                    NA                   \n",
       "5        NA             NA                    NA                   \n",
       "6 0.5383492            480                    90                   \n",
       "  SphPWVSecondM_SP SphPWVSecondM_date\n",
       "1  NA              <NA>              \n",
       "2  NA              <NA>              \n",
       "3  NA              <NA>              \n",
       "4  NA              <NA>              \n",
       "5  NA              <NA>              \n",
       "6 106              2015-12-01        "
      ]
     },
     "metadata": {},
     "output_type": "display_data"
    }
   ],
   "source": [
    "head(full_db)"
   ]
  },
  {
   "cell_type": "markdown",
   "metadata": {},
   "source": [
    "# Count the number of participants measured by the various machines"
   ]
  },
  {
   "cell_type": "code",
   "execution_count": 5,
   "metadata": {
    "ExecuteTime": {
     "end_time": "2017-10-19T17:55:05.568546Z",
     "start_time": "2017-10-19T17:55:03.384Z"
    }
   },
   "outputs": [
    {
     "name": "stderr",
     "output_type": "stream",
     "text": [
      "\n",
      "Attaching package: ‘dplyr’\n",
      "\n",
      "The following objects are masked from ‘package:stats’:\n",
      "\n",
      "    filter, lag\n",
      "\n",
      "The following objects are masked from ‘package:base’:\n",
      "\n",
      "    intersect, setdiff, setequal, union\n",
      "\n"
     ]
    }
   ],
   "source": [
    "library(tidyr)\n",
    "library(dplyr)"
   ]
  },
  {
   "cell_type": "markdown",
   "metadata": {},
   "source": [
    "## How many measured by OLD machine at least once?"
   ]
  },
  {
   "cell_type": "code",
   "execution_count": 6,
   "metadata": {
    "ExecuteTime": {
     "end_time": "2017-10-19T17:55:05.643068Z",
     "start_time": "2017-10-19T17:55:03.388Z"
    }
   },
   "outputs": [
    {
     "data": {
      "text/html": [
       "1945"
      ],
      "text/latex": [
       "1945"
      ],
      "text/markdown": [
       "1945"
      ],
      "text/plain": [
       "[1] 1945"
      ]
     },
     "metadata": {},
     "output_type": "display_data"
    }
   ],
   "source": [
    "sum( !is.na( full_db %>% select( 'SphfirstM_SP') ))"
   ]
  },
  {
   "cell_type": "markdown",
   "metadata": {},
   "source": [
    "## How many measured by OLD machine twice?"
   ]
  },
  {
   "cell_type": "code",
   "execution_count": 7,
   "metadata": {
    "ExecuteTime": {
     "end_time": "2017-10-19T17:55:05.713565Z",
     "start_time": "2017-10-19T17:55:03.391Z"
    }
   },
   "outputs": [
    {
     "data": {
      "text/html": [
       "1821"
      ],
      "text/latex": [
       "1821"
      ],
      "text/markdown": [
       "1821"
      ],
      "text/plain": [
       "[1] 1821"
      ]
     },
     "metadata": {},
     "output_type": "display_data"
    }
   ],
   "source": [
    "sum( !is.na( full_db %>% select( 'SphsecondM_SP') ))"
   ]
  },
  {
   "cell_type": "markdown",
   "metadata": {},
   "source": [
    "## How many measured by NEW machine at least once?"
   ]
  },
  {
   "cell_type": "code",
   "execution_count": 8,
   "metadata": {
    "ExecuteTime": {
     "end_time": "2017-10-19T17:55:05.751394Z",
     "start_time": "2017-10-19T17:55:03.393Z"
    }
   },
   "outputs": [
    {
     "data": {
      "text/html": [
       "1656"
      ],
      "text/latex": [
       "1656"
      ],
      "text/markdown": [
       "1656"
      ],
      "text/plain": [
       "[1] 1656"
      ]
     },
     "metadata": {},
     "output_type": "display_data"
    }
   ],
   "source": [
    "sum( !is.na( full_db %>% select( 'SphPWAFirstM_SP') ))"
   ]
  },
  {
   "cell_type": "markdown",
   "metadata": {},
   "source": [
    "## How many measured by NEW machine twice?"
   ]
  },
  {
   "cell_type": "code",
   "execution_count": 9,
   "metadata": {
    "ExecuteTime": {
     "end_time": "2017-10-19T17:55:05.794063Z",
     "start_time": "2017-10-19T17:55:03.396Z"
    }
   },
   "outputs": [
    {
     "data": {
      "text/html": [
       "786"
      ],
      "text/latex": [
       "786"
      ],
      "text/markdown": [
       "786"
      ],
      "text/plain": [
       "[1] 786"
      ]
     },
     "metadata": {},
     "output_type": "display_data"
    }
   ],
   "source": [
    "sum( !is.na( full_db %>% select( 'SphPWASecondM_SP') ))"
   ]
  },
  {
   "cell_type": "markdown",
   "metadata": {},
   "source": [
    "# Get the trait names for the OLD SphygmoCor machine\n",
    "\n",
    "Grab all the column names starting with the prefix \"SphfirstM_\""
   ]
  },
  {
   "cell_type": "code",
   "execution_count": 10,
   "metadata": {
    "ExecuteTime": {
     "end_time": "2017-10-19T17:55:05.812874Z",
     "start_time": "2017-10-19T17:55:03.399Z"
    }
   },
   "outputs": [],
   "source": [
    "library(stringr)"
   ]
  },
  {
   "cell_type": "code",
   "execution_count": 11,
   "metadata": {
    "ExecuteTime": {
     "end_time": "2017-10-19T17:55:05.823879Z",
     "start_time": "2017-10-19T17:55:03.401Z"
    }
   },
   "outputs": [],
   "source": [
    "old_names <- sort( str_subset( names(full_db), \"SphfirstM_\" ) )"
   ]
  },
  {
   "cell_type": "code",
   "execution_count": 12,
   "metadata": {
    "ExecuteTime": {
     "end_time": "2017-10-19T17:55:05.840032Z",
     "start_time": "2017-10-19T17:55:03.404Z"
    }
   },
   "outputs": [
    {
     "data": {
      "text/html": [
       "<ol class=list-inline>\n",
       "\t<li>'SphfirstM_C_AGPH'</li>\n",
       "\t<li>'SphfirstM_C_AGPH_HR75'</li>\n",
       "\t<li>'SphfirstM_C_AI'</li>\n",
       "\t<li>'SphfirstM_C_AP'</li>\n",
       "\t<li>'SphfirstM_C_AP_HR75'</li>\n",
       "\t<li>'SphfirstM_C_DD'</li>\n",
       "</ol>\n"
      ],
      "text/latex": [
       "\\begin{enumerate*}\n",
       "\\item 'SphfirstM\\_C\\_AGPH'\n",
       "\\item 'SphfirstM\\_C\\_AGPH\\_HR75'\n",
       "\\item 'SphfirstM\\_C\\_AI'\n",
       "\\item 'SphfirstM\\_C\\_AP'\n",
       "\\item 'SphfirstM\\_C\\_AP\\_HR75'\n",
       "\\item 'SphfirstM\\_C\\_DD'\n",
       "\\end{enumerate*}\n"
      ],
      "text/markdown": [
       "1. 'SphfirstM_C_AGPH'\n",
       "2. 'SphfirstM_C_AGPH_HR75'\n",
       "3. 'SphfirstM_C_AI'\n",
       "4. 'SphfirstM_C_AP'\n",
       "5. 'SphfirstM_C_AP_HR75'\n",
       "6. 'SphfirstM_C_DD'\n",
       "\n",
       "\n"
      ],
      "text/plain": [
       "[1] \"SphfirstM_C_AGPH\"      \"SphfirstM_C_AGPH_HR75\" \"SphfirstM_C_AI\"       \n",
       "[4] \"SphfirstM_C_AP\"        \"SphfirstM_C_AP_HR75\"   \"SphfirstM_C_DD\"       "
      ]
     },
     "metadata": {},
     "output_type": "display_data"
    }
   ],
   "source": [
    "head(old_names)"
   ]
  },
  {
   "cell_type": "markdown",
   "metadata": {},
   "source": [
    "Drop the prefix \"SphfirstM_\" from the variable name by taking the substring 11 characters from the beginning of the name."
   ]
  },
  {
   "cell_type": "code",
   "execution_count": 13,
   "metadata": {
    "ExecuteTime": {
     "end_time": "2017-10-19T17:55:05.855357Z",
     "start_time": "2017-10-19T17:55:03.406Z"
    }
   },
   "outputs": [],
   "source": [
    "old_names <- sort( sapply( old_names, function(x) str_sub( x, 11), USE.NAMES=F ) )"
   ]
  },
  {
   "cell_type": "code",
   "execution_count": 14,
   "metadata": {
    "ExecuteTime": {
     "end_time": "2017-10-19T17:55:05.872735Z",
     "start_time": "2017-10-19T17:55:03.409Z"
    }
   },
   "outputs": [
    {
     "data": {
      "text/html": [
       "<ol class=list-inline>\n",
       "\t<li>'C_AGPH'</li>\n",
       "\t<li>'C_AGPH_HR75'</li>\n",
       "\t<li>'C_AI'</li>\n",
       "\t<li>'C_AP'</li>\n",
       "\t<li>'C_AP_HR75'</li>\n",
       "\t<li>'C_DD'</li>\n",
       "</ol>\n"
      ],
      "text/latex": [
       "\\begin{enumerate*}\n",
       "\\item 'C\\_AGPH'\n",
       "\\item 'C\\_AGPH\\_HR75'\n",
       "\\item 'C\\_AI'\n",
       "\\item 'C\\_AP'\n",
       "\\item 'C\\_AP\\_HR75'\n",
       "\\item 'C\\_DD'\n",
       "\\end{enumerate*}\n"
      ],
      "text/markdown": [
       "1. 'C_AGPH'\n",
       "2. 'C_AGPH_HR75'\n",
       "3. 'C_AI'\n",
       "4. 'C_AP'\n",
       "5. 'C_AP_HR75'\n",
       "6. 'C_DD'\n",
       "\n",
       "\n"
      ],
      "text/plain": [
       "[1] \"C_AGPH\"      \"C_AGPH_HR75\" \"C_AI\"        \"C_AP\"        \"C_AP_HR75\"  \n",
       "[6] \"C_DD\"       "
      ]
     },
     "metadata": {},
     "output_type": "display_data"
    }
   ],
   "source": [
    "head( old_names )"
   ]
  },
  {
   "cell_type": "markdown",
   "metadata": {},
   "source": [
    "# Get the trait names for the NEW SphygmoCor machine\n",
    "\n",
    "Grab all the column names starting with the prefix \"SphPWAFirstM_\""
   ]
  },
  {
   "cell_type": "code",
   "execution_count": 15,
   "metadata": {
    "ExecuteTime": {
     "end_time": "2017-10-19T17:55:05.888066Z",
     "start_time": "2017-10-19T17:55:03.412Z"
    }
   },
   "outputs": [],
   "source": [
    "new_names <- sort( str_subset( names(full_db), \"SphPWAFirstM_\" ) )"
   ]
  },
  {
   "cell_type": "code",
   "execution_count": 16,
   "metadata": {
    "ExecuteTime": {
     "end_time": "2017-10-19T17:55:05.905579Z",
     "start_time": "2017-10-19T17:55:03.416Z"
    }
   },
   "outputs": [
    {
     "data": {
      "text/html": [
       "54"
      ],
      "text/latex": [
       "54"
      ],
      "text/markdown": [
       "54"
      ],
      "text/plain": [
       "[1] 54"
      ]
     },
     "metadata": {},
     "output_type": "display_data"
    }
   ],
   "source": [
    "length( new_names )"
   ]
  },
  {
   "cell_type": "code",
   "execution_count": 17,
   "metadata": {
    "ExecuteTime": {
     "end_time": "2017-10-19T17:55:05.927566Z",
     "start_time": "2017-10-19T17:55:03.419Z"
    }
   },
   "outputs": [
    {
     "data": {
      "text/html": [
       "<ol class=list-inline>\n",
       "\t<li>'SphPWAFirstM_C_AGPH'</li>\n",
       "\t<li>'SphPWAFirstM_C_AI'</li>\n",
       "\t<li>'SphPWAFirstM_C_AL'</li>\n",
       "\t<li>'SphPWAFirstM_C_AP'</li>\n",
       "\t<li>'SphPWAFirstM_C_ATI'</li>\n",
       "\t<li>'SphPWAFirstM_C_DD'</li>\n",
       "</ol>\n"
      ],
      "text/latex": [
       "\\begin{enumerate*}\n",
       "\\item 'SphPWAFirstM\\_C\\_AGPH'\n",
       "\\item 'SphPWAFirstM\\_C\\_AI'\n",
       "\\item 'SphPWAFirstM\\_C\\_AL'\n",
       "\\item 'SphPWAFirstM\\_C\\_AP'\n",
       "\\item 'SphPWAFirstM\\_C\\_ATI'\n",
       "\\item 'SphPWAFirstM\\_C\\_DD'\n",
       "\\end{enumerate*}\n"
      ],
      "text/markdown": [
       "1. 'SphPWAFirstM_C_AGPH'\n",
       "2. 'SphPWAFirstM_C_AI'\n",
       "3. 'SphPWAFirstM_C_AL'\n",
       "4. 'SphPWAFirstM_C_AP'\n",
       "5. 'SphPWAFirstM_C_ATI'\n",
       "6. 'SphPWAFirstM_C_DD'\n",
       "\n",
       "\n"
      ],
      "text/plain": [
       "[1] \"SphPWAFirstM_C_AGPH\" \"SphPWAFirstM_C_AI\"   \"SphPWAFirstM_C_AL\"  \n",
       "[4] \"SphPWAFirstM_C_AP\"   \"SphPWAFirstM_C_ATI\"  \"SphPWAFirstM_C_DD\"  "
      ]
     },
     "metadata": {},
     "output_type": "display_data"
    }
   ],
   "source": [
    "head(new_names)"
   ]
  },
  {
   "cell_type": "code",
   "execution_count": 18,
   "metadata": {
    "ExecuteTime": {
     "end_time": "2017-10-19T17:55:05.939971Z",
     "start_time": "2017-10-19T17:55:03.421Z"
    }
   },
   "outputs": [],
   "source": [
    "new_names <- sort( sapply( new_names, function(x) str_sub( x, 14), USE.NAMES=F ) )"
   ]
  },
  {
   "cell_type": "code",
   "execution_count": 19,
   "metadata": {
    "ExecuteTime": {
     "end_time": "2017-10-19T17:55:05.953155Z",
     "start_time": "2017-10-19T17:55:03.424Z"
    }
   },
   "outputs": [
    {
     "data": {
      "text/html": [
       "<ol class=list-inline>\n",
       "\t<li>'C_AGPH'</li>\n",
       "\t<li>'C_AI'</li>\n",
       "\t<li>'C_AL'</li>\n",
       "\t<li>'C_AP'</li>\n",
       "\t<li>'C_ATI'</li>\n",
       "\t<li>'C_DD'</li>\n",
       "</ol>\n"
      ],
      "text/latex": [
       "\\begin{enumerate*}\n",
       "\\item 'C\\_AGPH'\n",
       "\\item 'C\\_AI'\n",
       "\\item 'C\\_AL'\n",
       "\\item 'C\\_AP'\n",
       "\\item 'C\\_ATI'\n",
       "\\item 'C\\_DD'\n",
       "\\end{enumerate*}\n"
      ],
      "text/markdown": [
       "1. 'C_AGPH'\n",
       "2. 'C_AI'\n",
       "3. 'C_AL'\n",
       "4. 'C_AP'\n",
       "5. 'C_ATI'\n",
       "6. 'C_DD'\n",
       "\n",
       "\n"
      ],
      "text/plain": [
       "[1] \"C_AGPH\" \"C_AI\"   \"C_AL\"   \"C_AP\"   \"C_ATI\"  \"C_DD\"  "
      ]
     },
     "metadata": {},
     "output_type": "display_data"
    }
   ],
   "source": [
    "head( new_names )"
   ]
  },
  {
   "cell_type": "markdown",
   "metadata": {},
   "source": [
    "# Get the intersection of traits names measured by BOTH new and old machines"
   ]
  },
  {
   "cell_type": "code",
   "execution_count": 20,
   "metadata": {
    "ExecuteTime": {
     "end_time": "2017-10-19T17:55:05.966454Z",
     "start_time": "2017-10-19T17:55:03.426Z"
    }
   },
   "outputs": [],
   "source": [
    "intersection <- sort( intersect( new_names, old_names ) )"
   ]
  },
  {
   "cell_type": "code",
   "execution_count": 21,
   "metadata": {
    "ExecuteTime": {
     "end_time": "2017-10-19T17:55:05.982007Z",
     "start_time": "2017-10-19T17:55:03.429Z"
    }
   },
   "outputs": [
    {
     "data": {
      "text/html": [
       "<ol class=list-inline>\n",
       "\t<li>'C_AGPH'</li>\n",
       "\t<li>'C_AI'</li>\n",
       "\t<li>'C_AP'</li>\n",
       "\t<li>'C_DD'</li>\n",
       "\t<li>'C_DD_PERIOD'</li>\n",
       "\t<li>'C_DP'</li>\n",
       "\t<li>'C_DTI'</li>\n",
       "\t<li>'C_ED_PERIOD'</li>\n",
       "\t<li>'C_ESP'</li>\n",
       "\t<li>'C_MEANP'</li>\n",
       "\t<li>'C_P1'</li>\n",
       "\t<li>'C_P1_HEIGHT'</li>\n",
       "\t<li>'C_P2'</li>\n",
       "\t<li>'C_PERIOD'</li>\n",
       "\t<li>'C_PH'</li>\n",
       "\t<li>'C_SP'</li>\n",
       "\t<li>'C_SVI'</li>\n",
       "\t<li>'C_T1'</li>\n",
       "\t<li>'C_T1ED'</li>\n",
       "\t<li>'C_T2'</li>\n",
       "\t<li>'C_T2ED'</li>\n",
       "\t<li>'C_TTI'</li>\n",
       "\t<li>'DP'</li>\n",
       "\t<li>'ED'</li>\n",
       "\t<li>'HR'</li>\n",
       "\t<li>'P_AI'</li>\n",
       "\t<li>'P_DP'</li>\n",
       "\t<li>'P_ESP'</li>\n",
       "\t<li>'P_MAX_DPDT'</li>\n",
       "\t<li>'P_MEANP'</li>\n",
       "\t<li>'P_P1'</li>\n",
       "\t<li>'P_P2'</li>\n",
       "\t<li>'P_SP'</li>\n",
       "\t<li>'P_T1'</li>\n",
       "\t<li>'P_T1ED'</li>\n",
       "\t<li>'P_T2'</li>\n",
       "\t<li>'P_T2ED'</li>\n",
       "\t<li>'QUALITY_ED'</li>\n",
       "\t<li>'SP'</li>\n",
       "</ol>\n"
      ],
      "text/latex": [
       "\\begin{enumerate*}\n",
       "\\item 'C\\_AGPH'\n",
       "\\item 'C\\_AI'\n",
       "\\item 'C\\_AP'\n",
       "\\item 'C\\_DD'\n",
       "\\item 'C\\_DD\\_PERIOD'\n",
       "\\item 'C\\_DP'\n",
       "\\item 'C\\_DTI'\n",
       "\\item 'C\\_ED\\_PERIOD'\n",
       "\\item 'C\\_ESP'\n",
       "\\item 'C\\_MEANP'\n",
       "\\item 'C\\_P1'\n",
       "\\item 'C\\_P1\\_HEIGHT'\n",
       "\\item 'C\\_P2'\n",
       "\\item 'C\\_PERIOD'\n",
       "\\item 'C\\_PH'\n",
       "\\item 'C\\_SP'\n",
       "\\item 'C\\_SVI'\n",
       "\\item 'C\\_T1'\n",
       "\\item 'C\\_T1ED'\n",
       "\\item 'C\\_T2'\n",
       "\\item 'C\\_T2ED'\n",
       "\\item 'C\\_TTI'\n",
       "\\item 'DP'\n",
       "\\item 'ED'\n",
       "\\item 'HR'\n",
       "\\item 'P\\_AI'\n",
       "\\item 'P\\_DP'\n",
       "\\item 'P\\_ESP'\n",
       "\\item 'P\\_MAX\\_DPDT'\n",
       "\\item 'P\\_MEANP'\n",
       "\\item 'P\\_P1'\n",
       "\\item 'P\\_P2'\n",
       "\\item 'P\\_SP'\n",
       "\\item 'P\\_T1'\n",
       "\\item 'P\\_T1ED'\n",
       "\\item 'P\\_T2'\n",
       "\\item 'P\\_T2ED'\n",
       "\\item 'QUALITY\\_ED'\n",
       "\\item 'SP'\n",
       "\\end{enumerate*}\n"
      ],
      "text/markdown": [
       "1. 'C_AGPH'\n",
       "2. 'C_AI'\n",
       "3. 'C_AP'\n",
       "4. 'C_DD'\n",
       "5. 'C_DD_PERIOD'\n",
       "6. 'C_DP'\n",
       "7. 'C_DTI'\n",
       "8. 'C_ED_PERIOD'\n",
       "9. 'C_ESP'\n",
       "10. 'C_MEANP'\n",
       "11. 'C_P1'\n",
       "12. 'C_P1_HEIGHT'\n",
       "13. 'C_P2'\n",
       "14. 'C_PERIOD'\n",
       "15. 'C_PH'\n",
       "16. 'C_SP'\n",
       "17. 'C_SVI'\n",
       "18. 'C_T1'\n",
       "19. 'C_T1ED'\n",
       "20. 'C_T2'\n",
       "21. 'C_T2ED'\n",
       "22. 'C_TTI'\n",
       "23. 'DP'\n",
       "24. 'ED'\n",
       "25. 'HR'\n",
       "26. 'P_AI'\n",
       "27. 'P_DP'\n",
       "28. 'P_ESP'\n",
       "29. 'P_MAX_DPDT'\n",
       "30. 'P_MEANP'\n",
       "31. 'P_P1'\n",
       "32. 'P_P2'\n",
       "33. 'P_SP'\n",
       "34. 'P_T1'\n",
       "35. 'P_T1ED'\n",
       "36. 'P_T2'\n",
       "37. 'P_T2ED'\n",
       "38. 'QUALITY_ED'\n",
       "39. 'SP'\n",
       "\n",
       "\n"
      ],
      "text/plain": [
       " [1] \"C_AGPH\"      \"C_AI\"        \"C_AP\"        \"C_DD\"        \"C_DD_PERIOD\"\n",
       " [6] \"C_DP\"        \"C_DTI\"       \"C_ED_PERIOD\" \"C_ESP\"       \"C_MEANP\"    \n",
       "[11] \"C_P1\"        \"C_P1_HEIGHT\" \"C_P2\"        \"C_PERIOD\"    \"C_PH\"       \n",
       "[16] \"C_SP\"        \"C_SVI\"       \"C_T1\"        \"C_T1ED\"      \"C_T2\"       \n",
       "[21] \"C_T2ED\"      \"C_TTI\"       \"DP\"          \"ED\"          \"HR\"         \n",
       "[26] \"P_AI\"        \"P_DP\"        \"P_ESP\"       \"P_MAX_DPDT\"  \"P_MEANP\"    \n",
       "[31] \"P_P1\"        \"P_P2\"        \"P_SP\"        \"P_T1\"        \"P_T1ED\"     \n",
       "[36] \"P_T2\"        \"P_T2ED\"      \"QUALITY_ED\"  \"SP\"         "
      ]
     },
     "metadata": {},
     "output_type": "display_data"
    }
   ],
   "source": [
    "intersection"
   ]
  },
  {
   "cell_type": "markdown",
   "metadata": {},
   "source": [
    "# Read Database Description file to know what traits we're comparing"
   ]
  },
  {
   "cell_type": "code",
   "execution_count": 22,
   "metadata": {
    "ExecuteTime": {
     "end_time": "2017-10-19T17:55:06.008641Z",
     "start_time": "2017-10-19T17:55:03.434Z"
    }
   },
   "outputs": [],
   "source": [
    "library(readxl)"
   ]
  },
  {
   "cell_type": "code",
   "execution_count": 23,
   "metadata": {
    "ExecuteTime": {
     "end_time": "2017-10-19T17:55:06.049848Z",
     "start_time": "2017-10-19T17:55:03.436Z"
    }
   },
   "outputs": [],
   "source": [
    "descr_path<- '~/projects/david/sardiNIA_database/latest/20171006_Wave5_Update/DbDescription5.xlsx'\n",
    "descriptions <- read_excel( descr_path ) %>% \n",
    "                    filter(TABLE == 'SPHIGMOCOR_PWA') %>% \n",
    "                    select( FIELD, DESCRIPTION )"
   ]
  },
  {
   "cell_type": "code",
   "execution_count": 24,
   "metadata": {
    "ExecuteTime": {
     "end_time": "2017-10-19T17:55:06.077038Z",
     "start_time": "2017-10-19T17:55:03.439Z"
    }
   },
   "outputs": [
    {
     "data": {
      "text/html": [
       "<table>\n",
       "<thead><tr><th scope=col>FIELD</th><th scope=col>DESCRIPTION</th></tr></thead>\n",
       "<tbody>\n",
       "\t<tr><td>ID_INDIVIDUAL            </td><td>KEY                      </td></tr>\n",
       "\t<tr><td><span style=white-space:pre-wrap>DATETIME     </span></td><td>End Date &amp; Time of Study                         </td></tr>\n",
       "\t<tr><td>SP                       </td><td>Entered Systolic Pressure</td></tr>\n",
       "\t<tr><td>DP                       </td><td>Entered Diastolic Pressur</td></tr>\n",
       "\t<tr><td>HR                       </td><td>Heart Rate               </td></tr>\n",
       "\t<tr><td>ED                       </td><td>Ejection Duration (ms)   </td></tr>\n",
       "</tbody>\n",
       "</table>\n"
      ],
      "text/latex": [
       "\\begin{tabular}{r|ll}\n",
       " FIELD & DESCRIPTION\\\\\n",
       "\\hline\n",
       "\t ID\\_INDIVIDUAL           & KEY                      \\\\\n",
       "\t DATETIME                    & End Date \\& Time of Study \\\\\n",
       "\t SP                        & Entered Systolic Pressure\\\\\n",
       "\t DP                        & Entered Diastolic Pressur\\\\\n",
       "\t HR                        & Heart Rate               \\\\\n",
       "\t ED                        & Ejection Duration (ms)   \\\\\n",
       "\\end{tabular}\n"
      ],
      "text/markdown": [
       "\n",
       "FIELD | DESCRIPTION | \n",
       "|---|---|---|---|---|---|\n",
       "| ID_INDIVIDUAL             | KEY                       | \n",
       "| DATETIME                  | End Date & Time of Study  | \n",
       "| SP                        | Entered Systolic Pressure | \n",
       "| DP                        | Entered Diastolic Pressur | \n",
       "| HR                        | Heart Rate                | \n",
       "| ED                        | Ejection Duration (ms)    | \n",
       "\n",
       "\n"
      ],
      "text/plain": [
       "  FIELD         DESCRIPTION              \n",
       "1 ID_INDIVIDUAL KEY                      \n",
       "2 DATETIME      End Date & Time of Study \n",
       "3 SP            Entered Systolic Pressure\n",
       "4 DP            Entered Diastolic Pressur\n",
       "5 HR            Heart Rate               \n",
       "6 ED            Ejection Duration (ms)   "
      ]
     },
     "metadata": {},
     "output_type": "display_data"
    }
   ],
   "source": [
    "head( descriptions)"
   ]
  },
  {
   "cell_type": "code",
   "execution_count": 25,
   "metadata": {
    "ExecuteTime": {
     "end_time": "2017-10-19T17:55:06.088561Z",
     "start_time": "2017-10-19T17:55:03.442Z"
    }
   },
   "outputs": [],
   "source": [
    "names( descriptions) <- c('name', 'description')"
   ]
  },
  {
   "cell_type": "markdown",
   "metadata": {},
   "source": [
    "# For each trait, do a pairwise t-test"
   ]
  },
  {
   "cell_type": "code",
   "execution_count": 26,
   "metadata": {
    "ExecuteTime": {
     "end_time": "2017-10-19T17:55:06.103601Z",
     "start_time": "2017-10-19T17:55:03.445Z"
    }
   },
   "outputs": [],
   "source": [
    "compare <- function( db, prefix1, prefix2 ) {\n",
    "    n_vars <- length(intersection)\n",
    "    # initialize empty results table\n",
    "    results <- tibble( name=intersection,\n",
    "                       n_obs=rep(NA_integer_, n_vars),\n",
    "                       mean1=rep('', n_vars),\n",
    "                       mean2=rep('', n_vars),\n",
    "                       meandiff=rep('', n_vars),\n",
    "                       std1=rep('', n_vars),\n",
    "                       std2=rep('', n_vars),        \n",
    "                       p_value=rep('', n_vars),\n",
    "                       sig=rep('', n_vars),\n",
    "                     )\n",
    "    for( name in intersection ){\n",
    "        old_col_name <- paste0( prefix1, name )\n",
    "        new_col_name <- paste0( prefix2, name )\n",
    "        subset <- db %>% select( id_individual, old_col_name, new_col_name ) %>% drop_na()\n",
    "        old <- subset[[old_col_name]]\n",
    "        new <- subset[[new_col_name]]\n",
    "        test_result <- t.test( old, new, paired=T )\n",
    "        if( !is.na( test_result$p.value ) ) {\n",
    "            if( test_result$p.value < 5e-4 ) {\n",
    "                sig <- '***' \n",
    "            } else if( test_result$p.value < 5e-3 ){\n",
    "                sig <- '**' \n",
    "            } else if( test_result$p.value < 5e-2 ){\n",
    "                sig <- '*' \n",
    "            } else if( test_result$p.value < 0.1 ){\n",
    "                sig <- '.' \n",
    "            } else {\n",
    "                sig <- ''\n",
    "            }\n",
    "        } else {\n",
    "            sig <- ''\n",
    "        }\n",
    "        results[ results$name == name, -1] <- c( \n",
    "            length(old),\n",
    "            sprintf( \"%0.1f\", mean(old) ), \n",
    "            sprintf( \"%0.1f\", mean(new) ), \n",
    "            sprintf( \"%0.1f\", test_result$estimate ), \n",
    "            sprintf( \"%0.1f\", sd(old) ),\n",
    "            sprintf( \"%0.1f\", sd(new) ), \n",
    "            sprintf( \"%0.3f\", test_result$p.value ),\n",
    "            sig\n",
    "        )\n",
    "    }\n",
    "    results <- right_join( descriptions, results, by='name')\n",
    "    # Shuffle order of columns\n",
    "    return( results[c( 'description', 'name','n_obs', 'mean1', 'mean2', 'meandiff', 'std1', 'std2', 'p_value', 'sig') ] )\n",
    "}"
   ]
  },
  {
   "cell_type": "markdown",
   "metadata": {},
   "source": [
    "# Results\n",
    "\n",
    "## Comparison 1: OLD Sph FIRST Measurement vs. OLD Sph SECOND Measurement"
   ]
  },
  {
   "cell_type": "code",
   "execution_count": 27,
   "metadata": {
    "ExecuteTime": {
     "end_time": "2017-10-19T17:55:08.723384Z",
     "start_time": "2017-10-19T17:55:03.470Z"
    }
   },
   "outputs": [
    {
     "data": {
      "text/html": [
       "<table>\n",
       "<thead><tr><th scope=col>description</th><th scope=col>name</th><th scope=col>n_obs</th><th scope=col>mean1</th><th scope=col>mean2</th><th scope=col>meandiff</th><th scope=col>std1</th><th scope=col>std2</th><th scope=col>p_value</th><th scope=col>sig</th></tr></thead>\n",
       "<tbody>\n",
       "\t<tr><td>Central Aug/PH %                                       </td><td>C_AGPH                                                 </td><td>1821                                                   </td><td>30.2                                                   </td><td>30.7                                                   </td><td>-0.5                                                   </td><td>234.2                                                  </td><td>234.2                                                  </td><td>0.954                                                  </td><td>                                                       </td></tr>\n",
       "\t<tr><td>Central Augmentation Index                             </td><td>C_AI                                                   </td><td>1821                                                   </td><td>143.3                                                  </td><td>144.4                                                  </td><td>-1.1                                                   </td><td>232.7                                                  </td><td>232.8                                                  </td><td>0.885                                                  </td><td>                                                       </td></tr>\n",
       "\t<tr><td>Central Augmented Pressure                             </td><td>C_AP                                                   </td><td>1821                                                   </td><td>15.0                                                   </td><td>15.2                                                   </td><td>-0.2                                                   </td><td>234.2                                                  </td><td>234.2                                                  </td><td>0.983                                                  </td><td>                                                       </td></tr>\n",
       "\t<tr><td>Central Diastolic Duration                             </td><td>C_DD                                                   </td><td>1821                                                   </td><td>598.4                                                  </td><td>596.0                                                  </td><td>2.4                                                    </td><td>119.9                                                  </td><td>119.3                                                  </td><td>0.017                                                  </td><td>*                                                      </td></tr>\n",
       "\t<tr><td>Period-ED/Period %                                     </td><td>C_DD_PERIOD                                            </td><td>1821                                                   </td><td>64.4                                                   </td><td>64.4                                                   </td><td>0.1                                                    </td><td>4.0                                                    </td><td>4.0                                                    </td><td>0.060                                                  </td><td>.                                                      </td></tr>\n",
       "\t<tr><td>Central Diastolic Pressure                             </td><td>C_DP                                                   </td><td>1821                                                   </td><td>73.3                                                   </td><td>73.3                                                   </td><td>-0.0                                                   </td><td>10.0                                                   </td><td>10.0                                                   </td><td>0.422                                                  </td><td>                                                       </td></tr>\n",
       "\t<tr><td>Central Diastolic Time Index                           </td><td>C_DTI                                                  </td><td>1821                                                   </td><td>3230.5                                                 </td><td>3229.7                                                 </td><td>0.8                                                    </td><td>483.7                                                  </td><td>483.4                                                  </td><td>0.726                                                  </td><td>                                                       </td></tr>\n",
       "\t<tr><td>Central ED/Period %                                    </td><td>C_ED_PERIOD                                            </td><td>1821                                                   </td><td>35.6                                                   </td><td>35.7                                                   </td><td>-0.1                                                   </td><td>4.0                                                    </td><td>4.0                                                    </td><td>0.058                                                  </td><td>.                                                      </td></tr>\n",
       "\t<tr><td>Central End Systolic Pressure                          </td><td>C_ESP                                                  </td><td>1821                                                   </td><td>99.1                                                   </td><td>99.2                                                   </td><td>-0.1                                                   </td><td>15.6                                                   </td><td>15.5                                                   </td><td>0.309                                                  </td><td>                                                       </td></tr>\n",
       "\t<tr><td>Central Mean Pressure                                  </td><td>C_MEANP                                                </td><td>1821                                                   </td><td>89.0                                                   </td><td>89.0                                                   </td><td>-0.1                                                   </td><td>12.3                                                   </td><td>12.3                                                   </td><td>0.064                                                  </td><td>.                                                      </td></tr>\n",
       "\t<tr><td>Central Pressure at T1                                 </td><td>C_P1                                                   </td><td>1821                                                   </td><td>99.0                                                   </td><td>98.9                                                   </td><td>0.1                                                    </td><td>13.4                                                   </td><td>13.3                                                   </td><td>0.040                                                  </td><td>*                                                      </td></tr>\n",
       "\t<tr><td>Central Pressure at T1 - Dp                            </td><td>C_P1_HEIGHT                                            </td><td>1821                                                   </td><td>25.8                                                   </td><td>25.6                                                   </td><td>0.1                                                    </td><td>7.2                                                    </td><td>7.1                                                    </td><td>0.009                                                  </td><td>*                                                      </td></tr>\n",
       "\t<tr><td>Central Pressure at T2                                 </td><td>C_P2                                                   </td><td>1821                                                   </td><td>114.0                                                  </td><td>114.1                                                  </td><td>-0.0                                                   </td><td>232.4                                                  </td><td>232.4                                                  </td><td>0.997                                                  </td><td>                                                       </td></tr>\n",
       "\t<tr><td>Central Pulse Period                                   </td><td>C_PERIOD                                               </td><td>1821                                                   </td><td>921.4                                                  </td><td>918.8                                                  </td><td>2.5                                                    </td><td>131.8                                                  </td><td>131.3                                                  </td><td>0.016                                                  </td><td>*                                                      </td></tr>\n",
       "\t<tr><td>Central Pulse Height                                   </td><td>C_PH                                                   </td><td>1821                                                   </td><td>35.4                                                   </td><td>35.5                                                   </td><td>-0.0                                                   </td><td>11.8                                                   </td><td>11.4                                                   </td><td>0.751                                                  </td><td>                                                       </td></tr>\n",
       "\t<tr><td>Central Systolic Pressure                              </td><td>C_SP                                                   </td><td>1821                                                   </td><td>108.7                                                  </td><td>108.8                                                  </td><td>-0.1                                                   </td><td>17.7                                                   </td><td>17.4                                                   </td><td>0.471                                                  </td><td>                                                       </td></tr>\n",
       "\t<tr><td>Central Buckberg Sub-Endocardial Viability Ratio (SEVR)</td><td>C_SVI                                                  </td><td>1821                                                   </td><td>156.6                                                  </td><td>156.1                                                  </td><td>0.5                                                    </td><td>28.5                                                   </td><td>28.1                                                   </td><td>0.069                                                  </td><td>.                                                      </td></tr>\n",
       "\t<tr><td>Adjusted Central T1                                    </td><td>C_T1                                                   </td><td>1821                                                   </td><td>106.0                                                  </td><td>105.5                                                  </td><td>0.5                                                    </td><td>11.6                                                   </td><td>12.5                                                   </td><td>0.031                                                  </td><td>*                                                      </td></tr>\n",
       "\t<tr><td>Central T1/ED %                                        </td><td>C_T1ED                                                 </td><td>1821                                                   </td><td>32.9                                                   </td><td>32.8                                                   </td><td>0.1                                                    </td><td>4.1                                                    </td><td>4.5                                                    </td><td>0.085                                                  </td><td>.                                                      </td></tr>\n",
       "\t<tr><td>Adjusted Central T2                                    </td><td>C_T2                                                   </td><td>1821                                                   </td><td>233.0                                                  </td><td>233.0                                                  </td><td>-0.0                                                   </td><td>230.0                                                  </td><td>230.1                                                  </td><td>0.998                                                  </td><td>                                                       </td></tr>\n",
       "\t<tr><td>Central T2/ED %                                        </td><td>C_T2ED                                                 </td><td>1821                                                   </td><td>75.9                                                   </td><td>75.9                                                   </td><td>-0.0                                                   </td><td>232.7                                                  </td><td>232.7                                                  </td><td>0.999                                                  </td><td>                                                       </td></tr>\n",
       "\t<tr><td>Central Tension Time Index                             </td><td>C_TTI                                                  </td><td>1821                                                   </td><td>2108.0                                                 </td><td>2113.2                                                 </td><td>-5.3                                                   </td><td>386.9                                                  </td><td>387.7                                                  </td><td>0.032                                                  </td><td>*                                                      </td></tr>\n",
       "\t<tr><td>Entered Diastolic Pressur                              </td><td>DP                                                     </td><td>1821                                                   </td><td>72.2                                                   </td><td>72.2                                                   </td><td>0.0                                                    </td><td>9.9                                                    </td><td>9.9                                                    </td><td>NaN                                                    </td><td>                                                       </td></tr>\n",
       "\t<tr><td>Ejection Duration (ms)                                 </td><td>ED                                                     </td><td>1821                                                   </td><td>323.0                                                  </td><td>322.9                                                  </td><td>0.1                                                    </td><td>20.9                                                   </td><td>21.1                                                   </td><td>0.528                                                  </td><td>                                                       </td></tr>\n",
       "\t<tr><td>Heart Rate                                             </td><td>HR                                                     </td><td>1821                                                   </td><td>66.4                                                   </td><td>66.6                                                   </td><td>-0.2                                                   </td><td>9.5                                                    </td><td>9.5                                                    </td><td>0.031                                                  </td><td>*                                                      </td></tr>\n",
       "\t<tr><td>Peripheral Augmentation Index                          </td><td>P_AI                                                   </td><td>1821                                                   </td><td>111.8                                                  </td><td>123.3                                                  </td><td>-11.5                                                  </td><td>569.0                                                  </td><td>656.5                                                  </td><td>0.388                                                  </td><td>                                                       </td></tr>\n",
       "\t<tr><td>Peripheral Diastolic Pressure                          </td><td>P_DP                                                   </td><td>1821                                                   </td><td>72.2                                                   </td><td>72.2                                                   </td><td>0.0                                                    </td><td>9.9                                                    </td><td>9.9                                                    </td><td>NaN                                                    </td><td>                                                       </td></tr>\n",
       "\t<tr><td>End Systolic Pressure                                  </td><td>P_ESP                                                  </td><td>1821                                                   </td><td>91.2                                                   </td><td>91.2                                                   </td><td>-0.1                                                   </td><td>13.7                                                   </td><td>13.7                                                   </td><td>0.340                                                  </td><td>                                                       </td></tr>\n",
       "\t<tr><td>Peripheral Pulse Maximum dP/dt                         </td><td>P_MAX_DPDT                                             </td><td>1821                                                   </td><td>704.9                                                  </td><td>706.6                                                  </td><td>-1.7                                                   </td><td>234.1                                                  </td><td>233.9                                                  </td><td>0.259                                                  </td><td>                                                       </td></tr>\n",
       "\t<tr><td>Peripheral Mean Pressure                               </td><td>P_MEANP                                                </td><td>1821                                                   </td><td>89.0                                                   </td><td>89.0                                                   </td><td>-0.1                                                   </td><td>12.3                                                   </td><td>12.3                                                   </td><td>0.064                                                  </td><td>.                                                      </td></tr>\n",
       "\t<tr><td>Peripheral P1                                          </td><td>P_P1                                                   </td><td>1821                                                   </td><td>117.8                                                  </td><td>117.6                                                  </td><td>0.1                                                    </td><td>17.5                                                   </td><td>17.2                                                   </td><td>0.067                                                  </td><td>.                                                      </td></tr>\n",
       "\t<tr><td>Peripheral P2 - second measurement                     </td><td>P_P2                                                   </td><td>1821                                                   </td><td>140.7                                                  </td><td>151.7                                                  </td><td>-11.0                                                  </td><td>567.3                                                  </td><td>654.6                                                  </td><td>0.410                                                  </td><td>                                                       </td></tr>\n",
       "\t<tr><td>Peripheral Systolic Pressure                           </td><td>P_SP                                                   </td><td>1821                                                   </td><td>118.5                                                  </td><td>118.4                                                  </td><td>0.1                                                    </td><td>17.9                                                   </td><td>17.6                                                   </td><td>0.317                                                  </td><td>                                                       </td></tr>\n",
       "\t<tr><td>Adjusted Peripheral T1                                 </td><td>P_T1                                                   </td><td>1821                                                   </td><td>108.5                                                  </td><td>108.4                                                  </td><td>0.1                                                    </td><td>14.6                                                   </td><td>14.7                                                   </td><td>0.588                                                  </td><td>                                                       </td></tr>\n",
       "\t<tr><td>Peripheral T1/ED %                                     </td><td>P_T1ED                                                 </td><td>1821                                                   </td><td>33.7                                                   </td><td>33.7                                                   </td><td>0.0                                                    </td><td>4.6                                                    </td><td>4.7                                                    </td><td>0.806                                                  </td><td>                                                       </td></tr>\n",
       "\t<tr><td>Adjusted Peripheral T2                                 </td><td>P_T2                                                   </td><td>1821                                                   </td><td>250.2                                                  </td><td>260.5                                                  </td><td>-10.3                                                  </td><td>561.1                                                  </td><td>647.5                                                  </td><td>0.433                                                  </td><td>                                                       </td></tr>\n",
       "\t<tr><td>Peripheral T2/ED %                                     </td><td>P_T2ED                                                 </td><td>1821                                                   </td><td>100.2                                                  </td><td>111.0                                                  </td><td>-10.8                                                  </td><td>569.3                                                  </td><td>657.0                                                  </td><td>0.420                                                  </td><td>                                                       </td></tr>\n",
       "\t<tr><td>Confidence Level of ED                                 </td><td>QUALITY_ED                                             </td><td>1821                                                   </td><td>0.1                                                    </td><td>0.1                                                    </td><td>-0.0                                                   </td><td>0.4                                                    </td><td>0.4                                                    </td><td>0.147                                                  </td><td>                                                       </td></tr>\n",
       "\t<tr><td>Entered Systolic Pressure                              </td><td>SP                                                     </td><td>1821                                                   </td><td>118.5                                                  </td><td>118.4                                                  </td><td>0.1                                                    </td><td>17.9                                                   </td><td>17.6                                                   </td><td>0.317                                                  </td><td>                                                       </td></tr>\n",
       "</tbody>\n",
       "</table>\n"
      ],
      "text/latex": [
       "\\begin{tabular}{r|llllllllll}\n",
       " description & name & n\\_obs & mean1 & mean2 & meandiff & std1 & std2 & p\\_value & sig\\\\\n",
       "\\hline\n",
       "\t Central Aug/PH \\%                                        & C\\_AGPH                                                  & 1821                                                      & 30.2                                                      & 30.7                                                      & -0.5                                                      & 234.2                                                     & 234.2                                                     & 0.954                                                     &                                                          \\\\\n",
       "\t Central Augmentation Index                              & C\\_AI                                                  & 1821                                                    & 143.3                                                   & 144.4                                                   & -1.1                                                    & 232.7                                                   & 232.8                                                   & 0.885                                                   &                                                        \\\\\n",
       "\t Central Augmented Pressure                              & C\\_AP                                                  & 1821                                                    & 15.0                                                    & 15.2                                                    & -0.2                                                    & 234.2                                                   & 234.2                                                   & 0.983                                                   &                                                        \\\\\n",
       "\t Central Diastolic Duration                              & C\\_DD                                                  & 1821                                                    & 598.4                                                   & 596.0                                                   & 2.4                                                     & 119.9                                                   & 119.3                                                   & 0.017                                                   & *                                                      \\\\\n",
       "\t Period-ED/Period \\%                                      & C\\_DD\\_PERIOD                                           & 1821                                                      & 64.4                                                      & 64.4                                                      & 0.1                                                       & 4.0                                                       & 4.0                                                       & 0.060                                                     & .                                                        \\\\\n",
       "\t Central Diastolic Pressure                              & C\\_DP                                                  & 1821                                                    & 73.3                                                    & 73.3                                                    & -0.0                                                    & 10.0                                                    & 10.0                                                    & 0.422                                                   &                                                        \\\\\n",
       "\t Central Diastolic Time Index                            & C\\_DTI                                                 & 1821                                                    & 3230.5                                                  & 3229.7                                                  & 0.8                                                     & 483.7                                                   & 483.4                                                   & 0.726                                                   &                                                        \\\\\n",
       "\t Central ED/Period \\%                                     & C\\_ED\\_PERIOD                                           & 1821                                                      & 35.6                                                      & 35.7                                                      & -0.1                                                      & 4.0                                                       & 4.0                                                       & 0.058                                                     & .                                                        \\\\\n",
       "\t Central End Systolic Pressure                           & C\\_ESP                                                 & 1821                                                    & 99.1                                                    & 99.2                                                    & -0.1                                                    & 15.6                                                    & 15.5                                                    & 0.309                                                   &                                                        \\\\\n",
       "\t Central Mean Pressure                                   & C\\_MEANP                                               & 1821                                                    & 89.0                                                    & 89.0                                                    & -0.1                                                    & 12.3                                                    & 12.3                                                    & 0.064                                                   & .                                                      \\\\\n",
       "\t Central Pressure at T1                                  & C\\_P1                                                  & 1821                                                    & 99.0                                                    & 98.9                                                    & 0.1                                                     & 13.4                                                    & 13.3                                                    & 0.040                                                   & *                                                      \\\\\n",
       "\t Central Pressure at T1 - Dp                             & C\\_P1\\_HEIGHT                                         & 1821                                                    & 25.8                                                    & 25.6                                                    & 0.1                                                     & 7.2                                                     & 7.1                                                     & 0.009                                                   & *                                                      \\\\\n",
       "\t Central Pressure at T2                                  & C\\_P2                                                  & 1821                                                    & 114.0                                                   & 114.1                                                   & -0.0                                                    & 232.4                                                   & 232.4                                                   & 0.997                                                   &                                                        \\\\\n",
       "\t Central Pulse Period                                    & C\\_PERIOD                                              & 1821                                                    & 921.4                                                   & 918.8                                                   & 2.5                                                     & 131.8                                                   & 131.3                                                   & 0.016                                                   & *                                                      \\\\\n",
       "\t Central Pulse Height                                    & C\\_PH                                                  & 1821                                                    & 35.4                                                    & 35.5                                                    & -0.0                                                    & 11.8                                                    & 11.4                                                    & 0.751                                                   &                                                        \\\\\n",
       "\t Central Systolic Pressure                               & C\\_SP                                                  & 1821                                                    & 108.7                                                   & 108.8                                                   & -0.1                                                    & 17.7                                                    & 17.4                                                    & 0.471                                                   &                                                        \\\\\n",
       "\t Central Buckberg Sub-Endocardial Viability Ratio (SEVR) & C\\_SVI                                                 & 1821                                                    & 156.6                                                   & 156.1                                                   & 0.5                                                     & 28.5                                                    & 28.1                                                    & 0.069                                                   & .                                                      \\\\\n",
       "\t Adjusted Central T1                                     & C\\_T1                                                  & 1821                                                    & 106.0                                                   & 105.5                                                   & 0.5                                                     & 11.6                                                    & 12.5                                                    & 0.031                                                   & *                                                      \\\\\n",
       "\t Central T1/ED \\%                                         & C\\_T1ED                                                  & 1821                                                      & 32.9                                                      & 32.8                                                      & 0.1                                                       & 4.1                                                       & 4.5                                                       & 0.085                                                     & .                                                        \\\\\n",
       "\t Adjusted Central T2                                     & C\\_T2                                                  & 1821                                                    & 233.0                                                   & 233.0                                                   & -0.0                                                    & 230.0                                                   & 230.1                                                   & 0.998                                                   &                                                        \\\\\n",
       "\t Central T2/ED \\%                                         & C\\_T2ED                                                  & 1821                                                      & 75.9                                                      & 75.9                                                      & -0.0                                                      & 232.7                                                     & 232.7                                                     & 0.999                                                     &                                                          \\\\\n",
       "\t Central Tension Time Index                              & C\\_TTI                                                 & 1821                                                    & 2108.0                                                  & 2113.2                                                  & -5.3                                                    & 386.9                                                   & 387.7                                                   & 0.032                                                   & *                                                      \\\\\n",
       "\t Entered Diastolic Pressur                               & DP                                                      & 1821                                                    & 72.2                                                    & 72.2                                                    & 0.0                                                     & 9.9                                                     & 9.9                                                     & NaN                                                     &                                                        \\\\\n",
       "\t Ejection Duration (ms)                                  & ED                                                      & 1821                                                    & 323.0                                                   & 322.9                                                   & 0.1                                                     & 20.9                                                    & 21.1                                                    & 0.528                                                   &                                                        \\\\\n",
       "\t Heart Rate                                              & HR                                                      & 1821                                                    & 66.4                                                    & 66.6                                                    & -0.2                                                    & 9.5                                                     & 9.5                                                     & 0.031                                                   & *                                                      \\\\\n",
       "\t Peripheral Augmentation Index                           & P\\_AI                                                  & 1821                                                    & 111.8                                                   & 123.3                                                   & -11.5                                                   & 569.0                                                   & 656.5                                                   & 0.388                                                   &                                                        \\\\\n",
       "\t Peripheral Diastolic Pressure                           & P\\_DP                                                  & 1821                                                    & 72.2                                                    & 72.2                                                    & 0.0                                                     & 9.9                                                     & 9.9                                                     & NaN                                                     &                                                        \\\\\n",
       "\t End Systolic Pressure                                   & P\\_ESP                                                 & 1821                                                    & 91.2                                                    & 91.2                                                    & -0.1                                                    & 13.7                                                    & 13.7                                                    & 0.340                                                   &                                                        \\\\\n",
       "\t Peripheral Pulse Maximum dP/dt                          & P\\_MAX\\_DPDT                                          & 1821                                                    & 704.9                                                   & 706.6                                                   & -1.7                                                    & 234.1                                                   & 233.9                                                   & 0.259                                                   &                                                        \\\\\n",
       "\t Peripheral Mean Pressure                                & P\\_MEANP                                               & 1821                                                    & 89.0                                                    & 89.0                                                    & -0.1                                                    & 12.3                                                    & 12.3                                                    & 0.064                                                   & .                                                      \\\\\n",
       "\t Peripheral P1                                           & P\\_P1                                                  & 1821                                                    & 117.8                                                   & 117.6                                                   & 0.1                                                     & 17.5                                                    & 17.2                                                    & 0.067                                                   & .                                                      \\\\\n",
       "\t Peripheral P2 - second measurement                      & P\\_P2                                                  & 1821                                                    & 140.7                                                   & 151.7                                                   & -11.0                                                   & 567.3                                                   & 654.6                                                   & 0.410                                                   &                                                        \\\\\n",
       "\t Peripheral Systolic Pressure                            & P\\_SP                                                  & 1821                                                    & 118.5                                                   & 118.4                                                   & 0.1                                                     & 17.9                                                    & 17.6                                                    & 0.317                                                   &                                                        \\\\\n",
       "\t Adjusted Peripheral T1                                  & P\\_T1                                                  & 1821                                                    & 108.5                                                   & 108.4                                                   & 0.1                                                     & 14.6                                                    & 14.7                                                    & 0.588                                                   &                                                        \\\\\n",
       "\t Peripheral T1/ED \\%                                      & P\\_T1ED                                                  & 1821                                                      & 33.7                                                      & 33.7                                                      & 0.0                                                       & 4.6                                                       & 4.7                                                       & 0.806                                                     &                                                          \\\\\n",
       "\t Adjusted Peripheral T2                                  & P\\_T2                                                  & 1821                                                    & 250.2                                                   & 260.5                                                   & -10.3                                                   & 561.1                                                   & 647.5                                                   & 0.433                                                   &                                                        \\\\\n",
       "\t Peripheral T2/ED \\%                                      & P\\_T2ED                                                  & 1821                                                      & 100.2                                                     & 111.0                                                     & -10.8                                                     & 569.3                                                     & 657.0                                                     & 0.420                                                     &                                                          \\\\\n",
       "\t Confidence Level of ED                                  & QUALITY\\_ED                                            & 1821                                                    & 0.1                                                     & 0.1                                                     & -0.0                                                    & 0.4                                                     & 0.4                                                     & 0.147                                                   &                                                        \\\\\n",
       "\t Entered Systolic Pressure                               & SP                                                      & 1821                                                    & 118.5                                                   & 118.4                                                   & 0.1                                                     & 17.9                                                    & 17.6                                                    & 0.317                                                   &                                                        \\\\\n",
       "\\end{tabular}\n"
      ],
      "text/markdown": [
       "\n",
       "description | name | n_obs | mean1 | mean2 | meandiff | std1 | std2 | p_value | sig | \n",
       "|---|---|---|---|---|---|---|---|---|---|---|---|---|---|---|---|---|---|---|---|---|---|---|---|---|---|---|---|---|---|---|---|---|---|---|---|---|---|---|\n",
       "| Central Aug/PH %                                        | C_AGPH                                                  | 1821                                                    | 30.2                                                    | 30.7                                                    | -0.5                                                    | 234.2                                                   | 234.2                                                   | 0.954                                                   |                                                         | \n",
       "| Central Augmentation Index                              | C_AI                                                    | 1821                                                    | 143.3                                                   | 144.4                                                   | -1.1                                                    | 232.7                                                   | 232.8                                                   | 0.885                                                   |                                                         | \n",
       "| Central Augmented Pressure                              | C_AP                                                    | 1821                                                    | 15.0                                                    | 15.2                                                    | -0.2                                                    | 234.2                                                   | 234.2                                                   | 0.983                                                   |                                                         | \n",
       "| Central Diastolic Duration                              | C_DD                                                    | 1821                                                    | 598.4                                                   | 596.0                                                   | 2.4                                                     | 119.9                                                   | 119.3                                                   | 0.017                                                   | *                                                       | \n",
       "| Period-ED/Period %                                      | C_DD_PERIOD                                             | 1821                                                    | 64.4                                                    | 64.4                                                    | 0.1                                                     | 4.0                                                     | 4.0                                                     | 0.060                                                   | .                                                       | \n",
       "| Central Diastolic Pressure                              | C_DP                                                    | 1821                                                    | 73.3                                                    | 73.3                                                    | -0.0                                                    | 10.0                                                    | 10.0                                                    | 0.422                                                   |                                                         | \n",
       "| Central Diastolic Time Index                            | C_DTI                                                   | 1821                                                    | 3230.5                                                  | 3229.7                                                  | 0.8                                                     | 483.7                                                   | 483.4                                                   | 0.726                                                   |                                                         | \n",
       "| Central ED/Period %                                     | C_ED_PERIOD                                             | 1821                                                    | 35.6                                                    | 35.7                                                    | -0.1                                                    | 4.0                                                     | 4.0                                                     | 0.058                                                   | .                                                       | \n",
       "| Central End Systolic Pressure                           | C_ESP                                                   | 1821                                                    | 99.1                                                    | 99.2                                                    | -0.1                                                    | 15.6                                                    | 15.5                                                    | 0.309                                                   |                                                         | \n",
       "| Central Mean Pressure                                   | C_MEANP                                                 | 1821                                                    | 89.0                                                    | 89.0                                                    | -0.1                                                    | 12.3                                                    | 12.3                                                    | 0.064                                                   | .                                                       | \n",
       "| Central Pressure at T1                                  | C_P1                                                    | 1821                                                    | 99.0                                                    | 98.9                                                    | 0.1                                                     | 13.4                                                    | 13.3                                                    | 0.040                                                   | *                                                       | \n",
       "| Central Pressure at T1 - Dp                             | C_P1_HEIGHT                                             | 1821                                                    | 25.8                                                    | 25.6                                                    | 0.1                                                     | 7.2                                                     | 7.1                                                     | 0.009                                                   | *                                                       | \n",
       "| Central Pressure at T2                                  | C_P2                                                    | 1821                                                    | 114.0                                                   | 114.1                                                   | -0.0                                                    | 232.4                                                   | 232.4                                                   | 0.997                                                   |                                                         | \n",
       "| Central Pulse Period                                    | C_PERIOD                                                | 1821                                                    | 921.4                                                   | 918.8                                                   | 2.5                                                     | 131.8                                                   | 131.3                                                   | 0.016                                                   | *                                                       | \n",
       "| Central Pulse Height                                    | C_PH                                                    | 1821                                                    | 35.4                                                    | 35.5                                                    | -0.0                                                    | 11.8                                                    | 11.4                                                    | 0.751                                                   |                                                         | \n",
       "| Central Systolic Pressure                               | C_SP                                                    | 1821                                                    | 108.7                                                   | 108.8                                                   | -0.1                                                    | 17.7                                                    | 17.4                                                    | 0.471                                                   |                                                         | \n",
       "| Central Buckberg Sub-Endocardial Viability Ratio (SEVR) | C_SVI                                                   | 1821                                                    | 156.6                                                   | 156.1                                                   | 0.5                                                     | 28.5                                                    | 28.1                                                    | 0.069                                                   | .                                                       | \n",
       "| Adjusted Central T1                                     | C_T1                                                    | 1821                                                    | 106.0                                                   | 105.5                                                   | 0.5                                                     | 11.6                                                    | 12.5                                                    | 0.031                                                   | *                                                       | \n",
       "| Central T1/ED %                                         | C_T1ED                                                  | 1821                                                    | 32.9                                                    | 32.8                                                    | 0.1                                                     | 4.1                                                     | 4.5                                                     | 0.085                                                   | .                                                       | \n",
       "| Adjusted Central T2                                     | C_T2                                                    | 1821                                                    | 233.0                                                   | 233.0                                                   | -0.0                                                    | 230.0                                                   | 230.1                                                   | 0.998                                                   |                                                         | \n",
       "| Central T2/ED %                                         | C_T2ED                                                  | 1821                                                    | 75.9                                                    | 75.9                                                    | -0.0                                                    | 232.7                                                   | 232.7                                                   | 0.999                                                   |                                                         | \n",
       "| Central Tension Time Index                              | C_TTI                                                   | 1821                                                    | 2108.0                                                  | 2113.2                                                  | -5.3                                                    | 386.9                                                   | 387.7                                                   | 0.032                                                   | *                                                       | \n",
       "| Entered Diastolic Pressur                               | DP                                                      | 1821                                                    | 72.2                                                    | 72.2                                                    | 0.0                                                     | 9.9                                                     | 9.9                                                     | NaN                                                     |                                                         | \n",
       "| Ejection Duration (ms)                                  | ED                                                      | 1821                                                    | 323.0                                                   | 322.9                                                   | 0.1                                                     | 20.9                                                    | 21.1                                                    | 0.528                                                   |                                                         | \n",
       "| Heart Rate                                              | HR                                                      | 1821                                                    | 66.4                                                    | 66.6                                                    | -0.2                                                    | 9.5                                                     | 9.5                                                     | 0.031                                                   | *                                                       | \n",
       "| Peripheral Augmentation Index                           | P_AI                                                    | 1821                                                    | 111.8                                                   | 123.3                                                   | -11.5                                                   | 569.0                                                   | 656.5                                                   | 0.388                                                   |                                                         | \n",
       "| Peripheral Diastolic Pressure                           | P_DP                                                    | 1821                                                    | 72.2                                                    | 72.2                                                    | 0.0                                                     | 9.9                                                     | 9.9                                                     | NaN                                                     |                                                         | \n",
       "| End Systolic Pressure                                   | P_ESP                                                   | 1821                                                    | 91.2                                                    | 91.2                                                    | -0.1                                                    | 13.7                                                    | 13.7                                                    | 0.340                                                   |                                                         | \n",
       "| Peripheral Pulse Maximum dP/dt                          | P_MAX_DPDT                                              | 1821                                                    | 704.9                                                   | 706.6                                                   | -1.7                                                    | 234.1                                                   | 233.9                                                   | 0.259                                                   |                                                         | \n",
       "| Peripheral Mean Pressure                                | P_MEANP                                                 | 1821                                                    | 89.0                                                    | 89.0                                                    | -0.1                                                    | 12.3                                                    | 12.3                                                    | 0.064                                                   | .                                                       | \n",
       "| Peripheral P1                                           | P_P1                                                    | 1821                                                    | 117.8                                                   | 117.6                                                   | 0.1                                                     | 17.5                                                    | 17.2                                                    | 0.067                                                   | .                                                       | \n",
       "| Peripheral P2 - second measurement                      | P_P2                                                    | 1821                                                    | 140.7                                                   | 151.7                                                   | -11.0                                                   | 567.3                                                   | 654.6                                                   | 0.410                                                   |                                                         | \n",
       "| Peripheral Systolic Pressure                            | P_SP                                                    | 1821                                                    | 118.5                                                   | 118.4                                                   | 0.1                                                     | 17.9                                                    | 17.6                                                    | 0.317                                                   |                                                         | \n",
       "| Adjusted Peripheral T1                                  | P_T1                                                    | 1821                                                    | 108.5                                                   | 108.4                                                   | 0.1                                                     | 14.6                                                    | 14.7                                                    | 0.588                                                   |                                                         | \n",
       "| Peripheral T1/ED %                                      | P_T1ED                                                  | 1821                                                    | 33.7                                                    | 33.7                                                    | 0.0                                                     | 4.6                                                     | 4.7                                                     | 0.806                                                   |                                                         | \n",
       "| Adjusted Peripheral T2                                  | P_T2                                                    | 1821                                                    | 250.2                                                   | 260.5                                                   | -10.3                                                   | 561.1                                                   | 647.5                                                   | 0.433                                                   |                                                         | \n",
       "| Peripheral T2/ED %                                      | P_T2ED                                                  | 1821                                                    | 100.2                                                   | 111.0                                                   | -10.8                                                   | 569.3                                                   | 657.0                                                   | 0.420                                                   |                                                         | \n",
       "| Confidence Level of ED                                  | QUALITY_ED                                              | 1821                                                    | 0.1                                                     | 0.1                                                     | -0.0                                                    | 0.4                                                     | 0.4                                                     | 0.147                                                   |                                                         | \n",
       "| Entered Systolic Pressure                               | SP                                                      | 1821                                                    | 118.5                                                   | 118.4                                                   | 0.1                                                     | 17.9                                                    | 17.6                                                    | 0.317                                                   |                                                         | \n",
       "\n",
       "\n"
      ],
      "text/plain": [
       "   description                                             name        n_obs\n",
       "1  Central Aug/PH %                                        C_AGPH      1821 \n",
       "2  Central Augmentation Index                              C_AI        1821 \n",
       "3  Central Augmented Pressure                              C_AP        1821 \n",
       "4  Central Diastolic Duration                              C_DD        1821 \n",
       "5  Period-ED/Period %                                      C_DD_PERIOD 1821 \n",
       "6  Central Diastolic Pressure                              C_DP        1821 \n",
       "7  Central Diastolic Time Index                            C_DTI       1821 \n",
       "8  Central ED/Period %                                     C_ED_PERIOD 1821 \n",
       "9  Central End Systolic Pressure                           C_ESP       1821 \n",
       "10 Central Mean Pressure                                   C_MEANP     1821 \n",
       "11 Central Pressure at T1                                  C_P1        1821 \n",
       "12 Central Pressure at T1 - Dp                             C_P1_HEIGHT 1821 \n",
       "13 Central Pressure at T2                                  C_P2        1821 \n",
       "14 Central Pulse Period                                    C_PERIOD    1821 \n",
       "15 Central Pulse Height                                    C_PH        1821 \n",
       "16 Central Systolic Pressure                               C_SP        1821 \n",
       "17 Central Buckberg Sub-Endocardial Viability Ratio (SEVR) C_SVI       1821 \n",
       "18 Adjusted Central T1                                     C_T1        1821 \n",
       "19 Central T1/ED %                                         C_T1ED      1821 \n",
       "20 Adjusted Central T2                                     C_T2        1821 \n",
       "21 Central T2/ED %                                         C_T2ED      1821 \n",
       "22 Central Tension Time Index                              C_TTI       1821 \n",
       "23 Entered Diastolic Pressur                               DP          1821 \n",
       "24 Ejection Duration (ms)                                  ED          1821 \n",
       "25 Heart Rate                                              HR          1821 \n",
       "26 Peripheral Augmentation Index                           P_AI        1821 \n",
       "27 Peripheral Diastolic Pressure                           P_DP        1821 \n",
       "28 End Systolic Pressure                                   P_ESP       1821 \n",
       "29 Peripheral Pulse Maximum dP/dt                          P_MAX_DPDT  1821 \n",
       "30 Peripheral Mean Pressure                                P_MEANP     1821 \n",
       "31 Peripheral P1                                           P_P1        1821 \n",
       "32 Peripheral P2 - second measurement                      P_P2        1821 \n",
       "33 Peripheral Systolic Pressure                            P_SP        1821 \n",
       "34 Adjusted Peripheral T1                                  P_T1        1821 \n",
       "35 Peripheral T1/ED %                                      P_T1ED      1821 \n",
       "36 Adjusted Peripheral T2                                  P_T2        1821 \n",
       "37 Peripheral T2/ED %                                      P_T2ED      1821 \n",
       "38 Confidence Level of ED                                  QUALITY_ED  1821 \n",
       "39 Entered Systolic Pressure                               SP          1821 \n",
       "   mean1  mean2  meandiff std1  std2  p_value sig\n",
       "1  30.2   30.7   -0.5     234.2 234.2 0.954      \n",
       "2  143.3  144.4  -1.1     232.7 232.8 0.885      \n",
       "3  15.0   15.2   -0.2     234.2 234.2 0.983      \n",
       "4  598.4  596.0  2.4      119.9 119.3 0.017   *  \n",
       "5  64.4   64.4   0.1      4.0   4.0   0.060   .  \n",
       "6  73.3   73.3   -0.0     10.0  10.0  0.422      \n",
       "7  3230.5 3229.7 0.8      483.7 483.4 0.726      \n",
       "8  35.6   35.7   -0.1     4.0   4.0   0.058   .  \n",
       "9  99.1   99.2   -0.1     15.6  15.5  0.309      \n",
       "10 89.0   89.0   -0.1     12.3  12.3  0.064   .  \n",
       "11 99.0   98.9   0.1      13.4  13.3  0.040   *  \n",
       "12 25.8   25.6   0.1      7.2   7.1   0.009   *  \n",
       "13 114.0  114.1  -0.0     232.4 232.4 0.997      \n",
       "14 921.4  918.8  2.5      131.8 131.3 0.016   *  \n",
       "15 35.4   35.5   -0.0     11.8  11.4  0.751      \n",
       "16 108.7  108.8  -0.1     17.7  17.4  0.471      \n",
       "17 156.6  156.1  0.5      28.5  28.1  0.069   .  \n",
       "18 106.0  105.5  0.5      11.6  12.5  0.031   *  \n",
       "19 32.9   32.8   0.1      4.1   4.5   0.085   .  \n",
       "20 233.0  233.0  -0.0     230.0 230.1 0.998      \n",
       "21 75.9   75.9   -0.0     232.7 232.7 0.999      \n",
       "22 2108.0 2113.2 -5.3     386.9 387.7 0.032   *  \n",
       "23 72.2   72.2   0.0      9.9   9.9   NaN        \n",
       "24 323.0  322.9  0.1      20.9  21.1  0.528      \n",
       "25 66.4   66.6   -0.2     9.5   9.5   0.031   *  \n",
       "26 111.8  123.3  -11.5    569.0 656.5 0.388      \n",
       "27 72.2   72.2   0.0      9.9   9.9   NaN        \n",
       "28 91.2   91.2   -0.1     13.7  13.7  0.340      \n",
       "29 704.9  706.6  -1.7     234.1 233.9 0.259      \n",
       "30 89.0   89.0   -0.1     12.3  12.3  0.064   .  \n",
       "31 117.8  117.6  0.1      17.5  17.2  0.067   .  \n",
       "32 140.7  151.7  -11.0    567.3 654.6 0.410      \n",
       "33 118.5  118.4  0.1      17.9  17.6  0.317      \n",
       "34 108.5  108.4  0.1      14.6  14.7  0.588      \n",
       "35 33.7   33.7   0.0      4.6   4.7   0.806      \n",
       "36 250.2  260.5  -10.3    561.1 647.5 0.433      \n",
       "37 100.2  111.0  -10.8    569.3 657.0 0.420      \n",
       "38 0.1    0.1    -0.0     0.4   0.4   0.147      \n",
       "39 118.5  118.4  0.1      17.9  17.6  0.317      "
      ]
     },
     "metadata": {},
     "output_type": "display_data"
    }
   ],
   "source": [
    "compare( full_db, 'SphfirstM_', 'SphsecondM_')"
   ]
  },
  {
   "cell_type": "markdown",
   "metadata": {},
   "source": [
    "## Comparison 2: NEW Sph FIRST Measurement vs. NEW Sph SECOND Measurement"
   ]
  },
  {
   "cell_type": "code",
   "execution_count": 28,
   "metadata": {
    "ExecuteTime": {
     "end_time": "2017-10-19T17:55:11.229787Z",
     "start_time": "2017-10-19T17:55:03.477Z"
    }
   },
   "outputs": [
    {
     "data": {
      "text/html": [
       "<table>\n",
       "<thead><tr><th scope=col>description</th><th scope=col>name</th><th scope=col>n_obs</th><th scope=col>mean1</th><th scope=col>mean2</th><th scope=col>meandiff</th><th scope=col>std1</th><th scope=col>std2</th><th scope=col>p_value</th><th scope=col>sig</th></tr></thead>\n",
       "<tbody>\n",
       "\t<tr><td>Central Aug/PH %                                       </td><td>C_AGPH                                                 </td><td>786                                                    </td><td>31.0                                                   </td><td>35.8                                                   </td><td>-4.8                                                   </td><td>177.9                                                  </td><td>356.2                                                  </td><td>0.735                                                  </td><td>                                                       </td></tr>\n",
       "\t<tr><td>Central Augmentation Index                             </td><td>C_AI                                                   </td><td>786                                                    </td><td>144.0                                                  </td><td>147.9                                                  </td><td>-3.9                                                   </td><td>177.1                                                  </td><td>352.9                                                  </td><td>0.784                                                  </td><td>                                                       </td></tr>\n",
       "\t<tr><td>Central Augmented Pressure                             </td><td>C_AP                                                   </td><td>786                                                    </td><td>16.4                                                   </td><td>21.8                                                   </td><td>-5.4                                                   </td><td>178.1                                                  </td><td>356.4                                                  </td><td>0.702                                                  </td><td>                                                       </td></tr>\n",
       "\t<tr><td>Central Diastolic Duration                             </td><td>C_DD                                                   </td><td>786                                                    </td><td>607.7                                                  </td><td>580.4                                                  </td><td>27.3                                                   </td><td>123.3                                                  </td><td>114.9                                                  </td><td>0.000                                                  </td><td>***                                                    </td></tr>\n",
       "\t<tr><td>Period-ED/Period %                                     </td><td>C_DD_PERIOD                                            </td><td>786                                                    </td><td>64.7                                                   </td><td>63.9                                                   </td><td>0.8                                                    </td><td>4.0                                                    </td><td>3.9                                                    </td><td>0.000                                                  </td><td>***                                                    </td></tr>\n",
       "\t<tr><td>Central Diastolic Pressure                             </td><td>C_DP                                                   </td><td>786                                                    </td><td>76.1                                                   </td><td>75.0                                                   </td><td>1.1                                                    </td><td>11.6                                                   </td><td>10.9                                                   </td><td>0.070                                                  </td><td>.                                                      </td></tr>\n",
       "\t<tr><td>Central Diastolic Time Index                           </td><td>C_DTI                                                  </td><td>786                                                    </td><td>3362.9                                                 </td><td>3268.4                                                 </td><td>94.5                                                   </td><td>533.3                                                  </td><td>513.4                                                  </td><td>0.000                                                  </td><td>***                                                    </td></tr>\n",
       "\t<tr><td>Central ED/Period %                                    </td><td>C_ED_PERIOD                                            </td><td>786                                                    </td><td>35.3                                                   </td><td>36.1                                                   </td><td>-0.8                                                   </td><td>4.0                                                    </td><td>3.9                                                    </td><td>0.000                                                  </td><td>***                                                    </td></tr>\n",
       "\t<tr><td>Central End Systolic Pressure                          </td><td>C_ESP                                                  </td><td>786                                                    </td><td>102.9                                                  </td><td>100.6                                                  </td><td>2.3                                                    </td><td>16.4                                                   </td><td>16.0                                                   </td><td>0.004                                                  </td><td>**                                                     </td></tr>\n",
       "\t<tr><td>Central Mean Pressure                                  </td><td>C_MEANP                                                </td><td>786                                                    </td><td>92.4                                                   </td><td>90.8                                                   </td><td>1.5                                                    </td><td>13.3                                                   </td><td>12.9                                                   </td><td>0.022                                                  </td><td>*                                                      </td></tr>\n",
       "\t<tr><td>Central Pressure at T1                                 </td><td>C_P1                                                   </td><td>786                                                    </td><td>103.1                                                  </td><td>101.5                                                  </td><td>1.6                                                    </td><td>14.0                                                   </td><td>13.8                                                   </td><td>0.022                                                  </td><td>*                                                      </td></tr>\n",
       "\t<tr><td>Central Pressure at T1 - Dp                            </td><td>C_P1_HEIGHT                                            </td><td>786                                                    </td><td>27.0                                                   </td><td>26.4                                                   </td><td>0.5                                                    </td><td>6.8                                                    </td><td>6.6                                                    </td><td>0.096                                                  </td><td>.                                                      </td></tr>\n",
       "\t<tr><td>Central Pressure at T2                                 </td><td>C_P2                                                   </td><td>786                                                    </td><td>119.4                                                  </td><td>123.2                                                  </td><td>-3.8                                                   </td><td>176.7                                                  </td><td>353.2                                                  </td><td>0.789                                                  </td><td>                                                       </td></tr>\n",
       "\t<tr><td>Central Pulse Period                                   </td><td>C_PERIOD                                               </td><td>786                                                    </td><td>932.1                                                  </td><td>901.0                                                  </td><td>31.1                                                   </td><td>136.4                                                  </td><td>128.0                                                  </td><td>0.000                                                  </td><td>***                                                    </td></tr>\n",
       "\t<tr><td>Central Pulse Height                                   </td><td>C_PH                                                   </td><td>786                                                    </td><td>37.1                                                   </td><td>35.7                                                   </td><td>1.4                                                    </td><td>11.7                                                   </td><td>11.0                                                   </td><td>0.013                                                  </td><td>*                                                      </td></tr>\n",
       "\t<tr><td>Central Systolic Pressure                              </td><td>C_SP                                                   </td><td>786                                                    </td><td>113.2                                                  </td><td>110.7                                                  </td><td>2.5                                                    </td><td>18.1                                                   </td><td>17.6                                                   </td><td>0.006                                                  </td><td>*                                                      </td></tr>\n",
       "\t<tr><td>Central Buckberg Sub-Endocardial Viability Ratio (SEVR)</td><td>C_SVI                                                  </td><td>786                                                    </td><td>157.6                                                  </td><td>152.9                                                  </td><td>4.7                                                    </td><td>29.1                                                   </td><td>27.9                                                   </td><td>0.001                                                  </td><td>**                                                     </td></tr>\n",
       "\t<tr><td>Adjusted Central T1                                    </td><td>C_T1                                                   </td><td>786                                                    </td><td>106.1                                                  </td><td>107.0                                                  </td><td>-0.9                                                   </td><td>12.9                                                   </td><td>13.3                                                   </td><td>0.165                                                  </td><td>                                                       </td></tr>\n",
       "\t<tr><td>Central T1/ED %                                        </td><td>C_T1ED                                                 </td><td>786                                                    </td><td>32.8                                                   </td><td>33.5                                                   </td><td>-0.7                                                   </td><td>4.3                                                    </td><td>4.5                                                    </td><td>0.002                                                  </td><td>**                                                     </td></tr>\n",
       "\t<tr><td>Adjusted Central T2                                    </td><td>C_T2                                                   </td><td>786                                                    </td><td>235.0                                                  </td><td>236.1                                                  </td><td>-1.1                                                   </td><td>174.3                                                  </td><td>349.3                                                  </td><td>0.937                                                  </td><td>                                                       </td></tr>\n",
       "\t<tr><td>Central T2/ED %                                        </td><td>C_T2ED                                                 </td><td>786                                                    </td><td>76.8                                                   </td><td>82.4                                                   </td><td>-5.6                                                   </td><td>177.1                                                  </td><td>354.2                                                  </td><td>0.694                                                  </td><td>                                                       </td></tr>\n",
       "\t<tr><td>Central Tension Time Index                             </td><td>C_TTI                                                  </td><td>786                                                    </td><td>2178.4                                                 </td><td>2180.8                                                 </td><td>-2.4                                                   </td><td>395.7                                                  </td><td>392.2                                                  </td><td>0.906                                                  </td><td>                                                       </td></tr>\n",
       "\t<tr><td>Entered Diastolic Pressur                              </td><td>DP                                                     </td><td>786                                                    </td><td>75.0                                                   </td><td>74.0                                                   </td><td>1.0                                                    </td><td>11.5                                                   </td><td>10.8                                                   </td><td>0.074                                                  </td><td>.                                                      </td></tr>\n",
       "\t<tr><td>Ejection Duration (ms)                                 </td><td>ED                                                     </td><td>786                                                    </td><td>324.4                                                  </td><td>320.6                                                  </td><td>3.8                                                    </td><td>22.4                                                   </td><td>22.8                                                   </td><td>0.001                                                  </td><td>**                                                     </td></tr>\n",
       "\t<tr><td>Heart Rate                                             </td><td>HR                                                     </td><td>786                                                    </td><td>65.8                                                   </td><td>68.0                                                   </td><td>-2.2                                                   </td><td>9.6                                                    </td><td>9.8                                                    </td><td>0.000                                                  </td><td>***                                                    </td></tr>\n",
       "\t<tr><td>Peripheral Augmentation Index                          </td><td>P_AI                                                   </td><td>786                                                    </td><td>142.5                                                  </td><td>163.8                                                  </td><td>-21.4                                                  </td><td>705.2                                                  </td><td>853.1                                                  </td><td>0.590                                                  </td><td>                                                       </td></tr>\n",
       "\t<tr><td>Peripheral Diastolic Pressure                          </td><td>P_DP                                                   </td><td>786                                                    </td><td>75.0                                                   </td><td>74.0                                                   </td><td>1.0                                                    </td><td>11.5                                                   </td><td>10.8                                                   </td><td>0.073                                                  </td><td>.                                                      </td></tr>\n",
       "\t<tr><td>End Systolic Pressure                                  </td><td>P_ESP                                                  </td><td>786                                                    </td><td>94.4                                                   </td><td>92.1                                                   </td><td>2.3                                                    </td><td>14.5                                                   </td><td>14.2                                                   </td><td>0.002                                                  </td><td>**                                                     </td></tr>\n",
       "\t<tr><td>Peripheral Pulse Maximum dP/dt                         </td><td>P_MAX_DPDT                                             </td><td>786                                                    </td><td>741.6                                                  </td><td>715.8                                                  </td><td>25.8                                                   </td><td>215.0                                                  </td><td>217.7                                                  </td><td>0.015                                                  </td><td>*                                                      </td></tr>\n",
       "\t<tr><td>Peripheral Mean Pressure                               </td><td>P_MEANP                                                </td><td>786                                                    </td><td>92.4                                                   </td><td>90.8                                                   </td><td>1.5                                                    </td><td>13.3                                                   </td><td>12.9                                                   </td><td>0.022                                                  </td><td>*                                                      </td></tr>\n",
       "\t<tr><td>Peripheral P1                                          </td><td>P_P1                                                   </td><td>786                                                    </td><td>122.6                                                  </td><td>120.4                                                  </td><td>2.2                                                    </td><td>17.2                                                   </td><td>17.2                                                   </td><td>0.010                                                  </td><td>*                                                      </td></tr>\n",
       "\t<tr><td>Peripheral P2 - second measurement                     </td><td>P_P2                                                   </td><td>786                                                    </td><td>175.6                                                  </td><td>195.8                                                  </td><td>-20.1                                                  </td><td>703.0                                                  </td><td>850.6                                                  </td><td>0.611                                                  </td><td>                                                       </td></tr>\n",
       "\t<tr><td>Peripheral Systolic Pressure                           </td><td>P_SP                                                   </td><td>786                                                    </td><td>123.3                                                  </td><td>121.2                                                  </td><td>2.1                                                    </td><td>17.6                                                   </td><td>17.6                                                   </td><td>0.014                                                  </td><td>*                                                      </td></tr>\n",
       "\t<tr><td>Adjusted Peripheral T1                                 </td><td>P_T1                                                   </td><td>786                                                    </td><td>106.9                                                  </td><td>108.9                                                  </td><td>-1.9                                                   </td><td>14.5                                                   </td><td>15.3                                                   </td><td>0.009                                                  </td><td>*                                                      </td></tr>\n",
       "\t<tr><td>Peripheral T1/ED %                                     </td><td>P_T1ED                                                 </td><td>786                                                    </td><td>33.0                                                   </td><td>34.0                                                   </td><td>-1.0                                                   </td><td>4.5                                                    </td><td>4.7                                                    </td><td>0.000                                                  </td><td>***                                                    </td></tr>\n",
       "\t<tr><td>Adjusted Peripheral T2                                 </td><td>P_T2                                                   </td><td>786                                                    </td><td>281.3                                                  </td><td>301.2                                                  </td><td>-19.9                                                  </td><td>695.3                                                  </td><td>840.9                                                  </td><td>0.612                                                  </td><td>                                                       </td></tr>\n",
       "\t<tr><td>Peripheral T2/ED %                                     </td><td>P_T2ED                                                 </td><td>786                                                    </td><td>130.7                                                  </td><td>153.7                                                  </td><td>-23.0                                                  </td><td>706.2                                                  </td><td>853.9                                                  </td><td>0.562                                                  </td><td>                                                       </td></tr>\n",
       "\t<tr><td>Confidence Level of ED                                 </td><td>QUALITY_ED                                             </td><td>786                                                    </td><td>0.1                                                    </td><td>0.1                                                    </td><td>-0.0                                                   </td><td>0.4                                                    </td><td>0.4                                                    </td><td>0.504                                                  </td><td>                                                       </td></tr>\n",
       "\t<tr><td>Entered Systolic Pressure                              </td><td>SP                                                     </td><td>786                                                    </td><td>123.3                                                  </td><td>121.1                                                  </td><td>2.2                                                    </td><td>17.6                                                   </td><td>17.6                                                   </td><td>0.012                                                  </td><td>*                                                      </td></tr>\n",
       "</tbody>\n",
       "</table>\n"
      ],
      "text/latex": [
       "\\begin{tabular}{r|llllllllll}\n",
       " description & name & n\\_obs & mean1 & mean2 & meandiff & std1 & std2 & p\\_value & sig\\\\\n",
       "\\hline\n",
       "\t Central Aug/PH \\%                                        & C\\_AGPH                                                  & 786                                                       & 31.0                                                      & 35.8                                                      & -4.8                                                      & 177.9                                                     & 356.2                                                     & 0.735                                                     &                                                          \\\\\n",
       "\t Central Augmentation Index                              & C\\_AI                                                  & 786                                                     & 144.0                                                   & 147.9                                                   & -3.9                                                    & 177.1                                                   & 352.9                                                   & 0.784                                                   &                                                        \\\\\n",
       "\t Central Augmented Pressure                              & C\\_AP                                                  & 786                                                     & 16.4                                                    & 21.8                                                    & -5.4                                                    & 178.1                                                   & 356.4                                                   & 0.702                                                   &                                                        \\\\\n",
       "\t Central Diastolic Duration                              & C\\_DD                                                  & 786                                                     & 607.7                                                   & 580.4                                                   & 27.3                                                    & 123.3                                                   & 114.9                                                   & 0.000                                                   & ***                                                    \\\\\n",
       "\t Period-ED/Period \\%                                      & C\\_DD\\_PERIOD                                           & 786                                                       & 64.7                                                      & 63.9                                                      & 0.8                                                       & 4.0                                                       & 3.9                                                       & 0.000                                                     & ***                                                      \\\\\n",
       "\t Central Diastolic Pressure                              & C\\_DP                                                  & 786                                                     & 76.1                                                    & 75.0                                                    & 1.1                                                     & 11.6                                                    & 10.9                                                    & 0.070                                                   & .                                                      \\\\\n",
       "\t Central Diastolic Time Index                            & C\\_DTI                                                 & 786                                                     & 3362.9                                                  & 3268.4                                                  & 94.5                                                    & 533.3                                                   & 513.4                                                   & 0.000                                                   & ***                                                    \\\\\n",
       "\t Central ED/Period \\%                                     & C\\_ED\\_PERIOD                                           & 786                                                       & 35.3                                                      & 36.1                                                      & -0.8                                                      & 4.0                                                       & 3.9                                                       & 0.000                                                     & ***                                                      \\\\\n",
       "\t Central End Systolic Pressure                           & C\\_ESP                                                 & 786                                                     & 102.9                                                   & 100.6                                                   & 2.3                                                     & 16.4                                                    & 16.0                                                    & 0.004                                                   & **                                                     \\\\\n",
       "\t Central Mean Pressure                                   & C\\_MEANP                                               & 786                                                     & 92.4                                                    & 90.8                                                    & 1.5                                                     & 13.3                                                    & 12.9                                                    & 0.022                                                   & *                                                      \\\\\n",
       "\t Central Pressure at T1                                  & C\\_P1                                                  & 786                                                     & 103.1                                                   & 101.5                                                   & 1.6                                                     & 14.0                                                    & 13.8                                                    & 0.022                                                   & *                                                      \\\\\n",
       "\t Central Pressure at T1 - Dp                             & C\\_P1\\_HEIGHT                                         & 786                                                     & 27.0                                                    & 26.4                                                    & 0.5                                                     & 6.8                                                     & 6.6                                                     & 0.096                                                   & .                                                      \\\\\n",
       "\t Central Pressure at T2                                  & C\\_P2                                                  & 786                                                     & 119.4                                                   & 123.2                                                   & -3.8                                                    & 176.7                                                   & 353.2                                                   & 0.789                                                   &                                                        \\\\\n",
       "\t Central Pulse Period                                    & C\\_PERIOD                                              & 786                                                     & 932.1                                                   & 901.0                                                   & 31.1                                                    & 136.4                                                   & 128.0                                                   & 0.000                                                   & ***                                                    \\\\\n",
       "\t Central Pulse Height                                    & C\\_PH                                                  & 786                                                     & 37.1                                                    & 35.7                                                    & 1.4                                                     & 11.7                                                    & 11.0                                                    & 0.013                                                   & *                                                      \\\\\n",
       "\t Central Systolic Pressure                               & C\\_SP                                                  & 786                                                     & 113.2                                                   & 110.7                                                   & 2.5                                                     & 18.1                                                    & 17.6                                                    & 0.006                                                   & *                                                      \\\\\n",
       "\t Central Buckberg Sub-Endocardial Viability Ratio (SEVR) & C\\_SVI                                                 & 786                                                     & 157.6                                                   & 152.9                                                   & 4.7                                                     & 29.1                                                    & 27.9                                                    & 0.001                                                   & **                                                     \\\\\n",
       "\t Adjusted Central T1                                     & C\\_T1                                                  & 786                                                     & 106.1                                                   & 107.0                                                   & -0.9                                                    & 12.9                                                    & 13.3                                                    & 0.165                                                   &                                                        \\\\\n",
       "\t Central T1/ED \\%                                         & C\\_T1ED                                                  & 786                                                       & 32.8                                                      & 33.5                                                      & -0.7                                                      & 4.3                                                       & 4.5                                                       & 0.002                                                     & **                                                       \\\\\n",
       "\t Adjusted Central T2                                     & C\\_T2                                                  & 786                                                     & 235.0                                                   & 236.1                                                   & -1.1                                                    & 174.3                                                   & 349.3                                                   & 0.937                                                   &                                                        \\\\\n",
       "\t Central T2/ED \\%                                         & C\\_T2ED                                                  & 786                                                       & 76.8                                                      & 82.4                                                      & -5.6                                                      & 177.1                                                     & 354.2                                                     & 0.694                                                     &                                                          \\\\\n",
       "\t Central Tension Time Index                              & C\\_TTI                                                 & 786                                                     & 2178.4                                                  & 2180.8                                                  & -2.4                                                    & 395.7                                                   & 392.2                                                   & 0.906                                                   &                                                        \\\\\n",
       "\t Entered Diastolic Pressur                               & DP                                                      & 786                                                     & 75.0                                                    & 74.0                                                    & 1.0                                                     & 11.5                                                    & 10.8                                                    & 0.074                                                   & .                                                      \\\\\n",
       "\t Ejection Duration (ms)                                  & ED                                                      & 786                                                     & 324.4                                                   & 320.6                                                   & 3.8                                                     & 22.4                                                    & 22.8                                                    & 0.001                                                   & **                                                     \\\\\n",
       "\t Heart Rate                                              & HR                                                      & 786                                                     & 65.8                                                    & 68.0                                                    & -2.2                                                    & 9.6                                                     & 9.8                                                     & 0.000                                                   & ***                                                    \\\\\n",
       "\t Peripheral Augmentation Index                           & P\\_AI                                                  & 786                                                     & 142.5                                                   & 163.8                                                   & -21.4                                                   & 705.2                                                   & 853.1                                                   & 0.590                                                   &                                                        \\\\\n",
       "\t Peripheral Diastolic Pressure                           & P\\_DP                                                  & 786                                                     & 75.0                                                    & 74.0                                                    & 1.0                                                     & 11.5                                                    & 10.8                                                    & 0.073                                                   & .                                                      \\\\\n",
       "\t End Systolic Pressure                                   & P\\_ESP                                                 & 786                                                     & 94.4                                                    & 92.1                                                    & 2.3                                                     & 14.5                                                    & 14.2                                                    & 0.002                                                   & **                                                     \\\\\n",
       "\t Peripheral Pulse Maximum dP/dt                          & P\\_MAX\\_DPDT                                          & 786                                                     & 741.6                                                   & 715.8                                                   & 25.8                                                    & 215.0                                                   & 217.7                                                   & 0.015                                                   & *                                                      \\\\\n",
       "\t Peripheral Mean Pressure                                & P\\_MEANP                                               & 786                                                     & 92.4                                                    & 90.8                                                    & 1.5                                                     & 13.3                                                    & 12.9                                                    & 0.022                                                   & *                                                      \\\\\n",
       "\t Peripheral P1                                           & P\\_P1                                                  & 786                                                     & 122.6                                                   & 120.4                                                   & 2.2                                                     & 17.2                                                    & 17.2                                                    & 0.010                                                   & *                                                      \\\\\n",
       "\t Peripheral P2 - second measurement                      & P\\_P2                                                  & 786                                                     & 175.6                                                   & 195.8                                                   & -20.1                                                   & 703.0                                                   & 850.6                                                   & 0.611                                                   &                                                        \\\\\n",
       "\t Peripheral Systolic Pressure                            & P\\_SP                                                  & 786                                                     & 123.3                                                   & 121.2                                                   & 2.1                                                     & 17.6                                                    & 17.6                                                    & 0.014                                                   & *                                                      \\\\\n",
       "\t Adjusted Peripheral T1                                  & P\\_T1                                                  & 786                                                     & 106.9                                                   & 108.9                                                   & -1.9                                                    & 14.5                                                    & 15.3                                                    & 0.009                                                   & *                                                      \\\\\n",
       "\t Peripheral T1/ED \\%                                      & P\\_T1ED                                                  & 786                                                       & 33.0                                                      & 34.0                                                      & -1.0                                                      & 4.5                                                       & 4.7                                                       & 0.000                                                     & ***                                                      \\\\\n",
       "\t Adjusted Peripheral T2                                  & P\\_T2                                                  & 786                                                     & 281.3                                                   & 301.2                                                   & -19.9                                                   & 695.3                                                   & 840.9                                                   & 0.612                                                   &                                                        \\\\\n",
       "\t Peripheral T2/ED \\%                                      & P\\_T2ED                                                  & 786                                                       & 130.7                                                     & 153.7                                                     & -23.0                                                     & 706.2                                                     & 853.9                                                     & 0.562                                                     &                                                          \\\\\n",
       "\t Confidence Level of ED                                  & QUALITY\\_ED                                            & 786                                                     & 0.1                                                     & 0.1                                                     & -0.0                                                    & 0.4                                                     & 0.4                                                     & 0.504                                                   &                                                        \\\\\n",
       "\t Entered Systolic Pressure                               & SP                                                      & 786                                                     & 123.3                                                   & 121.1                                                   & 2.2                                                     & 17.6                                                    & 17.6                                                    & 0.012                                                   & *                                                      \\\\\n",
       "\\end{tabular}\n"
      ],
      "text/markdown": [
       "\n",
       "description | name | n_obs | mean1 | mean2 | meandiff | std1 | std2 | p_value | sig | \n",
       "|---|---|---|---|---|---|---|---|---|---|---|---|---|---|---|---|---|---|---|---|---|---|---|---|---|---|---|---|---|---|---|---|---|---|---|---|---|---|---|\n",
       "| Central Aug/PH %                                        | C_AGPH                                                  | 786                                                     | 31.0                                                    | 35.8                                                    | -4.8                                                    | 177.9                                                   | 356.2                                                   | 0.735                                                   |                                                         | \n",
       "| Central Augmentation Index                              | C_AI                                                    | 786                                                     | 144.0                                                   | 147.9                                                   | -3.9                                                    | 177.1                                                   | 352.9                                                   | 0.784                                                   |                                                         | \n",
       "| Central Augmented Pressure                              | C_AP                                                    | 786                                                     | 16.4                                                    | 21.8                                                    | -5.4                                                    | 178.1                                                   | 356.4                                                   | 0.702                                                   |                                                         | \n",
       "| Central Diastolic Duration                              | C_DD                                                    | 786                                                     | 607.7                                                   | 580.4                                                   | 27.3                                                    | 123.3                                                   | 114.9                                                   | 0.000                                                   | ***                                                     | \n",
       "| Period-ED/Period %                                      | C_DD_PERIOD                                             | 786                                                     | 64.7                                                    | 63.9                                                    | 0.8                                                     | 4.0                                                     | 3.9                                                     | 0.000                                                   | ***                                                     | \n",
       "| Central Diastolic Pressure                              | C_DP                                                    | 786                                                     | 76.1                                                    | 75.0                                                    | 1.1                                                     | 11.6                                                    | 10.9                                                    | 0.070                                                   | .                                                       | \n",
       "| Central Diastolic Time Index                            | C_DTI                                                   | 786                                                     | 3362.9                                                  | 3268.4                                                  | 94.5                                                    | 533.3                                                   | 513.4                                                   | 0.000                                                   | ***                                                     | \n",
       "| Central ED/Period %                                     | C_ED_PERIOD                                             | 786                                                     | 35.3                                                    | 36.1                                                    | -0.8                                                    | 4.0                                                     | 3.9                                                     | 0.000                                                   | ***                                                     | \n",
       "| Central End Systolic Pressure                           | C_ESP                                                   | 786                                                     | 102.9                                                   | 100.6                                                   | 2.3                                                     | 16.4                                                    | 16.0                                                    | 0.004                                                   | **                                                      | \n",
       "| Central Mean Pressure                                   | C_MEANP                                                 | 786                                                     | 92.4                                                    | 90.8                                                    | 1.5                                                     | 13.3                                                    | 12.9                                                    | 0.022                                                   | *                                                       | \n",
       "| Central Pressure at T1                                  | C_P1                                                    | 786                                                     | 103.1                                                   | 101.5                                                   | 1.6                                                     | 14.0                                                    | 13.8                                                    | 0.022                                                   | *                                                       | \n",
       "| Central Pressure at T1 - Dp                             | C_P1_HEIGHT                                             | 786                                                     | 27.0                                                    | 26.4                                                    | 0.5                                                     | 6.8                                                     | 6.6                                                     | 0.096                                                   | .                                                       | \n",
       "| Central Pressure at T2                                  | C_P2                                                    | 786                                                     | 119.4                                                   | 123.2                                                   | -3.8                                                    | 176.7                                                   | 353.2                                                   | 0.789                                                   |                                                         | \n",
       "| Central Pulse Period                                    | C_PERIOD                                                | 786                                                     | 932.1                                                   | 901.0                                                   | 31.1                                                    | 136.4                                                   | 128.0                                                   | 0.000                                                   | ***                                                     | \n",
       "| Central Pulse Height                                    | C_PH                                                    | 786                                                     | 37.1                                                    | 35.7                                                    | 1.4                                                     | 11.7                                                    | 11.0                                                    | 0.013                                                   | *                                                       | \n",
       "| Central Systolic Pressure                               | C_SP                                                    | 786                                                     | 113.2                                                   | 110.7                                                   | 2.5                                                     | 18.1                                                    | 17.6                                                    | 0.006                                                   | *                                                       | \n",
       "| Central Buckberg Sub-Endocardial Viability Ratio (SEVR) | C_SVI                                                   | 786                                                     | 157.6                                                   | 152.9                                                   | 4.7                                                     | 29.1                                                    | 27.9                                                    | 0.001                                                   | **                                                      | \n",
       "| Adjusted Central T1                                     | C_T1                                                    | 786                                                     | 106.1                                                   | 107.0                                                   | -0.9                                                    | 12.9                                                    | 13.3                                                    | 0.165                                                   |                                                         | \n",
       "| Central T1/ED %                                         | C_T1ED                                                  | 786                                                     | 32.8                                                    | 33.5                                                    | -0.7                                                    | 4.3                                                     | 4.5                                                     | 0.002                                                   | **                                                      | \n",
       "| Adjusted Central T2                                     | C_T2                                                    | 786                                                     | 235.0                                                   | 236.1                                                   | -1.1                                                    | 174.3                                                   | 349.3                                                   | 0.937                                                   |                                                         | \n",
       "| Central T2/ED %                                         | C_T2ED                                                  | 786                                                     | 76.8                                                    | 82.4                                                    | -5.6                                                    | 177.1                                                   | 354.2                                                   | 0.694                                                   |                                                         | \n",
       "| Central Tension Time Index                              | C_TTI                                                   | 786                                                     | 2178.4                                                  | 2180.8                                                  | -2.4                                                    | 395.7                                                   | 392.2                                                   | 0.906                                                   |                                                         | \n",
       "| Entered Diastolic Pressur                               | DP                                                      | 786                                                     | 75.0                                                    | 74.0                                                    | 1.0                                                     | 11.5                                                    | 10.8                                                    | 0.074                                                   | .                                                       | \n",
       "| Ejection Duration (ms)                                  | ED                                                      | 786                                                     | 324.4                                                   | 320.6                                                   | 3.8                                                     | 22.4                                                    | 22.8                                                    | 0.001                                                   | **                                                      | \n",
       "| Heart Rate                                              | HR                                                      | 786                                                     | 65.8                                                    | 68.0                                                    | -2.2                                                    | 9.6                                                     | 9.8                                                     | 0.000                                                   | ***                                                     | \n",
       "| Peripheral Augmentation Index                           | P_AI                                                    | 786                                                     | 142.5                                                   | 163.8                                                   | -21.4                                                   | 705.2                                                   | 853.1                                                   | 0.590                                                   |                                                         | \n",
       "| Peripheral Diastolic Pressure                           | P_DP                                                    | 786                                                     | 75.0                                                    | 74.0                                                    | 1.0                                                     | 11.5                                                    | 10.8                                                    | 0.073                                                   | .                                                       | \n",
       "| End Systolic Pressure                                   | P_ESP                                                   | 786                                                     | 94.4                                                    | 92.1                                                    | 2.3                                                     | 14.5                                                    | 14.2                                                    | 0.002                                                   | **                                                      | \n",
       "| Peripheral Pulse Maximum dP/dt                          | P_MAX_DPDT                                              | 786                                                     | 741.6                                                   | 715.8                                                   | 25.8                                                    | 215.0                                                   | 217.7                                                   | 0.015                                                   | *                                                       | \n",
       "| Peripheral Mean Pressure                                | P_MEANP                                                 | 786                                                     | 92.4                                                    | 90.8                                                    | 1.5                                                     | 13.3                                                    | 12.9                                                    | 0.022                                                   | *                                                       | \n",
       "| Peripheral P1                                           | P_P1                                                    | 786                                                     | 122.6                                                   | 120.4                                                   | 2.2                                                     | 17.2                                                    | 17.2                                                    | 0.010                                                   | *                                                       | \n",
       "| Peripheral P2 - second measurement                      | P_P2                                                    | 786                                                     | 175.6                                                   | 195.8                                                   | -20.1                                                   | 703.0                                                   | 850.6                                                   | 0.611                                                   |                                                         | \n",
       "| Peripheral Systolic Pressure                            | P_SP                                                    | 786                                                     | 123.3                                                   | 121.2                                                   | 2.1                                                     | 17.6                                                    | 17.6                                                    | 0.014                                                   | *                                                       | \n",
       "| Adjusted Peripheral T1                                  | P_T1                                                    | 786                                                     | 106.9                                                   | 108.9                                                   | -1.9                                                    | 14.5                                                    | 15.3                                                    | 0.009                                                   | *                                                       | \n",
       "| Peripheral T1/ED %                                      | P_T1ED                                                  | 786                                                     | 33.0                                                    | 34.0                                                    | -1.0                                                    | 4.5                                                     | 4.7                                                     | 0.000                                                   | ***                                                     | \n",
       "| Adjusted Peripheral T2                                  | P_T2                                                    | 786                                                     | 281.3                                                   | 301.2                                                   | -19.9                                                   | 695.3                                                   | 840.9                                                   | 0.612                                                   |                                                         | \n",
       "| Peripheral T2/ED %                                      | P_T2ED                                                  | 786                                                     | 130.7                                                   | 153.7                                                   | -23.0                                                   | 706.2                                                   | 853.9                                                   | 0.562                                                   |                                                         | \n",
       "| Confidence Level of ED                                  | QUALITY_ED                                              | 786                                                     | 0.1                                                     | 0.1                                                     | -0.0                                                    | 0.4                                                     | 0.4                                                     | 0.504                                                   |                                                         | \n",
       "| Entered Systolic Pressure                               | SP                                                      | 786                                                     | 123.3                                                   | 121.1                                                   | 2.2                                                     | 17.6                                                    | 17.6                                                    | 0.012                                                   | *                                                       | \n",
       "\n",
       "\n"
      ],
      "text/plain": [
       "   description                                             name        n_obs\n",
       "1  Central Aug/PH %                                        C_AGPH      786  \n",
       "2  Central Augmentation Index                              C_AI        786  \n",
       "3  Central Augmented Pressure                              C_AP        786  \n",
       "4  Central Diastolic Duration                              C_DD        786  \n",
       "5  Period-ED/Period %                                      C_DD_PERIOD 786  \n",
       "6  Central Diastolic Pressure                              C_DP        786  \n",
       "7  Central Diastolic Time Index                            C_DTI       786  \n",
       "8  Central ED/Period %                                     C_ED_PERIOD 786  \n",
       "9  Central End Systolic Pressure                           C_ESP       786  \n",
       "10 Central Mean Pressure                                   C_MEANP     786  \n",
       "11 Central Pressure at T1                                  C_P1        786  \n",
       "12 Central Pressure at T1 - Dp                             C_P1_HEIGHT 786  \n",
       "13 Central Pressure at T2                                  C_P2        786  \n",
       "14 Central Pulse Period                                    C_PERIOD    786  \n",
       "15 Central Pulse Height                                    C_PH        786  \n",
       "16 Central Systolic Pressure                               C_SP        786  \n",
       "17 Central Buckberg Sub-Endocardial Viability Ratio (SEVR) C_SVI       786  \n",
       "18 Adjusted Central T1                                     C_T1        786  \n",
       "19 Central T1/ED %                                         C_T1ED      786  \n",
       "20 Adjusted Central T2                                     C_T2        786  \n",
       "21 Central T2/ED %                                         C_T2ED      786  \n",
       "22 Central Tension Time Index                              C_TTI       786  \n",
       "23 Entered Diastolic Pressur                               DP          786  \n",
       "24 Ejection Duration (ms)                                  ED          786  \n",
       "25 Heart Rate                                              HR          786  \n",
       "26 Peripheral Augmentation Index                           P_AI        786  \n",
       "27 Peripheral Diastolic Pressure                           P_DP        786  \n",
       "28 End Systolic Pressure                                   P_ESP       786  \n",
       "29 Peripheral Pulse Maximum dP/dt                          P_MAX_DPDT  786  \n",
       "30 Peripheral Mean Pressure                                P_MEANP     786  \n",
       "31 Peripheral P1                                           P_P1        786  \n",
       "32 Peripheral P2 - second measurement                      P_P2        786  \n",
       "33 Peripheral Systolic Pressure                            P_SP        786  \n",
       "34 Adjusted Peripheral T1                                  P_T1        786  \n",
       "35 Peripheral T1/ED %                                      P_T1ED      786  \n",
       "36 Adjusted Peripheral T2                                  P_T2        786  \n",
       "37 Peripheral T2/ED %                                      P_T2ED      786  \n",
       "38 Confidence Level of ED                                  QUALITY_ED  786  \n",
       "39 Entered Systolic Pressure                               SP          786  \n",
       "   mean1  mean2  meandiff std1  std2  p_value sig\n",
       "1  31.0   35.8   -4.8     177.9 356.2 0.735      \n",
       "2  144.0  147.9  -3.9     177.1 352.9 0.784      \n",
       "3  16.4   21.8   -5.4     178.1 356.4 0.702      \n",
       "4  607.7  580.4  27.3     123.3 114.9 0.000   ***\n",
       "5  64.7   63.9   0.8      4.0   3.9   0.000   ***\n",
       "6  76.1   75.0   1.1      11.6  10.9  0.070   .  \n",
       "7  3362.9 3268.4 94.5     533.3 513.4 0.000   ***\n",
       "8  35.3   36.1   -0.8     4.0   3.9   0.000   ***\n",
       "9  102.9  100.6  2.3      16.4  16.0  0.004   ** \n",
       "10 92.4   90.8   1.5      13.3  12.9  0.022   *  \n",
       "11 103.1  101.5  1.6      14.0  13.8  0.022   *  \n",
       "12 27.0   26.4   0.5      6.8   6.6   0.096   .  \n",
       "13 119.4  123.2  -3.8     176.7 353.2 0.789      \n",
       "14 932.1  901.0  31.1     136.4 128.0 0.000   ***\n",
       "15 37.1   35.7   1.4      11.7  11.0  0.013   *  \n",
       "16 113.2  110.7  2.5      18.1  17.6  0.006   *  \n",
       "17 157.6  152.9  4.7      29.1  27.9  0.001   ** \n",
       "18 106.1  107.0  -0.9     12.9  13.3  0.165      \n",
       "19 32.8   33.5   -0.7     4.3   4.5   0.002   ** \n",
       "20 235.0  236.1  -1.1     174.3 349.3 0.937      \n",
       "21 76.8   82.4   -5.6     177.1 354.2 0.694      \n",
       "22 2178.4 2180.8 -2.4     395.7 392.2 0.906      \n",
       "23 75.0   74.0   1.0      11.5  10.8  0.074   .  \n",
       "24 324.4  320.6  3.8      22.4  22.8  0.001   ** \n",
       "25 65.8   68.0   -2.2     9.6   9.8   0.000   ***\n",
       "26 142.5  163.8  -21.4    705.2 853.1 0.590      \n",
       "27 75.0   74.0   1.0      11.5  10.8  0.073   .  \n",
       "28 94.4   92.1   2.3      14.5  14.2  0.002   ** \n",
       "29 741.6  715.8  25.8     215.0 217.7 0.015   *  \n",
       "30 92.4   90.8   1.5      13.3  12.9  0.022   *  \n",
       "31 122.6  120.4  2.2      17.2  17.2  0.010   *  \n",
       "32 175.6  195.8  -20.1    703.0 850.6 0.611      \n",
       "33 123.3  121.2  2.1      17.6  17.6  0.014   *  \n",
       "34 106.9  108.9  -1.9     14.5  15.3  0.009   *  \n",
       "35 33.0   34.0   -1.0     4.5   4.7   0.000   ***\n",
       "36 281.3  301.2  -19.9    695.3 840.9 0.612      \n",
       "37 130.7  153.7  -23.0    706.2 853.9 0.562      \n",
       "38 0.1    0.1    -0.0     0.4   0.4   0.504      \n",
       "39 123.3  121.1  2.2      17.6  17.6  0.012   *  "
      ]
     },
     "metadata": {},
     "output_type": "display_data"
    }
   ],
   "source": [
    "compare( full_db, 'SphPWAFirstM_', 'SphPWASecondM_')"
   ]
  },
  {
   "cell_type": "markdown",
   "metadata": {},
   "source": [
    "## Comparison 3: OLD Sph FIRST Measurement vs. NEW Sph FIRST Measurement"
   ]
  },
  {
   "cell_type": "code",
   "execution_count": 29,
   "metadata": {
    "ExecuteTime": {
     "end_time": "2017-10-19T17:55:14.041105Z",
     "start_time": "2017-10-19T17:55:03.483Z"
    }
   },
   "outputs": [
    {
     "data": {
      "text/html": [
       "<table>\n",
       "<thead><tr><th scope=col>description</th><th scope=col>name</th><th scope=col>n_obs</th><th scope=col>mean1</th><th scope=col>mean2</th><th scope=col>meandiff</th><th scope=col>std1</th><th scope=col>std2</th><th scope=col>p_value</th><th scope=col>sig</th></tr></thead>\n",
       "<tbody>\n",
       "\t<tr><td>Central Aug/PH %                                       </td><td>C_AGPH                                                 </td><td>73                                                     </td><td>23.9                                                   </td><td>26.0                                                   </td><td>-2.2                                                   </td><td>13.8                                                   </td><td>14.7                                                   </td><td>0.022                                                  </td><td>*                                                      </td></tr>\n",
       "\t<tr><td>Central Augmentation Index                             </td><td>C_AI                                                   </td><td>73                                                     </td><td>136.0                                                  </td><td>141.9                                                  </td><td>-5.9                                                   </td><td>26.5                                                   </td><td>31.5                                                   </td><td>0.017                                                  </td><td>*                                                      </td></tr>\n",
       "\t<tr><td>Central Augmented Pressure                             </td><td>C_AP                                                   </td><td>73                                                     </td><td>8.3                                                    </td><td>10.4                                                   </td><td>-2.1                                                   </td><td>6.0                                                    </td><td>7.8                                                    </td><td>0.000                                                  </td><td>***                                                    </td></tr>\n",
       "\t<tr><td>Central Diastolic Duration                             </td><td>C_DD                                                   </td><td>73                                                     </td><td>574.9                                                  </td><td>599.2                                                  </td><td>-24.4                                                  </td><td>127.0                                                  </td><td>132.7                                                  </td><td>0.042                                                  </td><td>*                                                      </td></tr>\n",
       "\t<tr><td>Period-ED/Period %                                     </td><td>C_DD_PERIOD                                            </td><td>73                                                     </td><td>63.8                                                   </td><td>64.3                                                   </td><td>-0.5                                                   </td><td>4.1                                                    </td><td>3.8                                                    </td><td>0.195                                                  </td><td>                                                       </td></tr>\n",
       "\t<tr><td>Central Diastolic Pressure                             </td><td>C_DP                                                   </td><td>73                                                     </td><td>74.0                                                   </td><td>77.6                                                   </td><td>-3.7                                                   </td><td>10.1                                                   </td><td>11.2                                                   </td><td>0.002                                                  </td><td>**                                                     </td></tr>\n",
       "\t<tr><td>Central Diastolic Time Index                           </td><td>C_DTI                                                  </td><td>73                                                     </td><td>3211.4                                                 </td><td>3403.9                                                 </td><td>-192.5                                                 </td><td>504.9                                                  </td><td>533.1                                                  </td><td>0.000                                                  </td><td>***                                                    </td></tr>\n",
       "\t<tr><td>Central ED/Period %                                    </td><td>C_ED_PERIOD                                            </td><td>73                                                     </td><td>36.2                                                   </td><td>35.7                                                   </td><td>0.5                                                    </td><td>4.2                                                    </td><td>3.8                                                    </td><td>0.162                                                  </td><td>                                                       </td></tr>\n",
       "\t<tr><td>Central End Systolic Pressure                          </td><td>C_ESP                                                  </td><td>73                                                     </td><td>98.1                                                   </td><td>104.5                                                  </td><td>-6.4                                                   </td><td>14.5                                                   </td><td>15.9                                                   </td><td>0.000                                                  </td><td>***                                                    </td></tr>\n",
       "\t<tr><td>Central Mean Pressure                                  </td><td>C_MEANP                                                </td><td>73                                                     </td><td>88.8                                                   </td><td>93.7                                                   </td><td>-5.0                                                   </td><td>12.0                                                   </td><td>12.8                                                   </td><td>0.000                                                  </td><td>***                                                    </td></tr>\n",
       "\t<tr><td>Central Pressure at T1                                 </td><td>C_P1                                                   </td><td>73                                                     </td><td>98.4                                                   </td><td>103.9                                                  </td><td>-5.5                                                   </td><td>13.3                                                   </td><td>13.8                                                   </td><td>0.000                                                  </td><td>***                                                    </td></tr>\n",
       "\t<tr><td>Central Pressure at T1 - Dp                            </td><td>C_P1_HEIGHT                                            </td><td>73                                                     </td><td>24.4                                                   </td><td>26.2                                                   </td><td>-1.8                                                   </td><td>6.0                                                    </td><td>6.3                                                    </td><td>0.013                                                  </td><td>*                                                      </td></tr>\n",
       "\t<tr><td>Central Pressure at T2                                 </td><td>C_P2                                                   </td><td>73                                                     </td><td>106.7                                                  </td><td>114.3                                                  </td><td>-7.6                                                   </td><td>15.8                                                   </td><td>17.4                                                   </td><td>0.000                                                  </td><td>***                                                    </td></tr>\n",
       "\t<tr><td>Central Pulse Period                                   </td><td>C_PERIOD                                               </td><td>73                                                     </td><td>892.4                                                  </td><td>923.6                                                  </td><td>-31.2                                                  </td><td>141.4                                                  </td><td>152.8                                                  </td><td>0.025                                                  </td><td>*                                                      </td></tr>\n",
       "\t<tr><td>Central Pulse Height                                   </td><td>C_PH                                                   </td><td>73                                                     </td><td>32.8                                                   </td><td>36.7                                                   </td><td>-3.9                                                   </td><td>8.7                                                    </td><td>10.5                                                   </td><td>0.000                                                  </td><td>***                                                    </td></tr>\n",
       "\t<tr><td>Central Systolic Pressure                              </td><td>C_SP                                                   </td><td>73                                                     </td><td>106.7                                                  </td><td>114.3                                                  </td><td>-7.6                                                   </td><td>15.9                                                   </td><td>17.3                                                   </td><td>0.000                                                  </td><td>***                                                    </td></tr>\n",
       "\t<tr><td>Central Buckberg Sub-Endocardial Viability Ratio (SEVR)</td><td>C_SVI                                                  </td><td>73                                                     </td><td>154.9                                                  </td><td>155.9                                                  </td><td>-0.9                                                   </td><td>29.3                                                   </td><td>27.3                                                   </td><td>0.728                                                  </td><td>                                                       </td></tr>\n",
       "\t<tr><td>Adjusted Central T1                                    </td><td>C_T1                                                   </td><td>73                                                     </td><td>108.2                                                  </td><td>108.1                                                  </td><td>0.1                                                    </td><td>10.6                                                   </td><td>12.5                                                   </td><td>0.936                                                  </td><td>                                                       </td></tr>\n",
       "\t<tr><td>Central T1/ED %                                        </td><td>C_T1ED                                                 </td><td>73                                                     </td><td>34.3                                                   </td><td>33.5                                                   </td><td>0.8                                                    </td><td>4.0                                                    </td><td>4.0                                                    </td><td>0.085                                                  </td><td>.                                                      </td></tr>\n",
       "\t<tr><td>Adjusted Central T2                                    </td><td>C_T2                                                   </td><td>73                                                     </td><td>225.9                                                  </td><td>229.8                                                  </td><td>-3.8                                                   </td><td>25.0                                                   </td><td>26.9                                                   </td><td>0.156                                                  </td><td>                                                       </td></tr>\n",
       "\t<tr><td>Central T2/ED %                                        </td><td>C_T2ED                                                 </td><td>73                                                     </td><td>71.1                                                   </td><td>70.7                                                   </td><td>0.4                                                    </td><td>4.8                                                    </td><td>4.3                                                    </td><td>0.454                                                  </td><td>                                                       </td></tr>\n",
       "\t<tr><td>Central Tension Time Index                             </td><td>C_TTI                                                  </td><td>73                                                     </td><td>2114.0                                                 </td><td>2220.0                                                 </td><td>-105.9                                                 </td><td>361.7                                                  </td><td>359.4                                                  </td><td>0.001                                                  </td><td>**                                                     </td></tr>\n",
       "\t<tr><td>Entered Diastolic Pressur                              </td><td>DP                                                     </td><td>73                                                     </td><td>72.8                                                   </td><td>76.6                                                   </td><td>-3.8                                                   </td><td>10.0                                                   </td><td>11.1                                                   </td><td>0.002                                                  </td><td>**                                                     </td></tr>\n",
       "\t<tr><td>Ejection Duration (ms)                                 </td><td>ED                                                     </td><td>73                                                     </td><td>317.5                                                  </td><td>324.3                                                  </td><td>-6.8                                                   </td><td>22.1                                                   </td><td>26.7                                                   </td><td>0.010                                                  </td><td>*                                                      </td></tr>\n",
       "\t<tr><td>Heart Rate                                             </td><td>HR                                                     </td><td>73                                                     </td><td>68.8                                                   </td><td>66.7                                                   </td><td>2.1                                                    </td><td>10.6                                                   </td><td>10.7                                                   </td><td>0.036                                                  </td><td>*                                                      </td></tr>\n",
       "\t<tr><td>Peripheral Augmentation Index                          </td><td>P_AI                                                   </td><td>73                                                     </td><td>78.7                                                   </td><td>82.8                                                   </td><td>-4.1                                                   </td><td>20.7                                                   </td><td>26.8                                                   </td><td>0.069                                                  </td><td>.                                                      </td></tr>\n",
       "\t<tr><td>Peripheral Diastolic Pressure                          </td><td>P_DP                                                   </td><td>73                                                     </td><td>72.8                                                   </td><td>76.6                                                   </td><td>-3.8                                                   </td><td>10.0                                                   </td><td>11.1                                                   </td><td>0.002                                                  </td><td>**                                                     </td></tr>\n",
       "\t<tr><td>End Systolic Pressure                                  </td><td>P_ESP                                                  </td><td>73                                                     </td><td>90.5                                                   </td><td>96.1                                                   </td><td>-5.6                                                   </td><td>13.3                                                   </td><td>14.7                                                   </td><td>0.000                                                  </td><td>***                                                    </td></tr>\n",
       "\t<tr><td>Peripheral Pulse Maximum dP/dt                         </td><td>P_MAX_DPDT                                             </td><td>73                                                     </td><td>652.0                                                  </td><td>688.2                                                  </td><td>-36.2                                                  </td><td>173.6                                                  </td><td>189.4                                                  </td><td>0.087                                                  </td><td>.                                                      </td></tr>\n",
       "\t<tr><td>Peripheral Mean Pressure                               </td><td>P_MEANP                                                </td><td>73                                                     </td><td>88.8                                                   </td><td>93.7                                                   </td><td>-5.0                                                   </td><td>12.0                                                   </td><td>12.8                                                   </td><td>0.000                                                  </td><td>***                                                    </td></tr>\n",
       "\t<tr><td>Peripheral P1                                          </td><td>P_P1                                                   </td><td>73                                                     </td><td>115.9                                                  </td><td>122.5                                                  </td><td>-6.6                                                   </td><td>16.6                                                   </td><td>17.1                                                   </td><td>0.000                                                  </td><td>***                                                    </td></tr>\n",
       "\t<tr><td>Peripheral P2 - second measurement                     </td><td>P_P2                                                   </td><td>73                                                     </td><td>106.1                                                  </td><td>114.0                                                  </td><td>-7.9                                                   </td><td>17.2                                                   </td><td>19.1                                                   </td><td>0.000                                                  </td><td>***                                                    </td></tr>\n",
       "\t<tr><td>Peripheral Systolic Pressure                           </td><td>P_SP                                                   </td><td>73                                                     </td><td>116.6                                                  </td><td>124.0                                                  </td><td>-7.4                                                   </td><td>16.5                                                   </td><td>17.4                                                   </td><td>0.000                                                  </td><td>***                                                    </td></tr>\n",
       "\t<tr><td>Adjusted Peripheral T1                                 </td><td>P_T1                                                   </td><td>73                                                     </td><td>108.3                                                  </td><td>109.8                                                  </td><td>-1.4                                                   </td><td>11.5                                                   </td><td>14.5                                                   </td><td>0.396                                                  </td><td>                                                       </td></tr>\n",
       "\t<tr><td>Peripheral T1/ED %                                     </td><td>P_T1ED                                                 </td><td>73                                                     </td><td>34.2                                                   </td><td>34.0                                                   </td><td>0.2                                                    </td><td>3.5                                                    </td><td>4.5                                                    </td><td>0.643                                                  </td><td>                                                       </td></tr>\n",
       "\t<tr><td>Adjusted Peripheral T2                                 </td><td>P_T2                                                   </td><td>73                                                     </td><td>215.5                                                  </td><td>218.2                                                  </td><td>-2.7                                                   </td><td>24.7                                                   </td><td>20.4                                                   </td><td>0.334                                                  </td><td>                                                       </td></tr>\n",
       "\t<tr><td>Peripheral T2/ED %                                     </td><td>P_T2ED                                                 </td><td>73                                                     </td><td>67.9                                                   </td><td>67.4                                                   </td><td>0.5                                                    </td><td>5.8                                                    </td><td>4.9                                                    </td><td>0.447                                                  </td><td>                                                       </td></tr>\n",
       "\t<tr><td>Confidence Level of ED                                 </td><td>QUALITY_ED                                             </td><td>73                                                     </td><td>0.0                                                    </td><td>0.0                                                    </td><td>-0.0                                                   </td><td>0.0                                                    </td><td>0.1                                                    </td><td>0.321                                                  </td><td>                                                       </td></tr>\n",
       "\t<tr><td>Entered Systolic Pressure                              </td><td>SP                                                     </td><td>73                                                     </td><td>116.6                                                  </td><td>124.0                                                  </td><td>-7.4                                                   </td><td>16.5                                                   </td><td>17.4                                                   </td><td>0.000                                                  </td><td>***                                                    </td></tr>\n",
       "</tbody>\n",
       "</table>\n"
      ],
      "text/latex": [
       "\\begin{tabular}{r|llllllllll}\n",
       " description & name & n\\_obs & mean1 & mean2 & meandiff & std1 & std2 & p\\_value & sig\\\\\n",
       "\\hline\n",
       "\t Central Aug/PH \\%                                        & C\\_AGPH                                                  & 73                                                        & 23.9                                                      & 26.0                                                      & -2.2                                                      & 13.8                                                      & 14.7                                                      & 0.022                                                     & *                                                        \\\\\n",
       "\t Central Augmentation Index                              & C\\_AI                                                  & 73                                                      & 136.0                                                   & 141.9                                                   & -5.9                                                    & 26.5                                                    & 31.5                                                    & 0.017                                                   & *                                                      \\\\\n",
       "\t Central Augmented Pressure                              & C\\_AP                                                  & 73                                                      & 8.3                                                     & 10.4                                                    & -2.1                                                    & 6.0                                                     & 7.8                                                     & 0.000                                                   & ***                                                    \\\\\n",
       "\t Central Diastolic Duration                              & C\\_DD                                                  & 73                                                      & 574.9                                                   & 599.2                                                   & -24.4                                                   & 127.0                                                   & 132.7                                                   & 0.042                                                   & *                                                      \\\\\n",
       "\t Period-ED/Period \\%                                      & C\\_DD\\_PERIOD                                           & 73                                                        & 63.8                                                      & 64.3                                                      & -0.5                                                      & 4.1                                                       & 3.8                                                       & 0.195                                                     &                                                          \\\\\n",
       "\t Central Diastolic Pressure                              & C\\_DP                                                  & 73                                                      & 74.0                                                    & 77.6                                                    & -3.7                                                    & 10.1                                                    & 11.2                                                    & 0.002                                                   & **                                                     \\\\\n",
       "\t Central Diastolic Time Index                            & C\\_DTI                                                 & 73                                                      & 3211.4                                                  & 3403.9                                                  & -192.5                                                  & 504.9                                                   & 533.1                                                   & 0.000                                                   & ***                                                    \\\\\n",
       "\t Central ED/Period \\%                                     & C\\_ED\\_PERIOD                                           & 73                                                        & 36.2                                                      & 35.7                                                      & 0.5                                                       & 4.2                                                       & 3.8                                                       & 0.162                                                     &                                                          \\\\\n",
       "\t Central End Systolic Pressure                           & C\\_ESP                                                 & 73                                                      & 98.1                                                    & 104.5                                                   & -6.4                                                    & 14.5                                                    & 15.9                                                    & 0.000                                                   & ***                                                    \\\\\n",
       "\t Central Mean Pressure                                   & C\\_MEANP                                               & 73                                                      & 88.8                                                    & 93.7                                                    & -5.0                                                    & 12.0                                                    & 12.8                                                    & 0.000                                                   & ***                                                    \\\\\n",
       "\t Central Pressure at T1                                  & C\\_P1                                                  & 73                                                      & 98.4                                                    & 103.9                                                   & -5.5                                                    & 13.3                                                    & 13.8                                                    & 0.000                                                   & ***                                                    \\\\\n",
       "\t Central Pressure at T1 - Dp                             & C\\_P1\\_HEIGHT                                         & 73                                                      & 24.4                                                    & 26.2                                                    & -1.8                                                    & 6.0                                                     & 6.3                                                     & 0.013                                                   & *                                                      \\\\\n",
       "\t Central Pressure at T2                                  & C\\_P2                                                  & 73                                                      & 106.7                                                   & 114.3                                                   & -7.6                                                    & 15.8                                                    & 17.4                                                    & 0.000                                                   & ***                                                    \\\\\n",
       "\t Central Pulse Period                                    & C\\_PERIOD                                              & 73                                                      & 892.4                                                   & 923.6                                                   & -31.2                                                   & 141.4                                                   & 152.8                                                   & 0.025                                                   & *                                                      \\\\\n",
       "\t Central Pulse Height                                    & C\\_PH                                                  & 73                                                      & 32.8                                                    & 36.7                                                    & -3.9                                                    & 8.7                                                     & 10.5                                                    & 0.000                                                   & ***                                                    \\\\\n",
       "\t Central Systolic Pressure                               & C\\_SP                                                  & 73                                                      & 106.7                                                   & 114.3                                                   & -7.6                                                    & 15.9                                                    & 17.3                                                    & 0.000                                                   & ***                                                    \\\\\n",
       "\t Central Buckberg Sub-Endocardial Viability Ratio (SEVR) & C\\_SVI                                                 & 73                                                      & 154.9                                                   & 155.9                                                   & -0.9                                                    & 29.3                                                    & 27.3                                                    & 0.728                                                   &                                                        \\\\\n",
       "\t Adjusted Central T1                                     & C\\_T1                                                  & 73                                                      & 108.2                                                   & 108.1                                                   & 0.1                                                     & 10.6                                                    & 12.5                                                    & 0.936                                                   &                                                        \\\\\n",
       "\t Central T1/ED \\%                                         & C\\_T1ED                                                  & 73                                                        & 34.3                                                      & 33.5                                                      & 0.8                                                       & 4.0                                                       & 4.0                                                       & 0.085                                                     & .                                                        \\\\\n",
       "\t Adjusted Central T2                                     & C\\_T2                                                  & 73                                                      & 225.9                                                   & 229.8                                                   & -3.8                                                    & 25.0                                                    & 26.9                                                    & 0.156                                                   &                                                        \\\\\n",
       "\t Central T2/ED \\%                                         & C\\_T2ED                                                  & 73                                                        & 71.1                                                      & 70.7                                                      & 0.4                                                       & 4.8                                                       & 4.3                                                       & 0.454                                                     &                                                          \\\\\n",
       "\t Central Tension Time Index                              & C\\_TTI                                                 & 73                                                      & 2114.0                                                  & 2220.0                                                  & -105.9                                                  & 361.7                                                   & 359.4                                                   & 0.001                                                   & **                                                     \\\\\n",
       "\t Entered Diastolic Pressur                               & DP                                                      & 73                                                      & 72.8                                                    & 76.6                                                    & -3.8                                                    & 10.0                                                    & 11.1                                                    & 0.002                                                   & **                                                     \\\\\n",
       "\t Ejection Duration (ms)                                  & ED                                                      & 73                                                      & 317.5                                                   & 324.3                                                   & -6.8                                                    & 22.1                                                    & 26.7                                                    & 0.010                                                   & *                                                      \\\\\n",
       "\t Heart Rate                                              & HR                                                      & 73                                                      & 68.8                                                    & 66.7                                                    & 2.1                                                     & 10.6                                                    & 10.7                                                    & 0.036                                                   & *                                                      \\\\\n",
       "\t Peripheral Augmentation Index                           & P\\_AI                                                  & 73                                                      & 78.7                                                    & 82.8                                                    & -4.1                                                    & 20.7                                                    & 26.8                                                    & 0.069                                                   & .                                                      \\\\\n",
       "\t Peripheral Diastolic Pressure                           & P\\_DP                                                  & 73                                                      & 72.8                                                    & 76.6                                                    & -3.8                                                    & 10.0                                                    & 11.1                                                    & 0.002                                                   & **                                                     \\\\\n",
       "\t End Systolic Pressure                                   & P\\_ESP                                                 & 73                                                      & 90.5                                                    & 96.1                                                    & -5.6                                                    & 13.3                                                    & 14.7                                                    & 0.000                                                   & ***                                                    \\\\\n",
       "\t Peripheral Pulse Maximum dP/dt                          & P\\_MAX\\_DPDT                                          & 73                                                      & 652.0                                                   & 688.2                                                   & -36.2                                                   & 173.6                                                   & 189.4                                                   & 0.087                                                   & .                                                      \\\\\n",
       "\t Peripheral Mean Pressure                                & P\\_MEANP                                               & 73                                                      & 88.8                                                    & 93.7                                                    & -5.0                                                    & 12.0                                                    & 12.8                                                    & 0.000                                                   & ***                                                    \\\\\n",
       "\t Peripheral P1                                           & P\\_P1                                                  & 73                                                      & 115.9                                                   & 122.5                                                   & -6.6                                                    & 16.6                                                    & 17.1                                                    & 0.000                                                   & ***                                                    \\\\\n",
       "\t Peripheral P2 - second measurement                      & P\\_P2                                                  & 73                                                      & 106.1                                                   & 114.0                                                   & -7.9                                                    & 17.2                                                    & 19.1                                                    & 0.000                                                   & ***                                                    \\\\\n",
       "\t Peripheral Systolic Pressure                            & P\\_SP                                                  & 73                                                      & 116.6                                                   & 124.0                                                   & -7.4                                                    & 16.5                                                    & 17.4                                                    & 0.000                                                   & ***                                                    \\\\\n",
       "\t Adjusted Peripheral T1                                  & P\\_T1                                                  & 73                                                      & 108.3                                                   & 109.8                                                   & -1.4                                                    & 11.5                                                    & 14.5                                                    & 0.396                                                   &                                                        \\\\\n",
       "\t Peripheral T1/ED \\%                                      & P\\_T1ED                                                  & 73                                                        & 34.2                                                      & 34.0                                                      & 0.2                                                       & 3.5                                                       & 4.5                                                       & 0.643                                                     &                                                          \\\\\n",
       "\t Adjusted Peripheral T2                                  & P\\_T2                                                  & 73                                                      & 215.5                                                   & 218.2                                                   & -2.7                                                    & 24.7                                                    & 20.4                                                    & 0.334                                                   &                                                        \\\\\n",
       "\t Peripheral T2/ED \\%                                      & P\\_T2ED                                                  & 73                                                        & 67.9                                                      & 67.4                                                      & 0.5                                                       & 5.8                                                       & 4.9                                                       & 0.447                                                     &                                                          \\\\\n",
       "\t Confidence Level of ED                                  & QUALITY\\_ED                                            & 73                                                      & 0.0                                                     & 0.0                                                     & -0.0                                                    & 0.0                                                     & 0.1                                                     & 0.321                                                   &                                                        \\\\\n",
       "\t Entered Systolic Pressure                               & SP                                                      & 73                                                      & 116.6                                                   & 124.0                                                   & -7.4                                                    & 16.5                                                    & 17.4                                                    & 0.000                                                   & ***                                                    \\\\\n",
       "\\end{tabular}\n"
      ],
      "text/markdown": [
       "\n",
       "description | name | n_obs | mean1 | mean2 | meandiff | std1 | std2 | p_value | sig | \n",
       "|---|---|---|---|---|---|---|---|---|---|---|---|---|---|---|---|---|---|---|---|---|---|---|---|---|---|---|---|---|---|---|---|---|---|---|---|---|---|---|\n",
       "| Central Aug/PH %                                        | C_AGPH                                                  | 73                                                      | 23.9                                                    | 26.0                                                    | -2.2                                                    | 13.8                                                    | 14.7                                                    | 0.022                                                   | *                                                       | \n",
       "| Central Augmentation Index                              | C_AI                                                    | 73                                                      | 136.0                                                   | 141.9                                                   | -5.9                                                    | 26.5                                                    | 31.5                                                    | 0.017                                                   | *                                                       | \n",
       "| Central Augmented Pressure                              | C_AP                                                    | 73                                                      | 8.3                                                     | 10.4                                                    | -2.1                                                    | 6.0                                                     | 7.8                                                     | 0.000                                                   | ***                                                     | \n",
       "| Central Diastolic Duration                              | C_DD                                                    | 73                                                      | 574.9                                                   | 599.2                                                   | -24.4                                                   | 127.0                                                   | 132.7                                                   | 0.042                                                   | *                                                       | \n",
       "| Period-ED/Period %                                      | C_DD_PERIOD                                             | 73                                                      | 63.8                                                    | 64.3                                                    | -0.5                                                    | 4.1                                                     | 3.8                                                     | 0.195                                                   |                                                         | \n",
       "| Central Diastolic Pressure                              | C_DP                                                    | 73                                                      | 74.0                                                    | 77.6                                                    | -3.7                                                    | 10.1                                                    | 11.2                                                    | 0.002                                                   | **                                                      | \n",
       "| Central Diastolic Time Index                            | C_DTI                                                   | 73                                                      | 3211.4                                                  | 3403.9                                                  | -192.5                                                  | 504.9                                                   | 533.1                                                   | 0.000                                                   | ***                                                     | \n",
       "| Central ED/Period %                                     | C_ED_PERIOD                                             | 73                                                      | 36.2                                                    | 35.7                                                    | 0.5                                                     | 4.2                                                     | 3.8                                                     | 0.162                                                   |                                                         | \n",
       "| Central End Systolic Pressure                           | C_ESP                                                   | 73                                                      | 98.1                                                    | 104.5                                                   | -6.4                                                    | 14.5                                                    | 15.9                                                    | 0.000                                                   | ***                                                     | \n",
       "| Central Mean Pressure                                   | C_MEANP                                                 | 73                                                      | 88.8                                                    | 93.7                                                    | -5.0                                                    | 12.0                                                    | 12.8                                                    | 0.000                                                   | ***                                                     | \n",
       "| Central Pressure at T1                                  | C_P1                                                    | 73                                                      | 98.4                                                    | 103.9                                                   | -5.5                                                    | 13.3                                                    | 13.8                                                    | 0.000                                                   | ***                                                     | \n",
       "| Central Pressure at T1 - Dp                             | C_P1_HEIGHT                                             | 73                                                      | 24.4                                                    | 26.2                                                    | -1.8                                                    | 6.0                                                     | 6.3                                                     | 0.013                                                   | *                                                       | \n",
       "| Central Pressure at T2                                  | C_P2                                                    | 73                                                      | 106.7                                                   | 114.3                                                   | -7.6                                                    | 15.8                                                    | 17.4                                                    | 0.000                                                   | ***                                                     | \n",
       "| Central Pulse Period                                    | C_PERIOD                                                | 73                                                      | 892.4                                                   | 923.6                                                   | -31.2                                                   | 141.4                                                   | 152.8                                                   | 0.025                                                   | *                                                       | \n",
       "| Central Pulse Height                                    | C_PH                                                    | 73                                                      | 32.8                                                    | 36.7                                                    | -3.9                                                    | 8.7                                                     | 10.5                                                    | 0.000                                                   | ***                                                     | \n",
       "| Central Systolic Pressure                               | C_SP                                                    | 73                                                      | 106.7                                                   | 114.3                                                   | -7.6                                                    | 15.9                                                    | 17.3                                                    | 0.000                                                   | ***                                                     | \n",
       "| Central Buckberg Sub-Endocardial Viability Ratio (SEVR) | C_SVI                                                   | 73                                                      | 154.9                                                   | 155.9                                                   | -0.9                                                    | 29.3                                                    | 27.3                                                    | 0.728                                                   |                                                         | \n",
       "| Adjusted Central T1                                     | C_T1                                                    | 73                                                      | 108.2                                                   | 108.1                                                   | 0.1                                                     | 10.6                                                    | 12.5                                                    | 0.936                                                   |                                                         | \n",
       "| Central T1/ED %                                         | C_T1ED                                                  | 73                                                      | 34.3                                                    | 33.5                                                    | 0.8                                                     | 4.0                                                     | 4.0                                                     | 0.085                                                   | .                                                       | \n",
       "| Adjusted Central T2                                     | C_T2                                                    | 73                                                      | 225.9                                                   | 229.8                                                   | -3.8                                                    | 25.0                                                    | 26.9                                                    | 0.156                                                   |                                                         | \n",
       "| Central T2/ED %                                         | C_T2ED                                                  | 73                                                      | 71.1                                                    | 70.7                                                    | 0.4                                                     | 4.8                                                     | 4.3                                                     | 0.454                                                   |                                                         | \n",
       "| Central Tension Time Index                              | C_TTI                                                   | 73                                                      | 2114.0                                                  | 2220.0                                                  | -105.9                                                  | 361.7                                                   | 359.4                                                   | 0.001                                                   | **                                                      | \n",
       "| Entered Diastolic Pressur                               | DP                                                      | 73                                                      | 72.8                                                    | 76.6                                                    | -3.8                                                    | 10.0                                                    | 11.1                                                    | 0.002                                                   | **                                                      | \n",
       "| Ejection Duration (ms)                                  | ED                                                      | 73                                                      | 317.5                                                   | 324.3                                                   | -6.8                                                    | 22.1                                                    | 26.7                                                    | 0.010                                                   | *                                                       | \n",
       "| Heart Rate                                              | HR                                                      | 73                                                      | 68.8                                                    | 66.7                                                    | 2.1                                                     | 10.6                                                    | 10.7                                                    | 0.036                                                   | *                                                       | \n",
       "| Peripheral Augmentation Index                           | P_AI                                                    | 73                                                      | 78.7                                                    | 82.8                                                    | -4.1                                                    | 20.7                                                    | 26.8                                                    | 0.069                                                   | .                                                       | \n",
       "| Peripheral Diastolic Pressure                           | P_DP                                                    | 73                                                      | 72.8                                                    | 76.6                                                    | -3.8                                                    | 10.0                                                    | 11.1                                                    | 0.002                                                   | **                                                      | \n",
       "| End Systolic Pressure                                   | P_ESP                                                   | 73                                                      | 90.5                                                    | 96.1                                                    | -5.6                                                    | 13.3                                                    | 14.7                                                    | 0.000                                                   | ***                                                     | \n",
       "| Peripheral Pulse Maximum dP/dt                          | P_MAX_DPDT                                              | 73                                                      | 652.0                                                   | 688.2                                                   | -36.2                                                   | 173.6                                                   | 189.4                                                   | 0.087                                                   | .                                                       | \n",
       "| Peripheral Mean Pressure                                | P_MEANP                                                 | 73                                                      | 88.8                                                    | 93.7                                                    | -5.0                                                    | 12.0                                                    | 12.8                                                    | 0.000                                                   | ***                                                     | \n",
       "| Peripheral P1                                           | P_P1                                                    | 73                                                      | 115.9                                                   | 122.5                                                   | -6.6                                                    | 16.6                                                    | 17.1                                                    | 0.000                                                   | ***                                                     | \n",
       "| Peripheral P2 - second measurement                      | P_P2                                                    | 73                                                      | 106.1                                                   | 114.0                                                   | -7.9                                                    | 17.2                                                    | 19.1                                                    | 0.000                                                   | ***                                                     | \n",
       "| Peripheral Systolic Pressure                            | P_SP                                                    | 73                                                      | 116.6                                                   | 124.0                                                   | -7.4                                                    | 16.5                                                    | 17.4                                                    | 0.000                                                   | ***                                                     | \n",
       "| Adjusted Peripheral T1                                  | P_T1                                                    | 73                                                      | 108.3                                                   | 109.8                                                   | -1.4                                                    | 11.5                                                    | 14.5                                                    | 0.396                                                   |                                                         | \n",
       "| Peripheral T1/ED %                                      | P_T1ED                                                  | 73                                                      | 34.2                                                    | 34.0                                                    | 0.2                                                     | 3.5                                                     | 4.5                                                     | 0.643                                                   |                                                         | \n",
       "| Adjusted Peripheral T2                                  | P_T2                                                    | 73                                                      | 215.5                                                   | 218.2                                                   | -2.7                                                    | 24.7                                                    | 20.4                                                    | 0.334                                                   |                                                         | \n",
       "| Peripheral T2/ED %                                      | P_T2ED                                                  | 73                                                      | 67.9                                                    | 67.4                                                    | 0.5                                                     | 5.8                                                     | 4.9                                                     | 0.447                                                   |                                                         | \n",
       "| Confidence Level of ED                                  | QUALITY_ED                                              | 73                                                      | 0.0                                                     | 0.0                                                     | -0.0                                                    | 0.0                                                     | 0.1                                                     | 0.321                                                   |                                                         | \n",
       "| Entered Systolic Pressure                               | SP                                                      | 73                                                      | 116.6                                                   | 124.0                                                   | -7.4                                                    | 16.5                                                    | 17.4                                                    | 0.000                                                   | ***                                                     | \n",
       "\n",
       "\n"
      ],
      "text/plain": [
       "   description                                             name        n_obs\n",
       "1  Central Aug/PH %                                        C_AGPH      73   \n",
       "2  Central Augmentation Index                              C_AI        73   \n",
       "3  Central Augmented Pressure                              C_AP        73   \n",
       "4  Central Diastolic Duration                              C_DD        73   \n",
       "5  Period-ED/Period %                                      C_DD_PERIOD 73   \n",
       "6  Central Diastolic Pressure                              C_DP        73   \n",
       "7  Central Diastolic Time Index                            C_DTI       73   \n",
       "8  Central ED/Period %                                     C_ED_PERIOD 73   \n",
       "9  Central End Systolic Pressure                           C_ESP       73   \n",
       "10 Central Mean Pressure                                   C_MEANP     73   \n",
       "11 Central Pressure at T1                                  C_P1        73   \n",
       "12 Central Pressure at T1 - Dp                             C_P1_HEIGHT 73   \n",
       "13 Central Pressure at T2                                  C_P2        73   \n",
       "14 Central Pulse Period                                    C_PERIOD    73   \n",
       "15 Central Pulse Height                                    C_PH        73   \n",
       "16 Central Systolic Pressure                               C_SP        73   \n",
       "17 Central Buckberg Sub-Endocardial Viability Ratio (SEVR) C_SVI       73   \n",
       "18 Adjusted Central T1                                     C_T1        73   \n",
       "19 Central T1/ED %                                         C_T1ED      73   \n",
       "20 Adjusted Central T2                                     C_T2        73   \n",
       "21 Central T2/ED %                                         C_T2ED      73   \n",
       "22 Central Tension Time Index                              C_TTI       73   \n",
       "23 Entered Diastolic Pressur                               DP          73   \n",
       "24 Ejection Duration (ms)                                  ED          73   \n",
       "25 Heart Rate                                              HR          73   \n",
       "26 Peripheral Augmentation Index                           P_AI        73   \n",
       "27 Peripheral Diastolic Pressure                           P_DP        73   \n",
       "28 End Systolic Pressure                                   P_ESP       73   \n",
       "29 Peripheral Pulse Maximum dP/dt                          P_MAX_DPDT  73   \n",
       "30 Peripheral Mean Pressure                                P_MEANP     73   \n",
       "31 Peripheral P1                                           P_P1        73   \n",
       "32 Peripheral P2 - second measurement                      P_P2        73   \n",
       "33 Peripheral Systolic Pressure                            P_SP        73   \n",
       "34 Adjusted Peripheral T1                                  P_T1        73   \n",
       "35 Peripheral T1/ED %                                      P_T1ED      73   \n",
       "36 Adjusted Peripheral T2                                  P_T2        73   \n",
       "37 Peripheral T2/ED %                                      P_T2ED      73   \n",
       "38 Confidence Level of ED                                  QUALITY_ED  73   \n",
       "39 Entered Systolic Pressure                               SP          73   \n",
       "   mean1  mean2  meandiff std1  std2  p_value sig\n",
       "1  23.9   26.0   -2.2     13.8  14.7  0.022   *  \n",
       "2  136.0  141.9  -5.9     26.5  31.5  0.017   *  \n",
       "3  8.3    10.4   -2.1     6.0   7.8   0.000   ***\n",
       "4  574.9  599.2  -24.4    127.0 132.7 0.042   *  \n",
       "5  63.8   64.3   -0.5     4.1   3.8   0.195      \n",
       "6  74.0   77.6   -3.7     10.1  11.2  0.002   ** \n",
       "7  3211.4 3403.9 -192.5   504.9 533.1 0.000   ***\n",
       "8  36.2   35.7   0.5      4.2   3.8   0.162      \n",
       "9  98.1   104.5  -6.4     14.5  15.9  0.000   ***\n",
       "10 88.8   93.7   -5.0     12.0  12.8  0.000   ***\n",
       "11 98.4   103.9  -5.5     13.3  13.8  0.000   ***\n",
       "12 24.4   26.2   -1.8     6.0   6.3   0.013   *  \n",
       "13 106.7  114.3  -7.6     15.8  17.4  0.000   ***\n",
       "14 892.4  923.6  -31.2    141.4 152.8 0.025   *  \n",
       "15 32.8   36.7   -3.9     8.7   10.5  0.000   ***\n",
       "16 106.7  114.3  -7.6     15.9  17.3  0.000   ***\n",
       "17 154.9  155.9  -0.9     29.3  27.3  0.728      \n",
       "18 108.2  108.1  0.1      10.6  12.5  0.936      \n",
       "19 34.3   33.5   0.8      4.0   4.0   0.085   .  \n",
       "20 225.9  229.8  -3.8     25.0  26.9  0.156      \n",
       "21 71.1   70.7   0.4      4.8   4.3   0.454      \n",
       "22 2114.0 2220.0 -105.9   361.7 359.4 0.001   ** \n",
       "23 72.8   76.6   -3.8     10.0  11.1  0.002   ** \n",
       "24 317.5  324.3  -6.8     22.1  26.7  0.010   *  \n",
       "25 68.8   66.7   2.1      10.6  10.7  0.036   *  \n",
       "26 78.7   82.8   -4.1     20.7  26.8  0.069   .  \n",
       "27 72.8   76.6   -3.8     10.0  11.1  0.002   ** \n",
       "28 90.5   96.1   -5.6     13.3  14.7  0.000   ***\n",
       "29 652.0  688.2  -36.2    173.6 189.4 0.087   .  \n",
       "30 88.8   93.7   -5.0     12.0  12.8  0.000   ***\n",
       "31 115.9  122.5  -6.6     16.6  17.1  0.000   ***\n",
       "32 106.1  114.0  -7.9     17.2  19.1  0.000   ***\n",
       "33 116.6  124.0  -7.4     16.5  17.4  0.000   ***\n",
       "34 108.3  109.8  -1.4     11.5  14.5  0.396      \n",
       "35 34.2   34.0   0.2      3.5   4.5   0.643      \n",
       "36 215.5  218.2  -2.7     24.7  20.4  0.334      \n",
       "37 67.9   67.4   0.5      5.8   4.9   0.447      \n",
       "38 0.0    0.0    -0.0     0.0   0.1   0.321      \n",
       "39 116.6  124.0  -7.4     16.5  17.4  0.000   ***"
      ]
     },
     "metadata": {},
     "output_type": "display_data"
    }
   ],
   "source": [
    "compare( full_db, 'SphfirstM_', 'SphPWAFirstM_')"
   ]
  },
  {
   "cell_type": "markdown",
   "metadata": {},
   "source": [
    "## Comparison 4: OLD Sph SECOND Measurement vs. NEW Sph FIRST Measurement"
   ]
  },
  {
   "cell_type": "code",
   "execution_count": 30,
   "metadata": {
    "ExecuteTime": {
     "end_time": "2017-10-19T17:55:16.767630Z",
     "start_time": "2017-10-19T17:55:03.489Z"
    }
   },
   "outputs": [
    {
     "data": {
      "text/html": [
       "<table>\n",
       "<thead><tr><th scope=col>description</th><th scope=col>name</th><th scope=col>n_obs</th><th scope=col>mean1</th><th scope=col>mean2</th><th scope=col>meandiff</th><th scope=col>std1</th><th scope=col>std2</th><th scope=col>p_value</th><th scope=col>sig</th></tr></thead>\n",
       "<tbody>\n",
       "\t<tr><td>Central Aug/PH %                                       </td><td>C_AGPH                                                 </td><td>71                                                     </td><td>24.8                                                   </td><td>26.0                                                   </td><td>-1.2                                                   </td><td>14.7                                                   </td><td>14.6                                                   </td><td>0.220                                                  </td><td>                                                       </td></tr>\n",
       "\t<tr><td>Central Augmentation Index                             </td><td>C_AI                                                   </td><td>71                                                     </td><td>138.5                                                  </td><td>141.9                                                  </td><td>-3.4                                                   </td><td>30.1                                                   </td><td>31.6                                                   </td><td>0.198                                                  </td><td>                                                       </td></tr>\n",
       "\t<tr><td>Central Augmented Pressure                             </td><td>C_AP                                                   </td><td>71                                                     </td><td>8.6                                                    </td><td>10.4                                                   </td><td>-1.8                                                   </td><td>6.3                                                    </td><td>7.9                                                    </td><td>0.001                                                  </td><td>**                                                     </td></tr>\n",
       "\t<tr><td>Central Diastolic Duration                             </td><td>C_DD                                                   </td><td>71                                                     </td><td>570.8                                                  </td><td>602.5                                                  </td><td>-31.6                                                  </td><td>127.3                                                  </td><td>133.0                                                  </td><td>0.012                                                  </td><td>*                                                      </td></tr>\n",
       "\t<tr><td>Period-ED/Period %                                     </td><td>C_DD_PERIOD                                            </td><td>71                                                     </td><td>63.7                                                   </td><td>64.4                                                   </td><td>-0.7                                                   </td><td>4.1                                                    </td><td>3.8                                                    </td><td>0.097                                                  </td><td>.                                                      </td></tr>\n",
       "\t<tr><td>Central Diastolic Pressure                             </td><td>C_DP                                                   </td><td>71                                                     </td><td>74.2                                                   </td><td>77.8                                                   </td><td>-3.6                                                   </td><td>10.2                                                   </td><td>11.2                                                   </td><td>0.003                                                  </td><td>**                                                     </td></tr>\n",
       "\t<tr><td>Central Diastolic Time Index                           </td><td>C_DTI                                                  </td><td>71                                                     </td><td>3215.4                                                 </td><td>3411.3                                                 </td><td>-195.9                                                 </td><td>507.8                                                  </td><td>538.6                                                  </td><td>0.000                                                  </td><td>***                                                    </td></tr>\n",
       "\t<tr><td>Central ED/Period %                                    </td><td>C_ED_PERIOD                                            </td><td>71                                                     </td><td>36.3                                                   </td><td>35.6                                                   </td><td>0.7                                                    </td><td>4.1                                                    </td><td>3.8                                                    </td><td>0.087                                                  </td><td>.                                                      </td></tr>\n",
       "\t<tr><td>Central End Systolic Pressure                          </td><td>C_ESP                                                  </td><td>71                                                     </td><td>98.3                                                   </td><td>104.5                                                  </td><td>-6.2                                                   </td><td>14.7                                                   </td><td>16.1                                                   </td><td>0.000                                                  </td><td>***                                                    </td></tr>\n",
       "\t<tr><td>Central Mean Pressure                                  </td><td>C_MEANP                                                </td><td>71                                                     </td><td>89.0                                                   </td><td>93.8                                                   </td><td>-4.8                                                   </td><td>12.2                                                   </td><td>13.0                                                   </td><td>0.000                                                  </td><td>***                                                    </td></tr>\n",
       "\t<tr><td>Central Pressure at T1                                 </td><td>C_P1                                                   </td><td>71                                                     </td><td>98.3                                                   </td><td>103.9                                                  </td><td>-5.6                                                   </td><td>13.2                                                   </td><td>14.0                                                   </td><td>0.000                                                  </td><td>***                                                    </td></tr>\n",
       "\t<tr><td>Central Pressure at T1 - Dp                            </td><td>C_P1_HEIGHT                                            </td><td>71                                                     </td><td>24.3                                                   </td><td>26.2                                                   </td><td>-1.9                                                   </td><td>6.3                                                    </td><td>6.1                                                    </td><td>0.012                                                  </td><td>*                                                      </td></tr>\n",
       "\t<tr><td>Central Pressure at T2                                 </td><td>C_P2                                                   </td><td>71                                                     </td><td>106.9                                                  </td><td>114.3                                                  </td><td>-7.4                                                   </td><td>16.0                                                   </td><td>17.6                                                   </td><td>0.000                                                  </td><td>***                                                    </td></tr>\n",
       "\t<tr><td>Central Pulse Period                                   </td><td>C_PERIOD                                               </td><td>71                                                     </td><td>887.2                                                  </td><td>927.1                                                  </td><td>-39.9                                                  </td><td>143.0                                                  </td><td>152.9                                                  </td><td>0.006                                                  </td><td>*                                                      </td></tr>\n",
       "\t<tr><td>Central Pulse Height                                   </td><td>C_PH                                                   </td><td>71                                                     </td><td>32.9                                                   </td><td>36.7                                                   </td><td>-3.7                                                   </td><td>8.8                                                    </td><td>10.6                                                   </td><td>0.000                                                  </td><td>***                                                    </td></tr>\n",
       "\t<tr><td>Central Systolic Pressure                              </td><td>C_SP                                                   </td><td>71                                                     </td><td>107.0                                                  </td><td>114.4                                                  </td><td>-7.4                                                   </td><td>16.0                                                   </td><td>17.6                                                   </td><td>0.000                                                  </td><td>***                                                    </td></tr>\n",
       "\t<tr><td>Central Buckberg Sub-Endocardial Viability Ratio (SEVR)</td><td>C_SVI                                                  </td><td>71                                                     </td><td>154.2                                                  </td><td>156.5                                                  </td><td>-2.3                                                   </td><td>28.5                                                   </td><td>27.4                                                   </td><td>0.430                                                  </td><td>                                                       </td></tr>\n",
       "\t<tr><td>Adjusted Central T1                                    </td><td>C_T1                                                   </td><td>71                                                     </td><td>106.5                                                  </td><td>108.3                                                  </td><td>-1.8                                                   </td><td>12.0                                                   </td><td>12.6                                                   </td><td>0.319                                                  </td><td>                                                       </td></tr>\n",
       "\t<tr><td>Central T1/ED %                                        </td><td>C_T1ED                                                 </td><td>71                                                     </td><td>33.9                                                   </td><td>33.5                                                   </td><td>0.4                                                    </td><td>4.6                                                    </td><td>4.0                                                    </td><td>0.454                                                  </td><td>                                                       </td></tr>\n",
       "\t<tr><td>Adjusted Central T2                                    </td><td>C_T2                                                   </td><td>71                                                     </td><td>223.8                                                  </td><td>230.0                                                  </td><td>-6.2                                                   </td><td>24.4                                                   </td><td>26.8                                                   </td><td>0.022                                                  </td><td>*                                                      </td></tr>\n",
       "\t<tr><td>Central T2/ED %                                        </td><td>C_T2ED                                                 </td><td>71                                                     </td><td>70.6                                                   </td><td>70.7                                                   </td><td>-0.1                                                   </td><td>4.9                                                    </td><td>4.3                                                    </td><td>0.790                                                  </td><td>                                                       </td></tr>\n",
       "\t<tr><td>Central Tension Time Index                             </td><td>C_TTI                                                  </td><td>71                                                     </td><td>2124.2                                                 </td><td>2215.8                                                 </td><td>-91.7                                                  </td><td>362.2                                                  </td><td>363.0                                                  </td><td>0.005                                                  </td><td>*                                                      </td></tr>\n",
       "\t<tr><td>Entered Diastolic Pressur                              </td><td>DP                                                     </td><td>71                                                     </td><td>72.9                                                   </td><td>76.7                                                   </td><td>-3.8                                                   </td><td>10.2                                                   </td><td>11.2                                                   </td><td>0.002                                                  </td><td>**                                                     </td></tr>\n",
       "\t<tr><td>Ejection Duration (ms)                                 </td><td>ED                                                     </td><td>71                                                     </td><td>316.4                                                  </td><td>324.7                                                  </td><td>-8.3                                                   </td><td>22.5                                                   </td><td>26.1                                                   </td><td>0.001                                                  </td><td>**                                                     </td></tr>\n",
       "\t<tr><td>Heart Rate                                             </td><td>HR                                                     </td><td>71                                                     </td><td>69.2                                                   </td><td>66.4                                                   </td><td>2.8                                                    </td><td>10.7                                                   </td><td>10.6                                                   </td><td>0.011                                                  </td><td>*                                                      </td></tr>\n",
       "\t<tr><td>Peripheral Augmentation Index                          </td><td>P_AI                                                   </td><td>71                                                     </td><td>79.7                                                   </td><td>82.9                                                   </td><td>-3.2                                                   </td><td>22.6                                                   </td><td>27.1                                                   </td><td>0.185                                                  </td><td>                                                       </td></tr>\n",
       "\t<tr><td>Peripheral Diastolic Pressure                          </td><td>P_DP                                                   </td><td>71                                                     </td><td>72.9                                                   </td><td>76.7                                                   </td><td>-3.8                                                   </td><td>10.2                                                   </td><td>11.2                                                   </td><td>0.002                                                  </td><td>**                                                     </td></tr>\n",
       "\t<tr><td>End Systolic Pressure                                  </td><td>P_ESP                                                  </td><td>71                                                     </td><td>90.7                                                   </td><td>96.1                                                   </td><td>-5.5                                                   </td><td>13.6                                                   </td><td>14.9                                                   </td><td>0.000                                                  </td><td>***                                                    </td></tr>\n",
       "\t<tr><td>Peripheral Pulse Maximum dP/dt                         </td><td>P_MAX_DPDT                                             </td><td>71                                                     </td><td>662.1                                                  </td><td>685.4                                                  </td><td>-23.4                                                  </td><td>170.8                                                  </td><td>184.1                                                  </td><td>0.243                                                  </td><td>                                                       </td></tr>\n",
       "\t<tr><td>Peripheral Mean Pressure                               </td><td>P_MEANP                                                </td><td>71                                                     </td><td>89.0                                                   </td><td>93.8                                                   </td><td>-4.8                                                   </td><td>12.2                                                   </td><td>13.0                                                   </td><td>0.000                                                  </td><td>***                                                    </td></tr>\n",
       "\t<tr><td>Peripheral P1                                          </td><td>P_P1                                                   </td><td>71                                                     </td><td>115.9                                                  </td><td>122.4                                                  </td><td>-6.5                                                   </td><td>16.3                                                   </td><td>17.3                                                   </td><td>0.000                                                  </td><td>***                                                    </td></tr>\n",
       "\t<tr><td>Peripheral P2 - second measurement                     </td><td>P_P2                                                   </td><td>71                                                     </td><td>106.4                                                  </td><td>114.0                                                  </td><td>-7.6                                                   </td><td>17.6                                                   </td><td>19.4                                                   </td><td>0.000                                                  </td><td>***                                                    </td></tr>\n",
       "\t<tr><td>Peripheral Systolic Pressure                           </td><td>P_SP                                                   </td><td>71                                                     </td><td>116.9                                                  </td><td>124.0                                                  </td><td>-7.1                                                   </td><td>16.6                                                   </td><td>17.6                                                   </td><td>0.000                                                  </td><td>***                                                    </td></tr>\n",
       "\t<tr><td>Adjusted Peripheral T1                                 </td><td>P_T1                                                   </td><td>71                                                     </td><td>107.7                                                  </td><td>109.5                                                  </td><td>-1.7                                                   </td><td>14.0                                                   </td><td>14.1                                                   </td><td>0.381                                                  </td><td>                                                       </td></tr>\n",
       "\t<tr><td>Peripheral T1/ED %                                     </td><td>P_T1ED                                                 </td><td>71                                                     </td><td>34.1                                                   </td><td>33.8                                                   </td><td>0.2                                                    </td><td>4.4                                                    </td><td>4.5                                                    </td><td>0.720                                                  </td><td>                                                       </td></tr>\n",
       "\t<tr><td>Adjusted Peripheral T2                                 </td><td>P_T2                                                   </td><td>71                                                     </td><td>213.9                                                  </td><td>218.5                                                  </td><td>-4.6                                                   </td><td>23.2                                                   </td><td>20.2                                                   </td><td>0.135                                                  </td><td>                                                       </td></tr>\n",
       "\t<tr><td>Peripheral T2/ED %                                     </td><td>P_T2ED                                                 </td><td>71                                                     </td><td>67.6                                                   </td><td>67.4                                                   </td><td>0.2                                                    </td><td>5.6                                                    </td><td>4.9                                                    </td><td>0.790                                                  </td><td>                                                       </td></tr>\n",
       "\t<tr><td>Confidence Level of ED                                 </td><td>QUALITY_ED                                             </td><td>71                                                     </td><td>0.1                                                    </td><td>0.0                                                    </td><td>0.0                                                    </td><td>0.3                                                    </td><td>0.1                                                    </td><td>0.321                                                  </td><td>                                                       </td></tr>\n",
       "\t<tr><td>Entered Systolic Pressure                              </td><td>SP                                                     </td><td>71                                                     </td><td>116.9                                                  </td><td>124.0                                                  </td><td>-7.1                                                   </td><td>16.6                                                   </td><td>17.6                                                   </td><td>0.000                                                  </td><td>***                                                    </td></tr>\n",
       "</tbody>\n",
       "</table>\n"
      ],
      "text/latex": [
       "\\begin{tabular}{r|llllllllll}\n",
       " description & name & n\\_obs & mean1 & mean2 & meandiff & std1 & std2 & p\\_value & sig\\\\\n",
       "\\hline\n",
       "\t Central Aug/PH \\%                                        & C\\_AGPH                                                  & 71                                                        & 24.8                                                      & 26.0                                                      & -1.2                                                      & 14.7                                                      & 14.6                                                      & 0.220                                                     &                                                          \\\\\n",
       "\t Central Augmentation Index                              & C\\_AI                                                  & 71                                                      & 138.5                                                   & 141.9                                                   & -3.4                                                    & 30.1                                                    & 31.6                                                    & 0.198                                                   &                                                        \\\\\n",
       "\t Central Augmented Pressure                              & C\\_AP                                                  & 71                                                      & 8.6                                                     & 10.4                                                    & -1.8                                                    & 6.3                                                     & 7.9                                                     & 0.001                                                   & **                                                     \\\\\n",
       "\t Central Diastolic Duration                              & C\\_DD                                                  & 71                                                      & 570.8                                                   & 602.5                                                   & -31.6                                                   & 127.3                                                   & 133.0                                                   & 0.012                                                   & *                                                      \\\\\n",
       "\t Period-ED/Period \\%                                      & C\\_DD\\_PERIOD                                           & 71                                                        & 63.7                                                      & 64.4                                                      & -0.7                                                      & 4.1                                                       & 3.8                                                       & 0.097                                                     & .                                                        \\\\\n",
       "\t Central Diastolic Pressure                              & C\\_DP                                                  & 71                                                      & 74.2                                                    & 77.8                                                    & -3.6                                                    & 10.2                                                    & 11.2                                                    & 0.003                                                   & **                                                     \\\\\n",
       "\t Central Diastolic Time Index                            & C\\_DTI                                                 & 71                                                      & 3215.4                                                  & 3411.3                                                  & -195.9                                                  & 507.8                                                   & 538.6                                                   & 0.000                                                   & ***                                                    \\\\\n",
       "\t Central ED/Period \\%                                     & C\\_ED\\_PERIOD                                           & 71                                                        & 36.3                                                      & 35.6                                                      & 0.7                                                       & 4.1                                                       & 3.8                                                       & 0.087                                                     & .                                                        \\\\\n",
       "\t Central End Systolic Pressure                           & C\\_ESP                                                 & 71                                                      & 98.3                                                    & 104.5                                                   & -6.2                                                    & 14.7                                                    & 16.1                                                    & 0.000                                                   & ***                                                    \\\\\n",
       "\t Central Mean Pressure                                   & C\\_MEANP                                               & 71                                                      & 89.0                                                    & 93.8                                                    & -4.8                                                    & 12.2                                                    & 13.0                                                    & 0.000                                                   & ***                                                    \\\\\n",
       "\t Central Pressure at T1                                  & C\\_P1                                                  & 71                                                      & 98.3                                                    & 103.9                                                   & -5.6                                                    & 13.2                                                    & 14.0                                                    & 0.000                                                   & ***                                                    \\\\\n",
       "\t Central Pressure at T1 - Dp                             & C\\_P1\\_HEIGHT                                         & 71                                                      & 24.3                                                    & 26.2                                                    & -1.9                                                    & 6.3                                                     & 6.1                                                     & 0.012                                                   & *                                                      \\\\\n",
       "\t Central Pressure at T2                                  & C\\_P2                                                  & 71                                                      & 106.9                                                   & 114.3                                                   & -7.4                                                    & 16.0                                                    & 17.6                                                    & 0.000                                                   & ***                                                    \\\\\n",
       "\t Central Pulse Period                                    & C\\_PERIOD                                              & 71                                                      & 887.2                                                   & 927.1                                                   & -39.9                                                   & 143.0                                                   & 152.9                                                   & 0.006                                                   & *                                                      \\\\\n",
       "\t Central Pulse Height                                    & C\\_PH                                                  & 71                                                      & 32.9                                                    & 36.7                                                    & -3.7                                                    & 8.8                                                     & 10.6                                                    & 0.000                                                   & ***                                                    \\\\\n",
       "\t Central Systolic Pressure                               & C\\_SP                                                  & 71                                                      & 107.0                                                   & 114.4                                                   & -7.4                                                    & 16.0                                                    & 17.6                                                    & 0.000                                                   & ***                                                    \\\\\n",
       "\t Central Buckberg Sub-Endocardial Viability Ratio (SEVR) & C\\_SVI                                                 & 71                                                      & 154.2                                                   & 156.5                                                   & -2.3                                                    & 28.5                                                    & 27.4                                                    & 0.430                                                   &                                                        \\\\\n",
       "\t Adjusted Central T1                                     & C\\_T1                                                  & 71                                                      & 106.5                                                   & 108.3                                                   & -1.8                                                    & 12.0                                                    & 12.6                                                    & 0.319                                                   &                                                        \\\\\n",
       "\t Central T1/ED \\%                                         & C\\_T1ED                                                  & 71                                                        & 33.9                                                      & 33.5                                                      & 0.4                                                       & 4.6                                                       & 4.0                                                       & 0.454                                                     &                                                          \\\\\n",
       "\t Adjusted Central T2                                     & C\\_T2                                                  & 71                                                      & 223.8                                                   & 230.0                                                   & -6.2                                                    & 24.4                                                    & 26.8                                                    & 0.022                                                   & *                                                      \\\\\n",
       "\t Central T2/ED \\%                                         & C\\_T2ED                                                  & 71                                                        & 70.6                                                      & 70.7                                                      & -0.1                                                      & 4.9                                                       & 4.3                                                       & 0.790                                                     &                                                          \\\\\n",
       "\t Central Tension Time Index                              & C\\_TTI                                                 & 71                                                      & 2124.2                                                  & 2215.8                                                  & -91.7                                                   & 362.2                                                   & 363.0                                                   & 0.005                                                   & *                                                      \\\\\n",
       "\t Entered Diastolic Pressur                               & DP                                                      & 71                                                      & 72.9                                                    & 76.7                                                    & -3.8                                                    & 10.2                                                    & 11.2                                                    & 0.002                                                   & **                                                     \\\\\n",
       "\t Ejection Duration (ms)                                  & ED                                                      & 71                                                      & 316.4                                                   & 324.7                                                   & -8.3                                                    & 22.5                                                    & 26.1                                                    & 0.001                                                   & **                                                     \\\\\n",
       "\t Heart Rate                                              & HR                                                      & 71                                                      & 69.2                                                    & 66.4                                                    & 2.8                                                     & 10.7                                                    & 10.6                                                    & 0.011                                                   & *                                                      \\\\\n",
       "\t Peripheral Augmentation Index                           & P\\_AI                                                  & 71                                                      & 79.7                                                    & 82.9                                                    & -3.2                                                    & 22.6                                                    & 27.1                                                    & 0.185                                                   &                                                        \\\\\n",
       "\t Peripheral Diastolic Pressure                           & P\\_DP                                                  & 71                                                      & 72.9                                                    & 76.7                                                    & -3.8                                                    & 10.2                                                    & 11.2                                                    & 0.002                                                   & **                                                     \\\\\n",
       "\t End Systolic Pressure                                   & P\\_ESP                                                 & 71                                                      & 90.7                                                    & 96.1                                                    & -5.5                                                    & 13.6                                                    & 14.9                                                    & 0.000                                                   & ***                                                    \\\\\n",
       "\t Peripheral Pulse Maximum dP/dt                          & P\\_MAX\\_DPDT                                          & 71                                                      & 662.1                                                   & 685.4                                                   & -23.4                                                   & 170.8                                                   & 184.1                                                   & 0.243                                                   &                                                        \\\\\n",
       "\t Peripheral Mean Pressure                                & P\\_MEANP                                               & 71                                                      & 89.0                                                    & 93.8                                                    & -4.8                                                    & 12.2                                                    & 13.0                                                    & 0.000                                                   & ***                                                    \\\\\n",
       "\t Peripheral P1                                           & P\\_P1                                                  & 71                                                      & 115.9                                                   & 122.4                                                   & -6.5                                                    & 16.3                                                    & 17.3                                                    & 0.000                                                   & ***                                                    \\\\\n",
       "\t Peripheral P2 - second measurement                      & P\\_P2                                                  & 71                                                      & 106.4                                                   & 114.0                                                   & -7.6                                                    & 17.6                                                    & 19.4                                                    & 0.000                                                   & ***                                                    \\\\\n",
       "\t Peripheral Systolic Pressure                            & P\\_SP                                                  & 71                                                      & 116.9                                                   & 124.0                                                   & -7.1                                                    & 16.6                                                    & 17.6                                                    & 0.000                                                   & ***                                                    \\\\\n",
       "\t Adjusted Peripheral T1                                  & P\\_T1                                                  & 71                                                      & 107.7                                                   & 109.5                                                   & -1.7                                                    & 14.0                                                    & 14.1                                                    & 0.381                                                   &                                                        \\\\\n",
       "\t Peripheral T1/ED \\%                                      & P\\_T1ED                                                  & 71                                                        & 34.1                                                      & 33.8                                                      & 0.2                                                       & 4.4                                                       & 4.5                                                       & 0.720                                                     &                                                          \\\\\n",
       "\t Adjusted Peripheral T2                                  & P\\_T2                                                  & 71                                                      & 213.9                                                   & 218.5                                                   & -4.6                                                    & 23.2                                                    & 20.2                                                    & 0.135                                                   &                                                        \\\\\n",
       "\t Peripheral T2/ED \\%                                      & P\\_T2ED                                                  & 71                                                        & 67.6                                                      & 67.4                                                      & 0.2                                                       & 5.6                                                       & 4.9                                                       & 0.790                                                     &                                                          \\\\\n",
       "\t Confidence Level of ED                                  & QUALITY\\_ED                                            & 71                                                      & 0.1                                                     & 0.0                                                     & 0.0                                                     & 0.3                                                     & 0.1                                                     & 0.321                                                   &                                                        \\\\\n",
       "\t Entered Systolic Pressure                               & SP                                                      & 71                                                      & 116.9                                                   & 124.0                                                   & -7.1                                                    & 16.6                                                    & 17.6                                                    & 0.000                                                   & ***                                                    \\\\\n",
       "\\end{tabular}\n"
      ],
      "text/markdown": [
       "\n",
       "description | name | n_obs | mean1 | mean2 | meandiff | std1 | std2 | p_value | sig | \n",
       "|---|---|---|---|---|---|---|---|---|---|---|---|---|---|---|---|---|---|---|---|---|---|---|---|---|---|---|---|---|---|---|---|---|---|---|---|---|---|---|\n",
       "| Central Aug/PH %                                        | C_AGPH                                                  | 71                                                      | 24.8                                                    | 26.0                                                    | -1.2                                                    | 14.7                                                    | 14.6                                                    | 0.220                                                   |                                                         | \n",
       "| Central Augmentation Index                              | C_AI                                                    | 71                                                      | 138.5                                                   | 141.9                                                   | -3.4                                                    | 30.1                                                    | 31.6                                                    | 0.198                                                   |                                                         | \n",
       "| Central Augmented Pressure                              | C_AP                                                    | 71                                                      | 8.6                                                     | 10.4                                                    | -1.8                                                    | 6.3                                                     | 7.9                                                     | 0.001                                                   | **                                                      | \n",
       "| Central Diastolic Duration                              | C_DD                                                    | 71                                                      | 570.8                                                   | 602.5                                                   | -31.6                                                   | 127.3                                                   | 133.0                                                   | 0.012                                                   | *                                                       | \n",
       "| Period-ED/Period %                                      | C_DD_PERIOD                                             | 71                                                      | 63.7                                                    | 64.4                                                    | -0.7                                                    | 4.1                                                     | 3.8                                                     | 0.097                                                   | .                                                       | \n",
       "| Central Diastolic Pressure                              | C_DP                                                    | 71                                                      | 74.2                                                    | 77.8                                                    | -3.6                                                    | 10.2                                                    | 11.2                                                    | 0.003                                                   | **                                                      | \n",
       "| Central Diastolic Time Index                            | C_DTI                                                   | 71                                                      | 3215.4                                                  | 3411.3                                                  | -195.9                                                  | 507.8                                                   | 538.6                                                   | 0.000                                                   | ***                                                     | \n",
       "| Central ED/Period %                                     | C_ED_PERIOD                                             | 71                                                      | 36.3                                                    | 35.6                                                    | 0.7                                                     | 4.1                                                     | 3.8                                                     | 0.087                                                   | .                                                       | \n",
       "| Central End Systolic Pressure                           | C_ESP                                                   | 71                                                      | 98.3                                                    | 104.5                                                   | -6.2                                                    | 14.7                                                    | 16.1                                                    | 0.000                                                   | ***                                                     | \n",
       "| Central Mean Pressure                                   | C_MEANP                                                 | 71                                                      | 89.0                                                    | 93.8                                                    | -4.8                                                    | 12.2                                                    | 13.0                                                    | 0.000                                                   | ***                                                     | \n",
       "| Central Pressure at T1                                  | C_P1                                                    | 71                                                      | 98.3                                                    | 103.9                                                   | -5.6                                                    | 13.2                                                    | 14.0                                                    | 0.000                                                   | ***                                                     | \n",
       "| Central Pressure at T1 - Dp                             | C_P1_HEIGHT                                             | 71                                                      | 24.3                                                    | 26.2                                                    | -1.9                                                    | 6.3                                                     | 6.1                                                     | 0.012                                                   | *                                                       | \n",
       "| Central Pressure at T2                                  | C_P2                                                    | 71                                                      | 106.9                                                   | 114.3                                                   | -7.4                                                    | 16.0                                                    | 17.6                                                    | 0.000                                                   | ***                                                     | \n",
       "| Central Pulse Period                                    | C_PERIOD                                                | 71                                                      | 887.2                                                   | 927.1                                                   | -39.9                                                   | 143.0                                                   | 152.9                                                   | 0.006                                                   | *                                                       | \n",
       "| Central Pulse Height                                    | C_PH                                                    | 71                                                      | 32.9                                                    | 36.7                                                    | -3.7                                                    | 8.8                                                     | 10.6                                                    | 0.000                                                   | ***                                                     | \n",
       "| Central Systolic Pressure                               | C_SP                                                    | 71                                                      | 107.0                                                   | 114.4                                                   | -7.4                                                    | 16.0                                                    | 17.6                                                    | 0.000                                                   | ***                                                     | \n",
       "| Central Buckberg Sub-Endocardial Viability Ratio (SEVR) | C_SVI                                                   | 71                                                      | 154.2                                                   | 156.5                                                   | -2.3                                                    | 28.5                                                    | 27.4                                                    | 0.430                                                   |                                                         | \n",
       "| Adjusted Central T1                                     | C_T1                                                    | 71                                                      | 106.5                                                   | 108.3                                                   | -1.8                                                    | 12.0                                                    | 12.6                                                    | 0.319                                                   |                                                         | \n",
       "| Central T1/ED %                                         | C_T1ED                                                  | 71                                                      | 33.9                                                    | 33.5                                                    | 0.4                                                     | 4.6                                                     | 4.0                                                     | 0.454                                                   |                                                         | \n",
       "| Adjusted Central T2                                     | C_T2                                                    | 71                                                      | 223.8                                                   | 230.0                                                   | -6.2                                                    | 24.4                                                    | 26.8                                                    | 0.022                                                   | *                                                       | \n",
       "| Central T2/ED %                                         | C_T2ED                                                  | 71                                                      | 70.6                                                    | 70.7                                                    | -0.1                                                    | 4.9                                                     | 4.3                                                     | 0.790                                                   |                                                         | \n",
       "| Central Tension Time Index                              | C_TTI                                                   | 71                                                      | 2124.2                                                  | 2215.8                                                  | -91.7                                                   | 362.2                                                   | 363.0                                                   | 0.005                                                   | *                                                       | \n",
       "| Entered Diastolic Pressur                               | DP                                                      | 71                                                      | 72.9                                                    | 76.7                                                    | -3.8                                                    | 10.2                                                    | 11.2                                                    | 0.002                                                   | **                                                      | \n",
       "| Ejection Duration (ms)                                  | ED                                                      | 71                                                      | 316.4                                                   | 324.7                                                   | -8.3                                                    | 22.5                                                    | 26.1                                                    | 0.001                                                   | **                                                      | \n",
       "| Heart Rate                                              | HR                                                      | 71                                                      | 69.2                                                    | 66.4                                                    | 2.8                                                     | 10.7                                                    | 10.6                                                    | 0.011                                                   | *                                                       | \n",
       "| Peripheral Augmentation Index                           | P_AI                                                    | 71                                                      | 79.7                                                    | 82.9                                                    | -3.2                                                    | 22.6                                                    | 27.1                                                    | 0.185                                                   |                                                         | \n",
       "| Peripheral Diastolic Pressure                           | P_DP                                                    | 71                                                      | 72.9                                                    | 76.7                                                    | -3.8                                                    | 10.2                                                    | 11.2                                                    | 0.002                                                   | **                                                      | \n",
       "| End Systolic Pressure                                   | P_ESP                                                   | 71                                                      | 90.7                                                    | 96.1                                                    | -5.5                                                    | 13.6                                                    | 14.9                                                    | 0.000                                                   | ***                                                     | \n",
       "| Peripheral Pulse Maximum dP/dt                          | P_MAX_DPDT                                              | 71                                                      | 662.1                                                   | 685.4                                                   | -23.4                                                   | 170.8                                                   | 184.1                                                   | 0.243                                                   |                                                         | \n",
       "| Peripheral Mean Pressure                                | P_MEANP                                                 | 71                                                      | 89.0                                                    | 93.8                                                    | -4.8                                                    | 12.2                                                    | 13.0                                                    | 0.000                                                   | ***                                                     | \n",
       "| Peripheral P1                                           | P_P1                                                    | 71                                                      | 115.9                                                   | 122.4                                                   | -6.5                                                    | 16.3                                                    | 17.3                                                    | 0.000                                                   | ***                                                     | \n",
       "| Peripheral P2 - second measurement                      | P_P2                                                    | 71                                                      | 106.4                                                   | 114.0                                                   | -7.6                                                    | 17.6                                                    | 19.4                                                    | 0.000                                                   | ***                                                     | \n",
       "| Peripheral Systolic Pressure                            | P_SP                                                    | 71                                                      | 116.9                                                   | 124.0                                                   | -7.1                                                    | 16.6                                                    | 17.6                                                    | 0.000                                                   | ***                                                     | \n",
       "| Adjusted Peripheral T1                                  | P_T1                                                    | 71                                                      | 107.7                                                   | 109.5                                                   | -1.7                                                    | 14.0                                                    | 14.1                                                    | 0.381                                                   |                                                         | \n",
       "| Peripheral T1/ED %                                      | P_T1ED                                                  | 71                                                      | 34.1                                                    | 33.8                                                    | 0.2                                                     | 4.4                                                     | 4.5                                                     | 0.720                                                   |                                                         | \n",
       "| Adjusted Peripheral T2                                  | P_T2                                                    | 71                                                      | 213.9                                                   | 218.5                                                   | -4.6                                                    | 23.2                                                    | 20.2                                                    | 0.135                                                   |                                                         | \n",
       "| Peripheral T2/ED %                                      | P_T2ED                                                  | 71                                                      | 67.6                                                    | 67.4                                                    | 0.2                                                     | 5.6                                                     | 4.9                                                     | 0.790                                                   |                                                         | \n",
       "| Confidence Level of ED                                  | QUALITY_ED                                              | 71                                                      | 0.1                                                     | 0.0                                                     | 0.0                                                     | 0.3                                                     | 0.1                                                     | 0.321                                                   |                                                         | \n",
       "| Entered Systolic Pressure                               | SP                                                      | 71                                                      | 116.9                                                   | 124.0                                                   | -7.1                                                    | 16.6                                                    | 17.6                                                    | 0.000                                                   | ***                                                     | \n",
       "\n",
       "\n"
      ],
      "text/plain": [
       "   description                                             name        n_obs\n",
       "1  Central Aug/PH %                                        C_AGPH      71   \n",
       "2  Central Augmentation Index                              C_AI        71   \n",
       "3  Central Augmented Pressure                              C_AP        71   \n",
       "4  Central Diastolic Duration                              C_DD        71   \n",
       "5  Period-ED/Period %                                      C_DD_PERIOD 71   \n",
       "6  Central Diastolic Pressure                              C_DP        71   \n",
       "7  Central Diastolic Time Index                            C_DTI       71   \n",
       "8  Central ED/Period %                                     C_ED_PERIOD 71   \n",
       "9  Central End Systolic Pressure                           C_ESP       71   \n",
       "10 Central Mean Pressure                                   C_MEANP     71   \n",
       "11 Central Pressure at T1                                  C_P1        71   \n",
       "12 Central Pressure at T1 - Dp                             C_P1_HEIGHT 71   \n",
       "13 Central Pressure at T2                                  C_P2        71   \n",
       "14 Central Pulse Period                                    C_PERIOD    71   \n",
       "15 Central Pulse Height                                    C_PH        71   \n",
       "16 Central Systolic Pressure                               C_SP        71   \n",
       "17 Central Buckberg Sub-Endocardial Viability Ratio (SEVR) C_SVI       71   \n",
       "18 Adjusted Central T1                                     C_T1        71   \n",
       "19 Central T1/ED %                                         C_T1ED      71   \n",
       "20 Adjusted Central T2                                     C_T2        71   \n",
       "21 Central T2/ED %                                         C_T2ED      71   \n",
       "22 Central Tension Time Index                              C_TTI       71   \n",
       "23 Entered Diastolic Pressur                               DP          71   \n",
       "24 Ejection Duration (ms)                                  ED          71   \n",
       "25 Heart Rate                                              HR          71   \n",
       "26 Peripheral Augmentation Index                           P_AI        71   \n",
       "27 Peripheral Diastolic Pressure                           P_DP        71   \n",
       "28 End Systolic Pressure                                   P_ESP       71   \n",
       "29 Peripheral Pulse Maximum dP/dt                          P_MAX_DPDT  71   \n",
       "30 Peripheral Mean Pressure                                P_MEANP     71   \n",
       "31 Peripheral P1                                           P_P1        71   \n",
       "32 Peripheral P2 - second measurement                      P_P2        71   \n",
       "33 Peripheral Systolic Pressure                            P_SP        71   \n",
       "34 Adjusted Peripheral T1                                  P_T1        71   \n",
       "35 Peripheral T1/ED %                                      P_T1ED      71   \n",
       "36 Adjusted Peripheral T2                                  P_T2        71   \n",
       "37 Peripheral T2/ED %                                      P_T2ED      71   \n",
       "38 Confidence Level of ED                                  QUALITY_ED  71   \n",
       "39 Entered Systolic Pressure                               SP          71   \n",
       "   mean1  mean2  meandiff std1  std2  p_value sig\n",
       "1  24.8   26.0   -1.2     14.7  14.6  0.220      \n",
       "2  138.5  141.9  -3.4     30.1  31.6  0.198      \n",
       "3  8.6    10.4   -1.8     6.3   7.9   0.001   ** \n",
       "4  570.8  602.5  -31.6    127.3 133.0 0.012   *  \n",
       "5  63.7   64.4   -0.7     4.1   3.8   0.097   .  \n",
       "6  74.2   77.8   -3.6     10.2  11.2  0.003   ** \n",
       "7  3215.4 3411.3 -195.9   507.8 538.6 0.000   ***\n",
       "8  36.3   35.6   0.7      4.1   3.8   0.087   .  \n",
       "9  98.3   104.5  -6.2     14.7  16.1  0.000   ***\n",
       "10 89.0   93.8   -4.8     12.2  13.0  0.000   ***\n",
       "11 98.3   103.9  -5.6     13.2  14.0  0.000   ***\n",
       "12 24.3   26.2   -1.9     6.3   6.1   0.012   *  \n",
       "13 106.9  114.3  -7.4     16.0  17.6  0.000   ***\n",
       "14 887.2  927.1  -39.9    143.0 152.9 0.006   *  \n",
       "15 32.9   36.7   -3.7     8.8   10.6  0.000   ***\n",
       "16 107.0  114.4  -7.4     16.0  17.6  0.000   ***\n",
       "17 154.2  156.5  -2.3     28.5  27.4  0.430      \n",
       "18 106.5  108.3  -1.8     12.0  12.6  0.319      \n",
       "19 33.9   33.5   0.4      4.6   4.0   0.454      \n",
       "20 223.8  230.0  -6.2     24.4  26.8  0.022   *  \n",
       "21 70.6   70.7   -0.1     4.9   4.3   0.790      \n",
       "22 2124.2 2215.8 -91.7    362.2 363.0 0.005   *  \n",
       "23 72.9   76.7   -3.8     10.2  11.2  0.002   ** \n",
       "24 316.4  324.7  -8.3     22.5  26.1  0.001   ** \n",
       "25 69.2   66.4   2.8      10.7  10.6  0.011   *  \n",
       "26 79.7   82.9   -3.2     22.6  27.1  0.185      \n",
       "27 72.9   76.7   -3.8     10.2  11.2  0.002   ** \n",
       "28 90.7   96.1   -5.5     13.6  14.9  0.000   ***\n",
       "29 662.1  685.4  -23.4    170.8 184.1 0.243      \n",
       "30 89.0   93.8   -4.8     12.2  13.0  0.000   ***\n",
       "31 115.9  122.4  -6.5     16.3  17.3  0.000   ***\n",
       "32 106.4  114.0  -7.6     17.6  19.4  0.000   ***\n",
       "33 116.9  124.0  -7.1     16.6  17.6  0.000   ***\n",
       "34 107.7  109.5  -1.7     14.0  14.1  0.381      \n",
       "35 34.1   33.8   0.2      4.4   4.5   0.720      \n",
       "36 213.9  218.5  -4.6     23.2  20.2  0.135      \n",
       "37 67.6   67.4   0.2      5.6   4.9   0.790      \n",
       "38 0.1    0.0    0.0      0.3   0.1   0.321      \n",
       "39 116.9  124.0  -7.1     16.6  17.6  0.000   ***"
      ]
     },
     "metadata": {},
     "output_type": "display_data"
    }
   ],
   "source": [
    "compare( full_db, 'SphsecondM_', 'SphPWAFirstM_')"
   ]
  }
 ],
 "metadata": {
  "kernelspec": {
   "display_name": "R",
   "language": "R",
   "name": "ir"
  },
  "language_info": {
   "codemirror_mode": "r",
   "file_extension": ".r",
   "mimetype": "text/x-r-source",
   "name": "R",
   "pygments_lexer": "r",
   "version": "3.4.1"
  }
 },
 "nbformat": 4,
 "nbformat_minor": 2
}
